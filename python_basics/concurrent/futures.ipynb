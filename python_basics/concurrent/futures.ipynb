{
 "cells": [
  {
   "cell_type": "code",
   "execution_count": null,
   "metadata": {},
   "outputs": [],
   "source": [
    "from concurrent.futures import Future\n",
    "\n",
    "\n",
    "future = Future()\n",
    "\n",
    "\n",
    "def callback(future):\n",
    "    print(\"当set_result的时候,执行回调，我也可以拿到返回值：\", future.result())\n",
    "\n",
    "\n",
    "future.add_done_callback(callback)\n",
    "# 当future执行set_result时,会触发回调函数的执行\n",
    "future.set_result(\"return value\")"
   ]
  }
 ],
 "metadata": {
  "kernelspec": {
   "display_name": "Python 3",
   "language": "python",
   "name": "python3"
  },
  "language_info": {
   "codemirror_mode": {
    "name": "ipython",
    "version": 3
   },
   "file_extension": ".py",
   "mimetype": "text/x-python",
   "name": "python",
   "nbconvert_exporter": "python",
   "pygments_lexer": "ipython3",
   "version": "3.10.11"
  }
 },
 "nbformat": 4,
 "nbformat_minor": 2
}
