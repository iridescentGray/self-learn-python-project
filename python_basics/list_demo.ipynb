{
 "cells": [
  {
   "cell_type": "markdown",
   "metadata": {},
   "source": [
    "#  list flat\n",
    "扁平化"
   ]
  },
  {
   "cell_type": "code",
   "execution_count": 1,
   "metadata": {},
   "outputs": [
    {
     "data": {
      "text/plain": [
       "[1, [[[[3, 3], 5]]], [[[[[[[[[[[[[6]]]]], 8]]], 'aaa']]]], 250]]"
      ]
     },
     "execution_count": 1,
     "metadata": {},
     "output_type": "execute_result"
    }
   ],
   "source": [
    "# 期待扁平化为: [1, 3, 3, 5, 6, 8, \"aaa\", 250]\n",
    "lst = [1, [[[[3, 3], 5]]], [[[[[[[[[[[[[6]]]]], 8]]], \"aaa\"]]]], 250]]\n",
    "\n",
    "lst"
   ]
  },
  {
   "cell_type": "code",
   "execution_count": 2,
   "metadata": {},
   "outputs": [
    {
     "name": "stdout",
     "output_type": "stream",
     "text": [
      "[1, 3, 3, 5, 6, 8, 'aaa', 250]\n"
     ]
    }
   ],
   "source": [
    "def flat(l: list):\n",
    "    for _ in l:\n",
    "        if isinstance(_, list):\n",
    "            yield from flat(_)\n",
    "        else:\n",
    "            yield _\n",
    "\n",
    "print([_ for _ in flat(lst)])"
   ]
  },
  {
   "cell_type": "code",
   "execution_count": null,
   "metadata": {},
   "outputs": [],
   "source": []
  }
 ],
 "metadata": {
  "kernelspec": {
   "display_name": ".venv",
   "language": "python",
   "name": "python3"
  },
  "language_info": {
   "codemirror_mode": {
    "name": "ipython",
    "version": 3
   },
   "file_extension": ".py",
   "mimetype": "text/x-python",
   "name": "python",
   "nbconvert_exporter": "python",
   "pygments_lexer": "ipython3",
   "version": "3.11.8"
  }
 },
 "nbformat": 4,
 "nbformat_minor": 2
}
