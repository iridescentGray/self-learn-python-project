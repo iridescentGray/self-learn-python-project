{
 "cells": [
  {
   "cell_type": "markdown",
   "metadata": {},
   "source": [
    "# next()的使用技巧\n",
    "\n",
    "- next(iterator, default)\n",
    "- 调用 iterator 的 **next**() 方法获取下一个元素。如果迭代器耗尽，则返回给定的 default，如果没有默认值则触发 StopIteration。\n"
   ]
  },
  {
   "cell_type": "markdown",
   "metadata": {},
   "source": [
    "# findAny\n",
    "\n",
    "- 从列表中，找出某个值的索引，不存在则返回 None\n",
    "  - 虽然 python 没有直接提供类似的功能，但是可以用 next + 生成器模拟\n"
   ]
  },
  {
   "cell_type": "code",
   "execution_count": 1,
   "metadata": {},
   "outputs": [
    {
     "data": {
      "text/plain": [
       "4"
      ]
     },
     "execution_count": 1,
     "metadata": {},
     "output_type": "execute_result"
    }
   ],
   "source": [
    "find_target = 8\n",
    "objects_list = [2, 9, 3, 4, 8, 5, 6, 7, 8]\n",
    "\n",
    "# 寻找匹配的对象和索引\n",
    "match_index = next(\n",
    "    (index for index, obj in enumerate(objects_list) if obj == find_target), None\n",
    ")\n",
    "match_index"
   ]
  }
 ],
 "metadata": {
  "kernelspec": {
   "display_name": "Python 3",
   "language": "python",
   "name": "python3"
  },
  "language_info": {
   "codemirror_mode": {
    "name": "ipython",
    "version": 3
   },
   "file_extension": ".py",
   "mimetype": "text/x-python",
   "name": "python",
   "nbconvert_exporter": "python",
   "pygments_lexer": "ipython3",
   "version": "3.10.11"
  }
 },
 "nbformat": 4,
 "nbformat_minor": 2
}
