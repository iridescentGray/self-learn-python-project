{
 "cells": [
  {
   "cell_type": "markdown",
   "metadata": {},
   "source": [
    "# 动态创建/动态导入模块\n",
    "我们一般都会使用 import 导入模块，但有些场景下 import 难以满足我们的需要 (比如需要动态加载)"
   ]
  },
  {
   "cell_type": "markdown",
   "metadata": {},
   "source": [
    "##  \\_\\_import\\_\\_\n",
    "\n",
    "不建议使用这个函数，因为它是专门给解释器用的"
   ]
  },
  {
   "cell_type": "code",
   "execution_count": 8,
   "metadata": {},
   "outputs": [
    {
     "name": "stdout",
     "output_type": "stream",
     "text": [
      "<module 'os' (frozen)>\n",
      "<module 'os' (frozen)>\n",
      "<module 'ntpath' (frozen)>\n"
     ]
    }
   ],
   "source": [
    "# import os 等价于如下方式\n",
    "os = __import__(\"os\")\n",
    "print(os)\n",
    "\n",
    "# 不支持多级导入(无效)\n",
    "path = __import__(\"os.path\")\n",
    "print(path)\n",
    "\n",
    "# 如果想导入子模块，需要一个额外的参数\n",
    "path = __import__(\"os.path\", fromlist=[\"\"])\n",
    "print(path)"
   ]
  },
  {
   "cell_type": "markdown",
   "metadata": {},
   "source": [
    "## importlib.import_module"
   ]
  },
  {
   "cell_type": "code",
   "execution_count": 9,
   "metadata": {},
   "outputs": [
    {
     "name": "stdout",
     "output_type": "stream",
     "text": [
      "<module 'os' (frozen)>\n",
      "\\\n",
      "<module 'ntpath' (frozen)>\n"
     ]
    }
   ],
   "source": [
    "import importlib\n",
    "os = importlib.import_module(\"os\")\n",
    "print(os)\n",
    "print(os.sep) # 调用动态导入的模块的内容\n",
    "\n",
    "path = importlib.import_module(\"os.path\")\n",
    "print(path)"
   ]
  },
  {
   "cell_type": "markdown",
   "metadata": {},
   "source": [
    "## importlib.import_module"
   ]
  },
  {
   "cell_type": "code",
   "execution_count": 10,
   "metadata": {},
   "outputs": [
    {
     "name": "stdout",
     "output_type": "stream",
     "text": [
      "a_model.py run\n",
      "<module '我是 a_model 模块' from 'd:\\\\project\\\\python\\\\self-learn-python-project\\\\python_basics\\\\package_demo\\\\package_dynamic_import_or_create\\\\a_model.py'>\n"
     ]
    }
   ],
   "source": [
    "from importlib.machinery import (\n",
    "    SourceFileLoader,  # 源文件\n",
    "    SourcelessFileLoader,  # pyc 文件\n",
    "    ExtensionFileLoader,  # 扩展文件 例如pyd\n",
    ")\n",
    "\n",
    "# 接收两个参数，参数一：给模块起个名字，参数二：文件路径\n",
    "a_model = SourceFileLoader(\n",
    "    \"我是 a_model 模块\", os.path.join(os.path.abspath(\".\"), \"a_model.py\")\n",
    ").load_module()\n",
    "print(a_model)"
   ]
  },
  {
   "cell_type": "markdown",
   "metadata": {},
   "source": [
    "## types.ModuleType"
   ]
  },
  {
   "cell_type": "code",
   "execution_count": 11,
   "metadata": {},
   "outputs": [
    {
     "name": "stdout",
     "output_type": "stream",
     "text": [
      "<module '我是 A' from '凭空创建'\n"
     ]
    }
   ],
   "source": [
    "from types import ModuleType\n",
    "\n",
    "\n",
    "class A(ModuleType):\n",
    "    def __init__(self, name):\n",
    "        super(A, self).__init__(name)\n",
    "\n",
    "    def __str__(self):\n",
    "        return f\"<module '{self.__name__}' from '凭空创建'\"\n",
    "\n",
    "\n",
    "a = A(\"我是 A\")\n",
    "print(a)"
   ]
  },
  {
   "cell_type": "code",
   "execution_count": 12,
   "metadata": {},
   "outputs": [
    {
     "name": "stdout",
     "output_type": "stream",
     "text": [
      "<module '我是 B'>\n"
     ]
    }
   ],
   "source": [
    "b = ModuleType(\"我是 B\")\n",
    "print(b) "
   ]
  },
  {
   "cell_type": "markdown",
   "metadata": {},
   "source": [
    "## globals\n",
    "以字典类型返回当前位置的全部全局变量"
   ]
  },
  {
   "cell_type": "code",
   "execution_count": 1,
   "metadata": {},
   "outputs": [
    {
     "name": "stdout",
     "output_type": "stream",
     "text": [
      "<class 'type'>\n",
      "<class '__main__.Test'>\n",
      "test class is bbbbbb\n"
     ]
    }
   ],
   "source": [
    "class Test:\n",
    "    def __init__(self, b) -> None:\n",
    "        self.b = b\n",
    "        pass\n",
    "\n",
    "    def __repr__(self) -> str:\n",
    "        return f\"test class is {self.b}\"\n",
    "\n",
    "# 从globals获取找到对应的class，并创建 \n",
    "necessary_class = globals()[\"Test\"]\n",
    "instance = necessary_class(\"bbbbbb\")\n",
    "\n",
    "print(type(necessary_class))\n",
    "print(type(instance))\n",
    "print(instance)"
   ]
  },
  {
   "cell_type": "code",
   "execution_count": 3,
   "metadata": {},
   "outputs": [
    {
     "name": "stdout",
     "output_type": "stream",
     "text": [
      "<class 'type'>\n",
      "<class 'datetime.datetime'>\n",
      "2023-12-29 14:29:57.133361\n"
     ]
    }
   ],
   "source": [
    "from datetime import datetime\n",
    "# 从gloable中获取导入的class并创建 \n",
    "necessary_class = globals()[\"datetime\"]\n",
    "instance = necessary_class.now()\n",
    "\n",
    "print(type(necessary_class))\n",
    "print(type(instance))\n",
    "print(instance)"
   ]
  }
 ],
 "metadata": {
  "kernelspec": {
   "display_name": "Python 3",
   "language": "python",
   "name": "python3"
  },
  "language_info": {
   "codemirror_mode": {
    "name": "ipython",
    "version": 3
   },
   "file_extension": ".py",
   "mimetype": "text/x-python",
   "name": "python",
   "nbconvert_exporter": "python",
   "pygments_lexer": "ipython3",
   "version": "3.11.7"
  }
 },
 "nbformat": 4,
 "nbformat_minor": 2
}
