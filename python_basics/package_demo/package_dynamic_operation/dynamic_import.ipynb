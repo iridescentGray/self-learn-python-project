{
 "cells": [
  {
   "cell_type": "markdown",
   "metadata": {},
   "source": [
    "# 动态导入模块\n",
    "我们一般都会使用 import 导入模块，但有些场景下 import 难以满足我们的需要 (比如需要动态加载)"
   ]
  },
  {
   "cell_type": "markdown",
   "metadata": {},
   "source": [
    "##  \\_\\_import\\_\\_\n",
    "\n",
    "不建议使用这个函数，因为它是专门给解释器用的"
   ]
  },
  {
   "cell_type": "code",
   "execution_count": 3,
   "metadata": {},
   "outputs": [
    {
     "name": "stdout",
     "output_type": "stream",
     "text": [
      "<module 'os' (frozen)>\n",
      "<module 'os' (frozen)>\n",
      "<module 'ntpath' (frozen)>\n"
     ]
    }
   ],
   "source": [
    "# import os 等价于如下方式\n",
    "os = __import__(\"os\")\n",
    "print(os)\n",
    "\n",
    "# 不支持多级导入(无效)\n",
    "path = __import__(\"os.path\")\n",
    "print(path)\n",
    "\n",
    "# 如果想导入子模块，需要一个额外的参数\n",
    "path = __import__(\"os.path\", fromlist=[\"\"])\n",
    "print(path)"
   ]
  },
  {
   "cell_type": "markdown",
   "metadata": {},
   "source": [
    "## importlib.import_module"
   ]
  },
  {
   "cell_type": "code",
   "execution_count": 4,
   "metadata": {},
   "outputs": [
    {
     "name": "stdout",
     "output_type": "stream",
     "text": [
      "<module 'os' (frozen)>\n",
      "\\\n",
      "<module 'ntpath' (frozen)>\n"
     ]
    }
   ],
   "source": [
    "import importlib\n",
    "os = importlib.import_module(\"os\")\n",
    "print(os)\n",
    "print(os.sep) # 调用动态导入的模块的内容\n",
    "\n",
    "path = importlib.import_module(\"os.path\")\n",
    "print(path)"
   ]
  },
  {
   "cell_type": "markdown",
   "metadata": {},
   "source": [
    "## SourceFileLoader"
   ]
  },
  {
   "cell_type": "code",
   "execution_count": 5,
   "metadata": {},
   "outputs": [
    {
     "name": "stdout",
     "output_type": "stream",
     "text": [
      "a_model.py run\n",
      "<module '我是 a_model 模块' from 'e:\\\\project\\\\python_new\\\\self\\\\self-learn-python-project\\\\python_basics\\\\package_demo\\\\package_dynamic_operation\\\\a_model.py'>\n"
     ]
    }
   ],
   "source": [
    "from importlib.machinery import (\n",
    "    SourceFileLoader,  # 源文件\n",
    "    SourcelessFileLoader,  # pyc 文件\n",
    "    ExtensionFileLoader,  # 扩展文件 例如pyd\n",
    ")\n",
    "\n",
    "# 接收两个参数，参数一：给模块起个名字，参数二：文件路径\n",
    "a_model = SourceFileLoader(\n",
    "    \"我是 a_model 模块\", os.path.join(os.path.abspath(\".\"), \"a_model.py\")\n",
    ").load_module()\n",
    "print(a_model)"
   ]
  },
  {
   "cell_type": "markdown",
   "metadata": {},
   "source": [
    "## globals\n",
    "以字典类型返回当前位置的全部全局变量"
   ]
  },
  {
   "cell_type": "code",
   "execution_count": 2,
   "metadata": {},
   "outputs": [
    {
     "name": "stdout",
     "output_type": "stream",
     "text": [
      "<class 'type'>\n",
      "<class '__main__.Test'>\n",
      "test class is bbbbbb\n"
     ]
    }
   ],
   "source": [
    "class Test:\n",
    "    def __init__(self, b) -> None:\n",
    "        self.b = b\n",
    "        pass\n",
    "\n",
    "    def __repr__(self) -> str:\n",
    "        return f\"test class is {self.b}\"\n",
    "\n",
    "# 从globals获取找到对应的class，并创建\n",
    "necessary_class = globals()[\"Test\"]\n",
    "print(type(necessary_class))\n",
    "\n",
    "instance = necessary_class(\"bbbbbb\")\n",
    "print(type(instance))\n",
    "print(instance)"
   ]
  },
  {
   "cell_type": "code",
   "execution_count": 7,
   "metadata": {},
   "outputs": [
    {
     "name": "stdout",
     "output_type": "stream",
     "text": [
      "<class 'type'>\n",
      "<class 'datetime.datetime'>\n",
      "2024-07-10 16:37:01.445312\n"
     ]
    }
   ],
   "source": [
    "from datetime import datetime\n",
    "# 从gloable中获取导入的class并创建 \n",
    "necessary_class = globals()[\"datetime\"]\n",
    "instance = necessary_class.now()\n",
    "\n",
    "print(type(necessary_class))\n",
    "print(type(instance))\n",
    "print(instance)"
   ]
  },
  {
   "cell_type": "markdown",
   "metadata": {},
   "source": [
    "## getattr\n",
    "获取其他包里的类/模块"
   ]
  },
  {
   "cell_type": "code",
   "execution_count": 6,
   "metadata": {},
   "outputs": [
    {
     "name": "stdout",
     "output_type": "stream",
     "text": [
      "<class 'module'>\n",
      "<class 'type'>\n"
     ]
    }
   ],
   "source": [
    "import requests\n",
    "print(type(getattr(requests, \"logging\"))) # 获取模块\n",
    "print(type(getattr(requests, \"HTTPError\")))  # 获取类"
   ]
  }
 ],
 "metadata": {
  "kernelspec": {
   "display_name": "Python 3",
   "language": "python",
   "name": "python3"
  },
  "language_info": {
   "codemirror_mode": {
    "name": "ipython",
    "version": 3
   },
   "file_extension": ".py",
   "mimetype": "text/x-python",
   "name": "python",
   "nbconvert_exporter": "python",
   "pygments_lexer": "ipython3",
   "version": "3.11.8"
  }
 },
 "nbformat": 4,
 "nbformat_minor": 2
}
