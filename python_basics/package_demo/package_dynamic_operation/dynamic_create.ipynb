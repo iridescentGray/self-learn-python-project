{
 "cells": [
  {
   "cell_type": "markdown",
   "metadata": {},
   "source": [
    "# 动态创建模块\n"
   ]
  },
  {
   "cell_type": "markdown",
   "metadata": {},
   "source": [
    "## types.ModuleType"
   ]
  },
  {
   "cell_type": "code",
   "execution_count": 1,
   "metadata": {},
   "outputs": [
    {
     "name": "stdout",
     "output_type": "stream",
     "text": [
      "<module '我是 A' from '凭空创建'\n"
     ]
    }
   ],
   "source": [
    "from types import ModuleType\n",
    "\n",
    "\n",
    "class A(ModuleType):\n",
    "    def __init__(self, name):\n",
    "        super(A, self).__init__(name)\n",
    "\n",
    "    def __str__(self):\n",
    "        return f\"<module '{self.__name__}' from '凭空创建'\"\n",
    "\n",
    "\n",
    "a = A(\"我是 A\")\n",
    "print(a)"
   ]
  },
  {
   "cell_type": "code",
   "execution_count": 2,
   "metadata": {},
   "outputs": [
    {
     "name": "stdout",
     "output_type": "stream",
     "text": [
      "<module '我是 B'>\n"
     ]
    }
   ],
   "source": [
    "b = ModuleType(\"我是 B\")\n",
    "print(b) "
   ]
  }
 ],
 "metadata": {
  "kernelspec": {
   "display_name": "Python 3",
   "language": "python",
   "name": "python3"
  },
  "language_info": {
   "codemirror_mode": {
    "name": "ipython",
    "version": 3
   },
   "file_extension": ".py",
   "mimetype": "text/x-python",
   "name": "python",
   "nbconvert_exporter": "python",
   "pygments_lexer": "ipython3",
   "version": "3.11.8"
  }
 },
 "nbformat": 4,
 "nbformat_minor": 2
}
