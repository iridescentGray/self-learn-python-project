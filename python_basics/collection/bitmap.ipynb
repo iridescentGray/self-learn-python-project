{
 "cells": [
  {
   "cell_type": "markdown",
   "metadata": {},
   "source": [
    "# BitMap\n",
    "\n",
    "假设当前你的服务有一千万个用户，每个用户都有一个整型ID，你要能够实时统计当前在线的人数,这时候适合用bitmap\n",
    "\n",
    "假设uid采用 long存储，那么需要64 个位。\n",
    "\n",
    "假设 ID 为 20 的用户登录了，我们就把该整数的第 21 个位设置为 1 即可。"
   ]
  },
  {
   "cell_type": "code",
   "execution_count": null,
   "metadata": {},
   "outputs": [],
   "source": [
    "class BitMap:\n",
    "\n",
    "    def __init__(self, max_count: int):\n",
    "        \"\"\"\n",
    "        :param max_count: 最多容纳多少个用户\n",
    "        \"\"\"\n",
    "        # 申请指定容量的列表，每个元素用 64 字节，右移位6次代表 2的6次方=64\n",
    "        self.__array = [0] * ((max_count >> 6) + 1)\n",
    "\n",
    "    def put_user(self, user_id: int):\n",
    "        \"\"\"\n",
    "        将用户 ID 加入的 BitMap 中\n",
    "        :param user_id:\n",
    "        :return:\n",
    "        \"\"\"\n",
    "        # 计算出所在的索引\n",
    "        # 然后找到指定的位，将该位更新为 1\n",
    "        self.__array[user_id >> 6] |= 1 << (user_id & 63)\n",
    "\n",
    "    def get_user(self, user_id):\n",
    "        \"\"\"\n",
    "        根据 user_id 获取用户，或者说判断用户是否登陆\n",
    "        :param user_id:\n",
    "        :return:\n",
    "        \"\"\"\n",
    "        # 计算出所在的索引，判断指定的位是否为 1\n",
    "        return self.__array[user_id >> 6] >> (user_id & 63) & 1 == 1\n",
    "\n",
    "    def delete_user(self, user_id):\n",
    "        \"\"\"\n",
    "        根据 user_id 删除用户\n",
    "        :param user_id:\n",
    "        :return:\n",
    "        \"\"\"\n",
    "        self.__array[user_id >> 6] &= ~(1 << (user_id & 63))\n",
    "\n",
    "    def online_user_count(self):\n",
    "        \"\"\"\n",
    "        返回当前在线用户总数\n",
    "        也就是统计每一个元素中 1 的位数，然后相加\n",
    "        :return:\n",
    "        \"\"\"\n",
    "        count = 0\n",
    "        for item in self.__array:\n",
    "            count += bin(item).count(\"1\")\n",
    "        return count\n",
    "\n"
   ]
  },
  {
   "cell_type": "code",
   "execution_count": null,
   "metadata": {},
   "outputs": [],
   "source": [
    "bm = BitMap(1000_0000) # 大小-1千万"
   ]
  },
  {
   "cell_type": "code",
   "execution_count": null,
   "metadata": {},
   "outputs": [],
   "source": [
    "print(bm.get_user(213456))  "
   ]
  },
  {
   "cell_type": "code",
   "execution_count": null,
   "metadata": {},
   "outputs": [],
   "source": [
    "bm.put_user(213456)\n",
    "print(bm.get_user(213456))"
   ]
  },
  {
   "cell_type": "code",
   "execution_count": null,
   "metadata": {},
   "outputs": [],
   "source": [
    "print(bm.online_user_count())  "
   ]
  },
  {
   "cell_type": "code",
   "execution_count": null,
   "metadata": {},
   "outputs": [],
   "source": [
    "bm.delete_user(213456)\n",
    "print(bm.get_user(213456)) \n",
    "print(bm.online_user_count())"
   ]
  }
 ],
 "metadata": {
  "kernelspec": {
   "display_name": "Python 3",
   "language": "python",
   "name": "python3"
  },
  "language_info": {
   "codemirror_mode": {
    "name": "ipython",
    "version": 3
   },
   "file_extension": ".py",
   "mimetype": "text/x-python",
   "name": "python",
   "nbconvert_exporter": "python",
   "pygments_lexer": "ipython3",
   "version": "3.11.6"
  }
 },
 "nbformat": 4,
 "nbformat_minor": 2
}
