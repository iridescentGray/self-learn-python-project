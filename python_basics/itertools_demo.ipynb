{
 "cells": [
  {
   "cell_type": "code",
   "execution_count": 1,
   "metadata": {},
   "outputs": [],
   "source": [
    "import itertools"
   ]
  },
  {
   "cell_type": "markdown",
   "metadata": {},
   "source": [
    "# chain\n",
    "扁平化"
   ]
  },
  {
   "cell_type": "code",
   "execution_count": 2,
   "metadata": {},
   "outputs": [
    {
     "data": {
      "text/plain": [
       "[[{'_id': 1, 'name': '123'}, {'_id': 2, 'name': '123'}],\n",
       " [{'_id': 3, 'name': '123'}, {'_id': 4, 'name': '123'}]]"
      ]
     },
     "execution_count": 2,
     "metadata": {},
     "output_type": "execute_result"
    }
   ],
   "source": [
    "ma = {\n",
    "    \"project\": [\n",
    "        {\n",
    "            \"_id\": 1,\n",
    "            \"app_system\": [\n",
    "                {\n",
    "                    \"_id\": 1,\n",
    "                    \"name\": \"123\",\n",
    "                },\n",
    "                {\n",
    "                    \"_id\": 2,\n",
    "                    \"name\": \"123\",\n",
    "                },\n",
    "            ],\n",
    "        },\n",
    "        {\n",
    "            \"_id\": 2,\n",
    "            \"app_system\": [\n",
    "                {\n",
    "                    \"_id\": 3,\n",
    "                    \"name\": \"123\",\n",
    "                },\n",
    "                {\n",
    "                    \"_id\": 4,\n",
    "                    \"name\": \"123\",\n",
    "                },\n",
    "            ],\n",
    "        }\n",
    "    ]\n",
    "}\n",
    "app_system_data=[i[\"app_system\"] for i in ma[\"project\"]]\n",
    "app_system_data"
   ]
  },
  {
   "cell_type": "code",
   "execution_count": 3,
   "metadata": {},
   "outputs": [
    {
     "data": {
      "text/plain": [
       "[{'_id': 1, 'name': '123'},\n",
       " {'_id': 2, 'name': '123'},\n",
       " {'_id': 3, 'name': '123'},\n",
       " {'_id': 4, 'name': '123'}]"
      ]
     },
     "execution_count": 3,
     "metadata": {},
     "output_type": "execute_result"
    }
   ],
   "source": [
    "after_chain=list(itertools.chain(*app_system_data))\n",
    "after_chain"
   ]
  }
 ],
 "metadata": {
  "kernelspec": {
   "display_name": ".venv",
   "language": "python",
   "name": "python3"
  },
  "language_info": {
   "codemirror_mode": {
    "name": "ipython",
    "version": 3
   },
   "file_extension": ".py",
   "mimetype": "text/x-python",
   "name": "python",
   "nbconvert_exporter": "python",
   "pygments_lexer": "ipython3",
   "version": "3.12.5"
  }
 },
 "nbformat": 4,
 "nbformat_minor": 2
}
