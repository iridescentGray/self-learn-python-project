{
 "cells": [
  {
   "cell_type": "markdown",
   "metadata": {},
   "source": [
    "# pickle\n"
   ]
  },
  {
   "cell_type": "markdown",
   "metadata": {},
   "source": [
    "# json"
   ]
  },
  {
   "cell_type": "markdown",
   "metadata": {},
   "source": [
    "# dbm\n",
    "* 用于小型程序中,不需要关系型数据库时,可以方便的用持久字典来存储键值对.\n",
    "* dbm和python中的字典非常类似。\n",
    "* dbm的键和值都必须是str或者bytes类型.\n",
    "\n",
    "\n",
    "dbm.open,会打开（创建）一个文件,第一个参数直接传入文件名,第二个参数表示模式。常见的模式如下:\n",
    "* r:可读,默认就是这个模式。\n",
    "* w:可读可写。但是r、w,都必须确保文件已经存在,否则报错。\n",
    "* c:可读可写,文件不存在时会创建(平常的模式一般都会选择 c)\n",
    "* n:可读可写,但总是会创建一个新的文件,也就是说如果创建同名文件,那么之前的内容都会被清空,也就是起不到追加的效果。"
   ]
  },
  {
   "cell_type": "code",
   "execution_count": null,
   "metadata": {},
   "outputs": [],
   "source": [
    "import dbm"
   ]
  },
  {
   "cell_type": "code",
   "execution_count": null,
   "metadata": {},
   "outputs": [],
   "source": [
    "\n",
    "db = dbm.open(\"store\", \"c\")\n",
    "db[\"name\"] = \"satori\"\n",
    "db[\"age\"] = \"16\"\n",
    "db[\"gender\"] = \"f\"\n",
    "db[\"anime\"] = \"11111111111\"\n",
    " \n",
    "db.close()"
   ]
  },
  {
   "cell_type": "code",
   "execution_count": null,
   "metadata": {},
   "outputs": [],
   "source": [
    "db = dbm.open(\"store\", \"c\")\n",
    "print(db.keys())\n",
    "\n",
    "db[\"anime\"] "
   ]
  },
  {
   "cell_type": "code",
   "execution_count": null,
   "metadata": {},
   "outputs": [],
   "source": [
    "for key in db.keys():\n",
    "    print(f\"key={key}, value={db[key]}\")"
   ]
  },
  {
   "cell_type": "markdown",
   "metadata": {},
   "source": [
    "# shelve\n",
    "\n",
    "* 可以持久化任意对象,功能远比dbm强大\n",
    "\n",
    "有一点值得注意：\n",
    "* shelve不记录对象的修改(例如 向保存在shelve中的list调用append(),append的内容不会被记录)\n",
    "* 如果想把变更记录到shelve中,需要用重新赋值(=),或者给shelve指定writeback参数(会有额外的内存消耗,不推荐)"
   ]
  },
  {
   "cell_type": "code",
   "execution_count": null,
   "metadata": {},
   "outputs": [],
   "source": [
    "import shelve"
   ]
  },
  {
   "cell_type": "markdown",
   "metadata": {},
   "source": [
    "## 保存标准库对象"
   ]
  },
  {
   "cell_type": "code",
   "execution_count": null,
   "metadata": {},
   "outputs": [],
   "source": [
    "# 参数flag默认是c,因此我们只需要传入文件名就可以了，这个是自动追加在后面的\n",
    "sh = shelve.open(\"shelve1\")\n",
    "\n",
    "sh[\"dict\"] = {\"name\": \"satori\", \"age\": 16}\n",
    "sh[\"list\"] = [1, 2, 3, 4]\n",
    "sh[\"set\"] = {1, 2, 3, 2}\n",
    "\n",
    "sh.close()  # 写完之后关闭文件(关闭之后就无法操作了)，刷到内存里面"
   ]
  },
  {
   "cell_type": "code",
   "execution_count": null,
   "metadata": {},
   "outputs": [],
   "source": [
    "sh2 = shelve.open(\"shelve1\")\n",
    "print(sh2[\"dict\"], sh2[\"dict\"].keys())\n",
    "print(sh2[\"list\"], sum(sh2[\"list\"]))\n",
    "print(sh2[\"set\"])\n",
    "print(type(sh2[\"set\"]))\n",
    "\n",
    "sh.close()"
   ]
  },
  {
   "cell_type": "markdown",
   "metadata": {},
   "source": [
    "## 保存自定义对象，反序列化后调用方法"
   ]
  },
  {
   "cell_type": "code",
   "execution_count": null,
   "metadata": {},
   "outputs": [],
   "source": [
    "sh2 = shelve.open(\"shelve2\")\n",
    "\n",
    "\n",
    "class A:\n",
    "    def __init__(self, name, age):\n",
    "        self.name = name\n",
    "        self.age = age\n",
    "\n",
    "    @property\n",
    "    def print_info(self):\n",
    "        return f\"my name is {self.name}, age is {self.age}\"\n",
    "\n",
    "\n",
    "a = A(\"satori\", 16)\n",
    "sh2[\"A\"] = A\n",
    "sh2[\"a\"] = a\n",
    "sh2.close()"
   ]
  },
  {
   "cell_type": "code",
   "execution_count": null,
   "metadata": {},
   "outputs": [],
   "source": [
    "sh2 = shelve.open(\"shelve2\")\n",
    "print(sh2[\"A\"](\"mashiro\", \"17\").print_info)\n",
    "print(sh2[\"a\"].print_info)"
   ]
  },
  {
   "cell_type": "markdown",
   "metadata": {},
   "source": [
    "## writeback---存储修改"
   ]
  },
  {
   "cell_type": "code",
   "execution_count": null,
   "metadata": {},
   "outputs": [],
   "source": [
    "sh = shelve.open(\"shelve3\")\n",
    "sh[\"list\"] = [1, 2, 3]\n",
    "sh.close()"
   ]
  },
  {
   "cell_type": "code",
   "execution_count": null,
   "metadata": {},
   "outputs": [],
   "source": [
    "# append无效,不会被保存\n",
    "sh = shelve.open(\"shelve3\")\n",
    "sh[\"list\"].append(\"xxxx\")\n",
    "sh.close()\n",
    "\n",
    "sh = shelve.open(\"shelve3\")\n",
    "print(sh[\"list\"]) "
   ]
  },
  {
   "cell_type": "code",
   "execution_count": null,
   "metadata": {},
   "outputs": [],
   "source": [
    "sh = shelve.open(\"shelve3\", writeback=True)\n",
    "sh[\"list\"].append(\"xxxx\")\n",
    "sh.close()\n",
    "\n",
    "sh = shelve.open(\"shelve3\")\n",
    "print(sh[\"list\"]) "
   ]
  }
 ],
 "metadata": {
  "kernelspec": {
   "display_name": "Python 3",
   "language": "python",
   "name": "python3"
  },
  "language_info": {
   "codemirror_mode": {
    "name": "ipython",
    "version": 3
   },
   "file_extension": ".py",
   "mimetype": "text/x-python",
   "name": "python",
   "nbconvert_exporter": "python",
   "pygments_lexer": "ipython3",
   "version": "3.12.0"
  }
 },
 "nbformat": 4,
 "nbformat_minor": 2
}
