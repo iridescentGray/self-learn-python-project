{
 "cells": [
  {
   "cell_type": "markdown",
   "metadata": {},
   "source": [
    "# pickle\n"
   ]
  },
  {
   "cell_type": "markdown",
   "metadata": {},
   "source": [
    "# json\n"
   ]
  },
  {
   "cell_type": "markdown",
   "metadata": {},
   "source": [
    "# dbm\n",
    "\n",
    "- 用于小型程序中,不需要关系型数据库时,可以方便的用持久字典来存储键值对.\n",
    "- dbm 和 python 中的字典非常类似。\n",
    "- dbm 的键和值都必须是 str 或者 bytes 类型.\n",
    "\n",
    "dbm.open,会打开（创建）一个文件,第一个参数直接传入文件名,第二个参数表示模式。常见的模式如下:\n",
    "\n",
    "- r:可读,默认就是这个模式。\n",
    "- w:可读可写。但是 r、w,都必须确保文件已经存在,否则报错。\n",
    "- c:可读可写,文件不存在时会创建(平常的模式一般都会选择 c)\n",
    "- n:可读可写,但总是会创建一个新的文件,也就是说如果创建同名文件,那么之前的内容都会被清空,也就是起不到追加的效果。\n"
   ]
  },
  {
   "cell_type": "code",
   "execution_count": null,
   "metadata": {},
   "outputs": [],
   "source": [
    "import dbm"
   ]
  },
  {
   "cell_type": "code",
   "execution_count": null,
   "metadata": {},
   "outputs": [],
   "source": [
    "db = dbm.open(\"store\", \"c\")\n",
    "db[\"name\"] = \"satori\"\n",
    "db[\"age\"] = \"16\"\n",
    "db[\"gender\"] = \"f\"\n",
    "db[\"anime\"] = \"11111111111\"\n",
    "\n",
    "db.close()"
   ]
  },
  {
   "cell_type": "code",
   "execution_count": null,
   "metadata": {},
   "outputs": [],
   "source": [
    "db = dbm.open(\"store\", \"c\")\n",
    "print(db.keys())\n",
    "\n",
    "db[\"anime\"]"
   ]
  },
  {
   "cell_type": "code",
   "execution_count": null,
   "metadata": {},
   "outputs": [],
   "source": [
    "for key in db.keys():\n",
    "    print(f\"key={key}, value={db[key]}\")"
   ]
  },
  {
   "cell_type": "markdown",
   "metadata": {},
   "source": [
    "# shelve\n",
    "\n",
    "- 可以持久化任意对象,功能远比 dbm 强大\n",
    "\n",
    "有一点值得注意：\n",
    "\n",
    "- shelve 不记录对象的修改(例如 向保存在 shelve 中的 list 调用 append(),append 的内容不会被记录)\n",
    "- 如果想把变更记录到 shelve 中,需要用重新赋值(=),或者给 shelve 指定 writeback 参数(会有额外的内存消耗,不推荐)\n"
   ]
  },
  {
   "cell_type": "code",
   "execution_count": null,
   "metadata": {},
   "outputs": [],
   "source": [
    "import shelve"
   ]
  },
  {
   "cell_type": "markdown",
   "metadata": {},
   "source": [
    "## 保存标准库对象\n"
   ]
  },
  {
   "cell_type": "code",
   "execution_count": null,
   "metadata": {},
   "outputs": [],
   "source": [
    "# 参数flag默认是c,因此我们只需要传入文件名就可以了，这个是自动追加在后面的\n",
    "sh = shelve.open(\"shelve1\")\n",
    "\n",
    "sh[\"dict\"] = {\"name\": \"satori\", \"age\": 16}\n",
    "sh[\"list\"] = [1, 2, 3, 4]\n",
    "sh[\"set\"] = {1, 2, 3, 2}\n",
    "\n",
    "sh.close()  # 写完之后关闭文件(关闭之后就无法操作了)，刷到内存里面"
   ]
  },
  {
   "cell_type": "code",
   "execution_count": null,
   "metadata": {},
   "outputs": [],
   "source": [
    "sh2 = shelve.open(\"shelve1\")\n",
    "print(sh2[\"dict\"], sh2[\"dict\"].keys())"
   ]
  },
  {
   "cell_type": "code",
   "execution_count": null,
   "metadata": {},
   "outputs": [],
   "source": [
    "print(sh2[\"list\"], sum(sh2[\"list\"]))"
   ]
  },
  {
   "cell_type": "code",
   "execution_count": null,
   "metadata": {},
   "outputs": [],
   "source": [
    "print(sh2[\"set\"])"
   ]
  },
  {
   "cell_type": "code",
   "execution_count": null,
   "metadata": {},
   "outputs": [],
   "source": [
    "print(type(sh2[\"set\"]))"
   ]
  },
  {
   "cell_type": "code",
   "execution_count": null,
   "metadata": {},
   "outputs": [],
   "source": [
    "sh.close()"
   ]
  },
  {
   "cell_type": "markdown",
   "metadata": {},
   "source": [
    "## 保存自定义对象，反序列化后调用方法\n"
   ]
  },
  {
   "cell_type": "code",
   "execution_count": null,
   "metadata": {},
   "outputs": [],
   "source": [
    "sh2 = shelve.open(\"shelve2\")\n",
    "\n",
    "\n",
    "class A:\n",
    "    def __init__(self, name, age):\n",
    "        self.name = name\n",
    "        self.age = age\n",
    "\n",
    "    @property\n",
    "    def print_info(self):\n",
    "        return f\"my name is {self.name}, age is {self.age}\"\n",
    "\n",
    "\n",
    "a = A(\"satori\", 16)\n",
    "sh2[\"A\"] = A\n",
    "sh2[\"a\"] = a\n",
    "sh2.close()"
   ]
  },
  {
   "cell_type": "code",
   "execution_count": null,
   "metadata": {},
   "outputs": [],
   "source": [
    "sh2 = shelve.open(\"shelve2\")\n",
    "print(sh2[\"A\"](\"mashiro\", \"17\").print_info)\n",
    "print(sh2[\"a\"].print_info)"
   ]
  },
  {
   "cell_type": "markdown",
   "metadata": {},
   "source": [
    "## writeback---存储修改\n"
   ]
  },
  {
   "cell_type": "code",
   "execution_count": null,
   "metadata": {},
   "outputs": [],
   "source": [
    "sh = shelve.open(\"shelve3\")\n",
    "sh[\"list\"] = [1, 2, 3]\n",
    "sh.close()"
   ]
  },
  {
   "cell_type": "code",
   "execution_count": null,
   "metadata": {},
   "outputs": [],
   "source": [
    "# append无效,不会被保存\n",
    "sh = shelve.open(\"shelve3\")\n",
    "sh[\"list\"].append(\"xxxx\")\n",
    "sh.close()\n",
    "\n",
    "sh = shelve.open(\"shelve3\")\n",
    "print(sh[\"list\"])"
   ]
  },
  {
   "cell_type": "code",
   "execution_count": null,
   "metadata": {},
   "outputs": [],
   "source": [
    "sh = shelve.open(\"shelve3\", writeback=True)\n",
    "sh[\"list\"].append(\"xxxx\")\n",
    "sh.close()\n",
    "\n",
    "sh = shelve.open(\"shelve3\")\n",
    "print(sh[\"list\"])"
   ]
  },
  {
   "cell_type": "markdown",
   "metadata": {},
   "source": [
    "## PersistentDict"
   ]
  },
  {
   "cell_type": "code",
   "execution_count": null,
   "metadata": {},
   "outputs": [],
   "source": [
    "import shelve\n",
    "\n",
    "class PersistentDict:\n",
    "    def __init__(self, filename):\n",
    "        self.filename = filename\n",
    "\n",
    "    def __enter__(self):\n",
    "        self.db = shelve.open(self.filename)\n",
    "        return self\n",
    "\n",
    "    def __exit__(self, exc_type, exc_value, traceback):\n",
    "        self.db.close()\n",
    "\n",
    "    def __getitem__(self, key):\n",
    "        return self.db[key]\n",
    "\n",
    "    def __setitem__(self, key, value):\n",
    "        self.db[key] = value\n",
    "\n",
    "    def __delitem__(self, key):\n",
    "        del self.db[key]\n",
    "\n",
    "    def __contains__(self, key):\n",
    "        return key in self.db\n",
    "\n",
    "    def keys(self):\n",
    "        return [key for key in self.db.keys()]\n",
    "\n",
    "    def values(self):\n",
    "        return [value for value in self.db.values()]\n",
    "\n",
    "    def items(self):\n",
    "        return {key: self.db[str(key)] for key in self.db.keys()}"
   ]
  },
  {
   "cell_type": "code",
   "execution_count": null,
   "metadata": {},
   "outputs": [],
   "source": [
    "with PersistentDict(\"mydict\") as mydict:\n",
    "    mydict[\"key1\"] = \"value1\"\n",
    "    mydict[\"key2\"] = \"value2\""
   ]
  },
  {
   "cell_type": "code",
   "execution_count": null,
   "metadata": {},
   "outputs": [],
   "source": [
    "with PersistentDict(\"mydict\") as mydict:\n",
    "    print(mydict[\"key1\"]) \n",
    "    print(mydict[\"key2\"]) "
   ]
  },
  {
   "cell_type": "code",
   "execution_count": null,
   "metadata": {},
   "outputs": [],
   "source": [
    "with PersistentDict(\"mydict\") as mydict:\n",
    "    print(mydict.items())  "
   ]
  },
  {
   "cell_type": "code",
   "execution_count": null,
   "metadata": {},
   "outputs": [],
   "source": [
    "with PersistentDict(\"mydict\") as mydict:\n",
    "    print(mydict.keys())"
   ]
  },
  {
   "cell_type": "code",
   "execution_count": null,
   "metadata": {},
   "outputs": [],
   "source": [
    "with PersistentDict(\"mydict\") as mydict:\n",
    "    print(mydict.values())"
   ]
  },
  {
   "cell_type": "markdown",
   "metadata": {},
   "source": [
    "## PersistentDict-Generic"
   ]
  },
  {
   "cell_type": "code",
   "execution_count": 1,
   "metadata": {},
   "outputs": [],
   "source": [
    "from typing import TypeVar, Generic, Dict\n",
    "import shelve\n",
    "\n",
    "# 定义键和值的类型变量\n",
    "K = TypeVar(\"K\")\n",
    "V = TypeVar(\"V\")\n",
    "\n",
    "\n",
    "# 定义持久化字典类，并添加范型\n",
    "class PersistentDict(Generic[K, V]):\n",
    "    def __init__(self, filename: str):\n",
    "        self.filename = filename\n",
    "\n",
    "    def __enter__(self) -> \"PersistentDict\":\n",
    "        self.db = shelve.open(self.filename)\n",
    "        return self\n",
    "\n",
    "    def __exit__(self, exc_type, exc_value, traceback):\n",
    "        self.db.close()\n",
    "\n",
    "    def __getitem__(self, key: K) -> V:\n",
    "        return self.db[str(key)]\n",
    "\n",
    "    def __setitem__(self, key: K, value: V):\n",
    "        self.db[str(key)] = value\n",
    "\n",
    "    def __delitem__(self, key: K):\n",
    "        del self.db[str(key)]\n",
    "\n",
    "    def __contains__(self, key: K) -> bool:\n",
    "        return str(key) in self.db\n",
    "\n",
    "    def keys(self) -> list[K]:\n",
    "        return [key for key in self.db.keys()]  # type: ignore\n",
    "\n",
    "    def values(self) -> list[V]:\n",
    "        return [value for value in self.db.values()]  # type: ignore\n",
    "\n",
    "    def items(self) -> dict[K, V]:\n",
    "        return {key: self.db[str(key)] for key in self.db.keys()}  # type: ignore"
   ]
  },
  {
   "cell_type": "code",
   "execution_count": 2,
   "metadata": {},
   "outputs": [],
   "source": [
    "with PersistentDict[int, str](\"persistent_dict\") as pd:\n",
    "    pd[1] = \"value1\"\n",
    "    pd[2] = \"value2\"\n",
    "    pd[3] = \"value3\"\n"
   ]
  },
  {
   "cell_type": "code",
   "execution_count": 3,
   "metadata": {},
   "outputs": [
    {
     "name": "stdout",
     "output_type": "stream",
     "text": [
      "{'2': 'value2', '1': 'value1', '3': 'value3'}\n"
     ]
    }
   ],
   "source": [
    "with PersistentDict[int, str](\"persistent_dict\") as pd:\n",
    "    print(pd.items())   "
   ]
  },
  {
   "cell_type": "code",
   "execution_count": 4,
   "metadata": {},
   "outputs": [
    {
     "name": "stdout",
     "output_type": "stream",
     "text": [
      "{'2': 'value2', '1': 'value1', '3': 'value3'}\n"
     ]
    }
   ],
   "source": [
    "with PersistentDict[int, str](\"persistent_dict\") as mydict:\n",
    "    print(mydict.items())  "
   ]
  },
  {
   "cell_type": "code",
   "execution_count": 5,
   "metadata": {},
   "outputs": [
    {
     "name": "stdout",
     "output_type": "stream",
     "text": [
      "['2', '1', '3']\n"
     ]
    }
   ],
   "source": [
    "with PersistentDict[int, str](\"persistent_dict\") as mydict:\n",
    "    print(mydict.keys())"
   ]
  },
  {
   "cell_type": "code",
   "execution_count": 6,
   "metadata": {},
   "outputs": [
    {
     "name": "stdout",
     "output_type": "stream",
     "text": [
      "['value2', 'value1', 'value3']\n"
     ]
    }
   ],
   "source": [
    "with PersistentDict[int, str](\"persistent_dict\") as mydict:\n",
    "    print(mydict.values())"
   ]
  }
 ],
 "metadata": {
  "kernelspec": {
   "display_name": "Python 3",
   "language": "python",
   "name": "python3"
  },
  "language_info": {
   "codemirror_mode": {
    "name": "ipython",
    "version": 3
   },
   "file_extension": ".py",
   "mimetype": "text/x-python",
   "name": "python",
   "nbconvert_exporter": "python",
   "pygments_lexer": "ipython3",
   "version": "3.11.8"
  }
 },
 "nbformat": 4,
 "nbformat_minor": 2
}
