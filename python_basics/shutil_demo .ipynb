{
 "cells": [
  {
   "cell_type": "markdown",
   "metadata": {},
   "source": [
    "# shutil \n",
    "* shutil 模块是 Python 内置的对文件、目录、压缩文件进行高级操作的模块\n",
    "* 该模块对文件的复制、删除和压缩等操作都提供了非常方便的支持"
   ]
  },
  {
   "cell_type": "markdown",
   "metadata": {},
   "source": [
    "注意:\n",
    "* shutil不能复制所有文件的元数据\n",
    "    1.  在POSIX 平台上不能复制文件的所有者和组、以及访问控制表\n",
    "    2.  在macOS 中不能复制文件类型和创建者\n",
    "    3.  在Windows 中不能复制文件的所有者、访问控制列表和备用数据流"
   ]
  },
  {
   "cell_type": "markdown",
   "metadata": {},
   "source": [
    "# copy -复制文件或目录\n",
    "\n",
    "* shutil.copy(src, dst, *, follow_symlinks=True)，参数含义如下：\n",
    "    * src：表示文件路径的字符串，表示源文件（注意：必须是文件，如果是目录则报出权限错误）\n",
    "    * dst：表示文件/目录(需要已经存)路径，那么会将 src 拷贝到该目录中；否则会创建相应的文件。\n",
    "    * follow_symlinks：表示是否遵循符号链接，为 False、并且 src 为软连接，则创建一个新的软连接"
   ]
  },
  {
   "cell_type": "code",
   "execution_count": 26,
   "metadata": {},
   "outputs": [
    {
     "data": {
      "text/plain": [
       "'__init__copy.py'"
      ]
     },
     "execution_count": 26,
     "metadata": {},
     "output_type": "execute_result"
    }
   ],
   "source": [
    "import shutil\n",
    "\n",
    "shutil.copy(\"__init__.py\", \"__init__copy.py\")"
   ]
  },
  {
   "cell_type": "code",
   "execution_count": 27,
   "metadata": {},
   "outputs": [
    {
     "data": {
      "text/plain": [
       "'./time\\\\__init__.py'"
      ]
     },
     "execution_count": 27,
     "metadata": {},
     "output_type": "execute_result"
    }
   ],
   "source": [
    "shutil.copy(\"__init__.py\", \"./time\")"
   ]
  },
  {
   "cell_type": "markdown",
   "metadata": {},
   "source": [
    "# copy2 -复制文件或目录\n",
    "\n",
    "* 类似于 copy()，区别在于 copy2还会尝试尽量保留文件的所有元数据\n",
    "* 不会由于无法保留文件元数据而引发异常"
   ]
  },
  {
   "cell_type": "code",
   "execution_count": 28,
   "metadata": {},
   "outputs": [
    {
     "data": {
      "text/plain": [
       "'__init__copy.py'"
      ]
     },
     "execution_count": 28,
     "metadata": {},
     "output_type": "execute_result"
    }
   ],
   "source": [
    "import shutil\n",
    "\n",
    "shutil.copy2(\"__init__.py\", \"__init__copy.py\")"
   ]
  },
  {
   "cell_type": "markdown",
   "metadata": {},
   "source": [
    "# copyfile -复制文件\n",
    "\n",
    "* 参数和 copy一致，只不过 copyflle 的 dst参数必须是具体文件,不能是path"
   ]
  },
  {
   "cell_type": "code",
   "execution_count": 29,
   "metadata": {},
   "outputs": [
    {
     "data": {
      "text/plain": [
       "'__init__copy.py'"
      ]
     },
     "execution_count": 29,
     "metadata": {},
     "output_type": "execute_result"
    }
   ],
   "source": [
    "import shutil\n",
    "\n",
    "shutil.copyfile(\"__init__.py\", \"__init__copy.py\")"
   ]
  },
  {
   "cell_type": "markdown",
   "metadata": {},
   "source": [
    "# copytree -复制文件目录树\n",
    "\n",
    "递归复制整个目录，并返回目标目录的路径"
   ]
  },
  {
   "cell_type": "markdown",
   "metadata": {},
   "source": [
    "* copytree(src, dst, symlinks=False, ignore=None, copy_function=copy2, ignore_dangling_symlinks=False, dirs_exist_ok=False)\n",
    "    * src：表示路径的字符串，必须是一个已存在的目录，不能是文件\n",
    "    * dst：表示路径的字符串，必须是一个不存在的目录，否则报错：FileExistsError\n",
    "    * symlinks：是否遵循符号链接，如果为 False，那么当 src 为软连接、则创建一个新的软连接\n",
    "    * ignore：可选参数，表示一个可调用对象，该可调用对象接收两个参数，第一个参数是要复制的目录名，第二个参数是要复制的目录里面的所有目录或文* 件的名称（不递归显示子目录中，只显示内部一层）\n",
    "    * copy_function：从默认值可以看出，表示拷贝函数，这里采用的是 copy2，会将文件的元信息也保留\n",
    "    * ignore_dangling_symlinks：是否忽略 symlinks，如果值为 True 则忽略，值为 False，那么当文件不存在时则产生异常。对于不支持 os.symlink() 的平台，此参数无任何影响"
   ]
  },
  {
   "cell_type": "code",
   "execution_count": 30,
   "metadata": {},
   "outputs": [
    {
     "data": {
      "text/plain": [
       "'./time_copy'"
      ]
     },
     "execution_count": 30,
     "metadata": {},
     "output_type": "execute_result"
    }
   ],
   "source": [
    "import shutil\n",
    "\n",
    "shutil.copytree(\"./time\", \"./time_copy\")"
   ]
  },
  {
   "cell_type": "markdown",
   "metadata": {},
   "source": [
    "# disk_usage -获取磁盘的使用情况\n",
    "\n",
    "* 接收一个参数 path 表示路径，会自动获取此路径所在磁盘的使用情况：总空间、已使用空间和空闲空间，以字节为单位"
   ]
  },
  {
   "cell_type": "code",
   "execution_count": 31,
   "metadata": {},
   "outputs": [
    {
     "data": {
      "text/plain": [
       "usage(total=272642338816, used=4781006848, free=267861331968)"
      ]
     },
     "execution_count": 31,
     "metadata": {},
     "output_type": "execute_result"
    }
   ],
   "source": [
    "import shutil\n",
    "\n",
    "shutil.disk_usage(\"./time\")"
   ]
  },
  {
   "cell_type": "markdown",
   "metadata": {},
   "source": [
    "# rmtree 删除目录   "
   ]
  },
  {
   "cell_type": "code",
   "execution_count": 36,
   "metadata": {},
   "outputs": [],
   "source": [
    "import shutil\n",
    "\n",
    "shutil.rmtree(r\"./time_copy/\")\n",
    "shutil.rmtree(r\"./time_copy2/\")\n",
    "\n"
   ]
  },
  {
   "cell_type": "markdown",
   "metadata": {},
   "source": [
    "# ignore_patterns 忽略工厂\n",
    "被此表达式匹配的文件，不会被shutil操作"
   ]
  },
  {
   "cell_type": "code",
   "execution_count": 33,
   "metadata": {},
   "outputs": [
    {
     "data": {
      "text/plain": [
       "'./time_copy2'"
      ]
     },
     "execution_count": 33,
     "metadata": {},
     "output_type": "execute_result"
    }
   ],
   "source": [
    "import shutil\n",
    "shutil.copytree(\"./time\", \"./time_copy2\",ignore=shutil.ignore_patterns(\"*.py\") )"
   ]
  },
  {
   "cell_type": "markdown",
   "metadata": {},
   "source": [
    "# get_archive_formats 获取支持的压缩格式"
   ]
  },
  {
   "cell_type": "code",
   "execution_count": 34,
   "metadata": {},
   "outputs": [
    {
     "name": "stdout",
     "output_type": "stream",
     "text": [
      "[('bztar', \"bzip2'ed tar-file\"),\n",
      " ('gztar', \"gzip'ed tar-file\"),\n",
      " ('tar', 'uncompressed tar file'),\n",
      " ('xztar', \"xz'ed tar-file\"),\n",
      " ('zip', 'ZIP file')]\n",
      "[('bztar', ['.tar.bz2', '.tbz2'], \"bzip2'ed tar-file\"),\n",
      " ('gztar', ['.tar.gz', '.tgz'], \"gzip'ed tar-file\"),\n",
      " ('tar', ['.tar'], 'uncompressed tar file'),\n",
      " ('xztar', ['.tar.xz', '.txz'], \"xz'ed tar-file\"),\n",
      " ('zip', ['.zip'], 'ZIP file')]\n"
     ]
    }
   ],
   "source": [
    "import shutil\n",
    "from pprint import pprint\n",
    "\n",
    "pprint(shutil.get_archive_formats())\n",
    "# 解压缩\n",
    "pprint(shutil.get_unpack_formats()) "
   ]
  },
  {
   "cell_type": "markdown",
   "metadata": {},
   "source": [
    "# make_archive 创建压缩文件并返回文件路径"
   ]
  },
  {
   "cell_type": "code",
   "execution_count": 25,
   "metadata": {},
   "outputs": [
    {
     "data": {
      "text/plain": [
       "'d:\\\\project\\\\python\\\\self-learn-python-project\\\\python_basics\\\\time_archive.zip'"
      ]
     },
     "execution_count": 25,
     "metadata": {},
     "output_type": "execute_result"
    }
   ],
   "source": [
    "import shutil\n",
    "\n",
    "shutil.make_archive(\"time_archive\", \"zip\", root_dir=r\"./time\")\n"
   ]
  },
  {
   "cell_type": "markdown",
   "metadata": {},
   "source": [
    "# which 类似linux which"
   ]
  },
  {
   "cell_type": "code",
   "execution_count": 35,
   "metadata": {},
   "outputs": [
    {
     "name": "stdout",
     "output_type": "stream",
     "text": [
      "C:\\dev\\env\\go21.5\\bin\\go.EXE\n"
     ]
    }
   ],
   "source": [
    "import shutil\n",
    "\n",
    "print(shutil.which(\"go\")) "
   ]
  }
 ],
 "metadata": {
  "kernelspec": {
   "display_name": "Python 3",
   "language": "python",
   "name": "python3"
  },
  "language_info": {
   "codemirror_mode": {
    "name": "ipython",
    "version": 3
   },
   "file_extension": ".py",
   "mimetype": "text/x-python",
   "name": "python",
   "nbconvert_exporter": "python",
   "pygments_lexer": "ipython3",
   "version": "3.10.11"
  }
 },
 "nbformat": 4,
 "nbformat_minor": 2
}
