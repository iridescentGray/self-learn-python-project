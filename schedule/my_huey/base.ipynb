{
 "cells": [
  {
   "cell_type": "code",
   "execution_count": null,
   "metadata": {},
   "outputs": [],
   "source": [
    "from huey import RedisHuey, crontab\n",
    "huey = RedisHuey('my-app', host='127.0.0.1')\n",
    "\n",
    "\n",
    "@huey.task()\n",
    "def add_numbers(a, b):\n",
    "    return a + b\n",
    "\n",
    "\n",
    "@huey.task(retries=2, retry_delay=5)\n",
    "def flaky_task(url):\n",
    "    # This task might fail, in which case it will be retried up to 2 times\n",
    "    # with a delay of 60s between retries.\n",
    "    print(url)\n",
    "\n",
    "\n",
    "@huey.periodic_task(crontab(minute=\"0\", hour=\"3\"))\n",
    "def nightly_backup():\n",
    "    print(\"nightly_backup\")"
   ]
  },
  {
   "cell_type": "code",
   "execution_count": 19,
   "metadata": {},
   "outputs": [
    {
     "name": "stdout",
     "output_type": "stream",
     "text": [
      "<Result: task 2995ffb1-9ac0-41cd-8b9d-e2ed87a5f635>\n",
      "<class 'huey.api.Result'>\n"
     ]
    }
   ],
   "source": [
    "res=add_numbers(1, 2)\n",
    "print(res)\n",
    "print(type(res))\n"
   ]
  },
  {
   "cell_type": "code",
   "execution_count": null,
   "metadata": {},
   "outputs": [],
   "source": [
    "res = add_numbers.schedule((2, 3), delay=5)  # Will be run in ~10s.\n"
   ]
  }
 ],
 "metadata": {
  "kernelspec": {
   "display_name": "Python 3",
   "language": "python",
   "name": "python3"
  },
  "language_info": {
   "codemirror_mode": {
    "name": "ipython",
    "version": 3
   },
   "file_extension": ".py",
   "mimetype": "text/x-python",
   "name": "python",
   "nbconvert_exporter": "python",
   "pygments_lexer": "ipython3",
   "version": "3.10.11"
  }
 },
 "nbformat": 4,
 "nbformat_minor": 2
}
