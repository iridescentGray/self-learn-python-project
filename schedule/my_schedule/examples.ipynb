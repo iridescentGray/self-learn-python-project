{
 "cells": [
  {
   "cell_type": "markdown",
   "metadata": {},
   "source": [
    "# Create Job\n"
   ]
  },
  {
   "cell_type": "markdown",
   "metadata": {},
   "source": [
    "## by api\n"
   ]
  },
  {
   "cell_type": "code",
   "execution_count": null,
   "metadata": {},
   "outputs": [],
   "source": [
    "import schedule\n",
    "import time\n",
    "\n",
    "\n",
    "def job():\n",
    "    print(\"I'm working...\")\n",
    "\n",
    "\n",
    "schedule.every(3).seconds.do(job)\n",
    "schedule.every(3).minutes.do(job)\n",
    "schedule.every(3).hours.do(job)\n",
    "schedule.every(3).days.do(job)\n",
    "schedule.every(3).weeks.do(job)\n",
    "while True:\n",
    "    schedule.run_pending()\n",
    "    time.sleep(1)"
   ]
  },
  {
   "cell_type": "markdown",
   "metadata": {},
   "source": [
    "## by decorator\n"
   ]
  },
  {
   "cell_type": "code",
   "execution_count": null,
   "metadata": {},
   "outputs": [],
   "source": [
    "from schedule import every, repeat, run_pending\n",
    "import time\n",
    "\n",
    "\n",
    "@repeat(every(3).seconds)\n",
    "def job():\n",
    "    print(\"I am a scheduled job\")\n",
    "\n",
    "\n",
    "while True:\n",
    "    run_pending()\n",
    "    time.sleep(1)"
   ]
  },
  {
   "cell_type": "markdown",
   "metadata": {},
   "source": [
    "## arg for job\n"
   ]
  },
  {
   "cell_type": "code",
   "execution_count": null,
   "metadata": {},
   "outputs": [],
   "source": [
    "import schedule\n",
    "import time\n",
    "\n",
    "\n",
    "def greet(name):\n",
    "    print(\"Hello\", name)\n",
    "\n",
    "\n",
    "schedule.every(2).seconds.do(greet, name=\"Alice\")\n",
    "\n",
    "while True:\n",
    "    schedule.run_pending()\n",
    "    time.sleep(1)"
   ]
  },
  {
   "cell_type": "code",
   "execution_count": null,
   "metadata": {},
   "outputs": [],
   "source": [
    "import schedule\n",
    "import time\n",
    "\n",
    "\n",
    "@schedule.repeat(schedule.every(4).seconds, \"World\")\n",
    "@schedule.repeat(schedule.every(8).seconds, \"Mars\")\n",
    "def hello(planet):\n",
    "    print(\"Hello\", planet)\n",
    "\n",
    "\n",
    "while True:\n",
    "    schedule.run_pending()\n",
    "    time.sleep(1)"
   ]
  },
  {
   "cell_type": "markdown",
   "metadata": {},
   "source": [
    "## random intervals job\n"
   ]
  },
  {
   "cell_type": "code",
   "execution_count": null,
   "metadata": {},
   "outputs": [],
   "source": [
    "import schedule\n",
    "import time\n",
    "\n",
    "\n",
    "def my_job():\n",
    "    print(\"Foo\")\n",
    "\n",
    "\n",
    "# Run every 2 to 5 seconds.\n",
    "schedule.every(2).to(5).seconds.do(my_job)\n",
    "\n",
    "while True:\n",
    "    schedule.run_pending()\n",
    "    time.sleep(1)"
   ]
  },
  {
   "cell_type": "markdown",
   "metadata": {},
   "source": [
    "## run until\n"
   ]
  },
  {
   "cell_type": "code",
   "execution_count": null,
   "metadata": {},
   "outputs": [],
   "source": [
    "import schedule\n",
    "from datetime import datetime, timedelta, time\n",
    "\n",
    "\n",
    "def job():\n",
    "    print(\"Boo\")\n",
    "\n",
    "\n",
    "# run job until a 18:30 today\n",
    "schedule.every(1).hours.until(\"18:30\").do(job)\n",
    "\n",
    "# run job until a 2030-01-01 18:33 today\n",
    "schedule.every(1).hours.until(\"2030-01-01 18:33\").do(job)\n",
    "\n",
    "# Schedule a job to run for the next 8 hours\n",
    "schedule.every(1).hours.until(timedelta(hours=8)).do(job)\n",
    "\n",
    "# Run my_job until today 11:33:42\n",
    "schedule.every(1).hours.until(time(11, 33, 42)).do(job)\n",
    "\n",
    "# run job until a specific datetime\n",
    "schedule.every(1).hours.until(datetime(2020, 5, 17, 11, 36, 20)).do(job)"
   ]
  },
  {
   "cell_type": "markdown",
   "metadata": {},
   "source": [
    "## Run Once\n"
   ]
  },
  {
   "cell_type": "code",
   "execution_count": null,
   "metadata": {},
   "outputs": [],
   "source": [
    "import schedule\n",
    "import time\n",
    "\n",
    "\n",
    "def job_that_executes_once():\n",
    "    print(\"once run,once bloom\")\n",
    "    return schedule.CancelJob\n",
    "\n",
    "\n",
    "schedule.every(5).seconds.do(job_that_executes_once)\n",
    "\n",
    "while True:\n",
    "    schedule.run_pending()\n",
    "    time.sleep(1)"
   ]
  },
  {
   "cell_type": "markdown",
   "metadata": {},
   "source": [
    "## run all jobs now,not schedule\n"
   ]
  },
  {
   "cell_type": "code",
   "execution_count": 2,
   "metadata": {},
   "outputs": [
    {
     "name": "stdout",
     "output_type": "stream",
     "text": [
      "Hello\n",
      "Hello\n",
      "Foo\n",
      "Bar\n"
     ]
    }
   ],
   "source": [
    "import schedule\n",
    "\n",
    "\n",
    "def job_1():\n",
    "    print(\"Foo\")\n",
    "\n",
    "\n",
    "def job_2():\n",
    "    print(\"Bar\")\n",
    "\n",
    "\n",
    "schedule.every().monday.at(\"12:40\").do(job_1)\n",
    "schedule.every().tuesday.at(\"16:40\").do(job_2)\n",
    "\n",
    "schedule.run_all()"
   ]
  },
  {
   "cell_type": "markdown",
   "metadata": {},
   "source": [
    "# Get Job\n"
   ]
  },
  {
   "cell_type": "markdown",
   "metadata": {},
   "source": [
    "## get all\n"
   ]
  },
  {
   "cell_type": "code",
   "execution_count": 2,
   "metadata": {},
   "outputs": [
    {
     "name": "stdout",
     "output_type": "stream",
     "text": [
      "1\n",
      "[Every 1 day at 22:30:00 do <lambda>() (last run: [never], next run: 2024-09-06 22:30:00)]\n"
     ]
    }
   ],
   "source": [
    "import schedule\n",
    "\n",
    "\n",
    "job = schedule.every().day.at(\"22:30\").do(lambda x: print(\"gogo\"))\n",
    "print(len(schedule.get_jobs()))\n",
    "print(schedule.get_jobs())"
   ]
  },
  {
   "cell_type": "markdown",
   "metadata": {},
   "source": [
    "## get by job tag\n"
   ]
  },
  {
   "cell_type": "code",
   "execution_count": 1,
   "metadata": {},
   "outputs": [
    {
     "data": {
      "text/plain": [
       "[Every 1 day do greet('Andrea') (last run: [never], next run: 2024-09-07 11:12:53),\n",
       " Every 1 hour do greet('John') (last run: [never], next run: 2024-09-06 12:12:53)]"
      ]
     },
     "execution_count": 1,
     "metadata": {},
     "output_type": "execute_result"
    }
   ],
   "source": [
    "import schedule\n",
    "\n",
    "\n",
    "def greet(name):\n",
    "    print(\"Hello {}\".format(name))\n",
    "\n",
    "\n",
    "schedule.every().day.do(greet, \"Andrea\").tag(\"daily-tasks\", \"friend\")\n",
    "schedule.every().hour.do(greet, \"John\").tag(\"hourly-tasks\", \"friend\")\n",
    "schedule.every().hour.do(greet, \"Monica\").tag(\"hourly-tasks\", \"customer\")\n",
    "schedule.every().day.do(greet, \"Derek\").tag(\"daily-tasks\", \"guest\")\n",
    "\n",
    "friends = schedule.get_jobs(\"friend\")\n",
    "friends"
   ]
  },
  {
   "cell_type": "markdown",
   "metadata": {},
   "source": [
    "## get next execution\n",
    "\n",
    "获取下一个作业计划运行前的秒数\n"
   ]
  },
  {
   "cell_type": "code",
   "execution_count": null,
   "metadata": {},
   "outputs": [],
   "source": [
    "import schedule\n",
    "import time\n",
    "\n",
    "\n",
    "def job():\n",
    "    print(\"Hello\")\n",
    "\n",
    "\n",
    "schedule.every(15).seconds.do(job)\n",
    "schedule.every(5).seconds.do(job)\n",
    "\n",
    "while 1:\n",
    "    n = schedule.idle_seconds()\n",
    "    print(n)\n",
    "    if n is None:\n",
    "        # no more jobs\n",
    "        break\n",
    "    elif n > 0:\n",
    "        # sleep exactly the right amount of time\n",
    "        time.sleep(n)\n",
    "    schedule.run_pending()"
   ]
  },
  {
   "cell_type": "markdown",
   "metadata": {},
   "source": [
    "# Cancel Job\n"
   ]
  },
  {
   "cell_type": "markdown",
   "metadata": {},
   "source": [
    "## Cancel One\n"
   ]
  },
  {
   "cell_type": "code",
   "execution_count": 1,
   "metadata": {},
   "outputs": [
    {
     "name": "stdout",
     "output_type": "stream",
     "text": [
      "<class 'schedule.Job'>\n",
      "1\n",
      "0\n"
     ]
    }
   ],
   "source": [
    "import schedule\n",
    "\n",
    "\n",
    "def some_task():\n",
    "    print(\"Hello world\")\n",
    "\n",
    "\n",
    "job = schedule.every().day.at(\"22:30\").do(some_task)\n",
    "print(type(job))\n",
    "print(len(schedule.get_jobs()))\n",
    "schedule.cancel_job(job)\n",
    "print(len(schedule.get_jobs()))"
   ]
  },
  {
   "cell_type": "markdown",
   "metadata": {},
   "source": [
    "## Cancel All\n"
   ]
  },
  {
   "cell_type": "code",
   "execution_count": null,
   "metadata": {},
   "outputs": [],
   "source": [
    "import schedule\n",
    "\n",
    "\n",
    "def greet(name):\n",
    "    print(\"Hello {}\".format(name))\n",
    "\n",
    "\n",
    "schedule.every().second.do(greet)\n",
    "\n",
    "schedule.clear()"
   ]
  },
  {
   "cell_type": "markdown",
   "metadata": {},
   "source": [
    "# Exception Handling\n",
    "\n",
    "1. 任何被 schedule 执行的 job，抛出异常后,都会打断其他 job 执行，因此需要捕获 job 异常\n",
    "2. ,异常 job 本身也不会继续定时执行\n"
   ]
  },
  {
   "cell_type": "code",
   "execution_count": null,
   "metadata": {},
   "outputs": [],
   "source": [
    "import functools\n",
    "import time\n",
    "import schedule\n",
    "\n",
    "\n",
    "def catch_exceptions(cancel_on_failure=False):\n",
    "    def catch_exceptions_decorator(job_func):\n",
    "        @functools.wraps(job_func)\n",
    "        def wrapper(*args, **kwargs):\n",
    "            try:\n",
    "                return job_func(*args, **kwargs)\n",
    "            except Exception:\n",
    "                import traceback\n",
    "\n",
    "                print(traceback.format_exc())\n",
    "                if cancel_on_failure:\n",
    "                    return schedule.CancelJob\n",
    "\n",
    "        return wrapper\n",
    "\n",
    "    return catch_exceptions_decorator\n",
    "\n",
    "\n",
    "@catch_exceptions(cancel_on_failure=True)\n",
    "def bad_task():\n",
    "    return 1 / 0\n",
    "\n",
    "\n",
    "schedule.every(5).seconds.do(bad_task)\n",
    "\n",
    "while True:\n",
    "    time.sleep(1)\n",
    "    schedule.run_pending()"
   ]
  },
  {
   "cell_type": "markdown",
   "metadata": {},
   "source": [
    "# Multiple schedulers\n"
   ]
  },
  {
   "cell_type": "code",
   "execution_count": null,
   "metadata": {},
   "outputs": [],
   "source": [
    "import schedule\n",
    "\n",
    "\n",
    "def fooJob():\n",
    "    print(\"Foo\")\n",
    "\n",
    "\n",
    "scheduler1 = schedule.Scheduler()\n",
    "scheduler2 = schedule.Scheduler()\n",
    "\n",
    "scheduler1.every().hour.do(fooJob)\n",
    "scheduler2.every().second.do(fooJob)"
   ]
  }
 ],
 "metadata": {
  "kernelspec": {
   "display_name": ".venv",
   "language": "python",
   "name": "python3"
  },
  "language_info": {
   "codemirror_mode": {
    "name": "ipython",
    "version": 3
   },
   "file_extension": ".py",
   "mimetype": "text/x-python",
   "name": "python",
   "nbconvert_exporter": "python",
   "pygments_lexer": "ipython3",
   "version": "3.12.5"
  }
 },
 "nbformat": 4,
 "nbformat_minor": 2
}
