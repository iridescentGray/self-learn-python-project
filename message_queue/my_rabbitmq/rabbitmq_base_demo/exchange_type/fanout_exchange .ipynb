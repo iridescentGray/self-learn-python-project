{
 "cells": [
  {
   "cell_type": "markdown",
   "metadata": {},
   "source": [
    "# fanout exchange\n",
    "\n",
    "广播exchange\n"
   ]
  },
  {
   "cell_type": "code",
   "execution_count": 1,
   "metadata": {},
   "outputs": [],
   "source": [
    "import pika\n",
    "import threading\n",
    "\n",
    "TEST_EXCHANGE_NAME = \"rb_test_fanout_exchange\"\n",
    "connection_params = pika.ConnectionParameters(\n",
    "    host=\"127.0.0.1\",\n",
    "    port=5672,\n",
    "    virtual_host=\"/\",\n",
    "    credentials=pika.PlainCredentials(\"admin\", \"123456\"),\n",
    ")"
   ]
  },
  {
   "cell_type": "markdown",
   "metadata": {},
   "source": [
    "# 生产者\n"
   ]
  },
  {
   "cell_type": "code",
   "execution_count": 2,
   "metadata": {},
   "outputs": [],
   "source": [
    "rabbit_proudct_connection = pika.BlockingConnection(connection_params)\n",
    "proudct_channel = rabbit_proudct_connection.channel()\n",
    "# 如果之前的存在则删除\n",
    "proudct_channel.exchange_delete(TEST_EXCHANGE_NAME)\n",
    "proudct_channel.exchange_declare(TEST_EXCHANGE_NAME, \"fanout\")\n",
    "\n",
    "proudct_channel.queue_declare(queue=\"queue_1\", auto_delete=True)\n",
    "proudct_channel.queue_declare(queue=\"queue_2\", auto_delete=True)\n",
    "proudct_channel.queue_declare(queue=\"queue_3\", auto_delete=True)\n",
    "\n",
    "proudct_channel.queue_bind(queue=\"queue_1\", exchange=TEST_EXCHANGE_NAME)\n",
    "proudct_channel.queue_bind(queue=\"queue_2\", exchange=TEST_EXCHANGE_NAME)\n",
    "proudct_channel.queue_bind(queue=\"queue_3\", exchange=TEST_EXCHANGE_NAME)\n",
    "# 不需要 binding key 和 routing key 了，因为是广播\n",
    "proudct_channel.basic_publish(\n",
    "    exchange=TEST_EXCHANGE_NAME,\n",
    "    routing_key=\"\",\n",
    "    body=b\"fanout test message,can you receive\",\n",
    ")\n",
    "\n",
    "proudct_channel.close()\n",
    "rabbit_proudct_connection.close()"
   ]
  },
  {
   "cell_type": "markdown",
   "metadata": {},
   "source": [
    "# 消费者\n"
   ]
  },
  {
   "cell_type": "code",
   "execution_count": 3,
   "metadata": {},
   "outputs": [
    {
     "name": "stdout",
     "output_type": "stream",
     "text": [
      "fanout test message,can you receive channel id: 1444466944816\n",
      "fanout test message,can you receive channel id: 1444466944912\n",
      "fanout test message,can you receive channel id: 1444466944864\n"
     ]
    }
   ],
   "source": [
    "def on_message_callback(ch, method, properties, body):\n",
    "    print(body.decode(\"utf-8\"), f\"channel id: {id(ch)}\")\n",
    "    ch.basic_ack(delivery_tag=method.delivery_tag)\n",
    "\n",
    "\n",
    "def consume_message(queue_name: str, routing_key: str):\n",
    "    consumer_connection = pika.BlockingConnection(connection_params)\n",
    "    consumer_channel = consumer_connection.channel()\n",
    "    consumer_channel.exchange_declare(TEST_EXCHANGE_NAME, \"fanout\")\n",
    "    consumer_channel.queue_declare(queue=queue_name, auto_delete=True)\n",
    "    consumer_channel.queue_bind(queue_name, TEST_EXCHANGE_NAME, \"\")\n",
    "    consumer_channel.basic_consume(queue_name, on_message_callback=on_message_callback)\n",
    "    consumer_channel.start_consuming()\n",
    "\n",
    "\n",
    "t1 = threading.Thread(target=consume_message, args=(\"queue_1\", \"我是队列1\")).start()\n",
    "t2 = threading.Thread(target=consume_message, args=(\"queue_2\", \"我是队列2\")).start()\n",
    "t3 = threading.Thread(target=consume_message, args=(\"queue_3\", \"我是队列3\")).start()"
   ]
  }
 ],
 "metadata": {
  "kernelspec": {
   "display_name": "Python 3",
   "language": "python",
   "name": "python3"
  },
  "language_info": {
   "codemirror_mode": {
    "name": "ipython",
    "version": 3
   },
   "file_extension": ".py",
   "mimetype": "text/x-python",
   "name": "python",
   "nbconvert_exporter": "python",
   "pygments_lexer": "ipython3",
   "version": "3.10.11"
  }
 },
 "nbformat": 4,
 "nbformat_minor": 2
}
