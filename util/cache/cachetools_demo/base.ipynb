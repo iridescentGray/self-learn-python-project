{
 "cells": [
  {
   "cell_type": "code",
   "execution_count": 6,
   "metadata": {},
   "outputs": [],
   "source": [
    "import cachetools"
   ]
  },
  {
   "cell_type": "markdown",
   "metadata": {},
   "source": [
    "# @cached"
   ]
  },
  {
   "cell_type": "code",
   "execution_count": 9,
   "metadata": {},
   "outputs": [
    {
     "name": "stdout",
     "output_type": "stream",
     "text": [
      "calculate no cache 5\n",
      "calculate no cache 4\n",
      "calculate no cache 3\n",
      "calculate no cache 2\n",
      "calculate no cache 1\n",
      "calculate no cache 0\n",
      "calculate no cache 1\n",
      "calculate no cache 2\n",
      "calculate no cache 1\n",
      "calculate no cache 0\n",
      "calculate no cache 3\n",
      "calculate no cache 2\n",
      "calculate no cache 1\n",
      "calculate no cache 0\n",
      "calculate no cache 1\n"
     ]
    },
    {
     "data": {
      "text/plain": [
       "5"
      ]
     },
     "execution_count": 9,
     "metadata": {},
     "output_type": "execute_result"
    }
   ],
   "source": [
    "def fib(n):\n",
    "    print(f\"calculate no cache {n}\")\n",
    "    return n if n < 2 else fib(n - 1) + fib(n - 2)\n",
    "fib(5)"
   ]
  },
  {
   "cell_type": "code",
   "execution_count": 15,
   "metadata": {},
   "outputs": [
    {
     "name": "stdout",
     "output_type": "stream",
     "text": [
      "calculate no cache 5\n",
      "calculate no cache 4\n",
      "calculate no cache 3\n",
      "calculate no cache 2\n",
      "calculate no cache 1\n",
      "calculate no cache 0\n"
     ]
    },
    {
     "data": {
      "text/plain": [
       "5"
      ]
     },
     "execution_count": 15,
     "metadata": {},
     "output_type": "execute_result"
    }
   ],
   "source": [
    "@cachetools.cached(cache={})\n",
    "def cache_fib(n):\n",
    "    print(f\"calculate no cache {n}\")\n",
    "    return n if n < 2 else cache_fib(n - 1) + cache_fib(n - 2)\n",
    "cache_fib(5)"
   ]
  },
  {
   "cell_type": "markdown",
   "metadata": {},
   "source": [
    "# LRUCache"
   ]
  },
  {
   "cell_type": "code",
   "execution_count": 17,
   "metadata": {},
   "outputs": [
    {
     "name": "stdout",
     "output_type": "stream",
     "text": [
      "calculate no cache 5\n",
      "calculate no cache 4\n",
      "calculate no cache 3\n",
      "calculate no cache 2\n",
      "calculate no cache 1\n",
      "calculate no cache 0\n",
      "calculate no cache 1\n",
      "calculate no cache 2\n",
      "calculate no cache 0\n",
      "calculate no cache 3\n",
      "calculate no cache 1\n"
     ]
    },
    {
     "data": {
      "text/plain": [
       "5"
      ]
     },
     "execution_count": 17,
     "metadata": {},
     "output_type": "execute_result"
    }
   ],
   "source": [
    "# when use LRU, some cache will Expired\n",
    "@cachetools.cached(cache=cachetools.LRUCache(maxsize=2))\n",
    "def cache_fib(n):\n",
    "    print(f\"calculate no cache {n}\")\n",
    "    return n if n < 2 else cache_fib(n - 1) + cache_fib(n - 2)\n",
    "\n",
    "cache_fib(5)"
   ]
  },
  {
   "cell_type": "markdown",
   "metadata": {},
   "source": [
    "# TTLCache"
   ]
  },
  {
   "cell_type": "code",
   "execution_count": 16,
   "metadata": {},
   "outputs": [
    {
     "name": "stdout",
     "output_type": "stream",
     "text": [
      "calculate no cache 5\n",
      "calculate no cache 4\n",
      "calculate no cache 3\n",
      "calculate no cache 2\n",
      "calculate no cache 1\n",
      "calculate no cache 0\n"
     ]
    },
    {
     "data": {
      "text/plain": [
       "5"
      ]
     },
     "execution_count": 16,
     "metadata": {},
     "output_type": "execute_result"
    }
   ],
   "source": [
    "@cachetools.cached(cache=cachetools.TTLCache(maxsize=1024, ttl=600))\n",
    "def cache_fib(n):\n",
    "    print(f\"calculate no cache {n}\")\n",
    "    return n if n < 2 else cache_fib(n - 1) + cache_fib(n - 2)\n",
    "\n",
    "\n",
    "cache_fib(5)\n"
   ]
  }
 ],
 "metadata": {
  "kernelspec": {
   "display_name": ".venv",
   "language": "python",
   "name": "python3"
  },
  "language_info": {
   "codemirror_mode": {
    "name": "ipython",
    "version": 3
   },
   "file_extension": ".py",
   "mimetype": "text/x-python",
   "name": "python",
   "nbconvert_exporter": "python",
   "pygments_lexer": "ipython3",
   "version": "3.11.7"
  }
 },
 "nbformat": 4,
 "nbformat_minor": 2
}
