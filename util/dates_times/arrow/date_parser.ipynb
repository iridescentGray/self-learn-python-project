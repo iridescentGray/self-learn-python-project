{
 "cells": [
  {
   "cell_type": "code",
   "execution_count": 2,
   "metadata": {},
   "outputs": [],
   "source": [
    "import arrow"
   ]
  },
  {
   "cell_type": "markdown",
   "metadata": {},
   "source": [
    "# 时间字符串 -> python datetime\n"
   ]
  },
  {
   "cell_type": "code",
   "execution_count": 7,
   "metadata": {},
   "outputs": [
    {
     "name": "stdout",
     "output_type": "stream",
     "text": [
      "2013-05-11T21:23:58.970460+07:00\n"
     ]
    }
   ],
   "source": [
    "parse_result = arrow.get('2013-05-11T21:23:58.970460+07:00')\n",
    "\n",
    "print(parse_result)\n"
   ]
  },
  {
   "cell_type": "markdown",
   "metadata": {},
   "source": [
    "# 时间戳 ->python datetime\n"
   ]
  },
  {
   "cell_type": "code",
   "execution_count": 8,
   "metadata": {},
   "outputs": [
    {
     "name": "stdout",
     "output_type": "stream",
     "text": [
      "2013-05-07T04:24:24+00:00\n",
      "<class 'arrow.arrow.Arrow'>\n",
      "2013-05-07 04:24:24\n",
      "<class 'datetime.datetime'>\n"
     ]
    }
   ],
   "source": [
    "print(arrow.get(1367900664))\n",
    "print(type(arrow.get(1367900664)))\n",
    "print(arrow.get(1367900664).naive)\n",
    "print(type(arrow.get(1367900664).naive))"
   ]
  },
  {
   "cell_type": "code",
   "execution_count": 4,
   "metadata": {},
   "outputs": [
    {
     "name": "stdout",
     "output_type": "stream",
     "text": [
      "2021-10-18 21:15:00+00:00\n",
      "<class 'datetime.datetime'>\n"
     ]
    }
   ],
   "source": [
    "js_timestamp_string = \"1634591700000\"  # 例如，这是一个JavaScript毫秒级时间戳字符串\n",
    "\n",
    "datetime_object = arrow.get(int(js_timestamp_string) / 1000).datetime\n",
    "print(datetime_object)\n",
    "print(type(datetime_object))"
   ]
  }
 ],
 "metadata": {
  "kernelspec": {
   "display_name": "d2l",
   "language": "python",
   "name": "python3"
  },
  "language_info": {
   "codemirror_mode": {
    "name": "ipython",
    "version": 3
   },
   "file_extension": ".py",
   "mimetype": "text/x-python",
   "name": "python",
   "nbconvert_exporter": "python",
   "pygments_lexer": "ipython3",
   "version": "3.11.6"
  }
 },
 "nbformat": 4,
 "nbformat_minor": 2
}
