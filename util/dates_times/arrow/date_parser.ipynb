{
 "cells": [
  {
   "cell_type": "code",
   "execution_count": 6,
   "metadata": {},
   "outputs": [],
   "source": [
    "import arrow"
   ]
  },
  {
   "cell_type": "markdown",
   "metadata": {},
   "source": [
    "# 时间字符串 -> python datetime\n"
   ]
  },
  {
   "cell_type": "code",
   "execution_count": 7,
   "metadata": {},
   "outputs": [
    {
     "name": "stdout",
     "output_type": "stream",
     "text": [
      "2013-05-11T21:23:58.970460+07:00\n"
     ]
    }
   ],
   "source": [
    "parse_result = arrow.get('2013-05-11T21:23:58.970460+07:00')\n",
    "\n",
    "print(parse_result)\n"
   ]
  },
  {
   "cell_type": "markdown",
   "metadata": {},
   "source": [
    "# 时间戳 ->python datetime\n"
   ]
  },
  {
   "cell_type": "code",
   "execution_count": 8,
   "metadata": {},
   "outputs": [
    {
     "name": "stdout",
     "output_type": "stream",
     "text": [
      "2013-05-07T04:24:24+00:00\n",
      "<class 'arrow.arrow.Arrow'>\n",
      "2013-05-07 04:24:24\n",
      "<class 'datetime.datetime'>\n"
     ]
    }
   ],
   "source": [
    "print(arrow.get(1367900664))\n",
    "print(type(arrow.get(1367900664)))\n",
    "print(arrow.get(1367900664).naive)\n",
    "print(type(arrow.get(1367900664).naive))"
   ]
  }
 ],
 "metadata": {
  "kernelspec": {
   "display_name": "d2l",
   "language": "python",
   "name": "python3"
  },
  "language_info": {
   "codemirror_mode": {
    "name": "ipython",
    "version": 3
   },
   "file_extension": ".py",
   "mimetype": "text/x-python",
   "name": "python",
   "nbconvert_exporter": "python",
   "pygments_lexer": "ipython3",
   "version": "3.11.6"
  }
 },
 "nbformat": 4,
 "nbformat_minor": 2
}
