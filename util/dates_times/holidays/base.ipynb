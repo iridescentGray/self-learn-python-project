{
 "cells": [
  {
   "cell_type": "code",
   "execution_count": 36,
   "metadata": {},
   "outputs": [],
   "source": [
    "import holidays"
   ]
  },
  {
   "cell_type": "markdown",
   "metadata": {},
   "source": [
    "# country_holidays "
   ]
  },
  {
   "cell_type": "code",
   "execution_count": 37,
   "metadata": {},
   "outputs": [
    {
     "name": "stdout",
     "output_type": "stream",
     "text": [
      "<bound method HolidayBase.get of {datetime.date(2025, 1, 1): \"New Year's Day\", datetime.date(2025, 5, 26): 'Memorial Day', datetime.date(2025, 6, 19): 'Juneteenth National Independence Day', datetime.date(2025, 7, 4): 'Independence Day', datetime.date(2025, 9, 1): 'Labor Day', datetime.date(2025, 11, 11): 'Veterans Day', datetime.date(2025, 11, 27): 'Thanksgiving Day', datetime.date(2025, 12, 25): 'Christmas Day', datetime.date(2025, 1, 20): 'Martin Luther King Jr. Day', datetime.date(2025, 2, 17): \"Washington's Birthday\", datetime.date(2025, 10, 13): 'Columbus Day'}>\n"
     ]
    }
   ],
   "source": [
    "us_holidays = holidays.US()  # this is a dict-like object\n",
    "# the below is the same, but takes a string:\n",
    "us_holidays = holidays.country_holidays('US',years=[2025])  # this is a dict-like object\n",
    "print(us_holidays.get)"
   ]
  },
  {
   "cell_type": "code",
   "execution_count": 38,
   "metadata": {},
   "outputs": [
    {
     "data": {
      "text/plain": [
       "11"
      ]
     },
     "execution_count": 38,
     "metadata": {},
     "output_type": "execute_result"
    }
   ],
   "source": [
    "len(us_holidays)"
   ]
  },
  {
   "cell_type": "code",
   "execution_count": 39,
   "metadata": {},
   "outputs": [
    {
     "name": "stdout",
     "output_type": "stream",
     "text": [
      "2025-01-01\n",
      "2025-05-26\n",
      "2025-06-19\n",
      "2025-07-04\n",
      "2025-09-01\n",
      "2025-11-11\n",
      "2025-11-27\n",
      "2025-12-25\n",
      "2025-01-20\n",
      "2025-02-17\n",
      "2025-10-13\n"
     ]
    }
   ],
   "source": [
    "for i in us_holidays:\n",
    "    print(i)"
   ]
  },
  {
   "cell_type": "markdown",
   "metadata": {},
   "source": [
    "# financial_holidays"
   ]
  },
  {
   "cell_type": "code",
   "execution_count": 40,
   "metadata": {},
   "outputs": [],
   "source": [
    "nyse_holidays = holidays.financial_holidays('NYSE',years=[2025],expand=False,observed=False)  # this is a dict-like object"
   ]
  },
  {
   "cell_type": "code",
   "execution_count": 41,
   "metadata": {},
   "outputs": [
    {
     "data": {
      "text/plain": [
       "11"
      ]
     },
     "execution_count": 41,
     "metadata": {},
     "output_type": "execute_result"
    }
   ],
   "source": [
    "len(nyse_holidays)"
   ]
  },
  {
   "cell_type": "code",
   "execution_count": 42,
   "metadata": {},
   "outputs": [
    {
     "name": "stdout",
     "output_type": "stream",
     "text": [
      "2025-01-01\n",
      "2025-01-20\n",
      "2025-02-17\n",
      "2025-04-18\n",
      "2025-05-26\n",
      "2025-06-19\n",
      "2025-07-04\n",
      "2025-09-01\n",
      "2025-11-27\n",
      "2025-12-25\n",
      "2025-01-09\n"
     ]
    }
   ],
   "source": [
    "for i in nyse_holidays:\n",
    "    print(i)"
   ]
  }
 ],
 "metadata": {
  "kernelspec": {
   "display_name": ".venv",
   "language": "python",
   "name": "python3"
  },
  "language_info": {
   "codemirror_mode": {
    "name": "ipython",
    "version": 3
   },
   "file_extension": ".py",
   "mimetype": "text/x-python",
   "name": "python",
   "nbconvert_exporter": "python",
   "pygments_lexer": "ipython3",
   "version": "3.12.7"
  }
 },
 "nbformat": 4,
 "nbformat_minor": 2
}
