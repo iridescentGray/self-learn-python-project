{
 "cells": [
  {
   "cell_type": "code",
   "execution_count": 1,
   "metadata": {},
   "outputs": [],
   "source": [
    "from dateutil import parser"
   ]
  },
  {
   "cell_type": "markdown",
   "metadata": {},
   "source": [
    "# 时间字符串 -> python datetime\n"
   ]
  },
  {
   "cell_type": "code",
   "execution_count": 2,
   "metadata": {},
   "outputs": [
    {
     "name": "stdout",
     "output_type": "stream",
     "text": [
      "parse_result is 2018-03-01 00:00:00\n",
      "parse_result type is <class 'datetime.datetime'>\n",
      "<class 'datetime.datetime'>\n",
      "2018-03-02 00:00:00\n",
      "2018-03-03 00:00:00\n",
      "2018-03-04 00:00:00\n",
      "2023-03-05 00:00:00\n",
      "2018-03-06 00:00:00\n",
      "2018-03-07 00:00:00\n",
      "2032-03-24 00:00:00\n",
      "1221-12-24 00:00:00\n",
      "0100-07-24 00:00:00\n"
     ]
    }
   ],
   "source": [
    "parse_result = parser.parse(\"2018-3-1\")\n",
    "\n",
    "print(f\"parse_result is {parse_result}\")\n",
    "print(f\"parse_result type is {type(parse_result)}\")\n",
    "\n",
    "print(type(parser.parse(\"2018-03-2\")))\n",
    "print(parser.parse(\"2018-03-2\"))\n",
    "\n",
    "print(parser.parse(\"2018/3/3\"))\n",
    "print(parser.parse(\"2018/03/04\"))\n",
    "print(parser.parse(\"03-05\"))\n",
    "print(parser.parse(\"03/06/18\"))\n",
    "print(parser.parse(\"03/07/18\"))\n",
    "\n",
    "print(parser.parse(\"32-3\"))\n",
    "print(parser.parse(\"1221\"))\n",
    "print(parser.parse(\"100-7\"))"
   ]
  }
 ],
 "metadata": {
  "kernelspec": {
   "display_name": "d2l",
   "language": "python",
   "name": "python3"
  },
  "language_info": {
   "codemirror_mode": {
    "name": "ipython",
    "version": 3
   },
   "file_extension": ".py",
   "mimetype": "text/x-python",
   "name": "python",
   "nbconvert_exporter": "python",
   "pygments_lexer": "ipython3",
   "version": "3.11.6"
  }
 },
 "nbformat": 4,
 "nbformat_minor": 2
}
