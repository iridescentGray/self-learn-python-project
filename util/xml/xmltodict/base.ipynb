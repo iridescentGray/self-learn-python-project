{
 "cells": [
  {
   "cell_type": "markdown",
   "metadata": {
    "vscode": {
     "languageId": "plaintext"
    }
   },
   "source": [
    "# dict to xml\n"
   ]
  },
  {
   "cell_type": "code",
   "execution_count": 14,
   "metadata": {},
   "outputs": [
    {
     "name": "stdout",
     "output_type": "stream",
     "text": [
      "<?xml version=\"1.0\" encoding=\"utf-8\"?>\n",
      "<project><actions></actions><description></description><keepDependencies>false</keepDependencies><properties><com.sonyericsson.rebuild.RebuildSettings plugin=\"rebuild@332.va_1ee476d8f6d\"><autoRebuild>false</autoRebuild><rebuildDisabled>true</rebuildDisabled></com.sonyericsson.rebuild.RebuildSettings></properties></project>\n"
     ]
    }
   ],
   "source": [
    "import xmltodict\n",
    "\n",
    "d = js = {\n",
    "    \"project\": {\n",
    "        \"actions\": None,\n",
    "        \"description\": None,\n",
    "        \"keepDependencies\": \"false\",\n",
    "        \"properties\": {\n",
    "            \"com.sonyericsson.rebuild.RebuildSettings\": {\n",
    "                \"@plugin\": \"rebuild@332.va_1ee476d8f6d\",\n",
    "                \"autoRebuild\": \"false\",\n",
    "                \"rebuildDisabled\": \"true\",\n",
    "            }\n",
    "        },\n",
    "        \n",
    "    }\n",
    "}\n",
    "x = xmltodict.unparse(d)\n",
    "print(x)"
   ]
  },
  {
   "cell_type": "markdown",
   "metadata": {
    "vscode": {
     "languageId": "plaintext"
    }
   },
   "source": [
    "# xml to dict\n"
   ]
  },
  {
   "cell_type": "code",
   "execution_count": 13,
   "metadata": {},
   "outputs": [
    {
     "name": "stdout",
     "output_type": "stream",
     "text": [
      "{'project': {'actions': None, 'description': None, 'keepDependencies': 'false'}}\n"
     ]
    }
   ],
   "source": [
    "with open(\"file/test.xml\") as f:\n",
    "    rest = xmltodict.parse(f.buffer)\n",
    "    print(rest)"
   ]
  }
 ],
 "metadata": {
  "kernelspec": {
   "display_name": ".venv",
   "language": "python",
   "name": "python3"
  },
  "language_info": {
   "codemirror_mode": {
    "name": "ipython",
    "version": 3
   },
   "file_extension": ".py",
   "mimetype": "text/x-python",
   "name": "python",
   "nbconvert_exporter": "python",
   "pygments_lexer": "ipython3",
   "version": "3.12.5"
  }
 },
 "nbformat": 4,
 "nbformat_minor": 2
}
