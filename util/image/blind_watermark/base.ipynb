{
 "cells": [
  {
   "cell_type": "markdown",
   "metadata": {},
   "source": [
    "# 嵌入文字"
   ]
  },
  {
   "cell_type": "markdown",
   "metadata": {},
   "source": [
    "## 嵌入"
   ]
  },
  {
   "cell_type": "code",
   "execution_count": null,
   "metadata": {},
   "outputs": [],
   "source": [
    "from blind_watermark import WaterMark\n",
    "\n",
    "bwm1 = WaterMark(password_img=1, password_wm=1)\n",
    "bwm1.read_img('./test_data/input.png')\n",
    "wm = '@ohgod Open Source!'\n",
    "\n",
    "bwm1.read_wm(wm, mode='str')\n",
    "bwm1.embed('./test_data/str_output.png')\n",
    "len_wm = len(bwm1.wm_bit)\n",
    "print('Put down the length of wm_bit {len_wm}'.format(len_wm=len_wm))"
   ]
  },
  {
   "cell_type": "markdown",
   "metadata": {},
   "source": [
    "## 提取"
   ]
  },
  {
   "cell_type": "code",
   "execution_count": null,
   "metadata": {},
   "outputs": [],
   "source": [
    "bwm1 = WaterMark(password_img=1, password_wm=1)\n",
    "wm_extract = bwm1.extract('./test_data/str_output.png', wm_shape=len_wm, mode='str')\n",
    "print(wm_extract)"
   ]
  },
  {
   "cell_type": "markdown",
   "metadata": {},
   "source": [
    "# 嵌入图片"
   ]
  },
  {
   "cell_type": "markdown",
   "metadata": {},
   "source": [
    "## 嵌入"
   ]
  },
  {
   "cell_type": "code",
   "execution_count": null,
   "metadata": {},
   "outputs": [],
   "source": [
    "from blind_watermark import WaterMark\n",
    "\n",
    "bwm1 = WaterMark(password_wm=1, password_img=1)\n",
    "# read original image\n",
    "bwm1.read_img('./test_data/so.jpeg')\n",
    "# read watermark\n",
    "bwm1.read_wm('./test_data/qrcode_input.png')\n",
    "# embed\n",
    "bwm1.embed('./test_data/qrcode_output.png')"
   ]
  },
  {
   "cell_type": "markdown",
   "metadata": {},
   "source": [
    "## 提取"
   ]
  },
  {
   "cell_type": "code",
   "execution_count": null,
   "metadata": {},
   "outputs": [],
   "source": [
    "bwm1 = WaterMark(password_wm=1, password_img=1)\n",
    "# notice that wm_shape is necessary\n",
    "bwm1.extract(filename='./test_data/qrcode_output.png', wm_shape=(128, 128), out_wm_name='output/extracted.png', )"
   ]
  }
 ],
 "metadata": {
  "kernelspec": {
   "display_name": "Python 3",
   "language": "python",
   "name": "python3"
  },
  "language_info": {
   "codemirror_mode": {
    "name": "ipython",
    "version": 3
   },
   "file_extension": ".py",
   "mimetype": "text/x-python",
   "name": "python",
   "nbconvert_exporter": "python",
   "pygments_lexer": "ipython3",
   "version": "3.10.11"
  }
 },
 "nbformat": 4,
 "nbformat_minor": 2
}
