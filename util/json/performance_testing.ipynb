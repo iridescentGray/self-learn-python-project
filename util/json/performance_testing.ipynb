{
 "cells": [
  {
   "cell_type": "markdown",
   "metadata": {},
   "source": [
    "# 性能测试\n",
    "用于测试json、orjson、rapidjson三者速度的区别"
   ]
  },
  {
   "cell_type": "code",
   "execution_count": 1,
   "metadata": {},
   "outputs": [
    {
     "name": "stdout",
     "output_type": "stream",
     "text": [
      "json dumps:      2.528524160385132\n",
      "orjson dumps:    0.3220200538635254\n",
      "rapidjson dumps: 1.351365089416504\n"
     ]
    }
   ],
   "source": [
    "import time\n",
    "import json\n",
    "import orjson\n",
    "import rapidjson\n",
    "\n",
    "\n",
    "m = {\n",
    "    \"timestamp\": 1556283673.1523004,\n",
    "    \"task_uuid\": \"0ed1a1c3-050c-4fb9-9426-a7e72d0acfc7\",\n",
    "    \"task_level\": [1, 2, 1],\n",
    "    \"action_status\": \"started\",\n",
    "    \"action_type\": \"main\",\n",
    "    \"key\": \"value\",\n",
    "    \"another_key\": 123,\n",
    "    \"and_another\": [\"a\", \"b\"],\n",
    "}\n",
    "\n",
    "def benchmark_dumps(name, dumps):\n",
    "    start = time.time()\n",
    "    for i in range(1000000):\n",
    "        dumps(m)\n",
    "    print(name, f'{time.time() - start}')\n",
    "\n",
    "benchmark_dumps(\"json dumps:     \", json.dumps)\n",
    "benchmark_dumps(\"orjson dumps:   \", lambda s: str(orjson.dumps(s), \"utf-8\"))\n",
    "benchmark_dumps(\"rapidjson dumps:\", rapidjson.dumps)"
   ]
  },
  {
   "cell_type": "code",
   "execution_count": 2,
   "metadata": {},
   "outputs": [
    {
     "name": "stdout",
     "output_type": "stream",
     "text": [
      "json loads:      1.8871939182281494\n",
      "orjson loads:    0.526787281036377\n",
      "rapidjson loads: 1.3069567680358887\n"
     ]
    }
   ],
   "source": [
    "\n",
    "m = '{\"timestamp\": 1556283673.1523004, \"task_uuid\": \"0ed1a1c3-050c-4fb9-9426-a7e72d0acfc7\", \"task_level\": [1, 2, 1], \"action_status\": \"started\", \"action_type\": \"main\", \"key\": \"value\", \"another_key\": 123, \"and_another\": [\"a\", \"b\"]}'\n",
    "def benchmark_loads(name, loads):\n",
    "    start = time.time()\n",
    "    for i in range(1000000):\n",
    "        loads(m)\n",
    "    print(name, f'{time.time() - start}')\n",
    "\n",
    "benchmark_loads(\"json loads:     \", json.loads)\n",
    "benchmark_loads(\"orjson loads:   \", orjson.loads)\n",
    "benchmark_loads(\"rapidjson loads:\", rapidjson.loads)\n"
   ]
  },
  {
   "cell_type": "markdown",
   "metadata": {},
   "source": [
    "# 结果是orjson最快"
   ]
  }
 ],
 "metadata": {
  "kernelspec": {
   "display_name": "mongo_demo",
   "language": "python",
   "name": "python3"
  },
  "language_info": {
   "codemirror_mode": {
    "name": "ipython",
    "version": 3
   },
   "file_extension": ".py",
   "mimetype": "text/x-python",
   "name": "python",
   "nbconvert_exporter": "python",
   "pygments_lexer": "ipython3",
   "version": "3.11.6"
  }
 },
 "nbformat": 4,
 "nbformat_minor": 2
}
