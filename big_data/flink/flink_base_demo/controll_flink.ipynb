{
 "cells": [
  {
   "cell_type": "markdown",
   "metadata": {},
   "source": [
    "# Python 操作 flink\n",
    "\n",
    "* rest_api\n",
    "* https://nightlies.apache.org/flink/flink-docs-release-1.18/zh/docs/ops/rest_api/"
   ]
  },
  {
   "cell_type": "code",
   "execution_count": 12,
   "metadata": {},
   "outputs": [],
   "source": [
    "import requests\n",
    "from pprint import pprint\n",
    "\n",
    "flink_addr=\"http://localhost:8081\""
   ]
  },
  {
   "cell_type": "markdown",
   "metadata": {},
   "source": [
    "## 查看jobmanager config\n"
   ]
  },
  {
   "cell_type": "code",
   "execution_count": null,
   "metadata": {},
   "outputs": [
    {
     "name": "stdout",
     "output_type": "stream",
     "text": [
      "[{'key': 'blob.server.port', 'value': '6124'},\n",
      " {'key': 'taskmanager.memory.process.size', 'value': '1728m'},\n",
      " {'key': 'taskmanager.bind-host', 'value': '0.0.0.0'},\n",
      " {'key': 'jobmanager.execution.failover-strategy', 'value': 'region'},\n",
      " {'key': 'jobmanager.rpc.address', 'value': 'jobmanager'},\n",
      " {'key': 'jobmanager.memory.off-heap.size', 'value': '134217728b'},\n",
      " {'key': 'jobmanager.memory.jvm-overhead.min', 'value': '201326592b'},\n",
      " {'key': 'jobmanager.memory.process.size', 'value': '1600m'},\n",
      " {'key': 'web.tmpdir',\n",
      "  'value': '/tmp/flink-web-26a5b370-c733-40b0-acaf-722019074367'},\n",
      " {'key': 'jobmanager.rpc.port', 'value': '6123'},\n",
      " {'key': 'query.server.port', 'value': '6125'},\n",
      " {'key': 'rest.bind-address', 'value': '0.0.0.0'},\n",
      " {'key': 'jobmanager.bind-host', 'value': '0.0.0.0'},\n",
      " {'key': 'parallelism.default', 'value': '1'},\n",
      " {'key': 'taskmanager.numberOfTaskSlots', 'value': '1'},\n",
      " {'key': 'rest.address', 'value': '0.0.0.0'},\n",
      " {'key': 'jobmanager.memory.jvm-metaspace.size', 'value': '268435456b'},\n",
      " {'key': 'env.java.opts.all',\n",
      "  'value': '--add-exports=java.base/sun.net.util=ALL-UNNAMED '\n",
      "           '--add-exports=java.rmi/sun.rmi.registry=ALL-UNNAMED '\n",
      "           '--add-exports=jdk.compiler/com.sun.tools.javac.api=ALL-UNNAMED '\n",
      "           '--add-exports=jdk.compiler/com.sun.tools.javac.file=ALL-UNNAMED '\n",
      "           '--add-exports=jdk.compiler/com.sun.tools.javac.parser=ALL-UNNAMED '\n",
      "           '--add-exports=jdk.compiler/com.sun.tools.javac.tree=ALL-UNNAMED '\n",
      "           '--add-exports=jdk.compiler/com.sun.tools.javac.util=ALL-UNNAMED '\n",
      "           '--add-exports=java.security.jgss/sun.security.krb5=ALL-UNNAMED '\n",
      "           '--add-opens=java.base/java.lang=ALL-UNNAMED '\n",
      "           '--add-opens=java.base/java.net=ALL-UNNAMED '\n",
      "           '--add-opens=java.base/java.io=ALL-UNNAMED '\n",
      "           '--add-opens=java.base/java.nio=ALL-UNNAMED '\n",
      "           '--add-opens=java.base/sun.nio.ch=ALL-UNNAMED '\n",
      "           '--add-opens=java.base/java.lang.reflect=ALL-UNNAMED '\n",
      "           '--add-opens=java.base/java.text=ALL-UNNAMED '\n",
      "           '--add-opens=java.base/java.time=ALL-UNNAMED '\n",
      "           '--add-opens=java.base/java.util=ALL-UNNAMED '\n",
      "           '--add-opens=java.base/java.util.concurrent=ALL-UNNAMED '\n",
      "           '--add-opens=java.base/java.util.concurrent.atomic=ALL-UNNAMED '\n",
      "           '--add-opens=java.base/java.util.concurrent.locks=ALL-UNNAMED'},\n",
      " {'key': 'jobmanager.memory.heap.size', 'value': '1073741824b'},\n",
      " {'key': 'jobmanager.memory.jvm-overhead.max', 'value': '201326592b'}]\n"
     ]
    }
   ],
   "source": [
    "resp = requests.get(f\"{flink_addr}/jobmanager/config\")\n",
    "pprint(resp.json())"
   ]
  },
  {
   "cell_type": "markdown",
   "metadata": {},
   "source": [
    "## 提交任务\n",
    "api 没有提供支持python的，只能手动run\n",
    "\n",
    "* execute this commond in docker \n",
    "    * ./bin/flink run --python /tmp/task/word_count_batch.py"
   ]
  }
 ],
 "metadata": {
  "kernelspec": {
   "display_name": "Python 3",
   "language": "python",
   "name": "python3"
  },
  "language_info": {
   "codemirror_mode": {
    "name": "ipython",
    "version": 3
   },
   "file_extension": ".py",
   "mimetype": "text/x-python",
   "name": "python",
   "nbconvert_exporter": "python",
   "pygments_lexer": "ipython3",
   "version": "3.11.6"
  }
 },
 "nbformat": 4,
 "nbformat_minor": 2
}
