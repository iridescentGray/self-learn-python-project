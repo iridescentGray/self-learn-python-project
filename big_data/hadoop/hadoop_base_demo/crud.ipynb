{
 "cells": [
  {
   "cell_type": "markdown",
   "metadata": {},
   "source": [
    "# Hadoop client\n"
   ]
  },
  {
   "cell_type": "markdown",
   "metadata": {},
   "source": [
    "# 创建连接\n"
   ]
  },
  {
   "cell_type": "code",
   "execution_count": null,
   "metadata": {},
   "outputs": [],
   "source": [
    "import hdfs\n",
    "from pprint import pprint"
   ]
  },
  {
   "cell_type": "code",
   "execution_count": null,
   "metadata": {},
   "outputs": [],
   "source": [
    "hdfs_client = hdfs.InsecureClient(\"http://localhost:9870\")\n"
   ]
  },
  {
   "cell_type": "markdown",
   "metadata": {},
   "source": [
    "# 目录/列表"
   ]
  },
  {
   "cell_type": "markdown",
   "metadata": {},
   "source": [
    "## 获取目录操作权限\n",
    "默认是没有权限操作目录的，需在hadoop shell中执行如下命令\n",
    "hadoop fs  -chmod 777 /"
   ]
  },
  {
   "cell_type": "code",
   "execution_count": null,
   "metadata": {},
   "outputs": [],
   "source": [
    "print(hdfs_client.list(\"/\"))\n",
    "pprint(hdfs_client.list(\"/\", status=True))\n",
    "pprint(hdfs_client.status(\"/\"))"
   ]
  },
  {
   "cell_type": "markdown",
   "metadata": {},
   "source": [
    "## 创建目录"
   ]
  },
  {
   "cell_type": "code",
   "execution_count": null,
   "metadata": {},
   "outputs": [],
   "source": [
    "hdfs_client.makedirs(\"/a/b/c\", permission=777)\n",
    "print(hdfs_client.list(\"/\")) \n",
    "print(hdfs_client.list(\"/a\")) \n",
    "print(hdfs_client.list(\"/a/b\"))  "
   ]
  },
  {
   "cell_type": "markdown",
   "metadata": {},
   "source": [
    "# 读/写"
   ]
  },
  {
   "cell_type": "markdown",
   "metadata": {},
   "source": [
    "## 普通写"
   ]
  },
  {
   "cell_type": "code",
   "execution_count": null,
   "metadata": {},
   "outputs": [],
   "source": [
    "import json\n",
    "\n",
    "\n",
    "with hdfs_client.read('/a/b/c') as reader:\n",
    "    features = reader.read()\n",
    "    print(features)\n",
    "\n",
    "write_data={\n",
    "    \"key\":\"value\"\n",
    "}\n",
    "\n",
    "with hdfs_client.write('/a/b/c') as writer:\n",
    "    features = writer.write(json.dumps(write_data))\n",
    "    print(features)\n"
   ]
  },
  {
   "cell_type": "markdown",
   "metadata": {},
   "source": [
    "## append写"
   ]
  },
  {
   "cell_type": "code",
   "execution_count": null,
   "metadata": {},
   "outputs": [],
   "source": [
    "with hdfs_client.write(\"/tttt\", append=True) as writer:\n",
    "    writer.write(bytes(\"令人讨厌的冬天又来了，\", encoding=\"utf-8\"))\n",
    "    writer.write(bytes(\"令人讨厌的冬天又来了，\", encoding=\"utf-8\"))\n",
    "\n",
    "\n",
    "\n",
    "with hdfs_client.read(\"/tttt\") as reader:\n",
    "    print(str(reader.read(), encoding=\"utf-8\")) "
   ]
  },
  {
   "cell_type": "markdown",
   "metadata": {},
   "source": [
    "## overwrite写"
   ]
  },
  {
   "cell_type": "code",
   "execution_count": null,
   "metadata": {},
   "outputs": [],
   "source": [
    "with hdfs_client.write(\"/tttt\", overwrite=True) as writer:\n",
    "    writer.write(bytes(\"暖かい日差しが降り注いできて、眩しすぎ、目が見えない\", encoding=\"utf-8\"))\n",
    "\n",
    "\n",
    "with hdfs_client.read(\"/tttt\") as reader:\n",
    "    # 如果是overwrite，那么之前的内容就全没了\n",
    "    print(str(reader.read(), encoding=\"utf-8\")) "
   ]
  }
 ],
 "metadata": {
  "kernelspec": {
   "display_name": "Python 3",
   "language": "python",
   "name": "python3"
  },
  "language_info": {
   "codemirror_mode": {
    "name": "ipython",
    "version": 3
   },
   "file_extension": ".py",
   "mimetype": "text/x-python",
   "name": "python",
   "nbconvert_exporter": "python",
   "pygments_lexer": "ipython3",
   "version": "3.11.6"
  }
 },
 "nbformat": 4,
 "nbformat_minor": 2
}
