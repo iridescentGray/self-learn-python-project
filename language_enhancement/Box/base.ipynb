{
 "cells": [
  {
   "cell_type": "markdown",
   "metadata": {},
   "source": [
    "# introduce\n",
    "\n",
    "Box 是dict的子类，无法通过点表示法 访问像keys和pop这样的名字已经被声明为方法"
   ]
  },
  {
   "cell_type": "code",
   "execution_count": 2,
   "metadata": {},
   "outputs": [],
   "source": [
    "from box import Box"
   ]
  },
  {
   "cell_type": "markdown",
   "metadata": {},
   "source": [
    "# key access\n"
   ]
  },
  {
   "cell_type": "markdown",
   "metadata": {},
   "source": [
    "## sub key\n"
   ]
  },
  {
   "cell_type": "code",
   "execution_count": 9,
   "metadata": {},
   "outputs": [
    {
     "data": {
      "text/plain": [
       "'value'"
      ]
     },
     "execution_count": 9,
     "metadata": {},
     "output_type": "execute_result"
    }
   ],
   "source": [
    "my_box = Box(key=\"value\")\n",
    "my_box.key"
   ]
  },
  {
   "cell_type": "markdown",
   "metadata": {},
   "source": [
    "## [] access\n"
   ]
  },
  {
   "cell_type": "code",
   "execution_count": 8,
   "metadata": {},
   "outputs": [
    {
     "data": {
      "text/plain": [
       "'value'"
      ]
     },
     "execution_count": 8,
     "metadata": {},
     "output_type": "execute_result"
    }
   ],
   "source": [
    "my_box = Box(key=\"value\")\n",
    "my_box[\"key\"]"
   ]
  },
  {
   "cell_type": "markdown",
   "metadata": {},
   "source": [
    "## more sub key\n"
   ]
  },
  {
   "cell_type": "code",
   "execution_count": 4,
   "metadata": {},
   "outputs": [
    {
     "data": {
      "text/plain": [
       "'Sarge'"
      ]
     },
     "execution_count": 4,
     "metadata": {},
     "output_type": "execute_result"
    }
   ],
   "source": [
    "my_box = Box({\"team\": {\"red\": {\"leader\": \"Sarge\", \"members\": []}}})\n",
    "my_box.team.red.leader"
   ]
  },
  {
   "cell_type": "code",
   "execution_count": 5,
   "metadata": {},
   "outputs": [
    {
     "data": {
      "text/plain": [
       "box.box.Box"
      ]
     },
     "execution_count": 5,
     "metadata": {},
     "output_type": "execute_result"
    }
   ],
   "source": [
    "type(my_box)"
   ]
  },
  {
   "cell_type": "markdown",
   "metadata": {},
   "source": [
    "## access list"
   ]
  },
  {
   "cell_type": "code",
   "execution_count": 7,
   "metadata": {},
   "outputs": [
    {
     "data": {
      "text/plain": [
       "'Grif'"
      ]
     },
     "execution_count": 7,
     "metadata": {},
     "output_type": "execute_result"
    }
   ],
   "source": [
    "my_box.members = [\n",
    "    {\"name\": \"Grif\", \"rank\": \"Minor Junior Private Negative First Class\"},\n",
    "    {\"name\": \"Dick Simmons\", \"rank\": \"Captain\"},\n",
    "]\n",
    "\n",
    "my_box.members[0].name"
   ]
  },
  {
   "cell_type": "markdown",
   "metadata": {},
   "source": [
    "# Box Attr"
   ]
  },
  {
   "cell_type": "markdown",
   "metadata": {},
   "source": [
    "## conversion_box\n",
    "\n",
    "1. Default: True\n",
    "2. 效果: 自动转换\n",
    "- 转换为字符串(UTF-8)\n",
    "- 下划线替换所有空格\n",
    "- 删除除 ASCII 字母、数字或下划线以外的任何内容\n",
    "- 若首字符是整数，它将在其前面添加一个小写“x”\n",
    "- 若字符串是无法使用的内置字符串，它将在前面添加一个小写“x”\n",
    "- 删除所有重复的下划线  "
   ]
  },
  {
   "cell_type": "code",
   "execution_count": 47,
   "metadata": {},
   "outputs": [],
   "source": [
    "c_box=Box(conversion_box=True)\n",
    "c_box[\"personal thoughts\"] = \"s\""
   ]
  },
  {
   "cell_type": "code",
   "execution_count": 44,
   "metadata": {},
   "outputs": [
    {
     "data": {
      "text/plain": [
       "'s'"
      ]
     },
     "execution_count": 44,
     "metadata": {},
     "output_type": "execute_result"
    }
   ],
   "source": [
    "c_box.personal_thoughts"
   ]
  },
  {
   "cell_type": "code",
   "execution_count": 51,
   "metadata": {},
   "outputs": [
    {
     "data": {
      "text/plain": [
       "'s'"
      ]
     },
     "execution_count": 51,
     "metadata": {},
     "output_type": "execute_result"
    }
   ],
   "source": [
    "c_box[\"personal thoughts\"]"
   ]
  },
  {
   "cell_type": "code",
   "execution_count": 46,
   "metadata": {},
   "outputs": [
    {
     "data": {
      "text/plain": [
       "'b'"
      ]
     },
     "execution_count": 46,
     "metadata": {},
     "output_type": "execute_result"
    }
   ],
   "source": [
    "c_box.personal_thoughts=\"b\"\n",
    "c_box.personal_thoughts"
   ]
  },
  {
   "cell_type": "markdown",
   "metadata": {},
   "source": [
    "## Default Box \n",
    "\n",
    "1. Default: False\n",
    "2. 效果: key具有默认的value"
   ]
  },
  {
   "cell_type": "code",
   "execution_count": 54,
   "metadata": {},
   "outputs": [
    {
     "name": "stdout",
     "output_type": "stream",
     "text": [
      "{}\n",
      "<class 'box.box.Box'>\n"
     ]
    }
   ],
   "source": [
    "empty_box = Box(default_box=True)\n",
    "\n",
    "print(empty_box)\n",
    "print(type(empty_box.a.b.c.d.e.f.g))"
   ]
  },
  {
   "cell_type": "code",
   "execution_count": 55,
   "metadata": {},
   "outputs": [],
   "source": [
    "empty_box.a.b.c.d=\"s\""
   ]
  },
  {
   "cell_type": "code",
   "execution_count": 64,
   "metadata": {},
   "outputs": [
    {
     "data": {
      "text/plain": [
       "'s'"
      ]
     },
     "execution_count": 64,
     "metadata": {},
     "output_type": "execute_result"
    }
   ],
   "source": [
    "empty_box.a.b.c.d"
   ]
  },
  {
   "cell_type": "code",
   "execution_count": 63,
   "metadata": {},
   "outputs": [],
   "source": [
    "evil_box = Box(default_box=True, default_box_attr=\"defaultvalue\")"
   ]
  },
  {
   "cell_type": "code",
   "execution_count": 67,
   "metadata": {},
   "outputs": [
    {
     "data": {
      "text/plain": [
       "'defaultvalue'"
      ]
     },
     "execution_count": 67,
     "metadata": {},
     "output_type": "execute_result"
    }
   ],
   "source": [
    "evil_box.a"
   ]
  },
  {
   "cell_type": "markdown",
   "metadata": {},
   "source": [
    "## frozen_box"
   ]
  },
  {
   "cell_type": "code",
   "execution_count": 68,
   "metadata": {},
   "outputs": [
    {
     "ename": "BoxError",
     "evalue": "Box is frozen",
     "output_type": "error",
     "traceback": [
      "\u001b[1;31m---------------------------------------------------------------------------\u001b[0m",
      "\u001b[1;31mBoxError\u001b[0m                                  Traceback (most recent call last)",
      "Cell \u001b[1;32mIn[68], line 3\u001b[0m\n\u001b[0;32m      1\u001b[0m frigid \u001b[38;5;241m=\u001b[39m Box(data\u001b[38;5;241m=\u001b[39m{\u001b[38;5;124m\"\u001b[39m\u001b[38;5;124mPython\u001b[39m\u001b[38;5;124m\"\u001b[39m: \u001b[38;5;124m\"\u001b[39m\u001b[38;5;124mRocks\u001b[39m\u001b[38;5;124m\"\u001b[39m, \u001b[38;5;124m\"\u001b[39m\u001b[38;5;124minferior\u001b[39m\u001b[38;5;124m\"\u001b[39m: [\u001b[38;5;124m\"\u001b[39m\u001b[38;5;124mjava\u001b[39m\u001b[38;5;124m\"\u001b[39m, \u001b[38;5;124m\"\u001b[39m\u001b[38;5;124mcobol\u001b[39m\u001b[38;5;124m\"\u001b[39m]}, frozen_box\u001b[38;5;241m=\u001b[39m\u001b[38;5;28;01mTrue\u001b[39;00m)\n\u001b[1;32m----> 3\u001b[0m \u001b[43mfrigid\u001b[49m\u001b[38;5;241;43m.\u001b[39;49m\u001b[43mdata\u001b[49m\u001b[38;5;241;43m.\u001b[39;49m\u001b[43mPython\u001b[49m \u001b[38;5;241m=\u001b[39m \u001b[38;5;124m\"\u001b[39m\u001b[38;5;124mStinks\u001b[39m\u001b[38;5;124m\"\u001b[39m\n",
      "File \u001b[1;32me:\\project\\python_new\\self\\self-learn-python-project\\.venv\\Lib\\site-packages\\box\\box.py:678\u001b[0m, in \u001b[0;36mbox.box.Box.__setattr__\u001b[1;34m()\u001b[0m\n",
      "\u001b[1;31mBoxError\u001b[0m: Box is frozen"
     ]
    }
   ],
   "source": [
    "frigid = Box(data={\"Python\": \"Rocks\", \"inferior\": [\"java\", \"cobol\"]}, frozen_box=True)\n",
    "\n",
    "frigid.data.Python = \"Stinks\""
   ]
  },
  {
   "cell_type": "markdown",
   "metadata": {},
   "source": [
    "## Values Recast\n",
    "确保某个字段的类型"
   ]
  },
  {
   "cell_type": "code",
   "execution_count": 69,
   "metadata": {},
   "outputs": [
    {
     "name": "stdout",
     "output_type": "stream",
     "text": [
      "<class 'int'>\n"
     ]
    }
   ],
   "source": [
    "# 确保id 是int\n",
    "my_box = Box(box_recast={\"id\": int})\n",
    "\n",
    "my_box.new_key = {\"id\": \"55\", \"example\": \"value\"}\n",
    "\n",
    "print(type(my_box.new_key.id))"
   ]
  },
  {
   "cell_type": "markdown",
   "metadata": {},
   "source": [
    "# Converters"
   ]
  },
  {
   "cell_type": "markdown",
   "metadata": {},
   "source": [
    "## dict"
   ]
  },
  {
   "cell_type": "code",
   "execution_count": 7,
   "metadata": {},
   "outputs": [
    {
     "name": "stdout",
     "output_type": "stream",
     "text": [
      "{'team': 'super', 'leader': 'Sarge'}\n",
      "<class 'box.box.Box'>\n"
     ]
    }
   ],
   "source": [
    "conv_box = Box({\"team\": \"super\",\"leader\": \"Sarge\"})\n",
    "print(conv_box)\n",
    "print(type(conv_box))"
   ]
  },
  {
   "cell_type": "code",
   "execution_count": 5,
   "metadata": {},
   "outputs": [
    {
     "name": "stdout",
     "output_type": "stream",
     "text": [
      "{'team': 'super', 'leader': 'Sarge'}\n",
      "<class 'dict'>\n"
     ]
    }
   ],
   "source": [
    "d_box=conv_box.to_dict()\n",
    "print(d_box)\n",
    "print(type(d_box))"
   ]
  },
  {
   "cell_type": "markdown",
   "metadata": {},
   "source": [
    "## json"
   ]
  },
  {
   "cell_type": "code",
   "execution_count": 10,
   "metadata": {},
   "outputs": [
    {
     "name": "stdout",
     "output_type": "stream",
     "text": [
      "{'team': 'super', 'leader': 'Sarge'}\n",
      "<class 'box.box.Box'>\n"
     ]
    }
   ],
   "source": [
    "j_box=Box.from_json('{\"team\": \"super\", \"leader\": \"Sarge\"}')\n",
    "print(j_box)\n",
    "print(type(j_box))"
   ]
  },
  {
   "cell_type": "code",
   "execution_count": 11,
   "metadata": {},
   "outputs": [
    {
     "name": "stdout",
     "output_type": "stream",
     "text": [
      "{\"team\": \"super\", \"leader\": \"Sarge\"}\n",
      "<class 'str'>\n"
     ]
    }
   ],
   "source": [
    "j_str=j_box.to_json()\n",
    "print(j_str)\n",
    "print(type(j_str))"
   ]
  },
  {
   "cell_type": "markdown",
   "metadata": {},
   "source": [
    "## yaml"
   ]
  },
  {
   "cell_type": "code",
   "execution_count": 14,
   "metadata": {},
   "outputs": [
    {
     "name": "stdout",
     "output_type": "stream",
     "text": [
      "{'leader': 'Sarge', 'team': 'super'}\n",
      "<class 'box.box.Box'>\n"
     ]
    }
   ],
   "source": [
    "yaml_box = Box.from_yaml(\"leader: Sarge\\nteam: super\\n\")\n",
    "print(yaml_box)\n",
    "print(type(yaml_box))"
   ]
  }
 ],
 "metadata": {
  "kernelspec": {
   "display_name": ".venv",
   "language": "python",
   "name": "python3"
  },
  "language_info": {
   "codemirror_mode": {
    "name": "ipython",
    "version": 3
   },
   "file_extension": ".py",
   "mimetype": "text/x-python",
   "name": "python",
   "nbconvert_exporter": "python",
   "pygments_lexer": "ipython3",
   "version": "3.12.5"
  }
 },
 "nbformat": 4,
 "nbformat_minor": 2
}
