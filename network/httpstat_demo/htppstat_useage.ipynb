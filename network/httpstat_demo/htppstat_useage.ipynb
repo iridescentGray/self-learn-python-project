{
 "cells": [
  {
   "cell_type": "markdown",
   "metadata": {},
   "source": [
    "# Get Some Help"
   ]
  },
  {
   "cell_type": "code",
   "execution_count": 3,
   "metadata": {},
   "outputs": [
    {
     "name": "stdout",
     "output_type": "stream",
     "text": [
      "Usage: httpstat URL [CURL_OPTIONS]\n",
      "       httpstat -h | --help\n",
      "       httpstat --version\n",
      "\n",
      "Arguments:\n",
      "  URL     url to request, could be with or without `http(s)://` prefix\n",
      "\n",
      "Options:\n",
      "  CURL_OPTIONS  any curl supported options, except for -w -D -o -S -s,\n",
      "                which are already used internally.\n",
      "  -h --help     show this screen.\n",
      "  --version     show version.\n",
      "\n",
      "Environments:\n",
      "  HTTPSTAT_SHOW_BODY    Set to `true` to show response body in the output,\n",
      "                        note that body length is limited to 1023 bytes, will be\n",
      "                        truncated if exceeds. Default is `false`.\n",
      "  HTTPSTAT_SHOW_IP      By default httpstat shows remote and local IP/port address.\n",
      "                        Set to `false` to disable this feature. Default is `true`.\n",
      "  HTTPSTAT_SHOW_SPEED   Set to `true` to show download and upload speed.\n",
      "                        Default is `false`.\n",
      "  HTTPSTAT_SAVE_BODY    By default httpstat stores body in a tmp file,\n",
      "                        set to `false` to disable this feature. Default is `true`\n",
      "  HTTPSTAT_CURL_BIN     Indicate the curl bin path to use. Default is `curl`\n",
      "                        from current shell $PATH.\n",
      "  HTTPSTAT_DEBUG        Set to `true` to see debugging logs. Default is `false`\n"
     ]
    }
   ],
   "source": [
    "!httpstat -h"
   ]
  },
  {
   "cell_type": "markdown",
   "metadata": {},
   "source": [
    "# Set Env"
   ]
  },
  {
   "cell_type": "code",
   "execution_count": 4,
   "metadata": {},
   "outputs": [
    {
     "name": "stdout",
     "output_type": "stream",
     "text": [
      "env: HTTPSTAT_SAVE_BODY=false\n"
     ]
    }
   ],
   "source": [
    "%env HTTPSTAT_SAVE_BODY=false"
   ]
  },
  {
   "cell_type": "markdown",
   "metadata": {},
   "source": [
    "# Get Request"
   ]
  },
  {
   "cell_type": "code",
   "execution_count": 5,
   "metadata": {},
   "outputs": [
    {
     "name": "stdout",
     "output_type": "stream",
     "text": [
      "Connected to 198.18.0.35:80 from 198.18.0.1:51486\n",
      "\n",
      "HTTP/1.1 200 OK\n",
      "Date: Mon, 24 Jun 2024 02:00:11 GMT\n",
      "Content-Type: application/json\n",
      "Content-Length: 252\n",
      "Connection: keep-alive\n",
      "Server: gunicorn/19.9.0\n",
      "Access-Control-Allow-Origin: *\n",
      "Access-Control-Allow-Credentials: true\n",
      "\n",
      "\n",
      "  DNS Lookup   TCP Connection   Server Processing   Content Transfer\n",
      "[     8ms    |       1ms      |       515ms       |        2ms       ]\n",
      "             |                |                   |                  |\n",
      "    namelookup:8ms            |                   |                  |\n",
      "                        connect:9ms               |                  |\n",
      "                                      starttransfer:524ms            |\n",
      "                                                                 total:526ms  \n",
      "\n"
     ]
    }
   ],
   "source": [
    "!httpstat httpbin.org/get"
   ]
  },
  {
   "cell_type": "markdown",
   "metadata": {},
   "source": [
    "# POST Request"
   ]
  },
  {
   "cell_type": "code",
   "execution_count": 6,
   "metadata": {},
   "outputs": [
    {
     "name": "stdout",
     "output_type": "stream",
     "text": [
      "* Host httpbin.org:80 was resolved.\n",
      "\n",
      "* IPv6: (none)\n",
      "\n",
      "* IPv4: 198.18.0.35\n",
      "\n",
      "*   Trying 198.18.0.35:80...\n",
      "\n",
      "* Connected to httpbin.org (198.18.0.35) port 80\n",
      "\n",
      "> POST /post HTTP/1.1\n",
      "\n",
      "\n",
      "> Host: httpbin.org\n",
      "\n",
      "\n",
      "> User-Agent: curl/8.7.1\n",
      "\n",
      "\n",
      "> Accept: */*\n",
      "\n",
      "\n",
      "> Content-Length: 3\n",
      "\n",
      "\n",
      "> Content-Type: application/x-www-form-urlencoded\n",
      "\n",
      "\n",
      "> \n",
      "\n",
      "\n",
      "} [3 bytes data]\n",
      "\n",
      "* upload completely sent off: 3 bytes\n",
      "\n",
      "< HTTP/1.1 200 OK\n",
      "\n",
      "\n",
      "< Date: Mon, 24 Jun 2024 02:00:16 GMT\n",
      "\n",
      "\n",
      "< Content-Type: application/json\n",
      "\n",
      "\n",
      "< Content-Length: 418\n",
      "\n",
      "\n",
      "< Connection: keep-alive\n",
      "\n",
      "\n",
      "< Server: gunicorn/19.9.0\n",
      "\n",
      "\n",
      "< Access-Control-Allow-Origin: *\n",
      "\n",
      "\n",
      "< Access-Control-Allow-Credentials: true\n",
      "\n",
      "\n",
      "< \n",
      "\n",
      "\n",
      "{ [418 bytes data]\n",
      "\n",
      "* Connection #0 to host httpbin.org left intact\n",
      "\n",
      "\n",
      "Connected to 198.18.0.35:80 from 198.18.0.1:51495\n",
      "\n",
      "HTTP/1.1 200 OK\n",
      "Date: Mon, 24 Jun 2024 02:00:16 GMT\n",
      "Content-Type: application/json\n",
      "Content-Length: 418\n",
      "Connection: keep-alive\n",
      "Server: gunicorn/19.9.0\n",
      "Access-Control-Allow-Origin: *\n",
      "Access-Control-Allow-Credentials: true\n",
      "\n",
      "\n",
      "  DNS Lookup   TCP Connection   Server Processing   Content Transfer\n",
      "[     5ms    |       1ms      |       528ms       |        1ms       ]\n",
      "             |                |                   |                  |\n",
      "    namelookup:5ms            |                   |                  |\n",
      "                        connect:6ms               |                  |\n",
      "                                      starttransfer:534ms            |\n",
      "                                                                 total:535ms  \n",
      "\n"
     ]
    }
   ],
   "source": [
    "!httpstat httpbin.org/post -X POST --data-urlencode \"a=b\" -v"
   ]
  }
 ],
 "metadata": {
  "kernelspec": {
   "display_name": ".venv",
   "language": "python",
   "name": "python3"
  },
  "language_info": {
   "codemirror_mode": {
    "name": "ipython",
    "version": 3
   },
   "file_extension": ".py",
   "mimetype": "text/x-python",
   "name": "python",
   "nbconvert_exporter": "python",
   "pygments_lexer": "ipython3",
   "version": "3.11.8"
  }
 },
 "nbformat": 4,
 "nbformat_minor": 2
}
