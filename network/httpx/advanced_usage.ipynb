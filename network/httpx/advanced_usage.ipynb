{
 "cells": [
  {
   "cell_type": "markdown",
   "metadata": {},
   "source": [
    "# Client\n",
    "\n",
    "httpx.Client() 类似于 requests.Session()\n",
    "\n",
    "- Client 实例使用 HTTP 连接池。当向同一主机发出多个请求时， Client 将重用底层 TCP 连接\n",
    "- 跨请求的 Cookie 持久性。\n",
    "- 支持 HTTP proxies\n"
   ]
  },
  {
   "cell_type": "code",
   "execution_count": 2,
   "metadata": {},
   "outputs": [],
   "source": [
    "import httpx"
   ]
  },
  {
   "cell_type": "markdown",
   "metadata": {},
   "source": [
    "## Event Hooks\n"
   ]
  },
  {
   "cell_type": "markdown",
   "metadata": {},
   "source": [
    "### log\n"
   ]
  },
  {
   "cell_type": "code",
   "execution_count": 17,
   "metadata": {},
   "outputs": [],
   "source": [
    "def log_request(request):\n",
    "    print(\n",
    "        f\"Request event hook: {request.method} {request.url} {request.headers} - Waiting for response\"\n",
    "    )\n",
    "\n",
    "\n",
    "def log_response(response):\n",
    "    request = response.request\n",
    "    print(\n",
    "        f\"Response event hook: {request.method} {request.url} - Status {response.status_code}\"\n",
    "    )\n",
    "\n",
    "\n",
    "event_client = httpx.Client(\n",
    "    event_hooks={\"request\": [log_request], \"response\": [log_response]}\n",
    ")"
   ]
  },
  {
   "cell_type": "code",
   "execution_count": 18,
   "metadata": {},
   "outputs": [
    {
     "name": "stdout",
     "output_type": "stream",
     "text": [
      "Request event hook: GET https://www.example.org/ Headers({'host': 'www.example.org', 'accept': '*/*', 'accept-encoding': 'gzip, deflate', 'connection': 'keep-alive', 'user-agent': 'python-httpx/0.25.2', 'k1': 'v1'}) - Waiting for response\n",
      "Response event hook: GET https://www.example.org/ - Status 200\n",
      "-----------resp:<httpx.Client object at 0x0000017667307250>\n"
     ]
    }
   ],
   "source": [
    "r = event_client.get(\"https://www.example.org/\", headers={\"k1\": \"v1\"})\n",
    "print(f\"-----------resp:{event_client}\")"
   ]
  },
  {
   "cell_type": "markdown",
   "metadata": {},
   "source": [
    "### change request\n"
   ]
  },
  {
   "cell_type": "code",
   "execution_count": 5,
   "metadata": {},
   "outputs": [],
   "source": [
    "def add_timestamp(request):\n",
    "    request.headers[\"x-request-timestamp\"] = \"now\"\n",
    "\n",
    "\n",
    "change_request_client = httpx.Client(event_hooks={\"request\": [add_timestamp]})"
   ]
  },
  {
   "cell_type": "markdown",
   "metadata": {},
   "source": [
    "## proxies\n"
   ]
  },
  {
   "cell_type": "markdown",
   "metadata": {},
   "source": [
    "### base\n"
   ]
  },
  {
   "cell_type": "code",
   "execution_count": null,
   "metadata": {},
   "outputs": [],
   "source": [
    "with httpx.Client(proxies=\"http://localhost:7890\") as client:\n",
    "    r = client.get(\"https://www.google.com/\")\n",
    "    print(r.text)"
   ]
  },
  {
   "cell_type": "markdown",
   "metadata": {},
   "source": [
    "### mounts\n"
   ]
  },
  {
   "cell_type": "code",
   "execution_count": null,
   "metadata": {},
   "outputs": [],
   "source": [
    "from httpx import Proxy\n",
    "\n",
    "\n",
    "proxy_mounts = {\n",
    "\n",
    "    \"http://\": httpx.HTTPTransport(proxy=Proxy(url=\"http://localhost:7890\")),\n",
    "\n",
    "    \"https://\": httpx.HTTPTransport(proxy=Proxy(url=\"http://localhost:7890\")),\n",
    "\n",
    "}\n",
    "\n",
    "\n",
    "\n",
    "with httpx.Client(mounts=proxy_mounts) as client:\n",
    "\n",
    "    r = client.get(\"https://www.google.com/\")\n",
    "    print(r.text)"
   ]
  },
  {
   "cell_type": "markdown",
   "metadata": {},
   "source": [
    "## timeout\n",
    "\n",
    "可能会发生四种不同类型的超时。这些是连接、读取、写入和池超时。\n"
   ]
  },
  {
   "cell_type": "markdown",
   "metadata": {},
   "source": [
    "### base\n"
   ]
  },
  {
   "cell_type": "code",
   "execution_count": null,
   "metadata": {},
   "outputs": [],
   "source": [
    "with httpx.Client(timeout=10) as client:\n",
    "    r = client.get(\"https://www.google.com/\")\n",
    "    print(r.text)"
   ]
  },
  {
   "cell_type": "markdown",
   "metadata": {},
   "source": [
    "### connect\n"
   ]
  },
  {
   "cell_type": "code",
   "execution_count": null,
   "metadata": {},
   "outputs": [],
   "source": [
    "timeout = httpx.Timeout(10.0, connect=60.0)\n",
    "client = httpx.Client(timeout=timeout)"
   ]
  },
  {
   "cell_type": "markdown",
   "metadata": {},
   "source": [
    "### read\n"
   ]
  },
  {
   "cell_type": "code",
   "execution_count": 14,
   "metadata": {},
   "outputs": [],
   "source": [
    "timeout = httpx.Timeout(10.0, read=60.0)\n",
    "client = httpx.Client(timeout=timeout)"
   ]
  },
  {
   "cell_type": "markdown",
   "metadata": {},
   "source": [
    "### write\n"
   ]
  },
  {
   "cell_type": "code",
   "execution_count": null,
   "metadata": {},
   "outputs": [],
   "source": [
    "timeout = httpx.Timeout(10.0, write=60.0)\n",
    "client = httpx.Client(timeout=timeout)"
   ]
  },
  {
   "cell_type": "markdown",
   "metadata": {},
   "source": [
    "### pool\n"
   ]
  },
  {
   "cell_type": "code",
   "execution_count": null,
   "metadata": {},
   "outputs": [],
   "source": [
    "timeout = httpx.Timeout(10.0, pool=60.0)\n",
    "client = httpx.Client(timeout=timeout)"
   ]
  },
  {
   "cell_type": "markdown",
   "metadata": {},
   "source": [
    "## Monitoring download progress\n"
   ]
  },
  {
   "cell_type": "code",
   "execution_count": 24,
   "metadata": {},
   "outputs": [
    {
     "name": "stderr",
     "output_type": "stream",
     "text": [
      "100%|██████████| 190/190 [00:00<00:00, 184kB/s]\n"
     ]
    }
   ],
   "source": [
    "import tempfile\n",
    "\n",
    "import httpx\n",
    "from tqdm import tqdm\n",
    "\n",
    "with tempfile.NamedTemporaryFile() as download_file:\n",
    "    with httpx.stream(\"GET\", \"https://speed.hetzner.de/100MB.bin\") as response:\n",
    "        total = int(response.headers[\"Content-Length\"])\n",
    "        with tqdm(\n",
    "            total=total, unit_scale=True, unit_divisor=1024, unit=\"B\"\n",
    "        ) as progress:\n",
    "            num_bytes_downloaded = response.num_bytes_downloaded\n",
    "            for chunk in response.iter_bytes():\n",
    "                download_file.write(chunk)\n",
    "                progress.update(response.num_bytes_downloaded - num_bytes_downloaded)\n",
    "                num_bytes_downloaded = response.num_bytes_downloaded"
   ]
  },
  {
   "cell_type": "markdown",
   "metadata": {},
   "source": [
    "## Customizing authentication\n"
   ]
  },
  {
   "cell_type": "markdown",
   "metadata": {},
   "source": [
    "### base\n"
   ]
  },
  {
   "cell_type": "code",
   "execution_count": 20,
   "metadata": {},
   "outputs": [
    {
     "data": {
      "text/plain": [
       "<Response [200 OK]>"
      ]
     },
     "execution_count": 20,
     "metadata": {},
     "output_type": "execute_result"
    }
   ],
   "source": [
    "class MyCustomAuth(httpx.Auth):\n",
    "    def __init__(self, token):\n",
    "        self.token = token\n",
    "\n",
    "    def auth_flow(self, request):\n",
    "        request.headers[\"X-Authentication\"] = self.token\n",
    "        yield request\n",
    "\n",
    "\n",
    "client = httpx.Client(auth=MyCustomAuth(\"token\"))\n",
    "r = client.get(\"https://www.google.com/\")\n",
    "r"
   ]
  },
  {
   "cell_type": "markdown",
   "metadata": {},
   "source": [
    "### if 401\n"
   ]
  },
  {
   "cell_type": "code",
   "execution_count": 25,
   "metadata": {},
   "outputs": [],
   "source": [
    "class MyCustomAuth(httpx.Auth):\n",
    "    def __init__(self, token):\n",
    "        self.token = token\n",
    "\n",
    "    def auth_flow(self, request):\n",
    "        response = yield request\n",
    "        if response.status_code == 401:\n",
    "            request.headers[\"X-Authentication\"] = self.token\n",
    "            yield request"
   ]
  },
  {
   "cell_type": "markdown",
   "metadata": {},
   "source": [
    "### asyncio auto\n"
   ]
  },
  {
   "cell_type": "code",
   "execution_count": 23,
   "metadata": {},
   "outputs": [
    {
     "data": {
      "text/plain": [
       "<Response [200 OK]>"
      ]
     },
     "execution_count": 23,
     "metadata": {},
     "output_type": "execute_result"
    }
   ],
   "source": [
    "import asyncio\n",
    "import threading\n",
    "import httpx\n",
    "\n",
    "\n",
    "class MyAsyncCustomAuth(httpx.Auth):\n",
    "    def __init__(self):\n",
    "        self._sync_lock = threading.RLock()\n",
    "        self._async_lock = asyncio.Lock()\n",
    "\n",
    "    def sync_get_token(self):\n",
    "        with self._sync_lock:\n",
    "            ...\n",
    "\n",
    "    def sync_auth_flow(self, request):\n",
    "        token = self.sync_get_token()\n",
    "        request.headers[\"Authorization\"] = f\"Token {token}\"\n",
    "        yield request\n",
    "\n",
    "    async def async_get_token(self):\n",
    "        async with self._async_lock:\n",
    "            ...\n",
    "\n",
    "    async def async_auth_flow(self, request):\n",
    "        token = await self.async_get_token()\n",
    "        request.headers[\"Authorization\"] = f\"Token {token}\"\n",
    "        yield request\n",
    "\n",
    "\n",
    "client = httpx.AsyncClient(auth=MyAsyncCustomAuth())\n",
    "r = await client.get(\"https://www.google.com/\")\n",
    "r"
   ]
  }
 ],
 "metadata": {
  "kernelspec": {
   "display_name": "Python 3",
   "language": "python",
   "name": "python3"
  },
  "language_info": {
   "codemirror_mode": {
    "name": "ipython",
    "version": 3
   },
   "file_extension": ".py",
   "mimetype": "text/x-python",
   "name": "python",
   "nbconvert_exporter": "python",
   "pygments_lexer": "ipython3",
   "version": "3.10.11"
  }
 },
 "nbformat": 4,
 "nbformat_minor": 2
}
