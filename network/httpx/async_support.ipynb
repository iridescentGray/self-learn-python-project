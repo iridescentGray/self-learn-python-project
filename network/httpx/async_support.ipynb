{
 "cells": [
  {
   "cell_type": "code",
   "execution_count": null,
   "metadata": {},
   "outputs": [],
   "source": [
    "import httpx\n",
    "import json"
   ]
  },
  {
   "cell_type": "markdown",
   "metadata": {},
   "source": [
    "# AsyncClient Create\n",
    "\n",
    "为了从连接池中获得最大收益，请确保您没有实例化多个客户端实例\n"
   ]
  },
  {
   "cell_type": "code",
   "execution_count": null,
   "metadata": {},
   "outputs": [],
   "source": [
    "async with httpx.AsyncClient() as client:\n",
    "    r = await client.get(\"https://www.example.com/\")\n",
    "    print(r)"
   ]
  },
  {
   "cell_type": "markdown",
   "metadata": {},
   "source": [
    "## Explicit transport instances\n"
   ]
  },
  {
   "cell_type": "code",
   "execution_count": 29,
   "metadata": {},
   "outputs": [
    {
     "name": "stdout",
     "output_type": "stream",
     "text": [
      "<Response [200 OK]>\n"
     ]
    }
   ],
   "source": [
    "transport = httpx.AsyncHTTPTransport(retries=1)\n",
    "async with httpx.AsyncClient(transport=transport) as client:\n",
    "    r = await client.get(\"https://www.example.com/\")\n",
    "    print(r)"
   ]
  },
  {
   "cell_type": "markdown",
   "metadata": {},
   "source": [
    "# Streaming requests\n",
    "\n",
    "content 可以传递 async yield byte\n"
   ]
  },
  {
   "cell_type": "code",
   "execution_count": null,
   "metadata": {},
   "outputs": [],
   "source": [
    "# async yield\n",
    "async def upload_bytes():\n",
    "    yield json.dumps({\"key\": \"value\"}).encode()\n",
    "\n",
    "\n",
    "async with httpx.AsyncClient() as client:\n",
    "    r = await client.post(\"https://httpbin.org/post\", content=upload_bytes())\n",
    "    print(r.text)"
   ]
  },
  {
   "cell_type": "markdown",
   "metadata": {},
   "source": [
    "## json\n",
    "\n",
    "当然传递普通 json 也是可以的,最后会被框架转换为 async_byte\n"
   ]
  },
  {
   "cell_type": "code",
   "execution_count": null,
   "metadata": {},
   "outputs": [],
   "source": [
    "data = {\"integer\": 123, \"boolean\": True, \"list\": [\"a\", \"b\", \"c\"]}\n",
    "async with httpx.AsyncClient() as client:\n",
    "    r = await client.post(\"https://httpbin.org/post\", data=data)\n",
    "    print(r.text)"
   ]
  },
  {
   "cell_type": "markdown",
   "metadata": {},
   "source": [
    "# Streaming responses\n"
   ]
  },
  {
   "cell_type": "code",
   "execution_count": null,
   "metadata": {},
   "outputs": [],
   "source": [
    "client = httpx.AsyncClient()\n",
    "async with client.stream(\"GET\", \"https://www.example.com/\") as response:\n",
    "    async for chunk in response.aiter_bytes():\n",
    "        print(chunk)\n",
    "await client.aclose()"
   ]
  }
 ],
 "metadata": {
  "kernelspec": {
   "display_name": "Python 3",
   "language": "python",
   "name": "python3"
  },
  "language_info": {
   "codemirror_mode": {
    "name": "ipython",
    "version": 3
   },
   "file_extension": ".py",
   "mimetype": "text/x-python",
   "name": "python",
   "nbconvert_exporter": "python",
   "pygments_lexer": "ipython3",
   "version": "3.10.11"
  }
 },
 "nbformat": 4,
 "nbformat_minor": 2
}
