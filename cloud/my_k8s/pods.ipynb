{
 "cells": [
  {
   "cell_type": "code",
   "execution_count": 1,
   "metadata": {},
   "outputs": [],
   "source": [
    "from kubernetes import config\n",
    "\n",
    "# Configs can be set in Configuration class directly or using helper utility\n",
    "config.load_kube_config()"
   ]
  },
  {
   "cell_type": "markdown",
   "metadata": {},
   "source": [
    "# pods"
   ]
  },
  {
   "cell_type": "code",
   "execution_count": 3,
   "metadata": {},
   "outputs": [
    {
     "name": "stdout",
     "output_type": "stream",
     "text": [
      "Listing pods with their IPs:\n",
      "10.244.0.5\tkube-system\tcoredns-7db6d8ff4d-jqj8p\n",
      "192.168.49.2\tkube-system\tetcd-minikube\n",
      "192.168.49.2\tkube-system\tkube-apiserver-minikube\n",
      "192.168.49.2\tkube-system\tkube-controller-manager-minikube\n",
      "192.168.49.2\tkube-system\tkube-proxy-8s57q\n",
      "192.168.49.2\tkube-system\tkube-scheduler-minikube\n",
      "192.168.49.2\tkube-system\tstorage-provisioner\n",
      "10.244.0.6\tkubernetes-dashboard\tdashboard-metrics-scraper-b5fc48f67-xxdk2\n",
      "10.244.0.7\tkubernetes-dashboard\tkubernetes-dashboard-779776cb65-pj4wt\n"
     ]
    }
   ],
   "source": [
    "from kubernetes import client\n",
    "\n",
    "v1 = client.CoreV1Api()\n",
    "print(\"Listing pods with their IPs:\")\n",
    "ret = v1.list_pod_for_all_namespaces(watch=False)\n",
    "for i in ret.items:\n",
    "    print(\"%s\\t%s\\t%s\" % (i.status.pod_ip, i.metadata.namespace, i.metadata.name))"
   ]
  }
 ],
 "metadata": {
  "kernelspec": {
   "display_name": ".venv",
   "language": "python",
   "name": "python3"
  },
  "language_info": {
   "codemirror_mode": {
    "name": "ipython",
    "version": 3
   },
   "file_extension": ".py",
   "mimetype": "text/x-python",
   "name": "python",
   "nbconvert_exporter": "python",
   "pygments_lexer": "ipython3",
   "version": "3.11.8"
  }
 },
 "nbformat": 4,
 "nbformat_minor": 2
}
