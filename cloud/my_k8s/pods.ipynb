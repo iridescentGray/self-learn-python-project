{
 "cells": [
  {
   "cell_type": "code",
   "execution_count": 1,
   "metadata": {},
   "outputs": [],
   "source": [
    "from kubernetes import config\n",
    "\n",
    "# Configs can be set in Configuration class directly or using helper utility\n",
    "config.load_kube_config()"
   ]
  },
  {
   "cell_type": "markdown",
   "metadata": {},
   "source": [
    "# list pod\n"
   ]
  },
  {
   "cell_type": "markdown",
   "metadata": {},
   "source": [
    "## pods target namespace"
   ]
  },
  {
   "cell_type": "code",
   "execution_count": 13,
   "metadata": {},
   "outputs": [
    {
     "name": "stdout",
     "output_type": "stream",
     "text": [
      "Listing pods with their IPs:\n",
      "10.244.0.35\tdefault\thellok8s-deployment-985f769d8-65prp\n",
      "10.244.0.36\tdefault\thellok8s-deployment-985f769d8-md6fv\n",
      "10.244.0.34\tdefault\thellok8s-deployment-985f769d8-wq9kz\n",
      "10.244.0.37\tdefault\tnginx-pod\n"
     ]
    }
   ],
   "source": [
    "from kubernetes import client\n",
    "\n",
    "v1 = client.CoreV1Api()\n",
    "print(\"Listing pods with their IPs:\")\n",
    "ret = v1.list_namespaced_pod(namespace=\"default\")\n",
    "for i in ret.items:\n",
    "    print(\"%s\\t%s\\t%s\" % (i.status.pod_ip, i.metadata.namespace, i.metadata.name))"
   ]
  },
  {
   "cell_type": "markdown",
   "metadata": {},
   "source": [
    "## pods all namespaces\n"
   ]
  },
  {
   "cell_type": "code",
   "execution_count": 8,
   "metadata": {},
   "outputs": [
    {
     "name": "stdout",
     "output_type": "stream",
     "text": [
      "Listing pods with their IPs:\n",
      "10.244.0.31\tdefault\thellok8s-deployment-985f769d8-7c875\n",
      "10.244.0.32\tdefault\thellok8s-deployment-985f769d8-7crlt\n",
      "10.244.0.33\tdefault\thellok8s-deployment-985f769d8-mc99l\n",
      "10.244.0.30\tdev\tnginx-pod\n",
      "None\tingress-nginx\tingress-nginx-admission-create-sq9cn\n",
      "None\tingress-nginx\tingress-nginx-admission-patch-2d8jr\n",
      "10.244.0.27\tingress-nginx\tingress-nginx-controller-768f948f8f-9rsnl\n",
      "10.244.0.22\tkube-system\tcoredns-7db6d8ff4d-zsrrg\n",
      "192.168.49.2\tkube-system\tetcd-minikube\n",
      "192.168.49.2\tkube-system\tkube-apiserver-minikube\n",
      "192.168.49.2\tkube-system\tkube-controller-manager-minikube\n",
      "192.168.49.2\tkube-system\tkube-proxy-hhs58\n",
      "192.168.49.2\tkube-system\tkube-scheduler-minikube\n",
      "192.168.49.2\tkube-system\tstorage-provisioner\n",
      "10.244.0.21\tkubernetes-dashboard\tdashboard-metrics-scraper-b5fc48f67-2ntqz\n",
      "10.244.0.29\tkubernetes-dashboard\tkubernetes-dashboard-779776cb65-lphhb\n"
     ]
    }
   ],
   "source": [
    "from kubernetes import client\n",
    "\n",
    "v1 = client.CoreV1Api()\n",
    "print(\"Listing pods with their IPs:\")\n",
    "ret = v1.list_pod_for_all_namespaces(watch=False)\n",
    "for i in ret.items:\n",
    "    print(\"%s\\t%s\\t%s\" % (i.status.pod_ip, i.metadata.namespace, i.metadata.name))"
   ]
  },
  {
   "cell_type": "markdown",
   "metadata": {},
   "source": [
    "# log"
   ]
  },
  {
   "cell_type": "markdown",
   "metadata": {},
   "source": [
    "## get log"
   ]
  },
  {
   "cell_type": "code",
   "execution_count": null,
   "metadata": {},
   "outputs": [],
   "source": [
    "# pods\n",
    "from kubernetes import client\n",
    "config.load_kube_config()\n",
    "v1 = client.CoreV1Api()\n",
    "v1.read_namespaced_pod_log(name=\"nginx-pod\", namespace=\"default\")"
   ]
  },
  {
   "cell_type": "markdown",
   "metadata": {},
   "source": [
    "## watch log"
   ]
  },
  {
   "cell_type": "code",
   "execution_count": 15,
   "metadata": {},
   "outputs": [],
   "source": [
    "from kubernetes import client,watch\n",
    "\n",
    "v1 = client.CoreV1Api()\n",
    "try:\n",
    "    w = watch.Watch()\n",
    "    for log_line in w.stream(\n",
    "        v1.read_namespaced_pod_log,\n",
    "        name=\"nginx-pod\",\n",
    "        namespace=\"default\",\n",
    "        follow=True,\n",
    "    ):\n",
    "        print(log_line)\n",
    "except Exception as e:\n",
    "    print(f\"Exception when calling CoreV1Api->read_namespaced_pod_log: {e}\")"
   ]
  }
 ],
 "metadata": {
  "kernelspec": {
   "display_name": ".venv",
   "language": "python",
   "name": "python3"
  },
  "language_info": {
   "codemirror_mode": {
    "name": "ipython",
    "version": 3
   },
   "file_extension": ".py",
   "mimetype": "text/x-python",
   "name": "python",
   "nbconvert_exporter": "python",
   "pygments_lexer": "ipython3",
   "version": "3.11.8"
  }
 },
 "nbformat": 4,
 "nbformat_minor": 2
}
