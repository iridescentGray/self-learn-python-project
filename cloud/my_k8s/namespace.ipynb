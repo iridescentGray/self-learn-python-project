{
 "cells": [
  {
   "cell_type": "code",
   "execution_count": 1,
   "metadata": {},
   "outputs": [],
   "source": [
    "from kubernetes import client, config\n",
    "\n",
    "# Configs can be set in Configuration class directly or using helper utility\n",
    "config.load_kube_config()"
   ]
  },
  {
   "cell_type": "markdown",
   "metadata": {},
   "source": [
    "# pods"
   ]
  },
  {
   "cell_type": "code",
   "execution_count": 4,
   "metadata": {},
   "outputs": [
    {
     "name": "stdout",
     "output_type": "stream",
     "text": [
      "Event: ADDED default\n",
      "Event: ADDED kube-node-lease\n",
      "Event: ADDED kube-public\n",
      "Event: ADDED kube-system\n",
      "Event: ADDED kubernetes-dashboard\n"
     ]
    }
   ],
   "source": [
    "from kubernetes import  watch\n",
    "\n",
    "v1 = client.CoreV1Api()\n",
    "count = 10\n",
    "w = watch.Watch()\n",
    "for event in w.stream(v1.list_namespace, _request_timeout=60):\n",
    "    print(\"Event: %s %s\" % (event[\"type\"], event[\"object\"].metadata.name))\n",
    "    count -= 1\n",
    "    if not count:\n",
    "        w.stop()\n",
    "\n",
    "print(\"Ended.\")"
   ]
  }
 ],
 "metadata": {
  "kernelspec": {
   "display_name": ".venv",
   "language": "python",
   "name": "python3"
  },
  "language_info": {
   "codemirror_mode": {
    "name": "ipython",
    "version": 3
   },
   "file_extension": ".py",
   "mimetype": "text/x-python",
   "name": "python",
   "nbconvert_exporter": "python",
   "pygments_lexer": "ipython3",
   "version": "3.11.8"
  }
 },
 "nbformat": 4,
 "nbformat_minor": 2
}
