{
 "cells": [
  {
   "cell_type": "markdown",
   "metadata": {},
   "source": [
    "# 6. 线性代数"
   ]
  },
  {
   "cell_type": "markdown",
   "metadata": {},
   "source": [
    "## 6.1 标量"
   ]
  },
  {
   "cell_type": "markdown",
   "metadata": {},
   "source": [
    "① 标量由只有一个元素的张量表示。"
   ]
  },
  {
   "cell_type": "code",
   "execution_count": null,
   "metadata": {},
   "outputs": [],
   "source": [
    "import torch\n",
    "x = torch.tensor([3.0])\n",
    "y = torch.tensor([2.0])\n",
    "print(x + y)\n",
    "print(x * y)\n",
    "print(x / y)\n",
    "print(x ** y)"
   ]
  },
  {
   "cell_type": "markdown",
   "metadata": {},
   "source": [
    "## 6.2 向量"
   ]
  },
  {
   "cell_type": "markdown",
   "metadata": {},
   "source": [
    "### 6.2.1 创建向量"
   ]
  },
  {
   "cell_type": "markdown",
   "metadata": {},
   "source": [
    "① 可以将向量视为标量值组成的列表。"
   ]
  },
  {
   "cell_type": "code",
   "execution_count": null,
   "metadata": {},
   "outputs": [],
   "source": [
    "import torch\n",
    "x = torch.arange(4)\n",
    "print(x)"
   ]
  },
  {
   "cell_type": "markdown",
   "metadata": {},
   "source": [
    "### 6.2.2 访问向量元素"
   ]
  },
  {
   "cell_type": "markdown",
   "metadata": {},
   "source": [
    "① 通过张量的索引来访问任一元素。"
   ]
  },
  {
   "cell_type": "code",
   "execution_count": null,
   "metadata": {},
   "outputs": [],
   "source": [
    "import torch\n",
    "x = torch.arange(4)\n",
    "print(x[3])  # 索引从0开始"
   ]
  },
  {
   "cell_type": "markdown",
   "metadata": {},
   "source": [
    "### 6.2.3 访问向量长度"
   ]
  },
  {
   "cell_type": "markdown",
   "metadata": {},
   "source": [
    "① 访问张量的长度。"
   ]
  },
  {
   "cell_type": "code",
   "execution_count": null,
   "metadata": {},
   "outputs": [],
   "source": [
    "import torch\n",
    "x = torch.arange(4)\n",
    "print(len(x))  "
   ]
  },
  {
   "cell_type": "markdown",
   "metadata": {},
   "source": [
    "### 6.2.4 访问向量维度"
   ]
  },
  {
   "cell_type": "markdown",
   "metadata": {},
   "source": [
    "① 只有一个轴的张量，形状只有一个元素。"
   ]
  },
  {
   "cell_type": "code",
   "execution_count": null,
   "metadata": {},
   "outputs": [],
   "source": [
    "import torch\n",
    "x = torch.arange(4)\n",
    "print(x.shape)  "
   ]
  },
  {
   "cell_type": "markdown",
   "metadata": {},
   "source": [
    "## 6.3 矩阵"
   ]
  },
  {
   "cell_type": "markdown",
   "metadata": {},
   "source": [
    "### 6.3.1 创建矩阵"
   ]
  },
  {
   "cell_type": "markdown",
   "metadata": {},
   "source": [
    "① 通过指定两个分量m和n来创建一个形状为m×n的矩阵。"
   ]
  },
  {
   "cell_type": "code",
   "execution_count": null,
   "metadata": {},
   "outputs": [],
   "source": [
    "import torch\n",
    "A = torch.arange(20).reshape(5,4)\n",
    "print(A) "
   ]
  },
  {
   "cell_type": "markdown",
   "metadata": {},
   "source": [
    "### 6.3.2 矩阵转置"
   ]
  },
  {
   "cell_type": "markdown",
   "metadata": {},
   "source": [
    "① 矩阵的转置。"
   ]
  },
  {
   "cell_type": "code",
   "execution_count": null,
   "metadata": {},
   "outputs": [],
   "source": [
    "import torch\n",
    "A = torch.arange(20).reshape(5,4)\n",
    "print(A) \n",
    "print(A.T) # 矩阵的转置 "
   ]
  },
  {
   "cell_type": "markdown",
   "metadata": {},
   "source": [
    "### 6.3.3 对称矩阵"
   ]
  },
  {
   "cell_type": "markdown",
   "metadata": {},
   "source": [
    "① 对称矩阵（symmetric matrix）A 等于其转置：$A = A^{T}$"
   ]
  },
  {
   "cell_type": "code",
   "execution_count": null,
   "metadata": {},
   "outputs": [],
   "source": [
    "import torch\n",
    "B = torch.tensor([[1,2,3],[2,0,4],[3,4,5]])\n",
    "print(B) \n",
    "print(B.T)\n",
    "print(B == B.T)"
   ]
  },
  {
   "cell_type": "markdown",
   "metadata": {},
   "source": [
    "### 6.3.4 多维矩阵"
   ]
  },
  {
   "cell_type": "markdown",
   "metadata": {},
   "source": [
    "① 就像向量是标量的推广，矩阵是向量的推广一样，可以构建更多轴的数据结构。"
   ]
  },
  {
   "cell_type": "code",
   "execution_count": null,
   "metadata": {},
   "outputs": [],
   "source": [
    "import torch\n",
    "X = torch.arange(24).reshape(2,3,4)\n",
    "print(X) "
   ]
  },
  {
   "cell_type": "markdown",
   "metadata": {},
   "source": [
    "### 6.3.5 矩阵克隆"
   ]
  },
  {
   "cell_type": "markdown",
   "metadata": {},
   "source": [
    "① 给定具有相同形状的任何两个张量，任何按元素二元运算的结果都将是相同形状的张量。"
   ]
  },
  {
   "cell_type": "code",
   "execution_count": null,
   "metadata": {},
   "outputs": [],
   "source": [
    "import torch\n",
    "A = torch.arange(20,dtype=torch.float32).reshape(5,4)\n",
    "B = A.clone() # 通过分配新内存，将A的一个副本分配给B\n",
    "print(A)\n",
    "print(A+B)"
   ]
  },
  {
   "cell_type": "markdown",
   "metadata": {},
   "source": [
    "### 6.3.6 矩阵相乘（对应元素相乘）"
   ]
  },
  {
   "cell_type": "markdown",
   "metadata": {},
   "source": [
    "① 两个句子的按元素乘法称为哈达玛积（Hadamard product）（数学符号⊙）"
   ]
  },
  {
   "cell_type": "code",
   "execution_count": null,
   "metadata": {},
   "outputs": [],
   "source": [
    "import torch\n",
    "A = torch.arange(20,dtype=torch.float32).reshape(5,4)\n",
    "B = A.clone() # 通过分配新内存，将A的一个副本分配给B\n",
    "print(A)\n",
    "print(A*B)"
   ]
  },
  {
   "cell_type": "markdown",
   "metadata": {},
   "source": [
    "### 6.3.7 矩阵加标量"
   ]
  },
  {
   "cell_type": "code",
   "execution_count": null,
   "metadata": {},
   "outputs": [],
   "source": [
    "import torch\n",
    "a = 2\n",
    "X = torch.arange(24).reshape(2,3,4)\n",
    "print(a + X)\n",
    "print((a * X).shape)"
   ]
  },
  {
   "cell_type": "markdown",
   "metadata": {},
   "source": [
    "### 6.3.8 向量求和"
   ]
  },
  {
   "cell_type": "markdown",
   "metadata": {},
   "source": [
    "① 计算所有元素的和。"
   ]
  },
  {
   "cell_type": "code",
   "execution_count": null,
   "metadata": {},
   "outputs": [],
   "source": [
    "import torch\n",
    "X = torch.arange(4,dtype=torch.float32)\n",
    "print(X)\n",
    "print(X.sum())"
   ]
  },
  {
   "cell_type": "markdown",
   "metadata": {},
   "source": [
    "### 6.3.9 矩阵求和"
   ]
  },
  {
   "cell_type": "markdown",
   "metadata": {},
   "source": [
    "② 表示任意形状张量的元素和。"
   ]
  },
  {
   "cell_type": "code",
   "execution_count": null,
   "metadata": {},
   "outputs": [],
   "source": [
    "import torch\n",
    "A = torch.arange(20*2).reshape(2,5,4)\n",
    "print(A.shape)\n",
    "print(A.sum())"
   ]
  },
  {
   "cell_type": "markdown",
   "metadata": {},
   "source": [
    "### 6.3.10 矩阵某轴求和（维度丢失）"
   ]
  },
  {
   "cell_type": "markdown",
   "metadata": {},
   "source": [
    "① 指定张量沿哪一个轴来通过求和降低维度。"
   ]
  },
  {
   "cell_type": "code",
   "execution_count": null,
   "metadata": {},
   "outputs": [],
   "source": [
    "import torch\n",
    "A = torch.arange(20*2).reshape(2,5,4)\n",
    "print(A)\n",
    "A_sum_axis0 = A.sum(axis=0) # (2,5,4) 对第一个维度进行求和，剩下两个维度留下来了\n",
    "print(A_sum_axis0)\n",
    "print(A_sum_axis0.shape)"
   ]
  },
  {
   "cell_type": "code",
   "execution_count": null,
   "metadata": {},
   "outputs": [],
   "source": [
    "import torch\n",
    "A = torch.arange(20*2).reshape(2,5,4)\n",
    "print(A)\n",
    "A_sum_axis1 = A.sum(axis=1) # (2,5,4) 对第二个维度进行求和，剩下两个维度留下来了\n",
    "print(A_sum_axis1)\n",
    "print(A_sum_axis1.shape)"
   ]
  },
  {
   "cell_type": "code",
   "execution_count": null,
   "metadata": {},
   "outputs": [],
   "source": [
    "import torch\n",
    "A = torch.arange(20*2).reshape(2,5,4)\n",
    "print(A)\n",
    "A_sum_axis1 = A.sum([0,1]) # (2,5,4) 对第一、二个维度进行求和，剩下一个维度留下来了    \n",
    "print(A_sum_axis1)\n",
    "print(A_sum_axis1.shape)"
   ]
  },
  {
   "cell_type": "markdown",
   "metadata": {},
   "source": [
    "### 6.3.11 矩阵平均值"
   ]
  },
  {
   "cell_type": "markdown",
   "metadata": {},
   "source": [
    "① 一个与求和相关的量是平均值（mean或average）。"
   ]
  },
  {
   "cell_type": "code",
   "execution_count": null,
   "metadata": {},
   "outputs": [],
   "source": [
    "import torch\n",
    "A = torch.arange(20, dtype=torch.float32).reshape(5, 4)\n",
    "print(A.mean())\n",
    "print(A.numel())\n",
    "print(A.sum()/A.numel())"
   ]
  },
  {
   "cell_type": "code",
   "execution_count": null,
   "metadata": {},
   "outputs": [],
   "source": [
    "import torch\n",
    "A = torch.arange(20, dtype=torch.float32).reshape(5, 4)\n",
    "print(A.mean(axis=0))\n",
    "print(A.sum(axis=0))\n",
    "print(A.shape[0])\n",
    "print(A.sum(axis=0)/A.shape[0])"
   ]
  },
  {
   "cell_type": "markdown",
   "metadata": {},
   "source": [
    "### 6.3.12 矩阵某轴求和（维度不丢失）"
   ]
  },
  {
   "cell_type": "markdown",
   "metadata": {},
   "source": [
    "① 计算总和或均值时保持轴数不变。"
   ]
  },
  {
   "cell_type": "code",
   "execution_count": null,
   "metadata": {},
   "outputs": [],
   "source": [
    "import torch\n",
    "A = torch.arange(20, dtype=torch.float32).reshape(5, 4)\n",
    "sum_A = A.sum(axis=1,keepdims=True) # keepdims=True不丢掉维度，否则三维矩阵按一个维度求和就会变为二维矩阵，二维矩阵若按一个维度求和就会变为一维向量\n",
    "print(sum_A)\n",
    "print(sum_A.shape) # 维度没有丢失，方便使用广播"
   ]
  },
  {
   "cell_type": "markdown",
   "metadata": {},
   "source": [
    "### 6.3.13 矩阵广播"
   ]
  },
  {
   "cell_type": "markdown",
   "metadata": {},
   "source": [
    "① 通过广播将 A 除以 sum_A。"
   ]
  },
  {
   "cell_type": "code",
   "execution_count": null,
   "metadata": {},
   "outputs": [],
   "source": [
    "import torch\n",
    "A = torch.arange(20, dtype=torch.float32).reshape(5, 4)\n",
    "sum_A = A.sum(axis=1,keepdims=True) # keepdims=True不丢掉维度，否则三维矩阵按一个维度求和就会变为二维矩阵，二维矩阵若按一个维度求和就会变为一维向量\n",
    "print(A/sum_A) "
   ]
  },
  {
   "cell_type": "markdown",
   "metadata": {},
   "source": [
    "### 6.3.14 矩阵某轴累加"
   ]
  },
  {
   "cell_type": "markdown",
   "metadata": {},
   "source": [
    "① 某个轴计算A元素的累加总和。"
   ]
  },
  {
   "cell_type": "code",
   "execution_count": null,
   "metadata": {},
   "outputs": [],
   "source": [
    "import torch\n",
    "A = torch.arange(20, dtype=torch.float32).reshape(5, 4)\n",
    "print(A.cumsum(axis=0)) "
   ]
  },
  {
   "cell_type": "markdown",
   "metadata": {},
   "source": [
    "### 6.3.15 向量点积"
   ]
  },
  {
   "cell_type": "markdown",
   "metadata": {},
   "source": [
    "① 点积是相同位置的按元素成绩的和。"
   ]
  },
  {
   "cell_type": "code",
   "execution_count": null,
   "metadata": {},
   "outputs": [],
   "source": [
    "import torch\n",
    "x = torch.arange(4,dtype=torch.float32)\n",
    "y = torch.ones(4, dtype=torch.float32)\n",
    "print(x)\n",
    "print(y)\n",
    "print(torch.dot(x,y))"
   ]
  },
  {
   "cell_type": "markdown",
   "metadata": {},
   "source": [
    "② 可以通过执行按元素乘法，然后进行求和来表示两个向量的点积。"
   ]
  },
  {
   "cell_type": "code",
   "execution_count": null,
   "metadata": {},
   "outputs": [],
   "source": [
    "import torch\n",
    "x = torch.arange(4,dtype=torch.float32)\n",
    "y = torch.ones(4, dtype=torch.float32)\n",
    "print(torch.sum(x*y))"
   ]
  },
  {
   "cell_type": "markdown",
   "metadata": {},
   "source": [
    "### 6.3.16 矩阵向量积"
   ]
  },
  {
   "cell_type": "markdown",
   "metadata": {},
   "source": [
    "① A是一个m×n的矩阵，x是一个n×1的矩阵，矩阵向量积$Ax$是一个长度为m的列向量，其第i个元素是点积$a^{⊤}_{i}x$。"
   ]
  },
  {
   "cell_type": "code",
   "execution_count": null,
   "metadata": {},
   "outputs": [],
   "source": [
    "import torch\n",
    "A = torch.arange(20, dtype=torch.float32).reshape(5, 4)\n",
    "x = torch.arange(4,dtype=torch.float32)\n",
    "print(A.shape)\n",
    "print(x.shape)\n",
    "print(torch.mv(A,x))"
   ]
  },
  {
   "cell_type": "markdown",
   "metadata": {},
   "source": [
    "### 6.3.17 矩阵相乘（线性代数相乘）"
   ]
  },
  {
   "cell_type": "markdown",
   "metadata": {},
   "source": [
    "① 可以将矩阵-矩阵乘法AB看作是简单地执行m次矩阵-向量积，并将结果拼接在一起，形成一个n×m矩阵。"
   ]
  },
  {
   "cell_type": "code",
   "execution_count": null,
   "metadata": {},
   "outputs": [],
   "source": [
    "import torch\n",
    "A = torch.arange(20, dtype=torch.float32).reshape(5, 4)\n",
    "B = torch.ones(4,3)\n",
    "print(A)\n",
    "print(B)\n",
    "print(torch.mm(A,B))"
   ]
  },
  {
   "cell_type": "markdown",
   "metadata": {},
   "source": [
    "### 6.3.18 矩阵L2范数"
   ]
  },
  {
   "cell_type": "markdown",
   "metadata": {},
   "source": [
    "① L2 范数是向量元素平方和的平方根：\n",
    "$\\|\\mathbf{x}\\|_2 = \\sqrt{\\sum_{i=1}^n x_i^2}$"
   ]
  },
  {
   "cell_type": "code",
   "execution_count": null,
   "metadata": {},
   "outputs": [],
   "source": [
    "import torch\n",
    "u = torch.tensor([3.0,-4.0])\n",
    "print(torch.norm(u))"
   ]
  },
  {
   "cell_type": "markdown",
   "metadata": {},
   "source": [
    "### 6.3.19 矩阵L1范数"
   ]
  },
  {
   "cell_type": "markdown",
   "metadata": {},
   "source": [
    "① $L_{1}$范数，它表示为向量元素的绝对值之和：$\\|\\mathbf{x}\\|_1 = \\sum_{i=1}^n \\left|x_i \\right|$"
   ]
  },
  {
   "cell_type": "code",
   "execution_count": null,
   "metadata": {},
   "outputs": [],
   "source": [
    "import torch\n",
    "u = torch.tensor([3.0,-4.0])\n",
    "print(torch.abs(u).sum())"
   ]
  },
  {
   "cell_type": "markdown",
   "metadata": {},
   "source": [
    "### 6.3.20 矩阵F范数"
   ]
  },
  {
   "cell_type": "markdown",
   "metadata": {},
   "source": [
    "① 矩阵的弗罗贝尼乌斯范数（Frobenius norm）是矩阵元素的平方和的平方根：$$\\|\\mathbf{X}\\|_F = \\sqrt{\\sum_{i=1}^m \\sum_{j=1}^n x_{ij}^2}$$"
   ]
  },
  {
   "cell_type": "code",
   "execution_count": null,
   "metadata": {},
   "outputs": [],
   "source": [
    "import torch\n",
    "print(torch.norm(torch.ones((4,9)))) # 把矩阵拉成一个向量，然后再求和"
   ]
  }
 ],
 "metadata": {
  "kernelspec": {
   "display_name": "Python 3.6.3",
   "language": "python",
   "name": "python3.6.3"
  },
  "language_info": {
   "codemirror_mode": {
    "name": "ipython",
    "version": 3
   },
   "file_extension": ".py",
   "mimetype": "text/x-python",
   "name": "python",
   "nbconvert_exporter": "python",
   "pygments_lexer": "ipython3",
   "version": "3.6.3"
  },
  "toc": {
   "base_numbering": 1,
   "nav_menu": {},
   "number_sections": false,
   "sideBar": true,
   "skip_h1_title": false,
   "title_cell": "Table of Contents",
   "title_sidebar": "Contents",
   "toc_cell": false,
   "toc_position": {
    "height": "calc(100% - 180px)",
    "left": "10px",
    "top": "150px",
    "width": "396.75px"
   },
   "toc_section_display": true,
   "toc_window_display": true
  }
 },
 "nbformat": 4,
 "nbformat_minor": 4
}
