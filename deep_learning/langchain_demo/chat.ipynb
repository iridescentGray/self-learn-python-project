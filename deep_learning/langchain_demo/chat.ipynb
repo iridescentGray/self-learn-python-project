{
 "cells": [
  {
   "cell_type": "markdown",
   "metadata": {},
   "source": [
    "# Deepseek\n",
    "\n",
    "- 指定 model='deepseek-chat' 即可调用 DeepSeek-V3。\n",
    "- 指定 model='deepseek-reasoner'，即可调用 DeepSeek-R1。"
   ]
  },
  {
   "cell_type": "code",
   "execution_count": null,
   "metadata": {},
   "outputs": [],
   "source": [
    "from langchain_deepseek import ChatDeepSeek\n",
    "import os\n",
    "os.environ[\"DEEPSEEK_API_KEY\"] = \"\"\n",
    "# 初始化 DeepSeek 模型\n",
    "llm = ChatDeepSeek(\n",
    "    model=\"deepseek-chat\",  # 指定模型名称，例如 \"deepseek-chat\" 或 \"deepseek-reasoner\"\n",
    "    temperature=0.7,        # 控制生成文本的随机性\n",
    "    max_tokens=512,         # 设置最大生成 token 数\n",
    ")\n",
    "\n",
    "# 定义消息\n",
    "messages = [\n",
    "    {\"role\": \"system\", \"content\": \"你是一个乐于助人的AI助手。\"},\n",
    "    {\"role\": \"human\", \"content\": \"请用中文解释一下量子力学的基本概念。\"},\n",
    "]\n",
    "\n",
    "# 调用模型\n",
    "response = llm.invoke(messages)\n",
    "print(response.content)"
   ]
  },
  {
   "cell_type": "markdown",
   "metadata": {},
   "source": [
    "# Google Gemini"
   ]
  },
  {
   "cell_type": "code",
   "execution_count": null,
   "metadata": {},
   "outputs": [],
   "source": [
    "import os\n",
    "from langchain_google_genai import ChatGoogleGenerativeAI\n",
    "\n",
    "os.environ[\"GOOGLE_API_KEY\"] = \"\"\n",
    "\n",
    "# 初始化 Gemini 模型\n",
    "llm = ChatGoogleGenerativeAI(\n",
    "    model=\"gemini-1.5-pro\",  # 可选模型：gemini-1.0-pro, gemini-1.5-pro 等\n",
    "    temperature=0.7,          # 控制生成随机性\n",
    "    max_tokens=512,          # 设置最大输出 token 数\n",
    ")\n",
    "\n",
    "# 定义消息\n",
    "messages = [\n",
    "    {\"role\": \"system\", \"content\": \"你是一个乐于助人的AI助手。\"},\n",
    "    {\"role\": \"human\", \"content\": \"请用中文解释一下区块链的基本概念。\"},\n",
    "]\n",
    "\n",
    "# 调用模型\n",
    "response = llm.invoke(messages)\n",
    "print(response.content)"
   ]
  },
  {
   "cell_type": "markdown",
   "metadata": {},
   "source": [
    "## OpenAi"
   ]
  }
 ],
 "metadata": {
  "kernelspec": {
   "display_name": ".venv",
   "language": "python",
   "name": "python3"
  },
  "language_info": {
   "codemirror_mode": {
    "name": "ipython",
    "version": 3
   },
   "file_extension": ".py",
   "mimetype": "text/x-python",
   "name": "python",
   "nbconvert_exporter": "python",
   "pygments_lexer": "ipython3",
   "version": "3.12.7"
  }
 },
 "nbformat": 4,
 "nbformat_minor": 2
}
