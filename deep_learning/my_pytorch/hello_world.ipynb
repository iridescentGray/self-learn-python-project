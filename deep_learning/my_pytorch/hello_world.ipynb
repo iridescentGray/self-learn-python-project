{
 "cells": [
  {
   "cell_type": "markdown",
   "metadata": {},
   "source": [
    "# 查看当前 pytorch 版本\n"
   ]
  },
  {
   "cell_type": "code",
   "execution_count": 11,
   "metadata": {},
   "outputs": [
    {
     "name": "stdout",
     "output_type": "stream",
     "text": [
      "2.1.1+cpu\n"
     ]
    }
   ],
   "source": [
    "import torch\n",
    "\n",
    "print(torch.__version__)"
   ]
  },
  {
   "cell_type": "markdown",
   "metadata": {},
   "source": [
    "# 矩阵创建\n"
   ]
  },
  {
   "cell_type": "code",
   "execution_count": 12,
   "metadata": {},
   "outputs": [
    {
     "data": {
      "text/plain": [
       "tensor([[-7.8692e+05,  8.2957e-43,  0.0000e+00,  0.0000e+00,  0.0000e+00],\n",
       "        [ 0.0000e+00,  0.0000e+00,  0.0000e+00,  0.0000e+00,  0.0000e+00],\n",
       "        [ 0.0000e+00,  0.0000e+00,  0.0000e+00,  0.0000e+00,  0.0000e+00]])"
      ]
     },
     "execution_count": 12,
     "metadata": {},
     "output_type": "execute_result"
    }
   ],
   "source": [
    "# 3x5 矩阵\n",
    "torch.empty(3, 5)"
   ]
  },
  {
   "cell_type": "code",
   "execution_count": 13,
   "metadata": {},
   "outputs": [
    {
     "data": {
      "text/plain": [
       "tensor([[0.0879, 0.7135, 0.7268, 0.4876, 0.0209],\n",
       "        [0.9724, 0.7342, 0.9818, 0.1270, 0.5856],\n",
       "        [0.4589, 0.4212, 0.2405, 0.9137, 0.2740]])"
      ]
     },
     "execution_count": 13,
     "metadata": {},
     "output_type": "execute_result"
    }
   ],
   "source": [
    "# 3x5 随机数\n",
    "torch.rand(3, 5)"
   ]
  },
  {
   "cell_type": "code",
   "execution_count": 14,
   "metadata": {},
   "outputs": [
    {
     "data": {
      "text/plain": [
       "tensor([[0., 0., 0., 0., 0.],\n",
       "        [0., 0., 0., 0., 0.],\n",
       "        [0., 0., 0., 0., 0.]])"
      ]
     },
     "execution_count": 14,
     "metadata": {},
     "output_type": "execute_result"
    }
   ],
   "source": [
    "# 3x5 全零矩阵\n",
    "torch.zeros(3, 5)"
   ]
  },
  {
   "cell_type": "code",
   "execution_count": 15,
   "metadata": {},
   "outputs": [
    {
     "name": "stdout",
     "output_type": "stream",
     "text": [
      "tensor([5, 5, 3])\n"
     ]
    }
   ],
   "source": [
    "# 通过参数构建矩阵\n",
    "x = torch.tensor([5, 5, 3])\n",
    "print(x)"
   ]
  },
  {
   "cell_type": "code",
   "execution_count": 16,
   "metadata": {},
   "outputs": [
    {
     "data": {
      "text/plain": [
       "tensor([[0.9267, 0.8815, 0.9263],\n",
       "        [0.8218, 0.8739, 0.6169],\n",
       "        [0.0422, 0.5405, 0.8540],\n",
       "        [0.2338, 0.3582, 0.3903],\n",
       "        [0.9369, 0.3305, 0.3359]], dtype=torch.float64)"
      ]
     },
     "execution_count": 16,
     "metadata": {},
     "output_type": "execute_result"
    }
   ],
   "source": [
    "# 矩阵变换，变换为5x3\n",
    "x = x.new_ones(5, 3, dtype=torch.double)\n",
    "torch.rand_like(x, dtype=torch.double)"
   ]
  },
  {
   "cell_type": "code",
   "execution_count": 17,
   "metadata": {},
   "outputs": [
    {
     "data": {
      "text/plain": [
       "torch.Size([5, 3])"
      ]
     },
     "execution_count": 17,
     "metadata": {},
     "output_type": "execute_result"
    }
   ],
   "source": [
    "# 矩阵大小\n",
    "x.size()"
   ]
  },
  {
   "cell_type": "markdown",
   "metadata": {},
   "source": [
    "# 加法\n"
   ]
  },
  {
   "cell_type": "code",
   "execution_count": 19,
   "metadata": {},
   "outputs": [
    {
     "name": "stdout",
     "output_type": "stream",
     "text": [
      "tensor([[1.3776, 0.8189, 1.0902, 0.9895, 1.0952],\n",
      "        [1.3026, 1.0556, 1.4435, 1.0717, 0.9067],\n",
      "        [1.0829, 1.1312, 1.1369, 0.8606, 1.6943]])\n"
     ]
    }
   ],
   "source": [
    "add_result = torch.rand(3, 5) + torch.rand(3, 5)\n",
    "print(add_result)"
   ]
  },
  {
   "cell_type": "markdown",
   "metadata": {},
   "source": [
    "# index\n"
   ]
  },
  {
   "cell_type": "code",
   "execution_count": 23,
   "metadata": {},
   "outputs": [
    {
     "name": "stdout",
     "output_type": "stream",
     "text": [
      "tensor([[0.2699, 0.7486, 0.3656, 0.9384, 0.0230],\n",
      "        [0.7249, 0.8824, 0.3491, 0.4181, 0.8899],\n",
      "        [0.5668, 0.3854, 0.3672, 0.9705, 0.2247]])\n"
     ]
    },
    {
     "data": {
      "text/plain": [
       "tensor([0.5668, 0.3854, 0.3672, 0.9705, 0.2247])"
      ]
     },
     "execution_count": 23,
     "metadata": {},
     "output_type": "execute_result"
    }
   ],
   "source": [
    "idx_test = torch.rand(3, 5)\n",
    "print(idx_test)\n",
    "idx_test[-1]"
   ]
  },
  {
   "cell_type": "markdown",
   "metadata": {},
   "source": [
    "# 矩阵变换\n"
   ]
  },
  {
   "cell_type": "code",
   "execution_count": 34,
   "metadata": {},
   "outputs": [
    {
     "name": "stdout",
     "output_type": "stream",
     "text": [
      "tensor([[0.6842, 0.7611, 0.5294, 0.0445],\n",
      "        [0.7707, 0.3634, 0.1877, 0.9626],\n",
      "        [0.6851, 0.7793, 0.4292, 0.9248],\n",
      "        [0.5006, 0.7767, 0.2173, 0.6274]])\n",
      "tensor([[0.6842, 0.7611, 0.5294, 0.0445, 0.7707, 0.3634, 0.1877, 0.9626],\n",
      "        [0.6851, 0.7793, 0.4292, 0.9248, 0.5006, 0.7767, 0.2173, 0.6274]])\n",
      "tensor([[0.6842, 0.7611, 0.5294, 0.0445, 0.7707, 0.3634, 0.1877, 0.9626],\n",
      "        [0.6851, 0.7793, 0.4292, 0.9248, 0.5006, 0.7767, 0.2173, 0.6274]])\n"
     ]
    }
   ],
   "source": [
    "# 创建4x4格式\n",
    "transformation = torch.rand(4, 4)\n",
    "# 变换为4x4格式\n",
    "print(transformation.view(4, 4))\n",
    "# 变换为2x8格式\n",
    "print(transformation.view(2, 8))\n",
    "# -1代表自适应， -1X8=2X8\n",
    "print(transformation.view(-1, 8))"
   ]
  },
  {
   "cell_type": "markdown",
   "metadata": {},
   "source": [
    "# 关联 Numpy\n"
   ]
  },
  {
   "cell_type": "markdown",
   "metadata": {},
   "source": [
    "## tensor 转 Numpy\n",
    "\n",
    "使用 numpy()方法，无缝切换为 numpy 数据\n"
   ]
  },
  {
   "cell_type": "code",
   "execution_count": 37,
   "metadata": {},
   "outputs": [
    {
     "name": "stdout",
     "output_type": "stream",
     "text": [
      "tensor([[0.6424, 0.9642, 0.6009, 0.6427],\n",
      "        [0.9833, 0.2036, 0.3268, 0.8070],\n",
      "        [0.9557, 0.9634, 0.4325, 0.8197],\n",
      "        [0.1683, 0.3810, 0.4947, 0.2105]])\n",
      "[[0.64241457 0.9642109  0.6009393  0.6426787 ]\n",
      " [0.98332465 0.20364547 0.32678938 0.8070436 ]\n",
      " [0.9556763  0.96341604 0.43245798 0.8196955 ]\n",
      " [0.16825008 0.38100004 0.49465042 0.2105084 ]]\n",
      "<class 'numpy.ndarray'>\n"
     ]
    }
   ],
   "source": [
    "numpy_test = torch.rand(4, 4)\n",
    "print(numpy_test)\n",
    "\n",
    "print(numpy_test.numpy())\n",
    "print(type(numpy_test.numpy()))"
   ]
  },
  {
   "cell_type": "markdown",
   "metadata": {},
   "source": [
    "## Numpy 转 tensor\n",
    "\n",
    "使用 from_numpy 方法，切换为 torch 数据\n"
   ]
  },
  {
   "cell_type": "code",
   "execution_count": 40,
   "metadata": {},
   "outputs": [
    {
     "data": {
      "text/plain": [
       "tensor([1., 1., 1., 1., 1.], dtype=torch.float64)"
      ]
     },
     "execution_count": 40,
     "metadata": {},
     "output_type": "execute_result"
    }
   ],
   "source": [
    "import numpy as np\n",
    "\n",
    "numpy_array = np.ones(5)\n",
    "\n",
    "torch.from_numpy(numpy_array)"
   ]
  }
 ],
 "metadata": {
  "kernelspec": {
   "display_name": "Python 3",
   "language": "python",
   "name": "python3"
  },
  "language_info": {
   "codemirror_mode": {
    "name": "ipython",
    "version": 3
   },
   "file_extension": ".py",
   "mimetype": "text/x-python",
   "name": "python",
   "nbconvert_exporter": "python",
   "pygments_lexer": "ipython3",
   "version": "3.11.6"
  }
 },
 "nbformat": 4,
 "nbformat_minor": 2
}
