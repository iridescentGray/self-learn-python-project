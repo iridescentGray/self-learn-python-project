{
 "cells": [
  {
   "cell_type": "markdown",
   "id": "0819149e",
   "metadata": {},
   "source": [
    "# 原生支持模型\n"
   ]
  },
  {
   "cell_type": "markdown",
   "id": "95444139",
   "metadata": {},
   "source": [
    "## Gemini\n"
   ]
  },
  {
   "cell_type": "code",
   "execution_count": null,
   "id": "bf230206",
   "metadata": {},
   "outputs": [],
   "source": [
    "gemini_key=\"\""
   ]
  },
  {
   "cell_type": "code",
   "execution_count": 14,
   "id": "7e02a990",
   "metadata": {},
   "outputs": [
    {
     "data": {
      "text/plain": [
       "'\"Hello, World!\" originated in Brian Kernighan\\'s 1972 tutorial *A Tutorial Introduction to the Language B*, where it was used to illustrate a very basic program.  It then gained widespread popularity through *The C Programming Language*, also by Kernighan (along with Dennis Ritchie), published in 1978.  While the phrase itself might have appeared in earlier internal Bell Labs documents by Kernighan, the 1972 tutorial is generally considered its first published appearance.\\n'"
      ]
     },
     "execution_count": 14,
     "metadata": {},
     "output_type": "execute_result"
    }
   ],
   "source": [
    "from pydantic_ai import Agent\n",
    "from pydantic_ai.models.gemini import GeminiModel\n",
    "from pydantic_ai.providers.google_gla import GoogleGLAProvider\n",
    "\n",
    "model = GeminiModel(\n",
    "    'gemini-1.5-pro', provider=GoogleGLAProvider(api_key=gemini_key)\n",
    ")\n",
    "agent = Agent(model)\n",
    "\n",
    "result = await agent.run('Where does \"hello world\" come from?')\n",
    "result.output"
   ]
  },
  {
   "cell_type": "code",
   "execution_count": null,
   "id": "e01f940b",
   "metadata": {},
   "outputs": [
    {
     "data": {
      "text/plain": [
       "'\"Hello, world!\" originated from *A Tutorial Introduction to the Language B*, by Brian Kernighan in 1972 (or possibly earlier internal memos). While not the very first program ever written, it became iconic as a simple introductory program used in countless programming tutorials and textbooks, demonstrating the basic syntax of a language by printing the phrase \"Hello, world!\" to the console.  It popularized the use of this specific phrase for introductory purposes.\\n'"
      ]
     },
     "execution_count": 6,
     "metadata": {},
     "output_type": "execute_result"
    }
   ],
   "source": [
    "from pydantic_ai import Agent\n",
    "from pydantic_ai.models.gemini import GeminiModel\n",
    "from pydantic_ai.providers.google_gla import GoogleGLAProvider\n",
    "gemini_model = GeminiModel(\n",
    "                'gemini-1.5-pro',\n",
    "                provider=GoogleGLAProvider(\n",
    "                    api_key=\"\",\n",
    "                ),\n",
    "            )\n",
    "\n",
    "agent = Agent(model=gemini_model,system_prompt=\"you are stock analyst\")\n",
    "result = await agent.run('Where does \"hello world\" come from?')\n",
    "result.output"
   ]
  },
  {
   "cell_type": "markdown",
   "id": "ba22e2d3",
   "metadata": {},
   "source": [
    "## DeepSeek\n"
   ]
  },
  {
   "cell_type": "code",
   "execution_count": null,
   "id": "eb3e138f",
   "metadata": {},
   "outputs": [
    {
     "data": {
      "text/plain": [
       "'The phrase **\"Hello, World!\"** originates from the **1978 book *The C Programming Language*** by **Brian Kernighan and Dennis Ritchie** (often referred to as \"K&R\"). It was used as the first example program to demonstrate the basic syntax of the C language:\\n\\n```c\\n#include <stdio.h>\\n\\nmain() {\\n    printf(\"hello, world\\\\n\");\\n}\\n```\\n\\n### Why \"Hello, World!\"?\\n- **Simplicity**: It was a simple way to show how to print output in C.\\n- **Tradition**: Kernighan had previously used a similar example (\"hi\") in an internal Bell Labs memo in **1974**, but \"hello, world\" became the standard.\\n- **Cultural Impact**: The phrase stuck and became a universal starting point for learning new programming languages.\\n\\n### Earlier Uses?\\n- Some claim **\"Hello, World!\"** was used in **B** (C\\'s predecessor) or even earlier languages, but Kernighan confirmed it first appeared in his C tutorial.\\n- The concept of a first program printing a greeting likely predates C, but Kernighan and Ritchie popularized the exact phrase.\\n\\nToday, \"Hello, World!\" remains a **programming rite of passage**, symbolizing the first step in coding. 🚀'"
      ]
     },
     "execution_count": 3,
     "metadata": {},
     "output_type": "execute_result"
    }
   ],
   "source": [
    "from pydantic_ai import Agent\n",
    "from pydantic_ai.models.openai import OpenAIModel\n",
    "from pydantic_ai.providers.deepseek import DeepSeekProvider\n",
    "\n",
    "model = OpenAIModel(\n",
    "    'deepseek-chat',\n",
    "    provider=DeepSeekProvider(api_key=''),\n",
    ")\n",
    "agent = Agent(model)\n",
    "\n",
    "result = await agent.run('Where does \"hello world\" come from?')\n",
    "result.output"
   ]
  },
  {
   "cell_type": "markdown",
   "id": "f8605b8b",
   "metadata": {},
   "source": [
    "# 自定义第三方模型\n"
   ]
  },
  {
   "cell_type": "markdown",
   "id": "ef81ba56",
   "metadata": {},
   "source": [
    "## 第三方 OpenAi 格式\n"
   ]
  },
  {
   "cell_type": "markdown",
   "id": "e741c013",
   "metadata": {},
   "source": [
    "### 阿里千问\n"
   ]
  },
  {
   "cell_type": "code",
   "execution_count": null,
   "id": "e52d80e4",
   "metadata": {},
   "outputs": [],
   "source": [
    "qw_key=\"\""
   ]
  },
  {
   "cell_type": "code",
   "execution_count": null,
   "id": "0e993d14",
   "metadata": {},
   "outputs": [],
   "source": [
    "from pydantic_ai import Agent\n",
    "from pydantic_ai.models.openai import OpenAIModel\n",
    "from pydantic_ai.providers.openai import OpenAIProvider\n",
    "\n",
    "\n",
    "model = OpenAIModel(\n",
    "    \"qwen-plus\",\n",
    "    provider=OpenAIProvider(\n",
    "        api_key=qw_key,\n",
    "        base_url=\"https://dashscope.aliyuncs.com/compatible-mode/v1\",\n",
    "    ),\n",
    ")\n",
    "\n",
    "agent = Agent(model)"
   ]
  },
  {
   "cell_type": "code",
   "execution_count": 12,
   "id": "b9a94321",
   "metadata": {},
   "outputs": [
    {
     "name": "stdout",
     "output_type": "stream",
     "text": [
      "The \"Hello, World\" program is traditionally used as a beginner's first step in learning how to code. It originated from the book *The C Programming Language* by Brian Kernighan and Dennis Ritchie, published in 1978. This book is often referred to as \"K&R\" and is considered a classic text for learning the C programming language.\n",
      "\n",
      "In the book, the \"Hello, World\" program was presented as the simplest possible example to demonstrate the basic structure of a C program. The program simply prints the words \"hello, world\" (without the capital 'H' or comma in the original version) to the console. Here's what it looked like in K&R:\n",
      "\n",
      "```c\n",
      "main()\n",
      "{\n",
      "    printf(\"hello, world\\n\");\n",
      "}\n",
      "```\n",
      "\n",
      "This simple program became iconic because it provided an easy way for beginners to verify that they had successfully set up their development environment and could compile and run a program. Over time, \"Hello, World\" became a standard introductory exercise in virtually every programming language, symbolizing the first step in learning to code.\n",
      "\n",
      "The phrase itself has since transcended its origins in C and is now widely recognized as a cultural reference within the programming community.\n"
     ]
    }
   ],
   "source": [
    "result = await agent.run('Where does \"hello world\" come from?')\n",
    "print(result.output)"
   ]
  }
 ],
 "metadata": {
  "kernelspec": {
   "display_name": ".venv",
   "language": "python",
   "name": "python3"
  },
  "language_info": {
   "codemirror_mode": {
    "name": "ipython",
    "version": 3
   },
   "file_extension": ".py",
   "mimetype": "text/x-python",
   "name": "python",
   "nbconvert_exporter": "python",
   "pygments_lexer": "ipython3",
   "version": "3.12.7"
  }
 },
 "nbformat": 4,
 "nbformat_minor": 5
}
