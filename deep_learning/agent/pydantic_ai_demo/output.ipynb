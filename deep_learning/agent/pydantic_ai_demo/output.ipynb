{
 "cells": [
  {
   "cell_type": "code",
   "execution_count": null,
   "id": "fed6d998",
   "metadata": {},
   "outputs": [],
   "source": [
    "key=\"\""
   ]
  },
  {
   "cell_type": "markdown",
   "id": "7a33653f",
   "metadata": {},
   "source": [
    "# 结构化响应\n"
   ]
  },
  {
   "cell_type": "code",
   "execution_count": null,
   "id": "9fc66c09",
   "metadata": {},
   "outputs": [
    {
     "data": {
      "text/plain": [
       "Box(width=20, height=10, depth=30, units='undefined')"
      ]
     },
     "execution_count": 4,
     "metadata": {},
     "output_type": "execute_result"
    }
   ],
   "source": [
    "from typing import Union\n",
    "import os\n",
    "from pydantic import BaseModel\n",
    "\n",
    "from pydantic_ai import Agent\n",
    "\n",
    "os.environ[\"GEMINI_API_KEY\"] = key\n",
    "class Box(BaseModel):\n",
    "    width: int\n",
    "    height: int\n",
    "    depth: int\n",
    "    units: str\n",
    "\n",
    "agent = Agent(\n",
    "    \"gemini-1.5-pro\",\n",
    "     system_prompt=(\n",
    "        \"Extract me the dimensions of a box, \"\n",
    "        \"if you can't extract all data, ask the user to try again.\"\n",
    "    ),\n",
    "    output_type=Union[Box, str],  # type: ignore   \n",
    ")\n",
    "\n",
    "result=await agent.run('The box is 10x20x30')\n",
    "result.output"
   ]
  },
  {
   "cell_type": "code",
   "execution_count": 6,
   "id": "dd37ce17",
   "metadata": {},
   "outputs": [
    {
     "data": {
      "text/plain": [
       "__main__.Box"
      ]
     },
     "execution_count": 6,
     "metadata": {},
     "output_type": "execute_result"
    }
   ],
   "source": [
    "type(result.output)"
   ]
  },
  {
   "cell_type": "code",
   "execution_count": 5,
   "id": "fb6c27e0",
   "metadata": {},
   "outputs": [
    {
     "data": {
      "text/plain": [
       "Box(width=30, height=20, depth=10, units='cm')"
      ]
     },
     "execution_count": 5,
     "metadata": {},
     "output_type": "execute_result"
    }
   ],
   "source": [
    "result =await agent.run('The box is 10x20x30 cm')\n",
    "result.output"
   ]
  },
  {
   "cell_type": "markdown",
   "id": "7e85098d",
   "metadata": {},
   "source": [
    "# 输出验证器\n"
   ]
  },
  {
   "cell_type": "markdown",
   "id": "7a84bcde",
   "metadata": {},
   "source": [
    "## 要求小写 SQL 的验证器\n"
   ]
  },
  {
   "cell_type": "code",
   "execution_count": null,
   "id": "78dbbb44",
   "metadata": {},
   "outputs": [
    {
     "name": "stdout",
     "output_type": "stream",
     "text": [
      "Executing query: SELECT * FROM users WHERE last_active = CURRENT_DATE - INTERVAL '1 day';\n",
      "Executing query: select * from users where last_active = current_date - interval '1 day';\n",
      "sql_query=\"select * from users where last_active = current_date - interval '1 day';\"\n"
     ]
    }
   ],
   "source": [
    "from typing import Union\n",
    "from pydantic import BaseModel\n",
    "from pydantic_ai import Agent, RunContext, ModelRetry\n",
    "\n",
    "\n",
    "class Success(BaseModel):\n",
    "    sql_query: str\n",
    "\n",
    "\n",
    "class InvalidRequest(BaseModel):\n",
    "    error_message: str\n",
    "\n",
    "Output = Union[Success, InvalidRequest]\n",
    "agent = Agent[Output](\n",
    "    \"gemini-1.5-pro\",\n",
    "    output_type=Output,  # type: ignore\n",
    "    system_prompt='Generate PostgreSQL flavored SQL queries based on user input.',\n",
    ")\n",
    "\n",
    "@agent.output_validator\n",
    "async def validate_sql(ctx: RunContext, output: Output) -> Output:\n",
    "    if isinstance(output, InvalidRequest):\n",
    "        return output\n",
    "    try:\n",
    "        print(f'Executing query: {output.sql_query}')\n",
    "        if output.sql_query.startswith('SELECT'):\n",
    "            # 要求小写SQL\n",
    "            raise ModelRetry('use lower case')\n",
    "    except Exception as e:\n",
    "        raise ModelRetry(f'Invalid query: {e}') from e\n",
    "    else:\n",
    "        return output\n",
    "\n",
    "\n",
    "result = await agent.run(\n",
    "    'get me users who were last active yesterday.'\n",
    ")\n",
    "print(result.output)\n"
   ]
  }
 ],
 "metadata": {
  "kernelspec": {
   "display_name": ".venv",
   "language": "python",
   "name": "python3"
  },
  "language_info": {
   "codemirror_mode": {
    "name": "ipython",
    "version": 3
   },
   "file_extension": ".py",
   "mimetype": "text/x-python",
   "name": "python",
   "nbconvert_exporter": "python",
   "pygments_lexer": "ipython3",
   "version": "3.12.7"
  }
 },
 "nbformat": 4,
 "nbformat_minor": 5
}
