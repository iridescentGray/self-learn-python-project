{
 "cells": [
  {
   "cell_type": "code",
   "execution_count": null,
   "id": "b14b6d51",
   "metadata": {},
   "outputs": [],
   "source": [
    "key=\"\""
   ]
  },
  {
   "cell_type": "code",
   "execution_count": 2,
   "id": "b620bbd1",
   "metadata": {},
   "outputs": [
    {
     "name": "stdout",
     "output_type": "stream",
     "text": [
      "\"Hello, World!\" originated from a 1972 Bell Laboratories internal memorandum by Brian Kernighan, *A Tutorial Introduction to the Language B*,  where it was used to illustrate a simple program.\n",
      "\n"
     ]
    }
   ],
   "source": [
    "from pydantic_ai import Agent\n",
    "import os\n",
    "\n",
    "os.environ[\"GEMINI_API_KEY\"] = key\n",
    "\n",
    "agent = Agent(\n",
    "    \"gemini-1.5-pro\",\n",
    "    system_prompt=\"Be concise, reply with one sentence.\",\n",
    ")\n",
    "\n",
    "\n",
    "result = await agent.run('Where does \"hello world\" come from?')\n",
    "print( result.output)"
   ]
  },
  {
   "cell_type": "markdown",
   "id": "7a9fa339",
   "metadata": {},
   "source": [
    "# 流式响应\n",
    "\n",
    "agent.run_stream\n"
   ]
  },
  {
   "cell_type": "code",
   "execution_count": null,
   "id": "53b320c5",
   "metadata": {},
   "outputs": [
    {
     "name": "stdout",
     "output_type": "stream",
     "text": [
      "\"Hello, World!\" originated from a 1972 Bell Laboratories internal memorandum by Brian Kernighan, *A Tutorial Introduction to the Language B*.\n",
      "\n"
     ]
    }
   ],
   "source": [
    "from pydantic_ai import Agent\n",
    "import os\n",
    "\n",
    "os.environ[\"GEMINI_API_KEY\"] = key\n",
    "\n",
    "agent = Agent(\n",
    "    \"gemini-1.5-pro\",\n",
    "    system_prompt=\"Be concise, reply with one sentence.\",\n",
    ")\n",
    "\n",
    "\n",
    "async with agent.run_stream('Where does \"hello world\" come from?') as response:\n",
    "    print(await response.get_output())"
   ]
  },
  {
   "cell_type": "markdown",
   "id": "d473a71f",
   "metadata": {},
   "source": [
    "# 反思与自我纠正\n",
    "\n",
    "验证请求，并且要求大模型重新思考\n"
   ]
  },
  {
   "cell_type": "code",
   "execution_count": 14,
   "id": "8cad7c3b",
   "metadata": {},
   "outputs": [
    {
     "name": "stdout",
     "output_type": "stream",
     "text": [
      "Executing query: SELECT * FROM users WHERE last_active = CURRENT_DATE - INTERVAL '1 day';\n",
      "Executing query: select * from users where last_active = current_date - interval '1 day';\n",
      "sql_query=\"select * from users where last_active = current_date - interval '1 day';\"\n"
     ]
    }
   ],
   "source": [
    "from typing import Union\n",
    "from pydantic import BaseModel\n",
    "from pydantic_ai import Agent, RunContext, ModelRetry\n",
    "\n",
    "\n",
    "class Success(BaseModel):\n",
    "    sql_query: str\n",
    "\n",
    "\n",
    "class InvalidRequest(BaseModel):\n",
    "    error_message: str\n",
    "\n",
    "Output = Union[Success, InvalidRequest]\n",
    "agent = Agent[Output](\n",
    "    \"gemini-1.5-pro\",\n",
    "    output_type=Output,  # type: ignore\n",
    "    system_prompt='Generate PostgreSQL flavored SQL queries based on user input.',\n",
    ")\n",
    "\n",
    "@agent.output_validator\n",
    "async def validate_sql(ctx: RunContext, output: Output) -> Output:\n",
    "    if isinstance(output, InvalidRequest):\n",
    "        return output\n",
    "    try:\n",
    "        print(f'Executing query: {output.sql_query}')\n",
    "        if output.sql_query.startswith('SELECT'):\n",
    "            # 要求小写SQL\n",
    "            raise ModelRetry('use lower case')\n",
    "    except Exception as e:\n",
    "        raise ModelRetry(f'Invalid query: {e}') from e\n",
    "    else:\n",
    "        return output\n",
    "\n",
    "\n",
    "result = await agent.run(\n",
    "    'get me users who were last active yesterday.'\n",
    ")\n",
    "print(result.output)\n"
   ]
  },
  {
   "cell_type": "markdown",
   "id": "72db8057",
   "metadata": {},
   "source": [
    "# token\n",
    "\n",
    "查看、限制 Token 的使用\n"
   ]
  },
  {
   "cell_type": "code",
   "execution_count": null,
   "id": "bd45d51d",
   "metadata": {},
   "outputs": [
    {
     "data": {
      "text/plain": [
       "'\"Hello, World!\" originated from Brian Kernighan\\'s 1972 tutorial *A Tutorial Introduction to the Language B*.\\n'"
      ]
     },
     "execution_count": 9,
     "metadata": {},
     "output_type": "execute_result"
    }
   ],
   "source": [
    "from pydantic_ai import Agent\n",
    "from pydantic_ai.usage import UsageLimits\n",
    "\n",
    "\n",
    "agent = Agent(\n",
    "    \"gemini-1.5-pro\",\n",
    "    system_prompt=\"Be concise, reply with one sentence.\",\n",
    ")\n",
    "\n",
    "\n",
    "result_sync = await agent.run(\n",
    "    'Where does \"hello world\" come from?',\n",
    "    usage_limits=UsageLimits(response_tokens_limit=44),\n",
    ")\n",
    "result_sync.output"
   ]
  },
  {
   "cell_type": "markdown",
   "id": "d45ad649",
   "metadata": {},
   "source": [
    "## 统计使用情况\n"
   ]
  },
  {
   "cell_type": "code",
   "execution_count": 10,
   "id": "6e70f21c",
   "metadata": {},
   "outputs": [
    {
     "data": {
      "text/plain": [
       "Usage(requests=1, request_tokens=17, response_tokens=29, total_tokens=46, details=None)"
      ]
     },
     "execution_count": 10,
     "metadata": {},
     "output_type": "execute_result"
    }
   ],
   "source": [
    "result_sync.usage()"
   ]
  },
  {
   "cell_type": "markdown",
   "id": "64aacad6",
   "metadata": {},
   "source": [
    "## 超出限制异常\n"
   ]
  },
  {
   "cell_type": "code",
   "execution_count": 11,
   "id": "ba104727",
   "metadata": {},
   "outputs": [
    {
     "name": "stdout",
     "output_type": "stream",
     "text": [
      "Exceeded the response_tokens_limit of 10 (response_tokens=44)\n"
     ]
    }
   ],
   "source": [
    "try:\n",
    "    result_sync = await agent.run(\n",
    "    'Where does \"hello world\" come from?',\n",
    "    usage_limits=UsageLimits(response_tokens_limit=10),\n",
    ")\n",
    "except UsageLimitExceeded as e:\n",
    "    print(e)"
   ]
  },
  {
   "cell_type": "markdown",
   "id": "50a0bde1",
   "metadata": {},
   "source": [
    "# 编程式 system_prompt\n",
    "\n",
    "通过@agent.system_prompt 给 agent 添加 system_prompt\n"
   ]
  },
  {
   "cell_type": "code",
   "execution_count": 7,
   "id": "51bdaefa",
   "metadata": {},
   "outputs": [
    {
     "data": {
      "text/plain": [
       "'Frank, today is April 25, 2025.\\n'"
      ]
     },
     "execution_count": 7,
     "metadata": {},
     "output_type": "execute_result"
    }
   ],
   "source": [
    "from pydantic_ai import Agent, RunContext\n",
    "import os\n",
    "from datetime import date\n",
    "\n",
    "os.environ[\"GEMINI_API_KEY\"] = key\n",
    "\n",
    "agent = Agent(\n",
    "    \"gemini-1.5-pro\",\n",
    "    system_prompt=\"Be concise, reply with one sentence.\",\n",
    ")\n",
    "\n",
    "\n",
    "@agent.system_prompt  \n",
    "def add_the_users_name(ctx: RunContext[str]) -> str:\n",
    "    return f\"The user's name is {ctx.deps}.\"\n",
    "\n",
    "\n",
    "@agent.system_prompt\n",
    "def add_the_date() -> str:  \n",
    "    return f'The date is {date.today()}.'\n",
    "\n",
    "\n",
    "result = await agent.run('What is the date?', deps='Frank')\n",
    "result.output"
   ]
  },
  {
   "cell_type": "markdown",
   "id": "b86539a0",
   "metadata": {},
   "source": [
    "# 连续记忆\n",
    "\n",
    "记住上一次对话\n",
    "\n",
    "message_history\n"
   ]
  },
  {
   "cell_type": "code",
   "execution_count": 3,
   "id": "132e8a9a",
   "metadata": {},
   "outputs": [
    {
     "data": {
      "text/plain": [
       "'Albert Einstein was a theoretical physicist widely regarded as one of the most influential scientists of all time, best known for developing the theory of relativity.\\n'"
      ]
     },
     "execution_count": 3,
     "metadata": {},
     "output_type": "execute_result"
    }
   ],
   "source": [
    "from pydantic_ai import Agent\n",
    "import os\n",
    "\n",
    "os.environ[\"GEMINI_API_KEY\"] = key\n",
    "\n",
    "agent = Agent(\n",
    "    \"gemini-1.5-pro\",\n",
    "    system_prompt=\"Be concise, reply with one sentence.\",\n",
    ")\n",
    "\n",
    "result1 = await agent.run('Who was Albert Einstein?')\n",
    "result1.output"
   ]
  },
  {
   "cell_type": "code",
   "execution_count": 4,
   "id": "c0143a02",
   "metadata": {},
   "outputs": [
    {
     "data": {
      "text/plain": [
       "'His most famous equation is E=mc², which describes the relationship between energy (E) and mass (m), where c represents the speed of light.\\n'"
      ]
     },
     "execution_count": 4,
     "metadata": {},
     "output_type": "execute_result"
    }
   ],
   "source": [
    "\n",
    "# Second run, passing previous messages\n",
    "result2 = await agent.run(\n",
    "    'What was his most famous equation?',\n",
    "    message_history=result1.new_messages(),  \n",
    ")\n",
    "result2.output"
   ]
  }
 ],
 "metadata": {
  "kernelspec": {
   "display_name": ".venv",
   "language": "python",
   "name": "python3"
  },
  "language_info": {
   "codemirror_mode": {
    "name": "ipython",
    "version": 3
   },
   "file_extension": ".py",
   "mimetype": "text/x-python",
   "name": "python",
   "nbconvert_exporter": "python",
   "pygments_lexer": "ipython3",
   "version": "3.12.7"
  }
 },
 "nbformat": 4,
 "nbformat_minor": 5
}
