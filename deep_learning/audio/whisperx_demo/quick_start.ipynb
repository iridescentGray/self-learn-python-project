{
 "cells": [
  {
   "cell_type": "code",
   "execution_count": null,
   "metadata": {},
   "outputs": [],
   "source": [
    "import whisperx"
   ]
  },
  {
   "cell_type": "markdown",
   "metadata": {},
   "source": [
    "# identify word\n"
   ]
  },
  {
   "cell_type": "code",
   "execution_count": null,
   "metadata": {},
   "outputs": [],
   "source": [
    "device = \"cpu\"\n",
    "audio_file = \"input.mp4\"\n",
    "batch_size = 32  # reduce if low on GPU mem\n",
    "compute_type = \"float32\"  # change to \"int8\" if low on GPU mem (may reduce accuracy)\n",
    "\n",
    "# 1. Transcribe with original whisper (batched)\n",
    "model = whisperx.load_model(\"large-v2\", device, compute_type=compute_type)\n",
    "\n",
    "audio = whisperx.load_audio(audio_file)\n",
    "result = model.transcribe(audio, batch_size=batch_size)\n",
    "print(result[\"segments\"])  # before alignment\n",
    "\n",
    "# 2. Align whisper output\n",
    "model_a, metadata = whisperx.load_align_model(\n",
    "    language_code=result[\"language\"], device=device\n",
    ")\n",
    "result = whisperx.align(\n",
    "    result[\"segments\"], model_a, metadata, audio, device, return_char_alignments=False\n",
    ")"
   ]
  },
  {
   "cell_type": "code",
   "execution_count": 6,
   "metadata": {},
   "outputs": [
    {
     "data": {
      "text/plain": [
       "dict_keys(['segments', 'word_segments'])"
      ]
     },
     "execution_count": 6,
     "metadata": {},
     "output_type": "execute_result"
    }
   ],
   "source": [
    "result.keys()"
   ]
  },
  {
   "cell_type": "code",
   "execution_count": 3,
   "metadata": {},
   "outputs": [
    {
     "data": {
      "text/plain": [
       "{'segments': [{'start': 0.049,\n",
       "   'end': 1.194,\n",
       "   'text': ' Thanks for trying EditFrame.',\n",
       "   'words': [{'word': 'Thanks', 'start': 0.049, 'end': 0.25, 'score': 0.89},\n",
       "    {'word': 'for', 'start': 0.27, 'end': 0.39, 'score': 0.776},\n",
       "    {'word': 'trying', 'start': 0.431, 'end': 0.692, 'score': 0.823},\n",
       "    {'word': 'EditFrame.', 'start': 0.732, 'end': 1.194, 'score': 0.734}]},\n",
       "  {'start': 1.896,\n",
       "   'end': 4.707,\n",
       "   'text': 'This is an audio file we created for our documentation.',\n",
       "   'words': [{'word': 'This', 'start': 1.896, 'end': 2.017, 'score': 0.997},\n",
       "    {'word': 'is', 'start': 2.077, 'end': 2.137, 'score': 0.978},\n",
       "    {'word': 'an', 'start': 2.177, 'end': 2.238, 'score': 0.954},\n",
       "    {'word': 'audio', 'start': 2.378, 'end': 2.679, 'score': 0.996},\n",
       "    {'word': 'file', 'start': 2.719, 'end': 3.061, 'score': 0.688},\n",
       "    {'word': 'we', 'start': 3.081, 'end': 3.201, 'score': 0.501},\n",
       "    {'word': 'created', 'start': 3.261, 'end': 3.603, 'score': 0.848},\n",
       "    {'word': 'for', 'start': 3.643, 'end': 3.743, 'score': 0.987},\n",
       "    {'word': 'our', 'start': 3.783, 'end': 3.884, 'score': 0.757},\n",
       "    {'word': 'documentation.', 'start': 3.924, 'end': 4.707, 'score': 0.93}]},\n",
       "  {'start': 5.209,\n",
       "   'end': 5.992,\n",
       "   'text': 'We hope you enjoy it.',\n",
       "   'words': [{'word': 'We', 'start': 5.209, 'end': 5.309, 'score': 0.845},\n",
       "    {'word': 'hope', 'start': 5.349, 'end': 5.49, 'score': 0.799},\n",
       "    {'word': 'you', 'start': 5.51, 'end': 5.61, 'score': 0.896},\n",
       "    {'word': 'enjoy', 'start': 5.651, 'end': 5.932, 'score': 0.876},\n",
       "    {'word': 'it.', 'start': 5.952, 'end': 5.992, 'score': 0.976}]}],\n",
       " 'word_segments': [{'word': 'Thanks',\n",
       "   'start': 0.049,\n",
       "   'end': 0.25,\n",
       "   'score': 0.89},\n",
       "  {'word': 'for', 'start': 0.27, 'end': 0.39, 'score': 0.776},\n",
       "  {'word': 'trying', 'start': 0.431, 'end': 0.692, 'score': 0.823},\n",
       "  {'word': 'EditFrame.', 'start': 0.732, 'end': 1.194, 'score': 0.734},\n",
       "  {'word': 'This', 'start': 1.896, 'end': 2.017, 'score': 0.997},\n",
       "  {'word': 'is', 'start': 2.077, 'end': 2.137, 'score': 0.978},\n",
       "  {'word': 'an', 'start': 2.177, 'end': 2.238, 'score': 0.954},\n",
       "  {'word': 'audio', 'start': 2.378, 'end': 2.679, 'score': 0.996},\n",
       "  {'word': 'file', 'start': 2.719, 'end': 3.061, 'score': 0.688},\n",
       "  {'word': 'we', 'start': 3.081, 'end': 3.201, 'score': 0.501},\n",
       "  {'word': 'created', 'start': 3.261, 'end': 3.603, 'score': 0.848},\n",
       "  {'word': 'for', 'start': 3.643, 'end': 3.743, 'score': 0.987},\n",
       "  {'word': 'our', 'start': 3.783, 'end': 3.884, 'score': 0.757},\n",
       "  {'word': 'documentation.', 'start': 3.924, 'end': 4.707, 'score': 0.93},\n",
       "  {'word': 'We', 'start': 5.209, 'end': 5.309, 'score': 0.845},\n",
       "  {'word': 'hope', 'start': 5.349, 'end': 5.49, 'score': 0.799},\n",
       "  {'word': 'you', 'start': 5.51, 'end': 5.61, 'score': 0.896},\n",
       "  {'word': 'enjoy', 'start': 5.651, 'end': 5.932, 'score': 0.876},\n",
       "  {'word': 'it.', 'start': 5.952, 'end': 5.992, 'score': 0.976}]}"
      ]
     },
     "execution_count": 3,
     "metadata": {},
     "output_type": "execute_result"
    }
   ],
   "source": [
    "result"
   ]
  },
  {
   "cell_type": "code",
   "execution_count": 4,
   "metadata": {},
   "outputs": [
    {
     "data": {
      "text/plain": [
       "[{'start': 0.049,\n",
       "  'end': 1.194,\n",
       "  'text': ' Thanks for trying EditFrame.',\n",
       "  'words': [{'word': 'Thanks', 'start': 0.049, 'end': 0.25, 'score': 0.89},\n",
       "   {'word': 'for', 'start': 0.27, 'end': 0.39, 'score': 0.776},\n",
       "   {'word': 'trying', 'start': 0.431, 'end': 0.692, 'score': 0.823},\n",
       "   {'word': 'EditFrame.', 'start': 0.732, 'end': 1.194, 'score': 0.734}]},\n",
       " {'start': 1.896,\n",
       "  'end': 4.707,\n",
       "  'text': 'This is an audio file we created for our documentation.',\n",
       "  'words': [{'word': 'This', 'start': 1.896, 'end': 2.017, 'score': 0.997},\n",
       "   {'word': 'is', 'start': 2.077, 'end': 2.137, 'score': 0.978},\n",
       "   {'word': 'an', 'start': 2.177, 'end': 2.238, 'score': 0.954},\n",
       "   {'word': 'audio', 'start': 2.378, 'end': 2.679, 'score': 0.996},\n",
       "   {'word': 'file', 'start': 2.719, 'end': 3.061, 'score': 0.688},\n",
       "   {'word': 'we', 'start': 3.081, 'end': 3.201, 'score': 0.501},\n",
       "   {'word': 'created', 'start': 3.261, 'end': 3.603, 'score': 0.848},\n",
       "   {'word': 'for', 'start': 3.643, 'end': 3.743, 'score': 0.987},\n",
       "   {'word': 'our', 'start': 3.783, 'end': 3.884, 'score': 0.757},\n",
       "   {'word': 'documentation.', 'start': 3.924, 'end': 4.707, 'score': 0.93}]},\n",
       " {'start': 5.209,\n",
       "  'end': 5.992,\n",
       "  'text': 'We hope you enjoy it.',\n",
       "  'words': [{'word': 'We', 'start': 5.209, 'end': 5.309, 'score': 0.845},\n",
       "   {'word': 'hope', 'start': 5.349, 'end': 5.49, 'score': 0.799},\n",
       "   {'word': 'you', 'start': 5.51, 'end': 5.61, 'score': 0.896},\n",
       "   {'word': 'enjoy', 'start': 5.651, 'end': 5.932, 'score': 0.876},\n",
       "   {'word': 'it.', 'start': 5.952, 'end': 5.992, 'score': 0.976}]}]"
      ]
     },
     "execution_count": 4,
     "metadata": {},
     "output_type": "execute_result"
    }
   ],
   "source": [
    "result[\"segments\"]"
   ]
  },
  {
   "cell_type": "markdown",
   "metadata": {},
   "source": [
    "# write identify word to srt file\n"
   ]
  },
  {
   "cell_type": "code",
   "execution_count": 5,
   "metadata": {},
   "outputs": [
    {
     "name": "stdout",
     "output_type": "stream",
     "text": [
      " Thanks for trying EditFrame.\n",
      "This is an audio file we created for our documentation.\n",
      "We hope you enjoy it.\n"
     ]
    }
   ],
   "source": [
    "from datetime import timedelta\n",
    "import os\n",
    "\n",
    "\n",
    "def write_segments_to_srt(segments):\n",
    "    for index, segment in enumerate(segments):\n",
    "        startTime = str(0) + str(timedelta(seconds=int(segment[\"start\"]))) + \",000\"\n",
    "        endTime = str(0) + str(timedelta(seconds=int(segment[\"end\"]))) + \",000\"\n",
    "        text = segment[\"text\"]\n",
    "        print(text)\n",
    "        segment = f\"{index + 1}\\n{startTime} --> {endTime}\\n{text[1:] if text[0] == ' ' else text}\\n\\n\"\n",
    "\n",
    "        srtFilename = os.path.join(f\"subtitles.srt\")\n",
    "        with open(srtFilename, \"a\", encoding=\"utf-8\") as srtFile:\n",
    "            srtFile.write(segment)\n",
    "\n",
    "\n",
    "write_segments_to_srt(result[\"segments\"])"
   ]
  }
 ],
 "metadata": {
  "kernelspec": {
   "display_name": ".venv",
   "language": "python",
   "name": "python3"
  },
  "language_info": {
   "codemirror_mode": {
    "name": "ipython",
    "version": 3
   },
   "file_extension": ".py",
   "mimetype": "text/x-python",
   "name": "python",
   "nbconvert_exporter": "python",
   "pygments_lexer": "ipython3",
   "version": "3.11.8"
  }
 },
 "nbformat": 4,
 "nbformat_minor": 2
}
