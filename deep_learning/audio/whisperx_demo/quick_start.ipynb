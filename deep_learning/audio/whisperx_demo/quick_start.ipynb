{
 "cells": [
  {
   "cell_type": "code",
   "execution_count": null,
   "metadata": {},
   "outputs": [],
   "source": [
    "import whisperx"
   ]
  },
  {
   "cell_type": "markdown",
   "metadata": {},
   "source": [
    "# identify word\n"
   ]
  },
  {
   "cell_type": "code",
   "execution_count": null,
   "metadata": {},
   "outputs": [],
   "source": [
    "device = \"cpu\"\n",
    "audio_file = \"input.mp4\"\n",
    "batch_size = 32  # reduce if low on GPU mem\n",
    "compute_type = \"float32\"  # change to \"int8\" if low on GPU mem (may reduce accuracy)\n",
    "\n",
    "# 1. Transcribe with original whisper (batched)\n",
    "model = whisperx.load_model(\"large-v2\", device, compute_type=compute_type)\n",
    "\n",
    "audio = whisperx.load_audio(audio_file)\n",
    "result = model.transcribe(audio, batch_size=batch_size)\n",
    "print(result[\"segments\"])  # before alignment\n",
    "\n",
    "# 2. Align whisper output\n",
    "model_a, metadata = whisperx.load_align_model(\n",
    "    language_code=result[\"language\"], device=device\n",
    ")\n",
    "result = whisperx.align(\n",
    "    result[\"segments\"], model_a, metadata, audio, device, return_char_alignments=False\n",
    ")"
   ]
  },
  {
   "cell_type": "code",
   "execution_count": null,
   "metadata": {},
   "outputs": [],
   "source": [
    "result.keys()"
   ]
  },
  {
   "cell_type": "code",
   "execution_count": null,
   "metadata": {},
   "outputs": [],
   "source": [
    "result"
   ]
  },
  {
   "cell_type": "code",
   "execution_count": null,
   "metadata": {},
   "outputs": [],
   "source": [
    "result[\"segments\"]"
   ]
  },
  {
   "cell_type": "markdown",
   "metadata": {},
   "source": [
    "# write identify word to srt file\n"
   ]
  },
  {
   "cell_type": "code",
   "execution_count": null,
   "metadata": {},
   "outputs": [],
   "source": [
    "from datetime import timedelta\n",
    "import os\n",
    "\n",
    "\n",
    "def write_segments_to_srt(segments):\n",
    "    for index, segment in enumerate(segments):\n",
    "        startTime = str(0) + str(timedelta(seconds=int(segment[\"start\"]))) + \",000\"\n",
    "        endTime = str(0) + str(timedelta(seconds=int(segment[\"end\"]))) + \",000\"\n",
    "        text = segment[\"text\"]\n",
    "        print(text)\n",
    "        segment = f\"{index + 1}\\n{startTime} --> {endTime}\\n{text[1:] if text[0] == ' ' else text}\\n\\n\"\n",
    "\n",
    "        srtFilename = os.path.join(f\"subtitles.srt\")\n",
    "        with open(srtFilename, \"a\", encoding=\"utf-8\") as srtFile:\n",
    "            srtFile.write(segment)\n",
    "\n",
    "\n",
    "write_segments_to_srt(result[\"segments\"])"
   ]
  }
 ],
 "metadata": {
  "kernelspec": {
   "display_name": ".venv",
   "language": "python",
   "name": "python3"
  },
  "language_info": {
   "codemirror_mode": {
    "name": "ipython",
    "version": 3
   },
   "file_extension": ".py",
   "mimetype": "text/x-python",
   "name": "python",
   "nbconvert_exporter": "python",
   "pygments_lexer": "ipython3",
   "version": "3.11.8"
  }
 },
 "nbformat": 4,
 "nbformat_minor": 2
}
