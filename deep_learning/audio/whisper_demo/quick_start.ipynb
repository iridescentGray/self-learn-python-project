{
 "cells": [
  {
   "cell_type": "markdown",
   "metadata": {},
   "source": [
    "# identify word\n"
   ]
  },
  {
   "cell_type": "code",
   "execution_count": 2,
   "metadata": {},
   "outputs": [],
   "source": [
    "import whisper\n",
    "\n",
    "model = whisper.load_model(\"base\")\n",
    "result = model.transcribe(\"input.mp4\")"
   ]
  },
  {
   "cell_type": "code",
   "execution_count": 3,
   "metadata": {},
   "outputs": [
    {
     "data": {
      "text/plain": [
       "dict_keys(['text', 'segments', 'language'])"
      ]
     },
     "execution_count": 3,
     "metadata": {},
     "output_type": "execute_result"
    }
   ],
   "source": [
    "result.keys()"
   ]
  },
  {
   "cell_type": "code",
   "execution_count": 7,
   "metadata": {},
   "outputs": [
    {
     "data": {
      "text/plain": [
       "'en'"
      ]
     },
     "execution_count": 7,
     "metadata": {},
     "output_type": "execute_result"
    }
   ],
   "source": [
    "result[\"language\"]"
   ]
  },
  {
   "cell_type": "code",
   "execution_count": 5,
   "metadata": {},
   "outputs": [
    {
     "data": {
      "text/plain": [
       "' Thanks for trying EditFrame. This is an audio file we created for our documentation. We hope you enjoy it.'"
      ]
     },
     "execution_count": 5,
     "metadata": {},
     "output_type": "execute_result"
    }
   ],
   "source": [
    "result[\"text\"]"
   ]
  },
  {
   "cell_type": "code",
   "execution_count": 6,
   "metadata": {},
   "outputs": [
    {
     "data": {
      "text/plain": [
       "[{'id': 0,\n",
       "  'seek': 0,\n",
       "  'start': 0.0,\n",
       "  'end': 1.8800000000000001,\n",
       "  'text': ' Thanks for trying EditFrame.',\n",
       "  'tokens': [50364, 2561, 337, 1382, 33241, 40305, 529, 13, 50458],\n",
       "  'temperature': 0.0,\n",
       "  'avg_logprob': -0.29044917321974234,\n",
       "  'compression_ratio': 1.1157894736842104,\n",
       "  'no_speech_prob': 0.01635168120265007},\n",
       " {'id': 1,\n",
       "  'seek': 0,\n",
       "  'start': 1.8800000000000001,\n",
       "  'end': 5.16,\n",
       "  'text': ' This is an audio file we created for our documentation.',\n",
       "  'tokens': [50458,\n",
       "   639,\n",
       "   307,\n",
       "   364,\n",
       "   6278,\n",
       "   3991,\n",
       "   321,\n",
       "   2942,\n",
       "   337,\n",
       "   527,\n",
       "   14333,\n",
       "   13,\n",
       "   50622],\n",
       "  'temperature': 0.0,\n",
       "  'avg_logprob': -0.29044917321974234,\n",
       "  'compression_ratio': 1.1157894736842104,\n",
       "  'no_speech_prob': 0.01635168120265007},\n",
       " {'id': 2,\n",
       "  'seek': 0,\n",
       "  'start': 5.16,\n",
       "  'end': 6.16,\n",
       "  'text': ' We hope you enjoy it.',\n",
       "  'tokens': [50622, 492, 1454, 291, 2103, 309, 13, 50672],\n",
       "  'temperature': 0.0,\n",
       "  'avg_logprob': -0.29044917321974234,\n",
       "  'compression_ratio': 1.1157894736842104,\n",
       "  'no_speech_prob': 0.01635168120265007}]"
      ]
     },
     "execution_count": 6,
     "metadata": {},
     "output_type": "execute_result"
    }
   ],
   "source": [
    "result[\"segments\"]"
   ]
  }
 ],
 "metadata": {
  "kernelspec": {
   "display_name": ".venv",
   "language": "python",
   "name": "python3"
  },
  "language_info": {
   "codemirror_mode": {
    "name": "ipython",
    "version": 3
   },
   "file_extension": ".py",
   "mimetype": "text/x-python",
   "name": "python",
   "nbconvert_exporter": "python",
   "pygments_lexer": "ipython3",
   "version": "3.11.8"
  }
 },
 "nbformat": 4,
 "nbformat_minor": 2
}
