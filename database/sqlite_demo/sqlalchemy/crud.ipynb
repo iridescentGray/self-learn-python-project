{
 "cells": [
  {
   "cell_type": "markdown",
   "metadata": {},
   "source": [
    "# 创建engine"
   ]
  },
  {
   "cell_type": "code",
   "execution_count": 1,
   "metadata": {},
   "outputs": [],
   "source": [
    "from sqlalchemy import create_engine\n",
    "\n",
    "# echo默认False不打印SQL语句详情，Ture表示打印。\n",
    "engine = create_engine(\"sqlite:///tutorial.db\", echo=False)"
   ]
  },
  {
   "cell_type": "markdown",
   "metadata": {},
   "source": [
    "# 定义表结构"
   ]
  },
  {
   "cell_type": "code",
   "execution_count": 2,
   "metadata": {},
   "outputs": [],
   "source": [
    "from sqlalchemy import Column, Integer, String\n",
    "from sqlalchemy.ext.declarative import declarative_base\n",
    "from sqlalchemy.orm import declarative_base\n",
    "\n",
    "Base = declarative_base()\n",
    "\n",
    "\n",
    "class User(Base):\n",
    "    # 指定本类映射到users表\n",
    "    __tablename__ = \"users\"\n",
    "\n",
    "    id = Column(Integer, primary_key=True, autoincrement=True)\n",
    "    name = Column(String(20))\n",
    "    fullname = Column(String(32))\n",
    "    password = Column(String(32))\n",
    "\n",
    "    def __repr__(self):\n",
    "        return \"<User(name='%s', fullname='%s', password='%s')>\" % (\n",
    "                   self.name, self.fullname, self.password)"
   ]
  },
  {
   "cell_type": "markdown",
   "metadata": {},
   "source": [
    "# 创建表\n"
   ]
  },
  {
   "cell_type": "code",
   "execution_count": 3,
   "metadata": {},
   "outputs": [],
   "source": [
    "User.__table__\n",
    "# checkfirst表示创建表前先检查该表是否存在,已存在则不再创建(默认True)\n",
    "# Base.metadata.create_all(engine, checkfirst=True)\n",
    "User.__table__.create(engine, checkfirst=False)"
   ]
  },
  {
   "cell_type": "markdown",
   "metadata": {},
   "source": [
    "# 创建 session\n"
   ]
  },
  {
   "cell_type": "code",
   "execution_count": 4,
   "metadata": {},
   "outputs": [],
   "source": [
    "from sqlalchemy.orm import sessionmaker\n",
    "\n",
    "Session = sessionmaker(bind=engine)\n",
    "session = Session()"
   ]
  },
  {
   "cell_type": "markdown",
   "metadata": {},
   "source": [
    "## 增\n"
   ]
  },
  {
   "cell_type": "code",
   "execution_count": 5,
   "metadata": {},
   "outputs": [],
   "source": [
    "ed_user = User(name=\"ed\", fullname=\"Ed Jones\", password=\"edspassword\")\n",
    "\n",
    "# 将该实例插入到users表\n",
    "session.add(ed_user)\n",
    "\n",
    "# 一次插入多条记录形式\n",
    "session.add_all(\n",
    "    [\n",
    "        User(name=\"wendy\", fullname=\"Wendy Williams\", password=\"foobar\"),\n",
    "        User(name=\"mary\", fullname=\"Mary Contrary\", password=\"xxg527\"),\n",
    "        User(name=\"fred\", fullname=\"Fred Flinstone\", password=\"blah\"),\n",
    "    ]\n",
    ")\n",
    "# 当前更改只是在session中，需要使用commit确认更改才会写入数据库\n",
    "session.commit()"
   ]
  },
  {
   "cell_type": "markdown",
   "metadata": {},
   "source": [
    "## 查\n"
   ]
  },
  {
   "cell_type": "markdown",
   "metadata": {},
   "source": [
    "### 单条\n"
   ]
  },
  {
   "cell_type": "code",
   "execution_count": 6,
   "metadata": {},
   "outputs": [
    {
     "name": "stdout",
     "output_type": "stream",
     "text": [
      "<User(name='ed', fullname='Ed Jones', password='edspassword')>\n"
     ]
    }
   ],
   "source": [
    "our_user = session.query(User).filter_by(name=\"ed\").first()\n",
    "print(our_user)"
   ]
  },
  {
   "cell_type": "markdown",
   "metadata": {},
   "source": [
    "### 比较插入前的记录\n"
   ]
  },
  {
   "cell_type": "code",
   "execution_count": 7,
   "metadata": {},
   "outputs": [
    {
     "data": {
      "text/plain": [
       "True"
      ]
     },
     "execution_count": 7,
     "metadata": {},
     "output_type": "execute_result"
    }
   ],
   "source": [
    "# 比较ed_user与查询到的our_user是否为同一条记录\n",
    "ed_user is our_user"
   ]
  },
  {
   "cell_type": "markdown",
   "metadata": {},
   "source": [
    "### 查询全部\n"
   ]
  },
  {
   "cell_type": "code",
   "execution_count": 8,
   "metadata": {},
   "outputs": [
    {
     "name": "stdout",
     "output_type": "stream",
     "text": [
      "[('ed',), ('wendy',), ('mary',), ('fred',)]\n"
     ]
    }
   ],
   "source": [
    "all_user = session.query(User.name).all()\n",
    "print(all_user)"
   ]
  },
  {
   "cell_type": "markdown",
   "metadata": {},
   "source": [
    "## 改\n"
   ]
  },
  {
   "cell_type": "code",
   "execution_count": 9,
   "metadata": {},
   "outputs": [
    {
     "name": "stdout",
     "output_type": "stream",
     "text": [
      "<User(name='ed', fullname='Ed Jones', password='edspassword')>\n",
      "<User(name='ed', fullname='Ed Jones', password='modify_passwd')>\n"
     ]
    }
   ],
   "source": [
    "mod_user = session.query(User).filter_by(name=\"ed\").first()\n",
    "print(mod_user)\n",
    "mod_user.password = \"modify_passwd\"\n",
    "# 确认修改\n",
    "session.commit()\n",
    "print(session.query(User).filter_by(name=\"ed\").first())"
   ]
  },
  {
   "cell_type": "markdown",
   "metadata": {},
   "source": [
    "## 删\n"
   ]
  },
  {
   "cell_type": "code",
   "execution_count": 10,
   "metadata": {},
   "outputs": [
    {
     "name": "stdout",
     "output_type": "stream",
     "text": [
      "<User(name='wendy', fullname='Wendy Williams', password='foobar')>\n",
      "<User(name='mary', fullname='Mary Contrary', password='xxg527')>\n",
      "<User(name='fred', fullname='Fred Flinstone', password='blah')>\n"
     ]
    }
   ],
   "source": [
    "del_user = session.query(User).filter_by(name=\"ed\").first()\n",
    "session.delete(del_user)\n",
    "session.commit()\n",
    "for user in session.query(User):\n",
    "    print(user)"
   ]
  }
 ],
 "metadata": {
  "kernelspec": {
   "display_name": "Python 3",
   "language": "python",
   "name": "python3"
  },
  "language_info": {
   "codemirror_mode": {
    "name": "ipython",
    "version": 3
   },
   "file_extension": ".py",
   "mimetype": "text/x-python",
   "name": "python",
   "nbconvert_exporter": "python",
   "pygments_lexer": "ipython3",
   "version": "3.10.11"
  }
 },
 "nbformat": 4,
 "nbformat_minor": 2
}
