{
 "cells": [
  {
   "cell_type": "markdown",
   "metadata": {},
   "source": [
    "# Relationship 一对多\n",
    "\n",
    "- 强烈推荐\n",
    "- 优势在于: 能够自动完成一些创建关联表的工作\n"
   ]
  },
  {
   "cell_type": "markdown",
   "metadata": {},
   "source": [
    "## 测试准备\n"
   ]
  },
  {
   "cell_type": "markdown",
   "metadata": {},
   "source": [
    "### 定义 model\n"
   ]
  },
  {
   "cell_type": "code",
   "execution_count": 1,
   "metadata": {},
   "outputs": [],
   "source": [
    "from typing import List, Optional\n",
    "\n",
    "from sqlmodel import Field, Relationship, Session, SQLModel, create_engine\n",
    "\n",
    "\n",
    "class Team(SQLModel, table=True):\n",
    "    id: Optional[int] = Field(default=None, primary_key=True)\n",
    "    name: str = Field(index=True)\n",
    "    headquarters: str\n",
    "\n",
    "    heroes: List[\"Hero\"] = Relationship(back_populates=\"team\")\n",
    "\n",
    "\n",
    "class Hero(SQLModel, table=True):\n",
    "    id: Optional[int] = Field(default=None, primary_key=True)\n",
    "    name: str = Field(index=True)\n",
    "    secret_name: str\n",
    "    age: Optional[int] = Field(default=None, index=True)\n",
    "\n",
    "    team_id: Optional[int] = Field(default=None, foreign_key=\"team.id\")\n",
    "    team: Optional[Team] = Relationship(back_populates=\"heroes\")"
   ]
  },
  {
   "cell_type": "markdown",
   "metadata": {},
   "source": [
    "### 创建表\n"
   ]
  },
  {
   "cell_type": "code",
   "execution_count": 2,
   "metadata": {},
   "outputs": [],
   "source": [
    "sqlite_file_name = \"relationship_one_to_many_database.db\"\n",
    "sqlite_url = f\"sqlite:///{sqlite_file_name}\"\n",
    "\n",
    "engine = create_engine(sqlite_url, echo=False)\n",
    "SQLModel.metadata.create_all(engine)"
   ]
  },
  {
   "cell_type": "markdown",
   "metadata": {},
   "source": [
    "## 创建 Relationship\n"
   ]
  },
  {
   "cell_type": "markdown",
   "metadata": {},
   "source": [
    "### 创建一对多的测试数据\n",
    "\n",
    "- 先创建 team,再创建 hero\n",
    "- 两个 team 并没有显式创建并 commit，而是自动被创建出来\n"
   ]
  },
  {
   "cell_type": "code",
   "execution_count": 3,
   "metadata": {},
   "outputs": [
    {
     "name": "stdout",
     "output_type": "stream",
     "text": [
      "Created hero: age=None id=1 name='Deadpond' secret_name='Dive Wilson' team_id=1\n",
      "Created hero: age=48 id=2 name='Rusty-Man' secret_name='Tommy Sharp' team_id=2\n",
      "Created hero: age=None id=3 name='Spider-Boy' secret_name='Pedro Parqueador' team_id=None\n"
     ]
    }
   ],
   "source": [
    "with Session(engine) as session:\n",
    "    team_preventers = Team(name=\"Preventers\", headquarters=\"Sharp Tower\")\n",
    "    team_z_force = Team(name=\"Z-Force\", headquarters=\"Sister Margaret's Bar\")\n",
    "\n",
    "    hero_deadpond = Hero(name=\"Deadpond\", secret_name=\"Dive Wilson\", team=team_z_force)\n",
    "    hero_rusty_man = Hero(\n",
    "        name=\"Rusty-Man\", secret_name=\"Tommy Sharp\", age=48, team=team_preventers\n",
    "    )\n",
    "    hero_spider_boy = Hero(name=\"Spider-Boy\", secret_name=\"Pedro Parqueador\")\n",
    "    session.add(hero_deadpond)\n",
    "    session.add(hero_rusty_man)\n",
    "    session.add(hero_spider_boy)\n",
    "    session.commit()\n",
    "\n",
    "    session.refresh(hero_deadpond)\n",
    "    session.refresh(hero_rusty_man)\n",
    "    session.refresh(hero_spider_boy)\n",
    "\n",
    "    print(\"Created hero:\", hero_deadpond)\n",
    "    print(\"Created hero:\", hero_rusty_man)\n",
    "    print(\"Created hero:\", hero_spider_boy)"
   ]
  },
  {
   "cell_type": "markdown",
   "metadata": {},
   "source": [
    "### 创建后，再分配关系\n",
    "\n",
    "除了上述新建的时候，分配 team，还可以在后续给对象分配 team\n"
   ]
  },
  {
   "cell_type": "code",
   "execution_count": 5,
   "metadata": {},
   "outputs": [
    {
     "name": "stdout",
     "output_type": "stream",
     "text": [
      "Updated hero: age=None id=3 name='Spider-Boy' secret_name='Pedro Parqueador' team_id=2\n"
     ]
    }
   ],
   "source": [
    "with Session(engine) as session:\n",
    "    hero_spider_boy.team = team_preventers\n",
    "    session.add(hero_spider_boy)\n",
    "    session.commit()\n",
    "    session.refresh(hero_spider_boy)\n",
    "    print(\"Updated hero:\", hero_spider_boy)"
   ]
  },
  {
   "cell_type": "markdown",
   "metadata": {},
   "source": [
    "### 创建多对一的数据\n",
    "\n",
    "先创建多个 hero,再创建 team\n"
   ]
  },
  {
   "cell_type": "code",
   "execution_count": 6,
   "metadata": {},
   "outputs": [
    {
     "name": "stdout",
     "output_type": "stream",
     "text": [
      "Team Wakaland: id=3 name='Wakaland' headquarters='Wakaland Capital City'\n"
     ]
    }
   ],
   "source": [
    "with Session(engine) as session:\n",
    "    hero_black_lion = Hero(name=\"Black Lion\", secret_name=\"Trevor Challa\", age=35)\n",
    "    hero_sure_e = Hero(name=\"Princess Sure-E\", secret_name=\"Sure-E\")\n",
    "    team_wakaland = Team(\n",
    "        name=\"Wakaland\",\n",
    "        headquarters=\"Wakaland Capital City\",\n",
    "        heroes=[hero_black_lion, hero_sure_e],\n",
    "    )\n",
    "    session.add(team_wakaland)\n",
    "    session.commit()\n",
    "    session.refresh(team_wakaland)\n",
    "    print(\"Team Wakaland:\", team_wakaland)"
   ]
  },
  {
   "cell_type": "markdown",
   "metadata": {},
   "source": [
    "## 查询\n"
   ]
  },
  {
   "cell_type": "code",
   "execution_count": 8,
   "metadata": {},
   "outputs": [],
   "source": [
    "from sqlmodel import select"
   ]
  },
  {
   "cell_type": "markdown",
   "metadata": {},
   "source": [
    "### 查询并 带出多关系\n",
    "\n",
    "查询一对多数据的场景： 查询多，自动带出它的一\n"
   ]
  },
  {
   "cell_type": "code",
   "execution_count": 10,
   "metadata": {},
   "outputs": [
    {
     "name": "stdout",
     "output_type": "stream",
     "text": [
      "Spider-Boy's team again: id=2 name='Preventers' headquarters='Sharp Tower'\n",
      "Spider-Boy's team again: age=None id=3 name='Spider-Boy' secret_name='Pedro Parqueador' team_id=2\n"
     ]
    }
   ],
   "source": [
    "with Session(engine) as session:\n",
    "    statement = select(Hero).where(Hero.name == \"Spider-Boy\")\n",
    "    result = session.exec(statement)\n",
    "    hero_spider_boy = result.one()\n",
    "\n",
    "    print(\"Spider-Boy's team again:\", hero_spider_boy)\n",
    "    print(\"Spider-Boy's team again:\", hero_spider_boy.team)"
   ]
  },
  {
   "cell_type": "markdown",
   "metadata": {},
   "source": [
    "### 查询并 带出一关系\n",
    "\n",
    "查询一对多数据的场景： 查询一，自动带出它的多\n"
   ]
  },
  {
   "cell_type": "code",
   "execution_count": 11,
   "metadata": {},
   "outputs": [
    {
     "name": "stdout",
     "output_type": "stream",
     "text": [
      "age=48 id=2 name='Rusty-Man' secret_name='Tommy Sharp' team_id=2\n",
      "age=None id=3 name='Spider-Boy' secret_name='Pedro Parqueador' team_id=2\n"
     ]
    }
   ],
   "source": [
    "with Session(engine) as session:\n",
    "    statement = select(Team).where(Team.name == \"Preventers\")\n",
    "    result = session.exec(statement)\n",
    "    team_preventers = result.one()\n",
    "    for hero in team_preventers.heroes:\n",
    "        print(hero)"
   ]
  },
  {
   "cell_type": "markdown",
   "metadata": {},
   "source": [
    "## 移除\n",
    "移除hero的team"
   ]
  },
  {
   "cell_type": "code",
   "execution_count": 12,
   "metadata": {},
   "outputs": [
    {
     "name": "stdout",
     "output_type": "stream",
     "text": [
      "Spider-Boy without team: age=None id=3 name='Spider-Boy' secret_name='Pedro Parqueador' team_id=None\n"
     ]
    }
   ],
   "source": [
    "with Session(engine) as session:\n",
    "    statement = select(Hero).where(Hero.name == \"Spider-Boy\")\n",
    "    result = session.exec(statement)\n",
    "    hero_spider_boy = result.one()\n",
    "\n",
    "    hero_spider_boy.team = None\n",
    "    session.add(hero_spider_boy)\n",
    "    session.commit()\n",
    "\n",
    "    session.refresh(hero_spider_boy)\n",
    "    print(\"Spider-Boy without team:\", hero_spider_boy)"
   ]
  }
 ],
 "metadata": {
  "kernelspec": {
   "display_name": "Python 3",
   "language": "python",
   "name": "python3"
  },
  "language_info": {
   "codemirror_mode": {
    "name": "ipython",
    "version": 3
   },
   "file_extension": ".py",
   "mimetype": "text/x-python",
   "name": "python",
   "nbconvert_exporter": "python",
   "pygments_lexer": "ipython3",
   "version": "3.10.11"
  }
 },
 "nbformat": 4,
 "nbformat_minor": 2
}
