{
 "cells": [
  {
   "cell_type": "markdown",
   "metadata": {},
   "source": [
    "# 连表查询-定义一对多/多对一表\n"
   ]
  },
  {
   "cell_type": "markdown",
   "metadata": {},
   "source": [
    "## 测试准备\n"
   ]
  },
  {
   "cell_type": "markdown",
   "metadata": {},
   "source": [
    "### 定义 model\n"
   ]
  },
  {
   "cell_type": "code",
   "execution_count": 1,
   "metadata": {},
   "outputs": [],
   "source": [
    "from typing import Optional\n",
    "\n",
    "from sqlmodel import Field, SQLModel, create_engine\n",
    "\n",
    "\n",
    "class Team(SQLModel, table=True):\n",
    "    id: Optional[int] = Field(default=None, primary_key=True)\n",
    "    name: str = Field(index=True)\n",
    "    headquarters: str\n",
    "\n",
    "\n",
    "class Hero(SQLModel, table=True):\n",
    "    id: Optional[int] = Field(default=None, primary_key=True)\n",
    "    name: str = Field(index=True)\n",
    "    secret_name: str\n",
    "    age: Optional[int] = Field(default=None, index=True)\n",
    "\n",
    "    team_id: Optional[int] = Field(default=None, foreign_key=\"team.id\")"
   ]
  },
  {
   "cell_type": "markdown",
   "metadata": {},
   "source": [
    "### 创建表\n"
   ]
  },
  {
   "cell_type": "code",
   "execution_count": 8,
   "metadata": {},
   "outputs": [],
   "source": [
    "sqlite_file_name = \"join_database.db\"\n",
    "sqlite_url = f\"sqlite:///{sqlite_file_name}\"\n",
    "\n",
    "engine = create_engine(sqlite_url, echo=False)\n",
    "\n",
    "SQLModel.metadata.create_all(engine)\n",
    "from sqlmodel import Session\n",
    "from sqlmodel import select"
   ]
  },
  {
   "cell_type": "markdown",
   "metadata": {},
   "source": [
    "### 添加测试数据\n"
   ]
  },
  {
   "cell_type": "code",
   "execution_count": 9,
   "metadata": {},
   "outputs": [
    {
     "name": "stdout",
     "output_type": "stream",
     "text": [
      "Created hero: secret_name='Dive Wilson' name='Deadpond' team_id=4 age=None id=4\n",
      "Created hero: secret_name='Tommy Sharp' name='Rusty-Man' team_id=3 age=48 id=5\n",
      "Created hero: secret_name='Pedro Parqueador' name='Spider-Boy' team_id=None age=None id=6\n"
     ]
    }
   ],
   "source": [
    "with Session(engine) as session:\n",
    "    team_preventers = Team(name=\"Preventers\", headquarters=\"Sharp Tower\")\n",
    "    team_z_force = Team(name=\"Z-Force\", headquarters=\"Sister Margaret's Bar\")\n",
    "    session.add(team_preventers)\n",
    "    session.add(team_z_force)\n",
    "    session.commit()\n",
    "\n",
    "    hero_deadpond = Hero(\n",
    "        name=\"Deadpond\", secret_name=\"Dive Wilson\", team_id=team_z_force.id\n",
    "    )\n",
    "    hero_rusty_man = Hero(\n",
    "        name=\"Rusty-Man\",\n",
    "        secret_name=\"Tommy Sharp\",\n",
    "        age=48,\n",
    "        team_id=team_preventers.id,\n",
    "    )\n",
    "    hero_spider_boy = Hero(name=\"Spider-Boy\", secret_name=\"Pedro Parqueador\")\n",
    "\n",
    "    session.add(hero_deadpond)\n",
    "    session.add(hero_rusty_man)\n",
    "    session.add(hero_spider_boy)\n",
    "    session.commit()\n",
    "    session.refresh(hero_deadpond)\n",
    "    session.refresh(hero_rusty_man)\n",
    "    session.refresh(hero_spider_boy)\n",
    "\n",
    "    print(\"Created hero:\", hero_deadpond)\n",
    "    print(\"Created hero:\", hero_rusty_man)\n",
    "    print(\"Created hero:\", hero_spider_boy)"
   ]
  },
  {
   "cell_type": "markdown",
   "metadata": {},
   "source": [
    "## 连表方法\n",
    "\n",
    "使用 where 和使用 join 的 sql 是不同的\n"
   ]
  },
  {
   "cell_type": "markdown",
   "metadata": {},
   "source": [
    "### 方式一 where 连表\n"
   ]
  },
  {
   "cell_type": "code",
   "execution_count": 4,
   "metadata": {},
   "outputs": [
    {
     "name": "stdout",
     "output_type": "stream",
     "text": [
      "2023-12-29 15:20:21,770 INFO sqlalchemy.engine.Engine BEGIN (implicit)\n",
      "2023-12-29 15:20:21,773 INFO sqlalchemy.engine.Engine SELECT hero.id, hero.name, hero.secret_name, hero.age, hero.team_id, team.id AS id_1, team.name AS name_1, team.headquarters \n",
      "FROM hero, team \n",
      "WHERE hero.team_id = team.id\n",
      "2023-12-29 15:20:21,774 INFO sqlalchemy.engine.Engine [generated in 0.00115s] ()\n",
      "Hero: secret_name='Dive Wilson' name='Deadpond' team_id=2 age=None id=1   Team: name='Z-Force' headquarters=\"Sister Margaret's Bar\" id=2\n",
      "Hero: secret_name='Tommy Sharp' name='Rusty-Man' team_id=1 age=48 id=2   Team: name='Preventers' headquarters='Sharp Tower' id=1\n",
      "2023-12-29 15:20:21,777 INFO sqlalchemy.engine.Engine ROLLBACK\n"
     ]
    }
   ],
   "source": [
    "with Session(engine) as session:\n",
    "    statement = select(Hero, Team).where(Hero.team_id == Team.id)\n",
    "    results = session.exec(statement).all()\n",
    "    for hero, team in results:\n",
    "        print(\"Hero:\", hero, \"  Team:\", team)"
   ]
  },
  {
   "cell_type": "markdown",
   "metadata": {},
   "source": [
    "### 方式二 join 连表\n"
   ]
  },
  {
   "cell_type": "code",
   "execution_count": 5,
   "metadata": {},
   "outputs": [
    {
     "name": "stdout",
     "output_type": "stream",
     "text": [
      "2023-12-29 15:20:28,001 INFO sqlalchemy.engine.Engine BEGIN (implicit)\n",
      "2023-12-29 15:20:28,004 INFO sqlalchemy.engine.Engine SELECT hero.id, hero.name, hero.secret_name, hero.age, hero.team_id, team.id AS id_1, team.name AS name_1, team.headquarters \n",
      "FROM hero JOIN team ON team.id = hero.team_id\n",
      "2023-12-29 15:20:28,005 INFO sqlalchemy.engine.Engine [generated in 0.00079s] ()\n",
      "Hero: secret_name='Dive Wilson' name='Deadpond' team_id=2 age=None id=1   Team: name='Z-Force' headquarters=\"Sister Margaret's Bar\" id=2\n",
      "Hero: secret_name='Tommy Sharp' name='Rusty-Man' team_id=1 age=48 id=2   Team: name='Preventers' headquarters='Sharp Tower' id=1\n",
      "2023-12-29 15:20:28,007 INFO sqlalchemy.engine.Engine ROLLBACK\n"
     ]
    }
   ],
   "source": [
    "with Session(engine) as session:\n",
    "    statement = select(Hero, Team).join(Team)\n",
    "    results = session.exec(statement)\n",
    "    for hero, team in results:\n",
    "        print(\"Hero:\", hero, \"  Team:\", team)"
   ]
  },
  {
   "cell_type": "markdown",
   "metadata": {},
   "source": [
    "## 连接方向\n"
   ]
  },
  {
   "cell_type": "markdown",
   "metadata": {},
   "source": [
    "### inner\n"
   ]
  },
  {
   "cell_type": "code",
   "execution_count": 6,
   "metadata": {},
   "outputs": [
    {
     "name": "stdout",
     "output_type": "stream",
     "text": [
      "2023-12-29 15:20:42,591 INFO sqlalchemy.engine.Engine BEGIN (implicit)\n",
      "2023-12-29 15:20:42,593 INFO sqlalchemy.engine.Engine SELECT hero.id, hero.name, hero.secret_name, hero.age, hero.team_id, team.id AS id_1, team.name AS name_1, team.headquarters \n",
      "FROM hero JOIN team ON team.id = hero.team_id\n",
      "2023-12-29 15:20:42,593 INFO sqlalchemy.engine.Engine [cached since 14.59s ago] ()\n",
      "Hero: secret_name='Dive Wilson' name='Deadpond' team_id=2 age=None id=1 Team: name='Z-Force' headquarters=\"Sister Margaret's Bar\" id=2\n",
      "Hero: secret_name='Tommy Sharp' name='Rusty-Man' team_id=1 age=48 id=2 Team: name='Preventers' headquarters='Sharp Tower' id=1\n",
      "2023-12-29 15:20:42,595 INFO sqlalchemy.engine.Engine ROLLBACK\n"
     ]
    }
   ],
   "source": [
    "with Session(engine) as session:\n",
    "    statement = select(Hero, Team).join(\n",
    "        Team,\n",
    "    )\n",
    "    results = session.exec(statement)\n",
    "    for hero, team in results:\n",
    "        print(\"Hero:\", hero, \"Team:\", team)"
   ]
  },
  {
   "cell_type": "markdown",
   "metadata": {},
   "source": [
    "### outer\n"
   ]
  },
  {
   "cell_type": "code",
   "execution_count": 7,
   "metadata": {},
   "outputs": [
    {
     "name": "stdout",
     "output_type": "stream",
     "text": [
      "2023-12-29 15:25:07,727 INFO sqlalchemy.engine.Engine BEGIN (implicit)\n",
      "2023-12-29 15:25:07,729 INFO sqlalchemy.engine.Engine SELECT hero.id, hero.name, hero.secret_name, hero.age, hero.team_id, team.id AS id_1, team.name AS name_1, team.headquarters \n",
      "FROM hero LEFT OUTER JOIN team ON team.id = hero.team_id\n",
      "2023-12-29 15:25:07,731 INFO sqlalchemy.engine.Engine [generated in 0.00194s] ()\n",
      "Hero: secret_name='Dive Wilson' name='Deadpond' team_id=2 age=None id=1 Team: name='Z-Force' headquarters=\"Sister Margaret's Bar\" id=2\n",
      "Hero: secret_name='Tommy Sharp' name='Rusty-Man' team_id=1 age=48 id=2 Team: name='Preventers' headquarters='Sharp Tower' id=1\n",
      "Hero: secret_name='Pedro Parqueador' name='Spider-Boy' team_id=None age=None id=3 Team: None\n",
      "2023-12-29 15:25:07,734 INFO sqlalchemy.engine.Engine ROLLBACK\n"
     ]
    }
   ],
   "source": [
    "with Session(engine) as session:\n",
    "    statement = select(Hero, Team).join(Team, isouter=True)\n",
    "    results = session.exec(statement)\n",
    "    for hero, team in results:\n",
    "        print(\"Hero:\", hero, \"Team:\", team)"
   ]
  },
  {
   "cell_type": "markdown",
   "metadata": {},
   "source": [
    "## 连表查询\n"
   ]
  },
  {
   "cell_type": "markdown",
   "metadata": {},
   "source": [
    "### join 和 where 连用\n"
   ]
  },
  {
   "cell_type": "code",
   "execution_count": 10,
   "metadata": {},
   "outputs": [
    {
     "name": "stdout",
     "output_type": "stream",
     "text": [
      "Preventer Hero: secret_name='Tommy Sharp' name='Rusty-Man' team_id=1 age=48 id=2 Team: name='Preventers' headquarters='Sharp Tower' id=1\n",
      "Preventer Hero: secret_name='Tommy Sharp' name='Rusty-Man' team_id=3 age=48 id=5 Team: name='Preventers' headquarters='Sharp Tower' id=3\n"
     ]
    }
   ],
   "source": [
    "with Session(engine) as session:\n",
    "    statement = select(Hero, Team).join(Team).where(Team.name == \"Preventers\")\n",
    "    results = session.exec(statement)\n",
    "    for hero, team in results:\n",
    "        print(\"Preventer Hero:\", hero, \"Team:\", team)"
   ]
  },
  {
   "cell_type": "code",
   "execution_count": 11,
   "metadata": {},
   "outputs": [
    {
     "name": "stdout",
     "output_type": "stream",
     "text": [
      "secret_name='Pedro Parqueador' name='Spider-Boy' team_id=None age=None id=3\n",
      "Updated hero: secret_name='Pedro Parqueador' name='Spider-Boy' team_id=2 age=None id=3\n"
     ]
    }
   ],
   "source": [
    "with Session(engine) as session:\n",
    "    hero_no_team = session.exec(select(Hero).where(Hero.team_id == None)).first()\n",
    "    print(hero_no_team)\n",
    "    hero_no_team.team_id = 2\n",
    "\n",
    "    session.add(hero_no_team)\n",
    "    session.commit()\n",
    "    session.refresh(hero_no_team)\n",
    "    print(\"Updated hero:\", hero_no_team)"
   ]
  }
 ],
 "metadata": {
  "kernelspec": {
   "display_name": "Python 3",
   "language": "python",
   "name": "python3"
  },
  "language_info": {
   "codemirror_mode": {
    "name": "ipython",
    "version": 3
   },
   "file_extension": ".py",
   "mimetype": "text/x-python",
   "name": "python",
   "nbconvert_exporter": "python",
   "pygments_lexer": "ipython3",
   "version": "3.10.11"
  }
 },
 "nbformat": 4,
 "nbformat_minor": 2
}
