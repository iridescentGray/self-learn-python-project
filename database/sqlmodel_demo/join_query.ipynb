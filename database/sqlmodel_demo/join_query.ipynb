{
 "cells": [
  {
   "cell_type": "markdown",
   "metadata": {},
   "source": [
    "# 连表查询-定义一对多/多对一表\n"
   ]
  },
  {
   "cell_type": "markdown",
   "metadata": {},
   "source": [
    "## 测试准备\n"
   ]
  },
  {
   "cell_type": "markdown",
   "metadata": {},
   "source": [
    "### 定义model"
   ]
  },
  {
   "cell_type": "code",
   "execution_count": 1,
   "metadata": {},
   "outputs": [],
   "source": [
    "from typing import Optional\n",
    "\n",
    "from sqlmodel import Field, SQLModel, create_engine\n",
    "\n",
    "\n",
    "class Team(SQLModel, table=True):\n",
    "    id: Optional[int] = Field(default=None, primary_key=True)\n",
    "    name: str = Field(index=True)\n",
    "    headquarters: str\n",
    "\n",
    "\n",
    "class Hero(SQLModel, table=True):\n",
    "    id: Optional[int] = Field(default=None, primary_key=True)\n",
    "    name: str = Field(index=True)\n",
    "    secret_name: str\n",
    "    age: Optional[int] = Field(default=None, index=True)\n",
    "\n",
    "    team_id: Optional[int] = Field(default=None, foreign_key=\"team.id\")"
   ]
  },
  {
   "cell_type": "markdown",
   "metadata": {},
   "source": [
    "### 创建表"
   ]
  },
  {
   "cell_type": "code",
   "execution_count": 7,
   "metadata": {},
   "outputs": [],
   "source": [
    "sqlite_file_name = \"join_database.db\"\n",
    "sqlite_url = f\"sqlite:///{sqlite_file_name}\"\n",
    "\n",
    "engine = create_engine(sqlite_url, echo=False)\n",
    "\n",
    "SQLModel.metadata.create_all(engine)\n",
    "from sqlmodel import Session\n",
    "from sqlmodel import select\n"
   ]
  },
  {
   "cell_type": "markdown",
   "metadata": {},
   "source": [
    "### 添加测试数据"
   ]
  },
  {
   "cell_type": "code",
   "execution_count": 2,
   "metadata": {},
   "outputs": [
    {
     "name": "stdout",
     "output_type": "stream",
     "text": [
      "Created hero: team_id=2 name='Deadpond' secret_name='Dive Wilson' age=None id=1\n",
      "Created hero: team_id=1 name='Rusty-Man' secret_name='Tommy Sharp' age=48 id=2\n",
      "Created hero: team_id=None name='Spider-Boy' secret_name='Pedro Parqueador' age=None id=3\n"
     ]
    }
   ],
   "source": [
    "\n",
    "with Session(engine) as session:\n",
    "    team_preventers = Team(name=\"Preventers\", headquarters=\"Sharp Tower\")\n",
    "    team_z_force = Team(name=\"Z-Force\", headquarters=\"Sister Margaret's Bar\")\n",
    "    session.add(team_preventers)\n",
    "    session.add(team_z_force)\n",
    "    session.commit()\n",
    "\n",
    "    hero_deadpond = Hero(\n",
    "        name=\"Deadpond\", secret_name=\"Dive Wilson\", team_id=team_z_force.id\n",
    "    )\n",
    "    hero_rusty_man = Hero(\n",
    "        name=\"Rusty-Man\",\n",
    "        secret_name=\"Tommy Sharp\",\n",
    "        age=48,\n",
    "        team_id=team_preventers.id,\n",
    "    )\n",
    "    hero_spider_boy = Hero(name=\"Spider-Boy\", secret_name=\"Pedro Parqueador\")\n",
    "\n",
    "    session.add(hero_deadpond)\n",
    "    session.add(hero_rusty_man)\n",
    "    session.add(hero_spider_boy)\n",
    "    session.commit()\n",
    "    session.refresh(hero_deadpond)\n",
    "    session.refresh(hero_rusty_man)\n",
    "    session.refresh(hero_spider_boy)\n",
    "\n",
    "    print(\"Created hero:\", hero_deadpond)\n",
    "    print(\"Created hero:\", hero_rusty_man)\n",
    "    print(\"Created hero:\", hero_spider_boy)"
   ]
  },
  {
   "cell_type": "markdown",
   "metadata": {},
   "source": [
    "## 连表方法\n",
    "\n",
    "使用where和使用join的sql是不同的"
   ]
  },
  {
   "cell_type": "markdown",
   "metadata": {},
   "source": [
    "### 方式一 where连表"
   ]
  },
  {
   "cell_type": "code",
   "execution_count": 6,
   "metadata": {},
   "outputs": [
    {
     "name": "stdout",
     "output_type": "stream",
     "text": [
      "2023-12-19 15:46:04,686 INFO sqlalchemy.engine.Engine BEGIN (implicit)\n",
      "2023-12-19 15:46:04,692 INFO sqlalchemy.engine.Engine SELECT hero.id, hero.name, hero.secret_name, hero.age, hero.team_id, team.id AS id_1, team.name AS name_1, team.headquarters \n",
      "FROM hero, team \n",
      "WHERE hero.team_id = team.id\n",
      "2023-12-19 15:46:04,693 INFO sqlalchemy.engine.Engine [generated in 0.00105s] ()\n",
      "Hero: id=1 age=None name='Deadpond' secret_name='Dive Wilson' team_id=2   Team: name='Z-Force' headquarters=\"Sister Margaret's Bar\" id=2\n",
      "Hero: id=2 age=48 name='Rusty-Man' secret_name='Tommy Sharp' team_id=1   Team: name='Preventers' headquarters='Sharp Tower' id=1\n",
      "2023-12-19 15:46:04,695 INFO sqlalchemy.engine.Engine ROLLBACK\n"
     ]
    }
   ],
   "source": [
    "with Session(engine) as session:\n",
    "    statement = select(Hero, Team).where(Hero.team_id == Team.id)\n",
    "    results=session.exec(statement).all()\n",
    "    for hero, team in results:\n",
    "        print(\"Hero:\", hero, \"  Team:\", team)"
   ]
  },
  {
   "cell_type": "markdown",
   "metadata": {},
   "source": [
    "### 方式二 join连表"
   ]
  },
  {
   "cell_type": "code",
   "execution_count": 8,
   "metadata": {},
   "outputs": [
    {
     "name": "stdout",
     "output_type": "stream",
     "text": [
      "2023-12-19 15:47:40,645 INFO sqlalchemy.engine.Engine BEGIN (implicit)\n",
      "2023-12-19 15:47:40,647 INFO sqlalchemy.engine.Engine SELECT hero.id, hero.name, hero.secret_name, hero.age, hero.team_id, team.id AS id_1, team.name AS name_1, team.headquarters \n",
      "FROM hero JOIN team ON team.id = hero.team_id\n",
      "2023-12-19 15:47:40,647 INFO sqlalchemy.engine.Engine [cached since 48.42s ago] ()\n",
      "Hero: id=1 age=None name='Deadpond' secret_name='Dive Wilson' team_id=2   Team: name='Z-Force' headquarters=\"Sister Margaret's Bar\" id=2\n",
      "Hero: id=2 age=48 name='Rusty-Man' secret_name='Tommy Sharp' team_id=1   Team: name='Preventers' headquarters='Sharp Tower' id=1\n",
      "2023-12-19 15:47:40,648 INFO sqlalchemy.engine.Engine ROLLBACK\n"
     ]
    }
   ],
   "source": [
    "with Session(engine) as session:\n",
    "    statement = select(Hero, Team).join(Team)\n",
    "    results = session.exec(statement)\n",
    "    for hero, team in results:\n",
    "        print(\"Hero:\", hero, \"  Team:\", team)"
   ]
  },
  {
   "cell_type": "markdown",
   "metadata": {},
   "source": [
    "## 连接方向"
   ]
  },
  {
   "cell_type": "markdown",
   "metadata": {},
   "source": [
    "### 左 "
   ]
  },
  {
   "cell_type": "code",
   "execution_count": 10,
   "metadata": {},
   "outputs": [
    {
     "name": "stdout",
     "output_type": "stream",
     "text": [
      "2023-12-19 16:11:05,814 INFO sqlalchemy.engine.Engine BEGIN (implicit)\n",
      "2023-12-19 16:11:05,815 INFO sqlalchemy.engine.Engine SELECT hero.id, hero.name, hero.secret_name, hero.age, hero.team_id, team.id AS id_1, team.name AS name_1, team.headquarters \n",
      "FROM hero JOIN team ON team.id = hero.team_id\n",
      "2023-12-19 16:11:05,816 INFO sqlalchemy.engine.Engine [cached since 1454s ago] ()\n",
      "Hero: id=1 age=None name='Deadpond' secret_name='Dive Wilson' team_id=2 Team: name='Z-Force' headquarters=\"Sister Margaret's Bar\" id=2\n",
      "Hero: id=2 age=48 name='Rusty-Man' secret_name='Tommy Sharp' team_id=1 Team: name='Preventers' headquarters='Sharp Tower' id=1\n",
      "2023-12-19 16:11:05,818 INFO sqlalchemy.engine.Engine ROLLBACK\n"
     ]
    }
   ],
   "source": [
    "with Session(engine) as session:\n",
    "    statement = select(Hero, Team).join(Team,)\n",
    "    results = session.exec(statement)\n",
    "    for hero, team in results:\n",
    "        print(\"Hero:\", hero, \"Team:\", team)"
   ]
  },
  {
   "cell_type": "markdown",
   "metadata": {},
   "source": [
    "### 外"
   ]
  },
  {
   "cell_type": "code",
   "execution_count": 9,
   "metadata": {},
   "outputs": [
    {
     "name": "stdout",
     "output_type": "stream",
     "text": [
      "2023-12-19 16:09:33,383 INFO sqlalchemy.engine.Engine BEGIN (implicit)\n",
      "2023-12-19 16:09:33,385 INFO sqlalchemy.engine.Engine SELECT hero.id, hero.name, hero.secret_name, hero.age, hero.team_id, team.id AS id_1, team.name AS name_1, team.headquarters \n",
      "FROM hero LEFT OUTER JOIN team ON team.id = hero.team_id\n",
      "2023-12-19 16:09:33,386 INFO sqlalchemy.engine.Engine [generated in 0.00154s] ()\n",
      "Hero: id=1 age=None name='Deadpond' secret_name='Dive Wilson' team_id=2 Team: name='Z-Force' headquarters=\"Sister Margaret's Bar\" id=2\n",
      "Hero: id=2 age=48 name='Rusty-Man' secret_name='Tommy Sharp' team_id=1 Team: name='Preventers' headquarters='Sharp Tower' id=1\n",
      "Hero: id=3 age=None name='Spider-Boy' secret_name='Pedro Parqueador' team_id=None Team: None\n",
      "2023-12-19 16:09:33,389 INFO sqlalchemy.engine.Engine ROLLBACK\n"
     ]
    }
   ],
   "source": [
    "with Session(engine) as session:\n",
    "    statement = select(Hero, Team).join(Team, isouter=True)\n",
    "    results = session.exec(statement)\n",
    "    for hero, team in results:\n",
    "        print(\"Hero:\", hero, \"Team:\", team)"
   ]
  },
  {
   "cell_type": "markdown",
   "metadata": {},
   "source": [
    "## 连表查询"
   ]
  },
  {
   "cell_type": "markdown",
   "metadata": {},
   "source": [
    "### join和where连用"
   ]
  },
  {
   "cell_type": "code",
   "execution_count": 8,
   "metadata": {},
   "outputs": [
    {
     "name": "stdout",
     "output_type": "stream",
     "text": [
      "Preventer Hero: id=2 age=48 name='Rusty-Man' secret_name='Tommy Sharp' team_id=1 Team: name='Preventers' headquarters='Sharp Tower' id=1\n"
     ]
    }
   ],
   "source": [
    "with Session(engine) as session:\n",
    "    statement = select(Hero, Team).join(Team).where(Team.name == \"Preventers\")\n",
    "    results = session.exec(statement)\n",
    "    for hero, team in results:\n",
    "        print(\"Preventer Hero:\", hero, \"Team:\", team)\n"
   ]
  },
  {
   "cell_type": "code",
   "execution_count": 18,
   "metadata": {},
   "outputs": [
    {
     "name": "stdout",
     "output_type": "stream",
     "text": [
      "id=3 age=None name='Spider-Boy' secret_name='Pedro Parqueador' team_id=None\n",
      "Updated hero: id=3 age=None name='Spider-Boy' secret_name='Pedro Parqueador' team_id=2\n"
     ]
    }
   ],
   "source": [
    "with Session(engine) as session:\n",
    "    hero_no_team=session.exec(select(Hero).where(Hero.team_id==None)).first()\n",
    "    print(hero_no_team)\n",
    "    hero_no_team.team_id=2\n",
    "\n",
    "    session.add(hero_no_team)\n",
    "    session.commit()\n",
    "    session.refresh(hero_no_team)\n",
    "    print(\"Updated hero:\", hero_no_team)"
   ]
  }
 ],
 "metadata": {
  "kernelspec": {
   "display_name": "Python 3",
   "language": "python",
   "name": "python3"
  },
  "language_info": {
   "codemirror_mode": {
    "name": "ipython",
    "version": 3
   },
   "file_extension": ".py",
   "mimetype": "text/x-python",
   "name": "python",
   "nbconvert_exporter": "python",
   "pygments_lexer": "ipython3",
   "version": "3.10.11"
  }
 },
 "nbformat": 4,
 "nbformat_minor": 2
}
