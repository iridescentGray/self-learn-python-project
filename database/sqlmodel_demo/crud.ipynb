{
 "cells": [
  {
   "cell_type": "markdown",
   "metadata": {},
   "source": [
    "# SqlModel\n",
    "\n",
    "doc: https://sqlmodel.tiangolo.com/\n"
   ]
  },
  {
   "cell_type": "markdown",
   "metadata": {},
   "source": [
    "# 定义表\n"
   ]
  },
  {
   "cell_type": "code",
   "execution_count": null,
   "metadata": {},
   "outputs": [],
   "source": [
    "from typing import Optional\n",
    "\n",
    "from sqlmodel import Field, SQLModel\n",
    "\n",
    "\n",
    "class Hero(SQLModel, table=True):\n",
    "    id: Optional[int] = Field(default=None, primary_key=True)\n",
    "    name: str\n",
    "    secret_name: str\n",
    "    age: Optional[int] = None\n",
    "    # money: str = Field(index=True)   带索引的字段"
   ]
  },
  {
   "cell_type": "markdown",
   "metadata": {},
   "source": [
    "# 创建表\n"
   ]
  },
  {
   "cell_type": "code",
   "execution_count": null,
   "metadata": {},
   "outputs": [],
   "source": [
    "from sqlmodel import SQLModel, create_engine\n",
    "\n",
    "# echo=True 代表打印sql细节\n",
    "engine = create_engine(\"sqlite:///database.db\", echo=False)"
   ]
  },
  {
   "cell_type": "code",
   "execution_count": null,
   "metadata": {},
   "outputs": [],
   "source": [
    "# 创建方式1\n",
    "SQLModel.metadata.create_all(engine)"
   ]
  },
  {
   "cell_type": "code",
   "execution_count": null,
   "metadata": {},
   "outputs": [],
   "source": [
    "# 创建方式2\n",
    "# checkfirst表示创建表前先检查该表是否存在,已存在则不再创建(默认True)\n",
    "Hero.__table__.create(engine, checkfirst=True)"
   ]
  },
  {
   "cell_type": "markdown",
   "metadata": {},
   "source": [
    "# 插入\n"
   ]
  },
  {
   "cell_type": "code",
   "execution_count": null,
   "metadata": {},
   "outputs": [],
   "source": [
    "from sqlmodel import Session\n",
    "\n",
    "\n",
    "hero_1 = Hero(name=\"Deadpond\", secret_name=\"Dive Wilson\")\n",
    "hero_2 = Hero(name=\"Spider-Boy\", secret_name=\"Pedro Parqueador\")\n",
    "hero_3 = Hero(name=\"Rusty-Man\", secret_name=\"Tommy Sharp\", age=48)\n",
    "\n",
    "with Session(engine) as session:\n",
    "    session.add(hero_1)\n",
    "    session.add(hero_2)\n",
    "    session.add(hero_3)\n",
    "    session.commit()"
   ]
  },
  {
   "cell_type": "markdown",
   "metadata": {},
   "source": [
    "# 普通查询\n"
   ]
  },
  {
   "cell_type": "markdown",
   "metadata": {},
   "source": [
    "## 查询全部\n",
    "\n",
    "- exec 查询返回的是 sqlalchemy.engine.result.ScalarResul\n",
    "- sqlmodel 其实是一个封装 sqlalchemy 的简化框架\n"
   ]
  },
  {
   "cell_type": "code",
   "execution_count": 17,
   "metadata": {},
   "outputs": [
    {
     "name": "stdout",
     "output_type": "stream",
     "text": [
      "<class 'sqlalchemy.engine.result.ScalarResult'>\n",
      "<class '__main__.Hero'>\n",
      "name='Deadpond' secret_name='Dive Wilson' id=1 age=None\n",
      "<class '__main__.Hero'>\n",
      "name='Spider-Boy' secret_name='Pedro Parqueador' id=2 age=None\n",
      "<class '__main__.Hero'>\n",
      "name='Rusty-Man' secret_name='Tommy Sharp' id=3 age=48\n"
     ]
    }
   ],
   "source": [
    "from sqlmodel import Session, select\n",
    "\n",
    "with Session(engine) as session:\n",
    "    statement = select(Hero)\n",
    "    results = session.exec(statement)\n",
    "\n",
    "    print(type(results))\n",
    "    for hero in results:\n",
    "        print(type(hero))\n",
    "        print(hero)"
   ]
  },
  {
   "cell_type": "markdown",
   "metadata": {},
   "source": [
    "## 查询 list\n"
   ]
  },
  {
   "cell_type": "code",
   "execution_count": 11,
   "metadata": {},
   "outputs": [
    {
     "name": "stdout",
     "output_type": "stream",
     "text": [
      "<class 'list'>\n",
      "[Hero(name='Deadpond', secret_name='Dive Wilson', id=1, age=None), Hero(name='Spider-Boy', secret_name='Pedro Parqueador', id=2, age=None), Hero(name='Rusty-Man', secret_name='Tommy Sharp', id=3, age=48)]\n"
     ]
    }
   ],
   "source": [
    "with Session(engine) as session:\n",
    "    statement = select(Hero)\n",
    "    results = session.exec(statement)\n",
    "    heroes = results.all()\n",
    "\n",
    "    print(type(heroes))\n",
    "    print(heroes)"
   ]
  },
  {
   "cell_type": "markdown",
   "metadata": {},
   "source": [
    "## 查询一条\n"
   ]
  },
  {
   "cell_type": "code",
   "execution_count": 36,
   "metadata": {},
   "outputs": [
    {
     "name": "stdout",
     "output_type": "stream",
     "text": [
      "name='Spider-Boy' secret_name='Pedro Parqueador' id=2 age=None\n"
     ]
    }
   ],
   "source": [
    "from sqlmodel import Session, select\n",
    "\n",
    "with Session(engine) as session:\n",
    "    statement = select(Hero).where(Hero.name == \"Spider-Boy\")\n",
    "    hero = session.exec(statement).first()\n",
    "    print(hero)"
   ]
  },
  {
   "cell_type": "markdown",
   "metadata": {},
   "source": [
    "### where 条件的本质\n",
    "\n",
    "Model.field 是一个 sqlalchemy 表达式对象\n"
   ]
  },
  {
   "cell_type": "code",
   "execution_count": 23,
   "metadata": {},
   "outputs": [
    {
     "data": {
      "text/plain": [
       "<sqlalchemy.sql.elements.BinaryExpression object at 0x0000014B781588E0>"
      ]
     },
     "execution_count": 23,
     "metadata": {},
     "output_type": "execute_result"
    }
   ],
   "source": [
    "Hero.name == \"Spider-Boy\""
   ]
  },
  {
   "cell_type": "markdown",
   "metadata": {},
   "source": [
    "### 主键查询\n",
    "\n",
    "使用 session.get()就代表根据表的主键查询\n"
   ]
  },
  {
   "cell_type": "code",
   "execution_count": 33,
   "metadata": {},
   "outputs": [
    {
     "name": "stdout",
     "output_type": "stream",
     "text": [
      "Hero: name='Deadpond' secret_name='Dive Wilson' id=1 age=None\n"
     ]
    }
   ],
   "source": [
    "with Session(engine) as session:\n",
    "    results = session.get(Hero, 1)\n",
    "    print(\"Hero:\", results)"
   ]
  },
  {
   "cell_type": "code",
   "execution_count": 35,
   "metadata": {},
   "outputs": [
    {
     "name": "stdout",
     "output_type": "stream",
     "text": [
      "Hero: None\n"
     ]
    }
   ],
   "source": [
    "# 如果主键不存在 返回None\n",
    "with Session(engine) as session:\n",
    "    results = session.get(Hero, 4)\n",
    "    print(\"Hero:\", results)"
   ]
  },
  {
   "cell_type": "markdown",
   "metadata": {},
   "source": [
    "### 查询结果空-返回 None\n",
    "\n",
    "使用 first()\n"
   ]
  },
  {
   "cell_type": "code",
   "execution_count": 27,
   "metadata": {},
   "outputs": [
    {
     "name": "stdout",
     "output_type": "stream",
     "text": [
      "Hero: None\n"
     ]
    }
   ],
   "source": [
    "with Session(engine) as session:\n",
    "    statement = select(Hero).where(Hero.age < 25)\n",
    "    results = session.exec(statement)\n",
    "    hero = results.first()\n",
    "    print(\"Hero:\", hero)"
   ]
  },
  {
   "cell_type": "markdown",
   "metadata": {},
   "source": [
    "### 查询结果为空-报错\n",
    "\n",
    "使用 one()\n"
   ]
  },
  {
   "cell_type": "code",
   "execution_count": 30,
   "metadata": {},
   "outputs": [
    {
     "name": "stdout",
     "output_type": "stream",
     "text": [
      "No row was found when one was required\n",
      "<class 'sqlalchemy.exc.NoResultFound'>\n"
     ]
    }
   ],
   "source": [
    "try:\n",
    "    with Session(engine) as session:\n",
    "        statement = select(Hero).where(Hero.age < 25)\n",
    "        results = session.exec(statement)\n",
    "        hero = results.one()\n",
    "        print(\"Hero:\", hero)\n",
    "except Exception as e:\n",
    "    print(e)\n",
    "    print(type(e))"
   ]
  },
  {
   "cell_type": "markdown",
   "metadata": {},
   "source": [
    "## 范围查询\n"
   ]
  },
  {
   "cell_type": "code",
   "execution_count": 13,
   "metadata": {},
   "outputs": [
    {
     "name": "stdout",
     "output_type": "stream",
     "text": [
      "name='Rusty-Man' secret_name='Tommy Sharp' id=3 age=48\n"
     ]
    }
   ],
   "source": [
    "with Session(engine) as session:\n",
    "    statement = select(Hero).where(Hero.age > 35)\n",
    "    results = session.exec(statement)\n",
    "    for hero in results:\n",
    "        print(hero)"
   ]
  },
  {
   "cell_type": "markdown",
   "metadata": {},
   "source": [
    "## 多个查询条件\n"
   ]
  },
  {
   "cell_type": "code",
   "execution_count": 19,
   "metadata": {},
   "outputs": [
    {
     "name": "stdout",
     "output_type": "stream",
     "text": [
      "name='Rusty-Man' secret_name='Tommy Sharp' id=3 age=48\n"
     ]
    }
   ],
   "source": [
    "with Session(engine) as session:\n",
    "    statement = select(Hero).where(Hero.age >= 35).where(Hero.name == \"Rusty-Man\")\n",
    "    results = session.exec(statement)\n",
    "    for hero in results:\n",
    "        print(hero)"
   ]
  },
  {
   "cell_type": "markdown",
   "metadata": {},
   "source": [
    "## or 查询\n"
   ]
  },
  {
   "cell_type": "code",
   "execution_count": 22,
   "metadata": {},
   "outputs": [
    {
     "name": "stdout",
     "output_type": "stream",
     "text": [
      "name='Rusty-Man' secret_name='Tommy Sharp' id=3 age=48\n"
     ]
    }
   ],
   "source": [
    "from sqlmodel import or_\n",
    "\n",
    "with Session(engine) as session:\n",
    "    statement = select(Hero).where(or_(Hero.age <= 35, Hero.name == \"Rusty-Man\"))\n",
    "    results = session.exec(statement)\n",
    "    for hero in results:\n",
    "        print(hero)"
   ]
  },
  {
   "cell_type": "markdown",
   "metadata": {},
   "source": [
    "## limit 查询\n"
   ]
  },
  {
   "cell_type": "code",
   "execution_count": 37,
   "metadata": {},
   "outputs": [
    {
     "name": "stdout",
     "output_type": "stream",
     "text": [
      "name='Deadpond' secret_name='Dive Wilson' id=1 age=None\n",
      "name='Spider-Boy' secret_name='Pedro Parqueador' id=2 age=None\n"
     ]
    }
   ],
   "source": [
    "with Session(engine) as session:\n",
    "    statement = select(Hero).limit(2)\n",
    "    results = session.exec(statement)\n",
    "    for hero in results:\n",
    "        print(hero)"
   ]
  },
  {
   "cell_type": "code",
   "execution_count": 39,
   "metadata": {},
   "outputs": [
    {
     "name": "stdout",
     "output_type": "stream",
     "text": [
      "name='Rusty-Man' secret_name='Tommy Sharp' id=3 age=48\n"
     ]
    }
   ],
   "source": [
    "# 分页查询，每页2条，第2页\n",
    "with Session(engine) as session:\n",
    "    statement = select(Hero).limit(2).offset(2)\n",
    "    results = session.exec(statement)\n",
    "    for hero in results:\n",
    "        print(hero)"
   ]
  },
  {
   "cell_type": "markdown",
   "metadata": {},
   "source": [
    "## 排序\n"
   ]
  },
  {
   "cell_type": "code",
   "execution_count": 52,
   "metadata": {},
   "outputs": [
    {
     "name": "stdout",
     "output_type": "stream",
     "text": [
      "name='Rusty-Man' secret_name='Tommy Sharp' id=3 age=48\n",
      "name='Deadpond' secret_name='Dive Wilson' id=1 age=None\n",
      "name='Spider-Boy' secret_name='Pedro Parqueador' id=2 age=None\n"
     ]
    }
   ],
   "source": [
    "with Session(engine) as session:\n",
    "    statement = select(Hero).order_by(Hero.age.desc())\n",
    "    results = session.exec(statement)\n",
    "    for hero in results:\n",
    "        print(hero)"
   ]
  },
  {
   "cell_type": "markdown",
   "metadata": {},
   "source": [
    "## count\n"
   ]
  },
  {
   "cell_type": "code",
   "execution_count": 64,
   "metadata": {},
   "outputs": [
    {
     "name": "stdout",
     "output_type": "stream",
     "text": [
      "3\n"
     ]
    }
   ],
   "source": [
    "from sqlalchemy import func\n",
    "\n",
    "with Session(engine) as session:\n",
    "    statement = select(func.count(Hero.id))\n",
    "    result = session.exec(statement).first()\n",
    "    print(result)"
   ]
  },
  {
   "cell_type": "markdown",
   "metadata": {},
   "source": [
    "## group by\n"
   ]
  },
  {
   "cell_type": "code",
   "execution_count": 79,
   "metadata": {},
   "outputs": [
    {
     "name": "stdout",
     "output_type": "stream",
     "text": [
      "<class 'sqlalchemy.engine.row.Row'>\n",
      "(None, 2)\n",
      "<class 'sqlalchemy.engine.row.Row'>\n",
      "(48, 1)\n"
     ]
    }
   ],
   "source": [
    "with Session(engine) as session:\n",
    "    statement = select(Hero.age, func.count(Hero.name)).group_by(Hero.age)\n",
    "    results = session.exec(statement).all()\n",
    "    for hero in results:\n",
    "        print(type(hero))\n",
    "        print(hero)"
   ]
  },
  {
   "cell_type": "markdown",
   "metadata": {},
   "source": [
    "# 更新\n"
   ]
  },
  {
   "cell_type": "code",
   "execution_count": 81,
   "metadata": {},
   "outputs": [
    {
     "name": "stdout",
     "output_type": "stream",
     "text": [
      "name='Deadpond' secret_name='Dive Wilson' id=1 age=None\n",
      "id=1 name='Deadpond' secret_name='Dive Wilson' age=50\n"
     ]
    }
   ],
   "source": [
    "with Session(engine) as session:\n",
    "    hero = session.get(Hero, 1)\n",
    "    print(hero)\n",
    "    hero.age = 50\n",
    "    session.add(hero)\n",
    "    session.commit()\n",
    "\n",
    "    print(session.get(Hero, 1))"
   ]
  },
  {
   "cell_type": "markdown",
   "metadata": {},
   "source": [
    "# 删除\n"
   ]
  },
  {
   "cell_type": "code",
   "execution_count": 82,
   "metadata": {},
   "outputs": [
    {
     "name": "stdout",
     "output_type": "stream",
     "text": [
      "None\n"
     ]
    }
   ],
   "source": [
    "with Session(engine) as session:\n",
    "    session.delete(session.get(Hero, 1))\n",
    "    session.commit()\n",
    "    print(session.get(Hero, 1))"
   ]
  }
 ],
 "metadata": {
  "kernelspec": {
   "display_name": "Python 3",
   "language": "python",
   "name": "python3"
  },
  "language_info": {
   "codemirror_mode": {
    "name": "ipython",
    "version": 3
   },
   "file_extension": ".py",
   "mimetype": "text/x-python",
   "name": "python",
   "nbconvert_exporter": "python",
   "pygments_lexer": "ipython3",
   "version": "3.10.11"
  }
 },
 "nbformat": 4,
 "nbformat_minor": 2
}
