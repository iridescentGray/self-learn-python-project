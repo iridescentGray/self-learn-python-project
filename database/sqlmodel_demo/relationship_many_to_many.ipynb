{
 "cells": [
  {
   "cell_type": "markdown",
   "metadata": {},
   "source": [
    "# Relationship 多对多\n"
   ]
  },
  {
   "cell_type": "markdown",
   "metadata": {},
   "source": [
    "## 测试准备\n"
   ]
  },
  {
   "cell_type": "markdown",
   "metadata": {},
   "source": [
    "### 定义 model\n"
   ]
  },
  {
   "cell_type": "code",
   "execution_count": 1,
   "metadata": {},
   "outputs": [],
   "source": [
    "from typing import List, Optional\n",
    "\n",
    "from sqlmodel import Field, Relationship, Session, SQLModel, create_engine, select\n",
    "\n",
    "\n",
    "# 多对多表\n",
    "class HeroTeamLink(SQLModel, table=True):\n",
    "    team_id: Optional[int] = Field(\n",
    "        default=None, foreign_key=\"team.id\", primary_key=True\n",
    "    )\n",
    "    hero_id: Optional[int] = Field(\n",
    "        default=None, foreign_key=\"hero.id\", primary_key=True\n",
    "    )\n",
    "\n",
    "\n",
    "class Team(SQLModel, table=True):\n",
    "    id: Optional[int] = Field(default=None, primary_key=True)\n",
    "    name: str = Field(index=True)\n",
    "    headquarters: str\n",
    "\n",
    "    heroes: List[\"Hero\"] = Relationship(back_populates=\"teams\", link_model=HeroTeamLink)\n",
    "\n",
    "\n",
    "class Hero(SQLModel, table=True):\n",
    "    id: Optional[int] = Field(default=None, primary_key=True)\n",
    "    name: str = Field(index=True)\n",
    "    secret_name: str\n",
    "    age: Optional[int] = Field(default=None, index=True)\n",
    "\n",
    "    team_id: Optional[int] = Field(default=None, foreign_key=\"team.id\")\n",
    "    teams: List[Team] = Relationship(back_populates=\"heroes\", link_model=HeroTeamLink)"
   ]
  },
  {
   "cell_type": "markdown",
   "metadata": {},
   "source": [
    "### 创建表\n"
   ]
  },
  {
   "cell_type": "code",
   "execution_count": 2,
   "metadata": {},
   "outputs": [],
   "source": [
    "sqlite_file_name = \"relationship_many_to_many_database.db\"\n",
    "sqlite_url = f\"sqlite:///{sqlite_file_name}\"\n",
    "\n",
    "engine = create_engine(sqlite_url, echo=False)\n",
    "SQLModel.metadata.create_all(engine)"
   ]
  },
  {
   "cell_type": "markdown",
   "metadata": {},
   "source": [
    "## 创建 Relationship\n"
   ]
  },
  {
   "cell_type": "code",
   "execution_count": 3,
   "metadata": {},
   "outputs": [
    {
     "name": "stdout",
     "output_type": "stream",
     "text": [
      "Deadpond: name='Deadpond' secret_name='Dive Wilson' team_id=None age=None id=1\n",
      "Deadpond teams: [Team(name='Z-Force', headquarters=\"Sister Margaret's Bar\", id=1), Team(name='Preventers', headquarters='Sharp Tower', id=2)]\n",
      "Rusty-Man: name='Rusty-Man' secret_name='Tommy Sharp' team_id=None age=48 id=2\n",
      "Rusty-Man Teams: [Team(name='Preventers', headquarters='Sharp Tower', id=2)]\n",
      "Spider-Boy: name='Spider-Boy' secret_name='Pedro Parqueador' team_id=None age=None id=3\n",
      "Spider-Boy Teams: [Team(name='Preventers', headquarters='Sharp Tower', id=2)]\n"
     ]
    }
   ],
   "source": [
    "with Session(engine) as session:\n",
    "    team_preventers = Team(name=\"Preventers\", headquarters=\"Sharp Tower\")\n",
    "    team_z_force = Team(name=\"Z-Force\", headquarters=\"Sister Margaret's Bar\")\n",
    "\n",
    "    hero_deadpond = Hero(\n",
    "        name=\"Deadpond\",\n",
    "        secret_name=\"Dive Wilson\",\n",
    "        teams=[team_z_force, team_preventers],\n",
    "    )\n",
    "    hero_rusty_man = Hero(\n",
    "        name=\"Rusty-Man\",\n",
    "        secret_name=\"Tommy Sharp\",\n",
    "        age=48,\n",
    "        teams=[team_preventers],\n",
    "    )\n",
    "    hero_spider_boy = Hero(\n",
    "        name=\"Spider-Boy\", secret_name=\"Pedro Parqueador\", teams=[team_preventers]\n",
    "    )\n",
    "    session.add(hero_deadpond)\n",
    "    session.add(hero_rusty_man)\n",
    "    session.add(hero_spider_boy)\n",
    "    session.commit()\n",
    "\n",
    "    session.refresh(hero_deadpond)\n",
    "    session.refresh(hero_rusty_man)\n",
    "    session.refresh(hero_spider_boy)\n",
    "\n",
    "    print(\"Deadpond:\", hero_deadpond)\n",
    "    print(\"Deadpond teams:\", hero_deadpond.teams)\n",
    "    print(\"Rusty-Man:\", hero_rusty_man)\n",
    "    print(\"Rusty-Man Teams:\", hero_rusty_man.teams)\n",
    "    print(\"Spider-Boy:\", hero_spider_boy)\n",
    "    print(\"Spider-Boy Teams:\", hero_spider_boy.teams)"
   ]
  },
  {
   "cell_type": "markdown",
   "metadata": {},
   "source": [
    "## Update and Remove"
   ]
  },
  {
   "cell_type": "code",
   "execution_count": 4,
   "metadata": {},
   "outputs": [
    {
     "name": "stdout",
     "output_type": "stream",
     "text": [
      "Spider-Boy's Teams: [Team(name='Preventers', headquarters='Sharp Tower', id=2), Team(name='Z-Force', headquarters=\"Sister Margaret's Bar\", id=1)]\n",
      "Z-Force heroes: [Hero(name='Deadpond', secret_name='Dive Wilson', team_id=None, age=None, id=1), Hero(name='Spider-Boy', secret_name='Pedro Parqueador', team_id=None, id=3, age=None)]\n",
      "Spider-Boy's teams: [Team(name='Preventers', headquarters='Sharp Tower', id=2)]\n",
      "Z-Force's heroes: [Hero(name='Deadpond', secret_name='Dive Wilson', team_id=None, age=None, id=1)]\n"
     ]
    }
   ],
   "source": [
    "with Session(engine) as session:\n",
    "    hero_spider_boy = session.exec(select(Hero).where(Hero.name == \"Spider-Boy\")).one()\n",
    "    team_z_force = session.exec(select(Team).where(Team.name == \"Z-Force\")).one()\n",
    "    team_z_force.heroes.append(hero_spider_boy)\n",
    "    session.add(team_z_force)\n",
    "    session.commit()\n",
    "\n",
    "    print(\"Spider-Boy's Teams:\", hero_spider_boy.teams)\n",
    "    print(\"Z-Force heroes:\", team_z_force.heroes)\n",
    "\n",
    "    hero_spider_boy.teams.remove(team_z_force)\n",
    "    session.add(team_z_force)\n",
    "    session.commit()\n",
    "    print(\"Spider-Boy's teams:\", hero_spider_boy.teams)\n",
    "    print(\"Z-Force's heroes:\", team_z_force.heroes)\n"
   ]
  }
 ],
 "metadata": {
  "kernelspec": {
   "display_name": "Python 3",
   "language": "python",
   "name": "python3"
  },
  "language_info": {
   "codemirror_mode": {
    "name": "ipython",
    "version": 3
   },
   "file_extension": ".py",
   "mimetype": "text/x-python",
   "name": "python",
   "nbconvert_exporter": "python",
   "pygments_lexer": "ipython3",
   "version": "3.10.11"
  }
 },
 "nbformat": 4,
 "nbformat_minor": 2
}
