{
 "cells": [
  {
   "cell_type": "code",
   "execution_count": null,
   "metadata": {},
   "outputs": [],
   "source": [
    "user_name = \"\"\n",
    "email = \"\"\n",
    "password = \"\""
   ]
  },
  {
   "cell_type": "code",
   "execution_count": null,
   "metadata": {},
   "outputs": [],
   "source": [
    "import os\n",
    "\n",
    "from twikit import Client\n",
    "\n",
    "client = Client()\n",
    "\n",
    "\n",
    "async def main():\n",
    "    if os.path.exists(\"cookies.json\"):\n",
    "        client.load_cookies(\"cookies.json\")\n",
    "    else:\n",
    "        await client.login(auth_info_1=user_name, auth_info_2=email, password=password)\n",
    "        client.save_cookies(\"cookies.json\")\n",
    "    client.load_cookies(\"cookies.json\")\n",
    "\n",
    "    tweets = await client.get_user_tweets(\"44196397\", \"Tweets\", count=5)\n",
    "    print(len(tweets))\n",
    "    for tweet in tweets:\n",
    "        print(\"---------------------------\")\n",
    "        print(tweet.id)\n",
    "        print(tweet.text)\n",
    "        print(tweet.media)\n",
    "        print(\"\\n\")\n",
    "\n",
    "await main()"
   ]
  }
 ],
 "metadata": {
  "kernelspec": {
   "display_name": ".venv",
   "language": "python",
   "name": "python3"
  },
  "language_info": {
   "codemirror_mode": {
    "name": "ipython",
    "version": 3
   },
   "file_extension": ".py",
   "mimetype": "text/x-python",
   "name": "python",
   "nbconvert_exporter": "python",
   "pygments_lexer": "ipython3",
   "version": "3.12.5"
  }
 },
 "nbformat": 4,
 "nbformat_minor": 2
}
