{
 "cells": [
  {
   "cell_type": "code",
   "execution_count": null,
   "metadata": {},
   "outputs": [],
   "source": [
    "from twikit import Client\n",
    "\n",
    "USERNAME = \"\"\n",
    "EMAIL = \"\"\n",
    "PASSWORD = \"\"\n",
    "\n",
    "# Initialize client\n",
    "client = Client(\"en-US\")\n",
    "\n",
    "\n",
    "async def main():\n",
    "    await client.login(auth_info_1=USERNAME, auth_info_2=EMAIL, password=PASSWORD)\n",
    "    user=await client.get_user_by_screen_name(\"1\")\n",
    "    print(user)\n",
    "    tweets = await client.get_user_tweets(\"8990989579\", \"Tweets\")\n",
    "\n",
    "    for tweet in tweets:\n",
    "        print(\"---------------------------\")\n",
    "        print(tweet.text)\n",
    "        print(tweet.media)\n",
    "\n",
    "await main()"
   ]
  }
 ],
 "metadata": {
  "kernelspec": {
   "display_name": ".venv",
   "language": "python",
   "name": "python3"
  },
  "language_info": {
   "codemirror_mode": {
    "name": "ipython",
    "version": 3
   },
   "file_extension": ".py",
   "mimetype": "text/x-python",
   "name": "python",
   "nbconvert_exporter": "python",
   "pygments_lexer": "ipython3",
   "version": "3.12.5"
  }
 },
 "nbformat": 4,
 "nbformat_minor": 2
}
