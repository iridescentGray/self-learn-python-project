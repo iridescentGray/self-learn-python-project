{
 "cells": [
  {
   "cell_type": "code",
   "execution_count": null,
   "metadata": {},
   "outputs": [],
   "source": [
    "user_name = \"\"\n",
    "password = \"\"\n",
    "email = \"\"\n",
    "email_password = \"123456\""
   ]
  },
  {
   "cell_type": "code",
   "execution_count": null,
   "metadata": {},
   "outputs": [],
   "source": [
    "from twscrape import API, gather\n",
    "\n",
    "async def main():\n",
    "    api = API() \n",
    "\n",
    "    # ADD ACCOUNTS (for CLI usage see BELOW)\n",
    "    await api.pool.add_account(user_name, password, email, email_password)\n",
    "    # get user by login\n",
    "    user_login = \"elonmusk\"\n",
    "    result =await api.user_by_login(user_login)  # User\n",
    "    tweets = await gather(api.user_tweets(result.id, limit=10))  # list[Tweet]\n",
    "    for tweet in tweets:\n",
    "        print(\"---------------------------\")\n",
    "        print(tweet.id)\n",
    "        print(tweet.media)\n",
    "        print(tweet)\n",
    "        print(\"\\n\")\n",
    "\n",
    "await main()"
   ]
  }
 ],
 "metadata": {
  "kernelspec": {
   "display_name": ".venv",
   "language": "python",
   "name": "python3"
  },
  "language_info": {
   "codemirror_mode": {
    "name": "ipython",
    "version": 3
   },
   "file_extension": ".py",
   "mimetype": "text/x-python",
   "name": "python",
   "nbconvert_exporter": "python",
   "pygments_lexer": "ipython3",
   "version": "3.12.5"
  }
 },
 "nbformat": 4,
 "nbformat_minor": 2
}
