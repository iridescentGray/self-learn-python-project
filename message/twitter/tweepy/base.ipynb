{
 "cells": [
  {
   "cell_type": "code",
   "execution_count": 18,
   "metadata": {},
   "outputs": [],
   "source": [
    "import tweepy\n",
    "from message.tweepy.tweepy_config import (\n",
    "    access_token_key,\n",
    "    access_token_ssecret,\n",
    "    api_consumer_key,\n",
    "    api_secret_key,\n",
    "    bearer_token\n",
    ")\n",
    "\n",
    "\n",
    "# auth = tweepy.OAuth1UserHandler(\n",
    "#     api_consumer_key,\n",
    "#     api_secret_key,\n",
    "#     access_token=access_token_key,\n",
    "#     access_token_secret=access_token_ssecret,\n",
    "# )\n",
    "# api = tweepy.API(auth)\n",
    "\n",
    "\n",
    "client = tweepy.Client(bearer_token)"
   ]
  },
  {
   "cell_type": "code",
   "execution_count": null,
   "metadata": {},
   "outputs": [],
   "source": [
    "user = client.get_user(username=\"elonmusk\")\n",
    "user"
   ]
  },
  {
   "cell_type": "code",
   "execution_count": null,
   "metadata": {},
   "outputs": [],
   "source": [
    "response = client.get_users_tweets(\"uid\")\n",
    "\n",
    "# By default, only the ID and text fields of each Tweet will be returned\n",
    "for tweet in response.data:\n",
    "    print(tweet.id)\n",
    "    print(tweet.text)"
   ]
  }
 ],
 "metadata": {
  "kernelspec": {
   "display_name": ".venv",
   "language": "python",
   "name": "python3"
  },
  "language_info": {
   "codemirror_mode": {
    "name": "ipython",
    "version": 3
   },
   "file_extension": ".py",
   "mimetype": "text/x-python",
   "name": "python",
   "nbconvert_exporter": "python",
   "pygments_lexer": "ipython3",
   "version": "3.12.5"
  }
 },
 "nbformat": 4,
 "nbformat_minor": 2
}
