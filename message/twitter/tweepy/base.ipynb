{
 "cells": [
  {
   "cell_type": "code",
   "execution_count": null,
   "metadata": {},
   "outputs": [],
   "source": [
    "api_consumer_key = \"eUuc8xuH7jLxPsJnu7ImXrwIQ\"\n",
    "api_secret_key = \"c1Kz9fMGlPOa66bYP7QlONN4VqWEWN4M6nL8EA8Z2RRCOQDf4s\"\n",
    "access_token_key = \"899098957946671104-lFohKxPYErDk2A1e2r6LayQidtyuIYF\"\n",
    "access_token_ssecret = \"qWOa9syMhP5c2qp4dRzFBqAPH7OTxV94QxsL5SO4fheCP\"\n",
    "bearer_token = \"AAAAAAAAAAAAAAAAAAAAAErDyQEAAAAALxmiNzSFvarkB07i18c1LOob5GU%3DrO5OnD6B8GZVSoVSuh0DvsHixXo8TIbK48LRvhoaZVOQOzSncA\""
   ]
  },
  {
   "cell_type": "code",
   "execution_count": null,
   "metadata": {},
   "outputs": [
    {
     "ename": "ModuleNotFoundError",
     "evalue": "No module named 'message'",
     "output_type": "error",
     "traceback": [
      "\u001b[1;31m---------------------------------------------------------------------------\u001b[0m",
      "\u001b[1;31mModuleNotFoundError\u001b[0m                       Traceback (most recent call last)",
      "Cell \u001b[1;32mIn[5], line 2\u001b[0m\n\u001b[0;32m      1\u001b[0m \u001b[38;5;28;01mimport\u001b[39;00m \u001b[38;5;21;01mtweepy\u001b[39;00m\n\u001b[1;32m----> 2\u001b[0m \u001b[38;5;28;01mfrom\u001b[39;00m \u001b[38;5;21;01mmessage\u001b[39;00m\u001b[38;5;21;01m.\u001b[39;00m\u001b[38;5;21;01mtwitter\u001b[39;00m\u001b[38;5;21;01m.\u001b[39;00m\u001b[38;5;21;01mtweepy\u001b[39;00m\u001b[38;5;21;01m.\u001b[39;00m\u001b[38;5;21;01mtweepy_config\u001b[39;00m \u001b[38;5;28;01mimport\u001b[39;00m (\n\u001b[0;32m      3\u001b[0m     access_token_key,\n\u001b[0;32m      4\u001b[0m     access_token_ssecret,\n\u001b[0;32m      5\u001b[0m     api_consumer_key,\n\u001b[0;32m      6\u001b[0m     api_secret_key,\n\u001b[0;32m      7\u001b[0m     bearer_token\n\u001b[0;32m      8\u001b[0m )\n\u001b[0;32m     11\u001b[0m \u001b[38;5;66;03m# auth = tweepy.OAuth1UserHandler(\u001b[39;00m\n\u001b[0;32m     12\u001b[0m \u001b[38;5;66;03m#     api_consumer_key,\u001b[39;00m\n\u001b[0;32m     13\u001b[0m \u001b[38;5;66;03m#     api_secret_key,\u001b[39;00m\n\u001b[1;32m   (...)\u001b[0m\n\u001b[0;32m     16\u001b[0m \u001b[38;5;66;03m# )\u001b[39;00m\n\u001b[0;32m     17\u001b[0m \u001b[38;5;66;03m# api = tweepy.API(auth)\u001b[39;00m\n\u001b[0;32m     20\u001b[0m client \u001b[38;5;241m=\u001b[39m tweepy\u001b[38;5;241m.\u001b[39mClient(bearer_token)\n",
      "\u001b[1;31mModuleNotFoundError\u001b[0m: No module named 'message'"
     ]
    }
   ],
   "source": [
    "import tweepy\n",
    "\n",
    "# auth = tweepy.OAuth1UserHandler(\n",
    "#     api_consumer_key,\n",
    "#     api_secret_key,\n",
    "#     access_token=access_token_key,\n",
    "#     access_token_secret=access_token_ssecret,\n",
    "# )\n",
    "# api = tweepy.API(auth)\n",
    "\n",
    "\n",
    "client = tweepy.Client(bearer_token)"
   ]
  },
  {
   "cell_type": "code",
   "execution_count": null,
   "metadata": {},
   "outputs": [],
   "source": [
    "user = client.get_user(username=\"elonmusk\")\n",
    "user"
   ]
  },
  {
   "cell_type": "code",
   "execution_count": null,
   "metadata": {},
   "outputs": [],
   "source": [
    "response = client.get_users_tweets(\"uid\")\n",
    "\n",
    "# By default, only the ID and text fields of each Tweet will be returned\n",
    "for tweet in response.data:\n",
    "    print(tweet.id)\n",
    "    print(tweet.text)"
   ]
  }
 ],
 "metadata": {
  "kernelspec": {
   "display_name": ".venv",
   "language": "python",
   "name": "python3"
  },
  "language_info": {
   "codemirror_mode": {
    "name": "ipython",
    "version": 3
   },
   "file_extension": ".py",
   "mimetype": "text/x-python",
   "name": "python",
   "nbconvert_exporter": "python",
   "pygments_lexer": "ipython3",
   "version": "3.12.5"
  }
 },
 "nbformat": 4,
 "nbformat_minor": 2
}
