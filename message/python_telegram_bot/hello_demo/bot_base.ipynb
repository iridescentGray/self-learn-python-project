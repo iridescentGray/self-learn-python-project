{
 "cells": [
  {
   "cell_type": "code",
   "execution_count": 1,
   "metadata": {},
   "outputs": [],
   "source": [
    "import telegram\n",
    "from tg_config import token, chat_id, uid"
   ]
  },
  {
   "cell_type": "markdown",
   "metadata": {},
   "source": [
    "# get bot name\n"
   ]
  },
  {
   "cell_type": "code",
   "execution_count": null,
   "metadata": {},
   "outputs": [],
   "source": [
    "async def get_bot_name():\n",
    "    bot = telegram.Bot(token)\n",
    "    async with bot:\n",
    "        print(await bot.get_me())\n",
    "\n",
    "\n",
    "await get_bot_name()"
   ]
  },
  {
   "cell_type": "markdown",
   "metadata": {},
   "source": [
    "# send something\n"
   ]
  },
  {
   "cell_type": "markdown",
   "metadata": {},
   "source": [
    "## send message\n"
   ]
  },
  {
   "cell_type": "code",
   "execution_count": 2,
   "metadata": {},
   "outputs": [],
   "source": [
    "async def send_message():\n",
    "    bot = telegram.Bot(token)\n",
    "    async with bot:\n",
    "        await bot.send_message(text=\"here's Johnny!\", chat_id=chat_id)\n",
    "\n",
    "\n",
    "await send_message()"
   ]
  },
  {
   "cell_type": "markdown",
   "metadata": {},
   "source": [
    "## send image\n"
   ]
  },
  {
   "cell_type": "code",
   "execution_count": null,
   "metadata": {},
   "outputs": [],
   "source": [
    "async def send_image():\n",
    "    bot = telegram.Bot(token)\n",
    "    async with bot:\n",
    "        await bot.send_photo(photo=\"./1.png\", chat_id=chat_id)\n",
    "\n",
    "await send_image()"
   ]
  },
  {
   "cell_type": "code",
   "execution_count": null,
   "metadata": {},
   "outputs": [],
   "source": [
    "async def send_image():\n",
    "    bot = telegram.Bot(token)\n",
    "    async with bot:\n",
    "        with open(\"1.png\", \"rb\") as f:\n",
    "            await bot.send_photo(photo=f.read(), chat_id=chat_id)\n",
    "\n",
    "await send_image()"
   ]
  },
  {
   "cell_type": "markdown",
   "metadata": {},
   "source": [
    "## send file\n"
   ]
  },
  {
   "cell_type": "code",
   "execution_count": 11,
   "metadata": {},
   "outputs": [],
   "source": [
    "async def send_file():\n",
    "    bot = telegram.Bot(token)\n",
    "    async with bot:\n",
    "        await bot.send_document(document=\"1.html\", chat_id=chat_id)\n",
    "\n",
    "\n",
    "await send_file()"
   ]
  },
  {
   "cell_type": "markdown",
   "metadata": {},
   "source": [
    "# group\n"
   ]
  },
  {
   "cell_type": "markdown",
   "metadata": {},
   "source": [
    "## get chat member count\n"
   ]
  },
  {
   "cell_type": "code",
   "execution_count": null,
   "metadata": {},
   "outputs": [],
   "source": [
    "async def get_chat_member_count():\n",
    "    bot = telegram.Bot(token)\n",
    "    async with bot:\n",
    "        count = await bot.get_chat_member_count(chat_id=chat_id)\n",
    "        print(count)\n",
    "\n",
    "\n",
    "await get_chat_member_count()"
   ]
  },
  {
   "cell_type": "markdown",
   "metadata": {},
   "source": [
    "## get_chat_member\n"
   ]
  },
  {
   "cell_type": "code",
   "execution_count": null,
   "metadata": {},
   "outputs": [],
   "source": [
    "async def get_chat_member(user_id):\n",
    "    bot = telegram.Bot(token)\n",
    "\n",
    "    async with bot:\n",
    "        chat_member = await bot.get_chat_member(chat_id=chat_id, user_id=user_id)\n",
    "        return chat_member"
   ]
  },
  {
   "cell_type": "code",
   "execution_count": null,
   "metadata": {},
   "outputs": [],
   "source": [
    "await get_chat_member(uid)"
   ]
  },
  {
   "cell_type": "code",
   "execution_count": null,
   "metadata": {},
   "outputs": [],
   "source": [
    "# BadRequest: Member not found\n",
    "await get_chat_member(123132)"
   ]
  }
 ],
 "metadata": {
  "kernelspec": {
   "display_name": ".venv",
   "language": "python",
   "name": "python3"
  },
  "language_info": {
   "codemirror_mode": {
    "name": "ipython",
    "version": 3
   },
   "file_extension": ".py",
   "mimetype": "text/x-python",
   "name": "python",
   "nbconvert_exporter": "python",
   "pygments_lexer": "ipython3",
   "version": "3.12.5"
  }
 },
 "nbformat": 4,
 "nbformat_minor": 2
}
