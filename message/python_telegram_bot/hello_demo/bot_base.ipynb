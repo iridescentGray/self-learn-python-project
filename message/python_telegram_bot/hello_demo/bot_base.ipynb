{
 "cells": [
  {
   "cell_type": "code",
   "execution_count": null,
   "metadata": {},
   "outputs": [],
   "source": [
    "import asyncio\n",
    "import telegram"
   ]
  },
  {
   "cell_type": "code",
   "execution_count": null,
   "metadata": {},
   "outputs": [],
   "source": [
    "TOKEN=\"\"\n",
    "CHAT_ID="
   ]
  },
  {
   "cell_type": "markdown",
   "metadata": {},
   "source": [
    "# get bot name"
   ]
  },
  {
   "cell_type": "code",
   "execution_count": null,
   "metadata": {},
   "outputs": [],
   "source": [
    "async def get_bot_name():\n",
    "    bot = telegram.Bot(TOKEN)\n",
    "    async with bot:\n",
    "        print(await bot.get_me())\n",
    "await get_bot_name()"
   ]
  },
  {
   "cell_type": "markdown",
   "metadata": {},
   "source": [
    "# send message"
   ]
  },
  {
   "cell_type": "code",
   "execution_count": null,
   "metadata": {},
   "outputs": [],
   "source": [
    "async def send_message():\n",
    "    bot = telegram.Bot(TOKEN)\n",
    "    async with bot:\n",
    "        await bot.send_message(text=\"here's Johnny!\", chat_id=CHAT_ID)\n",
    "\n",
    "await send_message()"
   ]
  }
 ],
 "metadata": {
  "kernelspec": {
   "display_name": "Python 3",
   "language": "python",
   "name": "python3"
  },
  "language_info": {
   "codemirror_mode": {
    "name": "ipython",
    "version": 3
   },
   "file_extension": ".py",
   "mimetype": "text/x-python",
   "name": "python",
   "nbconvert_exporter": "python",
   "pygments_lexer": "ipython3",
   "version": "3.10.11"
  }
 },
 "nbformat": 4,
 "nbformat_minor": 2
}
