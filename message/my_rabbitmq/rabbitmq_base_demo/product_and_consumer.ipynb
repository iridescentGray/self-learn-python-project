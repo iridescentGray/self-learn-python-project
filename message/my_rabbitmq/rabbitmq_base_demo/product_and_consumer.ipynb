{
 "cells": [
  {
   "cell_type": "markdown",
   "metadata": {},
   "source": [
    "# product_and_consumer\n",
    "执行一次发送和接收\n"
   ]
  },
  {
   "cell_type": "markdown",
   "metadata": {},
   "source": [
    "# 创建连接\n"
   ]
  },
  {
   "cell_type": "code",
   "execution_count": 1,
   "metadata": {},
   "outputs": [],
   "source": [
    "import pika"
   ]
  },
  {
   "cell_type": "code",
   "execution_count": 2,
   "metadata": {},
   "outputs": [],
   "source": [
    "connection_params = pika.ConnectionParameters(\n",
    "    host=\"127.0.0.1\",\n",
    "    port=5672,\n",
    "    virtual_host=\"/\",\n",
    "    credentials=pika.PlainCredentials(\"admin\", \"123456\"),\n",
    ")\n",
    "\n",
    "rabbit_proudct_connection = pika.BlockingConnection(connection_params)"
   ]
  },
  {
   "cell_type": "markdown",
   "metadata": {},
   "source": [
    "# 声明队列\n"
   ]
  },
  {
   "cell_type": "markdown",
   "metadata": {},
   "source": [
    "## queue_declare\n",
    "\n",
    "参数\n",
    "\n",
    "1. queue：很简单，队列的名字。\n",
    "2. passive：默认 False，声明队列时，队列不存在会自动创建；指定为 True，那么队列不存在时会报错。\n",
    "3. durable：持久化，注意这里的持久化指的是队列的持久化\n",
    "4. exclusive：个人觉得该参数实现的功能有点奇怪，不明白它的意义何在，这里不做介绍。\n",
    "5. auto_delete：当队列中的消息都被消费完毕、并且最后一个消费者断开连接时，是否自动删除该队列\n",
    "6. arguments：一个字典，用于接收一些额外的参数，主要针对于更高级特性\n"
   ]
  },
  {
   "cell_type": "code",
   "execution_count": 3,
   "metadata": {},
   "outputs": [],
   "source": [
    "QUEUE_FOR_TEST_NAME = \"boys\""
   ]
  },
  {
   "cell_type": "code",
   "execution_count": 4,
   "metadata": {},
   "outputs": [
    {
     "data": {
      "text/plain": [
       "<METHOD(['channel_number=1', 'frame_type=1', \"method=<Queue.DeclareOk(['consumer_count=0', 'message_count=0', 'queue=boys'])>\"])>"
      ]
     },
     "execution_count": 4,
     "metadata": {},
     "output_type": "execute_result"
    }
   ],
   "source": [
    "proudct_channel = rabbit_proudct_connection.channel()\n",
    "proudct_channel.queue_declare(queue=QUEUE_FOR_TEST_NAME, durable=True)"
   ]
  },
  {
   "cell_type": "markdown",
   "metadata": {},
   "source": [
    "# 发送消息\n"
   ]
  },
  {
   "cell_type": "code",
   "execution_count": 5,
   "metadata": {},
   "outputs": [],
   "source": [
    "# 不指定，就会发送到默认exchange\n",
    "# delivery_mode=2 让消息持久化，1 则是非持久化\n",
    "proudct_channel.basic_publish(\n",
    "    exchange=\"\", routing_key=QUEUE_FOR_TEST_NAME, body=b\"my name is kagura_mea\",properties=pika.BasicProperties(delivery_mode=2)\n",
    ")\n",
    "\n",
    "proudct_channel.close()\n",
    "rabbit_proudct_connection.close()"
   ]
  },
  {
   "cell_type": "markdown",
   "metadata": {},
   "source": [
    "# 消费消息\n"
   ]
  },
  {
   "cell_type": "markdown",
   "metadata": {},
   "source": [
    "## 创建消费者连接"
   ]
  },
  {
   "cell_type": "code",
   "execution_count": 6,
   "metadata": {},
   "outputs": [
    {
     "data": {
      "text/plain": [
       "<METHOD(['channel_number=1', 'frame_type=1', \"method=<Queue.DeclareOk(['consumer_count=0', 'message_count=1', 'queue=boys'])>\"])>"
      ]
     },
     "execution_count": 6,
     "metadata": {},
     "output_type": "execute_result"
    }
   ],
   "source": [
    "connection_params = pika.ConnectionParameters(\n",
    "    host=\"127.0.0.1\",\n",
    "    port=5672,\n",
    "    virtual_host=\"/\",\n",
    "    credentials=pika.PlainCredentials(\"admin\", \"123456\"))\n",
    "\n",
    "rabbit_consumer_connection = pika.BlockingConnection(connection_params)\n",
    "consumer_channel = rabbit_consumer_connection.channel()\n",
    "# must\n",
    "consumer_channel.queue_declare(queue=QUEUE_FOR_TEST_NAME, durable=True)\n"
   ]
  },
  {
   "cell_type": "markdown",
   "metadata": {},
   "source": [
    "## 定义消息接收回调参数\n"
   ]
  },
  {
   "cell_type": "markdown",
   "metadata": {},
   "source": [
    "### 自动ACK"
   ]
  },
  {
   "cell_type": "code",
   "execution_count": 7,
   "metadata": {},
   "outputs": [],
   "source": [
    "from pprint import pprint\n",
    "\n",
    "\n",
    "def on_message_callback(ch, method, properties, body):\n",
    "    pprint({\"ch\": ch, \"method\": method, \"properties\": properties, \"body\": body})"
   ]
  },
  {
   "cell_type": "markdown",
   "metadata": {},
   "source": [
    "### 手动ACK"
   ]
  },
  {
   "cell_type": "code",
   "execution_count": 8,
   "metadata": {},
   "outputs": [],
   "source": [
    "# 手动Ack版本的回调函数\n",
    "def on_message_manual_ack_callback(ch, method, properties, body):\n",
    "    print(\"消息处理······\")\n",
    "    ch.basic_ack(delivery_tag=method.delivery_tag)"
   ]
  },
  {
   "cell_type": "markdown",
   "metadata": {},
   "source": [
    "## 阻塞消费消息\n",
    "basic_consume的参数\n",
    "1. 队列的名字\n",
    "2. on_message_callback 表示回调函数，消息发送给消费者后，会拆解成四个参数自动传递给回调函数，进行调用。\n",
    "3.  auto_ack 表示是否自动应答，收到消息后，是否应答已收到\n",
    "4. exclusive 表示是否独占该队列，默认为 False。如果消费者在监听时指定为 True，那么其它消费者就无法再监听该队列了，当然指定为 True 的前提是该队列目前还没有被其它消费者监听。\n",
    "5. consumer_tag 表示给消费者指定的标签，如果不指定会默认生成一个。\n",
    "6. arguments 表示指定的高级特性，一个字典，暂时先不讨论。\n"
   ]
  },
  {
   "cell_type": "code",
   "execution_count": 9,
   "metadata": {},
   "outputs": [
    {
     "name": "stdout",
     "output_type": "stream",
     "text": [
      "{'body': b'my name is kagura_mea',\n",
      " 'ch': <BlockingChannel impl=<Channel number=1 OPEN conn=<SelectConnection OPEN transport=<pika.adapters.utils.io_services_utils._AsyncPlaintextTransport object at 0x000002426DECE2C0> params=<ConnectionParameters host=127.0.0.1 port=5672 virtual_host=/ ssl=False>>>>,\n",
      " 'method': <Basic.Deliver(['consumer_tag=ctag1.42c0c7f967f1490eb398aa210f194670', 'delivery_tag=1', 'exchange=', 'redelivered=False', 'routing_key=boys'])>,\n",
      " 'properties': <BasicProperties(['delivery_mode=2'])>}\n"
     ]
    }
   ],
   "source": [
    "# 订阅消息\n",
    "consumer_channel.basic_consume(QUEUE_FOR_TEST_NAME, \n",
    "                      on_message_callback=on_message_callback,\n",
    "                      auto_ack=True)\n",
    "# 会阻塞一直监听队列、持续等待消息\n",
    "consumer_channel.start_consuming()"
   ]
  }
 ],
 "metadata": {
  "kernelspec": {
   "display_name": "Python 3",
   "language": "python",
   "name": "python3"
  },
  "language_info": {
   "codemirror_mode": {
    "name": "ipython",
    "version": 3
   },
   "file_extension": ".py",
   "mimetype": "text/x-python",
   "name": "python",
   "nbconvert_exporter": "python",
   "pygments_lexer": "ipython3",
   "version": "3.10.11"
  }
 },
 "nbformat": 4,
 "nbformat_minor": 2
}
