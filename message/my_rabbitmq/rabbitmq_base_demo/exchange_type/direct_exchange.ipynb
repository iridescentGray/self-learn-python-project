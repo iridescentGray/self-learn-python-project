{
 "cells": [
  {
   "cell_type": "markdown",
   "metadata": {},
   "source": [
    "# direct exchange\n",
    "\n",
    "直连exchange\n"
   ]
  },
  {
   "cell_type": "code",
   "execution_count": 1,
   "metadata": {},
   "outputs": [],
   "source": [
    "import pika\n",
    "import threading\n",
    "\n",
    "TEST_EXCHANGE_NAME = \"rb_test_direct_exchange\"\n",
    "connection_params = pika.ConnectionParameters(\n",
    "    host=\"127.0.0.1\",\n",
    "    port=5672,\n",
    "    virtual_host=\"/\",\n",
    "    credentials=pika.PlainCredentials(\"admin\", \"123456\"),\n",
    ")"
   ]
  },
  {
   "cell_type": "markdown",
   "metadata": {},
   "source": [
    "# 生产者\n"
   ]
  },
  {
   "cell_type": "code",
   "execution_count": 2,
   "metadata": {},
   "outputs": [],
   "source": [
    "rabbit_proudct_connection = pika.BlockingConnection(connection_params)\n",
    "proudct_channel = rabbit_proudct_connection.channel()\n",
    "proudct_channel.exchange_delete(TEST_EXCHANGE_NAME)\n",
    "proudct_channel.exchange_declare(TEST_EXCHANGE_NAME, \"direct\")\n",
    "\n",
    "# 声明队列，这里消费完了之后就直接删除\n",
    "proudct_channel.queue_declare(queue=\"queue_1\", auto_delete=True)\n",
    "proudct_channel.queue_declare(queue=\"queue_2\", auto_delete=True)\n",
    "proudct_channel.queue_declare(queue=\"queue_3\", auto_delete=True)\n",
    "\n",
    "proudct_channel.queue_bind(queue=\"queue_1\", exchange=TEST_EXCHANGE_NAME, routing_key=\"我是队列1\")\n",
    "proudct_channel.queue_bind(queue=\"queue_2\", exchange=TEST_EXCHANGE_NAME, routing_key=\"我是队列2\")\n",
    "proudct_channel.queue_bind(queue=\"queue_3\", exchange=TEST_EXCHANGE_NAME, routing_key=\"我是队列3\")\n",
    "\n",
    "# 发送消息，指定交换机、routing_key\n",
    "proudct_channel.basic_publish(exchange=TEST_EXCHANGE_NAME, routing_key=\"我是队列1\", body=b\"kagura_mea1\")\n",
    "\n",
    "proudct_channel.basic_publish(exchange=TEST_EXCHANGE_NAME, routing_key=\"我是队列2\", body=b\"kagura_mea2\")\n",
    "proudct_channel.basic_publish(exchange=TEST_EXCHANGE_NAME, routing_key=\"我是队列2\", body=b\"kagura_mea3\")\n",
    "\n",
    "proudct_channel.basic_publish(exchange=TEST_EXCHANGE_NAME, routing_key=\"我是队列3\", body=b\"kagura_mea4\")\n",
    "proudct_channel.basic_publish(exchange=TEST_EXCHANGE_NAME, routing_key=\"我是队列3\", body=b\"kagura_mea5\")\n",
    "proudct_channel.basic_publish(exchange=TEST_EXCHANGE_NAME, routing_key=\"我是队列3\", body=b\"kagura_mea6\")\n",
    "\n",
    "proudct_channel.close()\n",
    "rabbit_proudct_connection.close()"
   ]
  },
  {
   "cell_type": "markdown",
   "metadata": {},
   "source": [
    "# 消费者\n"
   ]
  },
  {
   "cell_type": "code",
   "execution_count": 3,
   "metadata": {},
   "outputs": [
    {
     "name": "stdout",
     "output_type": "stream",
     "text": [
      "kagura_mea1 channel id: 2097868762624\n",
      "kagura_mea2 channel id: 2097868757248\n",
      "kagura_mea3 channel id: 2097868757248\n",
      "kagura_mea4 channel id: 2097869385792\n",
      "kagura_mea5 channel id: 2097869385792\n",
      "kagura_mea6 channel id: 2097869385792\n"
     ]
    }
   ],
   "source": [
    "def on_message_callback(ch, method, properties, body):\n",
    "    print(body.decode(\"utf-8\"), f\"channel id: {id(ch)}\")\n",
    "    ch.basic_ack(delivery_tag=method.delivery_tag)\n",
    "\n",
    "\n",
    "def consume_message(queue_name: str, routing_key: str):\n",
    "    consumer_connection = pika.BlockingConnection(connection_params)\n",
    "    consumer_channel = consumer_connection.channel()\n",
    "    consumer_channel.exchange_declare(TEST_EXCHANGE_NAME, \"direct\")\n",
    "    consumer_channel.queue_declare(queue=queue_name, auto_delete=True)\n",
    "    consumer_channel.queue_bind(queue_name, TEST_EXCHANGE_NAME, routing_key)\n",
    "    consumer_channel.basic_consume(queue_name, on_message_callback=on_message_callback)\n",
    "    consumer_channel.start_consuming()\n",
    "\n",
    "\n",
    "t1 = threading.Thread(target=consume_message, args=(\"queue_1\", \"我是队列1\")).start()\n",
    "t2 = threading.Thread(target=consume_message, args=(\"queue_2\", \"我是队列2\")).start()\n",
    "t3 = threading.Thread(target=consume_message, args=(\"queue_3\", \"我是队列3\")).start()"
   ]
  }
 ],
 "metadata": {
  "kernelspec": {
   "display_name": "Python 3",
   "language": "python",
   "name": "python3"
  },
  "language_info": {
   "codemirror_mode": {
    "name": "ipython",
    "version": 3
   },
   "file_extension": ".py",
   "mimetype": "text/x-python",
   "name": "python",
   "nbconvert_exporter": "python",
   "pygments_lexer": "ipython3",
   "version": "3.10.11"
  }
 },
 "nbformat": 4,
 "nbformat_minor": 2
}
