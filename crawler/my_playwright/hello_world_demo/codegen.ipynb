{
 "cells": [
  {
   "cell_type": "markdown",
   "metadata": {},
   "source": [
    "# help doc\n",
    "\n",
    "https://playwright.dev/python/docs/codegen-intro\n"
   ]
  },
  {
   "cell_type": "code",
   "execution_count": 2,
   "metadata": {},
   "outputs": [
    {
     "name": "stdout",
     "output_type": "stream",
     "text": [
      "Usage: playwright codegen [options] [url]\n",
      "\n",
      "open page and generate code for user actions\n",
      "\n",
      "Options:\n",
      "  -o, --output <file name>             saves the generated script to a file\n",
      "  --target <language>                  language to generate, one of javascript,\n",
      "                                       playwright-test, python, python-async,\n",
      "                                       python-pytest, csharp, csharp-mstest,\n",
      "                                       csharp-nunit, java (default: \"python\")\n",
      "  --save-trace <filename>              record a trace for the session and save\n",
      "                                       it to a file\n",
      "  --test-id-attribute <attributeName>  use the specified attribute to generate\n",
      "                                       data test ID selectors\n",
      "  -b, --browser <browserType>          browser to use, one of cr, chromium, ff,\n",
      "                                       firefox, wk, webkit (default:\n",
      "                                       \"chromium\")\n",
      "  --block-service-workers              block service workers\n",
      "  --channel <channel>                  Chromium distribution channel, \"chrome\",\n",
      "                                       \"chrome-beta\", \"msedge-dev\", etc\n",
      "  --color-scheme <scheme>              emulate preferred color scheme, \"light\"\n",
      "                                       or \"dark\"\n",
      "  --device <deviceName>                emulate device, for example  \"iPhone 11\"\n",
      "  --geolocation <coordinates>          specify geolocation coordinates, for\n",
      "                                       example \"37.819722,-122.478611\"\n",
      "  --ignore-https-errors                ignore https errors\n",
      "  --load-storage <filename>            load context storage state from the\n",
      "                                       file, previously saved with\n",
      "                                       --save-storage\n",
      "  --lang <language>                    specify language / locale, for example\n",
      "                                       \"en-GB\"\n",
      "  --proxy-server <proxy>               specify proxy server, for example\n",
      "                                       \"http://myproxy:3128\" or\n",
      "                                       \"socks5://myproxy:8080\"\n",
      "  --proxy-bypass <bypass>              comma-separated domains to bypass proxy,\n",
      "                                       for example\n",
      "                                       \".com,chromium.org,.domain.com\"\n",
      "  --save-har <filename>                save HAR file with all network activity\n",
      "                                       at the end\n",
      "  --save-har-glob <glob pattern>       filter entries in the HAR by matching\n",
      "                                       url against this glob pattern\n",
      "  --save-storage <filename>            save context storage state at the end,\n",
      "                                       for later use with --load-storage\n",
      "  --timezone <time zone>               time zone to emulate, for example\n",
      "                                       \"Europe/Rome\"\n",
      "  --timeout <timeout>                  timeout for Playwright actions in\n",
      "                                       milliseconds, no timeout by default\n",
      "  --user-agent <ua string>             specify user agent string\n",
      "  --viewport-size <size>               specify browser viewport size in pixels,\n",
      "                                       for example \"1280, 720\"\n",
      "  -h, --help                           display help for command\n",
      "\n",
      "Examples:\n",
      "\n",
      "  $ codegen\n",
      "  $ codegen --target=python\n",
      "  $ codegen -b webkit https://example.com\n"
     ]
    }
   ],
   "source": [
    "!playwright codegen --help"
   ]
  },
  {
   "cell_type": "markdown",
   "metadata": {},
   "source": [
    "# run code gen"
   ]
  },
  {
   "cell_type": "markdown",
   "metadata": {},
   "source": [
    "## gen target websit\n",
    "\n",
    "playwright codegen {gen_target_url}\n"
   ]
  },
  {
   "cell_type": "code",
   "execution_count": 1,
   "metadata": {},
   "outputs": [],
   "source": [
    "!playwright codegen demo.playwright.dev/todomvc"
   ]
  },
  {
   "cell_type": "markdown",
   "metadata": {},
   "source": [
    "## gen target lanauage\n",
    "\n",
    "--target python-async\n"
   ]
  },
  {
   "cell_type": "code",
   "execution_count": 3,
   "metadata": {},
   "outputs": [],
   "source": [
    "!playwright codegen demo.playwright.dev/todomvc  --target python-async"
   ]
  }
 ],
 "metadata": {
  "kernelspec": {
   "display_name": "Python 3",
   "language": "python",
   "name": "python3"
  },
  "language_info": {
   "codemirror_mode": {
    "name": "ipython",
    "version": 3
   },
   "file_extension": ".py",
   "mimetype": "text/x-python",
   "name": "python",
   "nbconvert_exporter": "python",
   "pygments_lexer": "ipython3",
   "version": "3.10.11"
  }
 },
 "nbformat": 4,
 "nbformat_minor": 2
}
