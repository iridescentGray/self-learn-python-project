{
 "cells": [
  {
   "cell_type": "markdown",
   "metadata": {},
   "source": [
    "# Package\n",
    "\n",
    "You can use Playwright with Pyinstaller to create standalone executables.\n",
    "\n",
    "\n",
    "playwright-doc:\n",
    "https://playwright.dev/python/docs/library#pyinstaller"
   ]
  },
  {
   "cell_type": "code",
   "execution_count": null,
   "metadata": {},
   "outputs": [],
   "source": [
    "import platform\n",
    "\n",
    "\n",
    "current_os = platform.system()\n",
    "if current_os == \"Windows\":\n",
    "    !powershell \"$env:PLAYWRIGHT_BROWSERS_PATH='0'\" ; playwright install chromium ; pyinstaller -F ./main.py\n",
    "elif current_os == \"Darwin\":\n",
    "    !PLAYWRIGHT_BROWSERS_PATH=0 playwright install chromium && pyinstaller -F main.py"
   ]
  }
 ],
 "metadata": {
  "kernelspec": {
   "display_name": "Python 3",
   "language": "python",
   "name": "python3"
  },
  "language_info": {
   "codemirror_mode": {
    "name": "ipython",
    "version": 3
   },
   "file_extension": ".py",
   "mimetype": "text/x-python",
   "name": "python",
   "nbconvert_exporter": "python",
   "pygments_lexer": "ipython3",
   "version": "3.10.11"
  }
 },
 "nbformat": 4,
 "nbformat_minor": 2
}
