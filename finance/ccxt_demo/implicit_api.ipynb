{
 "cells": [
  {
   "cell_type": "markdown",
   "metadata": {},
   "source": [
    "# introduce\n",
    "\n",
    "- implicit api 是指各个交易所之间非公共的部分,所以并未用标准形式定义\n",
    "- 几乎包含所有交易所的所有 api\n"
   ]
  },
  {
   "cell_type": "code",
   "execution_count": 4,
   "metadata": {},
   "outputs": [
    {
     "data": {
      "text/plain": [
       "ccxt.binance()"
      ]
     },
     "execution_count": 4,
     "metadata": {},
     "output_type": "execute_result"
    }
   ],
   "source": [
    "import ccxt\n",
    "\n",
    "key = {\n",
    "    \"apiKey\": \"\",\n",
    "    \"secret\": \"\",\n",
    "}\n",
    "exchange_ins = ccxt.binance(key)\n",
    "exchange_ins"
   ]
  },
  {
   "cell_type": "code",
   "execution_count": 5,
   "metadata": {},
   "outputs": [
    {
     "data": {
      "text/plain": [
       "'4.4.21'"
      ]
     },
     "execution_count": 5,
     "metadata": {},
     "output_type": "execute_result"
    }
   ],
   "source": [
    "ccxt.__version__"
   ]
  },
  {
   "cell_type": "markdown",
   "metadata": {},
   "source": [
    "# Data\n"
   ]
  },
  {
   "cell_type": "markdown",
   "metadata": {},
   "source": [
    "## topLongShortPositionRatio\n",
    "\n",
    "大户多空仓位比\n",
    "\n",
    "https://developers.binance.com/docs/zh-CN/derivatives/usds-margined-futures/market-data/rest-api/Top-Trader-Long-Short-Ratio\n"
   ]
  },
  {
   "cell_type": "code",
   "execution_count": 19,
   "metadata": {},
   "outputs": [
    {
     "data": {
      "text/plain": [
       "[{'symbol': 'BTCUSDT',\n",
       "  'longAccount': '0.5641',\n",
       "  'longShortRatio': '1.2941',\n",
       "  'shortAccount': '0.4359',\n",
       "  'timestamp': '1723690200000'}]"
      ]
     },
     "execution_count": 19,
     "metadata": {},
     "output_type": "execute_result"
    }
   ],
   "source": [
    "exchange_ins.fapiDataGetTopLongShortPositionRatio(\n",
    "    params={\"symbol\": \"BTCUSDT\", \"period\": \"5m\", \"limit\": 1}\n",
    ")  # type: ignore"
   ]
  },
  {
   "cell_type": "markdown",
   "metadata": {},
   "source": [
    "## topLongShortAccountRatio\n",
    "\n",
    "大户账户数多空比\n"
   ]
  },
  {
   "cell_type": "code",
   "execution_count": 17,
   "metadata": {},
   "outputs": [
    {
     "data": {
      "text/plain": [
       "[{'symbol': 'BTCUSDT',\n",
       "  'longAccount': '0.6902',\n",
       "  'longShortRatio': '2.2279',\n",
       "  'shortAccount': '0.3098',\n",
       "  'timestamp': '1723690200000'}]"
      ]
     },
     "execution_count": 17,
     "metadata": {},
     "output_type": "execute_result"
    }
   ],
   "source": [
    "exchange_ins.fapiDataGetTopLongShortAccountRatio(\n",
    "    params={\"symbol\": \"BTCUSDT\", \"period\": \"5m\", \"limit\": 1}\n",
    ")  # type: ignore"
   ]
  },
  {
   "cell_type": "markdown",
   "metadata": {},
   "source": [
    "## globalLongShortAccountRatio\n",
    "\n",
    "多空持仓人数比\n"
   ]
  },
  {
   "cell_type": "code",
   "execution_count": 23,
   "metadata": {},
   "outputs": [
    {
     "data": {
      "text/plain": [
       "[{'symbol': 'BTCUSDT',\n",
       "  'longAccount': '0.6800',\n",
       "  'longShortRatio': '2.1250',\n",
       "  'shortAccount': '0.3200',\n",
       "  'timestamp': '1723680000000'}]"
      ]
     },
     "execution_count": 23,
     "metadata": {},
     "output_type": "execute_result"
    }
   ],
   "source": [
    "exchange_ins.fapiDataGetGlobalLongShortAccountRatio(\n",
    "    params={\"symbol\": \"BTCUSDT\", \"period\": \"1d\", \"limit\": 1}\n",
    ")  # type: ignore"
   ]
  },
  {
   "cell_type": "markdown",
   "metadata": {},
   "source": [
    "# Order\n"
   ]
  },
  {
   "cell_type": "markdown",
   "metadata": {},
   "source": [
    "## create OTOCO order -spot\n",
    "\n",
    "OTOCO 指一个订单，同时附带止盈止损，极其实用 (仅支持 limit/market)\n",
    "\n",
    "仅现货可用\n",
    "\n",
    "guide:\n",
    "https://www.binance.com/en/support/faq/what-are-limit-tp-sl-orders-strategy-order-and-frequently-asked-questions-e1ee1738141c49718550fa9061be4bf3\n",
    "\n",
    "api-doc:\n",
    "https://developers.binance.com/docs/zh-CN/binance-spot-api-docs/rest-api#new-order-list---otoco-trade\n"
   ]
  },
  {
   "cell_type": "code",
   "execution_count": null,
   "metadata": {},
   "outputs": [],
   "source": [
    "exchange_ins.privatePostOrderListOtoco(\n",
    "    params={\n",
    "        \"symbol\": \"ZROUSDT\",\n",
    "        \"workingType\": \"LIMIT\",\n",
    "        \"workingSide\": \"BUY\",\n",
    "        \"workingPrice\": 3.0,\n",
    "        \"workingQuantity\": 5.0,\n",
    "        \"workingTimeInForce\": \"GTC\",\n",
    "        \"pendingSide\": \"SELL\",\n",
    "        \"pendingQuantity\": 5.0,\n",
    "        \"pendingAboveType\": \"LIMIT_MAKER\",\n",
    "        \"pendingAbovePrice\": 3.1,\n",
    "        \"pendingBelowType\": \"STOP_LOSS\",\n",
    "        \"pendingBelowStopPrice\": 2.9,\n",
    "    }\n",
    ")  # type: ignore"
   ]
  },
  {
   "cell_type": "markdown",
   "metadata": {},
   "source": [
    "# Wallet\n"
   ]
  },
  {
   "cell_type": "markdown",
   "metadata": {},
   "source": [
    "## 每日资产快照 daily-account-snapshoot\n",
    "\n",
    "https://developers.binance.com/docs/zh-CN/wallet/account/daily-account-snapshoot\n"
   ]
  },
  {
   "cell_type": "code",
   "execution_count": null,
   "metadata": {},
   "outputs": [],
   "source": [
    "exchange_ins.sapi_get_accountsnapshot(params={\"type\": \"FUTURES\"})"
   ]
  },
  {
   "cell_type": "markdown",
   "metadata": {},
   "source": [
    "## 用户钱包余额\n",
    "\n",
    "https://developers.binance.com/docs/zh-CN/wallet/asset/query-user-wallet-balance\n"
   ]
  },
  {
   "cell_type": "code",
   "execution_count": null,
   "metadata": {},
   "outputs": [],
   "source": [
    "exchange_ins.sapi_get_asset_wallet_balance()"
   ]
  },
  {
   "cell_type": "markdown",
   "metadata": {},
   "source": [
    "## 用户持仓\n",
    "\n",
    "https://developers.binance.com/docs/zh-CN/wallet/asset/user-assets\n"
   ]
  },
  {
   "cell_type": "code",
   "execution_count": null,
   "metadata": {},
   "outputs": [],
   "source": [
    "exchange_ins.sapiv3_post_asset_getuserasset()"
   ]
  },
  {
   "cell_type": "markdown",
   "metadata": {},
   "source": [
    "## 万向划转\n",
    "\n",
    "https://developers.binance.com/docs/zh-CN/wallet/asset/user-universal-transfer\n"
   ]
  },
  {
   "cell_type": "code",
   "execution_count": null,
   "metadata": {},
   "outputs": [],
   "source": [
    "# U合约 -> 资金\n",
    "exchange_ins.sapi_post_asset_transfer(\n",
    "    params={\"type\": \"UMFUTURE_FUNDING\", \"asset\": \"USDT\", \"amount\": \"1\"}\n",
    ")"
   ]
  },
  {
   "cell_type": "markdown",
   "metadata": {},
   "source": [
    "# simple earn 赚币\n"
   ]
  },
  {
   "cell_type": "markdown",
   "metadata": {},
   "source": [
    "## 活期\n"
   ]
  },
  {
   "cell_type": "markdown",
   "metadata": {},
   "source": [
    "### 活期产品列表\n",
    "\n",
    "https://developers.binance.com/docs/zh-CN/simple_earn/account/Get-Simple-Earn-Flexible-Product-List\n"
   ]
  },
  {
   "cell_type": "code",
   "execution_count": null,
   "metadata": {},
   "outputs": [],
   "source": [
    "exchange_ins.sapi_get_simple_earn_flexible_list()"
   ]
  },
  {
   "cell_type": "markdown",
   "metadata": {},
   "source": [
    "### 活期产品持仓\n",
    "\n",
    "https://developers.binance.com/docs/zh-CN/simple_earn/account/Get-Flexible-Product-Position\n"
   ]
  },
  {
   "cell_type": "code",
   "execution_count": 9,
   "metadata": {},
   "outputs": [
    {
     "data": {
      "text/plain": [
       "{'total': '0', 'rows': []}"
      ]
     },
     "execution_count": 9,
     "metadata": {},
     "output_type": "execute_result"
    }
   ],
   "source": [
    "exchange_ins.sapi_get_simple_earn_flexible_position()"
   ]
  },
  {
   "cell_type": "markdown",
   "metadata": {},
   "source": [
    "### 活期产品个人剩余额度"
   ]
  },
  {
   "cell_type": "code",
   "execution_count": null,
   "metadata": {},
   "outputs": [],
   "source": [
    "exchange_ins.sapi_get_simple_earn_flexible_personalleftquota(\n",
    "    params={\"productId\": \"USDT001\"}\n",
    ")"
   ]
  },
  {
   "cell_type": "markdown",
   "metadata": {},
   "source": [
    "### 申购\n"
   ]
  },
  {
   "cell_type": "code",
   "execution_count": null,
   "metadata": {},
   "outputs": [],
   "source": [
    "exchange_ins.sapi_post_simple_earn_flexible_subscribe(\n",
    "    params={\"productId\": \"USDT001\", \"amount\": \"1\", \"sourceAccount\": \"FUND\"}\n",
    ")"
   ]
  },
  {
   "cell_type": "markdown",
   "metadata": {},
   "source": [
    "### 赎回\n",
    "\n",
    "https://developers.binance.com/docs/zh-CN/simple_earn/earn/Redeem-Flexible-Product\n"
   ]
  },
  {
   "cell_type": "code",
   "execution_count": null,
   "metadata": {},
   "outputs": [],
   "source": [
    "exchange_ins.sapi_post_simple_earn_flexible_redeem(\n",
    "    params={\"productId\": \"USDT001\", \"amount\": \"1\", \"destAccount\": \"FUND\"}\n",
    ")"
   ]
  }
 ],
 "metadata": {
  "kernelspec": {
   "display_name": ".venv",
   "language": "python",
   "name": "python3"
  },
  "language_info": {
   "codemirror_mode": {
    "name": "ipython",
    "version": 3
   },
   "file_extension": ".py",
   "mimetype": "text/x-python",
   "name": "python",
   "nbconvert_exporter": "python",
   "pygments_lexer": "ipython3",
   "version": "3.12.5"
  }
 },
 "nbformat": 4,
 "nbformat_minor": 2
}
