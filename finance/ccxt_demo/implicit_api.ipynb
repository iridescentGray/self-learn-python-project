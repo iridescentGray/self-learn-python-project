{
 "cells": [
  {
   "cell_type": "markdown",
   "metadata": {},
   "source": [
    "# introduce\n",
    "\n",
    "- implicit api 是指各个交易所之间非公共的部分,所以并未用标准形式定义\n",
    "- 几乎包含所有交易所的所有 api\n"
   ]
  },
  {
   "cell_type": "code",
   "execution_count": 14,
   "metadata": {},
   "outputs": [
    {
     "data": {
      "text/plain": [
       "ccxt.binance()"
      ]
     },
     "execution_count": 14,
     "metadata": {},
     "output_type": "execute_result"
    }
   ],
   "source": [
    "import ccxt\n",
    "\n",
    "key = {\n",
    "    \"apiKey\": \"\",\n",
    "    \"secret\": \"\",\n",
    "}\n",
    "exchange_ins = ccxt.binance(key)\n",
    "exchange_ins"
   ]
  },
  {
   "cell_type": "markdown",
   "metadata": {},
   "source": [
    "# Data\n"
   ]
  },
  {
   "cell_type": "markdown",
   "metadata": {},
   "source": [
    "## topLongShortPositionRatio\n",
    "\n",
    "大户多空仓位比\n",
    "\n",
    "https://developers.binance.com/docs/zh-CN/derivatives/usds-margined-futures/market-data/rest-api/Top-Trader-Long-Short-Ratio\n"
   ]
  },
  {
   "cell_type": "code",
   "execution_count": 19,
   "metadata": {},
   "outputs": [
    {
     "data": {
      "text/plain": [
       "[{'symbol': 'BTCUSDT',\n",
       "  'longAccount': '0.5641',\n",
       "  'longShortRatio': '1.2941',\n",
       "  'shortAccount': '0.4359',\n",
       "  'timestamp': '1723690200000'}]"
      ]
     },
     "execution_count": 19,
     "metadata": {},
     "output_type": "execute_result"
    }
   ],
   "source": [
    "exchange_ins.fapiDataGetTopLongShortPositionRatio(\n",
    "    params={\"symbol\": \"BTCUSDT\", \"period\": \"5m\", \"limit\": 1}\n",
    ")  # type: ignore"
   ]
  },
  {
   "cell_type": "markdown",
   "metadata": {},
   "source": [
    "## topLongShortAccountRatio\n",
    "\n",
    "大户账户数多空比\n"
   ]
  },
  {
   "cell_type": "code",
   "execution_count": 17,
   "metadata": {},
   "outputs": [
    {
     "data": {
      "text/plain": [
       "[{'symbol': 'BTCUSDT',\n",
       "  'longAccount': '0.6902',\n",
       "  'longShortRatio': '2.2279',\n",
       "  'shortAccount': '0.3098',\n",
       "  'timestamp': '1723690200000'}]"
      ]
     },
     "execution_count": 17,
     "metadata": {},
     "output_type": "execute_result"
    }
   ],
   "source": [
    "exchange_ins.fapiDataGetTopLongShortAccountRatio(\n",
    "    params={\"symbol\": \"BTCUSDT\", \"period\": \"5m\", \"limit\": 1}\n",
    ")  # type: ignore"
   ]
  },
  {
   "cell_type": "markdown",
   "metadata": {},
   "source": [
    "## globalLongShortAccountRatio\n",
    "\n",
    "多空持仓人数比"
   ]
  },
  {
   "cell_type": "code",
   "execution_count": 23,
   "metadata": {},
   "outputs": [
    {
     "data": {
      "text/plain": [
       "[{'symbol': 'BTCUSDT',\n",
       "  'longAccount': '0.6800',\n",
       "  'longShortRatio': '2.1250',\n",
       "  'shortAccount': '0.3200',\n",
       "  'timestamp': '1723680000000'}]"
      ]
     },
     "execution_count": 23,
     "metadata": {},
     "output_type": "execute_result"
    }
   ],
   "source": [
    "exchange_ins.fapiDataGetGlobalLongShortAccountRatio(\n",
    "    params={\"symbol\": \"BTCUSDT\", \"period\": \"1d\", \"limit\": 1}\n",
    ")  # type: ignore"
   ]
  },
  {
   "cell_type": "markdown",
   "metadata": {},
   "source": [
    "# order\n"
   ]
  },
  {
   "cell_type": "markdown",
   "metadata": {},
   "source": [
    "## create OTOCO order -spot\n",
    "\n",
    "OTOCO 指一个订单，同时附带止盈止损，极其实用 (仅支持 limit/market)\n",
    "\n",
    "仅现货可用\n",
    "\n",
    "guide:\n",
    "https://www.binance.com/en/support/faq/what-are-limit-tp-sl-orders-strategy-order-and-frequently-asked-questions-e1ee1738141c49718550fa9061be4bf3\n",
    "\n",
    "api-doc:\n",
    "https://developers.binance.com/docs/zh-CN/binance-spot-api-docs/rest-api#new-order-list---otoco-trade"
   ]
  },
  {
   "cell_type": "code",
   "execution_count": null,
   "metadata": {},
   "outputs": [],
   "source": [
    "exchange_ins.privatePostOrderListOtoco(\n",
    "    params={\n",
    "        \"symbol\": \"ZROUSDT\",\n",
    "        \"workingType\": \"LIMIT\",\n",
    "        \"workingSide\": \"BUY\",\n",
    "        \"workingPrice\": 3.0,\n",
    "        \"workingQuantity\": 5.0,\n",
    "        \"workingTimeInForce\": \"GTC\",\n",
    "        \"pendingSide\": \"SELL\",\n",
    "        \"pendingQuantity\": 5.0,\n",
    "        \"pendingAboveType\": \"LIMIT_MAKER\",\n",
    "        \"pendingAbovePrice\": 3.1,\n",
    "        \"pendingBelowType\": \"STOP_LOSS\",\n",
    "        \"pendingBelowStopPrice\": 2.9,\n",
    "    }\n",
    ")  # type: ignore"
   ]
  }
 ],
 "metadata": {
  "kernelspec": {
   "display_name": ".venv",
   "language": "python",
   "name": "python3"
  },
  "language_info": {
   "codemirror_mode": {
    "name": "ipython",
    "version": 3
   },
   "file_extension": ".py",
   "mimetype": "text/x-python",
   "name": "python",
   "nbconvert_exporter": "python",
   "pygments_lexer": "ipython3",
   "version": "3.12.5"
  }
 },
 "nbformat": 4,
 "nbformat_minor": 2
}
