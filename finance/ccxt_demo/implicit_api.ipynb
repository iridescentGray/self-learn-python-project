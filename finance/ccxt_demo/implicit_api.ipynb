{
 "cells": [
  {
   "cell_type": "markdown",
   "metadata": {},
   "source": [
    "# introduce\n",
    "\n",
    "- implicit api 是指各个交易所之间非公共的部分,所以并未用标准形式定义\n",
    "- 几乎包含所有交易所的所有 api\n"
   ]
  },
  {
   "cell_type": "code",
   "execution_count": 75,
   "metadata": {},
   "outputs": [
    {
     "data": {
      "text/plain": [
       "ccxt.binance()"
      ]
     },
     "execution_count": 75,
     "metadata": {},
     "output_type": "execute_result"
    }
   ],
   "source": [
    "import ccxt\n",
    "\n",
    "key = {\n",
    "    \"apiKey\": \"\",\n",
    "    \"secret\": \"\",\n",
    "}\n",
    "exchange_ins = ccxt.binance(key)\n",
    "exchange_ins"
   ]
  },
  {
   "cell_type": "markdown",
   "metadata": {},
   "source": [
    "# Data\n"
   ]
  },
  {
   "cell_type": "markdown",
   "metadata": {},
   "source": [
    "## getTopLongShortPositionRatio\n",
    "\n",
    "大户多空仓位比\n",
    "\n",
    "https://developers.binance.com/docs/zh-CN/derivatives/usds-margined-futures/market-data/rest-api/Top-Trader-Long-Short-Ratio\n"
   ]
  },
  {
   "cell_type": "code",
   "execution_count": 73,
   "metadata": {},
   "outputs": [
    {
     "data": {
      "text/plain": [
       "[{'symbol': 'ZROUSDT',\n",
       "  'longAccount': '0.5899',\n",
       "  'longShortRatio': '1.4384',\n",
       "  'shortAccount': '0.4101',\n",
       "  'timestamp': '1723623600000'}]"
      ]
     },
     "execution_count": 73,
     "metadata": {},
     "output_type": "execute_result"
    }
   ],
   "source": [
    "exchange_ins.fapiDataGetTopLongShortPositionRatio(\n",
    "    params={\"symbol\": \"ZROUSDT\", \"period\": \"5m\", \"limit\": 1}\n",
    ")  # type: ignore"
   ]
  },
  {
   "cell_type": "markdown",
   "metadata": {},
   "source": [
    "## GetGlobalLongShortAccountRatio\n",
    "\n",
    "多空持仓人数比"
   ]
  },
  {
   "cell_type": "code",
   "execution_count": 76,
   "metadata": {},
   "outputs": [
    {
     "data": {
      "text/plain": [
       "[{'symbol': 'ZROUSDT',\n",
       "  'longAccount': '0.5010',\n",
       "  'longShortRatio': '1.0040',\n",
       "  'shortAccount': '0.4990',\n",
       "  'timestamp': '1723623600000'}]"
      ]
     },
     "execution_count": 76,
     "metadata": {},
     "output_type": "execute_result"
    }
   ],
   "source": [
    "exchange_ins.fapiDataGetGlobalLongShortAccountRatio(\n",
    "    params={\"symbol\": \"ZROUSDT\", \"period\": \"5m\", \"limit\": 1}\n",
    ")  # type: ignore"
   ]
  },
  {
   "cell_type": "code",
   "execution_count": null,
   "metadata": {},
   "outputs": [],
   "source": [
    "exchange_ins.fapiPublicGetLvtKlines(\n",
    "    params={\"symbol\": \"ZROUSDT\", \"interval\": \"SECOND\", \"limit\": 1}\n",
    ")  # type: ignore"
   ]
  },
  {
   "cell_type": "markdown",
   "metadata": {},
   "source": [
    "# order\n"
   ]
  },
  {
   "cell_type": "markdown",
   "metadata": {},
   "source": [
    "## create OTOCO order -spot\n",
    "\n",
    "OTOCO 指一个订单，同时附带止盈止损，极其实用 (仅支持 limit/market)\n",
    "\n",
    "仅现货可用\n",
    "\n",
    "guide:\n",
    "https://www.binance.com/en/support/faq/what-are-limit-tp-sl-orders-strategy-order-and-frequently-asked-questions-e1ee1738141c49718550fa9061be4bf3\n",
    "\n",
    "api-doc:\n",
    "https://developers.binance.com/docs/zh-CN/binance-spot-api-docs/rest-api#new-order-list---otoco-trade"
   ]
  },
  {
   "cell_type": "code",
   "execution_count": null,
   "metadata": {},
   "outputs": [],
   "source": [
    "exchange_ins.privatePostOrderListOtoco(\n",
    "    params={\n",
    "        \"symbol\": \"ZROUSDT\",\n",
    "        \"workingType\": \"LIMIT\",\n",
    "        \"workingSide\": \"BUY\",\n",
    "        \"workingPrice\": 3.0,\n",
    "        \"workingQuantity\": 5.0,\n",
    "        \"workingTimeInForce\": \"GTC\",\n",
    "        \"pendingSide\": \"SELL\",\n",
    "        \"pendingQuantity\": 5.0,\n",
    "        \"pendingAboveType\": \"LIMIT_MAKER\",\n",
    "        \"pendingAbovePrice\": 3.1,\n",
    "        \"pendingBelowType\": \"STOP_LOSS\",\n",
    "        \"pendingBelowStopPrice\": 2.9,\n",
    "    }\n",
    ")  # type: ignore"
   ]
  }
 ],
 "metadata": {
  "kernelspec": {
   "display_name": ".venv",
   "language": "python",
   "name": "python3"
  },
  "language_info": {
   "codemirror_mode": {
    "name": "ipython",
    "version": 3
   },
   "file_extension": ".py",
   "mimetype": "text/x-python",
   "name": "python",
   "nbconvert_exporter": "python",
   "pygments_lexer": "ipython3",
   "version": "3.11.8"
  }
 },
 "nbformat": 4,
 "nbformat_minor": 2
}
