{
 "cells": [
  {
   "cell_type": "markdown",
   "metadata": {},
   "source": [
    "# introduce\n",
    "\n",
    "- The private API is mostly used for trading and for accessing account-specific private data, therefore it requires authentication. You have to get the private API keys from the exchanges.\n",
    "- private_api 负责访问用户的私有数据，需要提供 apikey\n"
   ]
  },
  {
   "cell_type": "code",
   "execution_count": 1,
   "metadata": {},
   "outputs": [
    {
     "data": {
      "text/plain": [
       "ccxt.binance()"
      ]
     },
     "execution_count": 1,
     "metadata": {},
     "output_type": "execute_result"
    }
   ],
   "source": [
    "import ccxt\n",
    "\n",
    "key = {\n",
    "    \"apiKey\": \"\",\n",
    "    \"secret\": \"\",\n",
    "}\n",
    "\n",
    "exchange_ins = ccxt.binance(key)\n",
    "exchange_ins"
   ]
  },
  {
   "cell_type": "markdown",
   "metadata": {},
   "source": [
    "# Authentication\n"
   ]
  },
  {
   "cell_type": "code",
   "execution_count": 13,
   "metadata": {},
   "outputs": [
    {
     "data": {
      "text/plain": [
       "{'apiKey': True,\n",
       " 'secret': True,\n",
       " 'uid': False,\n",
       " 'accountId': False,\n",
       " 'login': False,\n",
       " 'password': False,\n",
       " 'twofa': False,\n",
       " 'privateKey': False,\n",
       " 'walletAddress': False,\n",
       " 'token': False}"
      ]
     },
     "execution_count": 13,
     "metadata": {},
     "output_type": "execute_result"
    }
   ],
   "source": [
    "# 列出交易所认证所需的凭证\n",
    "exchange_ins.requiredCredentials"
   ]
  },
  {
   "cell_type": "markdown",
   "metadata": {},
   "source": [
    "# Trading Fee\n",
    "\n",
    "交易费率\n"
   ]
  },
  {
   "cell_type": "code",
   "execution_count": null,
   "metadata": {},
   "outputs": [],
   "source": [
    "fee = exchange_ins.fetch_trading_fees()\n",
    "fee[\"BTC/USDT\"]"
   ]
  },
  {
   "cell_type": "markdown",
   "metadata": {},
   "source": [
    "# balance\n",
    "\n",
    "账户余额\n"
   ]
  },
  {
   "cell_type": "code",
   "execution_count": null,
   "metadata": {},
   "outputs": [],
   "source": [
    "balances = exchange_ins.fetch_balance()"
   ]
  },
  {
   "cell_type": "code",
   "execution_count": null,
   "metadata": {},
   "outputs": [],
   "source": [
    "for k, v in balances.items():\n",
    "    print(k)"
   ]
  },
  {
   "cell_type": "code",
   "execution_count": null,
   "metadata": {},
   "outputs": [],
   "source": [
    "# 已用币\n",
    "balances.get(\"used\")\n",
    "# 可用币\n",
    "balances.get(\"free\")"
   ]
  },
  {
   "cell_type": "code",
   "execution_count": null,
   "metadata": {},
   "outputs": [],
   "source": [
    "# 总计可用币\n",
    "balances.get(\"total\")"
   ]
  },
  {
   "cell_type": "code",
   "execution_count": null,
   "metadata": {},
   "outputs": [],
   "source": [
    "# 具体币的🈷\n",
    "balances.get(\"ZRO\")"
   ]
  },
  {
   "cell_type": "markdown",
   "metadata": {},
   "source": [
    "# deposit\n",
    "\n",
    "账户存款数据"
   ]
  },
  {
   "cell_type": "code",
   "execution_count": null,
   "metadata": {},
   "outputs": [
    {
     "data": {
      "text/plain": [
       "[]"
      ]
     },
     "metadata": {},
     "output_type": "display_data"
    }
   ],
   "source": [
    "exchange_ins.fetch_deposits(limit=5)"
   ]
  },
  {
   "cell_type": "code",
   "execution_count": null,
   "metadata": {},
   "outputs": [],
   "source": [
    "# 子账户地址\n",
    "exchange_ins.fetch_deposit_address(code=\"USDT\")"
   ]
  },
  {
   "cell_type": "markdown",
   "metadata": {},
   "source": [
    "# margin\n",
    "- 保证金模式\n",
    "    - 全仓\n",
    "    - 逐仓"
   ]
  },
  {
   "cell_type": "code",
   "execution_count": null,
   "metadata": {},
   "outputs": [
    {
     "name": "stdout",
     "output_type": "stream",
     "text": [
      "False\n",
      "cross\n"
     ]
    }
   ],
   "source": [
    "mode=exchange_ins.fetch_margin_mode(symbol=\"ZRO/USDT:USDT\")\n",
    "print(mode[\"info\"][\"isolated\"])\n",
    "print(mode[\"marginMode\"]) "
   ]
  },
  {
   "cell_type": "code",
   "execution_count": null,
   "metadata": {},
   "outputs": [
    {
     "data": {
      "text/plain": [
       "[]"
      ]
     },
     "metadata": {},
     "output_type": "display_data"
    }
   ],
   "source": [
    "exchange_ins.fetch_margin_adjustment_history(symbol=\"ZRO/USDT:USDT\")"
   ]
  },
  {
   "cell_type": "markdown",
   "metadata": {},
   "source": [
    "# leverage\n",
    "\n",
    "杠杆倍数"
   ]
  },
  {
   "cell_type": "code",
   "execution_count": null,
   "metadata": {},
   "outputs": [
    {
     "name": "stdout",
     "output_type": "stream",
     "text": [
      "1\n",
      "1\n"
     ]
    }
   ],
   "source": [
    "lever=exchange_ins.fetch_leverage(symbol=\"ZRO/USDT:USDT\")\n",
    "print(lever[\"longLeverage\"])\n",
    "print(lever[\"shortLeverage\"])"
   ]
  },
  {
   "cell_type": "markdown",
   "metadata": {},
   "source": [
    "# leverage tiers\n",
    "\n",
    "获取不同仓位规模的最大杠杆\n"
   ]
  },
  {
   "cell_type": "code",
   "execution_count": null,
   "metadata": {},
   "outputs": [],
   "source": [
    "exchange_ins.fetch_market_leverage_tiers(symbol=\"ZRO/USDT:USDT\")"
   ]
  },
  {
   "cell_type": "markdown",
   "metadata": {},
   "source": [
    "# order"
   ]
  },
  {
   "cell_type": "markdown",
   "metadata": {},
   "source": [
    "## query\n"
   ]
  },
  {
   "cell_type": "markdown",
   "metadata": {},
   "source": [
    "### fetch_orders\n"
   ]
  },
  {
   "cell_type": "code",
   "execution_count": 2,
   "metadata": {},
   "outputs": [
    {
     "name": "stdout",
     "output_type": "stream",
     "text": [
      "<class 'list'>\n",
      "22\n"
     ]
    }
   ],
   "source": [
    "orders = exchange_ins.fetch_orders(symbol=\"ZRO/USDT:USDT\")\n",
    "print(type(orders))\n",
    "print(len(orders))"
   ]
  },
  {
   "cell_type": "code",
   "execution_count": null,
   "metadata": {},
   "outputs": [],
   "source": [
    "from datetime import datetime, timedelta\n",
    "\n",
    "\n",
    "t = datetime.now() - timedelta(days=1)\n",
    "since = since_ms = int((t.timestamp()) * 1000)\n",
    "orders = exchange_ins.fetch_orders(symbol=\"ZRO/USDT:USDT\", since=since)\n",
    "orders"
   ]
  },
  {
   "cell_type": "markdown",
   "metadata": {},
   "source": [
    "### fetch_order\n"
   ]
  },
  {
   "cell_type": "code",
   "execution_count": null,
   "metadata": {},
   "outputs": [],
   "source": [
    "exchange_ins.fetch_order(\"967743418\", \"ZRO/USDT:USDT\")"
   ]
  },
  {
   "cell_type": "markdown",
   "metadata": {},
   "source": [
    "### fetch open orders\n"
   ]
  },
  {
   "cell_type": "code",
   "execution_count": 3,
   "metadata": {},
   "outputs": [
    {
     "data": {
      "text/plain": [
       "[]"
      ]
     },
     "execution_count": 3,
     "metadata": {},
     "output_type": "execute_result"
    }
   ],
   "source": [
    "exchange_ins.fetch_open_orders(symbol=\"ZRO/USDT:USDT\", limit=1)"
   ]
  },
  {
   "cell_type": "markdown",
   "metadata": {},
   "source": [
    "### fetch closed orders\n"
   ]
  },
  {
   "cell_type": "code",
   "execution_count": null,
   "metadata": {},
   "outputs": [],
   "source": [
    "exchange_ins.fetch_closed_orders(symbol=\"ZRO/USDT:USDT\", limit=1)"
   ]
  },
  {
   "cell_type": "markdown",
   "metadata": {},
   "source": [
    "### fetch canceled orders\n"
   ]
  },
  {
   "cell_type": "code",
   "execution_count": null,
   "metadata": {},
   "outputs": [],
   "source": [
    "exchange_ins.fetch_canceled_orders(symbol=\"ZRO/USDT:USDT\", limit=1)"
   ]
  },
  {
   "cell_type": "markdown",
   "metadata": {},
   "source": [
    "## operate\n"
   ]
  },
  {
   "cell_type": "markdown",
   "metadata": {},
   "source": [
    "### create order\n"
   ]
  },
  {
   "cell_type": "code",
   "execution_count": null,
   "metadata": {},
   "outputs": [],
   "source": [
    "# amount 不是USDT,而是pair本身\n",
    "exchange_ins.create_order(\n",
    "    symbol=\"ZRO/USDT:USDT\", type=\"limit\", price=3.0, side=\"buy\", amount=5.0\n",
    ")"
   ]
  },
  {
   "cell_type": "code",
   "execution_count": null,
   "metadata": {},
   "outputs": [],
   "source": [
    "exchange_ins.create_limit_sell_order(symbol=\"ZRO/USDT:USDT\", price=3.0, amount=5.0)"
   ]
  },
  {
   "cell_type": "code",
   "execution_count": null,
   "metadata": {},
   "outputs": [],
   "source": [
    "exchange_ins.create_market_buy_order(symbol=\"ZRO/USDT:USDT\", amount=5.0)"
   ]
  },
  {
   "cell_type": "code",
   "execution_count": null,
   "metadata": {},
   "outputs": [],
   "source": [
    "# this‘s wrap function of create_order\n",
    "exchange_ins.create_market_buy_order(symbol=\"ZRO/USDT:USDT\", amount=5.0)"
   ]
  },
  {
   "cell_type": "markdown",
   "metadata": {},
   "source": [
    "### cancel_order\n"
   ]
  },
  {
   "cell_type": "code",
   "execution_count": null,
   "metadata": {},
   "outputs": [],
   "source": [
    "exchange_ins.cancel_order(id=\"\", symbol=\"ZRO/USDT:USDT\")"
   ]
  },
  {
   "cell_type": "markdown",
   "metadata": {},
   "source": [
    "### cancel_all_orders\n"
   ]
  },
  {
   "cell_type": "code",
   "execution_count": null,
   "metadata": {},
   "outputs": [],
   "source": [
    "exchange_ins.cancel_all_orders(symbol=\"ZRO/USDT:USDT\")"
   ]
  },
  {
   "cell_type": "markdown",
   "metadata": {},
   "source": [
    "## trigger order\n",
    "\n",
    "- 自动触发\n",
    "- 止盈/止损\n"
   ]
  },
  {
   "cell_type": "code",
   "execution_count": null,
   "metadata": {},
   "outputs": [],
   "source": [
    "params = {\"takeProfitPrice\": 3.6}\n",
    "\n",
    "exchange_ins.create_order(\n",
    "    symbol=\"ZRO/USDT:USDT\",\n",
    "    type=\"limit\",\n",
    "    price=3.0,\n",
    "    side=\"buy\",\n",
    "    amount=5.0,\n",
    "    params=params,\n",
    ")"
   ]
  },
  {
   "cell_type": "markdown",
   "metadata": {},
   "source": [
    "### createOrderWithTakeProfitAndStopLoss"
   ]
  },
  {
   "cell_type": "code",
   "execution_count": null,
   "metadata": {},
   "outputs": [],
   "source": [
    "exchange_ins.create_order_with_take_profit_and_stop_loss(\n",
    "    symbol=\"ZRO/USDT:USDT\",\n",
    "    type=\"limit\",\n",
    "    price=3.0,\n",
    "    side=\"buy\",\n",
    "    amount=5.0,\n",
    "    stopLoss=2.9,\n",
    "    takeProfit=3.3\n",
    ")"
   ]
  },
  {
   "cell_type": "markdown",
   "metadata": {},
   "source": [
    "# trade\n",
    "\n",
    "一个order可能产生多笔trade\n"
   ]
  },
  {
   "cell_type": "markdown",
   "metadata": {},
   "source": [
    "## fetch_my_trades\n"
   ]
  },
  {
   "cell_type": "code",
   "execution_count": null,
   "metadata": {},
   "outputs": [],
   "source": [
    "exchange_ins.fetch_my_trades(symbol=\"ZRO/USDT:USDT\", limit=1)"
   ]
  },
  {
   "cell_type": "markdown",
   "metadata": {},
   "source": [
    "# position\n",
    "\n",
    "合约持仓\n"
   ]
  },
  {
   "cell_type": "code",
   "execution_count": null,
   "metadata": {},
   "outputs": [
    {
     "name": "stdout",
     "output_type": "stream",
     "text": [
      "<class 'list'>\n"
     ]
    },
    {
     "data": {
      "text/plain": [
       "[]"
      ]
     },
     "metadata": {},
     "output_type": "display_data"
    }
   ],
   "source": [
    "positions = exchange_ins.fetch_positions()\n",
    "\n",
    "print(type(positions))\n",
    "positions"
   ]
  },
  {
   "cell_type": "code",
   "execution_count": null,
   "metadata": {},
   "outputs": [
    {
     "data": {
      "text/plain": [
       "{'info': {'dualSidePosition': False}, 'hedged': False}"
      ]
     },
     "metadata": {},
     "output_type": "display_data"
    }
   ],
   "source": [
    "exchange_ins.fetch_position_mode(\"ZRO/USDT:USDT\")"
   ]
  },
  {
   "cell_type": "code",
   "execution_count": null,
   "metadata": {},
   "outputs": [],
   "source": [
    "exchange_ins.fetch_funding_history(\"ZRO/USDT:USDT\",limit=2)"
   ]
  },
  {
   "cell_type": "markdown",
   "metadata": {},
   "source": [
    "# borrow rates\n",
    "\n",
    "获取借贷利率\n",
    "\n",
    "- margin only\n"
   ]
  },
  {
   "cell_type": "code",
   "execution_count": 2,
   "metadata": {},
   "outputs": [
    {
     "data": {
      "text/plain": [
       "{'currency': 'USDT',\n",
       " 'rate': 0.00017404,\n",
       " 'period': 86400000,\n",
       " 'timestamp': 1723420800000,\n",
       " 'datetime': '2024-08-12T00:00:00.000Z',\n",
       " 'info': {'asset': 'USDT',\n",
       "  'timestamp': '1723420800000',\n",
       "  'dailyInterestRate': '0.00017404',\n",
       "  'vipLevel': '0'}}"
      ]
     },
     "execution_count": 2,
     "metadata": {},
     "output_type": "execute_result"
    }
   ],
   "source": [
    "exchange_ins.fetch_cross_borrow_rate(code=\"USDT\")"
   ]
  },
  {
   "cell_type": "code",
   "execution_count": 5,
   "metadata": {},
   "outputs": [
    {
     "data": {
      "text/plain": [
       "{'info': {'symbol': 'ZROUSDT',\n",
       "  'vipLevel': '0',\n",
       "  'leverage': '5',\n",
       "  'data': [{'coin': 'ZRO',\n",
       "    'dailyInterest': '0.00057661',\n",
       "    'borrowLimit': '700'},\n",
       "   {'coin': 'USDT', 'dailyInterest': '0.00017404', 'borrowLimit': '3000'}]},\n",
       " 'symbol': 'ZRO/USDT',\n",
       " 'base': 'ZRO',\n",
       " 'baseRate': 0.00057661,\n",
       " 'quote': 'USDT',\n",
       " 'quoteRate': 0.00017404,\n",
       " 'period': 86400000,\n",
       " 'timestamp': None,\n",
       " 'datetime': None}"
      ]
     },
     "execution_count": 5,
     "metadata": {},
     "output_type": "execute_result"
    }
   ],
   "source": [
    "exchange_ins.fetch_isolated_borrow_rate(symbol=\"ZRO/USDT\")"
   ]
  },
  {
   "cell_type": "markdown",
   "metadata": {},
   "source": [
    "# funding rate\n",
    "\n",
    "合约资金费率\n"
   ]
  },
  {
   "cell_type": "code",
   "execution_count": null,
   "metadata": {},
   "outputs": [
    {
     "data": {
      "text/plain": [
       "{'info': {'dualSidePosition': False}, 'hedged': False}"
      ]
     },
     "metadata": {},
     "output_type": "display_data"
    }
   ],
   "source": [
    "exchange_ins.fetch_position_mode(\"ZRO/USDT:USDT\")"
   ]
  },
  {
   "cell_type": "code",
   "execution_count": 10,
   "metadata": {},
   "outputs": [
    {
     "data": {
      "text/plain": [
       "{'info': {'symbol': 'ZROUSDT',\n",
       "  'markPrice': '3.22700000',\n",
       "  'indexPrice': '3.22798802',\n",
       "  'estimatedSettlePrice': '3.23389773',\n",
       "  'lastFundingRate': '-0.00005617',\n",
       "  'interestRate': '0.00005000',\n",
       "  'nextFundingTime': '1723449600000',\n",
       "  'time': '1723446347000'},\n",
       " 'symbol': 'ZRO/USDT:USDT',\n",
       " 'markPrice': 3.227,\n",
       " 'indexPrice': 3.22798802,\n",
       " 'interestRate': 5e-05,\n",
       " 'estimatedSettlePrice': 3.23389773,\n",
       " 'timestamp': 1723446347000,\n",
       " 'datetime': '2024-08-12T07:05:47.000Z',\n",
       " 'fundingRate': -5.617e-05,\n",
       " 'fundingTimestamp': 1723449600000,\n",
       " 'fundingDatetime': '2024-08-12T08:00:00.000Z',\n",
       " 'nextFundingRate': None,\n",
       " 'nextFundingTimestamp': None,\n",
       " 'nextFundingDatetime': None,\n",
       " 'previousFundingRate': None,\n",
       " 'previousFundingTimestamp': None,\n",
       " 'previousFundingDatetime': None}"
      ]
     },
     "execution_count": 10,
     "metadata": {},
     "output_type": "execute_result"
    }
   ],
   "source": [
    "exchange_ins.fetch_funding_rate(symbol=\"ZRO/USDT:USDT\")"
   ]
  },
  {
   "cell_type": "code",
   "execution_count": 47,
   "metadata": {},
   "outputs": [
    {
     "data": {
      "text/plain": [
       "[{'info': {'symbol': 'ZROUSDT',\n",
       "   'fundingTime': '1723521600001',\n",
       "   'fundingRate': '0.00005000',\n",
       "   'markPrice': '3.37991341'},\n",
       "  'symbol': 'ZRO/USDT:USDT',\n",
       "  'fundingRate': 5e-05,\n",
       "  'timestamp': 1723521600001,\n",
       "  'datetime': '2024-08-13T04:00:00.001Z'},\n",
       " {'info': {'symbol': 'ZROUSDT',\n",
       "   'fundingTime': '1723536000000',\n",
       "   'fundingRate': '0.00005000',\n",
       "   'markPrice': '3.41600000'},\n",
       "  'symbol': 'ZRO/USDT:USDT',\n",
       "  'fundingRate': 5e-05,\n",
       "  'timestamp': 1723536000000,\n",
       "  'datetime': '2024-08-13T08:00:00.000Z'}]"
      ]
     },
     "execution_count": 47,
     "metadata": {},
     "output_type": "execute_result"
    }
   ],
   "source": [
    "exchange_ins.fetch_funding_rate_history(symbol=\"ZRO/USDT:USDT\", limit=2)"
   ]
  }
 ],
 "metadata": {
  "kernelspec": {
   "display_name": ".venv",
   "language": "python",
   "name": "python3"
  },
  "language_info": {
   "codemirror_mode": {
    "name": "ipython",
    "version": 3
   },
   "file_extension": ".py",
   "mimetype": "text/x-python",
   "name": "python",
   "nbconvert_exporter": "python",
   "pygments_lexer": "ipython3",
   "version": "3.11.8"
  }
 },
 "nbformat": 4,
 "nbformat_minor": 2
}
