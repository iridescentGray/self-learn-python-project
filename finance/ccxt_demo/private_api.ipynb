{
 "cells": [
  {
   "cell_type": "markdown",
   "metadata": {},
   "source": [
    "# introduce\n",
    "- The private API is mostly used for trading and for accessing account-specific private data, therefore it requires authentication. You have to get the private API keys from the exchanges.\n",
    "- private_api负责访问用户的私有数据，需要提供apikey "
   ]
  },
  {
   "cell_type": "code",
   "execution_count": 1,
   "metadata": {},
   "outputs": [
    {
     "data": {
      "text/plain": [
       "ccxt.binance()"
      ]
     },
     "execution_count": 1,
     "metadata": {},
     "output_type": "execute_result"
    }
   ],
   "source": [
    "import ccxt\n",
    "\n",
    "key = {\n",
    "    \"apiKey\": \"\",\n",
    "    \"secret\": \"\",\n",
    "}\n",
    "\n",
    "exchange_ins = ccxt.binance(key)\n",
    "exchange_ins"
   ]
  },
  {
   "cell_type": "markdown",
   "metadata": {},
   "source": [
    "# Authentication"
   ]
  },
  {
   "cell_type": "code",
   "execution_count": 13,
   "metadata": {},
   "outputs": [
    {
     "data": {
      "text/plain": [
       "{'apiKey': True,\n",
       " 'secret': True,\n",
       " 'uid': False,\n",
       " 'accountId': False,\n",
       " 'login': False,\n",
       " 'password': False,\n",
       " 'twofa': False,\n",
       " 'privateKey': False,\n",
       " 'walletAddress': False,\n",
       " 'token': False}"
      ]
     },
     "execution_count": 13,
     "metadata": {},
     "output_type": "execute_result"
    }
   ],
   "source": [
    "# 列出交易所认证所需的凭证\n",
    "exchange_ins.requiredCredentials"
   ]
  },
  {
   "cell_type": "markdown",
   "metadata": {},
   "source": [
    "# balance\n",
    "账户余额\n"
   ]
  },
  {
   "cell_type": "code",
   "execution_count": null,
   "metadata": {},
   "outputs": [],
   "source": [
    "exchange_ins.fetch_balance()"
   ]
  },
  {
   "cell_type": "markdown",
   "metadata": {},
   "source": [
    "# Trading Fee\n",
    "\n",
    "交易费率\n"
   ]
  },
  {
   "cell_type": "code",
   "execution_count": null,
   "metadata": {},
   "outputs": [],
   "source": [
    "fee = exchange_ins.fetch_trading_fees()\n",
    "fee[\"BTC/USDT\"]"
   ]
  },
  {
   "cell_type": "markdown",
   "metadata": {},
   "source": [
    "# balance\n"
   ]
  },
  {
   "cell_type": "code",
   "execution_count": null,
   "metadata": {},
   "outputs": [],
   "source": [
    "balances = exchange_ins.fetch_balance()"
   ]
  },
  {
   "cell_type": "code",
   "execution_count": null,
   "metadata": {},
   "outputs": [],
   "source": [
    "for k, v in balances.items():\n",
    "    print(k)"
   ]
  },
  {
   "cell_type": "code",
   "execution_count": null,
   "metadata": {},
   "outputs": [],
   "source": [
    "# 已用币\n",
    "balances.get(\"used\")\n",
    "# 可用币\n",
    "balances.get(\"free\")"
   ]
  },
  {
   "cell_type": "code",
   "execution_count": null,
   "metadata": {},
   "outputs": [],
   "source": [
    "# 总计可用币\n",
    "balances.get(\"total\")"
   ]
  },
  {
   "cell_type": "code",
   "execution_count": null,
   "metadata": {},
   "outputs": [],
   "source": [
    "# 具体币的🈷\n",
    "balances.get(\"ZRO\")"
   ]
  },
  {
   "cell_type": "markdown",
   "metadata": {},
   "source": [
    "# position"
   ]
  },
  {
   "cell_type": "code",
   "execution_count": null,
   "metadata": {},
   "outputs": [],
   "source": [
    "positions = exchange_ins.fetch_positions()\n",
    "\n",
    "print(type(positions))\n",
    "positions"
   ]
  },
  {
   "cell_type": "markdown",
   "metadata": {},
   "source": [
    "## format"
   ]
  },
  {
   "cell_type": "code",
   "execution_count": null,
   "metadata": {},
   "outputs": [],
   "source": [
    "import pandas as pd\n",
    "\n",
    "data:list[dict]=[]\n",
    "for position in positions:\n",
    "    print(position[\"percentage\"])\n",
    "    info=position[\"info\"]\n",
    "    dat = {\n",
    "        \"Symbol\": info[\"symbol\"],\n",
    "        \"entryPrice\": info[\"entryPrice\"],\n",
    "        \"markPrice\": info[\"markPrice\"],\n",
    "        \"profit\": info[\"unRealizedProfit\"],\n",
    "        \"percentage\": 89,\n",
    "    }\n",
    "    data.append(dat)\n",
    "dt=pd.DataFrame(data=data,columns=[\"Symbol\", \"entryPrice\", \"markPrice\", \"profit\", \"percentage\"])\n",
    "dt"
   ]
  },
  {
   "cell_type": "markdown",
   "metadata": {},
   "source": [
    "# trade\n"
   ]
  },
  {
   "cell_type": "markdown",
   "metadata": {},
   "source": [
    "## fetch_my_trades\n"
   ]
  },
  {
   "cell_type": "code",
   "execution_count": null,
   "metadata": {},
   "outputs": [],
   "source": [
    "exchange_ins.fetch_my_trades(symbol=\"ZRO/USDT:USDT\",limit=1)\n"
   ]
  },
  {
   "cell_type": "markdown",
   "metadata": {},
   "source": [
    "# order"
   ]
  },
  {
   "cell_type": "markdown",
   "metadata": {},
   "source": [
    "## query"
   ]
  },
  {
   "cell_type": "markdown",
   "metadata": {},
   "source": [
    "### fetch_orders\n"
   ]
  },
  {
   "cell_type": "code",
   "execution_count": null,
   "metadata": {},
   "outputs": [],
   "source": [
    "orders = exchange_ins.fetch_orders(symbol=\"ZRO/USDT:USDT\")\n",
    "print(type(orders))\n",
    "print(len(orders))"
   ]
  },
  {
   "cell_type": "code",
   "execution_count": null,
   "metadata": {},
   "outputs": [],
   "source": [
    "from datetime import datetime, timedelta\n",
    "\n",
    "\n",
    "t=datetime.now()- timedelta(days=1)\n",
    "since = since_ms = int((t.timestamp()) * 1000)\n",
    "orders = exchange_ins.fetch_orders(symbol=\"ZRO/USDT:USDT\",since=since)\n",
    "orders"
   ]
  },
  {
   "cell_type": "markdown",
   "metadata": {},
   "source": [
    "### fetch_order\n"
   ]
  },
  {
   "cell_type": "code",
   "execution_count": null,
   "metadata": {},
   "outputs": [],
   "source": [
    "exchange_ins.fetch_order(\"967743418\", \"ZRO/USDT:USDT\")"
   ]
  },
  {
   "cell_type": "markdown",
   "metadata": {},
   "source": [
    "### fetch open orders"
   ]
  },
  {
   "cell_type": "code",
   "execution_count": 17,
   "metadata": {},
   "outputs": [
    {
     "data": {
      "text/plain": [
       "[]"
      ]
     },
     "execution_count": 17,
     "metadata": {},
     "output_type": "execute_result"
    }
   ],
   "source": [
    "exchange_ins.fetch_open_orders(symbol=\"ZRO/USDT:USDT\", limit=1)"
   ]
  },
  {
   "cell_type": "markdown",
   "metadata": {},
   "source": [
    "### fetch closed orders"
   ]
  },
  {
   "cell_type": "code",
   "execution_count": null,
   "metadata": {},
   "outputs": [],
   "source": [
    "exchange_ins.fetch_closed_orders(symbol=\"ZRO/USDT:USDT\", limit=1)"
   ]
  },
  {
   "cell_type": "markdown",
   "metadata": {},
   "source": [
    "### fetch canceled orders"
   ]
  },
  {
   "cell_type": "code",
   "execution_count": null,
   "metadata": {},
   "outputs": [],
   "source": [
    "exchange_ins.fetch_canceled_orders(symbol=\"ZRO/USDT:USDT\", limit=1)"
   ]
  },
  {
   "cell_type": "markdown",
   "metadata": {},
   "source": [
    "## operate"
   ]
  },
  {
   "cell_type": "markdown",
   "metadata": {},
   "source": [
    "### create order\n"
   ]
  },
  {
   "cell_type": "code",
   "execution_count": null,
   "metadata": {},
   "outputs": [],
   "source": [
    "# amount 不是USDT,而是pair本身\n",
    "exchange_ins.create_order(symbol=\"ZRO/USDT:USDT\", type=\"limit\",price=3.0, side=\"buy\", amount=5.0)"
   ]
  },
  {
   "cell_type": "code",
   "execution_count": null,
   "metadata": {},
   "outputs": [],
   "source": [
    "exchange_ins.create_limit_sell_order(\n",
    "    symbol=\"ZRO/USDT:USDT\", price=3.0, amount=5.0\n",
    ")"
   ]
  },
  {
   "cell_type": "code",
   "execution_count": null,
   "metadata": {},
   "outputs": [],
   "source": [
    "exchange_ins.create_market_buy_order(\n",
    "    symbol=\"ZRO/USDT:USDT\", amount=5.0\n",
    ")"
   ]
  },
  {
   "cell_type": "code",
   "execution_count": null,
   "metadata": {},
   "outputs": [],
   "source": [
    "# this‘s wrap function of create_order\n",
    "exchange_ins.create_market_buy_order(symbol=\"ZRO/USDT:USDT\", amount=5.0)"
   ]
  },
  {
   "cell_type": "markdown",
   "metadata": {},
   "source": [
    "### cancel_order"
   ]
  },
  {
   "cell_type": "code",
   "execution_count": null,
   "metadata": {},
   "outputs": [],
   "source": [
    "exchange_ins.cancel_order(id=\"\",symbol=\"ZRO/USDT:USDT\")"
   ]
  },
  {
   "cell_type": "markdown",
   "metadata": {},
   "source": [
    "### cancel_all_orders"
   ]
  },
  {
   "cell_type": "code",
   "execution_count": 27,
   "metadata": {},
   "outputs": [
    {
     "data": {
      "text/plain": [
       "[{'info': {'code': '200',\n",
       "   'msg': 'The operation of cancel all open order is done.'},\n",
       "  'fees': [],\n",
       "  'id': None,\n",
       "  'clientOrderId': None,\n",
       "  'timestamp': None,\n",
       "  'datetime': None,\n",
       "  'symbol': None,\n",
       "  'type': None,\n",
       "  'side': None,\n",
       "  'lastTradeTimestamp': None,\n",
       "  'lastUpdateTimestamp': None,\n",
       "  'price': None,\n",
       "  'amount': None,\n",
       "  'cost': None,\n",
       "  'average': None,\n",
       "  'filled': None,\n",
       "  'remaining': None,\n",
       "  'timeInForce': None,\n",
       "  'postOnly': None,\n",
       "  'trades': [],\n",
       "  'reduceOnly': None,\n",
       "  'stopPrice': None,\n",
       "  'triggerPrice': None,\n",
       "  'takeProfitPrice': None,\n",
       "  'stopLossPrice': None,\n",
       "  'status': None,\n",
       "  'fee': None}]"
      ]
     },
     "execution_count": 27,
     "metadata": {},
     "output_type": "execute_result"
    }
   ],
   "source": [
    "exchange_ins.cancel_all_orders(symbol=\"ZRO/USDT:USDT\")"
   ]
  },
  {
   "cell_type": "markdown",
   "metadata": {},
   "source": [
    "## trigger order\n",
    "- 自动触发\n",
    "- 止盈/止损"
   ]
  },
  {
   "cell_type": "code",
   "execution_count": null,
   "metadata": {},
   "outputs": [],
   "source": []
  },
  {
   "cell_type": "markdown",
   "metadata": {},
   "source": [
    "# Borrow Rates\n",
    "获取借贷利率\n",
    "- margin only\n",
    "\n"
   ]
  },
  {
   "cell_type": "code",
   "execution_count": 2,
   "metadata": {},
   "outputs": [
    {
     "data": {
      "text/plain": [
       "{'currency': 'USDT',\n",
       " 'rate': 0.00017404,\n",
       " 'period': 86400000,\n",
       " 'timestamp': 1723420800000,\n",
       " 'datetime': '2024-08-12T00:00:00.000Z',\n",
       " 'info': {'asset': 'USDT',\n",
       "  'timestamp': '1723420800000',\n",
       "  'dailyInterestRate': '0.00017404',\n",
       "  'vipLevel': '0'}}"
      ]
     },
     "execution_count": 2,
     "metadata": {},
     "output_type": "execute_result"
    }
   ],
   "source": [
    "exchange_ins.fetch_cross_borrow_rate(code=\"USDT\")"
   ]
  },
  {
   "cell_type": "code",
   "execution_count": 5,
   "metadata": {},
   "outputs": [
    {
     "data": {
      "text/plain": [
       "{'info': {'symbol': 'ZROUSDT',\n",
       "  'vipLevel': '0',\n",
       "  'leverage': '5',\n",
       "  'data': [{'coin': 'ZRO',\n",
       "    'dailyInterest': '0.00057661',\n",
       "    'borrowLimit': '700'},\n",
       "   {'coin': 'USDT', 'dailyInterest': '0.00017404', 'borrowLimit': '3000'}]},\n",
       " 'symbol': 'ZRO/USDT',\n",
       " 'base': 'ZRO',\n",
       " 'baseRate': 0.00057661,\n",
       " 'quote': 'USDT',\n",
       " 'quoteRate': 0.00017404,\n",
       " 'period': 86400000,\n",
       " 'timestamp': None,\n",
       " 'datetime': None}"
      ]
     },
     "execution_count": 5,
     "metadata": {},
     "output_type": "execute_result"
    }
   ],
   "source": [
    "exchange_ins.fetch_isolated_borrow_rate(symbol=\"ZRO/USDT\")"
   ]
  },
  {
   "cell_type": "markdown",
   "metadata": {},
   "source": [
    "# Leverage Tiers\n",
    "\n",
    "获取不同仓位规模的市场的最大杠杆"
   ]
  },
  {
   "cell_type": "code",
   "execution_count": null,
   "metadata": {},
   "outputs": [],
   "source": [
    "exchange_ins.fetch_market_leverage_tiers(symbol=\"ZRO/USDT:USDT\")"
   ]
  },
  {
   "cell_type": "markdown",
   "metadata": {},
   "source": [
    "# Funding Rate\n",
    "合约资金费率"
   ]
  },
  {
   "cell_type": "code",
   "execution_count": 10,
   "metadata": {},
   "outputs": [
    {
     "data": {
      "text/plain": [
       "{'info': {'symbol': 'ZROUSDT',\n",
       "  'markPrice': '3.22700000',\n",
       "  'indexPrice': '3.22798802',\n",
       "  'estimatedSettlePrice': '3.23389773',\n",
       "  'lastFundingRate': '-0.00005617',\n",
       "  'interestRate': '0.00005000',\n",
       "  'nextFundingTime': '1723449600000',\n",
       "  'time': '1723446347000'},\n",
       " 'symbol': 'ZRO/USDT:USDT',\n",
       " 'markPrice': 3.227,\n",
       " 'indexPrice': 3.22798802,\n",
       " 'interestRate': 5e-05,\n",
       " 'estimatedSettlePrice': 3.23389773,\n",
       " 'timestamp': 1723446347000,\n",
       " 'datetime': '2024-08-12T07:05:47.000Z',\n",
       " 'fundingRate': -5.617e-05,\n",
       " 'fundingTimestamp': 1723449600000,\n",
       " 'fundingDatetime': '2024-08-12T08:00:00.000Z',\n",
       " 'nextFundingRate': None,\n",
       " 'nextFundingTimestamp': None,\n",
       " 'nextFundingDatetime': None,\n",
       " 'previousFundingRate': None,\n",
       " 'previousFundingTimestamp': None,\n",
       " 'previousFundingDatetime': None}"
      ]
     },
     "execution_count": 10,
     "metadata": {},
     "output_type": "execute_result"
    }
   ],
   "source": [
    "exchange_ins.fetch_funding_rate(symbol=\"ZRO/USDT:USDT\")"
   ]
  },
  {
   "cell_type": "code",
   "execution_count": 12,
   "metadata": {},
   "outputs": [
    {
     "data": {
      "text/plain": [
       "[{'info': {'symbol': 'ZROUSDT',\n",
       "   'fundingTime': '1723406400000',\n",
       "   'fundingRate': '0.00005000',\n",
       "   'markPrice': '3.29414916'},\n",
       "  'symbol': 'ZRO/USDT:USDT',\n",
       "  'fundingRate': 5e-05,\n",
       "  'timestamp': 1723406400000,\n",
       "  'datetime': '2024-08-11T20:00:00.000Z'},\n",
       " {'info': {'symbol': 'ZROUSDT',\n",
       "   'fundingTime': '1723420800000',\n",
       "   'fundingRate': '-0.00000856',\n",
       "   'markPrice': '3.25100000'},\n",
       "  'symbol': 'ZRO/USDT:USDT',\n",
       "  'fundingRate': -8.56e-06,\n",
       "  'timestamp': 1723420800000,\n",
       "  'datetime': '2024-08-12T00:00:00.000Z'},\n",
       " {'info': {'symbol': 'ZROUSDT',\n",
       "   'fundingTime': '1723435200000',\n",
       "   'fundingRate': '0.00000517',\n",
       "   'markPrice': '3.26500000'},\n",
       "  'symbol': 'ZRO/USDT:USDT',\n",
       "  'fundingRate': 5.17e-06,\n",
       "  'timestamp': 1723435200000,\n",
       "  'datetime': '2024-08-12T04:00:00.000Z'}]"
      ]
     },
     "execution_count": 12,
     "metadata": {},
     "output_type": "execute_result"
    }
   ],
   "source": [
    "exchange_ins.fetch_funding_rate_history(symbol=\"ZRO/USDT:USDT\",limit=3)"
   ]
  },
  {
   "cell_type": "code",
   "execution_count": null,
   "metadata": {},
   "outputs": [],
   "source": []
  }
 ],
 "metadata": {
  "kernelspec": {
   "display_name": ".venv",
   "language": "python",
   "name": "python3"
  },
  "language_info": {
   "codemirror_mode": {
    "name": "ipython",
    "version": 3
   },
   "file_extension": ".py",
   "mimetype": "text/x-python",
   "name": "python",
   "nbconvert_exporter": "python",
   "pygments_lexer": "ipython3",
   "version": "3.11.8"
  }
 },
 "nbformat": 4,
 "nbformat_minor": 2
}
