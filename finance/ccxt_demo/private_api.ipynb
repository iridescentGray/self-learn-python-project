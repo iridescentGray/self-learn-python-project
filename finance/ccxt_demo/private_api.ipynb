{
 "cells": [
  {
   "cell_type": "markdown",
   "metadata": {},
   "source": [
    "# introduce\n",
    "- The private API is mostly used for trading and for accessing account-specific private data, therefore it requires authentication. You have to get the private API keys from the exchanges.\n",
    "- private_api负责访问用户的私有数据，需要提供apikey "
   ]
  },
  {
   "cell_type": "code",
   "execution_count": 1,
   "metadata": {},
   "outputs": [
    {
     "data": {
      "text/plain": [
       "ccxt.binance()"
      ]
     },
     "execution_count": 1,
     "metadata": {},
     "output_type": "execute_result"
    }
   ],
   "source": [
    "import ccxt\n",
    "\n",
    "key = {\n",
    "    \"apiKey\": \"\",\n",
    "    \"secret\": \"\",\n",
    "}\n",
    "\n",
    "exchange_ins = ccxt.binance(key)\n",
    "exchange_ins"
   ]
  },
  {
   "cell_type": "markdown",
   "metadata": {},
   "source": [
    "# Trading Fee\n",
    "\n",
    "交易费率\n"
   ]
  },
  {
   "cell_type": "code",
   "execution_count": null,
   "metadata": {},
   "outputs": [],
   "source": [
    "fee = exchange_ins.fetch_trading_fees()\n",
    "fee[\"BTC/USDT\"]"
   ]
  },
  {
   "cell_type": "markdown",
   "metadata": {},
   "source": [
    "# balance\n"
   ]
  },
  {
   "cell_type": "code",
   "execution_count": null,
   "metadata": {},
   "outputs": [],
   "source": [
    "balances = exchange_ins.fetch_balance()"
   ]
  },
  {
   "cell_type": "code",
   "execution_count": null,
   "metadata": {},
   "outputs": [],
   "source": [
    "for k, v in balances.items():\n",
    "    print(k)"
   ]
  },
  {
   "cell_type": "code",
   "execution_count": null,
   "metadata": {},
   "outputs": [],
   "source": [
    "# 已用币\n",
    "balances.get(\"used\")\n",
    "# 可用币\n",
    "balances.get(\"free\")"
   ]
  },
  {
   "cell_type": "code",
   "execution_count": null,
   "metadata": {},
   "outputs": [],
   "source": [
    "# 总计可用币\n",
    "balances.get(\"total\")"
   ]
  },
  {
   "cell_type": "code",
   "execution_count": null,
   "metadata": {},
   "outputs": [],
   "source": [
    "# 具体币的🈷\n",
    "balances.get(\"ZRO\")"
   ]
  },
  {
   "cell_type": "markdown",
   "metadata": {},
   "source": [
    "# position"
   ]
  },
  {
   "cell_type": "code",
   "execution_count": 5,
   "metadata": {},
   "outputs": [
    {
     "name": "stdout",
     "output_type": "stream",
     "text": [
      "<class 'list'>\n"
     ]
    },
    {
     "data": {
      "text/plain": [
       "[{'info': {'symbol': 'ZROUSDT',\n",
       "   'positionAmt': '1928.3',\n",
       "   'entryPrice': '3.63',\n",
       "   'breakEvenPrice': '3.630726',\n",
       "   'markPrice': '3.10600000',\n",
       "   'unRealizedProfit': '-1010.42920000',\n",
       "   'liquidationPrice': '0',\n",
       "   'leverage': '1',\n",
       "   'maxNotionalValue': '1.0E7',\n",
       "   'marginType': 'cross',\n",
       "   'isolatedMargin': '0.00000000',\n",
       "   'isAutoAddMargin': 'false',\n",
       "   'positionSide': 'BOTH',\n",
       "   'notional': '5989.29980000',\n",
       "   'isolatedWallet': '0',\n",
       "   'updateTime': '1722701753839',\n",
       "   'isolated': False,\n",
       "   'adlQuantile': '1'},\n",
       "  'id': None,\n",
       "  'symbol': 'ZRO/USDT:USDT',\n",
       "  'contracts': 1928.3,\n",
       "  'contractSize': 1.0,\n",
       "  'unrealizedPnl': -1010.4292,\n",
       "  'leverage': 1.0,\n",
       "  'liquidationPrice': None,\n",
       "  'collateral': 6999.729,\n",
       "  'notional': 5989.2998,\n",
       "  'markPrice': 3.106,\n",
       "  'entryPrice': 3.63,\n",
       "  'timestamp': 1722701753839,\n",
       "  'initialMargin': 5989.2998,\n",
       "  'initialMarginPercentage': 1.0,\n",
       "  'maintenanceMargin': 119.785996,\n",
       "  'maintenanceMarginPercentage': 0.02,\n",
       "  'marginRatio': 0.0171,\n",
       "  'datetime': '2024-08-03T16:15:53.839Z',\n",
       "  'marginMode': 'cross',\n",
       "  'marginType': 'cross',\n",
       "  'side': 'long',\n",
       "  'hedged': False,\n",
       "  'percentage': -16.87,\n",
       "  'stopLossPrice': None,\n",
       "  'takeProfitPrice': None}]"
      ]
     },
     "execution_count": 5,
     "metadata": {},
     "output_type": "execute_result"
    }
   ],
   "source": [
    "positions = exchange_ins.fetch_positions()\n",
    "\n",
    "print(type(positions))\n",
    "positions"
   ]
  },
  {
   "cell_type": "markdown",
   "metadata": {},
   "source": [
    "## format"
   ]
  },
  {
   "cell_type": "code",
   "execution_count": null,
   "metadata": {},
   "outputs": [],
   "source": [
    "import pandas as pd\n",
    "\n",
    "data:list[dict]=[]\n",
    "for position in positions:\n",
    "    print(position[\"percentage\"])\n",
    "    info=position[\"info\"]\n",
    "    dat = {\n",
    "        \"Symbol\": info[\"symbol\"],\n",
    "        \"entryPrice\": info[\"entryPrice\"],\n",
    "        \"markPrice\": info[\"markPrice\"],\n",
    "        \"profit\": info[\"unRealizedProfit\"],\n",
    "        \"percentage\": 89,\n",
    "    }\n",
    "    data.append(dat)\n",
    "dt=pd.DataFrame(data=data,columns=[\"Symbol\", \"entryPrice\", \"markPrice\", \"profit\", \"percentage\"])\n",
    "dt"
   ]
  },
  {
   "cell_type": "markdown",
   "metadata": {},
   "source": [
    "# order\n"
   ]
  },
  {
   "cell_type": "markdown",
   "metadata": {},
   "source": [
    "## fetch_orders\n"
   ]
  },
  {
   "cell_type": "code",
   "execution_count": null,
   "metadata": {},
   "outputs": [],
   "source": [
    "orders = exchange_ins.fetch_orders(symbol=\"ZRO/USDT:USDT\")\n",
    "print(type(orders))\n",
    "print(len(orders))"
   ]
  },
  {
   "cell_type": "code",
   "execution_count": 9,
   "metadata": {},
   "outputs": [
    {
     "data": {
      "text/plain": [
       "[{'info': {'orderId': '962889246',\n",
       "   'symbol': 'ZROUSDT',\n",
       "   'status': 'FILLED',\n",
       "   'clientOrderId': 'ios_MX6KPRwthrBpjcfgw1sA',\n",
       "   'price': '0',\n",
       "   'avgPrice': '3.27033102',\n",
       "   'origQty': '1928.3',\n",
       "   'executedQty': '1928.3',\n",
       "   'cumQuote': '6306.17930000',\n",
       "   'timeInForce': 'GTC',\n",
       "   'type': 'MARKET',\n",
       "   'reduceOnly': True,\n",
       "   'closePosition': False,\n",
       "   'side': 'SELL',\n",
       "   'positionSide': 'BOTH',\n",
       "   'stopPrice': '3.2700000',\n",
       "   'workingType': 'MARK_PRICE',\n",
       "   'priceMatch': 'NONE',\n",
       "   'selfTradePreventionMode': 'NONE',\n",
       "   'goodTillDate': '0',\n",
       "   'priceProtect': True,\n",
       "   'origType': 'STOP_MARKET',\n",
       "   'time': '1723129612065',\n",
       "   'updateTime': '1723129856029'},\n",
       "  'id': '962889246',\n",
       "  'clientOrderId': 'ios_MX6KPRwthrBpjcfgw1sA',\n",
       "  'timestamp': 1723129612065,\n",
       "  'datetime': '2024-08-08T15:06:52.065Z',\n",
       "  'lastTradeTimestamp': 1723129856029,\n",
       "  'lastUpdateTimestamp': 1723129856029,\n",
       "  'symbol': 'ZRO/USDT:USDT',\n",
       "  'type': 'market',\n",
       "  'timeInForce': 'GTC',\n",
       "  'postOnly': False,\n",
       "  'reduceOnly': True,\n",
       "  'side': 'sell',\n",
       "  'price': 3.27033102,\n",
       "  'triggerPrice': 3.27,\n",
       "  'amount': 1928.3,\n",
       "  'cost': 6306.1793,\n",
       "  'average': 3.27033102,\n",
       "  'filled': 1928.3,\n",
       "  'remaining': 0.0,\n",
       "  'status': 'closed',\n",
       "  'fee': None,\n",
       "  'trades': [],\n",
       "  'fees': [],\n",
       "  'stopPrice': 3.27,\n",
       "  'takeProfitPrice': None,\n",
       "  'stopLossPrice': None},\n",
       " {'info': {'orderId': '963802661',\n",
       "   'symbol': 'ZROUSDT',\n",
       "   'status': 'CANCELED',\n",
       "   'clientOrderId': 'ios_st_vXVDfDWwEU0VIfX',\n",
       "   'price': '2.9700000',\n",
       "   'avgPrice': '0.00000000',\n",
       "   'origQty': '2188.5',\n",
       "   'executedQty': '0',\n",
       "   'cumQuote': '0',\n",
       "   'timeInForce': 'GTC',\n",
       "   'type': 'LIMIT',\n",
       "   'reduceOnly': False,\n",
       "   'closePosition': False,\n",
       "   'side': 'BUY',\n",
       "   'positionSide': 'BOTH',\n",
       "   'stopPrice': '0',\n",
       "   'workingType': 'CONTRACT_PRICE',\n",
       "   'priceMatch': 'NONE',\n",
       "   'selfTradePreventionMode': 'NONE',\n",
       "   'goodTillDate': '0',\n",
       "   'priceProtect': False,\n",
       "   'origType': 'LIMIT',\n",
       "   'time': '1723135736883',\n",
       "   'updateTime': '1723162359657'},\n",
       "  'id': '963802661',\n",
       "  'clientOrderId': 'ios_st_vXVDfDWwEU0VIfX',\n",
       "  'timestamp': 1723135736883,\n",
       "  'datetime': '2024-08-08T16:48:56.883Z',\n",
       "  'lastTradeTimestamp': None,\n",
       "  'lastUpdateTimestamp': 1723162359657,\n",
       "  'symbol': 'ZRO/USDT:USDT',\n",
       "  'type': 'limit',\n",
       "  'timeInForce': 'GTC',\n",
       "  'postOnly': False,\n",
       "  'reduceOnly': False,\n",
       "  'side': 'buy',\n",
       "  'price': 2.97,\n",
       "  'triggerPrice': None,\n",
       "  'amount': 2188.5,\n",
       "  'cost': 0.0,\n",
       "  'average': None,\n",
       "  'filled': 0.0,\n",
       "  'remaining': 2188.5,\n",
       "  'status': 'canceled',\n",
       "  'fee': None,\n",
       "  'trades': [],\n",
       "  'fees': [],\n",
       "  'stopPrice': None,\n",
       "  'takeProfitPrice': None,\n",
       "  'stopLossPrice': None},\n",
       " {'info': {'orderId': '967736133',\n",
       "   'symbol': 'ZROUSDT',\n",
       "   'status': 'FILLED',\n",
       "   'clientOrderId': 'ios_bnCFo8tTAuykh8f5wcka',\n",
       "   'price': '0',\n",
       "   'avgPrice': '3.47462371',\n",
       "   'origQty': '1438.8',\n",
       "   'executedQty': '1438.8',\n",
       "   'cumQuote': '4999.28860000',\n",
       "   'timeInForce': 'GTC',\n",
       "   'type': 'MARKET',\n",
       "   'reduceOnly': False,\n",
       "   'closePosition': False,\n",
       "   'side': 'SELL',\n",
       "   'positionSide': 'BOTH',\n",
       "   'stopPrice': '0',\n",
       "   'workingType': 'CONTRACT_PRICE',\n",
       "   'priceMatch': 'NONE',\n",
       "   'selfTradePreventionMode': 'NONE',\n",
       "   'goodTillDate': '0',\n",
       "   'priceProtect': False,\n",
       "   'origType': 'MARKET',\n",
       "   'time': '1723179819858',\n",
       "   'updateTime': '1723179819858'},\n",
       "  'id': '967736133',\n",
       "  'clientOrderId': 'ios_bnCFo8tTAuykh8f5wcka',\n",
       "  'timestamp': 1723179819858,\n",
       "  'datetime': '2024-08-09T05:03:39.858Z',\n",
       "  'lastTradeTimestamp': 1723179819858,\n",
       "  'lastUpdateTimestamp': 1723179819858,\n",
       "  'symbol': 'ZRO/USDT:USDT',\n",
       "  'type': 'market',\n",
       "  'timeInForce': 'GTC',\n",
       "  'postOnly': False,\n",
       "  'reduceOnly': False,\n",
       "  'side': 'sell',\n",
       "  'price': 3.47462371,\n",
       "  'triggerPrice': None,\n",
       "  'amount': 1438.8,\n",
       "  'cost': 4999.2886,\n",
       "  'average': 3.47462371,\n",
       "  'filled': 1438.8,\n",
       "  'remaining': 0.0,\n",
       "  'status': 'closed',\n",
       "  'fee': None,\n",
       "  'trades': [],\n",
       "  'fees': [],\n",
       "  'stopPrice': None,\n",
       "  'takeProfitPrice': None,\n",
       "  'stopLossPrice': None},\n",
       " {'info': {'orderId': '967743418',\n",
       "   'symbol': 'ZROUSDT',\n",
       "   'status': 'NEW',\n",
       "   'clientOrderId': 'ios_V3r1qVtqX3nkAv1os0Pb',\n",
       "   'price': '0',\n",
       "   'avgPrice': '0.00000000',\n",
       "   'origQty': '1438.8',\n",
       "   'executedQty': '0',\n",
       "   'cumQuote': '0',\n",
       "   'timeInForce': 'GTE_GTC',\n",
       "   'type': 'STOP_MARKET',\n",
       "   'reduceOnly': True,\n",
       "   'closePosition': False,\n",
       "   'side': 'BUY',\n",
       "   'positionSide': 'BOTH',\n",
       "   'stopPrice': '3.5500000',\n",
       "   'workingType': 'MARK_PRICE',\n",
       "   'priceMatch': 'NONE',\n",
       "   'selfTradePreventionMode': 'NONE',\n",
       "   'goodTillDate': '0',\n",
       "   'priceProtect': True,\n",
       "   'origType': 'STOP_MARKET',\n",
       "   'time': '1723179873939',\n",
       "   'updateTime': '1723179873939'},\n",
       "  'id': '967743418',\n",
       "  'clientOrderId': 'ios_V3r1qVtqX3nkAv1os0Pb',\n",
       "  'timestamp': 1723179873939,\n",
       "  'datetime': '2024-08-09T05:04:33.939Z',\n",
       "  'lastTradeTimestamp': None,\n",
       "  'lastUpdateTimestamp': 1723179873939,\n",
       "  'symbol': 'ZRO/USDT:USDT',\n",
       "  'type': 'stop_market',\n",
       "  'timeInForce': 'GTE_GTC',\n",
       "  'postOnly': False,\n",
       "  'reduceOnly': True,\n",
       "  'side': 'buy',\n",
       "  'price': None,\n",
       "  'triggerPrice': 3.55,\n",
       "  'amount': 1438.8,\n",
       "  'cost': 0.0,\n",
       "  'average': None,\n",
       "  'filled': 0.0,\n",
       "  'remaining': 1438.8,\n",
       "  'status': 'open',\n",
       "  'fee': None,\n",
       "  'trades': [],\n",
       "  'fees': [],\n",
       "  'stopPrice': 3.55,\n",
       "  'takeProfitPrice': None,\n",
       "  'stopLossPrice': None}]"
      ]
     },
     "execution_count": 9,
     "metadata": {},
     "output_type": "execute_result"
    }
   ],
   "source": [
    "from datetime import datetime, timedelta\n",
    "\n",
    "\n",
    "t=datetime.now()- timedelta(days=1)\n",
    "since = since_ms = int((t.timestamp()) * 1000)\n",
    "orders = exchange_ins.fetch_orders(symbol=\"ZRO/USDT:USDT\",since=since)\n",
    "orders"
   ]
  },
  {
   "cell_type": "markdown",
   "metadata": {},
   "source": [
    "## fetch_order\n"
   ]
  },
  {
   "cell_type": "code",
   "execution_count": 7,
   "metadata": {},
   "outputs": [
    {
     "data": {
      "text/plain": [
       "{'info': {'orderId': '967743418',\n",
       "  'symbol': 'ZROUSDT',\n",
       "  'status': 'NEW',\n",
       "  'clientOrderId': 'ios_V3r1qVtqX3nkAv1os0Pb',\n",
       "  'price': '0.0000000',\n",
       "  'avgPrice': '0.00',\n",
       "  'origQty': '1438.8',\n",
       "  'executedQty': '0.0',\n",
       "  'cumQuote': '0.00000000',\n",
       "  'timeInForce': 'GTE_GTC',\n",
       "  'type': 'STOP_MARKET',\n",
       "  'reduceOnly': True,\n",
       "  'closePosition': False,\n",
       "  'side': 'BUY',\n",
       "  'positionSide': 'BOTH',\n",
       "  'stopPrice': '3.5500000',\n",
       "  'workingType': 'MARK_PRICE',\n",
       "  'priceProtect': True,\n",
       "  'origType': 'STOP_MARKET',\n",
       "  'priceMatch': 'NONE',\n",
       "  'selfTradePreventionMode': 'NONE',\n",
       "  'goodTillDate': '0',\n",
       "  'time': '1723179873939',\n",
       "  'updateTime': '1723179873939'},\n",
       " 'id': '967743418',\n",
       " 'clientOrderId': 'ios_V3r1qVtqX3nkAv1os0Pb',\n",
       " 'timestamp': 1723179873939,\n",
       " 'datetime': '2024-08-09T05:04:33.939Z',\n",
       " 'lastTradeTimestamp': None,\n",
       " 'lastUpdateTimestamp': 1723179873939,\n",
       " 'symbol': 'ZRO/USDT:USDT',\n",
       " 'type': 'stop_market',\n",
       " 'timeInForce': 'GTE_GTC',\n",
       " 'postOnly': False,\n",
       " 'reduceOnly': True,\n",
       " 'side': 'buy',\n",
       " 'price': None,\n",
       " 'triggerPrice': 3.55,\n",
       " 'amount': 1438.8,\n",
       " 'cost': 0.0,\n",
       " 'average': None,\n",
       " 'filled': 0.0,\n",
       " 'remaining': 1438.8,\n",
       " 'status': 'open',\n",
       " 'fee': None,\n",
       " 'trades': [],\n",
       " 'fees': [],\n",
       " 'stopPrice': 3.55,\n",
       " 'takeProfitPrice': None,\n",
       " 'stopLossPrice': None}"
      ]
     },
     "execution_count": 7,
     "metadata": {},
     "output_type": "execute_result"
    }
   ],
   "source": [
    "exchange_ins.fetch_order(\"967743418\", \"ZRO/USDT:USDT\")"
   ]
  },
  {
   "cell_type": "markdown",
   "metadata": {},
   "source": [
    "## create order\n"
   ]
  },
  {
   "cell_type": "code",
   "execution_count": null,
   "metadata": {},
   "outputs": [],
   "source": [
    "# amount 不是USDT,而是pair本身\n",
    "# exchange_ins.create_order(symbol=\"ZRO/USDT:USDT\", type=\"market\", side=\"buy\", amount=1.0)"
   ]
  },
  {
   "cell_type": "code",
   "execution_count": null,
   "metadata": {},
   "outputs": [],
   "source": [
    "# this‘s wrap function of create_order\n",
    "# exchange_ins.create_market_buy_order(symbol=\"ZRO/USDT:USDT\", amount=1.0)"
   ]
  }
 ],
 "metadata": {
  "kernelspec": {
   "display_name": ".venv",
   "language": "python",
   "name": "python3"
  },
  "language_info": {
   "codemirror_mode": {
    "name": "ipython",
    "version": 3
   },
   "file_extension": ".py",
   "mimetype": "text/x-python",
   "name": "python",
   "nbconvert_exporter": "python",
   "pygments_lexer": "ipython3",
   "version": "3.11.8"
  }
 },
 "nbformat": 4,
 "nbformat_minor": 2
}
