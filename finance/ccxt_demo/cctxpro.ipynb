{
 "cells": [
  {
   "cell_type": "markdown",
   "metadata": {},
   "source": [
    "在 CCXT Pro 中，每个具有 fetch* 前缀的RESTful 方法都有watch* 开头的的流式对应方法，如下所示：\n",
    "\n",
    "Public API 公共API\n",
    "* fetchStatus → watchStatus\n",
    "* fetchOrderBook → watchOrderBook\n",
    "* fetchTicker → watchTicker\n",
    "* fetchTickers → watchTickers\n",
    "* fetchOHLCV → watchOHLCV\n",
    "* fetchTrades → watchTrades\n",
    "\n",
    "Private API 私有API\n",
    "* fetchBalance → watchBalance\n",
    "* fetchOrders → watchOrders (notice the watch prefix)\n",
    "* fetchMyTrades → watchMyTrades\n",
    "* fetchPositions → watchPositions\n",
    "* fetchLiquidations → watchLiquidations\n",
    "* fetchFundingRates → watchFundingRates\n",
    "* createOrder → createOrderWs\n",
    "* editOrder → editOrderWs\n",
    "* cancelOrder → cancelOrderWs\n",
    "* cancelOrders → cancelOrdersWs\n",
    "* cancelAllOrders → cancelAllOrdersWs"
   ]
  },
  {
   "cell_type": "code",
   "execution_count": null,
   "metadata": {},
   "outputs": [],
   "source": [
    "import ccxt.pro as ccxtpro\n",
    "\n",
    "\n",
    "async def main():\n",
    "    exchange = ccxtpro.kraken({\"newUpdates\": False})\n",
    "    while True:\n",
    "        orderbook = await exchange.watch_order_book(\"BTC/USD\")\n",
    "        print(orderbook[\"asks\"][0], orderbook[\"bids\"][0])\n",
    "    await exchange.close()\n",
    "\n",
    "\n",
    "await main()"
   ]
  }
 ],
 "metadata": {
  "kernelspec": {
   "display_name": ".venv",
   "language": "python",
   "name": "python3"
  },
  "language_info": {
   "codemirror_mode": {
    "name": "ipython",
    "version": 3
   },
   "file_extension": ".py",
   "mimetype": "text/x-python",
   "name": "python",
   "nbconvert_exporter": "python",
   "pygments_lexer": "ipython3",
   "version": "3.11.8"
  }
 },
 "nbformat": 4,
 "nbformat_minor": 2
}
