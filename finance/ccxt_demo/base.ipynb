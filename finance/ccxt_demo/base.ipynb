{
 "cells": [
  {
   "cell_type": "markdown",
   "metadata": {},
   "source": [
    "# Package Info\n"
   ]
  },
  {
   "cell_type": "code",
   "execution_count": 19,
   "metadata": {},
   "outputs": [],
   "source": [
    "import ccxt\n",
    "import ccxt.pro as ccxtpro"
   ]
  },
  {
   "cell_type": "code",
   "execution_count": 3,
   "metadata": {},
   "outputs": [
    {
     "data": {
      "text/plain": [
       "'4.3.40'"
      ]
     },
     "execution_count": 3,
     "metadata": {},
     "output_type": "execute_result"
    }
   ],
   "source": [
    "ccxt.__version__"
   ]
  },
  {
   "cell_type": "code",
   "execution_count": 3,
   "metadata": {},
   "outputs": [
    {
     "data": {
      "text/plain": [
       "'4.3.40'"
      ]
     },
     "execution_count": 3,
     "metadata": {},
     "output_type": "execute_result"
    }
   ],
   "source": [
    "ccxtpro.__version__"
   ]
  },
  {
   "cell_type": "markdown",
   "metadata": {},
   "source": [
    "# Exchange\n"
   ]
  },
  {
   "cell_type": "markdown",
   "metadata": {},
   "source": [
    "## view support exchanges\n"
   ]
  },
  {
   "cell_type": "code",
   "execution_count": 2,
   "metadata": {},
   "outputs": [
    {
     "data": {
      "text/plain": [
       "108"
      ]
     },
     "execution_count": 2,
     "metadata": {},
     "output_type": "execute_result"
    }
   ],
   "source": [
    "len(ccxt.exchanges)"
   ]
  },
  {
   "cell_type": "code",
   "execution_count": 5,
   "metadata": {},
   "outputs": [
    {
     "data": {
      "text/plain": [
       "65"
      ]
     },
     "execution_count": 5,
     "metadata": {},
     "output_type": "execute_result"
    }
   ],
   "source": [
    "len(ccxtpro.exchanges)"
   ]
  },
  {
   "cell_type": "markdown",
   "metadata": {},
   "source": [
    "## create instance\n"
   ]
  },
  {
   "cell_type": "code",
   "execution_count": 3,
   "metadata": {},
   "outputs": [
    {
     "data": {
      "text/plain": [
       "ccxt.binance()"
      ]
     },
     "execution_count": 3,
     "metadata": {},
     "output_type": "execute_result"
    }
   ],
   "source": [
    "exchange_ins = getattr(ccxt, \"binance\")\n",
    "exchange_ins()"
   ]
  },
  {
   "cell_type": "code",
   "execution_count": 6,
   "metadata": {},
   "outputs": [
    {
     "data": {
      "text/plain": [
       "ccxt.binance()"
      ]
     },
     "execution_count": 6,
     "metadata": {},
     "output_type": "execute_result"
    }
   ],
   "source": [
    "exchange_ins = ccxt.binance()\n",
    "exchange_ins"
   ]
  },
  {
   "cell_type": "markdown",
   "metadata": {},
   "source": [
    "## Metadata Overview\n",
    "\n",
    "```json\n",
    "{\n",
    "    'id':   'exchange'                   // lowercase string exchange id\n",
    "    'name': 'Exchange'                   // human-readable string\n",
    "    'countries': [ 'US', 'CN', 'EU' ],   // array of ISO country codes\n",
    "    'urls': {\n",
    "        'api': 'https://api.example.com/data',  // string or dictionary of base API URLs\n",
    "    },\n",
    "    'version':         'v1',             // string ending with digits\n",
    "    'api':             { ... },          // dictionary of api endpoints\n",
    "    'has': {                             // exchange capabilities\n",
    "        'CORS': false,\n",
    "        'cancelOrder': true,\n",
    "        'createDepositAddress': false,\n",
    "        'createOrder': true,\n",
    "    },\n",
    "    'timeframes': {                      // empty if the exchange.has['fetchOHLCV'] !== true\n",
    "        '1m': '1minute',\n",
    "        '1h': '1hour',\n",
    "    },\n",
    "    'timeout':           10000,          // number in milliseconds\n",
    "    'rateLimit':         2000,           // number in milliseconds\n",
    "    'userAgent':        'ccxt/1.1.1 ...' // string, HTTP User-Agent header\n",
    "    'verbose':           false,          // boolean, output error details\n",
    "    'markets':          { ... }          // dictionary of markets/pairs by symbol\n",
    "    'symbols':          [ ... ]          // sorted list of string symbols (traded pairs)\n",
    "    'currencies':       { ... }          // dictionary of currencies by currency code\n",
    "    'markets_by_id':    { ... },         // dictionary of array of dictionaries (markets) by id\n",
    "    'currencies_by_id': { ... },         // dictionary of dictionaries (markets) by id\n",
    "    'apiKey':   'kkk.',  // string public apiKey (ASCII, hex, Base64, ...)\n",
    "    'secret':   'xxx'   // string private secret key\n",
    "    'password': 'ppp',           // string password\n",
    "    'uid':      '123',                // string user id\n",
    "    'options':          { ... },         // exchange-specific options\n",
    "    // ... other properties here ...\n",
    "}\n",
    "```\n"
   ]
  },
  {
   "cell_type": "markdown",
   "metadata": {},
   "source": [
    "### Exchange id\n"
   ]
  },
  {
   "cell_type": "code",
   "execution_count": 7,
   "metadata": {},
   "outputs": [
    {
     "data": {
      "text/plain": [
       "'binance'"
      ]
     },
     "execution_count": 7,
     "metadata": {},
     "output_type": "execute_result"
    }
   ],
   "source": [
    "exchange_ins.id"
   ]
  },
  {
   "cell_type": "markdown",
   "metadata": {},
   "source": [
    "### Api RateLimit\n"
   ]
  },
  {
   "cell_type": "code",
   "execution_count": 8,
   "metadata": {},
   "outputs": [
    {
     "data": {
      "text/plain": [
       "50"
      ]
     },
     "execution_count": 8,
     "metadata": {},
     "output_type": "execute_result"
    }
   ],
   "source": [
    "# https://docs.ccxt.com/#/README?id=rate-limit\n",
    "# The exchange.rateLimit property is set to a safe default which is sub-optimal.\n",
    "exchange_ins.rateLimit"
   ]
  },
  {
   "cell_type": "markdown",
   "metadata": {},
   "source": [
    "### Api url\n"
   ]
  },
  {
   "cell_type": "code",
   "execution_count": 9,
   "metadata": {},
   "outputs": [
    {
     "data": {
      "text/plain": [
       "{'logo': 'https://user-images.githubusercontent.com/1294454/29604020-d5483cdc-87ee-11e7-94c7-d1a8d9169293.jpg',\n",
       " 'test': {'dapiPublic': 'https://testnet.binancefuture.com/dapi/v1',\n",
       "  'dapiPrivate': 'https://testnet.binancefuture.com/dapi/v1',\n",
       "  'dapiPrivateV2': 'https://testnet.binancefuture.com/dapi/v2',\n",
       "  'fapiPublic': 'https://testnet.binancefuture.com/fapi/v1',\n",
       "  'fapiPublicV2': 'https://testnet.binancefuture.com/fapi/v2',\n",
       "  'fapiPrivate': 'https://testnet.binancefuture.com/fapi/v1',\n",
       "  'fapiPrivateV2': 'https://testnet.binancefuture.com/fapi/v2',\n",
       "  'public': 'https://testnet.binance.vision/api/v3',\n",
       "  'private': 'https://testnet.binance.vision/api/v3',\n",
       "  'v1': 'https://testnet.binance.vision/api/v1'},\n",
       " 'api': {'sapi': 'https://api.binance.com/sapi/v1',\n",
       "  'sapiV2': 'https://api.binance.com/sapi/v2',\n",
       "  'sapiV3': 'https://api.binance.com/sapi/v3',\n",
       "  'sapiV4': 'https://api.binance.com/sapi/v4',\n",
       "  'dapiPublic': 'https://dapi.binance.com/dapi/v1',\n",
       "  'dapiPrivate': 'https://dapi.binance.com/dapi/v1',\n",
       "  'eapiPublic': 'https://eapi.binance.com/eapi/v1',\n",
       "  'eapiPrivate': 'https://eapi.binance.com/eapi/v1',\n",
       "  'dapiPrivateV2': 'https://dapi.binance.com/dapi/v2',\n",
       "  'dapiData': 'https://dapi.binance.com/futures/data',\n",
       "  'fapiPublic': 'https://fapi.binance.com/fapi/v1',\n",
       "  'fapiPublicV2': 'https://fapi.binance.com/fapi/v2',\n",
       "  'fapiPrivate': 'https://fapi.binance.com/fapi/v1',\n",
       "  'fapiData': 'https://fapi.binance.com/futures/data',\n",
       "  'fapiPrivateV2': 'https://fapi.binance.com/fapi/v2',\n",
       "  'public': 'https://api.binance.com/api/v3',\n",
       "  'private': 'https://api.binance.com/api/v3',\n",
       "  'v1': 'https://api.binance.com/api/v1',\n",
       "  'papi': 'https://papi.binance.com/papi/v1'},\n",
       " 'www': 'https://www.binance.com',\n",
       " 'referral': {'url': 'https://accounts.binance.com/en/register?ref=D7YA7CLY',\n",
       "  'discount': 0.1},\n",
       " 'doc': ['https://binance-docs.github.io/apidocs/spot/en'],\n",
       " 'api_management': 'https://www.binance.com/en/usercenter/settings/api-management',\n",
       " 'fees': 'https://www.binance.com/en/fee/schedule'}"
      ]
     },
     "execution_count": 9,
     "metadata": {},
     "output_type": "execute_result"
    }
   ],
   "source": [
    "exchange_ins.urls"
   ]
  },
  {
   "cell_type": "markdown",
   "metadata": {},
   "source": [
    "### has\n",
    "\n",
    "An assoc-array containing flags for exchange capabilities\n"
   ]
  },
  {
   "cell_type": "code",
   "execution_count": 10,
   "metadata": {},
   "outputs": [
    {
     "data": {
      "text/plain": [
       "{'publicAPI': True,\n",
       " 'privateAPI': True,\n",
       " 'CORS': None,\n",
       " 'spot': True,\n",
       " 'margin': True,\n",
       " 'swap': True,\n",
       " 'future': True,\n",
       " 'option': True,\n",
       " 'addMargin': True,\n",
       " 'cancelAllOrders': True,\n",
       " 'cancelOrder': True,\n",
       " 'cancelOrders': True,\n",
       " 'createDepositAddress': False,\n",
       " 'createLimitOrder': True,\n",
       " 'createMarketOrder': True,\n",
       " 'createOrder': True,\n",
       " 'createPostOnlyOrder': True,\n",
       " 'createReduceOnlyOrder': True,\n",
       " 'createStopOrder': True,\n",
       " 'createStopLimitOrder': True,\n",
       " 'createStopMarketOrder': False,\n",
       " 'editOrder': True,\n",
       " 'fetchAccounts': None,\n",
       " 'fetchBalance': True,\n",
       " 'fetchBidsAsks': True,\n",
       " 'fetchBorrowInterest': True,\n",
       " 'fetchBorrowRate': None,\n",
       " 'fetchBorrowRateHistory': True,\n",
       " 'fetchBorrowRatesPerSymbol': None,\n",
       " 'fetchBorrowRates': None,\n",
       " 'fetchCanceledOrders': 'emulated',\n",
       " 'fetchClosedOrder': False,\n",
       " 'fetchClosedOrders': 'emulated',\n",
       " 'fetchClosedOrdersWs': None,\n",
       " 'fetchConvertCurrencies': True,\n",
       " 'fetchConvertQuote': True,\n",
       " 'fetchConvertTrade': True,\n",
       " 'fetchConvertTradeHistory': True,\n",
       " 'fetchCrossBorrowRate': True,\n",
       " 'fetchCrossBorrowRates': False,\n",
       " 'fetchCurrencies': True,\n",
       " 'fetchCurrenciesWs': 'emulated',\n",
       " 'fetchDeposit': False,\n",
       " 'fetchDepositAddress': True,\n",
       " 'fetchDepositAddresses': False,\n",
       " 'fetchDepositAddressesByNetwork': False,\n",
       " 'fetchDeposits': True,\n",
       " 'fetchFundingHistory': True,\n",
       " 'fetchFundingRate': True,\n",
       " 'fetchFundingRateHistory': True,\n",
       " 'fetchFundingRates': True,\n",
       " 'fetchIndexOHLCV': True,\n",
       " 'fetchLastPrices': True,\n",
       " 'fetchL2OrderBook': True,\n",
       " 'fetchLedger': True,\n",
       " 'fetchLedgerEntry': True,\n",
       " 'fetchLeverageTiers': True,\n",
       " 'fetchMarketLeverageTiers': 'emulated',\n",
       " 'fetchMarkets': True,\n",
       " 'fetchMarkOHLCV': True,\n",
       " 'fetchMyTrades': True,\n",
       " 'fetchOHLCV': True,\n",
       " 'fetchOpenOrder': True,\n",
       " 'fetchOpenOrders': True,\n",
       " 'fetchOrder': True,\n",
       " 'fetchOrderBook': True,\n",
       " 'fetchOrderBooks': False,\n",
       " 'fetchOrders': True,\n",
       " 'fetchOrderTrades': True,\n",
       " 'fetchPermissions': None,\n",
       " 'fetchPosition': True,\n",
       " 'fetchPositions': True,\n",
       " 'fetchPositionsRisk': True,\n",
       " 'fetchPremiumIndexOHLCV': True,\n",
       " 'fetchStatus': True,\n",
       " 'fetchTicker': True,\n",
       " 'fetchTickers': True,\n",
       " 'fetchTime': True,\n",
       " 'fetchTrades': True,\n",
       " 'fetchTradingFee': True,\n",
       " 'fetchTradingFees': True,\n",
       " 'fetchTradingLimits': 'emulated',\n",
       " 'fetchTransactions': False,\n",
       " 'fetchTransfers': True,\n",
       " 'fetchWithdrawal': False,\n",
       " 'fetchWithdrawals': True,\n",
       " 'reduceMargin': True,\n",
       " 'setLeverage': True,\n",
       " 'setMargin': False,\n",
       " 'setMarginMode': True,\n",
       " 'setPositionMode': True,\n",
       " 'signIn': False,\n",
       " 'transfer': True,\n",
       " 'withdraw': True,\n",
       " 'watchOrderBook': None,\n",
       " 'watchOrders': None,\n",
       " 'watchMyTrades': None,\n",
       " 'watchTickers': None,\n",
       " 'watchTicker': None,\n",
       " 'watchTrades': None,\n",
       " 'watchTradesForSymbols': None,\n",
       " 'watchOrderBookForSymbols': None,\n",
       " 'watchOHLCVForSymbols': None,\n",
       " 'watchBalance': None,\n",
       " 'watchLiquidations': None,\n",
       " 'watchLiquidationsForSymbols': None,\n",
       " 'watchMyLiquidations': None,\n",
       " 'watchMyLiquidationsForSymbols': None,\n",
       " 'watchOHLCV': None,\n",
       " 'borrowCrossMargin': True,\n",
       " 'borrowIsolatedMargin': True,\n",
       " 'closeAllPositions': False,\n",
       " 'closePosition': False,\n",
       " 'createConvertTrade': True,\n",
       " 'createLimitBuyOrder': True,\n",
       " 'createLimitSellOrder': True,\n",
       " 'createMarketBuyOrder': True,\n",
       " 'createMarketBuyOrderWithCost': True,\n",
       " 'createMarketOrderWithCost': True,\n",
       " 'createMarketSellOrder': True,\n",
       " 'createMarketSellOrderWithCost': True,\n",
       " 'createOrders': True,\n",
       " 'createOrderWithTakeProfitAndStopLoss': True,\n",
       " 'createStopLossOrder': True,\n",
       " 'createTakeProfitOrder': True,\n",
       " 'createTrailingPercentOrder': True,\n",
       " 'createTriggerOrder': True,\n",
       " 'fetchBorrowRateHistories': False,\n",
       " 'fetchCanceledAndClosedOrders': 'emulated',\n",
       " 'fetchDepositsWithdrawals': False,\n",
       " 'fetchDepositWithdrawFee': 'emulated',\n",
       " 'fetchDepositWithdrawFees': True,\n",
       " 'fetchGreeks': True,\n",
       " 'fetchIsolatedBorrowRate': 'emulated',\n",
       " 'fetchIsolatedBorrowRates': True,\n",
       " 'fetchL3OrderBook': False,\n",
       " 'fetchLeverage': 'emulated',\n",
       " 'fetchLeverages': True,\n",
       " 'fetchLiquidations': False,\n",
       " 'fetchMarginAdjustmentHistory': True,\n",
       " 'fetchMarginMode': 'emulated',\n",
       " 'fetchMarginModes': True,\n",
       " 'fetchMyLiquidations': True,\n",
       " 'fetchMySettlementHistory': True,\n",
       " 'fetchOpenInterest': True,\n",
       " 'fetchOpenInterestHistory': True,\n",
       " 'fetchOption': True,\n",
       " 'fetchOptionChain': False,\n",
       " 'fetchPositionHistory': False,\n",
       " 'fetchPositionMode': True,\n",
       " 'fetchPositionsHistory': False,\n",
       " 'fetchSettlementHistory': True,\n",
       " 'fetchTransactionFee': 'emulated',\n",
       " 'fetchTransactionFees': True,\n",
       " 'fetchTransfer': False,\n",
       " 'fetchUnderlyingAssets': False,\n",
       " 'fetchVolatilityHistory': False,\n",
       " 'fetchWithdrawAddresses': False,\n",
       " 'fetchWithdrawalWhitelist': False,\n",
       " 'repayCrossMargin': True,\n",
       " 'repayIsolatedMargin': True,\n",
       " 'sandbox': True}"
      ]
     },
     "execution_count": 10,
     "metadata": {},
     "output_type": "execute_result"
    }
   ],
   "source": [
    "exchange_ins.has"
   ]
  },
  {
   "cell_type": "markdown",
   "metadata": {},
   "source": [
    "### precision\n",
    "\n",
    "- 精度\n",
    "- https://docs.ccxt.com/#/README?id=precision-and-limits\n"
   ]
  },
  {
   "cell_type": "code",
   "execution_count": 4,
   "metadata": {},
   "outputs": [
    {
     "data": {
      "text/plain": [
       "2"
      ]
     },
     "execution_count": 4,
     "metadata": {},
     "output_type": "execute_result"
    }
   ],
   "source": [
    "exchange_ins.precisionMode"
   ]
  },
  {
   "cell_type": "markdown",
   "metadata": {},
   "source": [
    "##  hava method?"
   ]
  },
  {
   "cell_type": "code",
   "execution_count": 20,
   "metadata": {},
   "outputs": [
    {
     "data": {
      "text/plain": [
       "True"
      ]
     },
     "execution_count": 20,
     "metadata": {},
     "output_type": "execute_result"
    }
   ],
   "source": [
    "exchange_ins.has[\"publicAPI\"]"
   ]
  },
  {
   "cell_type": "code",
   "execution_count": 35,
   "metadata": {},
   "outputs": [
    {
     "data": {
      "text/plain": [
       "108"
      ]
     },
     "execution_count": 35,
     "metadata": {},
     "output_type": "execute_result"
    }
   ],
   "source": [
    "exchange_has_attr = [\n",
    "    exchange\n",
    "    for exchange in ccxt.exchanges\n",
    "    if getattr(ccxt, exchange)().has.get(\"publicAPI\", False)\n",
    "]\n",
    "len(exchange_has_attr)"
   ]
  },
  {
   "cell_type": "code",
   "execution_count": 36,
   "metadata": {},
   "outputs": [
    {
     "data": {
      "text/plain": [
       "['bybit', 'deribit']"
      ]
     },
     "execution_count": 36,
     "metadata": {},
     "output_type": "execute_result"
    }
   ],
   "source": [
    "exchange_has_attr = [\n",
    "    exchange\n",
    "    for exchange in ccxt.exchanges\n",
    "    if getattr(ccxt, exchange)().has.get(\"fetchVolatilityHistory\", False)\n",
    "]\n",
    "exchange_has_attr"
   ]
  }
 ],
 "metadata": {
  "kernelspec": {
   "display_name": ".venv",
   "language": "python",
   "name": "python3"
  },
  "language_info": {
   "codemirror_mode": {
    "name": "ipython",
    "version": 3
   },
   "file_extension": ".py",
   "mimetype": "text/x-python",
   "name": "python",
   "nbconvert_exporter": "python",
   "pygments_lexer": "ipython3",
   "version": "3.11.8"
  }
 },
 "nbformat": 4,
 "nbformat_minor": 2
}
