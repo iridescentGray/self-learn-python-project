{
 "cells": [
  {
   "cell_type": "markdown",
   "metadata": {},
   "source": [
    "# Package Info\n"
   ]
  },
  {
   "cell_type": "code",
   "execution_count": 1,
   "metadata": {},
   "outputs": [],
   "source": [
    "import ccxt\n",
    "import ccxt.pro as ccxtpro"
   ]
  },
  {
   "cell_type": "code",
   "execution_count": null,
   "metadata": {},
   "outputs": [],
   "source": [
    "ccxt.__version__"
   ]
  },
  {
   "cell_type": "code",
   "execution_count": null,
   "metadata": {},
   "outputs": [],
   "source": [
    "ccxtpro.__version__"
   ]
  },
  {
   "cell_type": "markdown",
   "metadata": {},
   "source": [
    "# Exchange"
   ]
  },
  {
   "cell_type": "markdown",
   "metadata": {},
   "source": [
    "## View Support Exchanges\n"
   ]
  },
  {
   "cell_type": "code",
   "execution_count": null,
   "metadata": {},
   "outputs": [],
   "source": [
    "print(len(ccxt.exchanges))"
   ]
  },
  {
   "cell_type": "code",
   "execution_count": null,
   "metadata": {},
   "outputs": [],
   "source": [
    "print(len(ccxtpro.exchanges))"
   ]
  },
  {
   "cell_type": "code",
   "execution_count": null,
   "metadata": {},
   "outputs": [],
   "source": [
    "for exc in ccxt.exchanges:\n",
    "    print(exc)"
   ]
  },
  {
   "cell_type": "markdown",
   "metadata": {},
   "source": [
    "## instance exchange"
   ]
  },
  {
   "cell_type": "code",
   "execution_count": 4,
   "metadata": {},
   "outputs": [
    {
     "data": {
      "text/plain": [
       "ccxt.binance()"
      ]
     },
     "execution_count": 4,
     "metadata": {},
     "output_type": "execute_result"
    }
   ],
   "source": [
    "exchange_ins=ccxt.binance()\n"
   ]
  },
  {
   "cell_type": "markdown",
   "metadata": {},
   "source": [
    "## Exchange Attributes\n",
    "\n",
    "```json\n",
    "{\n",
    "    'id':   'exchange'                   // lowercase string exchange id\n",
    "    'name': 'Exchange'                   // human-readable string\n",
    "    'countries': [ 'US', 'CN', 'EU' ],   // array of ISO country codes\n",
    "    'urls': {\n",
    "        'api': 'https://api.example.com/data',  // string or dictionary of base API URLs\n",
    "    },\n",
    "    'version':         'v1',             // string ending with digits\n",
    "    'api':             { ... },          // dictionary of api endpoints\n",
    "    'has': {                             // exchange capabilities\n",
    "        'CORS': false,\n",
    "        'cancelOrder': true,\n",
    "        'createDepositAddress': false,\n",
    "        'createOrder': true,\n",
    "    },\n",
    "    'timeframes': {                      // empty if the exchange.has['fetchOHLCV'] !== true\n",
    "        '1m': '1minute',\n",
    "        '1h': '1hour',\n",
    "    },\n",
    "    'timeout':           10000,          // number in milliseconds\n",
    "    'rateLimit':         2000,           // number in milliseconds\n",
    "    'userAgent':        'ccxt/1.1.1 ...' // string, HTTP User-Agent header\n",
    "    'verbose':           false,          // boolean, output error details\n",
    "    'markets':          { ... }          // dictionary of markets/pairs by symbol\n",
    "    'symbols':          [ ... ]          // sorted list of string symbols (traded pairs)\n",
    "    'currencies':       { ... }          // dictionary of currencies by currency code\n",
    "    'markets_by_id':    { ... },         // dictionary of array of dictionaries (markets) by id\n",
    "    'currencies_by_id': { ... },         // dictionary of dictionaries (markets) by id\n",
    "    'apiKey':   'kkk.',  // string public apiKey (ASCII, hex, Base64, ...)\n",
    "    'secret':   'xxx'   // string private secret key\n",
    "    'password': 'ppp',           // string password\n",
    "    'uid':      '123',                // string user id\n",
    "    'options':          { ... },         // exchange-specific options\n",
    "    // ... other properties here ...\n",
    "}\n",
    "```\n"
   ]
  },
  {
   "cell_type": "code",
   "execution_count": 5,
   "metadata": {},
   "outputs": [
    {
     "data": {
      "text/plain": [
       "'binance'"
      ]
     },
     "execution_count": 5,
     "metadata": {},
     "output_type": "execute_result"
    }
   ],
   "source": [
    "exchange_ins.id"
   ]
  },
  {
   "cell_type": "code",
   "execution_count": 12,
   "metadata": {},
   "outputs": [
    {
     "data": {
      "text/plain": [
       "50"
      ]
     },
     "execution_count": 12,
     "metadata": {},
     "output_type": "execute_result"
    }
   ],
   "source": [
    "# https://docs.ccxt.com/#/README?id=rate-limit\n",
    "# The exchange.rateLimit property is set to a safe default which is sub-optimal.\n",
    "exchange_ins.rateLimit"
   ]
  },
  {
   "cell_type": "code",
   "execution_count": 9,
   "metadata": {},
   "outputs": [
    {
     "data": {
      "text/plain": [
       "{'logo': 'https://user-images.githubusercontent.com/1294454/29604020-d5483cdc-87ee-11e7-94c7-d1a8d9169293.jpg',\n",
       " 'test': {'dapiPublic': 'https://testnet.binancefuture.com/dapi/v1',\n",
       "  'dapiPrivate': 'https://testnet.binancefuture.com/dapi/v1',\n",
       "  'dapiPrivateV2': 'https://testnet.binancefuture.com/dapi/v2',\n",
       "  'fapiPublic': 'https://testnet.binancefuture.com/fapi/v1',\n",
       "  'fapiPublicV2': 'https://testnet.binancefuture.com/fapi/v2',\n",
       "  'fapiPrivate': 'https://testnet.binancefuture.com/fapi/v1',\n",
       "  'fapiPrivateV2': 'https://testnet.binancefuture.com/fapi/v2',\n",
       "  'public': 'https://testnet.binance.vision/api/v3',\n",
       "  'private': 'https://testnet.binance.vision/api/v3',\n",
       "  'v1': 'https://testnet.binance.vision/api/v1'},\n",
       " 'api': {'sapi': 'https://api.binance.com/sapi/v1',\n",
       "  'sapiV2': 'https://api.binance.com/sapi/v2',\n",
       "  'sapiV3': 'https://api.binance.com/sapi/v3',\n",
       "  'sapiV4': 'https://api.binance.com/sapi/v4',\n",
       "  'dapiPublic': 'https://dapi.binance.com/dapi/v1',\n",
       "  'dapiPrivate': 'https://dapi.binance.com/dapi/v1',\n",
       "  'eapiPublic': 'https://eapi.binance.com/eapi/v1',\n",
       "  'eapiPrivate': 'https://eapi.binance.com/eapi/v1',\n",
       "  'dapiPrivateV2': 'https://dapi.binance.com/dapi/v2',\n",
       "  'dapiData': 'https://dapi.binance.com/futures/data',\n",
       "  'fapiPublic': 'https://fapi.binance.com/fapi/v1',\n",
       "  'fapiPublicV2': 'https://fapi.binance.com/fapi/v2',\n",
       "  'fapiPrivate': 'https://fapi.binance.com/fapi/v1',\n",
       "  'fapiData': 'https://fapi.binance.com/futures/data',\n",
       "  'fapiPrivateV2': 'https://fapi.binance.com/fapi/v2',\n",
       "  'public': 'https://api.binance.com/api/v3',\n",
       "  'private': 'https://api.binance.com/api/v3',\n",
       "  'v1': 'https://api.binance.com/api/v1',\n",
       "  'papi': 'https://papi.binance.com/papi/v1'},\n",
       " 'www': 'https://www.binance.com',\n",
       " 'referral': {'url': 'https://accounts.binance.com/en/register?ref=D7YA7CLY',\n",
       "  'discount': 0.1},\n",
       " 'doc': ['https://binance-docs.github.io/apidocs/spot/en'],\n",
       " 'api_management': 'https://www.binance.com/en/usercenter/settings/api-management',\n",
       " 'fees': 'https://www.binance.com/en/fee/schedule'}"
      ]
     },
     "execution_count": 9,
     "metadata": {},
     "output_type": "execute_result"
    }
   ],
   "source": [
    "exchange_ins.urls"
   ]
  },
  {
   "cell_type": "markdown",
   "metadata": {},
   "source": [
    "# Get ticker"
   ]
  },
  {
   "cell_type": "code",
   "execution_count": 3,
   "metadata": {},
   "outputs": [
    {
     "name": "stdout",
     "output_type": "stream",
     "text": [
      "70864.29\n",
      "3802.3\n"
     ]
    }
   ],
   "source": [
    "import ccxt\n",
    "\n",
    "# 创建交易所实例\n",
    "exchange = ccxt.binance()\n",
    "btc_ticker = exchange.fetch_ticker(\"BTC/USDT\")\n",
    "eth_ticker = exchange.fetch_ticker(\"ETH/USDT\")\n",
    "\n",
    "print(btc_ticker[\"last\"])\n",
    "print(eth_ticker[\"last\"])"
   ]
  }
 ],
 "metadata": {
  "kernelspec": {
   "display_name": ".venv",
   "language": "python",
   "name": "python3"
  },
  "language_info": {
   "codemirror_mode": {
    "name": "ipython",
    "version": 3
   },
   "file_extension": ".py",
   "mimetype": "text/x-python",
   "name": "python",
   "nbconvert_exporter": "python",
   "pygments_lexer": "ipython3",
   "version": "3.11.8"
  }
 },
 "nbformat": 4,
 "nbformat_minor": 2
}
