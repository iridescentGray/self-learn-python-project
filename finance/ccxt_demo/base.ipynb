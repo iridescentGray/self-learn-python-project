{
 "cells": [
  {
   "cell_type": "markdown",
   "metadata": {},
   "source": [
    "# Package Info\n"
   ]
  },
  {
   "cell_type": "code",
   "execution_count": 2,
   "metadata": {},
   "outputs": [],
   "source": [
    "import ccxt\n",
    "import ccxt.pro as ccxtpro"
   ]
  },
  {
   "cell_type": "code",
   "execution_count": 3,
   "metadata": {},
   "outputs": [
    {
     "data": {
      "text/plain": [
       "'4.3.40'"
      ]
     },
     "execution_count": 3,
     "metadata": {},
     "output_type": "execute_result"
    }
   ],
   "source": [
    "ccxt.__version__"
   ]
  },
  {
   "cell_type": "code",
   "execution_count": 3,
   "metadata": {},
   "outputs": [
    {
     "data": {
      "text/plain": [
       "'4.3.40'"
      ]
     },
     "execution_count": 3,
     "metadata": {},
     "output_type": "execute_result"
    }
   ],
   "source": [
    "ccxtpro.__version__"
   ]
  },
  {
   "cell_type": "markdown",
   "metadata": {},
   "source": [
    "# Exchange\n"
   ]
  },
  {
   "cell_type": "markdown",
   "metadata": {},
   "source": [
    "## view support exchanges\n"
   ]
  },
  {
   "cell_type": "code",
   "execution_count": 4,
   "metadata": {},
   "outputs": [
    {
     "data": {
      "text/plain": [
       "105"
      ]
     },
     "execution_count": 4,
     "metadata": {},
     "output_type": "execute_result"
    }
   ],
   "source": [
    "len(ccxt.exchanges)"
   ]
  },
  {
   "cell_type": "code",
   "execution_count": 5,
   "metadata": {},
   "outputs": [
    {
     "data": {
      "text/plain": [
       "65"
      ]
     },
     "execution_count": 5,
     "metadata": {},
     "output_type": "execute_result"
    }
   ],
   "source": [
    "len(ccxtpro.exchanges)"
   ]
  },
  {
   "cell_type": "markdown",
   "metadata": {},
   "source": [
    "## create instance\n"
   ]
  },
  {
   "cell_type": "code",
   "execution_count": 4,
   "metadata": {},
   "outputs": [
    {
     "data": {
      "text/plain": [
       "ccxt.binance()"
      ]
     },
     "execution_count": 4,
     "metadata": {},
     "output_type": "execute_result"
    }
   ],
   "source": [
    "exchange_ins = getattr(ccxt, \"binance\")\n",
    "exchange_ins()"
   ]
  },
  {
   "cell_type": "code",
   "execution_count": 4,
   "metadata": {},
   "outputs": [
    {
     "data": {
      "text/plain": [
       "ccxt.binance()"
      ]
     },
     "execution_count": 4,
     "metadata": {},
     "output_type": "execute_result"
    }
   ],
   "source": [
    "exchange_ins = ccxt.binance()\n",
    "exchange_ins"
   ]
  },
  {
   "cell_type": "markdown",
   "metadata": {},
   "source": [
    "## Exchange Metadata Overview\n",
    "\n",
    "```json\n",
    "{\n",
    "    'id':   'exchange'                   // lowercase string exchange id\n",
    "    'name': 'Exchange'                   // human-readable string\n",
    "    'countries': [ 'US', 'CN', 'EU' ],   // array of ISO country codes\n",
    "    'urls': {\n",
    "        'api': 'https://api.example.com/data',  // string or dictionary of base API URLs\n",
    "    },\n",
    "    'version':         'v1',             // string ending with digits\n",
    "    'api':             { ... },          // dictionary of api endpoints\n",
    "    'has': {                             // exchange capabilities\n",
    "        'CORS': false,\n",
    "        'cancelOrder': true,\n",
    "        'createDepositAddress': false,\n",
    "        'createOrder': true,\n",
    "    },\n",
    "    'timeframes': {                      // empty if the exchange.has['fetchOHLCV'] !== true\n",
    "        '1m': '1minute',\n",
    "        '1h': '1hour',\n",
    "    },\n",
    "    'timeout':           10000,          // number in milliseconds\n",
    "    'rateLimit':         2000,           // number in milliseconds\n",
    "    'userAgent':        'ccxt/1.1.1 ...' // string, HTTP User-Agent header\n",
    "    'verbose':           false,          // boolean, output error details\n",
    "    'markets':          { ... }          // dictionary of markets/pairs by symbol\n",
    "    'symbols':          [ ... ]          // sorted list of string symbols (traded pairs)\n",
    "    'currencies':       { ... }          // dictionary of currencies by currency code\n",
    "    'markets_by_id':    { ... },         // dictionary of array of dictionaries (markets) by id\n",
    "    'currencies_by_id': { ... },         // dictionary of dictionaries (markets) by id\n",
    "    'apiKey':   'kkk.',  // string public apiKey (ASCII, hex, Base64, ...)\n",
    "    'secret':   'xxx'   // string private secret key\n",
    "    'password': 'ppp',           // string password\n",
    "    'uid':      '123',                // string user id\n",
    "    'options':          { ... },         // exchange-specific options\n",
    "    // ... other properties here ...\n",
    "}\n",
    "```\n"
   ]
  },
  {
   "cell_type": "markdown",
   "metadata": {},
   "source": [
    "### Exchange id\n"
   ]
  },
  {
   "cell_type": "code",
   "execution_count": 5,
   "metadata": {},
   "outputs": [
    {
     "data": {
      "text/plain": [
       "'binance'"
      ]
     },
     "execution_count": 5,
     "metadata": {},
     "output_type": "execute_result"
    }
   ],
   "source": [
    "exchange_ins.id"
   ]
  },
  {
   "cell_type": "markdown",
   "metadata": {},
   "source": [
    "### Api RateLimit\n"
   ]
  },
  {
   "cell_type": "code",
   "execution_count": 8,
   "metadata": {},
   "outputs": [
    {
     "data": {
      "text/plain": [
       "50"
      ]
     },
     "execution_count": 8,
     "metadata": {},
     "output_type": "execute_result"
    }
   ],
   "source": [
    "# https://docs.ccxt.com/#/README?id=rate-limit\n",
    "# The exchange.rateLimit property is set to a safe default which is sub-optimal.\n",
    "exchange_ins.rateLimit"
   ]
  },
  {
   "cell_type": "markdown",
   "metadata": {},
   "source": [
    "### Api url\n"
   ]
  },
  {
   "cell_type": "code",
   "execution_count": 9,
   "metadata": {},
   "outputs": [
    {
     "data": {
      "text/plain": [
       "{'logo': 'https://user-images.githubusercontent.com/1294454/29604020-d5483cdc-87ee-11e7-94c7-d1a8d9169293.jpg',\n",
       " 'test': {'dapiPublic': 'https://testnet.binancefuture.com/dapi/v1',\n",
       "  'dapiPrivate': 'https://testnet.binancefuture.com/dapi/v1',\n",
       "  'dapiPrivateV2': 'https://testnet.binancefuture.com/dapi/v2',\n",
       "  'fapiPublic': 'https://testnet.binancefuture.com/fapi/v1',\n",
       "  'fapiPublicV2': 'https://testnet.binancefuture.com/fapi/v2',\n",
       "  'fapiPrivate': 'https://testnet.binancefuture.com/fapi/v1',\n",
       "  'fapiPrivateV2': 'https://testnet.binancefuture.com/fapi/v2',\n",
       "  'public': 'https://testnet.binance.vision/api/v3',\n",
       "  'private': 'https://testnet.binance.vision/api/v3',\n",
       "  'v1': 'https://testnet.binance.vision/api/v1'},\n",
       " 'api': {'sapi': 'https://api.binance.com/sapi/v1',\n",
       "  'sapiV2': 'https://api.binance.com/sapi/v2',\n",
       "  'sapiV3': 'https://api.binance.com/sapi/v3',\n",
       "  'sapiV4': 'https://api.binance.com/sapi/v4',\n",
       "  'dapiPublic': 'https://dapi.binance.com/dapi/v1',\n",
       "  'dapiPrivate': 'https://dapi.binance.com/dapi/v1',\n",
       "  'eapiPublic': 'https://eapi.binance.com/eapi/v1',\n",
       "  'eapiPrivate': 'https://eapi.binance.com/eapi/v1',\n",
       "  'dapiPrivateV2': 'https://dapi.binance.com/dapi/v2',\n",
       "  'dapiData': 'https://dapi.binance.com/futures/data',\n",
       "  'fapiPublic': 'https://fapi.binance.com/fapi/v1',\n",
       "  'fapiPublicV2': 'https://fapi.binance.com/fapi/v2',\n",
       "  'fapiPrivate': 'https://fapi.binance.com/fapi/v1',\n",
       "  'fapiData': 'https://fapi.binance.com/futures/data',\n",
       "  'fapiPrivateV2': 'https://fapi.binance.com/fapi/v2',\n",
       "  'public': 'https://api.binance.com/api/v3',\n",
       "  'private': 'https://api.binance.com/api/v3',\n",
       "  'v1': 'https://api.binance.com/api/v1',\n",
       "  'papi': 'https://papi.binance.com/papi/v1'},\n",
       " 'www': 'https://www.binance.com',\n",
       " 'referral': {'url': 'https://accounts.binance.com/en/register?ref=D7YA7CLY',\n",
       "  'discount': 0.1},\n",
       " 'doc': ['https://binance-docs.github.io/apidocs/spot/en'],\n",
       " 'api_management': 'https://www.binance.com/en/usercenter/settings/api-management',\n",
       " 'fees': 'https://www.binance.com/en/fee/schedule'}"
      ]
     },
     "execution_count": 9,
     "metadata": {},
     "output_type": "execute_result"
    }
   ],
   "source": [
    "exchange_ins.urls"
   ]
  },
  {
   "cell_type": "markdown",
   "metadata": {},
   "source": [
    "### has\n",
    "\n",
    "An assoc-array containing flags for exchange capabilities\n"
   ]
  },
  {
   "cell_type": "code",
   "execution_count": 10,
   "metadata": {},
   "outputs": [
    {
     "data": {
      "text/plain": [
       "{'publicAPI': True,\n",
       " 'privateAPI': True,\n",
       " 'CORS': None,\n",
       " 'spot': True,\n",
       " 'margin': True,\n",
       " 'swap': True,\n",
       " 'future': True,\n",
       " 'option': True,\n",
       " 'addMargin': True,\n",
       " 'cancelAllOrders': True,\n",
       " 'cancelOrder': True,\n",
       " 'cancelOrders': True,\n",
       " 'createDepositAddress': False,\n",
       " 'createLimitOrder': True,\n",
       " 'createMarketOrder': True,\n",
       " 'createOrder': True,\n",
       " 'createPostOnlyOrder': True,\n",
       " 'createReduceOnlyOrder': True,\n",
       " 'createStopOrder': True,\n",
       " 'createStopLimitOrder': True,\n",
       " 'createStopMarketOrder': False,\n",
       " 'editOrder': True,\n",
       " 'fetchAccounts': None,\n",
       " 'fetchBalance': True,\n",
       " 'fetchBidsAsks': True,\n",
       " 'fetchBorrowInterest': True,\n",
       " 'fetchBorrowRate': None,\n",
       " 'fetchBorrowRateHistory': True,\n",
       " 'fetchBorrowRatesPerSymbol': None,\n",
       " 'fetchBorrowRates': None,\n",
       " 'fetchCanceledOrders': 'emulated',\n",
       " 'fetchClosedOrder': False,\n",
       " 'fetchClosedOrders': 'emulated',\n",
       " 'fetchClosedOrdersWs': None,\n",
       " 'fetchConvertCurrencies': True,\n",
       " 'fetchConvertQuote': True,\n",
       " 'fetchConvertTrade': True,\n",
       " 'fetchConvertTradeHistory': True,\n",
       " 'fetchCrossBorrowRate': True,\n",
       " 'fetchCrossBorrowRates': False,\n",
       " 'fetchCurrencies': True,\n",
       " 'fetchCurrenciesWs': 'emulated',\n",
       " 'fetchDeposit': False,\n",
       " 'fetchDepositAddress': True,\n",
       " 'fetchDepositAddresses': False,\n",
       " 'fetchDepositAddressesByNetwork': False,\n",
       " 'fetchDeposits': True,\n",
       " 'fetchFundingHistory': True,\n",
       " 'fetchFundingRate': True,\n",
       " 'fetchFundingRateHistory': True,\n",
       " 'fetchFundingRates': True,\n",
       " 'fetchIndexOHLCV': True,\n",
       " 'fetchLastPrices': True,\n",
       " 'fetchL2OrderBook': True,\n",
       " 'fetchLedger': True,\n",
       " 'fetchLedgerEntry': True,\n",
       " 'fetchLeverageTiers': True,\n",
       " 'fetchMarketLeverageTiers': 'emulated',\n",
       " 'fetchMarkets': True,\n",
       " 'fetchMarkOHLCV': True,\n",
       " 'fetchMyTrades': True,\n",
       " 'fetchOHLCV': True,\n",
       " 'fetchOpenOrder': True,\n",
       " 'fetchOpenOrders': True,\n",
       " 'fetchOrder': True,\n",
       " 'fetchOrderBook': True,\n",
       " 'fetchOrderBooks': False,\n",
       " 'fetchOrders': True,\n",
       " 'fetchOrderTrades': True,\n",
       " 'fetchPermissions': None,\n",
       " 'fetchPosition': True,\n",
       " 'fetchPositions': True,\n",
       " 'fetchPositionsRisk': True,\n",
       " 'fetchPremiumIndexOHLCV': True,\n",
       " 'fetchStatus': True,\n",
       " 'fetchTicker': True,\n",
       " 'fetchTickers': True,\n",
       " 'fetchTime': True,\n",
       " 'fetchTrades': True,\n",
       " 'fetchTradingFee': True,\n",
       " 'fetchTradingFees': True,\n",
       " 'fetchTradingLimits': 'emulated',\n",
       " 'fetchTransactions': False,\n",
       " 'fetchTransfers': True,\n",
       " 'fetchWithdrawal': False,\n",
       " 'fetchWithdrawals': True,\n",
       " 'reduceMargin': True,\n",
       " 'setLeverage': True,\n",
       " 'setMargin': False,\n",
       " 'setMarginMode': True,\n",
       " 'setPositionMode': True,\n",
       " 'signIn': False,\n",
       " 'transfer': True,\n",
       " 'withdraw': True,\n",
       " 'watchOrderBook': None,\n",
       " 'watchOrders': None,\n",
       " 'watchMyTrades': None,\n",
       " 'watchTickers': None,\n",
       " 'watchTicker': None,\n",
       " 'watchTrades': None,\n",
       " 'watchTradesForSymbols': None,\n",
       " 'watchOrderBookForSymbols': None,\n",
       " 'watchOHLCVForSymbols': None,\n",
       " 'watchBalance': None,\n",
       " 'watchLiquidations': None,\n",
       " 'watchLiquidationsForSymbols': None,\n",
       " 'watchMyLiquidations': None,\n",
       " 'watchMyLiquidationsForSymbols': None,\n",
       " 'watchOHLCV': None,\n",
       " 'borrowCrossMargin': True,\n",
       " 'borrowIsolatedMargin': True,\n",
       " 'closeAllPositions': False,\n",
       " 'closePosition': False,\n",
       " 'createConvertTrade': True,\n",
       " 'createLimitBuyOrder': True,\n",
       " 'createLimitSellOrder': True,\n",
       " 'createMarketBuyOrder': True,\n",
       " 'createMarketBuyOrderWithCost': True,\n",
       " 'createMarketOrderWithCost': True,\n",
       " 'createMarketSellOrder': True,\n",
       " 'createMarketSellOrderWithCost': True,\n",
       " 'createOrders': True,\n",
       " 'createOrderWithTakeProfitAndStopLoss': True,\n",
       " 'createStopLossOrder': True,\n",
       " 'createTakeProfitOrder': True,\n",
       " 'createTrailingPercentOrder': True,\n",
       " 'createTriggerOrder': True,\n",
       " 'fetchBorrowRateHistories': False,\n",
       " 'fetchCanceledAndClosedOrders': 'emulated',\n",
       " 'fetchDepositsWithdrawals': False,\n",
       " 'fetchDepositWithdrawFee': 'emulated',\n",
       " 'fetchDepositWithdrawFees': True,\n",
       " 'fetchGreeks': True,\n",
       " 'fetchIsolatedBorrowRate': 'emulated',\n",
       " 'fetchIsolatedBorrowRates': True,\n",
       " 'fetchL3OrderBook': False,\n",
       " 'fetchLeverage': 'emulated',\n",
       " 'fetchLeverages': True,\n",
       " 'fetchLiquidations': False,\n",
       " 'fetchMarginAdjustmentHistory': True,\n",
       " 'fetchMarginMode': 'emulated',\n",
       " 'fetchMarginModes': True,\n",
       " 'fetchMyLiquidations': True,\n",
       " 'fetchMySettlementHistory': True,\n",
       " 'fetchOpenInterest': True,\n",
       " 'fetchOpenInterestHistory': True,\n",
       " 'fetchOption': True,\n",
       " 'fetchOptionChain': False,\n",
       " 'fetchPositionHistory': False,\n",
       " 'fetchPositionMode': True,\n",
       " 'fetchPositionsHistory': False,\n",
       " 'fetchSettlementHistory': True,\n",
       " 'fetchTransactionFee': 'emulated',\n",
       " 'fetchTransactionFees': True,\n",
       " 'fetchTransfer': False,\n",
       " 'fetchUnderlyingAssets': False,\n",
       " 'fetchVolatilityHistory': False,\n",
       " 'fetchWithdrawAddresses': False,\n",
       " 'fetchWithdrawalWhitelist': False,\n",
       " 'repayCrossMargin': True,\n",
       " 'repayIsolatedMargin': True,\n",
       " 'sandbox': True}"
      ]
     },
     "execution_count": 10,
     "metadata": {},
     "output_type": "execute_result"
    }
   ],
   "source": [
    "exchange_ins.has"
   ]
  },
  {
   "cell_type": "markdown",
   "metadata": {},
   "source": [
    "### precision\n",
    "\n",
    "- 精度\n",
    "- https://docs.ccxt.com/#/README?id=precision-and-limits\n"
   ]
  },
  {
   "cell_type": "code",
   "execution_count": 4,
   "metadata": {},
   "outputs": [
    {
     "data": {
      "text/plain": [
       "2"
      ]
     },
     "execution_count": 4,
     "metadata": {},
     "output_type": "execute_result"
    }
   ],
   "source": [
    "exchange_ins.precisionMode"
   ]
  },
  {
   "cell_type": "markdown",
   "metadata": {},
   "source": [
    "# Markets\n",
    "\n",
    "- In ccxt：\n",
    "  - every exchange offers multiple markets(coin) within itself.\n",
    "  - Each market is defined by two or more currencies(USDT,USDC).\n"
   ]
  },
  {
   "cell_type": "markdown",
   "metadata": {},
   "source": [
    "## Load all\n"
   ]
  },
  {
   "cell_type": "code",
   "execution_count": 14,
   "metadata": {},
   "outputs": [],
   "source": [
    "# 注意 此方法会产生本地缓存,第二次调用使用缓存\n",
    "market = exchange_ins.load_markets()"
   ]
  },
  {
   "cell_type": "code",
   "execution_count": null,
   "metadata": {},
   "outputs": [],
   "source": [
    "# 无缓存\n",
    "market = exchange_ins.load_markets(reload=True)"
   ]
  },
  {
   "cell_type": "markdown",
   "metadata": {},
   "source": [
    "## Get One\n"
   ]
  },
  {
   "cell_type": "code",
   "execution_count": 11,
   "metadata": {},
   "outputs": [
    {
     "data": {
      "text/plain": [
       "{'id': 'BTCUSDT',\n",
       " 'lowercaseId': 'btcusdt',\n",
       " 'symbol': 'BTC/USDT',\n",
       " 'base': 'BTC',\n",
       " 'quote': 'USDT',\n",
       " 'settle': None,\n",
       " 'baseId': 'BTC',\n",
       " 'quoteId': 'USDT',\n",
       " 'settleId': None,\n",
       " 'type': 'spot',\n",
       " 'spot': True,\n",
       " 'margin': True,\n",
       " 'swap': False,\n",
       " 'future': False,\n",
       " 'option': False,\n",
       " 'index': None,\n",
       " 'active': True,\n",
       " 'contract': False,\n",
       " 'linear': None,\n",
       " 'inverse': None,\n",
       " 'subType': None,\n",
       " 'taker': 0.001,\n",
       " 'maker': 0.001,\n",
       " 'contractSize': None,\n",
       " 'expiry': None,\n",
       " 'expiryDatetime': None,\n",
       " 'strike': None,\n",
       " 'optionType': None,\n",
       " 'precision': {'amount': 1e-05,\n",
       "  'price': 0.01,\n",
       "  'cost': None,\n",
       "  'base': 1e-08,\n",
       "  'quote': 1e-08},\n",
       " 'limits': {'leverage': {'min': None, 'max': None},\n",
       "  'amount': {'min': 1e-05, 'max': 9000.0},\n",
       "  'price': {'min': 0.01, 'max': 1000000.0},\n",
       "  'cost': {'min': 5.0, 'max': 9000000.0},\n",
       "  'market': {'min': 0.0, 'max': 135.27601928}},\n",
       " 'created': None,\n",
       " 'info': {'symbol': 'BTCUSDT',\n",
       "  'status': 'TRADING',\n",
       "  'baseAsset': 'BTC',\n",
       "  'baseAssetPrecision': '8',\n",
       "  'quoteAsset': 'USDT',\n",
       "  'quotePrecision': '8',\n",
       "  'quoteAssetPrecision': '8',\n",
       "  'baseCommissionPrecision': '8',\n",
       "  'quoteCommissionPrecision': '8',\n",
       "  'orderTypes': ['LIMIT',\n",
       "   'LIMIT_MAKER',\n",
       "   'MARKET',\n",
       "   'STOP_LOSS_LIMIT',\n",
       "   'TAKE_PROFIT_LIMIT'],\n",
       "  'icebergAllowed': True,\n",
       "  'ocoAllowed': True,\n",
       "  'otoAllowed': True,\n",
       "  'quoteOrderQtyMarketAllowed': True,\n",
       "  'allowTrailingStop': True,\n",
       "  'cancelReplaceAllowed': True,\n",
       "  'isSpotTradingAllowed': True,\n",
       "  'isMarginTradingAllowed': True,\n",
       "  'filters': [{'filterType': 'PRICE_FILTER',\n",
       "    'minPrice': '0.01000000',\n",
       "    'maxPrice': '1000000.00000000',\n",
       "    'tickSize': '0.01000000'},\n",
       "   {'filterType': 'LOT_SIZE',\n",
       "    'minQty': '0.00001000',\n",
       "    'maxQty': '9000.00000000',\n",
       "    'stepSize': '0.00001000'},\n",
       "   {'filterType': 'ICEBERG_PARTS', 'limit': '10'},\n",
       "   {'filterType': 'MARKET_LOT_SIZE',\n",
       "    'minQty': '0.00000000',\n",
       "    'maxQty': '135.27601928',\n",
       "    'stepSize': '0.00000000'},\n",
       "   {'filterType': 'TRAILING_DELTA',\n",
       "    'minTrailingAboveDelta': '10',\n",
       "    'maxTrailingAboveDelta': '2000',\n",
       "    'minTrailingBelowDelta': '10',\n",
       "    'maxTrailingBelowDelta': '2000'},\n",
       "   {'filterType': 'PERCENT_PRICE_BY_SIDE',\n",
       "    'bidMultiplierUp': '5',\n",
       "    'bidMultiplierDown': '0.2',\n",
       "    'askMultiplierUp': '5',\n",
       "    'askMultiplierDown': '0.2',\n",
       "    'avgPriceMins': '5'},\n",
       "   {'filterType': 'NOTIONAL',\n",
       "    'minNotional': '5.00000000',\n",
       "    'applyMinToMarket': True,\n",
       "    'maxNotional': '9000000.00000000',\n",
       "    'applyMaxToMarket': False,\n",
       "    'avgPriceMins': '5'},\n",
       "   {'filterType': 'MAX_NUM_ORDERS', 'maxNumOrders': '200'},\n",
       "   {'filterType': 'MAX_NUM_ALGO_ORDERS', 'maxNumAlgoOrders': '5'}],\n",
       "  'permissions': [],\n",
       "  'permissionSets': [['SPOT',\n",
       "    'MARGIN',\n",
       "    'TRD_GRP_004',\n",
       "    'TRD_GRP_005',\n",
       "    'TRD_GRP_006',\n",
       "    'TRD_GRP_009',\n",
       "    'TRD_GRP_010',\n",
       "    'TRD_GRP_011',\n",
       "    'TRD_GRP_012',\n",
       "    'TRD_GRP_013',\n",
       "    'TRD_GRP_014',\n",
       "    'TRD_GRP_015',\n",
       "    'TRD_GRP_016',\n",
       "    'TRD_GRP_017',\n",
       "    'TRD_GRP_018',\n",
       "    'TRD_GRP_019',\n",
       "    'TRD_GRP_020',\n",
       "    'TRD_GRP_021',\n",
       "    'TRD_GRP_022',\n",
       "    'TRD_GRP_023',\n",
       "    'TRD_GRP_024',\n",
       "    'TRD_GRP_025',\n",
       "    'TRD_GRP_026',\n",
       "    'TRD_GRP_027',\n",
       "    'TRD_GRP_028',\n",
       "    'TRD_GRP_029',\n",
       "    'TRD_GRP_030']],\n",
       "  'defaultSelfTradePreventionMode': 'EXPIRE_MAKER',\n",
       "  'allowedSelfTradePreventionModes': ['EXPIRE_TAKER',\n",
       "   'EXPIRE_MAKER',\n",
       "   'EXPIRE_BOTH']},\n",
       " 'percentage': True,\n",
       " 'feeSide': 'get',\n",
       " 'tierBased': False}"
      ]
     },
     "execution_count": 11,
     "metadata": {},
     "output_type": "execute_result"
    }
   ],
   "source": [
    "btc_market = exchange_ins.markets[\"BTC/USDT\"]\n",
    "btc_market"
   ]
  },
  {
   "cell_type": "code",
   "execution_count": 8,
   "metadata": {},
   "outputs": [
    {
     "data": {
      "text/plain": [
       "{'id': 'ETHUSDT',\n",
       " 'lowercaseId': 'ethusdt',\n",
       " 'symbol': 'ETH/USDT',\n",
       " 'base': 'ETH',\n",
       " 'quote': 'USDT',\n",
       " 'settle': None,\n",
       " 'baseId': 'ETH',\n",
       " 'quoteId': 'USDT',\n",
       " 'settleId': None,\n",
       " 'type': 'spot',\n",
       " 'spot': True,\n",
       " 'margin': True,\n",
       " 'swap': False,\n",
       " 'future': False,\n",
       " 'option': False,\n",
       " 'index': None,\n",
       " 'active': True,\n",
       " 'contract': False,\n",
       " 'linear': None,\n",
       " 'inverse': None,\n",
       " 'subType': None,\n",
       " 'taker': 0.001,\n",
       " 'maker': 0.001,\n",
       " 'contractSize': None,\n",
       " 'expiry': None,\n",
       " 'expiryDatetime': None,\n",
       " 'strike': None,\n",
       " 'optionType': None,\n",
       " 'precision': {'amount': 4, 'price': 2, 'cost': None, 'base': 8, 'quote': 8},\n",
       " 'limits': {'leverage': {'min': None, 'max': None},\n",
       "  'amount': {'min': 0.0001, 'max': 9000.0},\n",
       "  'price': {'min': 0.01, 'max': 1000000.0},\n",
       "  'cost': {'min': 5.0, 'max': 9000000.0},\n",
       "  'market': {'min': 0.0, 'max': 2382.977595}},\n",
       " 'created': None,\n",
       " 'info': {'symbol': 'ETHUSDT',\n",
       "  'status': 'TRADING',\n",
       "  'baseAsset': 'ETH',\n",
       "  'baseAssetPrecision': '8',\n",
       "  'quoteAsset': 'USDT',\n",
       "  'quotePrecision': '8',\n",
       "  'quoteAssetPrecision': '8',\n",
       "  'baseCommissionPrecision': '8',\n",
       "  'quoteCommissionPrecision': '8',\n",
       "  'orderTypes': ['LIMIT',\n",
       "   'LIMIT_MAKER',\n",
       "   'MARKET',\n",
       "   'STOP_LOSS_LIMIT',\n",
       "   'TAKE_PROFIT_LIMIT'],\n",
       "  'icebergAllowed': True,\n",
       "  'ocoAllowed': True,\n",
       "  'otoAllowed': True,\n",
       "  'quoteOrderQtyMarketAllowed': True,\n",
       "  'allowTrailingStop': True,\n",
       "  'cancelReplaceAllowed': True,\n",
       "  'isSpotTradingAllowed': True,\n",
       "  'isMarginTradingAllowed': True,\n",
       "  'filters': [{'filterType': 'PRICE_FILTER',\n",
       "    'minPrice': '0.01000000',\n",
       "    'maxPrice': '1000000.00000000',\n",
       "    'tickSize': '0.01000000'},\n",
       "   {'filterType': 'LOT_SIZE',\n",
       "    'minQty': '0.00010000',\n",
       "    'maxQty': '9000.00000000',\n",
       "    'stepSize': '0.00010000'},\n",
       "   {'filterType': 'ICEBERG_PARTS', 'limit': '10'},\n",
       "   {'filterType': 'MARKET_LOT_SIZE',\n",
       "    'minQty': '0.00000000',\n",
       "    'maxQty': '2382.97759500',\n",
       "    'stepSize': '0.00000000'},\n",
       "   {'filterType': 'TRAILING_DELTA',\n",
       "    'minTrailingAboveDelta': '10',\n",
       "    'maxTrailingAboveDelta': '2000',\n",
       "    'minTrailingBelowDelta': '10',\n",
       "    'maxTrailingBelowDelta': '2000'},\n",
       "   {'filterType': 'PERCENT_PRICE_BY_SIDE',\n",
       "    'bidMultiplierUp': '5',\n",
       "    'bidMultiplierDown': '0.2',\n",
       "    'askMultiplierUp': '5',\n",
       "    'askMultiplierDown': '0.2',\n",
       "    'avgPriceMins': '5'},\n",
       "   {'filterType': 'NOTIONAL',\n",
       "    'minNotional': '5.00000000',\n",
       "    'applyMinToMarket': True,\n",
       "    'maxNotional': '9000000.00000000',\n",
       "    'applyMaxToMarket': False,\n",
       "    'avgPriceMins': '5'},\n",
       "   {'filterType': 'MAX_NUM_ORDERS', 'maxNumOrders': '200'},\n",
       "   {'filterType': 'MAX_NUM_ALGO_ORDERS', 'maxNumAlgoOrders': '5'}],\n",
       "  'permissions': [],\n",
       "  'permissionSets': [['SPOT',\n",
       "    'MARGIN',\n",
       "    'TRD_GRP_004',\n",
       "    'TRD_GRP_005',\n",
       "    'TRD_GRP_006',\n",
       "    'TRD_GRP_009',\n",
       "    'TRD_GRP_010',\n",
       "    'TRD_GRP_011',\n",
       "    'TRD_GRP_012',\n",
       "    'TRD_GRP_013',\n",
       "    'TRD_GRP_014',\n",
       "    'TRD_GRP_015',\n",
       "    'TRD_GRP_016',\n",
       "    'TRD_GRP_017',\n",
       "    'TRD_GRP_018',\n",
       "    'TRD_GRP_019',\n",
       "    'TRD_GRP_020',\n",
       "    'TRD_GRP_021',\n",
       "    'TRD_GRP_022',\n",
       "    'TRD_GRP_023',\n",
       "    'TRD_GRP_024',\n",
       "    'TRD_GRP_025',\n",
       "    'TRD_GRP_026',\n",
       "    'TRD_GRP_027',\n",
       "    'TRD_GRP_028',\n",
       "    'TRD_GRP_029',\n",
       "    'TRD_GRP_030']],\n",
       "  'defaultSelfTradePreventionMode': 'EXPIRE_MAKER',\n",
       "  'allowedSelfTradePreventionModes': ['EXPIRE_TAKER',\n",
       "   'EXPIRE_MAKER',\n",
       "   'EXPIRE_BOTH']},\n",
       " 'percentage': True,\n",
       " 'feeSide': 'get',\n",
       " 'tierBased': False}"
      ]
     },
     "execution_count": 8,
     "metadata": {},
     "output_type": "execute_result"
    }
   ],
   "source": [
    "eth_market = exchange_ins.markets[\"ETH/USDT\"]\n",
    "eth_market"
   ]
  },
  {
   "cell_type": "markdown",
   "metadata": {},
   "source": [
    "## Advanced Filter\n"
   ]
  },
  {
   "cell_type": "code",
   "execution_count": 16,
   "metadata": {},
   "outputs": [],
   "source": [
    "from typing import Any\n",
    "\n",
    "\n",
    "def get_markets(\n",
    "    spot_only: bool = False,\n",
    "    margin_only: bool = False,\n",
    "    futures_only: bool = False,\n",
    "    tradable_only: bool = True,\n",
    "    active_only: bool = False,\n",
    ") -> dict[str, Any]:\n",
    "    \"\"\"\n",
    "    Return exchange ccxt markets, filtered out by base currency and quote currency\n",
    "    if this was requested in parameters.\n",
    "    \"\"\"\n",
    "    markets = exchange_ins.load_markets()\n",
    "    if not markets:\n",
    "        raise RuntimeError(\"Markets were not loaded.\")\n",
    "\n",
    "    if spot_only:\n",
    "        markets = {k: v for k, v in markets.items() if v.get(\"spot\", False) is True}\n",
    "    if margin_only:\n",
    "        markets = {k: v for k, v in markets.items() if v.get(\"margin\", False) is True}\n",
    "    if futures_only:\n",
    "        #  the contract is a linear contract (settled in quote currency)\n",
    "        markets = {k: v for k, v in markets.items() if v.get(\"linear\", False) is True}\n",
    "    if active_only:\n",
    "        markets = {\n",
    "            k: v for k, v in markets.items() if v.get(\"active\", True) is not False\n",
    "        }\n",
    "\n",
    "    return markets"
   ]
  },
  {
   "cell_type": "code",
   "execution_count": 17,
   "metadata": {},
   "outputs": [],
   "source": [
    "spot = get_markets(spot_only=True)\n",
    "spot.get(\"ETH/USDT:USDT\")  # 获取合约,返回空"
   ]
  },
  {
   "cell_type": "code",
   "execution_count": 18,
   "metadata": {},
   "outputs": [
    {
     "data": {
      "text/plain": [
       "{'id': 'ETHUSDT',\n",
       " 'lowercaseId': 'ethusdt',\n",
       " 'symbol': 'ETH/USDT',\n",
       " 'base': 'ETH',\n",
       " 'quote': 'USDT',\n",
       " 'settle': None,\n",
       " 'baseId': 'ETH',\n",
       " 'quoteId': 'USDT',\n",
       " 'settleId': None,\n",
       " 'type': 'spot',\n",
       " 'spot': True,\n",
       " 'margin': True,\n",
       " 'swap': False,\n",
       " 'future': False,\n",
       " 'option': False,\n",
       " 'index': None,\n",
       " 'active': True,\n",
       " 'contract': False,\n",
       " 'linear': None,\n",
       " 'inverse': None,\n",
       " 'subType': None,\n",
       " 'taker': 0.001,\n",
       " 'maker': 0.001,\n",
       " 'contractSize': None,\n",
       " 'expiry': None,\n",
       " 'expiryDatetime': None,\n",
       " 'strike': None,\n",
       " 'optionType': None,\n",
       " 'precision': {'amount': 4, 'price': 2, 'cost': None, 'base': 8, 'quote': 8},\n",
       " 'limits': {'leverage': {'min': None, 'max': None},\n",
       "  'amount': {'min': 0.0001, 'max': 9000.0},\n",
       "  'price': {'min': 0.01, 'max': 1000000.0},\n",
       "  'cost': {'min': 5.0, 'max': 9000000.0},\n",
       "  'market': {'min': 0.0, 'max': 2382.977595}},\n",
       " 'created': None,\n",
       " 'info': {'symbol': 'ETHUSDT',\n",
       "  'status': 'TRADING',\n",
       "  'baseAsset': 'ETH',\n",
       "  'baseAssetPrecision': '8',\n",
       "  'quoteAsset': 'USDT',\n",
       "  'quotePrecision': '8',\n",
       "  'quoteAssetPrecision': '8',\n",
       "  'baseCommissionPrecision': '8',\n",
       "  'quoteCommissionPrecision': '8',\n",
       "  'orderTypes': ['LIMIT',\n",
       "   'LIMIT_MAKER',\n",
       "   'MARKET',\n",
       "   'STOP_LOSS_LIMIT',\n",
       "   'TAKE_PROFIT_LIMIT'],\n",
       "  'icebergAllowed': True,\n",
       "  'ocoAllowed': True,\n",
       "  'otoAllowed': True,\n",
       "  'quoteOrderQtyMarketAllowed': True,\n",
       "  'allowTrailingStop': True,\n",
       "  'cancelReplaceAllowed': True,\n",
       "  'isSpotTradingAllowed': True,\n",
       "  'isMarginTradingAllowed': True,\n",
       "  'filters': [{'filterType': 'PRICE_FILTER',\n",
       "    'minPrice': '0.01000000',\n",
       "    'maxPrice': '1000000.00000000',\n",
       "    'tickSize': '0.01000000'},\n",
       "   {'filterType': 'LOT_SIZE',\n",
       "    'minQty': '0.00010000',\n",
       "    'maxQty': '9000.00000000',\n",
       "    'stepSize': '0.00010000'},\n",
       "   {'filterType': 'ICEBERG_PARTS', 'limit': '10'},\n",
       "   {'filterType': 'MARKET_LOT_SIZE',\n",
       "    'minQty': '0.00000000',\n",
       "    'maxQty': '2382.97759500',\n",
       "    'stepSize': '0.00000000'},\n",
       "   {'filterType': 'TRAILING_DELTA',\n",
       "    'minTrailingAboveDelta': '10',\n",
       "    'maxTrailingAboveDelta': '2000',\n",
       "    'minTrailingBelowDelta': '10',\n",
       "    'maxTrailingBelowDelta': '2000'},\n",
       "   {'filterType': 'PERCENT_PRICE_BY_SIDE',\n",
       "    'bidMultiplierUp': '5',\n",
       "    'bidMultiplierDown': '0.2',\n",
       "    'askMultiplierUp': '5',\n",
       "    'askMultiplierDown': '0.2',\n",
       "    'avgPriceMins': '5'},\n",
       "   {'filterType': 'NOTIONAL',\n",
       "    'minNotional': '5.00000000',\n",
       "    'applyMinToMarket': True,\n",
       "    'maxNotional': '9000000.00000000',\n",
       "    'applyMaxToMarket': False,\n",
       "    'avgPriceMins': '5'},\n",
       "   {'filterType': 'MAX_NUM_ORDERS', 'maxNumOrders': '200'},\n",
       "   {'filterType': 'MAX_NUM_ALGO_ORDERS', 'maxNumAlgoOrders': '5'}],\n",
       "  'permissions': [],\n",
       "  'permissionSets': [['SPOT',\n",
       "    'MARGIN',\n",
       "    'TRD_GRP_004',\n",
       "    'TRD_GRP_005',\n",
       "    'TRD_GRP_006',\n",
       "    'TRD_GRP_009',\n",
       "    'TRD_GRP_010',\n",
       "    'TRD_GRP_011',\n",
       "    'TRD_GRP_012',\n",
       "    'TRD_GRP_013',\n",
       "    'TRD_GRP_014',\n",
       "    'TRD_GRP_015',\n",
       "    'TRD_GRP_016',\n",
       "    'TRD_GRP_017',\n",
       "    'TRD_GRP_018',\n",
       "    'TRD_GRP_019',\n",
       "    'TRD_GRP_020',\n",
       "    'TRD_GRP_021',\n",
       "    'TRD_GRP_022',\n",
       "    'TRD_GRP_023',\n",
       "    'TRD_GRP_024',\n",
       "    'TRD_GRP_025',\n",
       "    'TRD_GRP_026',\n",
       "    'TRD_GRP_027',\n",
       "    'TRD_GRP_028',\n",
       "    'TRD_GRP_029',\n",
       "    'TRD_GRP_030']],\n",
       "  'defaultSelfTradePreventionMode': 'EXPIRE_MAKER',\n",
       "  'allowedSelfTradePreventionModes': ['EXPIRE_TAKER',\n",
       "   'EXPIRE_MAKER',\n",
       "   'EXPIRE_BOTH']},\n",
       " 'percentage': True,\n",
       " 'feeSide': 'get',\n",
       " 'tierBased': False}"
      ]
     },
     "execution_count": 18,
     "metadata": {},
     "output_type": "execute_result"
    }
   ],
   "source": [
    "spot.get(\"ETH/USDT\")  # 获取现货ok"
   ]
  },
  {
   "cell_type": "markdown",
   "metadata": {},
   "source": [
    "# ohlcv\n"
   ]
  },
  {
   "cell_type": "code",
   "execution_count": 21,
   "metadata": {},
   "outputs": [
    {
     "name": "stdout",
     "output_type": "stream",
     "text": [
      "1720690821000\n",
      "<class 'list'>\n"
     ]
    }
   ],
   "source": [
    "from datetime import datetime, timedelta\n",
    "\n",
    "# 一天前\n",
    "time_stamp = int((datetime.now() - timedelta(days=1)).timestamp()) * 1000\n",
    "print(time_stamp)\n",
    "ohlcv = exchange_ins.fetch_ohlcv(\n",
    "    symbol=\"BTC/USDT:USDT\", timeframe=\"5m\", since=time_stamp, limit=300, params={}\n",
    ")\n",
    "print(type(ohlcv))  # <class 'list'>"
   ]
  },
  {
   "cell_type": "code",
   "execution_count": 22,
   "metadata": {},
   "outputs": [
    {
     "data": {
      "text/html": [
       "<div>\n",
       "<style scoped>\n",
       "    .dataframe tbody tr th:only-of-type {\n",
       "        vertical-align: middle;\n",
       "    }\n",
       "\n",
       "    .dataframe tbody tr th {\n",
       "        vertical-align: top;\n",
       "    }\n",
       "\n",
       "    .dataframe thead th {\n",
       "        text-align: right;\n",
       "    }\n",
       "</style>\n",
       "<table border=\"1\" class=\"dataframe\">\n",
       "  <thead>\n",
       "    <tr style=\"text-align: right;\">\n",
       "      <th></th>\n",
       "      <th>date</th>\n",
       "      <th>open</th>\n",
       "      <th>high</th>\n",
       "      <th>low</th>\n",
       "      <th>close</th>\n",
       "      <th>volume</th>\n",
       "    </tr>\n",
       "  </thead>\n",
       "  <tbody>\n",
       "    <tr>\n",
       "      <th>0</th>\n",
       "      <td>2024-07-11 09:45:00+00:00</td>\n",
       "      <td>58207.4</td>\n",
       "      <td>58212.8</td>\n",
       "      <td>58091.1</td>\n",
       "      <td>58173.6</td>\n",
       "      <td>468.517</td>\n",
       "    </tr>\n",
       "    <tr>\n",
       "      <th>1</th>\n",
       "      <td>2024-07-11 09:50:00+00:00</td>\n",
       "      <td>58173.7</td>\n",
       "      <td>58222.6</td>\n",
       "      <td>58139.3</td>\n",
       "      <td>58213.7</td>\n",
       "      <td>282.827</td>\n",
       "    </tr>\n",
       "    <tr>\n",
       "      <th>2</th>\n",
       "      <td>2024-07-11 09:55:00+00:00</td>\n",
       "      <td>58213.7</td>\n",
       "      <td>58293.5</td>\n",
       "      <td>58205.6</td>\n",
       "      <td>58265.7</td>\n",
       "      <td>468.394</td>\n",
       "    </tr>\n",
       "    <tr>\n",
       "      <th>3</th>\n",
       "      <td>2024-07-11 10:00:00+00:00</td>\n",
       "      <td>58265.8</td>\n",
       "      <td>58489.8</td>\n",
       "      <td>58239.6</td>\n",
       "      <td>58366.2</td>\n",
       "      <td>2218.911</td>\n",
       "    </tr>\n",
       "    <tr>\n",
       "      <th>4</th>\n",
       "      <td>2024-07-11 10:05:00+00:00</td>\n",
       "      <td>58366.2</td>\n",
       "      <td>58376.9</td>\n",
       "      <td>58213.0</td>\n",
       "      <td>58260.0</td>\n",
       "      <td>1013.294</td>\n",
       "    </tr>\n",
       "    <tr>\n",
       "      <th>...</th>\n",
       "      <td>...</td>\n",
       "      <td>...</td>\n",
       "      <td>...</td>\n",
       "      <td>...</td>\n",
       "      <td>...</td>\n",
       "      <td>...</td>\n",
       "    </tr>\n",
       "    <tr>\n",
       "      <th>283</th>\n",
       "      <td>2024-07-12 09:20:00+00:00</td>\n",
       "      <td>57153.6</td>\n",
       "      <td>57196.4</td>\n",
       "      <td>57145.5</td>\n",
       "      <td>57166.5</td>\n",
       "      <td>157.885</td>\n",
       "    </tr>\n",
       "    <tr>\n",
       "      <th>284</th>\n",
       "      <td>2024-07-12 09:25:00+00:00</td>\n",
       "      <td>57166.6</td>\n",
       "      <td>57184.8</td>\n",
       "      <td>57142.8</td>\n",
       "      <td>57161.6</td>\n",
       "      <td>166.331</td>\n",
       "    </tr>\n",
       "    <tr>\n",
       "      <th>285</th>\n",
       "      <td>2024-07-12 09:30:00+00:00</td>\n",
       "      <td>57161.9</td>\n",
       "      <td>57188.6</td>\n",
       "      <td>57081.7</td>\n",
       "      <td>57150.1</td>\n",
       "      <td>430.339</td>\n",
       "    </tr>\n",
       "    <tr>\n",
       "      <th>286</th>\n",
       "      <td>2024-07-12 09:35:00+00:00</td>\n",
       "      <td>57150.0</td>\n",
       "      <td>57157.1</td>\n",
       "      <td>57000.0</td>\n",
       "      <td>57087.0</td>\n",
       "      <td>1510.345</td>\n",
       "    </tr>\n",
       "    <tr>\n",
       "      <th>287</th>\n",
       "      <td>2024-07-12 09:40:00+00:00</td>\n",
       "      <td>57087.0</td>\n",
       "      <td>57090.9</td>\n",
       "      <td>57081.8</td>\n",
       "      <td>57081.9</td>\n",
       "      <td>21.811</td>\n",
       "    </tr>\n",
       "  </tbody>\n",
       "</table>\n",
       "<p>288 rows × 6 columns</p>\n",
       "</div>"
      ],
      "text/plain": [
       "                         date     open     high      low    close    volume\n",
       "0   2024-07-11 09:45:00+00:00  58207.4  58212.8  58091.1  58173.6   468.517\n",
       "1   2024-07-11 09:50:00+00:00  58173.7  58222.6  58139.3  58213.7   282.827\n",
       "2   2024-07-11 09:55:00+00:00  58213.7  58293.5  58205.6  58265.7   468.394\n",
       "3   2024-07-11 10:00:00+00:00  58265.8  58489.8  58239.6  58366.2  2218.911\n",
       "4   2024-07-11 10:05:00+00:00  58366.2  58376.9  58213.0  58260.0  1013.294\n",
       "..                        ...      ...      ...      ...      ...       ...\n",
       "283 2024-07-12 09:20:00+00:00  57153.6  57196.4  57145.5  57166.5   157.885\n",
       "284 2024-07-12 09:25:00+00:00  57166.6  57184.8  57142.8  57161.6   166.331\n",
       "285 2024-07-12 09:30:00+00:00  57161.9  57188.6  57081.7  57150.1   430.339\n",
       "286 2024-07-12 09:35:00+00:00  57150.0  57157.1  57000.0  57087.0  1510.345\n",
       "287 2024-07-12 09:40:00+00:00  57087.0  57090.9  57081.8  57081.9    21.811\n",
       "\n",
       "[288 rows x 6 columns]"
      ]
     },
     "execution_count": 22,
     "metadata": {},
     "output_type": "execute_result"
    }
   ],
   "source": [
    "import pandas as pd\n",
    "\n",
    "DEFAULT_DATAFRAME_COLUMNS = [\"date\", \"open\", \"high\", \"low\", \"close\", \"volume\"]\n",
    "df = pd.DataFrame(ohlcv, columns=DEFAULT_DATAFRAME_COLUMNS)\n",
    "df[\"date\"] = pd.to_datetime(df[\"date\"], unit=\"ms\", utc=True)\n",
    "df"
   ]
  },
  {
   "cell_type": "markdown",
   "metadata": {},
   "source": [
    "# coin\n",
    "\n",
    "force on one coin\n"
   ]
  },
  {
   "cell_type": "markdown",
   "metadata": {},
   "source": [
    "## long/short ratio\n",
    "\n",
    "TODO\n"
   ]
  },
  {
   "cell_type": "markdown",
   "metadata": {},
   "source": [
    "## order book ratio\n",
    "\n",
    "TODO\n"
   ]
  },
  {
   "cell_type": "markdown",
   "metadata": {},
   "source": [
    "# Ticker\n",
    "\n",
    "行情数据\n"
   ]
  },
  {
   "cell_type": "code",
   "execution_count": 8,
   "metadata": {},
   "outputs": [
    {
     "name": "stdout",
     "output_type": "stream",
     "text": [
      "63176.65\n",
      "3411.46\n"
     ]
    }
   ],
   "source": [
    "import ccxt\n",
    "\n",
    "# 创建交易所实例\n",
    "exchange = ccxt.binance()\n",
    "btc_ticker = exchange.fetch_ticker(\"BTC/USDT\")\n",
    "eth_ticker = exchange.fetch_ticker(\"ETH/USDT\")\n",
    "\n",
    "print(btc_ticker[\"last\"])\n",
    "print(eth_ticker[\"last\"])"
   ]
  }
 ],
 "metadata": {
  "kernelspec": {
   "display_name": ".venv",
   "language": "python",
   "name": "python3"
  },
  "language_info": {
   "codemirror_mode": {
    "name": "ipython",
    "version": 3
   },
   "file_extension": ".py",
   "mimetype": "text/x-python",
   "name": "python",
   "nbconvert_exporter": "python",
   "pygments_lexer": "ipython3",
   "version": "3.11.8"
  }
 },
 "nbformat": 4,
 "nbformat_minor": 2
}
