{
 "cells": [
  {
   "cell_type": "markdown",
   "metadata": {},
   "source": [
    "# Package Info\n"
   ]
  },
  {
   "cell_type": "code",
   "execution_count": 14,
   "metadata": {},
   "outputs": [],
   "source": [
    "import ccxt\n",
    "import ccxt.pro as ccxtpro"
   ]
  },
  {
   "cell_type": "code",
   "execution_count": 15,
   "metadata": {},
   "outputs": [
    {
     "data": {
      "text/plain": [
       "'4.3.40'"
      ]
     },
     "execution_count": 15,
     "metadata": {},
     "output_type": "execute_result"
    }
   ],
   "source": [
    "ccxt.__version__"
   ]
  },
  {
   "cell_type": "code",
   "execution_count": 16,
   "metadata": {},
   "outputs": [
    {
     "data": {
      "text/plain": [
       "'4.3.40'"
      ]
     },
     "execution_count": 16,
     "metadata": {},
     "output_type": "execute_result"
    }
   ],
   "source": [
    "ccxtpro.__version__"
   ]
  },
  {
   "cell_type": "markdown",
   "metadata": {},
   "source": [
    "# View Support Exchanges\n"
   ]
  },
  {
   "cell_type": "code",
   "execution_count": 17,
   "metadata": {},
   "outputs": [
    {
     "name": "stdout",
     "output_type": "stream",
     "text": [
      "105\n"
     ]
    }
   ],
   "source": [
    "print(len(ccxt.exchanges))"
   ]
  },
  {
   "cell_type": "code",
   "execution_count": 21,
   "metadata": {},
   "outputs": [
    {
     "name": "stdout",
     "output_type": "stream",
     "text": [
      "65\n"
     ]
    }
   ],
   "source": [
    "print(len(ccxtpro.exchanges))"
   ]
  },
  {
   "cell_type": "code",
   "execution_count": 18,
   "metadata": {},
   "outputs": [
    {
     "name": "stdout",
     "output_type": "stream",
     "text": [
      "ace\n",
      "alpaca\n",
      "ascendex\n",
      "bequant\n",
      "bigone\n",
      "binance\n",
      "binancecoinm\n",
      "binanceus\n",
      "binanceusdm\n",
      "bingx\n",
      "bit2c\n",
      "bitbank\n",
      "bitbay\n",
      "bitbns\n",
      "bitcoincom\n",
      "bitfinex\n",
      "bitfinex2\n",
      "bitflyer\n",
      "bitget\n",
      "bithumb\n",
      "bitmart\n",
      "bitmex\n",
      "bitopro\n",
      "bitpanda\n",
      "bitrue\n",
      "bitso\n",
      "bitstamp\n",
      "bitteam\n",
      "bitvavo\n",
      "bl3p\n",
      "blockchaincom\n",
      "blofin\n",
      "btcalpha\n",
      "btcbox\n",
      "btcmarkets\n",
      "btcturk\n",
      "bybit\n",
      "cex\n",
      "coinbase\n",
      "coinbaseadvanced\n",
      "coinbaseexchange\n",
      "coinbaseinternational\n",
      "coincheck\n",
      "coinex\n",
      "coinlist\n",
      "coinmate\n",
      "coinmetro\n",
      "coinone\n",
      "coinsph\n",
      "coinspot\n",
      "cryptocom\n",
      "currencycom\n",
      "delta\n",
      "deribit\n",
      "digifinex\n",
      "exmo\n",
      "fmfwio\n",
      "gate\n",
      "gateio\n",
      "gemini\n",
      "hitbtc\n",
      "hitbtc3\n",
      "hollaex\n",
      "htx\n",
      "huobi\n",
      "huobijp\n",
      "hyperliquid\n",
      "idex\n",
      "independentreserve\n",
      "indodax\n",
      "kraken\n",
      "krakenfutures\n",
      "kucoin\n",
      "kucoinfutures\n",
      "kuna\n",
      "latoken\n",
      "lbank\n",
      "luno\n",
      "lykke\n",
      "mercado\n",
      "mexc\n",
      "ndax\n",
      "novadax\n",
      "oceanex\n",
      "okcoin\n",
      "okx\n",
      "onetrading\n",
      "p2b\n",
      "paymium\n",
      "phemex\n",
      "poloniex\n",
      "poloniexfutures\n",
      "probit\n",
      "timex\n",
      "tokocrypto\n",
      "tradeogre\n",
      "upbit\n",
      "wavesexchange\n",
      "wazirx\n",
      "whitebit\n",
      "woo\n",
      "woofipro\n",
      "yobit\n",
      "zaif\n",
      "zonda\n"
     ]
    }
   ],
   "source": [
    "for exc in ccxt.exchanges:\n",
    "    print(exc)"
   ]
  },
  {
   "cell_type": "code",
   "execution_count": null,
   "metadata": {},
   "outputs": [],
   "source": []
  }
 ],
 "metadata": {
  "kernelspec": {
   "display_name": ".venv",
   "language": "python",
   "name": "python3"
  },
  "language_info": {
   "codemirror_mode": {
    "name": "ipython",
    "version": 3
   },
   "file_extension": ".py",
   "mimetype": "text/x-python",
   "name": "python",
   "nbconvert_exporter": "python",
   "pygments_lexer": "ipython3",
   "version": "3.11.8"
  }
 },
 "nbformat": 4,
 "nbformat_minor": 2
}
