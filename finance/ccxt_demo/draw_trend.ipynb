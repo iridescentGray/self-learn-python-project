{
 "cells": [
  {
   "cell_type": "markdown",
   "metadata": {},
   "source": [
    "# draw trade\n",
    "\n",
    "画出两个币的走势关系\n"
   ]
  },
  {
   "cell_type": "code",
   "execution_count": null,
   "metadata": {},
   "outputs": [],
   "source": [
    "pair1 = \"BTC/USDT\"\n",
    "pair2 = \"ZRO/USDT\""
   ]
  },
  {
   "cell_type": "code",
   "execution_count": null,
   "metadata": {},
   "outputs": [],
   "source": [
    "import pandas as pd\n",
    "import ccxt\n",
    "\n",
    "exchange_ins = ccxt.binance()\n",
    "\n",
    "DEFAULT_DATAFRAME_COLUMNS = [\"date\", \"open\", \"high\", \"low\", \"close\", \"volume\"]\n",
    "NEED__COLUMNS = [\"date\", \"close\"]\n",
    "\n",
    "\n",
    "def fetch_ohlcv(symbol, timeframe=\"5m\", since=None, limit=500):\n",
    "    ohlcv = exchange_ins.fetch_ohlcv(symbol, timeframe, since=since, limit=limit)\n",
    "    df = pd.DataFrame(ohlcv, columns=DEFAULT_DATAFRAME_COLUMNS)\n",
    "\n",
    "    # 只保留需要的2列\n",
    "    df = df[NEED__COLUMNS]\n",
    "    return df"
   ]
  },
  {
   "cell_type": "code",
   "execution_count": null,
   "metadata": {},
   "outputs": [],
   "source": [
    "import plotly.graph_objs as go\n",
    "from plotly.subplots import make_subplots\n",
    "\n",
    "def show_indicator(df1,df2):\n",
    "    # 创建子图\n",
    "    fig = make_subplots(rows=1, cols=2, shared_xaxes=True, subplot_titles=(pair1, pair2))\n",
    "\n",
    "    # 添加第一个数据框的线图\n",
    "    fig.add_trace(\n",
    "        go.Scatter(x=df1[\"date\"], y=df1[\"close\"], mode=\"lines\", name=pair1), row=1, col=1\n",
    "    )\n",
    "\n",
    "    # 添加第二个数据框的线图\n",
    "    fig.add_trace(\n",
    "        go.Scatter(x=df2[\"date\"], y=df2[\"close\"], mode=\"lines\", name=pair2), row=1, col=2\n",
    "    )\n",
    "\n",
    "    # 更新布局\n",
    "    fig.update_layout(\n",
    "        title_text=\"Price over Time Comparison\",\n",
    "        xaxis_title=\"Date\",\n",
    "        yaxis_title=\"Close Price\",\n",
    "        height=600,  # 设置图表高度\n",
    "    )\n",
    "    fig.show()"
   ]
  },
  {
   "cell_type": "markdown",
   "metadata": {},
   "source": [
    "## 1m\n"
   ]
  },
  {
   "cell_type": "code",
   "execution_count": null,
   "metadata": {},
   "outputs": [],
   "source": [
    "from datetime import datetime, timedelta\n",
    "\n",
    "one_day = int((datetime.now() - timedelta(days=1)).timestamp()) * 1000\n",
    "df1 = fetch_ohlcv(pair1, timeframe=\"1m\", since=one_day, limit=60 * 24)\n",
    "df2 = fetch_ohlcv(pair2, timeframe=\"1m\", since=one_day, limit=60 * 24)\n",
    "show_indicator(df1, df2)"
   ]
  },
  {
   "cell_type": "markdown",
   "metadata": {},
   "source": [
    "## 5m\n"
   ]
  },
  {
   "cell_type": "code",
   "execution_count": null,
   "metadata": {},
   "outputs": [],
   "source": [
    "df1 = fetch_ohlcv(pair1)\n",
    "df2 = fetch_ohlcv(pair2)\n",
    "show_indicator(df1, df2)"
   ]
  },
  {
   "cell_type": "markdown",
   "metadata": {},
   "source": [
    "# 15 m\n"
   ]
  },
  {
   "cell_type": "code",
   "execution_count": null,
   "metadata": {},
   "outputs": [],
   "source": [
    "limit = 10\n",
    "three_day = int((datetime.now() - timedelta(days=limit)).timestamp()) * 1000\n",
    "df1 = fetch_ohlcv(pair1, timeframe=\"15m\", since=three_day, limit=4 * 24 * limit)\n",
    "df2 = fetch_ohlcv(pair2, timeframe=\"15m\", since=three_day, limit=4 * 24 * limit)\n",
    "show_indicator(df1, df2)"
   ]
  },
  {
   "cell_type": "markdown",
   "metadata": {},
   "source": [
    "# 1 day\n"
   ]
  },
  {
   "cell_type": "code",
   "execution_count": null,
   "metadata": {},
   "outputs": [],
   "source": [
    "limit = 23\n",
    "one_day = int((datetime.now() - timedelta(days=limit)).timestamp()) * 1000\n",
    "df1 = fetch_ohlcv(pair1, timeframe=\"1d\", since=one_day, limit=limit)\n",
    "df2 = fetch_ohlcv(pair2, timeframe=\"1d\", since=one_day, limit=limit)\n",
    "show_indicator(df1, df2)走势"
   ]
  }
 ],
 "metadata": {
  "kernelspec": {
   "display_name": ".venv",
   "language": "python",
   "name": "python3"
  },
  "language_info": {
   "codemirror_mode": {
    "name": "ipython",
    "version": 3
   },
   "file_extension": ".py",
   "mimetype": "text/x-python",
   "name": "python",
   "nbconvert_exporter": "python",
   "pygments_lexer": "ipython3",
   "version": "3.11.8"
  }
 },
 "nbformat": 4,
 "nbformat_minor": 2
}
