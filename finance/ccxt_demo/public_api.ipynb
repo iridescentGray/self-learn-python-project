{
 "cells": [
  {
   "cell_type": "markdown",
   "metadata": {},
   "source": [
    "# introduce\n",
    "\n",
    "- public_api提供公共Api,无需认证/授权"
   ]
  },
  {
   "cell_type": "code",
   "execution_count": 2,
   "metadata": {},
   "outputs": [
    {
     "data": {
      "text/plain": [
       "ccxt.binance()"
      ]
     },
     "execution_count": 2,
     "metadata": {},
     "output_type": "execute_result"
    }
   ],
   "source": [
    "import ccxt\n",
    "exchange_ins = ccxt.binance()\n",
    "exchange_ins"
   ]
  },
  {
   "cell_type": "markdown",
   "metadata": {},
   "source": [
    "#  time\n",
    "返回交易所毫秒级时间戳"
   ]
  },
  {
   "cell_type": "code",
   "execution_count": 21,
   "metadata": {},
   "outputs": [
    {
     "data": {
      "text/plain": [
       "1723444923238"
      ]
     },
     "execution_count": 21,
     "metadata": {},
     "output_type": "execute_result"
    }
   ],
   "source": [
    "exchange_ins.fetch_time()"
   ]
  },
  {
   "cell_type": "markdown",
   "metadata": {},
   "source": [
    "# markets\n",
    "\n",
    "- In ccxt：\n",
    "  - every exchange offers multiple markets(coin) within itself.\n",
    "  - Each market is defined by two or more currencies(USDT,USDC).\n"
   ]
  },
  {
   "cell_type": "markdown",
   "metadata": {},
   "source": [
    "## Load all\n"
   ]
  },
  {
   "cell_type": "code",
   "execution_count": 4,
   "metadata": {},
   "outputs": [],
   "source": [
    "# 注意 此方法会产生本地缓存,第二次调用使用缓存\n",
    "market = exchange_ins.load_markets()"
   ]
  },
  {
   "cell_type": "code",
   "execution_count": null,
   "metadata": {},
   "outputs": [],
   "source": [
    "# 无缓存\n",
    "market = exchange_ins.load_markets(reload=True)"
   ]
  },
  {
   "cell_type": "markdown",
   "metadata": {},
   "source": [
    "## Get One\n"
   ]
  },
  {
   "cell_type": "code",
   "execution_count": null,
   "metadata": {},
   "outputs": [
    {
     "data": {
      "text/plain": [
       "{'id': 'BTCUSDT',\n",
       " 'lowercaseId': 'btcusdt',\n",
       " 'symbol': 'BTC/USDT',\n",
       " 'base': 'BTC',\n",
       " 'quote': 'USDT',\n",
       " 'settle': None,\n",
       " 'baseId': 'BTC',\n",
       " 'quoteId': 'USDT',\n",
       " 'settleId': None,\n",
       " 'type': 'spot',\n",
       " 'spot': True,\n",
       " 'margin': True,\n",
       " 'swap': False,\n",
       " 'future': False,\n",
       " 'option': False,\n",
       " 'index': None,\n",
       " 'active': True,\n",
       " 'contract': False,\n",
       " 'linear': None,\n",
       " 'inverse': None,\n",
       " 'subType': None,\n",
       " 'taker': 0.001,\n",
       " 'maker': 0.001,\n",
       " 'contractSize': None,\n",
       " 'expiry': None,\n",
       " 'expiryDatetime': None,\n",
       " 'strike': None,\n",
       " 'optionType': None,\n",
       " 'precision': {'amount': 1e-05,\n",
       "  'price': 0.01,\n",
       "  'cost': None,\n",
       "  'base': 1e-08,\n",
       "  'quote': 1e-08},\n",
       " 'limits': {'leverage': {'min': None, 'max': None},\n",
       "  'amount': {'min': 1e-05, 'max': 9000.0},\n",
       "  'price': {'min': 0.01, 'max': 1000000.0},\n",
       "  'cost': {'min': 5.0, 'max': 9000000.0},\n",
       "  'market': {'min': 0.0, 'max': 108.87919041}},\n",
       " 'created': None,\n",
       " 'info': {'symbol': 'BTCUSDT',\n",
       "  'status': 'TRADING',\n",
       "  'baseAsset': 'BTC',\n",
       "  'baseAssetPrecision': '8',\n",
       "  'quoteAsset': 'USDT',\n",
       "  'quotePrecision': '8',\n",
       "  'quoteAssetPrecision': '8',\n",
       "  'baseCommissionPrecision': '8',\n",
       "  'quoteCommissionPrecision': '8',\n",
       "  'orderTypes': ['LIMIT',\n",
       "   'LIMIT_MAKER',\n",
       "   'MARKET',\n",
       "   'STOP_LOSS',\n",
       "   'STOP_LOSS_LIMIT',\n",
       "   'TAKE_PROFIT',\n",
       "   'TAKE_PROFIT_LIMIT'],\n",
       "  'icebergAllowed': True,\n",
       "  'ocoAllowed': True,\n",
       "  'otoAllowed': True,\n",
       "  'quoteOrderQtyMarketAllowed': True,\n",
       "  'allowTrailingStop': True,\n",
       "  'cancelReplaceAllowed': True,\n",
       "  'isSpotTradingAllowed': True,\n",
       "  'isMarginTradingAllowed': True,\n",
       "  'filters': [{'filterType': 'PRICE_FILTER',\n",
       "    'minPrice': '0.01000000',\n",
       "    'maxPrice': '1000000.00000000',\n",
       "    'tickSize': '0.01000000'},\n",
       "   {'filterType': 'LOT_SIZE',\n",
       "    'minQty': '0.00001000',\n",
       "    'maxQty': '9000.00000000',\n",
       "    'stepSize': '0.00001000'},\n",
       "   {'filterType': 'ICEBERG_PARTS', 'limit': '10'},\n",
       "   {'filterType': 'MARKET_LOT_SIZE',\n",
       "    'minQty': '0.00000000',\n",
       "    'maxQty': '108.87919041',\n",
       "    'stepSize': '0.00000000'},\n",
       "   {'filterType': 'TRAILING_DELTA',\n",
       "    'minTrailingAboveDelta': '10',\n",
       "    'maxTrailingAboveDelta': '2000',\n",
       "    'minTrailingBelowDelta': '10',\n",
       "    'maxTrailingBelowDelta': '2000'},\n",
       "   {'filterType': 'PERCENT_PRICE_BY_SIDE',\n",
       "    'bidMultiplierUp': '5',\n",
       "    'bidMultiplierDown': '0.2',\n",
       "    'askMultiplierUp': '5',\n",
       "    'askMultiplierDown': '0.2',\n",
       "    'avgPriceMins': '5'},\n",
       "   {'filterType': 'NOTIONAL',\n",
       "    'minNotional': '5.00000000',\n",
       "    'applyMinToMarket': True,\n",
       "    'maxNotional': '9000000.00000000',\n",
       "    'applyMaxToMarket': False,\n",
       "    'avgPriceMins': '5'},\n",
       "   {'filterType': 'MAX_NUM_ORDERS', 'maxNumOrders': '200'},\n",
       "   {'filterType': 'MAX_NUM_ALGO_ORDERS', 'maxNumAlgoOrders': '5'}],\n",
       "  'permissions': [],\n",
       "  'permissionSets': [['SPOT',\n",
       "    'MARGIN',\n",
       "    'TRD_GRP_004',\n",
       "    'TRD_GRP_005',\n",
       "    'TRD_GRP_006',\n",
       "    'TRD_GRP_009',\n",
       "    'TRD_GRP_010',\n",
       "    'TRD_GRP_011',\n",
       "    'TRD_GRP_012',\n",
       "    'TRD_GRP_013',\n",
       "    'TRD_GRP_014',\n",
       "    'TRD_GRP_015',\n",
       "    'TRD_GRP_016',\n",
       "    'TRD_GRP_017',\n",
       "    'TRD_GRP_018',\n",
       "    'TRD_GRP_019',\n",
       "    'TRD_GRP_020',\n",
       "    'TRD_GRP_021',\n",
       "    'TRD_GRP_022',\n",
       "    'TRD_GRP_023',\n",
       "    'TRD_GRP_024',\n",
       "    'TRD_GRP_025',\n",
       "    'TRD_GRP_026',\n",
       "    'TRD_GRP_027',\n",
       "    'TRD_GRP_028',\n",
       "    'TRD_GRP_029',\n",
       "    'TRD_GRP_030',\n",
       "    'TRD_GRP_031',\n",
       "    'TRD_GRP_032',\n",
       "    'TRD_GRP_033',\n",
       "    'TRD_GRP_034',\n",
       "    'TRD_GRP_035',\n",
       "    'TRD_GRP_036',\n",
       "    'TRD_GRP_037',\n",
       "    'TRD_GRP_038',\n",
       "    'TRD_GRP_039',\n",
       "    'TRD_GRP_040',\n",
       "    'TRD_GRP_041',\n",
       "    'TRD_GRP_042',\n",
       "    'TRD_GRP_043',\n",
       "    'TRD_GRP_044',\n",
       "    'TRD_GRP_045',\n",
       "    'TRD_GRP_046',\n",
       "    'TRD_GRP_047',\n",
       "    'TRD_GRP_048',\n",
       "    'TRD_GRP_049']],\n",
       "  'defaultSelfTradePreventionMode': 'EXPIRE_MAKER',\n",
       "  'allowedSelfTradePreventionModes': ['EXPIRE_TAKER',\n",
       "   'EXPIRE_MAKER',\n",
       "   'EXPIRE_BOTH']},\n",
       " 'percentage': True,\n",
       " 'feeSide': 'get',\n",
       " 'tierBased': False}"
      ]
     },
     "metadata": {},
     "output_type": "display_data"
    }
   ],
   "source": [
    "btc_market = exchange_ins.markets[\"BTC/USDT\"]\n",
    "btc_market"
   ]
  },
  {
   "cell_type": "code",
   "execution_count": 20,
   "metadata": {},
   "outputs": [
    {
     "data": {
      "text/plain": [
       "True"
      ]
     },
     "execution_count": 20,
     "metadata": {},
     "output_type": "execute_result"
    }
   ],
   "source": [
    "exchange_ins.markets.get(\"ETH/USDT\",{}).get(\"spot\")"
   ]
  },
  {
   "cell_type": "markdown",
   "metadata": {},
   "source": [
    "## Advanced Filter\n"
   ]
  },
  {
   "cell_type": "code",
   "execution_count": null,
   "metadata": {},
   "outputs": [],
   "source": [
    "from typing import Any\n",
    "\n",
    "\n",
    "def get_markets(\n",
    "    spot_only: bool = False,\n",
    "    margin_only: bool = False,\n",
    "    futures_only: bool = False,\n",
    "    tradable_only: bool = True,\n",
    "    active_only: bool = False,\n",
    ") -> dict[str, Any]:\n",
    "    \"\"\"\n",
    "    Return exchange ccxt markets, filtered out by base currency and quote currency\n",
    "    if this was requested in parameters.\n",
    "    \"\"\"\n",
    "    markets = exchange_ins.load_markets()\n",
    "    if not markets:\n",
    "        raise RuntimeError(\"Markets were not loaded.\")\n",
    "\n",
    "    if spot_only:\n",
    "        markets = {k: v for k, v in markets.items() if v.get(\"spot\", False) is True}\n",
    "    if margin_only:\n",
    "        markets = {k: v for k, v in markets.items() if v.get(\"margin\", False) is True}\n",
    "    if futures_only:\n",
    "        #  the contract is a linear contract (settled in quote currency)\n",
    "        markets = {k: v for k, v in markets.items() if v.get(\"linear\", False) is True}\n",
    "    if active_only:\n",
    "        markets = {\n",
    "            k: v for k, v in markets.items() if v.get(\"active\", True) is not False\n",
    "        }\n",
    "\n",
    "    return markets"
   ]
  },
  {
   "cell_type": "code",
   "execution_count": null,
   "metadata": {},
   "outputs": [],
   "source": [
    "spot = get_markets(spot_only=True)\n",
    "spot.get(\"ETH/USDT:USDT\")  # 获取合约,返回空"
   ]
  },
  {
   "cell_type": "code",
   "execution_count": null,
   "metadata": {},
   "outputs": [
    {
     "data": {
      "text/plain": [
       "{'id': 'ETHUSDT',\n",
       " 'lowercaseId': 'ethusdt',\n",
       " 'symbol': 'ETH/USDT',\n",
       " 'base': 'ETH',\n",
       " 'quote': 'USDT',\n",
       " 'settle': None,\n",
       " 'baseId': 'ETH',\n",
       " 'quoteId': 'USDT',\n",
       " 'settleId': None,\n",
       " 'type': 'spot',\n",
       " 'spot': True,\n",
       " 'margin': True,\n",
       " 'swap': False,\n",
       " 'future': False,\n",
       " 'option': False,\n",
       " 'index': None,\n",
       " 'active': True,\n",
       " 'contract': False,\n",
       " 'linear': None,\n",
       " 'inverse': None,\n",
       " 'subType': None,\n",
       " 'taker': 0.001,\n",
       " 'maker': 0.001,\n",
       " 'contractSize': None,\n",
       " 'expiry': None,\n",
       " 'expiryDatetime': None,\n",
       " 'strike': None,\n",
       " 'optionType': None,\n",
       " 'precision': {'amount': 4, 'price': 2, 'cost': None, 'base': 8, 'quote': 8},\n",
       " 'limits': {'leverage': {'min': None, 'max': None},\n",
       "  'amount': {'min': 0.0001, 'max': 9000.0},\n",
       "  'price': {'min': 0.01, 'max': 1000000.0},\n",
       "  'cost': {'min': 5.0, 'max': 9000000.0},\n",
       "  'market': {'min': 0.0, 'max': 2382.977595}},\n",
       " 'created': None,\n",
       " 'info': {'symbol': 'ETHUSDT',\n",
       "  'status': 'TRADING',\n",
       "  'baseAsset': 'ETH',\n",
       "  'baseAssetPrecision': '8',\n",
       "  'quoteAsset': 'USDT',\n",
       "  'quotePrecision': '8',\n",
       "  'quoteAssetPrecision': '8',\n",
       "  'baseCommissionPrecision': '8',\n",
       "  'quoteCommissionPrecision': '8',\n",
       "  'orderTypes': ['LIMIT',\n",
       "   'LIMIT_MAKER',\n",
       "   'MARKET',\n",
       "   'STOP_LOSS_LIMIT',\n",
       "   'TAKE_PROFIT_LIMIT'],\n",
       "  'icebergAllowed': True,\n",
       "  'ocoAllowed': True,\n",
       "  'otoAllowed': True,\n",
       "  'quoteOrderQtyMarketAllowed': True,\n",
       "  'allowTrailingStop': True,\n",
       "  'cancelReplaceAllowed': True,\n",
       "  'isSpotTradingAllowed': True,\n",
       "  'isMarginTradingAllowed': True,\n",
       "  'filters': [{'filterType': 'PRICE_FILTER',\n",
       "    'minPrice': '0.01000000',\n",
       "    'maxPrice': '1000000.00000000',\n",
       "    'tickSize': '0.01000000'},\n",
       "   {'filterType': 'LOT_SIZE',\n",
       "    'minQty': '0.00010000',\n",
       "    'maxQty': '9000.00000000',\n",
       "    'stepSize': '0.00010000'},\n",
       "   {'filterType': 'ICEBERG_PARTS', 'limit': '10'},\n",
       "   {'filterType': 'MARKET_LOT_SIZE',\n",
       "    'minQty': '0.00000000',\n",
       "    'maxQty': '2382.97759500',\n",
       "    'stepSize': '0.00000000'},\n",
       "   {'filterType': 'TRAILING_DELTA',\n",
       "    'minTrailingAboveDelta': '10',\n",
       "    'maxTrailingAboveDelta': '2000',\n",
       "    'minTrailingBelowDelta': '10',\n",
       "    'maxTrailingBelowDelta': '2000'},\n",
       "   {'filterType': 'PERCENT_PRICE_BY_SIDE',\n",
       "    'bidMultiplierUp': '5',\n",
       "    'bidMultiplierDown': '0.2',\n",
       "    'askMultiplierUp': '5',\n",
       "    'askMultiplierDown': '0.2',\n",
       "    'avgPriceMins': '5'},\n",
       "   {'filterType': 'NOTIONAL',\n",
       "    'minNotional': '5.00000000',\n",
       "    'applyMinToMarket': True,\n",
       "    'maxNotional': '9000000.00000000',\n",
       "    'applyMaxToMarket': False,\n",
       "    'avgPriceMins': '5'},\n",
       "   {'filterType': 'MAX_NUM_ORDERS', 'maxNumOrders': '200'},\n",
       "   {'filterType': 'MAX_NUM_ALGO_ORDERS', 'maxNumAlgoOrders': '5'}],\n",
       "  'permissions': [],\n",
       "  'permissionSets': [['SPOT',\n",
       "    'MARGIN',\n",
       "    'TRD_GRP_004',\n",
       "    'TRD_GRP_005',\n",
       "    'TRD_GRP_006',\n",
       "    'TRD_GRP_009',\n",
       "    'TRD_GRP_010',\n",
       "    'TRD_GRP_011',\n",
       "    'TRD_GRP_012',\n",
       "    'TRD_GRP_013',\n",
       "    'TRD_GRP_014',\n",
       "    'TRD_GRP_015',\n",
       "    'TRD_GRP_016',\n",
       "    'TRD_GRP_017',\n",
       "    'TRD_GRP_018',\n",
       "    'TRD_GRP_019',\n",
       "    'TRD_GRP_020',\n",
       "    'TRD_GRP_021',\n",
       "    'TRD_GRP_022',\n",
       "    'TRD_GRP_023',\n",
       "    'TRD_GRP_024',\n",
       "    'TRD_GRP_025',\n",
       "    'TRD_GRP_026',\n",
       "    'TRD_GRP_027',\n",
       "    'TRD_GRP_028',\n",
       "    'TRD_GRP_029',\n",
       "    'TRD_GRP_030']],\n",
       "  'defaultSelfTradePreventionMode': 'EXPIRE_MAKER',\n",
       "  'allowedSelfTradePreventionModes': ['EXPIRE_TAKER',\n",
       "   'EXPIRE_MAKER',\n",
       "   'EXPIRE_BOTH']},\n",
       " 'percentage': True,\n",
       " 'feeSide': 'get',\n",
       " 'tierBased': False}"
      ]
     },
     "metadata": {},
     "output_type": "display_data"
    }
   ],
   "source": [
    "spot.get(\"ETH/USDT\")  # 获取现货"
   ]
  },
  {
   "cell_type": "markdown",
   "metadata": {},
   "source": [
    "# ohlcv\n"
   ]
  },
  {
   "cell_type": "code",
   "execution_count": null,
   "metadata": {},
   "outputs": [
    {
     "name": "stdout",
     "output_type": "stream",
     "text": [
      "1720690821000\n",
      "<class 'list'>\n"
     ]
    }
   ],
   "source": [
    "from datetime import datetime, timedelta\n",
    "\n",
    "# 一天前\n",
    "time_stamp = int((datetime.now() - timedelta(days=1)).timestamp()) * 1000\n",
    "print(time_stamp)\n",
    "ohlcv = exchange_ins.fetch_ohlcv(\n",
    "    symbol=\"BTC/USDT:USDT\", timeframe=\"5m\", since=time_stamp, limit=300, params={}\n",
    ")\n",
    "print(type(ohlcv))  # <class 'list'>"
   ]
  },
  {
   "cell_type": "code",
   "execution_count": null,
   "metadata": {},
   "outputs": [
    {
     "data": {
      "text/html": [
       "<div>\n",
       "<style scoped>\n",
       "    .dataframe tbody tr th:only-of-type {\n",
       "        vertical-align: middle;\n",
       "    }\n",
       "\n",
       "    .dataframe tbody tr th {\n",
       "        vertical-align: top;\n",
       "    }\n",
       "\n",
       "    .dataframe thead th {\n",
       "        text-align: right;\n",
       "    }\n",
       "</style>\n",
       "<table border=\"1\" class=\"dataframe\">\n",
       "  <thead>\n",
       "    <tr style=\"text-align: right;\">\n",
       "      <th></th>\n",
       "      <th>date</th>\n",
       "      <th>open</th>\n",
       "      <th>high</th>\n",
       "      <th>low</th>\n",
       "      <th>close</th>\n",
       "      <th>volume</th>\n",
       "    </tr>\n",
       "  </thead>\n",
       "  <tbody>\n",
       "    <tr>\n",
       "      <th>0</th>\n",
       "      <td>2024-07-11 09:45:00+00:00</td>\n",
       "      <td>58207.4</td>\n",
       "      <td>58212.8</td>\n",
       "      <td>58091.1</td>\n",
       "      <td>58173.6</td>\n",
       "      <td>468.517</td>\n",
       "    </tr>\n",
       "    <tr>\n",
       "      <th>1</th>\n",
       "      <td>2024-07-11 09:50:00+00:00</td>\n",
       "      <td>58173.7</td>\n",
       "      <td>58222.6</td>\n",
       "      <td>58139.3</td>\n",
       "      <td>58213.7</td>\n",
       "      <td>282.827</td>\n",
       "    </tr>\n",
       "    <tr>\n",
       "      <th>2</th>\n",
       "      <td>2024-07-11 09:55:00+00:00</td>\n",
       "      <td>58213.7</td>\n",
       "      <td>58293.5</td>\n",
       "      <td>58205.6</td>\n",
       "      <td>58265.7</td>\n",
       "      <td>468.394</td>\n",
       "    </tr>\n",
       "    <tr>\n",
       "      <th>3</th>\n",
       "      <td>2024-07-11 10:00:00+00:00</td>\n",
       "      <td>58265.8</td>\n",
       "      <td>58489.8</td>\n",
       "      <td>58239.6</td>\n",
       "      <td>58366.2</td>\n",
       "      <td>2218.911</td>\n",
       "    </tr>\n",
       "    <tr>\n",
       "      <th>4</th>\n",
       "      <td>2024-07-11 10:05:00+00:00</td>\n",
       "      <td>58366.2</td>\n",
       "      <td>58376.9</td>\n",
       "      <td>58213.0</td>\n",
       "      <td>58260.0</td>\n",
       "      <td>1013.294</td>\n",
       "    </tr>\n",
       "    <tr>\n",
       "      <th>...</th>\n",
       "      <td>...</td>\n",
       "      <td>...</td>\n",
       "      <td>...</td>\n",
       "      <td>...</td>\n",
       "      <td>...</td>\n",
       "      <td>...</td>\n",
       "    </tr>\n",
       "    <tr>\n",
       "      <th>283</th>\n",
       "      <td>2024-07-12 09:20:00+00:00</td>\n",
       "      <td>57153.6</td>\n",
       "      <td>57196.4</td>\n",
       "      <td>57145.5</td>\n",
       "      <td>57166.5</td>\n",
       "      <td>157.885</td>\n",
       "    </tr>\n",
       "    <tr>\n",
       "      <th>284</th>\n",
       "      <td>2024-07-12 09:25:00+00:00</td>\n",
       "      <td>57166.6</td>\n",
       "      <td>57184.8</td>\n",
       "      <td>57142.8</td>\n",
       "      <td>57161.6</td>\n",
       "      <td>166.331</td>\n",
       "    </tr>\n",
       "    <tr>\n",
       "      <th>285</th>\n",
       "      <td>2024-07-12 09:30:00+00:00</td>\n",
       "      <td>57161.9</td>\n",
       "      <td>57188.6</td>\n",
       "      <td>57081.7</td>\n",
       "      <td>57150.1</td>\n",
       "      <td>430.339</td>\n",
       "    </tr>\n",
       "    <tr>\n",
       "      <th>286</th>\n",
       "      <td>2024-07-12 09:35:00+00:00</td>\n",
       "      <td>57150.0</td>\n",
       "      <td>57157.1</td>\n",
       "      <td>57000.0</td>\n",
       "      <td>57087.0</td>\n",
       "      <td>1510.345</td>\n",
       "    </tr>\n",
       "    <tr>\n",
       "      <th>287</th>\n",
       "      <td>2024-07-12 09:40:00+00:00</td>\n",
       "      <td>57087.0</td>\n",
       "      <td>57090.9</td>\n",
       "      <td>57081.8</td>\n",
       "      <td>57081.9</td>\n",
       "      <td>21.811</td>\n",
       "    </tr>\n",
       "  </tbody>\n",
       "</table>\n",
       "<p>288 rows × 6 columns</p>\n",
       "</div>"
      ],
      "text/plain": [
       "                         date     open     high      low    close    volume\n",
       "0   2024-07-11 09:45:00+00:00  58207.4  58212.8  58091.1  58173.6   468.517\n",
       "1   2024-07-11 09:50:00+00:00  58173.7  58222.6  58139.3  58213.7   282.827\n",
       "2   2024-07-11 09:55:00+00:00  58213.7  58293.5  58205.6  58265.7   468.394\n",
       "3   2024-07-11 10:00:00+00:00  58265.8  58489.8  58239.6  58366.2  2218.911\n",
       "4   2024-07-11 10:05:00+00:00  58366.2  58376.9  58213.0  58260.0  1013.294\n",
       "..                        ...      ...      ...      ...      ...       ...\n",
       "283 2024-07-12 09:20:00+00:00  57153.6  57196.4  57145.5  57166.5   157.885\n",
       "284 2024-07-12 09:25:00+00:00  57166.6  57184.8  57142.8  57161.6   166.331\n",
       "285 2024-07-12 09:30:00+00:00  57161.9  57188.6  57081.7  57150.1   430.339\n",
       "286 2024-07-12 09:35:00+00:00  57150.0  57157.1  57000.0  57087.0  1510.345\n",
       "287 2024-07-12 09:40:00+00:00  57087.0  57090.9  57081.8  57081.9    21.811\n",
       "\n",
       "[288 rows x 6 columns]"
      ]
     },
     "metadata": {},
     "output_type": "display_data"
    }
   ],
   "source": [
    "import pandas as pd\n",
    "\n",
    "DEFAULT_DATAFRAME_COLUMNS = [\"date\", \"open\", \"high\", \"low\", \"close\", \"volume\"]\n",
    "df = pd.DataFrame(ohlcv, columns=DEFAULT_DATAFRAME_COLUMNS)\n",
    "df[\"date\"] = pd.to_datetime(df[\"date\"], unit=\"ms\", utc=True)\n",
    "df"
   ]
  },
  {
   "cell_type": "markdown",
   "metadata": {},
   "source": [
    "# order book"
   ]
  },
  {
   "cell_type": "code",
   "execution_count": 9,
   "metadata": {},
   "outputs": [
    {
     "data": {
      "text/plain": [
       "{'symbol': 'ZRO/USDT',\n",
       " 'bids': [[3.272, 1280.97],\n",
       "  [3.271, 1598.43],\n",
       "  [3.27, 1985.1],\n",
       "  [3.269, 1858.48],\n",
       "  [3.268, 2344.07],\n",
       "  [3.267, 3882.77],\n",
       "  [3.266, 3768.7],\n",
       "  [3.265, 813.52],\n",
       "  [3.264, 1672.9],\n",
       "  [3.263, 2598.61]],\n",
       " 'asks': [[3.273, 12.0],\n",
       "  [3.274, 512.28],\n",
       "  [3.275, 2501.72],\n",
       "  [3.276, 2417.64],\n",
       "  [3.277, 958.78],\n",
       "  [3.278, 2755.09],\n",
       "  [3.279, 861.09],\n",
       "  [3.28, 2563.11],\n",
       "  [3.281, 852.8],\n",
       "  [3.282, 1568.27]],\n",
       " 'timestamp': None,\n",
       " 'datetime': None,\n",
       " 'nonce': 316242461}"
      ]
     },
     "execution_count": 9,
     "metadata": {},
     "output_type": "execute_result"
    }
   ],
   "source": [
    "exchange_ins.fetch_order_book(\"ZRO/USDT\",limit=10)"
   ]
  },
  {
   "cell_type": "code",
   "execution_count": 10,
   "metadata": {},
   "outputs": [
    {
     "data": {
      "text/plain": [
       "{'symbol': 'ZRO/USDT',\n",
       " 'bids': [[3.272, 1280.97],\n",
       "  [3.271, 1598.43],\n",
       "  [3.27, 2190.41],\n",
       "  [3.269, 1958.48],\n",
       "  [3.268, 2344.07],\n",
       "  [3.267, 3882.77],\n",
       "  [3.266, 3768.7],\n",
       "  [3.265, 813.52],\n",
       "  [3.264, 1672.9],\n",
       "  [3.263, 2598.61]],\n",
       " 'asks': [[3.273, 12.0],\n",
       "  [3.274, 512.28],\n",
       "  [3.275, 2501.72],\n",
       "  [3.276, 2417.64],\n",
       "  [3.277, 958.78],\n",
       "  [3.278, 2755.09],\n",
       "  [3.279, 861.09],\n",
       "  [3.28, 2563.11],\n",
       "  [3.281, 852.8],\n",
       "  [3.282, 1568.27]],\n",
       " 'timestamp': None,\n",
       " 'datetime': None,\n",
       " 'nonce': 316242472}"
      ]
     },
     "execution_count": 10,
     "metadata": {},
     "output_type": "execute_result"
    }
   ],
   "source": [
    "# L2 order book的特点: 相同价格的订单会被合并到一起\n",
    "exchange_ins.fetch_l2_order_book(\"ZRO/USDT\", limit=10)"
   ]
  },
  {
   "cell_type": "markdown",
   "metadata": {},
   "source": [
    "# ticker\n",
    "\n",
    "过去24小时行情数据\n"
   ]
  },
  {
   "cell_type": "code",
   "execution_count": 26,
   "metadata": {},
   "outputs": [
    {
     "data": {
      "text/plain": [
       "{'symbol': 'ZRO/USDT',\n",
       " 'timestamp': 1723627679631,\n",
       " 'datetime': '2024-08-14T09:27:59.631Z',\n",
       " 'high': 3.624,\n",
       " 'low': 3.374,\n",
       " 'bid': 3.54,\n",
       " 'bidVolume': 309.28,\n",
       " 'ask': 3.541,\n",
       " 'askVolume': 578.15,\n",
       " 'vwap': 3.51122803,\n",
       " 'open': 3.387,\n",
       " 'close': 3.54,\n",
       " 'last': 3.54,\n",
       " 'previousClose': 3.387,\n",
       " 'change': 0.153,\n",
       " 'percentage': 4.517,\n",
       " 'average': 3.4635,\n",
       " 'baseVolume': 4369826.77,\n",
       " 'quoteVolume': 15343458.24846,\n",
       " 'info': {'symbol': 'ZROUSDT',\n",
       "  'priceChange': '0.15300000',\n",
       "  'priceChangePercent': '4.517',\n",
       "  'weightedAvgPrice': '3.51122803',\n",
       "  'prevClosePrice': '3.38700000',\n",
       "  'lastPrice': '3.54000000',\n",
       "  'lastQty': '255.29000000',\n",
       "  'bidPrice': '3.54000000',\n",
       "  'bidQty': '309.28000000',\n",
       "  'askPrice': '3.54100000',\n",
       "  'askQty': '578.15000000',\n",
       "  'openPrice': '3.38700000',\n",
       "  'highPrice': '3.62400000',\n",
       "  'lowPrice': '3.37400000',\n",
       "  'volume': '4369826.77000000',\n",
       "  'quoteVolume': '15343458.24846000',\n",
       "  'openTime': '1723541279631',\n",
       "  'closeTime': '1723627679631',\n",
       "  'firstId': '11839545',\n",
       "  'lastId': '11914066',\n",
       "  'count': '74522'}}"
      ]
     },
     "execution_count": 26,
     "metadata": {},
     "output_type": "execute_result"
    }
   ],
   "source": [
    "btc_ticker = exchange_ins.fetch_ticker(\"ZRO/USDT\")\n",
    "btc_ticker"
   ]
  },
  {
   "cell_type": "code",
   "execution_count": 17,
   "metadata": {},
   "outputs": [
    {
     "data": {
      "text/plain": [
       "{'symbol': 'ZRO/USDT:USDT',\n",
       " 'timestamp': 1723625541570,\n",
       " 'datetime': '2024-08-14T08:52:21.570Z',\n",
       " 'high': 3.62,\n",
       " 'low': 3.37,\n",
       " 'bid': None,\n",
       " 'bidVolume': None,\n",
       " 'ask': None,\n",
       " 'askVolume': None,\n",
       " 'vwap': 3.5004767,\n",
       " 'open': 3.397,\n",
       " 'close': 3.531,\n",
       " 'last': 3.531,\n",
       " 'previousClose': None,\n",
       " 'change': 0.134,\n",
       " 'percentage': 3.945,\n",
       " 'average': 3.464,\n",
       " 'baseVolume': 18165752.4,\n",
       " 'quoteVolume': 63588792.7041936,\n",
       " 'info': {'symbol': 'ZROUSDT',\n",
       "  'priceChange': '0.1340000',\n",
       "  'priceChangePercent': '3.945',\n",
       "  'weightedAvgPrice': '3.5004767',\n",
       "  'lastPrice': '3.5310000',\n",
       "  'lastQty': '169.7',\n",
       "  'openPrice': '3.3970000',\n",
       "  'highPrice': '3.6200000',\n",
       "  'lowPrice': '3.3700000',\n",
       "  'volume': '18165752.4',\n",
       "  'quoteVolume': '63588792.7041936',\n",
       "  'openTime': '1723539120000',\n",
       "  'closeTime': '1723625541570',\n",
       "  'firstId': '56042043',\n",
       "  'lastId': '56305458',\n",
       "  'count': '263416'}}"
      ]
     },
     "execution_count": 17,
     "metadata": {},
     "output_type": "execute_result"
    }
   ],
   "source": [
    "btc_ticker = exchange_ins.fetch_ticker(\"ZRO/USDT:USDT\")\n",
    "btc_ticker"
   ]
  },
  {
   "cell_type": "markdown",
   "metadata": {},
   "source": [
    "# public trades\n",
    "\n",
    "返回一个有序的交易列表（一个平面数组，按时间戳升序排序，最旧的交易在前，最近的交易在最后）"
   ]
  },
  {
   "cell_type": "code",
   "execution_count": 20,
   "metadata": {},
   "outputs": [
    {
     "data": {
      "text/plain": [
       "[{'info': {'a': '6685169',\n",
       "   'p': '3.23300000',\n",
       "   'q': '68.85000000',\n",
       "   'f': '11699129',\n",
       "   'l': '11699134',\n",
       "   'T': '1723444840011',\n",
       "   'm': True,\n",
       "   'M': True},\n",
       "  'timestamp': 1723444840011,\n",
       "  'datetime': '2024-08-12T06:40:40.011Z',\n",
       "  'symbol': 'ZRO/USDT',\n",
       "  'id': '6685169',\n",
       "  'order': None,\n",
       "  'type': None,\n",
       "  'side': 'sell',\n",
       "  'takerOrMaker': None,\n",
       "  'price': 3.233,\n",
       "  'amount': 68.85,\n",
       "  'cost': 222.59205,\n",
       "  'fee': None,\n",
       "  'fees': []}]"
      ]
     },
     "execution_count": 20,
     "metadata": {},
     "output_type": "execute_result"
    }
   ],
   "source": [
    "exchange_ins.fetch_trades(\"ZRO/USDT\",limit=1)"
   ]
  },
  {
   "cell_type": "markdown",
   "metadata": {},
   "source": [
    "# open Interest\n",
    "\n",
    "当前合约持仓量"
   ]
  },
  {
   "cell_type": "code",
   "execution_count": 27,
   "metadata": {},
   "outputs": [
    {
     "data": {
      "text/plain": [
       "{'symbol': 'ZRO/USDT:USDT',\n",
       " 'baseVolume': 6056009.4,\n",
       " 'quoteVolume': None,\n",
       " 'openInterestAmount': 6056009.4,\n",
       " 'openInterestValue': None,\n",
       " 'timestamp': 1723628205330,\n",
       " 'datetime': '2024-08-14T09:36:45.330Z',\n",
       " 'info': {'symbol': 'ZROUSDT',\n",
       "  'openInterest': '6056009.4',\n",
       "  'time': '1723628205330'}}"
      ]
     },
     "execution_count": 27,
     "metadata": {},
     "output_type": "execute_result"
    }
   ],
   "source": [
    "exchange_ins.fetch_open_interest(\"ZRO/USDT:USDT\")"
   ]
  },
  {
   "cell_type": "code",
   "execution_count": 4,
   "metadata": {},
   "outputs": [
    {
     "data": {
      "text/plain": [
       "[{'symbol': 'AEVO/USDT:USDT',\n",
       "  'baseVolume': 30155876.5,\n",
       "  'quoteVolume': 10132856.998024,\n",
       "  'openInterestAmount': 30155876.5,\n",
       "  'openInterestValue': 10132856.998024,\n",
       "  'timestamp': 1723420800000,\n",
       "  'datetime': '2024-08-12T00:00:00.000Z',\n",
       "  'info': {'symbol': 'AEVOUSDT',\n",
       "   'sumOpenInterest': '30155876.50000000',\n",
       "   'sumOpenInterestValue': '10132856.99802400',\n",
       "   'timestamp': '1723420800000'}},\n",
       " {'symbol': 'AEVO/USDT:USDT',\n",
       "  'baseVolume': 32062720.0,\n",
       "  'quoteVolume': 11956678.847616,\n",
       "  'openInterestAmount': 32062720.0,\n",
       "  'openInterestValue': 11956678.847616,\n",
       "  'timestamp': 1723507200000,\n",
       "  'datetime': '2024-08-13T00:00:00.000Z',\n",
       "  'info': {'symbol': 'AEVOUSDT',\n",
       "   'sumOpenInterest': '32062720.00000000',\n",
       "   'sumOpenInterestValue': '11956678.84761600',\n",
       "   'timestamp': '1723507200000'}}]"
      ]
     },
     "execution_count": 4,
     "metadata": {},
     "output_type": "execute_result"
    }
   ],
   "source": [
    "exchange_ins.fetch_open_interest_history(\"AEVO/USDT:USDT\",timeframe=\"1d\", limit=2)"
   ]
  }
 ],
 "metadata": {
  "kernelspec": {
   "display_name": ".venv",
   "language": "python",
   "name": "python3"
  },
  "language_info": {
   "codemirror_mode": {
    "name": "ipython",
    "version": 3
   },
   "file_extension": ".py",
   "mimetype": "text/x-python",
   "name": "python",
   "nbconvert_exporter": "python",
   "pygments_lexer": "ipython3",
   "version": "3.12.5"
  }
 },
 "nbformat": 4,
 "nbformat_minor": 2
}
