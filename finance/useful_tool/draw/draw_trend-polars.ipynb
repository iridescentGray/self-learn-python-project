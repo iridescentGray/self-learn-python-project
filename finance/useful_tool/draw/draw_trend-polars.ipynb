{
 "cells": [
  {
   "cell_type": "markdown",
   "metadata": {},
   "source": [
    "# draw trade\n",
    "\n",
    "画出两个币的走势关系\n"
   ]
  },
  {
   "cell_type": "code",
   "execution_count": 18,
   "metadata": {},
   "outputs": [],
   "source": [
    "pair1 = \"BTC/USDT\"\n",
    "pair2 = \"WLD/USDT\""
   ]
  },
  {
   "cell_type": "code",
   "execution_count": 19,
   "metadata": {},
   "outputs": [],
   "source": [
    "import polars as pl\n",
    "import ccxt\n",
    "\n",
    "from datetime import datetime, timedelta\n",
    "\n",
    "\n",
    "exchange_ins = ccxt.binance()\n",
    "\n",
    "def fetch_ohlcv(symbol, timeframe=\"5m\", since=None, limit=500):\n",
    "\n",
    "    ohlcv = exchange_ins.fetch_ohlcv(symbol, timeframe, since=since, limit=limit)\n",
    "\n",
    "    df = pl.DataFrame(\n",
    "        ohlcv,\n",
    "        schema={\n",
    "            \"timestamp\": pl.UInt64,\n",
    "            \"open\": pl.Float64,\n",
    "            \"high\": pl.Float64,\n",
    "            \"low\": pl.Float64,\n",
    "            \"close\": pl.Float64,\n",
    "            \"volume\": pl.Float64,\n",
    "        },\n",
    "        orient=\"row\",\n",
    "    )\n",
    "\n",
    "    return df.with_columns((pl.col(\"timestamp\")).cast(pl.Datetime(\"ms\")).alias(\"date\"))"
   ]
  },
  {
   "cell_type": "code",
   "execution_count": 21,
   "metadata": {},
   "outputs": [],
   "source": [
    "import plotly.graph_objs as go\n",
    "from plotly.subplots import make_subplots\n",
    "\n",
    "\n",
    "def show_indicator(df1, df2):\n",
    "    # 创建子图\n",
    "    fig = make_subplots(\n",
    "        rows=1, cols=2, shared_xaxes=True, subplot_titles=(pair1, pair2)\n",
    "    )\n",
    "\n",
    "    # 添加第一个数据框的线图\n",
    "    fig.add_trace(\n",
    "        go.Candlestick(\n",
    "            x=df1[\"date\"],\n",
    "            open=df1[\"open\"],\n",
    "            high=df1[\"high\"],\n",
    "            low=df1[\"low\"],\n",
    "            close=df1[\"close\"],\n",
    "            name=pair1,\n",
    "        ),\n",
    "        row=1,\n",
    "        col=1,\n",
    "    )\n",
    "\n",
    "    # 添加第二个数据框的线图\n",
    "    fig.add_trace(\n",
    "        go.Candlestick(\n",
    "            x=df2[\"date\"],\n",
    "            open=df2[\"open\"],\n",
    "            high=df2[\"high\"],\n",
    "            low=df2[\"low\"],\n",
    "            close=df2[\"close\"],\n",
    "            name=pair2,\n",
    "        ),\n",
    "        row=1,\n",
    "        col=2,\n",
    "    )\n",
    "\n",
    "    # 更新布局\n",
    "    fig.update_layout(\n",
    "        title_text=\"Price over Time Comparison\",\n",
    "        height=600,  # 设置图表高度\n",
    "        width=1000,  # 设置图表宽度\n",
    "    )\n",
    "    fig.show()"
   ]
  },
  {
   "cell_type": "markdown",
   "metadata": {},
   "source": [
    "## 1m\n"
   ]
  },
  {
   "cell_type": "code",
   "execution_count": null,
   "metadata": {},
   "outputs": [],
   "source": [
    "one_day = int((datetime.now() - timedelta(days=1)).timestamp()) * 1000\n",
    "df1 = fetch_ohlcv(pair1, timeframe=\"1m\", since=one_day, limit=60 * 24)\n",
    "df2 = fetch_ohlcv(pair2, timeframe=\"1m\", since=one_day, limit=60 * 24)\n",
    "show_indicator(df1, df2)"
   ]
  },
  {
   "cell_type": "markdown",
   "metadata": {},
   "source": [
    "## 5m\n"
   ]
  },
  {
   "cell_type": "code",
   "execution_count": null,
   "metadata": {},
   "outputs": [],
   "source": [
    "df1 = fetch_ohlcv(pair1)\n",
    "df2 = fetch_ohlcv(pair2)\n",
    "show_indicator(df1, df2)"
   ]
  },
  {
   "cell_type": "markdown",
   "metadata": {},
   "source": [
    "## 15 m\n"
   ]
  },
  {
   "cell_type": "code",
   "execution_count": null,
   "metadata": {},
   "outputs": [],
   "source": [
    "limit = 10\n",
    "three_day = int((datetime.now() - timedelta(days=limit)).timestamp()) * 1000\n",
    "df1 = fetch_ohlcv(pair1, timeframe=\"15m\", since=three_day, limit=4 * 24 * limit)\n",
    "df2 = fetch_ohlcv(pair2, timeframe=\"15m\", since=three_day, limit=4 * 24 * limit)\n",
    "show_indicator(df1, df2)"
   ]
  },
  {
   "cell_type": "markdown",
   "metadata": {},
   "source": [
    "## 1 day\n"
   ]
  },
  {
   "cell_type": "code",
   "execution_count": null,
   "metadata": {},
   "outputs": [],
   "source": [
    "limit = 23\n",
    "one_day = int((datetime.now() - timedelta(days=limit)).timestamp()) * 1000\n",
    "df1 = fetch_ohlcv(pair1, timeframe=\"1d\", since=one_day, limit=limit)\n",
    "df2 = fetch_ohlcv(pair2, timeframe=\"1d\", since=one_day, limit=limit)\n",
    "show_indicator(df1, df2)"
   ]
  }
 ],
 "metadata": {
  "kernelspec": {
   "display_name": ".venv",
   "language": "python",
   "name": "python3"
  },
  "language_info": {
   "codemirror_mode": {
    "name": "ipython",
    "version": 3
   },
   "file_extension": ".py",
   "mimetype": "text/x-python",
   "name": "python",
   "nbconvert_exporter": "python",
   "pygments_lexer": "ipython3",
   "version": "3.12.5"
  }
 },
 "nbformat": 4,
 "nbformat_minor": 2
}
