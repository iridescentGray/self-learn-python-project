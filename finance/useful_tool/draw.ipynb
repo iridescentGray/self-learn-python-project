{
 "cells": [
  {
   "cell_type": "markdown",
   "metadata": {},
   "source": [
    "# Draw Ascii chart"
   ]
  },
  {
   "cell_type": "code",
   "execution_count": 4,
   "metadata": {},
   "outputs": [
    {
     "name": "stdout",
     "output_type": "stream",
     "text": [
      "   10.00 ┼────╮                                                                                ╭────────╮                                                                                ╭─── \n",
      "    9.00 ┤    ╰──╮                                                                          ╭──╯        ╰──╮                                                                          ╭──╯    \n",
      "    8.00 ┤       ╰──╮                                                                    ╭──╯              ╰──╮                                                                    ╭──╯       \n",
      "    7.00 ┤          ╰─╮                                                                ╭─╯                    ╰─╮                                                                ╭─╯          \n",
      "    6.00 ┤            ╰─╮                                                            ╭─╯                        ╰─╮                                                            ╭─╯            \n",
      "    5.00 ┤              ╰╮                                                          ╭╯                            ╰╮                                                          ╭╯              \n",
      "    4.00 ┤               ╰─╮                                                      ╭─╯                              ╰─╮                                                      ╭─╯               \n",
      "    3.00 ┤                 ╰╮                                                    ╭╯                                  ╰╮                                                    ╭╯                 \n",
      "    2.00 ┤                  ╰─╮                                                ╭─╯                                    ╰─╮                                                ╭─╯                  \n",
      "    1.00 ┤                    ╰╮                                              ╭╯                                        ╰╮                                              ╭╯                    \n",
      "    0.00 ┼                     ╰─╮                                          ╭─╯                                          ╰─╮                                          ╭─╯                     \n",
      "   -1.00 ┤                       ╰╮                                        ╭╯                                              ╰╮                                        ╭╯                       \n",
      "   -2.00 ┤                        ╰─╮                                    ╭─╯                                                ╰─╮                                    ╭─╯                        \n",
      "   -3.00 ┤                          ╰╮                                  ╭╯                                                    ╰╮                                  ╭╯                          \n",
      "   -4.00 ┤                           ╰─╮                              ╭─╯                                                      ╰─╮                              ╭─╯                           \n",
      "   -5.00 ┤                             ╰╮                            ╭╯                                                          ╰╮                            ╭╯                             \n",
      "   -6.00 ┤                              ╰─╮                        ╭─╯                                                            ╰─╮                        ╭─╯                              \n",
      "   -7.00 ┤                                ╰─╮                    ╭─╯                                                                ╰─╮                    ╭─╯                                \n",
      "   -8.00 ┤                                  ╰──╮              ╭──╯                                                                    ╰──╮              ╭──╯                                  \n",
      "   -9.00 ┤                                     ╰──╮        ╭──╯                                                                          ╰──╮        ╭──╯                                     \n",
      "  -10.00 ┤                                        ╰────────╯                                                                                ╰────────╯                                        \n"
     ]
    }
   ],
   "source": [
    "from math import cos\n",
    "from math import pi\n",
    "from math import floor\n",
    "from math import ceil\n",
    "\n",
    "\n",
    "def plot(series, cfg={}):\n",
    "\n",
    "    minimum = min(series)\n",
    "    maximum = max(series)\n",
    "\n",
    "    interval = abs(float(maximum) - float(minimum))\n",
    "    offset = cfg[\"offset\"] if \"offset\" in cfg else 3\n",
    "    # padding = cfg['padding'] if 'padding' in cfg else '       '\n",
    "    height = cfg[\"height\"] if \"height\" in cfg else interval\n",
    "    ratio = height / interval\n",
    "    # print(minimum,ratio,type(minimum))\n",
    "    min2 = floor(float(minimum) * ratio)\n",
    "    max2 = ceil(float(maximum) * ratio)\n",
    "\n",
    "    intmin2 = int(min2)\n",
    "    intmax2 = int(max2)\n",
    "\n",
    "    rows = abs(intmax2 - intmin2)\n",
    "    width = len(series) + offset\n",
    "    # format = cfg['format'] if 'format' in cfg else lambda x: (padding + '{:.2f}'.format(x))[:-len(padding)]\n",
    "\n",
    "    result = [[\" \"] * width for i in range(rows + 1)]\n",
    "\n",
    "    # axis and labels\n",
    "    for y in range(intmin2, intmax2 + 1):\n",
    "        label = \"{:8.2f}\".format(float(maximum) - ((y - intmin2) * interval / rows))\n",
    "        result[y - intmin2][max(offset - len(label), 0)] = label\n",
    "        result[y - intmin2][offset - 1] = \"┼\" if y == 0 else \"┤\"\n",
    "\n",
    "    y0 = int(series[0] * ratio - min2)\n",
    "    result[rows - y0][offset - 1] = \"┼\"  # first value\n",
    "\n",
    "    for x in range(0, len(series) - 1):  # plot the line\n",
    "        y0 = int(round(series[x + 0] * ratio) - intmin2)\n",
    "        y1 = int(round(series[x + 1] * ratio) - intmin2)\n",
    "        if y0 == y1:\n",
    "            result[rows - y0][x + offset] = \"─\"\n",
    "        else:\n",
    "            result[rows - y1][x + offset] = \"╰\" if y0 > y1 else \"╭\"\n",
    "            result[rows - y0][x + offset] = \"╮\" if y0 > y1 else \"╯\"\n",
    "            start = min(y0, y1) + 1\n",
    "            end = max(y0, y1)\n",
    "            for y in range(start, end):\n",
    "                result[rows - y][x + offset] = \"│\"\n",
    "\n",
    "    return \"\\n\".join([\"\".join(row) for row in result])\n",
    "\n",
    "\n",
    "if __name__ == \"__main__\":\n",
    "    width = 180\n",
    "    series = [10 * cos(i * ((pi * 4) / width)) for i in range(width)]\n",
    "    print(plot(series))"
   ]
  }
 ],
 "metadata": {
  "kernelspec": {
   "display_name": ".venv",
   "language": "python",
   "name": "python3"
  },
  "language_info": {
   "codemirror_mode": {
    "name": "ipython",
    "version": 3
   },
   "file_extension": ".py",
   "mimetype": "text/x-python",
   "name": "python",
   "nbconvert_exporter": "python",
   "pygments_lexer": "ipython3",
   "version": "3.11.8"
  }
 },
 "nbformat": 4,
 "nbformat_minor": 2
}
