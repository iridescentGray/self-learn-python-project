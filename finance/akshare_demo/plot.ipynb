{
 "cells": [
  {
   "cell_type": "markdown",
   "metadata": {},
   "source": [
    "# plot"
   ]
  },
  {
   "cell_type": "code",
   "execution_count": 2,
   "metadata": {},
   "outputs": [],
   "source": [
    "import akshare as ak\n",
    "import mplfinance as mpf  # Please install mplfinance as follows: pip install mplfinance"
   ]
  },
  {
   "cell_type": "code",
   "execution_count": 54,
   "metadata": {},
   "outputs": [],
   "source": [
    "stock_us_daily_df = ak.stock_us_daily(symbol=\"AAPL\", adjust=\"qfq\")\n",
    "stock_us_daily_df = stock_us_daily_df.set_index([\"date\"])\n",
    "stock_us_daily_df = stock_us_daily_df[\"2020-04-01\":\"2020-04-29\"]\n",
    "\n",
    "mpf.plot(\n",
    "    stock_us_daily_df, type=\"candle\", mav=(3, 6, 9), volume=True, show_nontrading=False\n",
    ")"
   ]
  }
 ],
 "metadata": {
  "kernelspec": {
   "display_name": ".venv",
   "language": "python",
   "name": "python3"
  },
  "language_info": {
   "codemirror_mode": {
    "name": "ipython",
    "version": 3
   },
   "file_extension": ".py",
   "mimetype": "text/x-python",
   "name": "python",
   "nbconvert_exporter": "python",
   "pygments_lexer": "ipython3",
   "version": "3.11.8"
  }
 },
 "nbformat": 4,
 "nbformat_minor": 2
}
