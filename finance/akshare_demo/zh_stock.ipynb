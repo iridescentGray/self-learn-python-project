{
 "cells": [
  {
   "cell_type": "code",
   "execution_count": null,
   "metadata": {},
   "outputs": [],
   "source": [
    "import akshare as ak"
   ]
  },
  {
   "cell_type": "code",
   "execution_count": null,
   "metadata": {},
   "outputs": [],
   "source": [
    "ak.__version__"
   ]
  },
  {
   "cell_type": "markdown",
   "metadata": {},
   "source": [
    "# stock"
   ]
  },
  {
   "cell_type": "markdown",
   "metadata": {},
   "source": [
    "## 获取股票详情"
   ]
  },
  {
   "cell_type": "markdown",
   "metadata": {},
   "source": [
    "### polars"
   ]
  },
  {
   "cell_type": "code",
   "execution_count": null,
   "metadata": {},
   "outputs": [],
   "source": [
    "import polars as pl"
   ]
  },
  {
   "cell_type": "code",
   "execution_count": null,
   "metadata": {},
   "outputs": [],
   "source": [
    "import typing\n",
    "import arrow\n",
    "\n",
    "def get_by_stock(code: str, date: typing.Optional[str]= None):\n",
    "    if not date:\n",
    "        date = arrow.now().format(\"YYYYMMDD\")\n",
    "    stock_zh_a_hist_df = ak.stock_zh_a_hist(\n",
    "        symbol=code,\n",
    "        period=\"daily\",\n",
    "        start_date=date,\n",
    "        end_date=date,\n",
    "        adjust=\"\",\n",
    "    )\n",
    "\n",
    "    stock = pl.DataFrame(stock_zh_a_hist_df)\n",
    "    return stock.select(\n",
    "        pl.col(\"日期\").dt.strftime(\"%Y%m%d\").alias(\"date\"),\n",
    "        pl.col(\"股票代码\").alias(\"code\"),\n",
    "        pl.col(\"开盘\").alias(\"open\"),\n",
    "        pl.col(\"收盘\").alias(\"close\"),\n",
    "        pl.col(\"最高\").alias(\"high\"),\n",
    "        pl.col(\"最低\").alias(\"low\"),\n",
    "        pl.col(\"成交量\").alias(\"volumn\"),\n",
    "        pl.col(\"成交额\").alias(\"transaction_volume\"),\n",
    "        pl.col(\"涨跌幅\").alias(\"change_pct\"),\n",
    "        pl.col(\"换手率\").alias(\"turnover_rate\"),\n",
    "    )[0].to_dicts()[0]"
   ]
  },
  {
   "cell_type": "code",
   "execution_count": null,
   "metadata": {},
   "outputs": [],
   "source": [
    "get_by_stock(\"300251\")"
   ]
  },
  {
   "cell_type": "markdown",
   "metadata": {},
   "source": [
    "### pandas"
   ]
  },
  {
   "cell_type": "code",
   "execution_count": null,
   "metadata": {},
   "outputs": [],
   "source": [
    "import pandas as pd\n",
    "\n",
    "def get_stock_data(code, date=None):\n",
    "    if not date:\n",
    "        date = arrow.now().format(\"YYYYMMDD\")\n",
    "\n",
    "    # 获取 A 股历史数据\n",
    "    stock_zh_a_hist_df = ak.stock_zh_a_hist(\n",
    "        symbol=code,\n",
    "        period=\"daily\",\n",
    "        start_date=date,\n",
    "        end_date=date,\n",
    "        adjust=\"\",\n",
    "    )\n",
    "\n",
    "    # 选取并重命名列\n",
    "    stock = stock_zh_a_hist_df.rename(\n",
    "        columns={\n",
    "            \"日期\": \"date\",\n",
    "            \"股票代码\": \"code\",\n",
    "            \"开盘\": \"open\",\n",
    "            \"收盘\": \"close\",\n",
    "            \"最高\": \"high\",\n",
    "            \"最低\": \"low\",\n",
    "            \"成交量\": \"volumn\",\n",
    "            \"成交额\": \"transaction_volume\",\n",
    "            \"涨跌幅\": \"change_pct\",\n",
    "            \"换手率\": \"turnover_rate\",\n",
    "            \"振幅\": \"amplitude\",\n",
    "            \"振幅\": \"amplitude\",\n",
    "        }\n",
    "    )\n",
    "\n",
    "    # 转换日期格式\n",
    "    stock[\"date\"] = pd.to_datetime(stock[\"date\"]).dt.strftime(\"%Y%m%d\")\n",
    "    stock = stock.drop(columns=[\"涨跌额\"])\n",
    "    # 获取第一行数据并转换为字典\n",
    "    return stock.iloc[0].to_dict()"
   ]
  },
  {
   "cell_type": "code",
   "execution_count": null,
   "metadata": {},
   "outputs": [],
   "source": [
    "get_stock_data(\"300251\")"
   ]
  },
  {
   "cell_type": "markdown",
   "metadata": {},
   "source": [
    "## 获取全部股票"
   ]
  },
  {
   "cell_type": "code",
   "execution_count": null,
   "metadata": {},
   "outputs": [],
   "source": [
    "import akshare as ak\n",
    "\n",
    "data=ak.stock_zh_a_spot_em()\n",
    "filtered_df = data[data[\"代码\"].str.contains(\"光线\", na=False)]\n",
    "df_selected = filtered_df[[\"代码\", \"名称\", \"最新价\"]].rename(\n",
    "    columns={\"代码\": \"code\", \"名称\": \"name\", \"最新价\": \"price\"}\n",
    ")\n",
    "df_selected"
   ]
  },
  {
   "cell_type": "markdown",
   "metadata": {},
   "source": [
    "\n",
    "# news"
   ]
  },
  {
   "cell_type": "code",
   "execution_count": null,
   "metadata": {},
   "outputs": [],
   "source": [
    "news=ak.stock_news_em(symbol=\"000002\")"
   ]
  },
  {
   "cell_type": "code",
   "execution_count": null,
   "metadata": {},
   "outputs": [],
   "source": [
    "# 获取最新的一条\n",
    "newest = news.sort_values(by=\"发布时间\", ascending=False).iloc[0]\n",
    "newest"
   ]
  },
  {
   "cell_type": "code",
   "execution_count": null,
   "metadata": {},
   "outputs": [],
   "source": [
    "newest[\"新闻内容\"]"
   ]
  }
 ],
 "metadata": {
  "kernelspec": {
   "display_name": ".venv",
   "language": "python",
   "name": "python3"
  },
  "language_info": {
   "codemirror_mode": {
    "name": "ipython",
    "version": 3
   },
   "file_extension": ".py",
   "mimetype": "text/x-python",
   "name": "python",
   "nbconvert_exporter": "python",
   "pygments_lexer": "ipython3",
   "version": "3.12.5"
  }
 },
 "nbformat": 4,
 "nbformat_minor": 2
}
