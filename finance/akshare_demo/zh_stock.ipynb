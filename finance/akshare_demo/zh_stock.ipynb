{
 "cells": [
  {
   "cell_type": "code",
   "execution_count": 22,
   "metadata": {},
   "outputs": [],
   "source": [
    "import akshare as ak"
   ]
  },
  {
   "cell_type": "markdown",
   "metadata": {},
   "source": [
    "# stock"
   ]
  },
  {
   "cell_type": "markdown",
   "metadata": {},
   "source": [
    "## stock_zh_a_hist"
   ]
  },
  {
   "cell_type": "code",
   "execution_count": 2,
   "metadata": {},
   "outputs": [
    {
     "data": {
      "text/html": [
       "<div>\n",
       "<style scoped>\n",
       "    .dataframe tbody tr th:only-of-type {\n",
       "        vertical-align: middle;\n",
       "    }\n",
       "\n",
       "    .dataframe tbody tr th {\n",
       "        vertical-align: top;\n",
       "    }\n",
       "\n",
       "    .dataframe thead th {\n",
       "        text-align: right;\n",
       "    }\n",
       "</style>\n",
       "<table border=\"1\" class=\"dataframe\">\n",
       "  <thead>\n",
       "    <tr style=\"text-align: right;\">\n",
       "      <th></th>\n",
       "      <th>日期</th>\n",
       "      <th>股票代码</th>\n",
       "      <th>开盘</th>\n",
       "      <th>收盘</th>\n",
       "      <th>最高</th>\n",
       "      <th>最低</th>\n",
       "      <th>成交量</th>\n",
       "      <th>成交额</th>\n",
       "      <th>振幅</th>\n",
       "      <th>涨跌幅</th>\n",
       "      <th>涨跌额</th>\n",
       "      <th>换手率</th>\n",
       "    </tr>\n",
       "  </thead>\n",
       "  <tbody>\n",
       "    <tr>\n",
       "      <th>0</th>\n",
       "      <td>2023-10-09</td>\n",
       "      <td>000001</td>\n",
       "      <td>11.16</td>\n",
       "      <td>11.11</td>\n",
       "      <td>11.17</td>\n",
       "      <td>11.06</td>\n",
       "      <td>695828</td>\n",
       "      <td>7.729594e+08</td>\n",
       "      <td>0.98</td>\n",
       "      <td>-0.80</td>\n",
       "      <td>-0.09</td>\n",
       "      <td>0.36</td>\n",
       "    </tr>\n",
       "    <tr>\n",
       "      <th>1</th>\n",
       "      <td>2023-10-10</td>\n",
       "      <td>000001</td>\n",
       "      <td>11.19</td>\n",
       "      <td>11.02</td>\n",
       "      <td>11.20</td>\n",
       "      <td>11.02</td>\n",
       "      <td>820749</td>\n",
       "      <td>9.101603e+08</td>\n",
       "      <td>1.62</td>\n",
       "      <td>-0.81</td>\n",
       "      <td>-0.09</td>\n",
       "      <td>0.42</td>\n",
       "    </tr>\n",
       "    <tr>\n",
       "      <th>2</th>\n",
       "      <td>2023-10-11</td>\n",
       "      <td>000001</td>\n",
       "      <td>11.09</td>\n",
       "      <td>10.98</td>\n",
       "      <td>11.09</td>\n",
       "      <td>10.96</td>\n",
       "      <td>724116</td>\n",
       "      <td>7.976638e+08</td>\n",
       "      <td>1.18</td>\n",
       "      <td>-0.36</td>\n",
       "      <td>-0.04</td>\n",
       "      <td>0.37</td>\n",
       "    </tr>\n",
       "    <tr>\n",
       "      <th>3</th>\n",
       "      <td>2023-10-12</td>\n",
       "      <td>000001</td>\n",
       "      <td>11.11</td>\n",
       "      <td>11.11</td>\n",
       "      <td>11.16</td>\n",
       "      <td>11.04</td>\n",
       "      <td>853058</td>\n",
       "      <td>9.475623e+08</td>\n",
       "      <td>1.09</td>\n",
       "      <td>1.18</td>\n",
       "      <td>0.13</td>\n",
       "      <td>0.44</td>\n",
       "    </tr>\n",
       "    <tr>\n",
       "      <th>4</th>\n",
       "      <td>2023-10-13</td>\n",
       "      <td>000001</td>\n",
       "      <td>11.03</td>\n",
       "      <td>11.00</td>\n",
       "      <td>11.07</td>\n",
       "      <td>10.95</td>\n",
       "      <td>684483</td>\n",
       "      <td>7.531107e+08</td>\n",
       "      <td>1.08</td>\n",
       "      <td>-0.99</td>\n",
       "      <td>-0.11</td>\n",
       "      <td>0.35</td>\n",
       "    </tr>\n",
       "  </tbody>\n",
       "</table>\n",
       "</div>"
      ],
      "text/plain": [
       "           日期    股票代码     开盘     收盘     最高     最低     成交量           成交额    振幅  \\\n",
       "0  2023-10-09  000001  11.16  11.11  11.17  11.06  695828  7.729594e+08  0.98   \n",
       "1  2023-10-10  000001  11.19  11.02  11.20  11.02  820749  9.101603e+08  1.62   \n",
       "2  2023-10-11  000001  11.09  10.98  11.09  10.96  724116  7.976638e+08  1.18   \n",
       "3  2023-10-12  000001  11.11  11.11  11.16  11.04  853058  9.475623e+08  1.09   \n",
       "4  2023-10-13  000001  11.03  11.00  11.07  10.95  684483  7.531107e+08  1.08   \n",
       "\n",
       "    涨跌幅   涨跌额   换手率  \n",
       "0 -0.80 -0.09  0.36  \n",
       "1 -0.81 -0.09  0.42  \n",
       "2 -0.36 -0.04  0.37  \n",
       "3  1.18  0.13  0.44  \n",
       "4 -0.99 -0.11  0.35  "
      ]
     },
     "execution_count": 2,
     "metadata": {},
     "output_type": "execute_result"
    }
   ],
   "source": [
    "stock_zh_a_hist_df = ak.stock_zh_a_hist(\n",
    "    symbol=\"000001\",\n",
    "    period=\"daily\",\n",
    "    start_date=\"20231008\",\n",
    "    end_date=\"20231013\",\n",
    "    adjust=\"\",\n",
    ")\n",
    "stock_zh_a_hist_df"
   ]
  },
  {
   "cell_type": "markdown",
   "metadata": {},
   "source": [
    "## news"
   ]
  },
  {
   "cell_type": "code",
   "execution_count": 17,
   "metadata": {},
   "outputs": [],
   "source": [
    "news=ak.stock_news_em(symbol=\"000002\")"
   ]
  },
  {
   "cell_type": "code",
   "execution_count": 19,
   "metadata": {},
   "outputs": [
    {
     "data": {
      "text/plain": [
       "关键词                                                000002\n",
       "新闻标题                            万科A：今年上半年实现合同销售金额1273.3亿元\n",
       "新闻内容       中证智能财讯万科A（000002）7月2日晚间公布2024年6月销售及近期新增项目情况简报。\n",
       "发布时间                                  2024-07-02 23:11:48\n",
       "文章来源                                            中国证券报·中证网\n",
       "新闻链接    http://finance.eastmoney.com/a/202407023119916...\n",
       "Name: 7, dtype: object"
      ]
     },
     "execution_count": 19,
     "metadata": {},
     "output_type": "execute_result"
    }
   ],
   "source": [
    "# 获取最新的一条\n",
    "newest = news.sort_values(by=\"发布时间\", ascending=False).iloc[0]\n",
    "newest"
   ]
  },
  {
   "cell_type": "code",
   "execution_count": 21,
   "metadata": {},
   "outputs": [
    {
     "data": {
      "text/plain": [
       "'中证智能财讯万科A（000002）7月2日晚间公布2024年6月销售及近期新增项目情况简报。'"
      ]
     },
     "execution_count": 21,
     "metadata": {},
     "output_type": "execute_result"
    }
   ],
   "source": [
    "newest[\"新闻内容\"]"
   ]
  },
  {
   "cell_type": "markdown",
   "metadata": {},
   "source": [
    "# fund"
   ]
  },
  {
   "cell_type": "markdown",
   "metadata": {},
   "source": [
    "# bond"
   ]
  },
  {
   "cell_type": "code",
   "execution_count": null,
   "metadata": {},
   "outputs": [],
   "source": []
  }
 ],
 "metadata": {
  "kernelspec": {
   "display_name": ".venv",
   "language": "python",
   "name": "python3"
  },
  "language_info": {
   "codemirror_mode": {
    "name": "ipython",
    "version": 3
   },
   "file_extension": ".py",
   "mimetype": "text/x-python",
   "name": "python",
   "nbconvert_exporter": "python",
   "pygments_lexer": "ipython3",
   "version": "3.11.8"
  }
 },
 "nbformat": 4,
 "nbformat_minor": 2
}
