{
 "cells": [
  {
   "cell_type": "code",
   "execution_count": null,
   "metadata": {},
   "outputs": [],
   "source": [
    "import akshare as ak\n",
    "import pandas as pd"
   ]
  },
  {
   "cell_type": "code",
   "execution_count": null,
   "metadata": {},
   "outputs": [],
   "source": [
    "ak.__version__"
   ]
  },
  {
   "cell_type": "markdown",
   "metadata": {},
   "source": [
    "# 基金列表\n",
    "\n",
    "- 约22620个"
   ]
  },
  {
   "cell_type": "markdown",
   "metadata": {},
   "source": [
    "## 全部基金"
   ]
  },
  {
   "cell_type": "code",
   "execution_count": null,
   "metadata": {},
   "outputs": [],
   "source": [
    "import akshare as ak\n",
    "\n",
    "fund_name_em_df = ak.fund_name_em()\n",
    "fund_name_em_df"
   ]
  },
  {
   "cell_type": "code",
   "execution_count": null,
   "metadata": {},
   "outputs": [],
   "source": [
    "unique_fund_types = fund_name_em_df['基金类型'].unique()\n",
    "sorted(unique_fund_types.tolist())\n"
   ]
  },
  {
   "cell_type": "markdown",
   "metadata": {},
   "source": [
    "## 指数基金"
   ]
  },
  {
   "cell_type": "code",
   "execution_count": null,
   "metadata": {},
   "outputs": [],
   "source": [
    "fi = ak.fund_info_index_em(symbol=\"全部\", indicator=\"全部\")\n",
    "fi"
   ]
  },
  {
   "cell_type": "markdown",
   "metadata": {},
   "source": [
    "## 场内基金\n"
   ]
  },
  {
   "cell_type": "code",
   "execution_count": null,
   "metadata": {},
   "outputs": [],
   "source": [
    "ak.fund_exchange_rank_em()"
   ]
  },
  {
   "cell_type": "markdown",
   "metadata": {},
   "source": [
    "# 国内筛选"
   ]
  },
  {
   "cell_type": "markdown",
   "metadata": {},
   "source": [
    "## 筛选条件代码"
   ]
  },
  {
   "cell_type": "code",
   "execution_count": null,
   "metadata": {},
   "outputs": [],
   "source": [
    "def and_filter_fund(\n",
    "    data_source: pd.DataFrame,\n",
    "    top_number: int,\n",
    "    steady_growth: bool = False,\n",
    "    steady_growth_rate: float = 3,\n",
    "    periods: list = [\"近6月\", \"近1年\", \"近2年\", \"近3年\", \"近5年\"]\n",
    ") -> pd.DataFrame:\n",
    "\n",
    "\n",
    "    # 动态检查存在的列\n",
    "    available_periods = [period for period in periods if period in data_source.columns]\n",
    "    \n",
    "    # 如果没有可用的周期列，返回空 DataFrame\n",
    "    if not available_periods:\n",
    "        return pd.DataFrame()\n",
    "\n",
    "    # 计算每个周期的 top N 基金代码集合\n",
    "    top_codes_sets = [\n",
    "        set(data_source.nlargest(top_number, period)[\"基金代码\"])\n",
    "        for period in available_periods\n",
    "    ]\n",
    "    \n",
    "    # 计算交集\n",
    "    common_codes = set.intersection(*top_codes_sets) if top_codes_sets else set()\n",
    "\n",
    "    # 稳定增长筛选逻辑\n",
    "    if steady_growth:\n",
    "        # 定义需要检查的连续周期对\n",
    "        steady_period_pairs = [\n",
    "            (\"近6月\", \"近1年\"),\n",
    "            (\"近1年\", \"近2年\"),\n",
    "            (\"近2年\", \"近3年\"),\n",
    "            (\"近3年\", \"近5年\")  # 可根据 periods 动态调整\n",
    "        ]\n",
    "        \n",
    "        # 确保所有周期对的列都存在\n",
    "        valid_pairs = [\n",
    "            (p1, p2) for p1, p2 in steady_period_pairs \n",
    "            if p1 in data_source.columns and p2 in data_source.columns\n",
    "        ]\n",
    "        \n",
    "        if not valid_pairs:\n",
    "            return pd.DataFrame()  # 如果没有足够的周期对，返回空结果\n",
    "        \n",
    "        # 动态构建稳定增长条件\n",
    "        conditions = [\n",
    "            (data_source[p2] - data_source[p1]) > steady_growth_rate\n",
    "            for p1, p2 in valid_pairs\n",
    "        ]\n",
    "        \n",
    "        # 合并所有条件（逻辑与）\n",
    "        if conditions:\n",
    "            from functools import reduce\n",
    "            final_condition = reduce(lambda x, y: x & y, conditions)\n",
    "            steady_growth_codes = set(data_source[final_condition][\"基金代码\"])\n",
    "            common_codes &= steady_growth_codes  # 取交集\n",
    "\n",
    "    # 返回筛选结果\n",
    "    return data_source[data_source[\"基金代码\"].isin(common_codes)]"
   ]
  },
  {
   "cell_type": "markdown",
   "metadata": {},
   "source": [
    "## 开放基金筛选\n",
    "\n",
    "- 开放共16473个,少于所有基金6000个\n"
   ]
  },
  {
   "cell_type": "markdown",
   "metadata": {},
   "source": [
    "### 混合型筛选\n"
   ]
  },
  {
   "cell_type": "code",
   "execution_count": null,
   "metadata": {},
   "outputs": [],
   "source": [
    "bond_fund = ak.fund_open_fund_rank_em(symbol=\"混合型\")\n",
    "and_filter_fund(bond_fund, 300)"
   ]
  },
  {
   "cell_type": "markdown",
   "metadata": {},
   "source": [
    "### 股票型筛选\n"
   ]
  },
  {
   "cell_type": "code",
   "execution_count": null,
   "metadata": {},
   "outputs": [],
   "source": [
    "bond_fund = ak.fund_open_fund_rank_em(symbol=\"股票型\")\n",
    "and_filter_fund(bond_fund, 70)"
   ]
  },
  {
   "cell_type": "markdown",
   "metadata": {},
   "source": [
    "### 债券型筛选\n"
   ]
  },
  {
   "cell_type": "code",
   "execution_count": null,
   "metadata": {},
   "outputs": [],
   "source": [
    "and_filter_fund(ak.fund_open_fund_rank_em(symbol=\"债券型\"), 500, steady_growth=True)"
   ]
  },
  {
   "cell_type": "markdown",
   "metadata": {},
   "source": [
    "### 指数型筛选"
   ]
  },
  {
   "cell_type": "code",
   "execution_count": null,
   "metadata": {},
   "outputs": [],
   "source": [
    "and_filter_fund(ak.fund_open_fund_rank_em(symbol=\"指数型\"), 150)"
   ]
  },
  {
   "cell_type": "markdown",
   "metadata": {},
   "source": [
    "## 货币基金筛选\n"
   ]
  },
  {
   "cell_type": "code",
   "execution_count": null,
   "metadata": {},
   "outputs": [],
   "source": [
    "and_filter_fund(ak.fund_money_rank_em(), 30)"
   ]
  },
  {
   "cell_type": "markdown",
   "metadata": {},
   "source": [
    "## 场内基金筛选\n"
   ]
  },
  {
   "cell_type": "code",
   "execution_count": null,
   "metadata": {},
   "outputs": [],
   "source": [
    "and_filter_fund(ak.fund_exchange_rank_em(), 50)"
   ]
  },
  {
   "cell_type": "markdown",
   "metadata": {},
   "source": [
    "## 指数基金筛选"
   ]
  },
  {
   "cell_type": "markdown",
   "metadata": {},
   "source": [
    "### 债券指数"
   ]
  },
  {
   "cell_type": "code",
   "execution_count": null,
   "metadata": {},
   "outputs": [],
   "source": [
    "and_filter_fund(\n",
    "    ak.fund_info_index_em(symbol=\"债券指数\", indicator=\"全部\"),\n",
    "    100,\n",
    "    steady_growth=True,\n",
    "    steady_growth_rate=4,\n",
    ")"
   ]
  },
  {
   "cell_type": "markdown",
   "metadata": {},
   "source": [
    "### 股票指数"
   ]
  },
  {
   "cell_type": "code",
   "execution_count": null,
   "metadata": {},
   "outputs": [],
   "source": [
    "and_filter_fund(\n",
    "    ak.fund_info_index_em(symbol=\"股票指数\", indicator=\"全部\"),\n",
    "    200\n",
    ")"
   ]
  },
  {
   "cell_type": "markdown",
   "metadata": {},
   "source": [
    "## 债券"
   ]
  },
  {
   "cell_type": "markdown",
   "metadata": {},
   "source": [
    "- 债券型-混合一级\n",
    "- 债券型-混合二级\n",
    "- 混合型-偏债\n",
    "- 债券型-中短债\n",
    "\n",
    "- 债券型-长债"
   ]
  },
  {
   "cell_type": "code",
   "execution_count": null,
   "metadata": {},
   "outputs": [],
   "source": [
    "def convet_to_series(code) -> pd.DataFrame:\n",
    "    detail=ak.fund_individual_achievement_xq(symbol=code)\n",
    "    d1=detail.pivot(index=\"业绩类型\", values=\"本产品区间收益\",columns=\"周期\").loc[\"阶段业绩\"].dropna()\n",
    "    return pd.DataFrame(d1).T.reset_index(drop=True)\n",
    "\n",
    "def get_fund_by_type(type_str:str):\n",
    "    all=ak.fund_name_em()\n",
    "    dfs = []\n",
    "    filter=all[all['基金类型'].str.contains(type_str, na=False)]\n",
    "    for i,d in filter.iterrows():\n",
    "        code=d.get(\"基金代码\")\n",
    "        if not code:\n",
    "            print(f\"跳过 {i} code为空\")\n",
    "            continue\n",
    "\n",
    "        try:\n",
    "            d1=convet_to_series(code)\n",
    "            d1[\"基金代码\"]=code\n",
    "            d1[\"基金简称\"]=d['基金简称']\n",
    "            d1[\"基金类型\"]=d['基金类型']\n",
    "            dfs.append(d1)\n",
    "        except Exception as e:\n",
    "            continue\n",
    "    df_fin =pd.concat(dfs,axis=0)\n",
    "    return df_fin   "
   ]
  },
  {
   "cell_type": "markdown",
   "metadata": {},
   "source": [
    "### 混债1级"
   ]
  },
  {
   "cell_type": "code",
   "execution_count": null,
   "metadata": {},
   "outputs": [],
   "source": [
    "mix_1_bond=get_fund_by_type(\"债券型-混合一级\")"
   ]
  },
  {
   "cell_type": "code",
   "execution_count": null,
   "metadata": {},
   "outputs": [],
   "source": [
    "and_filter_fund(mix_1_bond, 100)"
   ]
  },
  {
   "cell_type": "markdown",
   "metadata": {},
   "source": [
    "### 债券型-混合二级"
   ]
  },
  {
   "cell_type": "code",
   "execution_count": null,
   "metadata": {},
   "outputs": [],
   "source": [
    "mix_2_bond=get_fund_by_type(\"债券型-混合二级\")\n",
    "len(mix_2_bond)"
   ]
  },
  {
   "cell_type": "code",
   "execution_count": null,
   "metadata": {},
   "outputs": [],
   "source": [
    "and_filter_fund(mix_2_bond,100)"
   ]
  },
  {
   "cell_type": "markdown",
   "metadata": {},
   "source": [
    "### 中短债"
   ]
  },
  {
   "cell_type": "code",
   "execution_count": null,
   "metadata": {},
   "outputs": [],
   "source": [
    "short_bond=get_fund_by_type(\"债券型-中短债\")\n"
   ]
  },
  {
   "cell_type": "code",
   "execution_count": null,
   "metadata": {},
   "outputs": [],
   "source": [
    "and_filter_fund(short_bond, 200,periods=[\"近3月\", \"近6月\", \"近1年\", \"近2年\", \"近3年\", \"近5年\"])"
   ]
  },
  {
   "cell_type": "markdown",
   "metadata": {},
   "source": [
    "### 债券型-长债"
   ]
  },
  {
   "cell_type": "code",
   "execution_count": null,
   "metadata": {},
   "outputs": [],
   "source": [
    "long_bond=get_fund_by_type(\"债券型-长债\")\n"
   ]
  },
  {
   "cell_type": "code",
   "execution_count": null,
   "metadata": {},
   "outputs": [],
   "source": [
    "and_filter_fund(long_bond, 200)"
   ]
  },
  {
   "cell_type": "markdown",
   "metadata": {},
   "source": [
    "### 债券型-偏债"
   ]
  },
  {
   "cell_type": "code",
   "execution_count": null,
   "metadata": {},
   "outputs": [],
   "source": [
    "mix_bond=get_fund_by_type(\"混合型-偏债\")"
   ]
  },
  {
   "cell_type": "code",
   "execution_count": null,
   "metadata": {},
   "outputs": [],
   "source": [
    "and_filter_fund(mix_bond, 200)"
   ]
  }
 ],
 "metadata": {
  "kernelspec": {
   "display_name": ".venv",
   "language": "python",
   "name": "python3"
  },
  "language_info": {
   "codemirror_mode": {
    "name": "ipython",
    "version": 3
   },
   "file_extension": ".py",
   "mimetype": "text/x-python",
   "name": "python",
   "nbconvert_exporter": "python",
   "pygments_lexer": "ipython3",
   "version": "3.12.5"
  }
 },
 "nbformat": 4,
 "nbformat_minor": 2
}
