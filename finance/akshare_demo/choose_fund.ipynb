{
 "cells": [
  {
   "cell_type": "code",
   "execution_count": null,
   "metadata": {},
   "outputs": [],
   "source": [
    "import akshare as ak\n",
    "import pandas as pd"
   ]
  },
  {
   "cell_type": "code",
   "execution_count": null,
   "metadata": {},
   "outputs": [],
   "source": [
    "ak.__version__"
   ]
  },
  {
   "cell_type": "markdown",
   "metadata": {},
   "source": [
    "# 基金列表\n",
    "\n",
    "- 约22620个"
   ]
  },
  {
   "cell_type": "markdown",
   "metadata": {},
   "source": [
    "## 全部基金"
   ]
  },
  {
   "cell_type": "code",
   "execution_count": null,
   "metadata": {},
   "outputs": [],
   "source": [
    "import akshare as ak\n",
    "\n",
    "fund_name_em_df = ak.fund_name_em()\n",
    "fund_name_em_df"
   ]
  },
  {
   "cell_type": "markdown",
   "metadata": {},
   "source": [
    "## 指数基金"
   ]
  },
  {
   "cell_type": "code",
   "execution_count": null,
   "metadata": {},
   "outputs": [],
   "source": [
    "fi = ak.fund_info_index_em(symbol=\"全部\", indicator=\"全部\")\n",
    "fi"
   ]
  },
  {
   "cell_type": "markdown",
   "metadata": {},
   "source": [
    "## 场内基金\n"
   ]
  },
  {
   "cell_type": "code",
   "execution_count": null,
   "metadata": {},
   "outputs": [],
   "source": [
    "ak.fund_exchange_rank_em()"
   ]
  },
  {
   "cell_type": "markdown",
   "metadata": {},
   "source": [
    "# 筛选"
   ]
  },
  {
   "cell_type": "markdown",
   "metadata": {},
   "source": [
    "## 筛选条件代码"
   ]
  },
  {
   "cell_type": "code",
   "execution_count": null,
   "metadata": {},
   "outputs": [],
   "source": [
    "def and_filter_fund(\n",
    "    data_source: pd.DataFrame,\n",
    "    top_number: int,\n",
    "    steady_growth: bool = False,\n",
    "    steady_growth_rate: float = 3,\n",
    ") -> pd.DataFrame:\n",
    "    # top_month_codes = set(data_source.nlargest(top_number, \"近1月\")[\"基金代码\"])\n",
    "    # top_3months_codes = set(data_source.nlargest(top_number, \"近3月\")[\"基金代码\"])\n",
    "    top_6months_codes = set(data_source.nlargest(top_number, \"近6月\")[\"基金代码\"])\n",
    "    top_year_codes = set(data_source.nlargest(top_number, \"近1年\")[\"基金代码\"])\n",
    "    top_2year_codes = set(data_source.nlargest(top_number, \"近2年\")[\"基金代码\"])\n",
    "    top_3year_codes = set(data_source.nlargest(top_number, \"近3年\")[\"基金代码\"])\n",
    "\n",
    "    # 计算共同基金代码的交集\n",
    "    common_codes = (\n",
    "        # top_month_codes &\n",
    "        # top_3months_codes\n",
    "        top_6months_codes\n",
    "        & top_year_codes\n",
    "        & top_2year_codes\n",
    "        & top_3year_codes\n",
    "    )\n",
    "\n",
    "    if steady_growth:\n",
    "        steady_growth_codes = set(\n",
    "            data_source[\n",
    "                ((data_source[\"近1年\"] - data_source[\"近6月\"]) > steady_growth_rate)\n",
    "                & ((data_source[\"近2年\"] - data_source[\"近1年\"]) > steady_growth_rate)\n",
    "                & ((data_source[\"近3年\"] - data_source[\"近2年\"]) > steady_growth_rate)\n",
    "            ][\"基金代码\"]\n",
    "        )\n",
    "        common_codes = common_codes & steady_growth_codes\n",
    "\n",
    "    # 筛选出这些共同基金\n",
    "    return data_source[data_source[\"基金代码\"].isin(common_codes)]"
   ]
  },
  {
   "cell_type": "markdown",
   "metadata": {},
   "source": [
    "## 开放基金筛选\n",
    "\n",
    "- 开放共16473个,少于所有基金6000个\n"
   ]
  },
  {
   "cell_type": "markdown",
   "metadata": {},
   "source": [
    "### 混合型筛选\n"
   ]
  },
  {
   "cell_type": "code",
   "execution_count": null,
   "metadata": {},
   "outputs": [],
   "source": [
    "bond_fund = ak.fund_open_fund_rank_em(symbol=\"混合型\")\n",
    "and_filter_fund(bond_fund, 150)"
   ]
  },
  {
   "cell_type": "markdown",
   "metadata": {},
   "source": [
    "### 股票型筛选\n"
   ]
  },
  {
   "cell_type": "code",
   "execution_count": null,
   "metadata": {},
   "outputs": [],
   "source": [
    "bond_fund = ak.fund_open_fund_rank_em(symbol=\"股票型\")\n",
    "and_filter_fund(bond_fund, 70)"
   ]
  },
  {
   "cell_type": "markdown",
   "metadata": {},
   "source": [
    "### 债券型筛选\n"
   ]
  },
  {
   "cell_type": "code",
   "execution_count": null,
   "metadata": {},
   "outputs": [],
   "source": [
    "and_filter_fund(ak.fund_open_fund_rank_em(symbol=\"债券型\"), 500, steady_growth=True)"
   ]
  },
  {
   "cell_type": "markdown",
   "metadata": {},
   "source": [
    "### 指数型筛选"
   ]
  },
  {
   "cell_type": "code",
   "execution_count": null,
   "metadata": {},
   "outputs": [],
   "source": [
    "and_filter_fund(ak.fund_open_fund_rank_em(symbol=\"指数型\"), 150)"
   ]
  },
  {
   "cell_type": "markdown",
   "metadata": {},
   "source": [
    "## 货币基金筛选\n"
   ]
  },
  {
   "cell_type": "code",
   "execution_count": null,
   "metadata": {},
   "outputs": [],
   "source": [
    "and_filter_fund(ak.fund_money_rank_em(), 30)"
   ]
  },
  {
   "cell_type": "markdown",
   "metadata": {},
   "source": [
    "## 场内基金筛选\n"
   ]
  },
  {
   "cell_type": "code",
   "execution_count": null,
   "metadata": {},
   "outputs": [],
   "source": [
    "and_filter_fund(ak.fund_exchange_rank_em(), 50)"
   ]
  },
  {
   "cell_type": "markdown",
   "metadata": {},
   "source": [
    "## 指数基金筛选"
   ]
  },
  {
   "cell_type": "markdown",
   "metadata": {},
   "source": [
    "### 债券指数"
   ]
  },
  {
   "cell_type": "code",
   "execution_count": null,
   "metadata": {},
   "outputs": [],
   "source": [
    "and_filter_fund(\n",
    "    ak.fund_info_index_em(symbol=\"债券指数\", indicator=\"全部\"),\n",
    "    100,\n",
    "    steady_growth=True,\n",
    "    steady_growth_rate=4,\n",
    ")"
   ]
  },
  {
   "cell_type": "markdown",
   "metadata": {},
   "source": [
    "### 股票指数"
   ]
  },
  {
   "cell_type": "code",
   "execution_count": null,
   "metadata": {},
   "outputs": [],
   "source": [
    "and_filter_fund(\n",
    "    ak.fund_info_index_em(symbol=\"股票指数\", indicator=\"全部\"),\n",
    "    200\n",
    ")"
   ]
  }
 ],
 "metadata": {
  "kernelspec": {
   "display_name": ".venv",
   "language": "python",
   "name": "python3"
  },
  "language_info": {
   "codemirror_mode": {
    "name": "ipython",
    "version": 3
   },
   "file_extension": ".py",
   "mimetype": "text/x-python",
   "name": "python",
   "nbconvert_exporter": "python",
   "pygments_lexer": "ipython3",
   "version": "3.12.5"
  }
 },
 "nbformat": 4,
 "nbformat_minor": 2
}
