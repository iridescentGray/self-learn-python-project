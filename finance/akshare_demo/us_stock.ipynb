{
 "cells": [
  {
   "cell_type": "code",
   "execution_count": 1,
   "metadata": {},
   "outputs": [],
   "source": [
    "import akshare as ak"
   ]
  },
  {
   "cell_type": "markdown",
   "metadata": {},
   "source": [
    "# stock"
   ]
  },
  {
   "cell_type": "markdown",
   "metadata": {},
   "source": [
    "## stock_us_famous_spot_em"
   ]
  },
  {
   "cell_type": "code",
   "execution_count": 2,
   "metadata": {},
   "outputs": [],
   "source": [
    "stock_us_a_hist_df = ak.stock_us_famous_spot_em(symbol=\"科技类\")\n"
   ]
  },
  {
   "cell_type": "markdown",
   "metadata": {},
   "source": [
    "## stock_us_hist"
   ]
  },
  {
   "cell_type": "code",
   "execution_count": 4,
   "metadata": {},
   "outputs": [
    {
     "data": {
      "text/html": [
       "<div>\n",
       "<style scoped>\n",
       "    .dataframe tbody tr th:only-of-type {\n",
       "        vertical-align: middle;\n",
       "    }\n",
       "\n",
       "    .dataframe tbody tr th {\n",
       "        vertical-align: top;\n",
       "    }\n",
       "\n",
       "    .dataframe thead th {\n",
       "        text-align: right;\n",
       "    }\n",
       "</style>\n",
       "<table border=\"1\" class=\"dataframe\">\n",
       "  <thead>\n",
       "    <tr style=\"text-align: right;\">\n",
       "      <th></th>\n",
       "      <th>日期</th>\n",
       "      <th>开盘</th>\n",
       "      <th>收盘</th>\n",
       "      <th>最高</th>\n",
       "      <th>最低</th>\n",
       "      <th>成交量</th>\n",
       "      <th>成交额</th>\n",
       "      <th>振幅</th>\n",
       "      <th>涨跌幅</th>\n",
       "      <th>涨跌额</th>\n",
       "      <th>换手率</th>\n",
       "    </tr>\n",
       "  </thead>\n",
       "  <tbody>\n",
       "    <tr>\n",
       "      <th>0</th>\n",
       "      <td>2024-05-06</td>\n",
       "      <td>182.104</td>\n",
       "      <td>181.46</td>\n",
       "      <td>183.95</td>\n",
       "      <td>180.17</td>\n",
       "      <td>78569667</td>\n",
       "      <td>1.428704e+10</td>\n",
       "      <td>2.06</td>\n",
       "      <td>-0.91</td>\n",
       "      <td>-1.67</td>\n",
       "      <td>0.51</td>\n",
       "    </tr>\n",
       "    <tr>\n",
       "      <th>1</th>\n",
       "      <td>2024-05-07</td>\n",
       "      <td>183.200</td>\n",
       "      <td>182.15</td>\n",
       "      <td>184.65</td>\n",
       "      <td>181.07</td>\n",
       "      <td>77305771</td>\n",
       "      <td>1.413431e+10</td>\n",
       "      <td>1.97</td>\n",
       "      <td>0.38</td>\n",
       "      <td>0.69</td>\n",
       "      <td>0.50</td>\n",
       "    </tr>\n",
       "    <tr>\n",
       "      <th>2</th>\n",
       "      <td>2024-05-08</td>\n",
       "      <td>182.600</td>\n",
       "      <td>182.49</td>\n",
       "      <td>182.82</td>\n",
       "      <td>181.20</td>\n",
       "      <td>45057087</td>\n",
       "      <td>8.221519e+09</td>\n",
       "      <td>0.89</td>\n",
       "      <td>0.19</td>\n",
       "      <td>0.34</td>\n",
       "      <td>0.29</td>\n",
       "    </tr>\n",
       "    <tr>\n",
       "      <th>3</th>\n",
       "      <td>2024-05-09</td>\n",
       "      <td>182.310</td>\n",
       "      <td>184.32</td>\n",
       "      <td>184.41</td>\n",
       "      <td>181.86</td>\n",
       "      <td>48982972</td>\n",
       "      <td>9.012410e+09</td>\n",
       "      <td>1.40</td>\n",
       "      <td>1.00</td>\n",
       "      <td>1.83</td>\n",
       "      <td>0.32</td>\n",
       "    </tr>\n",
       "    <tr>\n",
       "      <th>4</th>\n",
       "      <td>2024-05-10</td>\n",
       "      <td>184.900</td>\n",
       "      <td>183.05</td>\n",
       "      <td>185.09</td>\n",
       "      <td>182.13</td>\n",
       "      <td>50759496</td>\n",
       "      <td>9.293988e+09</td>\n",
       "      <td>1.61</td>\n",
       "      <td>-0.69</td>\n",
       "      <td>-1.27</td>\n",
       "      <td>0.33</td>\n",
       "    </tr>\n",
       "  </tbody>\n",
       "</table>\n",
       "</div>"
      ],
      "text/plain": [
       "           日期       开盘      收盘      最高      最低       成交量           成交额    振幅  \\\n",
       "0  2024-05-06  182.104  181.46  183.95  180.17  78569667  1.428704e+10  2.06   \n",
       "1  2024-05-07  183.200  182.15  184.65  181.07  77305771  1.413431e+10  1.97   \n",
       "2  2024-05-08  182.600  182.49  182.82  181.20  45057087  8.221519e+09  0.89   \n",
       "3  2024-05-09  182.310  184.32  184.41  181.86  48982972  9.012410e+09  1.40   \n",
       "4  2024-05-10  184.900  183.05  185.09  182.13  50759496  9.293988e+09  1.61   \n",
       "\n",
       "    涨跌幅   涨跌额   换手率  \n",
       "0 -0.91 -1.67  0.51  \n",
       "1  0.38  0.69  0.50  \n",
       "2  0.19  0.34  0.29  \n",
       "3  1.00  1.83  0.32  \n",
       "4 -0.69 -1.27  0.33  "
      ]
     },
     "execution_count": 4,
     "metadata": {},
     "output_type": "execute_result"
    }
   ],
   "source": [
    "stock_us_a_hist_df = ak.stock_us_hist(\n",
    "    symbol=\"105.AAPL\",\n",
    "    period=\"daily\",\n",
    "\n",
    "\n",
    "    start_date=\"20240505\",\n",
    "    end_date=\"20240510\",\n",
    "    adjust=\"qfq\",\n",
    ")\n",
    "stock_us_a_hist_df"
   ]
  }
 ],
 "metadata": {
  "kernelspec": {
   "display_name": ".venv",
   "language": "python",
   "name": "python3"
  },
  "language_info": {
   "codemirror_mode": {
    "name": "ipython",
    "version": 3
   },
   "file_extension": ".py",
   "mimetype": "text/x-python",
   "name": "python",
   "nbconvert_exporter": "python",
   "pygments_lexer": "ipython3",
   "version": "3.11.8"
  }
 },
 "nbformat": 4,
 "nbformat_minor": 2
}
