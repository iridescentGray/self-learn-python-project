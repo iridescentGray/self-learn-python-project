{
 "cells": [
  {
   "cell_type": "markdown",
   "metadata": {},
   "source": [
    "#  interest_rate\n",
    "https://akshare.akfamily.xyz/data/interest_rate/interest_rate.html"
   ]
  },
  {
   "cell_type": "code",
   "execution_count": 1,
   "metadata": {},
   "outputs": [],
   "source": [
    "import akshare as ak"
   ]
  },
  {
   "cell_type": "markdown",
   "metadata": {},
   "source": [
    "## US"
   ]
  },
  {
   "cell_type": "code",
   "execution_count": 6,
   "metadata": {},
   "outputs": [],
   "source": [
    "macro_bank_usa_interest_rate_df = ak.macro_bank_usa_interest_rate()\n",
    "macro_bank_usa_interest_rate_df.tail()"
   ]
  },
  {
   "cell_type": "code",
   "execution_count": null,
   "metadata": {},
   "outputs": [
    {
     "name": "stdout",
     "output_type": "stream",
     "text": [
      "          商品          日期   今值   预测值   前值\n",
      "281  美联储利率决议  2024-05-02  5.5  5.50  5.5\n",
      "282  美联储利率决议  2024-06-13  5.5  5.50  5.5\n",
      "283  美联储利率决议  2024-08-01  5.5  5.50  5.5\n",
      "284  美联储利率决议  2024-09-19  5.0  5.25  5.5\n",
      "285  美联储利率决议  2024-11-08  NaN   NaN  5.0\n"
     ]
    }
   ],
   "source": [
    "print(macro_bank_usa_interest_rate_df.tail())"
   ]
  },
  {
   "cell_type": "markdown",
   "metadata": {},
   "source": [
    "## JP"
   ]
  },
  {
   "cell_type": "code",
   "execution_count": 5,
   "metadata": {},
   "outputs": [
    {
     "name": "stdout",
     "output_type": "stream",
     "text": [
      "           商品          日期    今值   预测值    前值\n",
      "189  日本利率决议报告  2024-04-26  0.10  0.10  0.10\n",
      "190  日本利率决议报告  2024-06-14  0.10  0.10  0.10\n",
      "191  日本利率决议报告  2024-07-31  0.25  0.10  0.10\n",
      "192  日本利率决议报告  2024-09-20  0.25  0.25  0.25\n",
      "193  日本利率决议报告  2024-10-31   NaN   NaN  0.25\n"
     ]
    }
   ],
   "source": [
    "macro_bank_japan_interest_rate_df = ak.macro_bank_japan_interest_rate()\n",
    "print(macro_bank_japan_interest_rate_df.tail())"
   ]
  }
 ],
 "metadata": {
  "kernelspec": {
   "display_name": ".venv",
   "language": "python",
   "name": "python3"
  },
  "language_info": {
   "codemirror_mode": {
    "name": "ipython",
    "version": 3
   },
   "file_extension": ".py",
   "mimetype": "text/x-python",
   "name": "python",
   "nbconvert_exporter": "python",
   "pygments_lexer": "ipython3",
   "version": "3.12.5"
  }
 },
 "nbformat": 4,
 "nbformat_minor": 2
}
