{
 "cells": [
  {
   "cell_type": "code",
   "execution_count": null,
   "metadata": {},
   "outputs": [],
   "source": [
    "from amzqr import amzqr\n",
    "import os"
   ]
  },
  {
   "cell_type": "markdown",
   "metadata": {},
   "source": [
    "# Base QR code"
   ]
  },
  {
   "cell_type": "code",
   "execution_count": null,
   "metadata": {},
   "outputs": [],
   "source": [
    "version, level, qr_name = amzqr.run(\n",
    "    \"www.bless_you.com\",\n",
    "    version=1,\n",
    "    level=\"H\",\n",
    "    picture=None,\n",
    "    colorized=False,\n",
    "    contrast=1.0,\n",
    "    brightness=1.0,\n",
    "    save_name=\"base_qrcode.png\",\n",
    "    save_dir=os.getcwd(),\n",
    ")"
   ]
  },
  {
   "cell_type": "markdown",
   "metadata": {},
   "source": [
    "# Background QR code"
   ]
  },
  {
   "cell_type": "code",
   "execution_count": 12,
   "metadata": {},
   "outputs": [
    {
     "name": "stdout",
     "output_type": "stream",
     "text": [
      "line 16: mode: byte\n"
     ]
    },
    {
     "data": {
      "text/plain": [
       "(3,\n",
       " 'H',\n",
       " 'e:\\\\project\\\\python_new\\\\self\\\\self-learn-python-project\\\\acrobatics\\\\qrcode\\\\amzqr_demo\\\\github_qrcode.png')"
      ]
     },
     "execution_count": 12,
     "metadata": {},
     "output_type": "execute_result"
    }
   ],
   "source": [
    "amzqr.run(\n",
    "    \"www.github.com\",\n",
    "    version=1,\n",
    "    level=\"H\",\n",
    "    picture=\"github.png\",\n",
    "    colorized=False,\n",
    "    contrast=1.0,\n",
    "    brightness=1.0,\n",
    "    save_name=\"github_qrcode.png\",\n",
    "    save_dir=os.getcwd(),\n",
    ")"
   ]
  }
 ],
 "metadata": {
  "kernelspec": {
   "display_name": ".venv",
   "language": "python",
   "name": "python3"
  },
  "language_info": {
   "codemirror_mode": {
    "name": "ipython",
    "version": 3
   },
   "file_extension": ".py",
   "mimetype": "text/x-python",
   "name": "python",
   "nbconvert_exporter": "python",
   "pygments_lexer": "ipython3",
   "version": "3.11.8"
  }
 },
 "nbformat": 4,
 "nbformat_minor": 2
}
