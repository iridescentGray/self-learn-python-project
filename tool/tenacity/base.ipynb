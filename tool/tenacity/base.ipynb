{
 "cells": [
  {
   "cell_type": "markdown",
   "metadata": {},
   "source": [
    "# hello world\n",
    "\n",
    "fix error by retry\n"
   ]
  },
  {
   "cell_type": "code",
   "execution_count": null,
   "metadata": {},
   "outputs": [],
   "source": [
    "import random\n",
    "from tenacity import retry\n",
    "\n",
    "\n",
    "@retry\n",
    "def do_something_unreliable():\n",
    "    if random.randint(0, 10) > 1:\n",
    "        raise IOError(\"Broken sauce, everything is hosed!!!111one\")\n",
    "    else:\n",
    "        return \"Awesome sauce!\"\n",
    "\n",
    "\n",
    "print(do_something_unreliable())"
   ]
  },
  {
   "cell_type": "markdown",
   "metadata": {},
   "source": [
    "# 指定停止条件\n"
   ]
  },
  {
   "cell_type": "markdown",
   "metadata": {},
   "source": [
    "## 重试次数\n"
   ]
  },
  {
   "cell_type": "code",
   "execution_count": null,
   "metadata": {},
   "outputs": [],
   "source": [
    "from tenacity import stop_after_attempt\n",
    "\n",
    "\n",
    "@retry(stop=stop_after_attempt(5))\n",
    "def stop_after_5_attempts():\n",
    "    print(\"Stopping after 5 attempts\")\n",
    "    raise Exception\n",
    "\n",
    "\n",
    "stop_after_5_attempts()"
   ]
  },
  {
   "cell_type": "markdown",
   "metadata": {},
   "source": [
    "## 重试几秒\n"
   ]
  },
  {
   "cell_type": "code",
   "execution_count": null,
   "metadata": {},
   "outputs": [],
   "source": [
    "from tenacity import stop_after_delay\n",
    "\n",
    "\n",
    "@retry(stop=stop_after_delay(2))\n",
    "def stop_after_2_s():\n",
    "    print(\"Stopping after 10 seconds\")\n",
    "    raise Exception\n",
    "\n",
    "\n",
    "stop_after_2_s()"
   ]
  },
  {
   "cell_type": "markdown",
   "metadata": {},
   "source": [
    "# 指定重试前等待\n"
   ]
  },
  {
   "cell_type": "markdown",
   "metadata": {},
   "source": [
    "## 等待几秒\n"
   ]
  },
  {
   "cell_type": "code",
   "execution_count": null,
   "metadata": {},
   "outputs": [],
   "source": [
    "from tenacity import wait_fixed\n",
    "\n",
    "\n",
    "@retry(wait=wait_fixed(2))\n",
    "def wait_2_s():\n",
    "    print(\"Wait 2 second between retries\")\n",
    "    raise Exception\n",
    "\n",
    "\n",
    "wait_2_s()"
   ]
  },
  {
   "cell_type": "markdown",
   "metadata": {},
   "source": [
    "## 等待随机时间\n"
   ]
  },
  {
   "cell_type": "code",
   "execution_count": null,
   "metadata": {},
   "outputs": [],
   "source": [
    "from tenacity import wait_random\n",
    "\n",
    "\n",
    "@retry(wait=wait_random(min=1, max=2))\n",
    "def wait_random_1_to_2_s():\n",
    "    print(\"Randomly wait 1 to 2 seconds between retries\")\n",
    "    raise Exception\n",
    "\n",
    "\n",
    "wait_random_1_to_2_s()"
   ]
  },
  {
   "cell_type": "markdown",
   "metadata": {},
   "source": [
    "## 固定+随机等待时间\n"
   ]
  },
  {
   "cell_type": "code",
   "execution_count": null,
   "metadata": {},
   "outputs": [],
   "source": [
    "from tenacity import wait_fixed\n",
    "from tenacity import wait_random\n",
    "\n",
    "\n",
    "@retry(wait=wait_fixed(3) + wait_random(0, 2))\n",
    "def wait_fixed_jitter():\n",
    "    print(\"Wait at least 3 seconds, and add up to 2 seconds of random delay\")\n",
    "    raise Exception\n",
    "\n",
    "\n",
    "wait_fixed_jitter()"
   ]
  },
  {
   "cell_type": "markdown",
   "metadata": {},
   "source": [
    "## 等待时间-指数式递增\n"
   ]
  },
  {
   "cell_type": "code",
   "execution_count": null,
   "metadata": {},
   "outputs": [],
   "source": [
    "from tenacity import wait_exponential\n",
    "\n",
    "# 最短等待时间为1，最小等待4秒，每次增加1倍，最多10\n",
    "@retry(wait=wait_exponential(multiplier=1, min=4, max=10))\n",
    "def wait_exponential_1():\n",
    "    print(\n",
    "        \"Wait 2^x * 1 second between each retry starting with 4 seconds, then up to 10 seconds, then 10 seconds afterwards\"\n",
    "    )\n",
    "    raise Exception\n",
    "\n",
    "\n",
    "wait_exponential_1()"
   ]
  },
  {
   "cell_type": "markdown",
   "metadata": {},
   "source": [
    "## 等待时间-指随机数式递增\n"
   ]
  },
  {
   "cell_type": "code",
   "execution_count": null,
   "metadata": {},
   "outputs": [],
   "source": [
    "from tenacity import wait_random_exponential\n",
    "\n",
    "\n",
    "@retry(wait=wait_random_exponential(multiplier=1, max=60))\n",
    "def wait_exponential_jitter():\n",
    "    print(\n",
    "        \"Randomly wait up to 2^x * 1 seconds between each retry until the range reaches 60 seconds, then randomly up to 60 seconds afterwards\"\n",
    "    )\n",
    "    raise Exception\n",
    "\n",
    "\n",
    "wait_exponential_jitter()"
   ]
  },
  {
   "cell_type": "markdown",
   "metadata": {},
   "source": [
    "# 指定异常重试\n"
   ]
  },
  {
   "cell_type": "code",
   "execution_count": null,
   "metadata": {},
   "outputs": [],
   "source": [
    "from tenacity import retry_if_exception_type\n",
    "\n",
    "\n",
    "@retry(retry=retry_if_exception_type(IOError))\n",
    "def might_io_error():\n",
    "    print(\"Retry forever with no wait if an IOError occurs, raise any other errors\")\n",
    "    raise Exception\n",
    "\n",
    "\n",
    "might_io_error()"
   ]
  },
  {
   "cell_type": "markdown",
   "metadata": {},
   "source": [
    "# 指定返回值重试\n"
   ]
  },
  {
   "cell_type": "code",
   "execution_count": null,
   "metadata": {},
   "outputs": [],
   "source": [
    "from tenacity import retry_if_result\n",
    "\n",
    "\n",
    "def is_none_p(value):\n",
    "    \"\"\"Return True if value is None\"\"\"\n",
    "    return value is None\n",
    "\n",
    "\n",
    "@retry(retry=retry_if_result(is_none_p))\n",
    "def might_return_none():\n",
    "    print(\"Retry with no wait if return value is None\")\n",
    "\n",
    "\n",
    "might_return_none()"
   ]
  },
  {
   "cell_type": "markdown",
   "metadata": {},
   "source": [
    "# 混合重试条件\n"
   ]
  },
  {
   "cell_type": "markdown",
   "metadata": {},
   "source": [
    "## 或\n"
   ]
  },
  {
   "cell_type": "code",
   "execution_count": null,
   "metadata": {},
   "outputs": [],
   "source": [
    "from tenacity import stop_after_attempt\n",
    "from tenacity import stop_after_delay\n",
    "\n",
    "\n",
    "@retry(stop=(stop_after_delay(1) | stop_after_attempt(5)))\n",
    "def stop_after_1_s_or_5_retries():\n",
    "    print(\"Stopping after 1 seconds or 5 retries\")\n",
    "    raise Exception"
   ]
  },
  {
   "cell_type": "markdown",
   "metadata": {},
   "source": [
    "## 链式\n"
   ]
  },
  {
   "cell_type": "code",
   "execution_count": null,
   "metadata": {},
   "outputs": [],
   "source": [
    "from tenacity import wait_chain\n",
    "from tenacity import wait_fixed\n",
    "\n",
    "\n",
    "@retry(\n",
    "    wait=wait_chain(\n",
    "        *[wait_fixed(3) for i in range(3)]\n",
    "        + [wait_fixed(7) for i in range(2)]\n",
    "        + [wait_fixed(9)]\n",
    "    )\n",
    ")\n",
    "def wait_fixed_chained():\n",
    "    print(\n",
    "        \"Wait 3s for 3 attempts, 7s for the next 2 attempts and 9s for all attempts thereafter\"\n",
    "    )\n",
    "    raise Exception\n",
    "\n",
    "\n",
    "wait_fixed_chained()"
   ]
  },
  {
   "cell_type": "markdown",
   "metadata": {},
   "source": [
    "# 手动引发重试\n"
   ]
  },
  {
   "cell_type": "code",
   "execution_count": null,
   "metadata": {},
   "outputs": [],
   "source": [
    "from tenacity import TryAgain\n",
    "\n",
    "\n",
    "@retry\n",
    "def do_something():\n",
    "    result = 23\n",
    "    if result == 23:\n",
    "        print(\"retry\")\n",
    "        raise TryAgain\n",
    "\n",
    "\n",
    "do_something()"
   ]
  },
  {
   "cell_type": "markdown",
   "metadata": {},
   "source": [
    "# 异常处理\n"
   ]
  },
  {
   "cell_type": "markdown",
   "metadata": {},
   "source": [
    "## 抛出原异常\n",
    "\n",
    "默认会吞掉原异常\n"
   ]
  },
  {
   "cell_type": "code",
   "execution_count": null,
   "metadata": {},
   "outputs": [],
   "source": [
    "from tenacity import stop_after_attempt\n",
    "\n",
    "\n",
    "@retry(reraise=True, stop=stop_after_attempt(3))\n",
    "def raise_my_exception():\n",
    "    raise ValueError(\"Fail\")\n",
    "\n",
    "\n",
    "try:\n",
    "    raise_my_exception()\n",
    "except ValueError:\n",
    "    pass\n",
    "\n",
    "raise_my_exception()"
   ]
  },
  {
   "cell_type": "markdown",
   "metadata": {},
   "source": [
    "## 异常回调\n"
   ]
  },
  {
   "cell_type": "markdown",
   "metadata": {},
   "source": [
    "### 记录日志-after 异常\n"
   ]
  },
  {
   "cell_type": "code",
   "execution_count": 44,
   "metadata": {},
   "outputs": [
    {
     "name": "stderr",
     "output_type": "stream",
     "text": [
      "DEBUG:__main__:Finished call to '__main__.raise_my_exception' after 0.000(s), this was the 1st time calling it.\n",
      "DEBUG:__main__:Finished call to '__main__.raise_my_exception' after 0.001(s), this was the 2nd time calling it.\n",
      "DEBUG:__main__:Finished call to '__main__.raise_my_exception' after 0.002(s), this was the 3rd time calling it.\n"
     ]
    }
   ],
   "source": [
    "import logging\n",
    "import sys\n",
    "\n",
    "from tenacity import after_log\n",
    "\n",
    "logging.basicConfig(stream=sys.stderr, level=logging.DEBUG)\n",
    "\n",
    "logger = logging.getLogger(__name__)\n",
    "\n",
    "\n",
    "@retry(stop=stop_after_attempt(3), after=after_log(logger, logging.DEBUG))\n",
    "def raise_my_exception():\n",
    "    raise ValueError(\"Fail\")\n",
    "\n",
    "\n",
    "try:\n",
    "    raise_my_exception()\n",
    "except Exception:\n",
    "    pass"
   ]
  },
  {
   "cell_type": "markdown",
   "metadata": {},
   "source": [
    "### 记录异常-before 重新回调\n"
   ]
  },
  {
   "cell_type": "code",
   "execution_count": 43,
   "metadata": {},
   "outputs": [
    {
     "name": "stderr",
     "output_type": "stream",
     "text": [
      "DEBUG:__main__:Starting call to '__main__.raise_my_exception', this is the 1st time calling it.\n",
      "DEBUG:__main__:Starting call to '__main__.raise_my_exception', this is the 2nd time calling it.\n",
      "DEBUG:__main__:Starting call to '__main__.raise_my_exception', this is the 3rd time calling it.\n"
     ]
    }
   ],
   "source": [
    "import logging\n",
    "import sys\n",
    "\n",
    "from tenacity import before_log\n",
    "\n",
    "logging.basicConfig(stream=sys.stderr, level=logging.DEBUG)\n",
    "logger = logging.getLogger(__name__)\n",
    "\n",
    "\n",
    "def before_call():\n",
    "    print(\"before_call exec\")\n",
    "\n",
    "\n",
    "@retry(stop=stop_after_attempt(3), before=before_log(logger, logging.DEBUG))\n",
    "def raise_my_exception():\n",
    "    raise ValueError(\"Fail\")\n",
    "\n",
    "\n",
    "try:\n",
    "    raise_my_exception()\n",
    "\n",
    "except Exception:\n",
    "    pass"
   ]
  },
  {
   "cell_type": "markdown",
   "metadata": {},
   "source": [
    "### 自定义调\n"
   ]
  },
  {
   "cell_type": "code",
   "execution_count": null,
   "metadata": {},
   "outputs": [],
   "source": [
    "def my_error_call(retry_state):\n",
    "    print(f\"my_error_call exec param is {retry_state}\")\n",
    "    return retry_state.outcome.result()\n",
    "\n",
    "\n",
    "@retry(stop=stop_after_attempt(3), retry_error_callback=my_error_call)\n",
    "def raise_my_exception():\n",
    "    raise ValueError(\"Fail\")\n",
    "\n",
    "\n",
    "raise_my_exception()"
   ]
  },
  {
   "cell_type": "markdown",
   "metadata": {},
   "source": [
    "# 查看重试次数\n"
   ]
  },
  {
   "cell_type": "code",
   "execution_count": null,
   "metadata": {},
   "outputs": [],
   "source": [
    "@retry(stop=stop_after_attempt(3))\n",
    "def raise_my_exception():\n",
    "    raise ValueError(\"Fail\")\n",
    "\n",
    "\n",
    "try:\n",
    "    raise_my_exception()\n",
    "except Exception:\n",
    "    pass\n",
    "\n",
    "print(raise_my_exception.retry.statistics)"
   ]
  }
 ],
 "metadata": {
  "kernelspec": {
   "display_name": "data_analysis",
   "language": "python",
   "name": "python3"
  },
  "language_info": {
   "codemirror_mode": {
    "name": "ipython",
    "version": 3
   },
   "file_extension": ".py",
   "mimetype": "text/x-python",
   "name": "python",
   "nbconvert_exporter": "python",
   "pygments_lexer": "ipython3",
   "version": "3.11.6"
  }
 },
 "nbformat": 4,
 "nbformat_minor": 2
}
