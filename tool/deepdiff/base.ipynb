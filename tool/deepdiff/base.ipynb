{
 "cells": [
  {
   "cell_type": "markdown",
   "metadata": {},
   "source": [
    "_DeepDiff 用法介绍_\n",
    "\n",
    "DeepDiff 核心模块\n",
    "\n",
    "- DeepDiff:该模块通过递归方式比较两个字典、可迭代对象、字符串和其他对象的深度差异\n",
    "- DeepSearch:该模块支持在对象中搜索对象\n",
    "- Extract:该模块可以根据值抽取其 Key 的路径,反过来根据 Key 路径提取其值\n"
   ]
  },
  {
   "cell_type": "code",
   "execution_count": 1,
   "metadata": {},
   "outputs": [],
   "source": [
    "from deepdiff import DeepDiff"
   ]
  },
  {
   "cell_type": "markdown",
   "metadata": {},
   "source": [
    "# DeepDiff\n"
   ]
  },
  {
   "cell_type": "markdown",
   "metadata": {},
   "source": []
  },
  {
   "cell_type": "markdown",
   "metadata": {},
   "source": [
    "## 完全相同\n"
   ]
  },
  {
   "cell_type": "code",
   "execution_count": 2,
   "metadata": {},
   "outputs": [
    {
     "name": "stdout",
     "output_type": "stream",
     "text": [
      "{}\n"
     ]
    }
   ],
   "source": [
    "t1 = {1: 1, 2: 2, 3: 3}\n",
    "t2 = t1\n",
    "# 同一对象返回{}\n",
    "print(DeepDiff(t1, t2))"
   ]
  },
  {
   "cell_type": "markdown",
   "metadata": {},
   "source": [
    "## type 不同\n"
   ]
  },
  {
   "cell_type": "code",
   "execution_count": 3,
   "metadata": {},
   "outputs": [
    {
     "name": "stdout",
     "output_type": "stream",
     "text": [
      "{'type_changes': {'root[2]': {'old_type': <class 'int'>, 'new_type': <class 'str'>, 'old_value': 2, 'new_value': '2'}}}\n"
     ]
    }
   ],
   "source": [
    "t1 = {1: 1, 2: 2, 3: 3}\n",
    "t2 = {1: 1, 2: \"2\", 3: 3}\n",
    "# 类型改变时会校验并返回差异（一个是int，一个str）\n",
    "print(DeepDiff(t1, t2))"
   ]
  },
  {
   "cell_type": "markdown",
   "metadata": {},
   "source": [
    "## 值不同\n"
   ]
  },
  {
   "cell_type": "code",
   "execution_count": 7,
   "metadata": {},
   "outputs": [
    {
     "name": "stdout",
     "output_type": "stream",
     "text": [
      "{'values_changed': {'root[5]': {'new_value': 4, 'old_value': 2}}}\n"
     ]
    }
   ],
   "source": [
    "t1 = {1: 1, 5: 2, 3: 3}\n",
    "t2 = {1: 1, 5: 4, 3: 3}\n",
    "print(DeepDiff(t1, t2))"
   ]
  },
  {
   "cell_type": "markdown",
   "metadata": {},
   "source": [
    "## dict 数量不同\n"
   ]
  },
  {
   "cell_type": "code",
   "execution_count": 8,
   "metadata": {},
   "outputs": [
    {
     "name": "stdout",
     "output_type": "stream",
     "text": [
      "{'dictionary_item_added': [root[5], root[6]], 'dictionary_item_removed': [root[2]]}\n"
     ]
    }
   ],
   "source": [
    "t1 = {1: 1, 2: 2, 3: 3}\n",
    "t2 = {1: 1, 3: 3, 5: 5, 6: 6}\n",
    "print(DeepDiff(t1, t2))"
   ]
  },
  {
   "cell_type": "markdown",
   "metadata": {},
   "source": [
    "## 属性"
   ]
  },
  {
   "cell_type": "markdown",
   "metadata": {},
   "source": [
    "### verbose_level-差异详细程度\n"
   ]
  },
  {
   "cell_type": "code",
   "execution_count": null,
   "metadata": {},
   "outputs": [],
   "source": [
    "t1 = {1: 1, 2: 2, 3: 3}\n",
    "t2 = {1: 1, 3: 3, 5: 5, 6: 6}\n",
    "# verbose_level=2可疑把key和value一起返\n",
    "print(DeepDiff(t1, t2, verbose_level=2))"
   ]
  },
  {
   "cell_type": "markdown",
   "metadata": {},
   "source": [
    "### get_deep_distance-差异值的深度值"
   ]
  },
  {
   "cell_type": "code",
   "execution_count": 21,
   "metadata": {},
   "outputs": [
    {
     "name": "stdout",
     "output_type": "stream",
     "text": [
      "{'values_changed': {'root': {'new_value': 10.1, 'old_value': 10.0}}, 'deep_distance': 0.0014925373134328302}\n"
     ]
    }
   ],
   "source": [
    "print(DeepDiff(10.0, 10.1, get_deep_distance=True))"
   ]
  },
  {
   "cell_type": "markdown",
   "metadata": {},
   "source": [
    "### exclude_paths-排除待比较的路径"
   ]
  },
  {
   "cell_type": "code",
   "execution_count": 22,
   "metadata": {},
   "outputs": [
    {
     "name": "stdout",
     "output_type": "stream",
     "text": [
      "{}\n"
     ]
    }
   ],
   "source": [
    "t1 = { \"ingredients\": [\"no meat\", \"no eggs\"]}\n",
    "t2 = {\"ingredients\": [\"veggies\", \"tofu\"]}\n",
    "# 指定ingredients这个路径不对比差异\n",
    "print(DeepDiff(t1, t2, exclude_paths=\"root['ingredients']\"))"
   ]
  },
  {
   "cell_type": "markdown",
   "metadata": {},
   "source": [
    "### 忽略\n",
    "\n",
    "* ignore_string_type_changes=True ： 忽略字符串类型的差异\n",
    "* ignore_numeric_type_changes=True：忽略数字类型的差异\n",
    "* ignore_string_case=True：忽略字母大小写的差异\n",
    "* truncate_datetime='minute'：时间的比较截止到分钟，只比较年月日小时"
   ]
  },
  {
   "cell_type": "markdown",
   "metadata": {},
   "source": [
    "### ignore_order-忽略对比的顺序 "
   ]
  },
  {
   "cell_type": "code",
   "execution_count": 26,
   "metadata": {},
   "outputs": [
    {
     "name": "stdout",
     "output_type": "stream",
     "text": [
      "{'values_changed': {'root[1]': {'new_value': 3, 'old_value': 2}, 'root[2]': {'new_value': 2, 'old_value': 3}}}\n",
      "{}\n"
     ]
    }
   ],
   "source": [
    "t1 = [1, 2, 3]\n",
    "t2 = [1, 3, 2]\n",
    "print(DeepDiff(t1, t2))\n",
    "print(DeepDiff(t1, t2, ignore_order=True))"
   ]
  },
  {
   "cell_type": "markdown",
   "metadata": {},
   "source": [
    "### Dynamic Ignore Order- 忽略指定情况的顺序"
   ]
  },
  {
   "cell_type": "code",
   "execution_count": 32,
   "metadata": {},
   "outputs": [
    {
     "name": "stdout",
     "output_type": "stream",
     "text": [
      "{}\n",
      "{'values_changed': {\"root['b'][0]\": {'new_value': 4, 'old_value': 3}, \"root['b'][1]\": {'new_value': 3, 'old_value': 4}}}\n"
     ]
    }
   ],
   "source": [
    "t1_order = {'a': [1, 2], 'b': [3, 4]}\n",
    "t2_order = {'a': [2, 1], 'b': [4, 3]}\n",
    "print(DeepDiff(t1_order, t2_order, ignore_order=True))\n",
    "{}\n",
    "# 设置只忽略a路径的顺序\n",
    "def ignore_order_func(level):\n",
    "    return 'a' in level.path()\n",
    "\n",
    "print(DeepDiff(t1_order, t2_order, ignore_order_func=ignore_order_func))"
   ]
  },
  {
   "cell_type": "markdown",
   "metadata": {},
   "source": [
    "## 定制比较规则\n"
   ]
  },
  {
   "cell_type": "code",
   "execution_count": 18,
   "metadata": {},
   "outputs": [],
   "source": [
    "from deepdiff.operator import BaseOperator\n",
    "\n",
    "\n",
    "class CustomClass:\n",
    "    def __init__(self, d: dict, inn_list: list):\n",
    "        self.dict = d\n",
    "        self.dict[\"inn_list\"] = inn_list\n",
    "\n",
    "\n",
    "custom1 = CustomClass(d=dict(a=1, b=2), inn_list=[1, 2, 3])\n",
    "custom2 = CustomClass(d=dict(c=3, d=4), inn_list=[1, 2, 3, 2])\n",
    "custom3 = CustomClass(d=dict(a=1, b=2), inn_list=[1, 2, 3, 4])\n",
    "\n",
    "\n",
    "class ListMatchOperator(BaseOperator):\n",
    "    def give_up_diffing(self, level, diff_instance):\n",
    "        # 把list转换为set进行比较\n",
    "        if set(level.t1.dict[\"inn_list\"]) == set(level.t2.dict[\"inn_list\"]):\n",
    "            return True"
   ]
  },
  {
   "cell_type": "code",
   "execution_count": 19,
   "metadata": {},
   "outputs": [
    {
     "name": "stdout",
     "output_type": "stream",
     "text": [
      "{}\n"
     ]
    }
   ],
   "source": [
    "print(\n",
    "    DeepDiff(\n",
    "        custom1, custom2, custom_operators=[ListMatchOperator(types=[CustomClass])]\n",
    "    )\n",
    ")"
   ]
  },
  {
   "cell_type": "code",
   "execution_count": 20,
   "metadata": {},
   "outputs": [
    {
     "name": "stdout",
     "output_type": "stream",
     "text": [
      "{'dictionary_item_added': [root.dict['a'], root.dict['b']], 'dictionary_item_removed': [root.dict['c'], root.dict['d']], 'values_changed': {\"root.dict['inn_list'][3]\": {'new_value': 4, 'old_value': 2}}}\n"
     ]
    }
   ],
   "source": [
    "print(\n",
    "    DeepDiff(\n",
    "        custom2, custom3, custom_operators=[ListMatchOperator(types=[CustomClass])]\n",
    "    )\n",
    ")"
   ]
  }
 ],
 "metadata": {
  "kernelspec": {
   "display_name": "Python 3",
   "language": "python",
   "name": "python3"
  },
  "language_info": {
   "codemirror_mode": {
    "name": "ipython",
    "version": 3
   },
   "file_extension": ".py",
   "mimetype": "text/x-python",
   "name": "python",
   "nbconvert_exporter": "python",
   "pygments_lexer": "ipython3",
   "version": "3.11.7"
  }
 },
 "nbformat": 4,
 "nbformat_minor": 2
}
