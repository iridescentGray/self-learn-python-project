{
 "cells": [
  {
   "cell_type": "code",
   "execution_count": 2,
   "metadata": {},
   "outputs": [],
   "source": [
    "import subprocess as sp\n",
    "\n",
    "def exec_cmd(cmd:str):\n",
    "    process = sp.Popen(cmd, stdin=sp.PIPE, stdout=sp.PIPE, stderr=sp.PIPE, shell=True)\n",
    "    # 等待命令执行完成\n",
    "    process.wait()"
   ]
  },
  {
   "cell_type": "markdown",
   "metadata": {},
   "source": [
    "# json->pydantic"
   ]
  },
  {
   "cell_type": "code",
   "execution_count": null,
   "metadata": {},
   "outputs": [],
   "source": [
    "json_data_cmd =\"datamodel-codegen  --input test_json_data.json --input-file-type json --output test_json_data_model.py\"\n",
    "exec_cmd(json_data_cmd)"
   ]
  },
  {
   "cell_type": "markdown",
   "metadata": {},
   "source": [
    "# json->dataclass"
   ]
  },
  {
   "cell_type": "code",
   "execution_count": 4,
   "metadata": {},
   "outputs": [],
   "source": [
    "json_data_cmd =\"datamodel-codegen  --input test_json_data.json --input-file-type json --output-model-type dataclasses.dataclass  --output  test_json_data_dataclass_model.py \"\n",
    "exec_cmd(json_data_cmd)"
   ]
  },
  {
   "cell_type": "markdown",
   "metadata": {},
   "source": [
    "# json->TypedDict"
   ]
  },
  {
   "cell_type": "code",
   "execution_count": 6,
   "metadata": {},
   "outputs": [],
   "source": [
    "json_data_cmd =\"datamodel-codegen  --input test_json_data.json --input-file-type json --output-model-type typing.TypedDict  --output  test_json_data_TypedDict_model.py \"\n",
    "exec_cmd(json_data_cmd)"
   ]
  },
  {
   "cell_type": "markdown",
   "metadata": {},
   "source": [
    "# json-> sqlmodel.SQLModel"
   ]
  },
  {
   "cell_type": "code",
   "execution_count": 8,
   "metadata": {},
   "outputs": [],
   "source": [
    "json_data_cmd =\"datamodel-codegen  --input test_json_data.json --input-file-type json --base-class sqlmodel.SQLModel  --output test_json_data_model.py\"\n",
    "exec_cmd(json_data_cmd)"
   ]
  },
  {
   "cell_type": "markdown",
   "metadata": {},
   "source": [
    "# jsonschema->pydantic\n"
   ]
  },
  {
   "cell_type": "code",
   "execution_count": null,
   "metadata": {},
   "outputs": [],
   "source": [
    "json_schema_cmd =\"datamodel-codegen  --input test_json_schema.json --input-file-type jsonschema --output test_jsonschema.py\"\n",
    "exec_cmd(json_schema_cmd)"
   ]
  },
  {
   "cell_type": "markdown",
   "metadata": {},
   "source": [
    "# yaml -> pydantic"
   ]
  },
  {
   "cell_type": "code",
   "execution_count": 2,
   "metadata": {},
   "outputs": [],
   "source": [
    "test_yaml_cmd = \"datamodel-codegen --input test_api.yaml --output test_yaml_model.py\"\n",
    "exec_cmd(test_yaml_cmd)"
   ]
  },
  {
   "cell_type": "markdown",
   "metadata": {},
   "source": [
    "# graphql->pydantic\n",
    "需要额外扩展 pip install 'datamodel-code-generator[graphql]'"
   ]
  },
  {
   "cell_type": "code",
   "execution_count": 5,
   "metadata": {},
   "outputs": [],
   "source": [
    "test_graphql_cmd =\"datamodel-codegen  --input test_graphql.graphql --input-file-type graphql --output test_graphql.py\"\n",
    "exec_cmd(test_graphql_cmd)"
   ]
  },
  {
   "cell_type": "markdown",
   "metadata": {},
   "source": [
    "# http->pydantic\n",
    "\n",
    "需要额外扩展 pip install datamodel-code-generator[http]"
   ]
  },
  {
   "cell_type": "code",
   "execution_count": null,
   "metadata": {},
   "outputs": [],
   "source": [
    "http_cmd = \"datamodel-codegen --url https://<INPUT FILE URL> --output http_model.py\"\n",
    "exec_cmd(http_cmd)"
   ]
  }
 ],
 "metadata": {
  "kernelspec": {
   "display_name": "Python 3",
   "language": "python",
   "name": "python3"
  },
  "language_info": {
   "codemirror_mode": {
    "name": "ipython",
    "version": 3
   },
   "file_extension": ".py",
   "mimetype": "text/x-python",
   "name": "python",
   "nbconvert_exporter": "python",
   "pygments_lexer": "ipython3",
   "version": "3.10.11"
  }
 },
 "nbformat": 4,
 "nbformat_minor": 2
}
