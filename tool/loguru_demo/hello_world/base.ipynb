{
 "cells": [
  {
   "cell_type": "markdown",
   "metadata": {},
   "source": [
    "# init logger\n"
   ]
  },
  {
   "cell_type": "code",
   "execution_count": null,
   "metadata": {},
   "outputs": [],
   "source": [
    "import sys\n",
    "from loguru import logger\n",
    "\n",
    "logger.add(\n",
    "    sys.stdout,\n",
    "    format=\"{time} - {level} - {message}\",\n",
    "    level=\"INFO\",\n",
    ")\n",
    "\n",
    "logger.add(\"logs/base.log\",format=\"{time} - {level} - {message}\",level=\"INFO\", rotation=\"12:00\")"
   ]
  },
  {
   "cell_type": "markdown",
   "metadata": {},
   "source": [
    "# common log\n"
   ]
  },
  {
   "cell_type": "code",
   "execution_count": null,
   "metadata": {},
   "outputs": [],
   "source": [
    "logger.info(\"info log!!!!!!\")"
   ]
  },
  {
   "cell_type": "code",
   "execution_count": null,
   "metadata": {},
   "outputs": [],
   "source": [
    "logger.debug(\"debug log!!!!!!\")"
   ]
  },
  {
   "cell_type": "markdown",
   "metadata": {},
   "source": [
    "# Placeholder\n"
   ]
  },
  {
   "cell_type": "code",
   "execution_count": null,
   "metadata": {},
   "outputs": [],
   "source": [
    "logger.info(\n",
    "    \"If you're using Python {}, prefer {feature} of course!\",\n",
    "    3.6,\n",
    "    feature=\"try-f-strings\",\n",
    ")"
   ]
  },
  {
   "cell_type": "markdown",
   "metadata": {},
   "source": [
    "# Thread-safe, Multiprocess-unsafe\n",
    "\n",
    "By dafault\n",
    "\n",
    "- multi-thread：safe\n",
    "- multi-process: unsafe\n"
   ]
  },
  {
   "cell_type": "code",
   "execution_count": null,
   "metadata": {},
   "outputs": [],
   "source": [
    "logger.add(\"somefile.log\", enqueue=True)"
   ]
  },
  {
   "cell_type": "markdown",
   "metadata": {},
   "source": [
    "# Customizable log level\n"
   ]
  },
  {
   "cell_type": "code",
   "execution_count": null,
   "metadata": {},
   "outputs": [],
   "source": [
    "new_level = logger.level(\"SNAKY\", no=38, color=\"<yellow>\", icon=\"🐍\")\n",
    "\n",
    "logger.log(\"SNAKY\", \"Here we go,Customizable log level!\")"
   ]
  },
  {
   "cell_type": "markdown",
   "metadata": {},
   "source": [
    "# opt()\n",
    "see\n",
    "https://loguru.readthedocs.io/en/stable/overview.html#lazy-evaluation-of-expensive-functions"
   ]
  },
  {
   "cell_type": "code",
   "execution_count": null,
   "metadata": {},
   "outputs": [],
   "source": [
    "import time\n",
    "\n",
    "\n",
    "def expensive_function():\n",
    "    print(\"expensive_function\")\n",
    "    time.sleep(3)\n",
    "\n",
    "logger.opt(lazy=True).debug(\n",
    "    \"If sink level <= DEBUG: {x}\", x=lambda: expensive_function()\n",
    ")\n",
    "\n",
    "# By the way, \"opt()\" serves many usages\n",
    "logger.opt(exception=True).info(\n",
    "    \"Error stacktrace added to the log message (tuple accepted too)\"\n",
    ")\n",
    "logger.opt(colors=True).info(\"Per message <blue>colors</blue>\")\n",
    "logger.opt(record=True).info(\"Display values from the record (eg. {record[thread]})\")\n",
    "logger.opt(raw=True).info(\"Bypass sink formatting\\n\")\n",
    "logger.opt(depth=1).info(\"Use parent stack context (useful within wrapped functions)\")\n",
    "logger.opt(capture=False).info(\n",
    "    \"Keyword arguments not added to {dest} dict\", dest=\"extra\"\n",
    ")"
   ]
  },
  {
   "cell_type": "markdown",
   "metadata": {},
   "source": [
    "# parser log"
   ]
  },
  {
   "cell_type": "code",
   "execution_count": null,
   "metadata": {},
   "outputs": [],
   "source": [
    "pattern = r\"(?P<time>.*) - (?P<level>.*) - (?P<message>.*)\"  # Regex with named groups\n",
    "\n",
    "for groups in logger.parse(\"logs/base.log\", pattern):\n",
    "    print(\"Parsed:\", groups)\n",
    "    # {\"level\": 30, \"message\": \"Log example\", \"time\": datetime(2018, 12, 09, 11, 23, 55)}"
   ]
  }
 ],
 "metadata": {
  "kernelspec": {
   "display_name": ".venv",
   "language": "python",
   "name": "python3"
  },
  "language_info": {
   "codemirror_mode": {
    "name": "ipython",
    "version": 3
   },
   "file_extension": ".py",
   "mimetype": "text/x-python",
   "name": "python",
   "nbconvert_exporter": "python",
   "pygments_lexer": "ipython3",
   "version": "3.11.8"
  }
 },
 "nbformat": 4,
 "nbformat_minor": 2
}
