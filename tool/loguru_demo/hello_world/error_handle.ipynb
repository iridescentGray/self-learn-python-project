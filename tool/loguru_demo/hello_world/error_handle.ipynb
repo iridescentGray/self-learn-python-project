{
 "cells": [
  {
   "cell_type": "code",
   "execution_count": null,
   "metadata": {},
   "outputs": [],
   "source": [
    "from loguru import logger\n",
    "import sys\n",
    "\n",
    "logger.remove()\n",
    "logger.add(\"./logs/error_with_diagnose.log\", backtrace=False, diagnose=True)\n",
    "logger.add(\"./logs/error_with_backtrace.log\", backtrace=True, diagnose=False)\n",
    "\n",
    "# you will see,  error_all.log==error_default.log\n",
    "logger.add(\"./logs/error_all.log\", backtrace=True, diagnose=True)\n",
    "logger.add(\"./logs/error_default.log\", backtrace=True, diagnose=True)"
   ]
  },
  {
   "cell_type": "markdown",
   "metadata": {},
   "source": [
    "## logger.exception"
   ]
  },
  {
   "cell_type": "code",
   "execution_count": null,
   "metadata": {},
   "outputs": [],
   "source": [
    "def error_handle():\n",
    "    try:\n",
    "        1 / 0\n",
    "    except Exception as e:\n",
    "        logger.exception(\"error happend\", e)\n",
    "\n",
    "error_handle()"
   ]
  },
  {
   "cell_type": "markdown",
   "metadata": {},
   "source": [
    "## catch then log"
   ]
  },
  {
   "cell_type": "code",
   "execution_count": null,
   "metadata": {},
   "outputs": [],
   "source": [
    "@logger.catch\n",
    "def error_with_des(x, y, z):\n",
    "    # An error? It's caught anyway!\n",
    "    return 1 / (x + y + z)\n",
    "\n",
    "\n",
    "error_with_des(0, 0, 0)\n",
    "\n",
    "\n",
    "logger.info(\"success catch exception?\")"
   ]
  },
  {
   "cell_type": "code",
   "execution_count": null,
   "metadata": {},
   "outputs": [],
   "source": [
    "error_with_des(0, 0, 0)"
   ]
  },
  {
   "cell_type": "code",
   "execution_count": null,
   "metadata": {},
   "outputs": [],
   "source": [
    "logger.add(\"somefile.log\", enqueue=True)"
   ]
  }
 ],
 "metadata": {
  "kernelspec": {
   "display_name": ".venv",
   "language": "python",
   "name": "python3"
  },
  "language_info": {
   "codemirror_mode": {
    "name": "ipython",
    "version": 3
   },
   "file_extension": ".py",
   "mimetype": "text/x-python",
   "name": "python",
   "nbconvert_exporter": "python",
   "pygments_lexer": "ipython3",
   "version": "3.11.8"
  }
 },
 "nbformat": 4,
 "nbformat_minor": 2
}
