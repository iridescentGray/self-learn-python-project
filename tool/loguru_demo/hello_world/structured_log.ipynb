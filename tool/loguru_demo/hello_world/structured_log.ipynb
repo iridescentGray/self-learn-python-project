{
 "cells": [
  {
   "cell_type": "code",
   "execution_count": 20,
   "metadata": {},
   "outputs": [
    {
     "data": {
      "text/plain": [
       "15"
      ]
     },
     "execution_count": 20,
     "metadata": {},
     "output_type": "execute_result"
    }
   ],
   "source": [
    "import sys\n",
    "from loguru import logger\n",
    "\n",
    "logger.remove()\n",
    "logger.add(sink=sys.stderr, format=\"{extra[ip]} {extra[user]} {message}\")"
   ]
  },
  {
   "cell_type": "markdown",
   "metadata": {},
   "source": [
    "# bind()\n"
   ]
  },
  {
   "cell_type": "code",
   "execution_count": 21,
   "metadata": {},
   "outputs": [
    {
     "name": "stderr",
     "output_type": "stream",
     "text": [
      "192.168.0.1 someone Contextualize your logger easily\n"
     ]
    }
   ],
   "source": [
    "context_logger = logger.bind(ip=\"192.168.0.1\", user=\"someone\")\n",
    "context_logger.info(\"Contextualize your logger easily\")"
   ]
  },
  {
   "cell_type": "code",
   "execution_count": 22,
   "metadata": {},
   "outputs": [
    {
     "name": "stderr",
     "output_type": "stream",
     "text": [
      "192.168.0.1 someone_else Inline binding of extra attribute\n"
     ]
    }
   ],
   "source": [
    "context_logger.bind(user=\"someone_else\").info(\"Inline binding of extra attribute\")"
   ]
  },
  {
   "cell_type": "code",
   "execution_count": 23,
   "metadata": {},
   "outputs": [
    {
     "name": "stderr",
     "output_type": "stream",
     "text": [
      "192.168.0.1 anybody Use kwargs to add context during formatting: anybody\n"
     ]
    }
   ],
   "source": [
    "context_logger.info(\n",
    "    \"Use kwargs to add context during formatting: {user}\", user=\"anybody\"\n",
    ")"
   ]
  },
  {
   "cell_type": "markdown",
   "metadata": {},
   "source": [
    "# contextualize()\n"
   ]
  },
  {
   "cell_type": "code",
   "execution_count": 24,
   "metadata": {},
   "outputs": [
    {
     "name": "stdout",
     "output_type": "stream",
     "text": [
      "1\n"
     ]
    },
    {
     "name": "stderr",
     "output_type": "stream",
     "text": [
      "--- Logging error in Loguru Handler #15 ---\n",
      "Record was: {'elapsed': datetime.timedelta(seconds=906, microseconds=790473), 'exception': None, 'extra': {'task': 1}, 'file': (name='3022529964.py', path='C:\\\\Users\\\\80985\\\\AppData\\\\Local\\\\Temp\\\\ipykernel_13020\\\\3022529964.py'), 'function': '<module>', 'level': (name='INFO', no=20, icon='ℹ️'), 'line': 3, 'message': 'End of task', 'module': '3022529964', 'name': '__main__', 'process': (id=13020, name='MainProcess'), 'thread': (id=6404, name='MainThread'), 'time': datetime(2024, 3, 18, 10, 2, 43, 395580, tzinfo=datetime.timezone(datetime.timedelta(seconds=28800), '中国标准时间'))}\n",
      "Traceback (most recent call last):\n",
      "  File \"e:\\project\\python_new\\self\\self-learn-python-project\\tool\\loguru_demo\\.venv\\Lib\\site-packages\\loguru\\_handler.py\", line 184, in emit\n",
      "    formatted = precomputed_format.format_map(formatter_record)\n",
      "                ^^^^^^^^^^^^^^^^^^^^^^^^^^^^^^^^^^^^^^^^^^^^^^^\n",
      "KeyError: 'ip'\n",
      "--- End of logging error ---\n"
     ]
    }
   ],
   "source": [
    "with logger.contextualize(task=1):\n",
    "    print(\"1\")\n",
    "    logger.info(\"End of task\")"
   ]
  },
  {
   "cell_type": "markdown",
   "metadata": {},
   "source": [
    "# patch()\n",
    "\n",
    "allows dynamic values to be attached to the record dict of each new message:"
   ]
  },
  {
   "cell_type": "code",
   "execution_count": 26,
   "metadata": {},
   "outputs": [
    {
     "name": "stderr",
     "output_type": "stream",
     "text": [
      "2024-03-18 02:03:51.863737 This message is not logged to the file\n"
     ]
    }
   ],
   "source": [
    "from datetime import datetime\n",
    "\n",
    "\n",
    "logger.add(sys.stderr, format=\"{extra[utc]} {message}\")\n",
    "logger = logger.patch(lambda record: record[\"extra\"].update(utc=datetime.utcnow()))\n",
    "logger.info(\"This message is not logged to the file\")  # no print"
   ]
  },
  {
   "cell_type": "markdown",
   "metadata": {},
   "source": [
    "# filter()"
   ]
  },
  {
   "cell_type": "markdown",
   "metadata": {},
   "source": [
    "## use with bind"
   ]
  },
  {
   "cell_type": "code",
   "execution_count": 25,
   "metadata": {},
   "outputs": [
    {
     "name": "stderr",
     "output_type": "stream",
     "text": [
      "\u001b[32m2024-03-18 10:02:43.423\u001b[0m | \u001b[1mINFO    \u001b[0m | \u001b[36m__main__\u001b[0m:\u001b[36m<module>\u001b[0m:\u001b[36m6\u001b[0m - \u001b[1mThis message, though, is logged to the file!\u001b[0m\n"
     ]
    }
   ],
   "source": [
    "logger.remove()\n",
    "\n",
    "logger.add(sink=sys.stderr, filter=lambda record: \"special\" in record[\"extra\"])\n",
    "logger.info(\"This message is not logged to the file\") # no print\n",
    "# special is from bind(special=True)\n",
    "logger.bind(special=True).info(\"This message, though, is logged to the file!\") "
   ]
  }
 ],
 "metadata": {
  "kernelspec": {
   "display_name": ".venv",
   "language": "python",
   "name": "python3"
  },
  "language_info": {
   "codemirror_mode": {
    "name": "ipython",
    "version": 3
   },
   "file_extension": ".py",
   "mimetype": "text/x-python",
   "name": "python",
   "nbconvert_exporter": "python",
   "pygments_lexer": "ipython3",
   "version": "3.11.8"
  }
 },
 "nbformat": 4,
 "nbformat_minor": 2
}
