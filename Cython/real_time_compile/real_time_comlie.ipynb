{
 "cells": [
  {
   "cell_type": "markdown",
   "metadata": {},
   "source": [
    "# 即时编译Cython\n",
    "\n",
    "```\n",
    "import pyximport\n",
    "pyximport.install(language_level=3)\n",
    "```\n",
    "上面的代码执行完之后, Python 解释器在导包的时就会识别 Cython文件(其实隐式也编译了)"
   ]
  },
  {
   "cell_type": "code",
   "execution_count": 1,
   "metadata": {},
   "outputs": [
    {
     "name": "stdout",
     "output_type": "stream",
     "text": [
      "33\n"
     ]
    }
   ],
   "source": [
    "import pyximport\n",
    "\n",
    "pyximport.install(language_level=3)\n",
    "\n",
    "import add_number\n",
    "\n",
    "print(add_number.do_add(11, 22))  # 33"
   ]
  },
  {
   "cell_type": "markdown",
   "metadata": {},
   "source": [
    "# 缺点\n",
    "自动编译不受控制的，没准哪天就编译失败了。"
   ]
  }
 ],
 "metadata": {
  "kernelspec": {
   "display_name": "Cython",
   "language": "python",
   "name": "python3"
  },
  "language_info": {
   "codemirror_mode": {
    "name": "ipython",
    "version": 3
   },
   "file_extension": ".py",
   "mimetype": "text/x-python",
   "name": "python",
   "nbconvert_exporter": "python",
   "pygments_lexer": "ipython3",
   "version": "3.11.6"
  }
 },
 "nbformat": 4,
 "nbformat_minor": 2
}
