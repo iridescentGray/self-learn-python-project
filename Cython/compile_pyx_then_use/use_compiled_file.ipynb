{
 "cells": [
  {
   "cell_type": "markdown",
   "metadata": {},
   "source": [
    "# 使用编译后的文件\n",
    "\n",
    "编译后的文件名为fib.cpython-311-darwin.so"
   ]
  },
  {
   "cell_type": "code",
   "execution_count": 13,
   "metadata": {},
   "outputs": [
    {
     "name": "stdout",
     "output_type": "stream",
     "text": [
      "<module 'fib' from '/Users/zhoujianyu/local_project/project/python/self-learn-python-project/Cython/compile_then_use/fib.cpython-311-darwin.so'>\n"
     ]
    }
   ],
   "source": [
    "# 编译后的包，可以直接import,很长的后缀名并不影响导入\n",
    "import fib\n",
    "print(fib)"
   ]
  },
  {
   "cell_type": "markdown",
   "metadata": {},
   "source": [
    "# 正常使用"
   ]
  },
  {
   "cell_type": "code",
   "execution_count": 14,
   "metadata": {},
   "outputs": [
    {
     "name": "stdout",
     "output_type": "stream",
     "text": [
      "6765.0\n"
     ]
    }
   ],
   "source": [
    "print(fib.fib(20)) "
   ]
  },
  {
   "cell_type": "markdown",
   "metadata": {},
   "source": [
    "# 验证类型校验\n",
    "\n",
    "传入的不是整型, 所以直接报错"
   ]
  },
  {
   "cell_type": "code",
   "execution_count": 15,
   "metadata": {},
   "outputs": [
    {
     "name": "stdout",
     "output_type": "stream",
     "text": [
      "Traceback (most recent call last):\n",
      "  File \"/var/folders/hm/20gkvdzs32v0d95h5m1f433m0000gn/T/ipykernel_8490/4181064997.py\", line 2, in <module>\n",
      "    print(fib.fib(\"xx\"))\n",
      "          ^^^^^^^^^^^^^\n",
      "  File \"fib.pyx\", line 5, in fib.fib\n",
      "    for i in range(n):\n",
      "TypeError: an integer is required\n",
      "\n"
     ]
    }
   ],
   "source": [
    "try:\n",
    "    print(fib.fib(\"xx\"))\n",
    "except Exception:\n",
    "    import traceback\n",
    "    print(traceback.format_exc())"
   ]
  },
  {
   "cell_type": "markdown",
   "metadata": {},
   "source": [
    "# 打印自定义注释"
   ]
  },
  {
   "cell_type": "code",
   "execution_count": 16,
   "metadata": {},
   "outputs": [
    {
     "name": "stdout",
     "output_type": "stream",
     "text": [
      "这是一个扩展模块\n"
     ]
    }
   ],
   "source": [
    "# 这是我们编译时设置的注释\n",
    "print(fib.fib.__doc__) "
   ]
  }
 ],
 "metadata": {
  "kernelspec": {
   "display_name": "Cython",
   "language": "python",
   "name": "python3"
  },
  "language_info": {
   "codemirror_mode": {
    "name": "ipython",
    "version": 3
   },
   "file_extension": ".py",
   "mimetype": "text/x-python",
   "name": "python",
   "nbconvert_exporter": "python",
   "pygments_lexer": "ipython3",
   "version": "3.11.6"
  }
 },
 "nbformat": 4,
 "nbformat_minor": 2
}
