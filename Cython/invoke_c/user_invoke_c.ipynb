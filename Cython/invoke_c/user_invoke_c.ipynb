{
 "cells": [
  {
   "cell_type": "markdown",
   "metadata": {},
   "source": [
    "# cython引入 C 源文件"
   ]
  },
  {
   "cell_type": "code",
   "execution_count": 7,
   "metadata": {},
   "outputs": [
    {
     "name": "stdout",
     "output_type": "stream",
     "text": [
      "<module 'wrapper_cfib' from '/Users/zhoujianyu/local_project/project/python/self-learn-python-project/Cython/invoke_c/wrapper_cfib.cpython-311-darwin.so'>\n"
     ]
    }
   ],
   "source": [
    "# 编译后的包，可以直接import,很长的后缀名并不影响导入\n",
    "import wrapper_cfib\n",
    "print(wrapper_cfib)"
   ]
  },
  {
   "cell_type": "markdown",
   "metadata": {},
   "source": [
    "# 正常使用\n",
    "调用with_c_code.pyx中的fib_with_c方法"
   ]
  },
  {
   "cell_type": "code",
   "execution_count": 8,
   "metadata": {},
   "outputs": [
    {
     "name": "stdout",
     "output_type": "stream",
     "text": [
      "6765.0\n"
     ]
    }
   ],
   "source": [
    "print(wrapper_cfib.fib_with_c(20)) "
   ]
  }
 ],
 "metadata": {
  "kernelspec": {
   "display_name": "Cython",
   "language": "python",
   "name": "python3"
  },
  "language_info": {
   "codemirror_mode": {
    "name": "ipython",
    "version": 3
   },
   "file_extension": ".py",
   "mimetype": "text/x-python",
   "name": "python",
   "nbconvert_exporter": "python",
   "pygments_lexer": "ipython3",
   "version": "3.11.6"
  }
 },
 "nbformat": 4,
 "nbformat_minor": 2
}
