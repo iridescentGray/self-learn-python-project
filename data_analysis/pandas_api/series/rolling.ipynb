{
 "cells": [
  {
   "cell_type": "markdown",
   "metadata": {},
   "source": [
    "# rolling 函数\n"
   ]
  },
  {
   "cell_type": "code",
   "execution_count": 1,
   "metadata": {},
   "outputs": [],
   "source": [
    "import numpy as np\n",
    "import pandas as pd"
   ]
  },
  {
   "cell_type": "code",
   "execution_count": 2,
   "metadata": {},
   "outputs": [
    {
     "data": {
      "text/plain": [
       "0    100\n",
       "1     90\n",
       "2    110\n",
       "3    150\n",
       "4    110\n",
       "5    130\n",
       "6     80\n",
       "dtype: int64"
      ]
     },
     "execution_count": 2,
     "metadata": {},
     "output_type": "execute_result"
    }
   ],
   "source": [
    "amount = pd.Series([100, 90, 110, 150, 110, 130, 80])\n",
    "amount"
   ]
  },
  {
   "cell_type": "markdown",
   "metadata": {},
   "source": [
    "## type of rolling\n"
   ]
  },
  {
   "cell_type": "code",
   "execution_count": 3,
   "metadata": {},
   "outputs": [
    {
     "data": {
      "text/plain": [
       "pandas.core.window.rolling.Rolling"
      ]
     },
     "execution_count": 3,
     "metadata": {},
     "output_type": "execute_result"
    }
   ],
   "source": [
    "type(amount.rolling(3))"
   ]
  },
  {
   "cell_type": "markdown",
   "metadata": {},
   "source": [
    "## rolling 参数/滚动计算 sum/agg/mean\n"
   ]
  },
  {
   "cell_type": "code",
   "execution_count": 4,
   "metadata": {},
   "outputs": [
    {
     "data": {
      "text/plain": [
       "0      NaN\n",
       "1      NaN\n",
       "2    300.0\n",
       "3    350.0\n",
       "4    370.0\n",
       "5    390.0\n",
       "6    320.0\n",
       "dtype: float64"
      ]
     },
     "execution_count": 4,
     "metadata": {},
     "output_type": "execute_result"
    }
   ],
   "source": [
    "amount.rolling(3).sum()"
   ]
  },
  {
   "cell_type": "markdown",
   "metadata": {},
   "source": [
    "### min_periods 参数\n"
   ]
  },
  {
   "cell_type": "code",
   "execution_count": 5,
   "metadata": {},
   "outputs": [
    {
     "data": {
      "text/plain": [
       "0      NaN\n",
       "1    190.0\n",
       "2    300.0\n",
       "3    350.0\n",
       "4    370.0\n",
       "5    390.0\n",
       "6    320.0\n",
       "dtype: float64"
      ]
     },
     "execution_count": 5,
     "metadata": {},
     "output_type": "execute_result"
    }
   ],
   "source": [
    "# min_periods,就是窗口最小间隔\n",
    "amount.rolling(3, min_periods=2).sum()"
   ]
  },
  {
   "cell_type": "markdown",
   "metadata": {},
   "source": [
    "### center 参数\n"
   ]
  },
  {
   "cell_type": "code",
   "execution_count": 6,
   "metadata": {},
   "outputs": [
    {
     "data": {
      "text/plain": [
       "0      NaN\n",
       "1    300.0\n",
       "2    350.0\n",
       "3    370.0\n",
       "4    390.0\n",
       "5    320.0\n",
       "6      NaN\n",
       "dtype: float64"
      ]
     },
     "execution_count": 6,
     "metadata": {},
     "output_type": "execute_result"
    }
   ],
   "source": [
    "# center的（奇数）表现： 长度为3，除去本身之外，再往上选1个、往下选1个,一共3个\n",
    "# center的（偶数）表现： 长度为8，这个时候会往上选4个、往下选3个，一共8个\n",
    "# 会使得开头出现一个NaN，结尾出现一个NaN (因为开头和结尾的元素，加起来不够3个，所以是NaN)\n",
    "amount.rolling(3, center=True).sum()"
   ]
  },
  {
   "cell_type": "markdown",
   "metadata": {},
   "source": [
    "### agg\n"
   ]
  },
  {
   "cell_type": "code",
   "execution_count": 7,
   "metadata": {},
   "outputs": [
    {
     "data": {
      "text/plain": [
       "0      NaN\n",
       "1      NaN\n",
       "2    300.0\n",
       "3    350.0\n",
       "4    370.0\n",
       "5    390.0\n",
       "6    320.0\n",
       "dtype: float64"
      ]
     },
     "execution_count": 7,
     "metadata": {},
     "output_type": "execute_result"
    }
   ],
   "source": [
    "amount.rolling(3).agg(\n",
    "    # x 是每个窗口的Series\n",
    "    lambda x: sum(x)\n",
    ")"
   ]
  },
  {
   "cell_type": "markdown",
   "metadata": {},
   "source": [
    "### 计算日期\n"
   ]
  },
  {
   "cell_type": "code",
   "execution_count": 8,
   "metadata": {},
   "outputs": [
    {
     "data": {
      "text/plain": [
       "2020-01-01    1.0\n",
       "2020-01-03    1.0\n",
       "2020-01-04    1.0\n",
       "2020-01-06    1.0\n",
       "2020-01-07    1.0\n",
       "2020-01-09    1.0\n",
       "2020-01-12    1.0\n",
       "2020-01-13    1.0\n",
       "2020-01-14    1.0\n",
       "2020-01-15    1.0\n",
       "dtype: float64"
      ]
     },
     "execution_count": 8,
     "metadata": {},
     "output_type": "execute_result"
    }
   ],
   "source": [
    "date_ser = pd.Series(\n",
    "    np.ones(10),\n",
    "    index=pd.DatetimeIndex(\n",
    "        [\n",
    "            \"2020-1-1\",\n",
    "            \"2020-1-3\",\n",
    "            \"2020-1-4\",\n",
    "            \"2020-1-6\",\n",
    "            \"2020-1-7\",\n",
    "            \"2020-1-9\",\n",
    "            \"2020-1-12\",\n",
    "            \"2020-1-13\",\n",
    "            \"2020-1-14\",\n",
    "            \"2020-1-15\",\n",
    "        ]\n",
    "    ),\n",
    ")\n",
    "date_ser"
   ]
  },
  {
   "cell_type": "code",
   "execution_count": 9,
   "metadata": {},
   "outputs": [
    {
     "data": {
      "text/plain": [
       "2020-01-01    1.0\n",
       "2020-01-03    2.0\n",
       "2020-01-04    2.0\n",
       "2020-01-06    2.0\n",
       "2020-01-07    2.0\n",
       "2020-01-09    2.0\n",
       "2020-01-12    1.0\n",
       "2020-01-13    2.0\n",
       "2020-01-14    3.0\n",
       "2020-01-15    3.0\n",
       "dtype: float64"
      ]
     },
     "execution_count": 9,
     "metadata": {},
     "output_type": "execute_result"
    }
   ],
   "source": [
    "# 3天之内的总和\n",
    "date_ser.rolling(\"3D\").sum()"
   ]
  }
 ],
 "metadata": {
  "kernelspec": {
   "display_name": "Python 3",
   "language": "python",
   "name": "python3"
  },
  "language_info": {
   "codemirror_mode": {
    "name": "ipython",
    "version": 3
   },
   "file_extension": ".py",
   "mimetype": "text/x-python",
   "name": "python",
   "nbconvert_exporter": "python",
   "pygments_lexer": "ipython3",
   "version": "3.11.6"
  }
 },
 "nbformat": 4,
 "nbformat_minor": 2
}
