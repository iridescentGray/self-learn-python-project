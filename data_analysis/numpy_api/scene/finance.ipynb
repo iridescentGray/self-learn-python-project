{
 "cells": [
  {
   "cell_type": "markdown",
   "metadata": {},
   "source": [
    "# financial scene\n",
    "\n",
    "- need pip install numpy-financial\n",
    "- https://github.com/numpy/numpy-financial\n"
   ]
  },
  {
   "cell_type": "code",
   "execution_count": 1,
   "metadata": {},
   "outputs": [],
   "source": [
    "import numpy as np\n",
    "import numpy_financial as npf"
   ]
  },
  {
   "cell_type": "code",
   "execution_count": 3,
   "metadata": {},
   "outputs": [
    {
     "data": {
      "text/plain": [
       "'1.26.4'"
      ]
     },
     "execution_count": 3,
     "metadata": {},
     "output_type": "execute_result"
    }
   ],
   "source": [
    "np.__version__"
   ]
  },
  {
   "cell_type": "markdown",
   "metadata": {},
   "source": [
    "# fv(): Future value\n",
    "\n",
    "计算未来的价值\n",
    "\n",
    "def fv(rate, nper, pmt, pv, when='end'):\n",
    "\n",
    "- rate:存款/贷款每期的利率 (季度)\n",
    "- nper:存款/贷款期数 (季度)\n",
    "- pmt:存款/贷款每期支付的金额\n",
    "- pv:当前的存款/贷款金额\n",
    "\n",
    "#pmt 和 pv 存款为负的(相当于是给银行钱)\n"
   ]
  },
  {
   "cell_type": "code",
   "execution_count": 4,
   "metadata": {},
   "outputs": [
    {
     "data": {
      "text/plain": [
       "1376.0963320407982"
      ]
     },
     "execution_count": 4,
     "metadata": {},
     "output_type": "execute_result"
    }
   ],
   "source": [
    "# 年利率3%\n",
    "# 存五年\n",
    "# 每个季度都多存10元么\n",
    "# 存款本金为1000\n",
    "# 最后能得到1376.0963320407982元\n",
    "\n",
    "npf.fv(0.03 / 4, 5 * 4, -10, -1000)"
   ]
  },
  {
   "cell_type": "markdown",
   "metadata": {},
   "source": [
    "# pv(): present value.\n",
    "\n",
    "根据未来计算现在的价值\n"
   ]
  },
  {
   "cell_type": "code",
   "execution_count": 16,
   "metadata": {},
   "outputs": [
    {
     "data": {
      "text/plain": [
       "-1000.0"
      ]
     },
     "execution_count": 16,
     "metadata": {},
     "output_type": "execute_result"
    }
   ],
   "source": [
    "# 年利率3%\n",
    "# 存五年\n",
    "# 每个季度都多存10元么\n",
    "# 未来目标收益为1376.0963320407982,\n",
    "# 需要1000元本金才能达成目标\n",
    "\n",
    "\n",
    "npf.pv(0.03 / 4, 5 * 4, -10, 1376.0963320407982)"
   ]
  },
  {
   "cell_type": "markdown",
   "metadata": {},
   "source": [
    "# pmt(): Loan monthly payment\n",
    "\n",
    "根据本金和利率计算出每期需要支付的金额\n",
    "\n",
    "- rate:存款/贷款每期的利率\n",
    "- nper:存款/贷款期数\n",
    "- pv:存款/贷款金额\n"
   ]
  },
  {
   "cell_type": "code",
   "execution_count": 4,
   "metadata": {},
   "outputs": [
    {
     "data": {
      "text/plain": [
       "-1854.0247200054619"
      ]
     },
     "execution_count": 4,
     "metadata": {},
     "output_type": "execute_result"
    }
   ],
   "source": [
    "# 贷20万\n",
    "# 15年还清\n",
    "# 年利率为7.5%\n",
    "# 每个月需要还款多少钱?\n",
    "npf.pmt(0.075 / 12, 15 * 12, 200000)"
   ]
  },
  {
   "cell_type": "markdown",
   "metadata": {},
   "source": [
    "# nper(): Calculate how many payments\n",
    "\n",
    "计算出还款期数\n",
    "\n",
    "- rate:存款/贷款每期的利率\n",
    "- pmt:存款/贷款每期的金额\n",
    "- pv:存款/贷款金额\n"
   ]
  },
  {
   "cell_type": "code",
   "execution_count": 9,
   "metadata": {},
   "outputs": [
    {
     "name": "stdout",
     "output_type": "stream",
     "text": [
      "180.0\n",
      "15.0\n"
     ]
    }
   ],
   "source": [
    "# 贷20万\n",
    "# 每期还1854\n",
    "# 年利率为7.5%\n",
    "# 每个月需要还款多少个月?\n",
    "payments_month = npf.nper(0.075 / 12, -1854.0247200054619, 200000)\n",
    "print(payments_month)\n",
    "print(payments_month / 12)"
   ]
  },
  {
   "cell_type": "markdown",
   "metadata": {},
   "source": [
    "# rate: Calculate loan rates\n",
    "\n",
    "计算利率\n",
    "\n",
    "- def rate(nper, pmt, pv, fv, when='end', guess=None, tol=None, maxiter=100):\n",
    "-     ...\n",
    "- nper：期数\n",
    "- pmt：每期的存款/贷款金额\n",
    "- pv：present value\n",
    "- fv：future value\n"
   ]
  },
  {
   "cell_type": "code",
   "execution_count": 14,
   "metadata": {},
   "outputs": [
    {
     "data": {
      "text/plain": [
       "0.007500000000000987"
      ]
     },
     "execution_count": 14,
     "metadata": {},
     "output_type": "execute_result"
    }
   ],
   "source": [
    "\"\"\"\n",
    "存了1000元\n",
    "每个季度存款10元\n",
    "存了5年\n",
    "五年后拿到了1376.0963320407982\n",
    "年利率是多少？\n",
    "\"\"\"\n",
    "\n",
    "npf.rate(5 * 4, -10, -1000, 1376.0963320407982)"
   ]
  },
  {
   "cell_type": "markdown",
   "metadata": {},
   "source": [
    "# irr(): Internal Rate of Return (IRR).\n",
    "\n",
    "计算内部收益率\n"
   ]
  },
  {
   "cell_type": "code",
   "execution_count": 19,
   "metadata": {},
   "outputs": [
    {
     "data": {
      "text/plain": [
       "-0.44174243050441586"
      ]
     },
     "execution_count": 19,
     "metadata": {},
     "output_type": "execute_result"
    }
   ],
   "source": [
    "\"\"\"\n",
    "一个人投资100,然后按照固定的时间间隔进行\n",
    "\n",
    "\"\"\"\n",
    "\n",
    "npf.irr([-100, 20, 20])"
   ]
  }
 ],
 "metadata": {
  "kernelspec": {
   "display_name": "Python 3",
   "language": "python",
   "name": "python3"
  },
  "language_info": {
   "codemirror_mode": {
    "name": "ipython",
    "version": 3
   },
   "file_extension": ".py",
   "mimetype": "text/x-python",
   "name": "python",
   "nbconvert_exporter": "python",
   "pygments_lexer": "ipython3",
   "version": "3.11.7"
  }
 },
 "nbformat": 4,
 "nbformat_minor": 2
}
