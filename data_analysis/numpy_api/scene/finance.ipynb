{
 "cells": [
  {
   "cell_type": "markdown",
   "metadata": {},
   "source": [
    "# financial scene\n",
    "\n",
    "- need pip install numpy-financial\n",
    "- https://github.com/numpy/numpy-financial\n"
   ]
  },
  {
   "cell_type": "code",
   "execution_count": 1,
   "metadata": {},
   "outputs": [],
   "source": [
    "import numpy as np\n",
    "import numpy_financial as npf"
   ]
  },
  {
   "cell_type": "code",
   "execution_count": 2,
   "metadata": {},
   "outputs": [
    {
     "data": {
      "text/plain": [
       "'1.25.2'"
      ]
     },
     "execution_count": 2,
     "metadata": {},
     "output_type": "execute_result"
    }
   ],
   "source": [
    "np.__version__"
   ]
  },
  {
   "cell_type": "markdown",
   "metadata": {},
   "source": [
    "# fv(): Future value\n",
    "\n",
    "计算未来的价值\n",
    "\n",
    "def fv(rate, nper, pmt, pv, when='end'):\n",
    "\n",
    "- rate：存款/贷款每期的利率 (季度)\n",
    "- nper：存款/贷款期数 (季度)\n",
    "- pmt：存款/贷款每期支付的金额\n",
    "- pv：当前的存款/贷款金额\n",
    "\n",
    "#pmt 和 pv 存款为负的(相当于是给银行钱)\n"
   ]
  },
  {
   "cell_type": "code",
   "execution_count": 9,
   "metadata": {},
   "outputs": [
    {
     "data": {
      "text/plain": [
       "1376.0963320407982"
      ]
     },
     "execution_count": 9,
     "metadata": {},
     "output_type": "execute_result"
    }
   ],
   "source": [
    "# 年利率3%\n",
    "# 存五年\n",
    "# 每个季度都多存10元么\n",
    "# 存款本金为1000\n",
    "# 最后能得到1376.0963320407982元\n",
    "\n",
    "npf.fv(0.03 / 4, 5 * 4, -10, -1000)"
   ]
  },
  {
   "cell_type": "markdown",
   "metadata": {},
   "source": [
    "# pv(): present value.\n",
    "\n",
    "根据未来计算现在的价值\n"
   ]
  },
  {
   "cell_type": "code",
   "execution_count": 8,
   "metadata": {},
   "outputs": [
    {
     "data": {
      "text/plain": [
       "-1000.0"
      ]
     },
     "execution_count": 8,
     "metadata": {},
     "output_type": "execute_result"
    }
   ],
   "source": [
    "# 年利率3%\n",
    "# 存五年\n",
    "# 每个季度都多存10元么\n",
    "# 未来目标收益为1376.0963320407982，\n",
    "# 需要1000元本金才能达成目标\n",
    "\n",
    "\n",
    "npf.pv(0.03 / 4, 5 * 4, -10, 1376.0963320407982)"
   ]
  },
  {
   "cell_type": "code",
   "execution_count": null,
   "metadata": {},
   "outputs": [],
   "source": []
  },
  {
   "cell_type": "code",
   "execution_count": null,
   "metadata": {},
   "outputs": [],
   "source": []
  }
 ],
 "metadata": {
  "kernelspec": {
   "display_name": "Python 3",
   "language": "python",
   "name": "python3"
  },
  "language_info": {
   "codemirror_mode": {
    "name": "ipython",
    "version": 3
   },
   "file_extension": ".py",
   "mimetype": "text/x-python",
   "name": "python",
   "nbconvert_exporter": "python",
   "pygments_lexer": "ipython3",
   "version": "3.10.11"
  }
 },
 "nbformat": 4,
 "nbformat_minor": 2
}
