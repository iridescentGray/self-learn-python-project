{
 "cells": [
  {
   "cell_type": "code",
   "execution_count": 71,
   "metadata": {},
   "outputs": [],
   "source": [
    "import numpy as np\n",
    "import matplotlib.pyplot as plt"
   ]
  },
  {
   "cell_type": "markdown",
   "metadata": {},
   "source": [
    "# 创建\n"
   ]
  },
  {
   "cell_type": "markdown",
   "metadata": {},
   "source": [
    "## 数组\n"
   ]
  },
  {
   "cell_type": "markdown",
   "metadata": {},
   "source": [
    "### 一维数组\n"
   ]
  },
  {
   "cell_type": "code",
   "execution_count": 72,
   "metadata": {},
   "outputs": [
    {
     "data": {
      "text/plain": [
       "array([0.18986713, 0.18952268, 0.04992458, 0.43304338, 0.73972968,\n",
       "       0.97952114, 0.9390458 , 0.08414517, 0.96997486, 0.35830088])"
      ]
     },
     "execution_count": 72,
     "metadata": {},
     "output_type": "execute_result"
    }
   ],
   "source": [
    "# 生成随机数创建数组对象,产生10个$[0, 1)$范围的随机小数\n",
    "random_rand_array = np.random.rand(10)\n",
    "random_rand_array"
   ]
  },
  {
   "cell_type": "code",
   "execution_count": 73,
   "metadata": {},
   "outputs": [
    {
     "data": {
      "text/plain": [
       "array([48, 66, 92, 69, 54, 43, 15, 23, 78, 97])"
      ]
     },
     "execution_count": 73,
     "metadata": {},
     "output_type": "execute_result"
    }
   ],
   "source": [
    "# 产生10个$[1, 100)$范围的随机整数\n",
    "randint_list = np.random.randint(1, 100, 10)\n",
    "randint_list"
   ]
  },
  {
   "cell_type": "code",
   "execution_count": 74,
   "metadata": {},
   "outputs": [
    {
     "data": {
      "text/plain": [
       "array([ 0.67517458,  0.5477147 ,  0.25852971, -2.12557542,  0.88043619,\n",
       "        0.97200584, -2.15681885, -0.67385968, -0.14173197, -0.77143966])"
      ]
     },
     "execution_count": 74,
     "metadata": {},
     "output_type": "execute_result"
    }
   ],
   "source": [
    "# 产生10个“标准正态”分布随机数\n",
    "randn_list = np.random.randn(10)\n",
    "randn_list"
   ]
  },
  {
   "cell_type": "code",
   "execution_count": 75,
   "metadata": {},
   "outputs": [
    {
     "data": {
      "text/plain": [
       "array([46.38337095, 36.71002372, 44.55588414, 62.24786382, 52.63953201,\n",
       "       42.1847084 , 48.90276548, 64.95134701, 52.17476101, 52.60871857,\n",
       "       38.74506935, 54.18439527, 48.52657017, 33.45628185, 59.87867515,\n",
       "       58.50412774, 51.79466502, 65.03023101, 54.89160708, 53.10921047])"
      ]
     },
     "execution_count": 75,
     "metadata": {},
     "output_type": "execute_result"
    }
   ],
   "source": [
    "# 产生20个$\\mu=50$，$\\sigma=10$的正态分布随机数\n",
    "random_normal_list = np.random.normal(50, 10, 20)\n",
    "random_normal_list"
   ]
  },
  {
   "cell_type": "code",
   "execution_count": 76,
   "metadata": {},
   "outputs": [
    {
     "data": {
      "text/plain": [
       "array([1, 2, 3, 4, 5])"
      ]
     },
     "execution_count": 76,
     "metadata": {},
     "output_type": "execute_result"
    }
   ],
   "source": [
    "# 使用array函数，通过list创建数组对象\n",
    "simple_array = np.array([1, 2, 3, 4, 5])\n",
    "simple_array"
   ]
  },
  {
   "cell_type": "code",
   "execution_count": 77,
   "metadata": {},
   "outputs": [
    {
     "data": {
      "text/plain": [
       "array([ 0,  2,  4,  6,  8, 10, 12, 14, 16, 18])"
      ]
     },
     "execution_count": 77,
     "metadata": {},
     "output_type": "execute_result"
    }
   ],
   "source": [
    "# 使用arange函数，指定取值范围创建数组对象\n",
    "range_array = np.arange(0, 20, 2)\n",
    "range_array"
   ]
  },
  {
   "cell_type": "code",
   "execution_count": 78,
   "metadata": {},
   "outputs": [
    {
     "data": {
      "text/plain": [
       "array([-5. , -4.9, -4.8, -4.7, -4.6, -4.5, -4.4, -4.3, -4.2, -4.1, -4. ,\n",
       "       -3.9, -3.8, -3.7, -3.6, -3.5, -3.4, -3.3, -3.2, -3.1, -3. , -2.9,\n",
       "       -2.8, -2.7, -2.6, -2.5, -2.4, -2.3, -2.2, -2.1, -2. , -1.9, -1.8,\n",
       "       -1.7, -1.6, -1.5, -1.4, -1.3, -1.2, -1.1, -1. , -0.9, -0.8, -0.7,\n",
       "       -0.6, -0.5, -0.4, -0.3, -0.2, -0.1,  0. ,  0.1,  0.2,  0.3,  0.4,\n",
       "        0.5,  0.6,  0.7,  0.8,  0.9,  1. ,  1.1,  1.2,  1.3,  1.4,  1.5,\n",
       "        1.6,  1.7,  1.8,  1.9,  2. ,  2.1,  2.2,  2.3,  2.4,  2.5,  2.6,\n",
       "        2.7,  2.8,  2.9,  3. ,  3.1,  3.2,  3.3,  3.4,  3.5,  3.6,  3.7,\n",
       "        3.8,  3.9,  4. ,  4.1,  4.2,  4.3,  4.4,  4.5,  4.6,  4.7,  4.8,\n",
       "        4.9,  5. ])"
      ]
     },
     "execution_count": 78,
     "metadata": {},
     "output_type": "execute_result"
    }
   ],
   "source": [
    "# 用指定范围均匀间隔的数字创建数组对象\n",
    "linspace_array = np.linspace(-5, 5, 101)\n",
    "linspace_array"
   ]
  },
  {
   "cell_type": "markdown",
   "metadata": {},
   "source": [
    "### 二维数组\n"
   ]
  },
  {
   "cell_type": "code",
   "execution_count": 79,
   "metadata": {},
   "outputs": [
    {
     "data": {
      "text/plain": [
       "array([[1, 2, 3],\n",
       "       [4, 5, 6]])"
      ]
     },
     "execution_count": 79,
     "metadata": {},
     "output_type": "execute_result"
    }
   ],
   "source": [
    "two_dimensional_array1 = np.array([[1, 2, 3], [4, 5, 6]])\n",
    "two_dimensional_array1"
   ]
  },
  {
   "cell_type": "code",
   "execution_count": 80,
   "metadata": {},
   "outputs": [
    {
     "data": {
      "text/plain": [
       "array([[0., 0., 0., 0.],\n",
       "       [0., 0., 0., 0.],\n",
       "       [0., 0., 0., 0.]])"
      ]
     },
     "execution_count": 80,
     "metadata": {},
     "output_type": "execute_result"
    }
   ],
   "source": [
    "\n",
    "# 创建全是0的二维数组\n",
    "two_dimensional_zero_array = np.zeros((3, 4))\n",
    "two_dimensional_zero_array"
   ]
  },
  {
   "cell_type": "code",
   "execution_count": 81,
   "metadata": {},
   "outputs": [
    {
     "data": {
      "text/plain": [
       "array([[1., 1., 1., 1.],\n",
       "       [1., 1., 1., 1.],\n",
       "       [1., 1., 1., 1.]])"
      ]
     },
     "execution_count": 81,
     "metadata": {},
     "output_type": "execute_result"
    }
   ],
   "source": [
    "# 创建全是1的二维数组\n",
    "two_dimensional_ones_array = np.ones((3, 4))\n",
    "two_dimensional_ones_array"
   ]
  },
  {
   "cell_type": "code",
   "execution_count": 82,
   "metadata": {},
   "outputs": [
    {
     "data": {
      "text/plain": [
       "array([[10, 10, 10, 10],\n",
       "       [10, 10, 10, 10],\n",
       "       [10, 10, 10, 10]])"
      ]
     },
     "execution_count": 82,
     "metadata": {},
     "output_type": "execute_result"
    }
   ],
   "source": [
    "# 创建满二维数组\n",
    "two_dimensional_full_array = np.full((3, 4), 10)\n",
    "two_dimensional_full_array"
   ]
  },
  {
   "cell_type": "code",
   "execution_count": 83,
   "metadata": {},
   "outputs": [
    {
     "data": {
      "text/plain": [
       "array([[1, 2, 3],\n",
       "       [4, 5, 6]])"
      ]
     },
     "execution_count": 83,
     "metadata": {},
     "output_type": "execute_result"
    }
   ],
   "source": [
    "# 将一维数组变成二维数组\n",
    "one_dimensional_to_two_dimensional_array = np.array([1, 2, 3, 4, 5, 6]).reshape(2, 3)\n",
    "one_dimensional_to_two_dimensional_array"
   ]
  },
  {
   "cell_type": "code",
   "execution_count": 84,
   "metadata": {},
   "outputs": [
    {
     "data": {
      "text/plain": [
       "array([[0.50000796, 0.30705034, 0.41966101, 0.65164131],\n",
       "       [0.92001995, 0.3161148 , 0.42100908, 0.81737356],\n",
       "       [0.82189163, 0.05637814, 0.39034176, 0.53846336]])"
      ]
     },
     "execution_count": 84,
     "metadata": {},
     "output_type": "execute_result"
    }
   ],
   "source": [
    "# 产生$[0, 1)$范围的随机小数构成的3行4列的二维数组\n",
    "random_two_dimensional_array = np.random.rand(3, 4)\n",
    "random_two_dimensional_array"
   ]
  },
  {
   "cell_type": "code",
   "execution_count": 85,
   "metadata": {},
   "outputs": [
    {
     "data": {
      "text/plain": [
       "array([[49, 44, 93, 12],\n",
       "       [15, 72, 82, 92],\n",
       "       [ 9, 30, 37, 48]])"
      ]
     },
     "execution_count": 85,
     "metadata": {},
     "output_type": "execute_result"
    }
   ],
   "source": [
    "# $[1, 100)$范围的随机整数构成的3行4列的二维数组\n",
    "random_int_two_dimensional_array = np.random.randint(1, 100, (3, 4))\n",
    "random_int_two_dimensional_array"
   ]
  },
  {
   "cell_type": "markdown",
   "metadata": {},
   "source": [
    "### 三维数组\n"
   ]
  },
  {
   "cell_type": "code",
   "execution_count": 86,
   "metadata": {},
   "outputs": [
    {
     "data": {
      "text/plain": [
       "array([[[58,  3,  5,  6, 79],\n",
       "        [27, 20, 89, 22, 60],\n",
       "        [90, 86, 49, 44, 42],\n",
       "        [39, 86, 38, 37, 62]],\n",
       "\n",
       "       [[42, 14, 47, 73,  8],\n",
       "        [69, 88, 58, 37, 68],\n",
       "        [53, 13, 75, 89, 62],\n",
       "        [83, 49, 15, 85, 97]],\n",
       "\n",
       "       [[27,  1, 44, 98, 91],\n",
       "        [86, 19, 38, 34, 50],\n",
       "        [ 1, 14, 45, 96, 89],\n",
       "        [33, 22, 19, 27, 80]]])"
      ]
     },
     "execution_count": 86,
     "metadata": {},
     "output_type": "execute_result"
    }
   ],
   "source": [
    "# 创建随机的三维数组\n",
    "three_dimensional_array = np.random.randint(1, 100, (3, 4, 5))\n",
    "three_dimensional_array"
   ]
  },
  {
   "cell_type": "code",
   "execution_count": 87,
   "metadata": {},
   "outputs": [
    {
     "data": {
      "text/plain": [
       "array([[[0.75686276, 0.54509807, 0.41568628],\n",
       "        [0.7647059 , 0.54509807, 0.4117647 ],\n",
       "        [0.7647059 , 0.5411765 , 0.40784314],\n",
       "        ...,\n",
       "        [0.89411765, 0.5254902 , 0.27058825],\n",
       "        [0.89411765, 0.5294118 , 0.26666668],\n",
       "        [0.89411765, 0.5294118 , 0.2627451 ]],\n",
       "\n",
       "       [[0.7490196 , 0.54509807, 0.41960785],\n",
       "        [0.75686276, 0.54509807, 0.41960785],\n",
       "        [0.7607843 , 0.54509807, 0.41568628],\n",
       "        ...,\n",
       "        [0.89411765, 0.5254902 , 0.27450982],\n",
       "        [0.89411765, 0.5294118 , 0.26666668],\n",
       "        [0.8901961 , 0.5294118 , 0.2627451 ]],\n",
       "\n",
       "       [[0.7411765 , 0.54509807, 0.42352942],\n",
       "        [0.7529412 , 0.54901963, 0.42745098],\n",
       "        [0.75686276, 0.54901963, 0.41960785],\n",
       "        ...,\n",
       "        [0.89411765, 0.5254902 , 0.27058825],\n",
       "        [0.8901961 , 0.5254902 , 0.27058825],\n",
       "        [0.89411765, 0.5254902 , 0.27058825]],\n",
       "\n",
       "       ...,\n",
       "\n",
       "       [[0.25882354, 0.54901963, 0.78039217],\n",
       "        [0.2627451 , 0.5529412 , 0.78431374],\n",
       "        [0.25882354, 0.5529412 , 0.78039217],\n",
       "        ...,\n",
       "        [0.54509807, 0.54901963, 0.5921569 ],\n",
       "        [0.5529412 , 0.54509807, 0.58431375],\n",
       "        [0.56078434, 0.54509807, 0.5764706 ]],\n",
       "\n",
       "       [[0.25882354, 0.54901963, 0.7764706 ],\n",
       "        [0.25882354, 0.54901963, 0.78039217],\n",
       "        [0.25882354, 0.54901963, 0.7764706 ],\n",
       "        ...,\n",
       "        [0.53333336, 0.54509807, 0.6       ],\n",
       "        [0.5411765 , 0.54509807, 0.5921569 ],\n",
       "        [0.54509807, 0.54509807, 0.58431375]],\n",
       "\n",
       "       [[0.25490198, 0.54901963, 0.7764706 ],\n",
       "        [0.25490198, 0.54509807, 0.7764706 ],\n",
       "        [0.25882354, 0.54901963, 0.7764706 ],\n",
       "        ...,\n",
       "        [0.5176471 , 0.54509807, 0.6039216 ],\n",
       "        [0.5294118 , 0.54509807, 0.6       ],\n",
       "        [0.53333336, 0.54509807, 0.59607846]]], dtype=float32)"
      ]
     },
     "execution_count": 87,
     "metadata": {},
     "output_type": "execute_result"
    }
   ],
   "source": [
    "# 读取图片获得对应的三维数组\n",
    "image_three_dimensional_array = plt.imread(\"test.png\")\n",
    "image_three_dimensional_array"
   ]
  },
  {
   "cell_type": "markdown",
   "metadata": {},
   "source": [
    "## 矩阵\n",
    "\n",
    "官方并不推荐使用 matrix 类而是建议使用二维数组，而且有可能在将来的版本中会移除 matrix 类\n"
   ]
  },
  {
   "cell_type": "code",
   "execution_count": 88,
   "metadata": {},
   "outputs": [
    {
     "data": {
      "text/plain": [
       "array([[1., 0., 0., 0.],\n",
       "       [0., 1., 0., 0.],\n",
       "       [0., 0., 1., 0.],\n",
       "       [0., 0., 0., 1.]])"
      ]
     },
     "execution_count": 88,
     "metadata": {},
     "output_type": "execute_result"
    }
   ],
   "source": [
    "# 创建单位矩阵\n",
    "identity_matrix = np.eye(4)\n",
    "identity_matrix"
   ]
  },
  {
   "cell_type": "code",
   "execution_count": 89,
   "metadata": {},
   "outputs": [
    {
     "data": {
      "text/plain": [
       "matrix([[1, 2, 3],\n",
       "        [4, 5, 6]])"
      ]
     },
     "execution_count": 89,
     "metadata": {},
     "output_type": "execute_result"
    }
   ],
   "source": [
    "matrix1 = np.matrix(\"1 2 3; 4 5 6\")\n",
    "matrix1"
   ]
  },
  {
   "cell_type": "code",
   "execution_count": 90,
   "metadata": {},
   "outputs": [
    {
     "data": {
      "text/plain": [
       "matrix([[1, 1],\n",
       "        [2, 2],\n",
       "        [3, 3]])"
      ]
     },
     "execution_count": 90,
     "metadata": {},
     "output_type": "execute_result"
    }
   ],
   "source": [
    "matrix2 = np.asmatrix(np.array([[1, 1], [2, 2], [3, 3]]))\n",
    "matrix2"
   ]
  },
  {
   "cell_type": "code",
   "execution_count": 91,
   "metadata": {},
   "outputs": [
    {
     "data": {
      "text/plain": [
       "array([[1, 1],\n",
       "       [2, 2],\n",
       "       [3, 3]])"
      ]
     },
     "execution_count": 91,
     "metadata": {},
     "output_type": "execute_result"
    }
   ],
   "source": [
    "# 获取矩阵对象对应的ndarray对象\n",
    "matrix2.A"
   ]
  },
  {
   "cell_type": "code",
   "execution_count": 92,
   "metadata": {},
   "outputs": [
    {
     "data": {
      "text/plain": [
       "array([1, 1, 2, 2, 3, 3])"
      ]
     },
     "execution_count": 92,
     "metadata": {},
     "output_type": "execute_result"
    }
   ],
   "source": [
    "# 获取矩阵对象对应的扁平化后的对象\n",
    "matrix2.A1"
   ]
  },
  {
   "cell_type": "code",
   "execution_count": 93,
   "metadata": {},
   "outputs": [
    {
     "data": {
      "text/plain": [
       "matrix([[0.03571429, 0.07142857, 0.10714286],\n",
       "        [0.03571429, 0.07142857, 0.10714286]])"
      ]
     },
     "execution_count": 93,
     "metadata": {},
     "output_type": "execute_result"
    }
   ],
   "source": [
    "# 可逆矩阵的逆矩阵\n",
    "matrix2.I"
   ]
  },
  {
   "cell_type": "code",
   "execution_count": 94,
   "metadata": {},
   "outputs": [
    {
     "data": {
      "text/plain": [
       "matrix([[1, 2, 3],\n",
       "        [1, 2, 3]])"
      ]
     },
     "execution_count": 94,
     "metadata": {},
     "output_type": "execute_result"
    }
   ],
   "source": [
    "# 矩阵的转置\n",
    "matrix2.T"
   ]
  },
  {
   "cell_type": "code",
   "execution_count": 95,
   "metadata": {},
   "outputs": [
    {
     "data": {
      "text/plain": [
       "(3, 2)"
      ]
     },
     "execution_count": 95,
     "metadata": {},
     "output_type": "execute_result"
    }
   ],
   "source": [
    "matrix2.shape"
   ]
  },
  {
   "cell_type": "code",
   "execution_count": 96,
   "metadata": {},
   "outputs": [
    {
     "data": {
      "text/plain": [
       "6"
      ]
     },
     "execution_count": 96,
     "metadata": {},
     "output_type": "execute_result"
    }
   ],
   "source": [
    "matrix2.size"
   ]
  },
  {
   "cell_type": "markdown",
   "metadata": {},
   "source": [
    "# 统计\n",
    "\n",
    "- sum()、mean()、std()、var()、min()、max()、argmin()、argmax()、cumsum()\n",
    "- 求和、求平均、求标准差、求方差、找最大、找最小、求累积和\n"
   ]
  },
  {
   "cell_type": "code",
   "execution_count": 97,
   "metadata": {},
   "outputs": [],
   "source": [
    "simple_array = np.array([1, 2, 3, 4, 5, 5, 4, 3, 2, 1])"
   ]
  },
  {
   "cell_type": "code",
   "execution_count": 98,
   "metadata": {},
   "outputs": [
    {
     "data": {
      "text/plain": [
       "30"
      ]
     },
     "execution_count": 98,
     "metadata": {},
     "output_type": "execute_result"
    }
   ],
   "source": [
    "simple_array.sum()"
   ]
  },
  {
   "cell_type": "code",
   "execution_count": 99,
   "metadata": {},
   "outputs": [
    {
     "data": {
      "text/plain": [
       "3.0"
      ]
     },
     "execution_count": 99,
     "metadata": {},
     "output_type": "execute_result"
    }
   ],
   "source": [
    "simple_array.mean()"
   ]
  },
  {
   "cell_type": "code",
   "execution_count": 100,
   "metadata": {},
   "outputs": [
    {
     "data": {
      "text/plain": [
       "5"
      ]
     },
     "execution_count": 100,
     "metadata": {},
     "output_type": "execute_result"
    }
   ],
   "source": [
    "simple_array.max()"
   ]
  },
  {
   "cell_type": "code",
   "execution_count": 101,
   "metadata": {},
   "outputs": [
    {
     "data": {
      "text/plain": [
       "1"
      ]
     },
     "execution_count": 101,
     "metadata": {},
     "output_type": "execute_result"
    }
   ],
   "source": [
    "simple_array.min()"
   ]
  },
  {
   "cell_type": "code",
   "execution_count": 102,
   "metadata": {},
   "outputs": [
    {
     "data": {
      "text/plain": [
       "1.4142135623730951"
      ]
     },
     "execution_count": 102,
     "metadata": {},
     "output_type": "execute_result"
    }
   ],
   "source": [
    "simple_array.std()"
   ]
  },
  {
   "cell_type": "code",
   "execution_count": 103,
   "metadata": {},
   "outputs": [
    {
     "data": {
      "text/plain": [
       "2.0"
      ]
     },
     "execution_count": 103,
     "metadata": {},
     "output_type": "execute_result"
    }
   ],
   "source": [
    "simple_array.var()"
   ]
  },
  {
   "cell_type": "code",
   "execution_count": 104,
   "metadata": {},
   "outputs": [
    {
     "data": {
      "text/plain": [
       "array([ 1,  3,  6, 10, 15, 20, 24, 27, 29, 30])"
      ]
     },
     "execution_count": 104,
     "metadata": {},
     "output_type": "execute_result"
    }
   ],
   "source": [
    "simple_array.cumsum()"
   ]
  },
  {
   "cell_type": "markdown",
   "metadata": {},
   "source": [
    "# 数组属性\n"
   ]
  },
  {
   "cell_type": "code",
   "execution_count": 105,
   "metadata": {},
   "outputs": [],
   "source": [
    "# 随机的的三维数组\n",
    "three_dimensional_array = np.random.randint(1, 100, (3, 4, 5))"
   ]
  },
  {
   "cell_type": "code",
   "execution_count": 106,
   "metadata": {},
   "outputs": [
    {
     "data": {
      "text/plain": [
       "(3, 4, 5)"
      ]
     },
     "execution_count": 106,
     "metadata": {},
     "output_type": "execute_result"
    }
   ],
   "source": [
    "# 数组的形状\n",
    "three_dimensional_array.shape"
   ]
  },
  {
   "cell_type": "code",
   "execution_count": 107,
   "metadata": {},
   "outputs": [
    {
     "data": {
      "text/plain": [
       "dtype('int32')"
      ]
     },
     "execution_count": 107,
     "metadata": {},
     "output_type": "execute_result"
    }
   ],
   "source": [
    "# 数组数据类型\n",
    "three_dimensional_array.dtype"
   ]
  },
  {
   "cell_type": "code",
   "execution_count": 108,
   "metadata": {},
   "outputs": [
    {
     "data": {
      "text/plain": [
       "60"
      ]
     },
     "execution_count": 108,
     "metadata": {},
     "output_type": "execute_result"
    }
   ],
   "source": [
    "# 大小\n",
    "three_dimensional_array.size"
   ]
  },
  {
   "cell_type": "code",
   "execution_count": 109,
   "metadata": {},
   "outputs": [
    {
     "data": {
      "text/plain": [
       "3"
      ]
     },
     "execution_count": 109,
     "metadata": {},
     "output_type": "execute_result"
    }
   ],
   "source": [
    "# 数组维度\n",
    "three_dimensional_array.ndim"
   ]
  },
  {
   "cell_type": "code",
   "execution_count": 110,
   "metadata": {},
   "outputs": [
    {
     "data": {
      "text/plain": [
       "4"
      ]
     },
     "execution_count": 110,
     "metadata": {},
     "output_type": "execute_result"
    }
   ],
   "source": [
    "# 数组单元素占用内存空间字节\n",
    "three_dimensional_array.itemsize"
   ]
  },
  {
   "cell_type": "code",
   "execution_count": 111,
   "metadata": {},
   "outputs": [
    {
     "data": {
      "text/plain": [
       "240"
      ]
     },
     "execution_count": 111,
     "metadata": {},
     "output_type": "execute_result"
    }
   ],
   "source": [
    "# 数组数组所有元素占用内存空间字节\n",
    "three_dimensional_array.nbytes"
   ]
  },
  {
   "cell_type": "markdown",
   "metadata": {},
   "source": [
    "# 序列化\n"
   ]
  },
  {
   "cell_type": "code",
   "execution_count": 112,
   "metadata": {},
   "outputs": [],
   "source": [
    "simple_array = np.array([1, 2, 3, 4, 5, 5, 4, 3, 2, 1])\n",
    "# 序列化\n",
    "simple_array.dump(\"simple_array-data\")"
   ]
  },
  {
   "cell_type": "code",
   "execution_count": 113,
   "metadata": {},
   "outputs": [
    {
     "data": {
      "text/plain": [
       "array([1, 2, 3, 4, 5, 5, 4, 3, 2, 1])"
      ]
     },
     "execution_count": 113,
     "metadata": {},
     "output_type": "execute_result"
    }
   ],
   "source": [
    "simple_array_load = np.load(\"simple_array-data\", allow_pickle=True)\n",
    "simple_array_load"
   ]
  },
  {
   "cell_type": "markdown",
   "metadata": {},
   "source": [
    "# 变换\n",
    "\n",
    "- fill() 向数组中填充指定的元素。\n",
    "- flatten() 将多维数组扁平化为一维数组。\n",
    "- nonzero() 方法：返回非 0 元素的索引。\n",
    "- round() 方法：对数组中的元素做四舍五入操作。\n",
    "- astype()方法：拷贝数组，并将数组中的元素转换为指定的类型。\n",
    "- sort() 方法：对数组进行就地排序。\n",
    "- swapaxes()和 transpose()方法：交换数组指定的轴。\\*\n"
   ]
  },
  {
   "cell_type": "code",
   "execution_count": 114,
   "metadata": {},
   "outputs": [
    {
     "data": {
      "text/plain": [
       "array([[1, 2, 3],\n",
       "       [4, 5, 6]])"
      ]
     },
     "execution_count": 114,
     "metadata": {},
     "output_type": "execute_result"
    }
   ],
   "source": [
    "two_dimensional_array1 = np.array([[1, 2, 3], [4, 5, 6]])\n",
    "two_dimensional_array1"
   ]
  },
  {
   "cell_type": "code",
   "execution_count": 115,
   "metadata": {},
   "outputs": [
    {
     "data": {
      "text/plain": [
       "array([[1, 4],\n",
       "       [2, 5],\n",
       "       [3, 6]])"
      ]
     },
     "execution_count": 115,
     "metadata": {},
     "output_type": "execute_result"
    }
   ],
   "source": [
    "# 对于二维数组，transpose相当于实现了矩阵的转置\n",
    "two_dimensional_array1.transpose()"
   ]
  },
  {
   "cell_type": "code",
   "execution_count": 116,
   "metadata": {},
   "outputs": [
    {
     "data": {
      "text/plain": [
       "array([[1, 4],\n",
       "       [2, 5],\n",
       "       [3, 6]])"
      ]
     },
     "execution_count": 116,
     "metadata": {},
     "output_type": "execute_result"
    }
   ],
   "source": [
    "two_dimensional_array1.swapaxes(0, 1)"
   ]
  }
 ],
 "metadata": {
  "kernelspec": {
   "display_name": "Python 3",
   "language": "python",
   "name": "python3"
  },
  "language_info": {
   "codemirror_mode": {
    "name": "ipython",
    "version": 3
   },
   "file_extension": ".py",
   "mimetype": "text/x-python",
   "name": "python",
   "nbconvert_exporter": "python",
   "pygments_lexer": "ipython3",
   "version": "3.11.6"
  }
 },
 "nbformat": 4,
 "nbformat_minor": 2
}
