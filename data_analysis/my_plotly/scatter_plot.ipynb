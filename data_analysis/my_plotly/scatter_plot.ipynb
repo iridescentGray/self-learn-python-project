{
 "cells": [
  {
   "cell_type": "markdown",
   "metadata": {},
   "source": [
    "# 散点图\n",
    "\n",
    "散点图，又名点图、散布图、X-Y 图，英文 Scatter plot 或 Scatter gram。\n",
    "\n",
    "散点图是将所有的数据以点的形式展现在平面直角坐标系上的统计图表，它至少需要两个不同变量，一个沿 x 轴绘制，另一个沿 y 轴绘制。\n",
    "每个点在 X、Y 轴上都有一个确定的位置。众多的散点叠加后，有助于展示数据集的 \"整体景观\"，从而帮助我们分析两个变量之间的相关性，或找出趋势和规律。\n",
    "此外，我们还可以添加附加的变量，来给散点分组、着色、确定透明度等等。"
   ]
  },
  {
   "cell_type": "code",
   "execution_count": null,
   "metadata": {},
   "outputs": [],
   "source": [
    "import plotly.graph_objs as go\n",
    "import numpy as np\n",
    "import pandas as pd"
   ]
  },
  {
   "cell_type": "code",
   "execution_count": null,
   "metadata": {},
   "outputs": [],
   "source": [
    "# 查看散点图帮助文档\n",
    "help(go.Scatter)"
   ]
  },
  {
   "cell_type": "markdown",
   "metadata": {},
   "source": [
    "## Scatter的基础参数\n",
    "* x：x 轴的坐标\n",
    "* y： y 轴的坐标\n",
    "* name：轨迹(图表)的名称，就是显示在画布右上方的那个\n",
    "* mode：轨迹的样式，markers就是纯散点，markers+lines是散点加上线段，lines是线段*"
   ]
  },
  {
   "cell_type": "code",
   "execution_count": null,
   "metadata": {},
   "outputs": [],
   "source": [
    "random_x = np.linspace(0, 2, 100)  # 生成100个点\n",
    "random_y1 = np.random.randn(100) + 5\n",
    "random_y2 = np.random.randn(100) \n",
    "random_y3 = np.random.randn(100)- 5\n",
    "\n",
    "\n",
    "# 轨迹1 纯散点绘图\n",
    "trace1 = go.Scatter(\n",
    "    x=random_x, \n",
    "    y=random_y1,\n",
    "    mode=\"markers\", \n",
    "    name=\"markers\"\n",
    ")\n",
    "\n",
    "# 轨迹2，线段绘图(如果不指定 mode ,默认绘制的就是线段)\n",
    "trace2 = go.Scatter(\n",
    "    x=random_x,  \n",
    "    y=random_y2, \n",
    "    mode=\"lines\",\n",
    "    name=\"lines\"\n",
    ")  \n",
    "\n",
    "# 轨迹3  散点 + 线段绘图\n",
    "trace3 = go.Scatter(\n",
    "    x=random_x,  \n",
    "    y=random_y3, \n",
    "    mode=\"markers + lines\",  \n",
    "    name=\"markers + lines\" \n",
    ")\n",
    "\n",
    "# Figure就是画布，画布+三条轨迹\n",
    "fig = go.Figure(data=[trace1, trace2, trace3])\n",
    "fig"
   ]
  },
  {
   "cell_type": "markdown",
   "metadata": {},
   "source": [
    "### 画布-设置标题 layout"
   ]
  },
  {
   "cell_type": "code",
   "execution_count": null,
   "metadata": {},
   "outputs": [],
   "source": [
    "random_x = np.linspace(0, 2, 100)  # 生成100个点\n",
    "random_y0 = np.random.randn(100) + 5\n",
    "random_y1 = np.random.randn(100) - 5\n",
    "\n",
    "trace0 = go.Scatter(\n",
    "    x=random_x,  \n",
    "    y=random_y0, \n",
    "    mode=\"markers\"\n",
    ")\n",
    "\n",
    "\n",
    "fig = go.Figure(data=[trace0], layout={\"title\": \"这是标题\", \n",
    "                                       \"xaxis_title\": \"这是x轴\",\n",
    "                                       \"yaxis_title\": \"这是y轴\",\n",
    "                                       # x轴坐标倾斜60度\n",
    "                                       \"xaxis\": {\"tickangle\": 60}\n",
    "                                      })\n",
    "fig"
   ]
  },
  {
   "cell_type": "markdown",
   "metadata": {},
   "source": [
    "### 轨迹-设置点样式 marker"
   ]
  },
  {
   "cell_type": "code",
   "execution_count": null,
   "metadata": {},
   "outputs": [],
   "source": [
    "random_x = np.linspace(0, 2, 100)  # 生成100个点\n",
    "random_y0 = np.random.randn(100) + 5\n",
    "random_y1 = np.random.randn(100) - 5\n",
    "\n",
    "trace0 = go.Scatter(\n",
    "    x=random_x,  \n",
    "    y=random_y0, \n",
    "    mode=\"markers\",  \n",
    "    name=\"上方\",  \n",
    "    marker={\n",
    "        \"size\": 18,  # 点的大小\n",
    "        # 点的颜色，三原色加上透明度，以字符串形式\n",
    "        \"color\": \"rgba(102, 198, 147, 0.7)\",  \n",
    "    }\n",
    ")\n",
    "\n",
    "trace1 = go.Scatter(\n",
    "    x=random_x,  \n",
    "    y=random_y1, \n",
    "    mode=\"markers\",  \n",
    "    name=\"下方\",  \n",
    "    marker={\n",
    "        \"size\": 8,  \n",
    "        \"color\": \"rgba(252, 108, 117, 1)\",  \n",
    "        # 设置点的轮廓\n",
    "        \"line\": {\n",
    "            \"width\": 10,  # 线条大小\n",
    "            \"color\": \"rgba(1, 170, 118, 0.3)\"  # 线条的颜色\n",
    "        }\n",
    "    }\n",
    ")\n",
    "\n",
    "fig = go.Figure(data=[trace0, trace1])\n",
    "fig"
   ]
  }
 ],
 "metadata": {
  "kernelspec": {
   "display_name": "Python 3",
   "language": "python",
   "name": "python3"
  },
  "language_info": {
   "codemirror_mode": {
    "name": "ipython",
    "version": 3
   },
   "file_extension": ".py",
   "mimetype": "text/x-python",
   "name": "python",
   "nbconvert_exporter": "python",
   "pygments_lexer": "ipython3",
   "version": "3.11.6"
  }
 },
 "nbformat": 4,
 "nbformat_minor": 2
}
