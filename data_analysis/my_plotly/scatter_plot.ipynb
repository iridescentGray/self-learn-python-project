{
 "cells": [
  {
   "cell_type": "markdown",
   "metadata": {},
   "source": [
    "# 散点图\n",
    "\n",
    "散点图，又名点图、散布图、X-Y 图，英文 Scatter plot 或 Scatter gram。\n",
    "\n",
    "散点图是将所有的数据以点的形式展现在平面直角坐标系上的统计图表，它至少需要两个不同变量，一个沿 x 轴绘制，另一个沿 y 轴绘制。\n",
    "\n",
    "\n",
    "1.  散点图可以用于分析变量之间的相关性。\n",
    " * 两个变量的散点看上去都在一条直线附近波动，则称变量之间是线性相关的；\n",
    " * 所有点看上去都在某条曲线（非直线）附近波动，则称此相关为非线形相关的；\n",
    " * 如果所有点在图中没有显示任何关系，则称变量间是不相关的\n",
    "2.  如果散点图呈现出一个集中的大致趋势，这种趋势通常可以用一条光滑的曲线来近似，这样近似的过程被称为曲线拟合，这条曲线称为最佳拟合线或趋势线"
   ]
  },
  {
   "cell_type": "code",
   "execution_count": null,
   "metadata": {},
   "outputs": [],
   "source": [
    "import plotly.graph_objs as go\n",
    "import numpy as np\n",
    "import pandas as pd"
   ]
  },
  {
   "cell_type": "code",
   "execution_count": null,
   "metadata": {},
   "outputs": [],
   "source": [
    "# 查看散点图帮助文档\n",
    "help(go.Scatter)"
   ]
  },
  {
   "cell_type": "markdown",
   "metadata": {},
   "source": [
    "## Scatter的参数"
   ]
  },
  {
   "cell_type": "markdown",
   "metadata": {},
   "source": [
    "### 坐标轴与图像\n",
    "* x:x 轴的坐标\n",
    "* y: y 轴的坐标\n",
    "* name:轨迹(图表)的名称，就是显示在画布右上方的那个\n",
    "* mode:轨迹的样式\n",
    "  * markers 纯散点\n",
    "  * lines 线段(默认)\n",
    "  * markers+lines 散点加上线段\n",
    "  * none:隐藏(用于绘制阴影)"
   ]
  },
  {
   "cell_type": "code",
   "execution_count": null,
   "metadata": {},
   "outputs": [],
   "source": [
    "random_x = np.linspace(0, 2, 100)  # 生成100个点\n",
    "random_y1 = np.random.randn(100) + 5\n",
    "random_y2 = np.random.randn(100) \n",
    "random_y3 = np.random.randn(100)- 5\n",
    "\n",
    "\n",
    "# 轨迹1 纯散点绘图\n",
    "trace1 = go.Scatter(\n",
    "    x=random_x, \n",
    "    y=random_y1,\n",
    "    mode=\"markers\", \n",
    "    name=\"markers\"\n",
    ")\n",
    "\n",
    "# 轨迹2，线段绘图(如果不指定 mode ,默认绘制的就是线段)\n",
    "trace2 = go.Scatter(\n",
    "    x=random_x,  \n",
    "    y=random_y2, \n",
    "    mode=\"lines\",\n",
    "    name=\"lines\"\n",
    ")  \n",
    "\n",
    "# 轨迹3  散点 + 线段绘图\n",
    "trace3 = go.Scatter(\n",
    "    x=random_x,  \n",
    "    y=random_y3, \n",
    "    mode=\"markers + lines\",  \n",
    "    name=\"markers + lines\" \n",
    ")\n",
    "\n",
    "# Figure就是画布，画布+三条轨迹\n",
    "fig = go.Figure(data=[trace1, trace2, trace3])\n",
    "fig"
   ]
  },
  {
   "cell_type": "markdown",
   "metadata": {},
   "source": [
    "### 画布设置 layout"
   ]
  },
  {
   "cell_type": "code",
   "execution_count": null,
   "metadata": {},
   "outputs": [],
   "source": [
    "random_x = np.linspace(0, 2, 100)  # 生成100个点\n",
    "random_y0 = np.random.randn(100) + 5\n",
    "random_y1 = np.random.randn(100) - 5\n",
    "\n",
    "trace0 = go.Scatter(\n",
    "    x=random_x,  \n",
    "    y=random_y0, \n",
    "    mode=\"markers\"\n",
    ")\n",
    "\n",
    "\n",
    "fig = go.Figure(data=[trace0], layout={\"title\": \"这是标题\", \n",
    "                                       \"xaxis_title\": \"这是x轴\",\n",
    "                                       \"yaxis_title\": \"这是y轴\",\n",
    "                                       # x轴坐标倾斜60度\n",
    "                                       \"xaxis\": {\"tickangle\": 60},\n",
    "                                       # 图模板-黑色\n",
    "                                       \"template\": \"plotly_dark\"\n",
    "                                      })\n",
    "fig"
   ]
  },
  {
   "cell_type": "markdown",
   "metadata": {},
   "source": [
    "### 设置样式 marker"
   ]
  },
  {
   "cell_type": "code",
   "execution_count": null,
   "metadata": {},
   "outputs": [],
   "source": [
    "random_x = np.linspace(0, 2, 100)  # 生成100个点\n",
    "random_y0 = np.random.randn(100) + 5\n",
    "random_y1 = np.random.randn(100) - 5\n",
    "\n",
    "trace0 = go.Scatter(\n",
    "    x=random_x,  \n",
    "    y=random_y0, \n",
    "    mode=\"markers\",  \n",
    "    name=\"上方\",  \n",
    "    marker={\n",
    "        \"size\": 18,  # 点的大小\n",
    "        # 点的颜色，三原色加上透明度，以字符串形式\n",
    "        \"color\": \"rgba(102, 198, 147, 0.7)\",  \n",
    "    }\n",
    ")\n",
    "\n",
    "trace1 = go.Scatter(\n",
    "    x=random_x,  \n",
    "    y=random_y1, \n",
    "    mode=\"markers\",  \n",
    "    name=\"下方\",  \n",
    "    marker={\n",
    "        \"size\": 8,  \n",
    "        \"color\": \"rgba(252, 108, 117, 1)\",  \n",
    "        # 设置点的轮廓\n",
    "        \"line\": {\n",
    "            \"width\": 10,  # 线条大小\n",
    "            \"color\": \"rgba(1, 170, 118, 0.3)\"  # 线条的颜色\n",
    "        }\n",
    "    }\n",
    ")\n",
    "\n",
    "fig = go.Figure(data=[trace0, trace1])\n",
    "fig"
   ]
  },
  {
   "cell_type": "markdown",
   "metadata": {},
   "source": [
    "## 情景\n",
    "\n",
    "各种使用场景/遇到的问题"
   ]
  }
 ],
 "metadata": {
  "kernelspec": {
   "display_name": "Python 3",
   "language": "python",
   "name": "python3"
  },
  "language_info": {
   "codemirror_mode": {
    "name": "ipython",
    "version": 3
   },
   "file_extension": ".py",
   "mimetype": "text/x-python",
   "name": "python",
   "nbconvert_exporter": "python",
   "pygments_lexer": "ipython3",
   "version": "3.11.6"
  }
 },
 "nbformat": 4,
 "nbformat_minor": 2
}
