{
 "cells": [
  {
   "cell_type": "markdown",
   "metadata": {},
   "source": [
    "# 多轴图"
   ]
  },
  {
   "cell_type": "code",
   "execution_count": null,
   "metadata": {},
   "outputs": [],
   "source": [
    "import plotly.graph_objs as go\n",
    "import numpy as np\n",
    "import pandas as pd"
   ]
  },
  {
   "cell_type": "markdown",
   "metadata": {},
   "source": [
    "## 普通图"
   ]
  },
  {
   "cell_type": "code",
   "execution_count": null,
   "metadata": {},
   "outputs": [],
   "source": [
    "\n",
    "x0 = np.linspace(1, 500, 5)\n",
    "y0 = x0 ** 2 + x0 + 1\n",
    "trace0 = go.Scatter(x=x0, y=y0)\n",
    "fig = go.Figure(data=[trace0])\n",
    "fig"
   ]
  },
  {
   "cell_type": "markdown",
   "metadata": {},
   "source": [
    "## 多轴图"
   ]
  },
  {
   "cell_type": "code",
   "execution_count": null,
   "metadata": {},
   "outputs": [],
   "source": [
    "x0 = np.linspace(1, 500, 5)\n",
    "y0 = x0 ** 2 + x0 + 1\n",
    "trace0 = go.Scatter(x=x0, y=y0)\n",
    "# 但是在指定的时候，第二坐标轴直接写 x2、y2 即可。默认的坐标轴是第一坐标轴、也就是最原始的那个坐标轴\n",
    "trace1 = go.Scatter(yaxis=\"y2\", xaxis=\"x2\")\n",
    "fig = go.Figure(data=[trace0, trace1],\n",
    "                layout={\n",
    "                    \"xaxis\": {\"title\": \"trace0的x轴\", \"showgrid\": False, \"zeroline\": False},\n",
    "                    \"yaxis\": {\"title\": \"trace0的y轴\", \"showgrid\": False},\n",
    "                    # 这里就是第二坐标轴的x轴了\n",
    "                    \"xaxis2\": {\"title\": \"trace1的x轴\",  \"side\": \"top\", \"overlaying\": \"x\"},\n",
    "                    \"yaxis2\": {\"title\": \"trace1的y轴\", \"side\": \"right\", \"overlaying\": \"y\"}\n",
    "                } \n",
    "               )\n",
    "fig"
   ]
  }
 ],
 "metadata": {
  "kernelspec": {
   "display_name": "Python 3",
   "language": "python",
   "name": "python3"
  },
  "language_info": {
   "codemirror_mode": {
    "name": "ipython",
    "version": 3
   },
   "file_extension": ".py",
   "mimetype": "text/x-python",
   "name": "python",
   "nbconvert_exporter": "python",
   "pygments_lexer": "ipython3",
   "version": "3.11.6"
  }
 },
 "nbformat": 4,
 "nbformat_minor": 2
}
