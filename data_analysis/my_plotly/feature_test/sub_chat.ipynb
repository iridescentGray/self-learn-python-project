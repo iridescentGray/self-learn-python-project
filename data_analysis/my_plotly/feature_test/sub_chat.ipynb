{
 "cells": [
  {
   "cell_type": "markdown",
   "metadata": {},
   "source": [
    "# 子图"
   ]
  },
  {
   "cell_type": "code",
   "execution_count": null,
   "metadata": {},
   "outputs": [],
   "source": [
    "import plotly.graph_objs as go\n",
    "import numpy as np\n",
    "import pandas as pd"
   ]
  },
  {
   "cell_type": "markdown",
   "metadata": {},
   "source": [
    "## 方式一"
   ]
  },
  {
   "cell_type": "markdown",
   "metadata": {},
   "source": [
    "### 普通"
   ]
  },
  {
   "cell_type": "code",
   "execution_count": null,
   "metadata": {},
   "outputs": [],
   "source": [
    "\n",
    "from plotly.subplots import make_subplots\n",
    "\n",
    "trace0 = go.Scatter(x=[1, 2, 3, 4, 5], y=[1, 2, 3, 4, 5])\n",
    "trace1 = go.Scatter(x=[2, 3, 4, 5, 6], y=[2, 3, 4, 5, 6])\n",
    "\n",
    "fig = make_subplots(rows=2,  # 将画布分为两行\n",
    "                    cols=2,  # 将画布分为两列\n",
    "                    subplot_titles=[\"trace0的标题\", \n",
    "                                    \"trace1的标题\"],  # 子图的标题\n",
    "                    x_title=\"x轴标题\",\n",
    "                    y_title=\"y轴标题\"\n",
    "                   )\n",
    "# 添加轨迹\n",
    "fig.append_trace(trace0, 1, 1)  # 将trace0添加到第一行第一列的位置\n",
    "fig.append_trace(trace1, 1, 2)  # 将trace1添加到第一行第二列的位置\n",
    "fig"
   ]
  },
  {
   "cell_type": "markdown",
   "metadata": {},
   "source": [
    "### 加皮肤"
   ]
  },
  {
   "cell_type": "code",
   "execution_count": null,
   "metadata": {},
   "outputs": [],
   "source": [
    "trace0 = go.Scatter(x=[1, 2, 3, 4, 5], y=[1, 2, 3, 4, 5])\n",
    "trace1 = go.Scatter(x=[2, 3, 4, 5, 6], y=[2, 3, 4, 5, 6])\n",
    "\n",
    "\n",
    "fig = make_subplots(rows=2,  \n",
    "                    cols=2,  \n",
    "                    subplot_titles=[\"trace0的标题\", \n",
    "                                    \"trace1的标题\"], \n",
    "                   )\n",
    "fig.append_trace(trace0, 1, 1)  \n",
    "fig.append_trace(trace1, 1, 2)  \n",
    "# 创建了四个子图，自动就会有四个坐标轴。\n",
    "# 每个轨迹占一个，因此这种情况我们是不需要在轨迹里面通过xaxis和yaxis来指定到底使用哪一个坐标轴的，因为已经分配好了\n",
    "fig[\"layout\"][\"xaxis\"].update({\"title\": \"trace0的x轴\", \"titlefont\": {\"color\": \"red\"}})\n",
    "fig[\"layout\"][\"yaxis\"].update({\"title\": \"trace0的y轴\", \"titlefont\": {\"color\": \"red\"}})\n",
    "fig[\"layout\"][\"xaxis2\"].update({\"title\": \"trace1的x轴\", \"titlefont\": {\"color\": \"green\"}})\n",
    "fig[\"layout\"][\"yaxis2\"].update({\"title\": \"trace1的y轴\", \"titlefont\": {\"color\": \"green\"}})\n",
    "\n",
    "\n",
    "fig[\"layout\"][\"template\"] = \"plotly_dark\"\n",
    "fig"
   ]
  },
  {
   "cell_type": "markdown",
   "metadata": {},
   "source": [
    "## 方式二"
   ]
  },
  {
   "cell_type": "code",
   "execution_count": null,
   "metadata": {},
   "outputs": [],
   "source": [
    "trace0 = go.Scatter(x=[1, 2, 3, 4, 5], y=[1, 2, 3, 4, 5])\n",
    "trace1 = go.Scatter(x=[2, 3, 4, 5, 6], y=[2, 3, 4, 5, 6], xaxis=\"x2\", yaxis=\"y2\")\n",
    "\n",
    "fig = go.Figure(data=[trace0, trace1],\n",
    "                layout={\"xaxis\": {\"domain\": [0, 0.6]},  # 指定第一幅图的范围是0到百分之60\n",
    "                        \"xaxis2\": {\"domain\": [0.7, 1]},  # 第二幅图的范围是百分之70到百分之百\n",
    "                        \n",
    "                        # 这个参数可能有些费解，它是指定y轴位置的，如果是通过\"side\": \"right\"的话，那么这个轴会在第一幅图的右边\n",
    "                        # 通过\"anchor\": \"x2\"，那么y轴就是像现在这样出现在第二幅图的左边。\n",
    "                        \"yaxis2\": {\"anchor\": \"x2\"}  \n",
    "                       }   \n",
    "               )\n",
    "\n",
    "fig"
   ]
  },
  {
   "cell_type": "markdown",
   "metadata": {},
   "source": [
    "### 小图"
   ]
  },
  {
   "cell_type": "code",
   "execution_count": null,
   "metadata": {},
   "outputs": [],
   "source": [
    "trace0 = go.Scatter(x=[1, 2, 3, 4, 5], y=[1, 2, 3, 4, 5])\n",
    "trace1 = go.Scatter(x=[2, 3, 4, 5, 6], y=[2, 3, 4, 5, 6], xaxis=\"x2\", yaxis=\"y2\")\n",
    "\n",
    "fig = go.Figure(data=[trace0, trace1],\n",
    "                layout={# xaxis不指定，则默认是占据全部\n",
    "                        # 我们只指定xaxis2和yaxis2\n",
    "                        # 我们之前好像在xaxis里面没有指定anchor，那是因为当时x轴就是在底部，或者说y轴占据了整个垂直方向\n",
    "                        # 但是现在不一样了，我们还要指定y轴的范围\n",
    "                        \"xaxis2\": {\"domain\": [0.6, 0.95], \"anchor\": \"y2\"},  \n",
    "                        \"yaxis2\": {\"domain\": [0.1, 0.4], \"anchor\": \"x2\"}  \n",
    "                       }   \n",
    "               )\n",
    "\n",
    "fig"
   ]
  }
 ],
 "metadata": {
  "kernelspec": {
   "display_name": "Python 3",
   "language": "python",
   "name": "python3"
  },
  "language_info": {
   "codemirror_mode": {
    "name": "ipython",
    "version": 3
   },
   "file_extension": ".py",
   "mimetype": "text/x-python",
   "name": "python",
   "nbconvert_exporter": "python",
   "pygments_lexer": "ipython3",
   "version": "3.11.6"
  }
 },
 "nbformat": 4,
 "nbformat_minor": 2
}
