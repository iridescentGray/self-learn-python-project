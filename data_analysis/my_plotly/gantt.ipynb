{
 "cells": [
  {
   "cell_type": "markdown",
   "metadata": {},
   "source": [
    "# 甘特图\n",
    "甘特图又称横道图，是用来显示项目进度等与时间相关的数据的。直接看个栗子就很好理解了：\n",
    "\n",
    "\n"
   ]
  },
  {
   "cell_type": "code",
   "execution_count": null,
   "metadata": {},
   "outputs": [],
   "source": [
    "import plotly.graph_objs as go\n",
    "import plotly.figure_factory as ff\n",
    "import numpy as np\n",
    "import pandas as pd"
   ]
  },
  {
   "cell_type": "code",
   "execution_count": null,
   "metadata": {},
   "outputs": [],
   "source": [
    "# 查看甘特图帮助文档\n",
    "help(ff.create_gantt)"
   ]
  },
  {
   "cell_type": "markdown",
   "metadata": {},
   "source": [
    "## gantt的基础参数\n",
    "与import plotly.graph_objs as go 中的图不同的是：\n",
    "1. 调整画布属性不通过layout={}指定,而是作为参数直接传递\n",
    "2. 无需手动创建画布,create_gantt方法返回的就是一个画布"
   ]
  },
  {
   "cell_type": "markdown",
   "metadata": {},
   "source": [
    "### 简单图"
   ]
  },
  {
   "cell_type": "code",
   "execution_count": null,
   "metadata": {},
   "outputs": [],
   "source": [
    "import plotly.figure_factory as ff\n",
    "\n",
    "tasks = [\n",
    "    {\"Task\": \"任务A\", \"Start\": \"2018-1-1\", \"Finish\": \"2018-3-1\"},\n",
    "    {\"Task\": \"任务B\", \"Start\": \"2018-2-1\", \"Finish\": \"2018-5-1\"},\n",
    "    {\"Task\": \"任务C\", \"Start\": \"2018-2-1\", \"Finish\": \"2018-6-1\"},\n",
    "    {\"Task\": \"任务D\", \"Start\": \"2018-4-1\", \"Finish\": \"2018-8-1\"},\n",
    "    {\"Task\": \"任务E\", \"Start\": \"2018-8-1\", \"Finish\": \"2019-1-1\"}\n",
    "]\n",
    "# 数据格式要求:外层列表，内层字典\n",
    "fig = ff.create_gantt(tasks, title=\"这是甘特图\")\n",
    "fig"
   ]
  },
  {
   "cell_type": "markdown",
   "metadata": {},
   "source": [
    "### 用DataFrame创建甘特图"
   ]
  },
  {
   "cell_type": "code",
   "execution_count": null,
   "metadata": {},
   "outputs": [],
   "source": [
    "df = pd.DataFrame({\"Task\": [\"任务A\", \"任务B\", \"任务C\", \"任务D\",\"任务E\"],\n",
    "                   \"Start\": [\"2018-1-1\", \"2018-2-1\", \"2018-2-1\", \"2018-4-1\", \"2018-8-1\"],\n",
    "                   \"Finish\": [\"2018-3-1\", \"2018-5-1\", \"2018-6-1\", \"2018-8-1\", \"2019-1-1\"],\n",
    "                   \"Complete\": [10, 80, 80, 76, 100]\n",
    "                  })\n",
    "\n",
    "# 设置index_col=\"Complete\"：进度相同的条就会显示一样的颜色\n",
    "# show_colorbar=True：展示颜色标记\n",
    "fig = ff.create_gantt(df, index_col=\"Complete\", show_colorbar=True)\n",
    "traces = fig.data # data就是轨迹\n",
    "fig = go.Figure(data=traces, \n",
    "                layout={\"template\": \"plotly_dark\", \n",
    "                        \"title\": \"这是我们自己创建的画布上面的甘特图\"})  # 此时就可以像之前一样指定属性了\n",
    "fig"
   ]
  },
  {
   "cell_type": "markdown",
   "metadata": {},
   "source": [
    "### 设置甘特图颜色"
   ]
  },
  {
   "cell_type": "code",
   "execution_count": null,
   "metadata": {},
   "outputs": [],
   "source": [
    "df = pd.DataFrame({\"Task\": [\"任务A\", \"任务B\", \"任务C\", \"任务D\",\"任务E\"],\n",
    "                   \"Start\": [\"2018-1-1\", \"2018-2-1\", \"2018-2-1\", \"2018-4-1\", \"2018-8-1\"],\n",
    "                   \"Finish\": [\"2018-3-1\", \"2018-5-1\", \"2018-6-1\", \"2018-8-1\", \"2019-1-1\"],\n",
    "                   \"Complete\": [\"干了一小半\", \"干了一半\", \"干了一半\", \"干了一大半\", \"全干完了\"]\n",
    "                  })\n",
    "colors = {\n",
    "    \"干了一小半\": \"rgb(125, 135, 144)\",\n",
    "    \"干了一半\": \"rgb(187, 20, 168)\",\n",
    "    \"干了一大半\": \"rgb(14, 199, 250)\",\n",
    "    \"全干完了\": \"rgb(250, 1, 144)\"\n",
    "}\n",
    "\n",
    "fig = ff.create_gantt(df, index_col=\"Complete\", show_colorbar=True, colors=colors)  \n",
    "traces = fig.data \n",
    "fig = go.Figure(data=traces, \n",
    "                layout={\"template\": \"plotly_dark\", \n",
    "                        \"title\": \"这是我们自己创建的画布上面的甘特图\"})  \n",
    "fig"
   ]
  },
  {
   "cell_type": "markdown",
   "metadata": {},
   "source": [
    "## 情景\n",
    "\n",
    "各种使用场景/遇到的问题"
   ]
  }
 ],
 "metadata": {
  "kernelspec": {
   "display_name": "Python 3",
   "language": "python",
   "name": "python3"
  },
  "language_info": {
   "codemirror_mode": {
    "name": "ipython",
    "version": 3
   },
   "file_extension": ".py",
   "mimetype": "text/x-python",
   "name": "python",
   "nbconvert_exporter": "python",
   "pygments_lexer": "ipython3",
   "version": "3.11.6"
  }
 },
 "nbformat": 4,
 "nbformat_minor": 2
}
