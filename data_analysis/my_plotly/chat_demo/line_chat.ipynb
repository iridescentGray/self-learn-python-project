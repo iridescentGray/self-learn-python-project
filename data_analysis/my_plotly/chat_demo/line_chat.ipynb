{
 "cells": [
  {
   "cell_type": "markdown",
   "metadata": {},
   "source": [
    "# 折线图\n",
    "\n",
    "折线图常用来表示数值随连续时间间隔或有序类别的变化\n",
    "\n",
    "x 轴通常用作连续时间间隔或有序类别（比如阶段1、阶段2、阶段3）。y 轴用于量化的数据，如果为负值则绘制于 y 轴下方。连线用于连接两个相邻的数据点"
   ]
  },
  {
   "cell_type": "code",
   "execution_count": null,
   "metadata": {},
   "outputs": [],
   "source": [
    "import plotly.graph_objs as go\n",
    "import numpy as np\n",
    "import pandas as pd"
   ]
  },
  {
   "cell_type": "code",
   "execution_count": null,
   "metadata": {},
   "outputs": [],
   "source": [
    "# 查看 折线图帮助文档\n",
    "# 折线图和散点图都使用Scatte绘制,区别在于mode：轨迹的样式,这个参数\n",
    "help(go.Scatter)"
   ]
  },
  {
   "cell_type": "markdown",
   "metadata": {},
   "source": [
    "## Scatter的参数\n",
    "* x:x 轴的坐标\n",
    "* y: y 轴的坐标\n",
    "* name:轨迹(图表)的名称，就是显示在画布右上方的那个\n",
    "* mode:轨迹的样式\n",
    "  * markers 纯散点\n",
    "  * lines 线段(默认)\n",
    "  * markers+lines 散点加上线段"
   ]
  },
  {
   "cell_type": "markdown",
   "metadata": {},
   "source": [
    "### 简单图"
   ]
  },
  {
   "cell_type": "code",
   "execution_count": null,
   "metadata": {},
   "outputs": [],
   "source": [
    "\n",
    "trace0 = go.Scatter(\n",
    "    x= pd.date_range('2021-3-1', '2021-6-1', freq='W'),  \n",
    "    y= np.random.randint(1, 100, 20), \n",
    ")\n",
    "\n",
    "fig = go.Figure(data=[trace0], layout={\"title\": \"当前的患者人数\"})\n",
    "fig"
   ]
  },
  {
   "cell_type": "markdown",
   "metadata": {},
   "source": [
    "### 设置样式 marker"
   ]
  },
  {
   "cell_type": "code",
   "execution_count": null,
   "metadata": {},
   "outputs": [],
   "source": [
    "trace0 = go.Scatter(\n",
    "    x= pd.date_range('2021-3-1', '2021-6-1', freq='W'),  \n",
    "    y= np.random.randint(1, 100, 20), \n",
    "    line={\n",
    "        \"width\": 3,  \n",
    "        \"color\": \"rgba(255, 30, 186, 1)\",  \n",
    "        \"dash\": \"dot\"  # 指定为虚线\n",
    "    }\n",
    ")\n",
    "\n",
    "fig = go.Figure(data=[trace0], layout={\"title\": \"当前的患者人数\"})\n",
    "fig"
   ]
  },
  {
   "cell_type": "markdown",
   "metadata": {},
   "source": [
    "## 情景\n",
    "\n",
    "各种使用场景/遇到的问题"
   ]
  },
  {
   "cell_type": "markdown",
   "metadata": {},
   "source": [
    "### 线段不连续 -connectgaps \n",
    "\n",
    "如果数据并不是连续的，中间可能会出现断层，可以指定 connectgaps，把空的地方连起来，让直线更完整\n",
    "\n"
   ]
  },
  {
   "cell_type": "code",
   "execution_count": null,
   "metadata": {},
   "outputs": [],
   "source": [
    "x = np.array([1, 2, np.nan, 4, 5]) \n",
    "trace0_y = x * 3 + 1\n",
    "trace1_y = x * 3 + 2\n",
    "\n",
    "trace0 = go.Scatter(\n",
    "    x=x,  \n",
    "    y=trace0_y,\n",
    ")\n",
    "\n",
    "trace1 = go.Scatter(\n",
    "    x=x,\n",
    "    y=trace1_y,\n",
    "    connectgaps=True\n",
    ")\n",
    "\n",
    "fig = go.Figure(data=[trace0, trace1])\n",
    "fig"
   ]
  }
 ],
 "metadata": {
  "kernelspec": {
   "display_name": "Python 3",
   "language": "python",
   "name": "python3"
  },
  "language_info": {
   "codemirror_mode": {
    "name": "ipython",
    "version": 3
   },
   "file_extension": ".py",
   "mimetype": "text/x-python",
   "name": "python",
   "nbconvert_exporter": "python",
   "pygments_lexer": "ipython3",
   "version": "3.11.6"
  }
 },
 "nbformat": 4,
 "nbformat_minor": 2
}
