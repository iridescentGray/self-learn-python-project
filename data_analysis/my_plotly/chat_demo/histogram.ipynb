{
 "cells": [
  {
   "cell_type": "markdown",
   "metadata": {},
   "source": [
    "# 直方图\n",
    "直方图，又称质量分布图，用于表示数据的分布情况\n",
    "一般用横轴表示数据区间，纵轴表示分布情况，柱子越高，则落在该区间的数量越大。\n",
    "\n",
    "*  构建直方图\n",
    "1.  首先要确定 \"组距\"、对数值的范围进行分区，通俗的说即是划定有几根柱子（例如 0-100 分，每隔20分划一个区间，共5个区间）\n",
    "2.  接着，对落在每个区间的数值进行频次计算（如落在 80-100 分的 10 人，60-80 分的 20 人，以此类推）\n",
    "3.  最后，绘制矩形，高度由频数决定\n",
    "\n",
    "* 直方图与柱状图的区别\n",
    "1.  直方图反映数据分布情况，柱状图用于对数值进行比较。\n",
    "2.  从数据结构来说，柱状图需要 1 个分类变量，是离散的（如一班、二班、三班），因此柱子间有空隙。直方图的数据均为连续的数值变量（如成绩），因此柱子间是没有空隙的。"
   ]
  },
  {
   "cell_type": "code",
   "execution_count": null,
   "metadata": {},
   "outputs": [],
   "source": [
    "import plotly.graph_objs as go\n",
    "import numpy as np\n",
    "import pandas as pd"
   ]
  },
  {
   "cell_type": "code",
   "execution_count": null,
   "metadata": {},
   "outputs": [],
   "source": [
    "# 查看直方图帮助文档\n",
    "help(go.Histogram)"
   ]
  },
  {
   "cell_type": "markdown",
   "metadata": {},
   "source": [
    "## 直方图的参数\n",
    "* "
   ]
  },
  {
   "cell_type": "markdown",
   "metadata": {},
   "source": [
    "### 简单图\n",
    "\n",
    "生成1000个1到20的随机数，用直方图，查看这10000个数的分布情况(哪个数，分别有多少个)"
   ]
  },
  {
   "cell_type": "code",
   "execution_count": null,
   "metadata": {},
   "outputs": [],
   "source": [
    "x = np.random.randint(1, 20, 1000)  # 生成1000个1到20的随机数\n",
    "trace0 = go.Histogram(\n",
    "    x=x,\n",
    ")\n",
    "fig = go.Figure(data=[trace0], layout={\"title\": \"直方图\"})\n",
    "fig"
   ]
  },
  {
   "cell_type": "markdown",
   "metadata": {},
   "source": [
    "### histnorm -展示比例y轴"
   ]
  },
  {
   "cell_type": "code",
   "execution_count": null,
   "metadata": {},
   "outputs": [],
   "source": [
    "x = np.random.randint(1, 20, 1000)  # 生成1000个1到20的随机数\n",
    "trace0 = go.Histogram(\n",
    "    x=x,\n",
    "    histnorm=\"probability\"  # 指定histnorm为probability，那么y轴将不再显示数量而是显示比例\n",
    ")\n",
    "fig = go.Figure(data=[trace0], layout={\"title\": \"直方图\"})\n",
    "fig"
   ]
  },
  {
   "cell_type": "markdown",
   "metadata": {},
   "source": [
    "###  xaxis 坐标范围、间隔"
   ]
  },
  {
   "cell_type": "code",
   "execution_count": null,
   "metadata": {},
   "outputs": [],
   "source": [
    "x = np.random.randint(1, 20, 1000)  # 生成100个1到20的随机数\n",
    "\n",
    "trace0 = go.Histogram(\n",
    "    x=x\n",
    ")\n",
    "\n",
    "fig = go.Figure(data=[trace0], layout={\"title\": \"直方图\",\n",
    "                                       # range表示坐标范围，dtick表示相邻坐标之间的间隔\n",
    "                                       \"xaxis\": {\"dtick\": 10, \"range\": [1, 20]}  \n",
    "                                      })\n",
    "fig"
   ]
  },
  {
   "cell_type": "markdown",
   "metadata": {},
   "source": [
    "### 重叠直方图"
   ]
  },
  {
   "cell_type": "code",
   "execution_count": null,
   "metadata": {},
   "outputs": [],
   "source": [
    "x0 = np.random.randint(1, 20, 1000)\n",
    "x1 = np.random.randint(10, 30, 1000)\n",
    "trace0 = go.Histogram(\n",
    "    x=x0,\n",
    "    marker={\n",
    "        \"opacity\": 0.75\n",
    "    }\n",
    ")\n",
    "trace1 = go.Histogram(\n",
    "    x=x1,\n",
    "    marker={\n",
    "        \"opacity\": 0.75\n",
    "    }\n",
    ")\n",
    "fig = go.Figure(data=[trace0, trace1], layout={\"title\": \"重叠直方图\"\n",
    "                                              })\n",
    "fig"
   ]
  },
  {
   "cell_type": "markdown",
   "metadata": {},
   "source": [
    "#### layout.barmode=overlay"
   ]
  },
  {
   "cell_type": "code",
   "execution_count": null,
   "metadata": {},
   "outputs": [],
   "source": [
    "x0 = np.random.randint(1, 20, 1000)\n",
    "x1 = np.random.randint(10, 30, 1000)\n",
    "trace0 = go.Histogram(\n",
    "    x=x0,\n",
    "    marker={\n",
    "        \"opacity\": 0.75\n",
    "    }\n",
    ")\n",
    "trace1 = go.Histogram(\n",
    "    x=x1,\n",
    "    marker={\n",
    "        \"opacity\": 0.75\n",
    "    }\n",
    ")\n",
    "fig = go.Figure(data=[trace0, trace1], layout={\"title\": \"直方图\", \n",
    "                                               \"template\": \"plotly_dark\",\n",
    "                                               \"barmode\": \"overlay\"\n",
    "                                              })\n",
    "fig"
   ]
  },
  {
   "cell_type": "markdown",
   "metadata": {},
   "source": [
    "####  堆叠直方图 layout.barmode=stack"
   ]
  },
  {
   "cell_type": "code",
   "execution_count": null,
   "metadata": {},
   "outputs": [],
   "source": [
    "x0 = np.random.randn(1000) \n",
    "x1 = np.random.randn(1000)\n",
    "trace0 = go.Histogram(\n",
    "    x=x0,\n",
    "    histnorm=\"probability\",\n",
    "    marker={\n",
    "        \"opacity\": 0.75\n",
    "    }\n",
    ")\n",
    "trace1 = go.Histogram(\n",
    "    x=x1,\n",
    "    histnorm=\"probability\",\n",
    "    marker={\n",
    "        \"opacity\": 0.75\n",
    "    }\n",
    ")\n",
    "fig = go.Figure(data=[trace0, trace1], layout={\"title\": \"直方图\", \n",
    "                                               \"template\": \"plotly_dark\",\n",
    "                                               \"barmode\": \"stack\"\n",
    "                                              })\n",
    "fig                                           "
   ]
  },
  {
   "cell_type": "markdown",
   "metadata": {},
   "source": [
    "### cumulative 累计直方图\n",
    "第n+1个区间的样本数是第n-1个区间的样本数加上第n个区间的样本数。\n"
   ]
  },
  {
   "cell_type": "code",
   "execution_count": null,
   "metadata": {},
   "outputs": [],
   "source": [
    "x0 = np.random.randn(1000)\n",
    "trace0 = go.Histogram(\n",
    "    x=x0,\n",
    "    histnorm=\"probability\",\n",
    "    marker={\n",
    "        \"opacity\": 0.75\n",
    "    },\n",
    "    cumulative={\"enabled\": True}  # 指定 cumulative 即可\n",
    ")\n",
    "\n",
    "fig = go.Figure(data=[trace0], layout={\"title\": \"直方图\",\n",
    "                                       \"template\": \"plotly_dark\",\n",
    "                                       })\n",
    "fig"
   ]
  },
  {
   "cell_type": "markdown",
   "metadata": {},
   "source": [
    "## 情景\n",
    "\n",
    "各种使用场景/遇到的问题"
   ]
  }
 ],
 "metadata": {
  "kernelspec": {
   "display_name": "Python 3",
   "language": "python",
   "name": "python3"
  },
  "language_info": {
   "codemirror_mode": {
    "name": "ipython",
    "version": 3
   },
   "file_extension": ".py",
   "mimetype": "text/x-python",
   "name": "python",
   "nbconvert_exporter": "python",
   "pygments_lexer": "ipython3",
   "version": "3.11.6"
  }
 },
 "nbformat": 4,
 "nbformat_minor": 2
}
