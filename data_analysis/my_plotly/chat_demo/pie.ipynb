{
 "cells": [
  {
   "cell_type": "markdown",
   "metadata": {},
   "source": [
    "# 饼图\n",
    "饼图最显著的功能在于表现 \"占比\"。\n",
    "\n",
    "从数据来看，饼图一般需要一个分类数据字段、一个连续数据字段。值得注意的是，分类字段的数据，在图表使用的语境下，应当构成一个整体（例如一班、二班、三班，构成了整个高一年级），而不能是独立、无关的。"
   ]
  },
  {
   "cell_type": "code",
   "execution_count": null,
   "metadata": {},
   "outputs": [],
   "source": [
    "import plotly.graph_objs as go\n",
    "import plotly.figure_factory as ff\n",
    "import numpy as np\n",
    "import pandas as pd"
   ]
  },
  {
   "cell_type": "code",
   "execution_count": null,
   "metadata": {},
   "outputs": [],
   "source": [
    "# 查看饼图帮助文档\n",
    "help(go.Pie)"
   ]
  },
  {
   "cell_type": "markdown",
   "metadata": {},
   "source": [
    "## 饼图的参数\n"
   ]
  },
  {
   "cell_type": "markdown",
   "metadata": {},
   "source": [
    "### 简单图"
   ]
  },
  {
   "cell_type": "code",
   "execution_count": null,
   "metadata": {},
   "outputs": [],
   "source": [
    "trace0 = go.Pie(\n",
    "    labels= pd.date_range('2021-5-1', '2021-6-1', freq='W'), \n",
    "    values=[10, 25, 5, 35]\n",
    ")\n",
    "\n",
    "fig = go.Figure(data=[trace0], layout={\"title\": \"饼图\"\n",
    "                                      })\n",
    "fig"
   ]
  },
  {
   "cell_type": "markdown",
   "metadata": {},
   "source": [
    "### 环形饼图"
   ]
  },
  {
   "cell_type": "code",
   "execution_count": null,
   "metadata": {},
   "outputs": [],
   "source": [
    "trace0 = go.Pie(\n",
    "    labels= pd.date_range('2021-5-1', '2021-6-1', freq='W'), \n",
    "    values=[10, 25, 5, 35],\n",
    "    hole=0.7  # 从中心挖掉百分之70的部分\n",
    ")\n",
    "\n",
    "fig = go.Figure(data=[trace0], layout={\"title\": \"饼图\"\n",
    "                                      })\n",
    "fig"
   ]
  },
  {
   "cell_type": "markdown",
   "metadata": {},
   "source": [
    "### 旋转/突出/颜色/线条"
   ]
  },
  {
   "cell_type": "code",
   "execution_count": null,
   "metadata": {},
   "outputs": [],
   "source": [
    "trace0 = go.Pie(\n",
    "    labels= pd.date_range('2021-5-1', '2021-6-1', freq='W'), \n",
    "    values=[10, 25, 5, 35],\n",
    "    pull=[0, 0, 0, 0.1],  # 突出最后一个\n",
    "    rotation=20,  # 旋转30度\n",
    "    marker={\n",
    "        # 显然color就是饼图的颜色了，但是它和散点图不一样\n",
    "        # 散点图可以指定一种颜色来让所有的点都呈现相同的颜色，但是饼图的每一部分应该是不同的颜色，这才符合饼图这种图形的意义\n",
    "        # 所以我们要传入一个列表，因为我们数据有五个，那么我们要指定五种颜色。但是即便不指定五个、或者颜色重复也是可以的。\n",
    "        # 如果颜色不够，plotly会帮你补充，颜色多了，会只选列表的前五个\n",
    "        \"colors\": [\"yellow\", \"green\", \"cyan\", \"pink\"],  # 并且这里不叫color了，而是叫colors，因为多个颜色\n",
    "        \"line\": {\n",
    "            \"width\": 3,\n",
    "            \"color\": \"white\",  # 轮廓颜色，这里需要指定一种，整个饼图的轮廓的颜色是一样的\n",
    "        }\n",
    "    }\n",
    ")\n",
    "\n",
    "fig = go.Figure(data=[trace0], layout={\"title\": \"饼图\", \n",
    "                                        \"template\": \"plotly_dark\",\n",
    "                                      })\n",
    "fig"
   ]
  },
  {
   "cell_type": "markdown",
   "metadata": {},
   "source": [
    "### tozerox、toself"
   ]
  },
  {
   "cell_type": "code",
   "execution_count": null,
   "metadata": {},
   "outputs": [],
   "source": [
    "x = np.linspace(0, 2, 100)\n",
    "y0 = np.cos(x)\n",
    "y1 = np.sin(x)\n",
    "\n",
    "trace0 = go.Scatter(\n",
    "    x=x,\n",
    "    y=y0,\n",
    "    name=\"cos\",\n",
    "    mode=\"none\",  \n",
    "    fill=\"tozerox\"  # 和y轴围成的面积\n",
    ")\n",
    "trace1 = go.Scatter(\n",
    "    x=x,\n",
    "    y=y1,\n",
    "    name=\"sin\",\n",
    "    mode=\"none\",  \n",
    "    fill=\"toself\"  # 和自身围成的面积\n",
    ")\n",
    "fig = go.Figure(data=[trace0, trace1], layout={\"title\": \"面积\"})\n",
    "fig"
   ]
  },
  {
   "cell_type": "markdown",
   "metadata": {},
   "source": [
    "### tonexty"
   ]
  },
  {
   "cell_type": "code",
   "execution_count": null,
   "metadata": {},
   "outputs": [],
   "source": [
    "x = np.linspace(0, 2, 100)\n",
    "y0 = np.cos(x)\n",
    "y1 = np.sin(x)\n",
    "\n",
    "trace0 = go.Scatter(\n",
    "    x=x,\n",
    "    y=y0,\n",
    "    name=\"cos\"  # 不指定 fill，也就是不填充\n",
    ")\n",
    "trace1 = go.Scatter(\n",
    "    x=x,\n",
    "    y=y1,\n",
    "    name=\"sin\",\n",
    "    mode=\"none\",\n",
    "    fill=\"tonexty\"  # 和另一条轨迹y轴围成的面积\n",
    ")\n",
    "fig = go.Figure(data=[trace0, trace1], layout={\"title\": \"面积\", \"template\": \"plotly_dark\"})\n",
    "fig"
   ]
  },
  {
   "cell_type": "code",
   "execution_count": null,
   "metadata": {},
   "outputs": [],
   "source": [
    "x = np.array([1, 3, 2, 3, 5])\n",
    "y0 = x + 1\n",
    "y1 = x + 2\n",
    "\n",
    "trace0 = go.Scatter(\n",
    "    x=x,\n",
    "    y=y0,\n",
    "    name=\"y0\",\n",
    "    fill=\"tonexty\"\n",
    ")\n",
    "trace1 = go.Scatter(\n",
    "    x=x,\n",
    "    y=y1,\n",
    "    name=\"y1\",\n",
    "    fill=\"tonexty\"\n",
    ")\n",
    "\n",
    "fig = go.Figure(data=[trace0, trace1], layout={\"title\": \"面积\", \"template\": \"plotly_dark\"})\n",
    "fig"
   ]
  },
  {
   "cell_type": "markdown",
   "metadata": {},
   "source": [
    "## 情景\n",
    "\n",
    "各种使用场景/遇到的问题"
   ]
  }
 ],
 "metadata": {
  "kernelspec": {
   "display_name": "Python 3",
   "language": "python",
   "name": "python3"
  },
  "language_info": {
   "codemirror_mode": {
    "name": "ipython",
    "version": 3
   },
   "file_extension": ".py",
   "mimetype": "text/x-python",
   "name": "python",
   "nbconvert_exporter": "python",
   "pygments_lexer": "ipython3",
   "version": "3.11.6"
  }
 },
 "nbformat": 4,
 "nbformat_minor": 2
}
