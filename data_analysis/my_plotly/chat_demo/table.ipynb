{
 "cells": [
  {
   "cell_type": "markdown",
   "metadata": {},
   "source": [
    "# 表格\n",
    "\n",
    "常见二维表绘制  \n",
    "\n"
   ]
  },
  {
   "cell_type": "code",
   "execution_count": null,
   "metadata": {},
   "outputs": [],
   "source": [
    "import plotly.graph_objs as go\n",
    "import plotly.figure_factory as ff\n",
    "import numpy as np\n",
    "import pandas as pd"
   ]
  },
  {
   "cell_type": "code",
   "execution_count": null,
   "metadata": {},
   "outputs": [],
   "source": [
    "# 查看表格帮助文档\n",
    "help(ff.create_table)"
   ]
  },
  {
   "cell_type": "markdown",
   "metadata": {},
   "source": [
    "## 表格的参数"
   ]
  },
  {
   "cell_type": "markdown",
   "metadata": {},
   "source": [
    "### 简单图"
   ]
  },
  {
   "cell_type": "code",
   "execution_count": null,
   "metadata": {},
   "outputs": [],
   "source": [
    "import plotly.figure_factory as ff\n",
    "\n",
    "data= [\n",
    "    [\"姓名\", \"年龄\", \"性别\"],\n",
    "    [\"a\", 17, \"女\"],\n",
    "    [\"b\", 16, \"女\"],\n",
    "    [\"c\", 18, \"女\"],\n",
    "    [\"d\", 19, \"女\"],\n",
    "    [\"5\", 16, \"女\"],\n",
    "]\n",
    "\n",
    "fig = ff.create_table(data)\n",
    "fig"
   ]
  },
  {
   "cell_type": "markdown",
   "metadata": {},
   "source": [
    "### 表格超链接"
   ]
  },
  {
   "cell_type": "code",
   "execution_count": null,
   "metadata": {},
   "outputs": [],
   "source": [
    "import plotly.figure_factory as ff\n",
    "\n",
    "data= [\n",
    "    [\"姓名\", \"年龄\", \"性别\"],\n",
    "    ['<a href=\"http://www.baidu.com\">link</a>', 17, \"女\"],\n",
    "    [\"b\", 16, \"女\"],\n",
    "    [\"c\", 18, \"女\"],\n",
    "    [\"d\", 19, \"女\"],\n",
    "    [\"5\", 16, \"女\"],\n",
    "]\n",
    "\n",
    "fig = ff.create_table(data)\n",
    "fig"
   ]
  },
  {
   "cell_type": "markdown",
   "metadata": {},
   "source": [
    "### 用DataFrame创建表格"
   ]
  },
  {
   "cell_type": "code",
   "execution_count": null,
   "metadata": {},
   "outputs": [],
   "source": [
    "df = pd.DataFrame(index=pd.date_range('2021-5-1', '2021-6-1', freq='W'),\n",
    "                  data=np.random.randint(1, 100, (5, 4)), \n",
    "                  columns=[\"语文\", \"数学\", \"英语\", \"英语\"])\n",
    "\n",
    "fig = ff.create_table(df, index=True)\n",
    "\n",
    "fig"
   ]
  },
  {
   "cell_type": "markdown",
   "metadata": {},
   "source": [
    "## 情景\n",
    "\n",
    "各种使用场景/遇到的问题"
   ]
  }
 ],
 "metadata": {
  "kernelspec": {
   "display_name": "Python 3",
   "language": "python",
   "name": "python3"
  },
  "language_info": {
   "codemirror_mode": {
    "name": "ipython",
    "version": 3
   },
   "file_extension": ".py",
   "mimetype": "text/x-python",
   "name": "python",
   "nbconvert_exporter": "python",
   "pygments_lexer": "ipython3",
   "version": "3.11.6"
  }
 },
 "nbformat": 4,
 "nbformat_minor": 2
}
