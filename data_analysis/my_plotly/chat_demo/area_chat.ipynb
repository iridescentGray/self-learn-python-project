{
 "cells": [
  {
   "cell_type": "markdown",
   "metadata": {},
   "source": [
    "# 面积图\n",
    "面积图，或称区域图，是一种随有序变量的变化，反映数值变化的统计图表，原理与折线图相似。而面积图的特点在于，折线与自变量坐标轴之间的区域，会由颜色或者纹理填充。\n",
    "\n",
    "* 绘制面积图依旧使用 Scatter\n",
    "* 绘制面积图关键在于Scatter的一个fill参数。\n",
    "\n"
   ]
  },
  {
   "cell_type": "code",
   "execution_count": null,
   "metadata": {},
   "outputs": [],
   "source": [
    "import plotly.graph_objs as go\n",
    "import plotly.figure_factory as ff\n",
    "import numpy as np\n",
    "import pandas as pd"
   ]
  },
  {
   "cell_type": "code",
   "execution_count": null,
   "metadata": {},
   "outputs": [],
   "source": [
    "# 查看面积图帮助文档\n",
    "help(go.Scatter)"
   ]
  },
  {
   "cell_type": "markdown",
   "metadata": {},
   "source": [
    "## 面积图的参数\n",
    "* fill 面积图的核心\n",
    "    1. none:不绘制面积\n",
    "    2. tozeroy:与x轴围成的面积\n",
    "    3. tozerox:与y轴围成的面积\n",
    "    4. toself:与自身围成的面积。\n",
    "    5. tonext:和下一条线围成的面积\n",
    "    6. tonexty:和下一条线在x轴上围成的面积\n",
    "    7. tonextx:和下一条线在y轴上围成的面积"
   ]
  },
  {
   "cell_type": "markdown",
   "metadata": {},
   "source": [
    "### 简单图"
   ]
  },
  {
   "cell_type": "code",
   "execution_count": null,
   "metadata": {},
   "outputs": [],
   "source": [
    "x = np.linspace(0, 2, 100)\n",
    "y0 = np.cos(x)\n",
    "y1 = np.sin(x)\n",
    "\n",
    "trace0 = go.Scatter(\n",
    "    x=x,\n",
    "    y=y0,\n",
    "    name=\"cos\",\n",
    "    mode=\"markers\",  #散点\n",
    "    fill=\"tozeroy\"\n",
    ")\n",
    "trace1 = go.Scatter(\n",
    "    x=x,\n",
    "    y=y1,\n",
    "    name=\"sin\",\n",
    "    mode=\"none\",  # 隐藏线段\n",
    "    fill=\"tozeroy\"\n",
    ")\n",
    "fig = go.Figure(data=[trace0, trace1], layout={\"title\": \"面积\"})\n",
    "fig"
   ]
  },
  {
   "cell_type": "markdown",
   "metadata": {},
   "source": [
    "### tozerox、toself"
   ]
  },
  {
   "cell_type": "code",
   "execution_count": null,
   "metadata": {},
   "outputs": [],
   "source": [
    "x = np.linspace(0, 2, 100)\n",
    "y0 = np.cos(x)\n",
    "y1 = np.sin(x)\n",
    "\n",
    "trace0 = go.Scatter(\n",
    "    x=x,\n",
    "    y=y0,\n",
    "    name=\"cos\",\n",
    "    mode=\"none\",  \n",
    "    fill=\"tozerox\"  # 和y轴围成的面积\n",
    ")\n",
    "trace1 = go.Scatter(\n",
    "    x=x,\n",
    "    y=y1,\n",
    "    name=\"sin\",\n",
    "    mode=\"none\",  \n",
    "    fill=\"toself\"  # 和自身围成的面积\n",
    ")\n",
    "fig = go.Figure(data=[trace0, trace1], layout={\"title\": \"面积\"})\n",
    "fig"
   ]
  },
  {
   "cell_type": "markdown",
   "metadata": {},
   "source": [
    "### tonexty"
   ]
  },
  {
   "cell_type": "code",
   "execution_count": null,
   "metadata": {},
   "outputs": [],
   "source": [
    "x = np.linspace(0, 2, 100)\n",
    "y0 = np.cos(x)\n",
    "y1 = np.sin(x)\n",
    "\n",
    "trace0 = go.Scatter(\n",
    "    x=x,\n",
    "    y=y0,\n",
    "    name=\"cos\"  # 不指定 fill，也就是不填充\n",
    ")\n",
    "trace1 = go.Scatter(\n",
    "    x=x,\n",
    "    y=y1,\n",
    "    name=\"sin\",\n",
    "    mode=\"none\",\n",
    "    fill=\"tonexty\"  # 和另一条轨迹y轴围成的面积\n",
    ")\n",
    "fig = go.Figure(data=[trace0, trace1], layout={\"title\": \"面积\", \"template\": \"plotly_dark\"})\n",
    "fig"
   ]
  },
  {
   "cell_type": "code",
   "execution_count": null,
   "metadata": {},
   "outputs": [],
   "source": [
    "x = np.array([1, 3, 2, 3, 5])\n",
    "y0 = x + 1\n",
    "y1 = x + 2\n",
    "\n",
    "trace0 = go.Scatter(\n",
    "    x=x,\n",
    "    y=y0,\n",
    "    name=\"y0\",\n",
    "    fill=\"tonexty\"\n",
    ")\n",
    "trace1 = go.Scatter(\n",
    "    x=x,\n",
    "    y=y1,\n",
    "    name=\"y1\",\n",
    "    fill=\"tonexty\"\n",
    ")\n",
    "\n",
    "fig = go.Figure(data=[trace0, trace1], layout={\"title\": \"面积\", \"template\": \"plotly_dark\"})\n",
    "fig"
   ]
  },
  {
   "cell_type": "markdown",
   "metadata": {},
   "source": [
    "## 情景\n",
    "\n",
    "各种使用场景/遇到的问题"
   ]
  }
 ],
 "metadata": {
  "kernelspec": {
   "display_name": "Python 3",
   "language": "python",
   "name": "python3"
  },
  "language_info": {
   "codemirror_mode": {
    "name": "ipython",
    "version": 3
   },
   "file_extension": ".py",
   "mimetype": "text/x-python",
   "name": "python",
   "nbconvert_exporter": "python",
   "pygments_lexer": "ipython3",
   "version": "3.11.6"
  }
 },
 "nbformat": 4,
 "nbformat_minor": 2
}
