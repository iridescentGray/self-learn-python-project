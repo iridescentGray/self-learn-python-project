{
 "cells": [
  {
   "cell_type": "markdown",
   "metadata": {},
   "source": [
    "# 柱状图\n",
    "柱状图\n"
   ]
  },
  {
   "cell_type": "code",
   "execution_count": null,
   "metadata": {},
   "outputs": [],
   "source": [
    "import plotly.graph_objs as go\n",
    "import numpy as np\n",
    "import pandas as pd"
   ]
  },
  {
   "cell_type": "code",
   "execution_count": null,
   "metadata": {},
   "outputs": [],
   "source": [
    "# 查看柱状图帮助文档\n",
    "help(go.Bar)"
   ]
  },
  {
   "cell_type": "markdown",
   "metadata": {},
   "source": [
    "## Bar的基础参数\n",
    "* x:x 轴的坐标\n",
    "* y: y 轴的坐标\n",
    "* name:轨迹(图表)的名称"
   ]
  },
  {
   "cell_type": "markdown",
   "metadata": {},
   "source": [
    "### 简单图"
   ]
  },
  {
   "cell_type": "code",
   "execution_count": null,
   "metadata": {},
   "outputs": [],
   "source": [
    "\n",
    "trace0 = go.Bar(\n",
    "    x=pd.date_range('2021-5-1', '2021-6-1', freq='W'), \n",
    "    y=[17, 400, 16, 17],\n",
    ")\n",
    "fig = go.Figure(data=[trace0])\n",
    "fig"
   ]
  },
  {
   "cell_type": "markdown",
   "metadata": {},
   "source": [
    "### 多个柱状图"
   ]
  },
  {
   "cell_type": "code",
   "execution_count": null,
   "metadata": {},
   "outputs": [],
   "source": [
    "trace0 = go.Bar(\n",
    "    x=pd.date_range('2021-5-1', '2021-6-1', freq='W'), \n",
    "    y=[17, 100, 16, 17],\n",
    "    name=\"bar1\"\n",
    ")\n",
    "\n",
    "trace1 = go.Bar(\n",
    "     x=pd.date_range('2021-5-1', '2021-6-1', freq='W'), \n",
    "    y=[86, 90, 96, 87],\n",
    "    name=\"bar2\"\n",
    ")\n",
    "\n",
    "fig = go.Figure(data=[trace0, trace1])\n",
    "fig"
   ]
  },
  {
   "cell_type": "markdown",
   "metadata": {},
   "source": [
    "### 层叠柱状图 barmode=stack"
   ]
  },
  {
   "cell_type": "code",
   "execution_count": null,
   "metadata": {},
   "outputs": [],
   "source": [
    "trace0 = go.Bar(\n",
    "    x=pd.date_range('2021-5-1', '2021-6-1', freq='W'), \n",
    "    y=[17, 100, 16, 17],\n",
    "    name=\"bar1\"\n",
    ")\n",
    "\n",
    "trace1 = go.Bar(\n",
    "    x=pd.date_range('2021-5-1', '2021-6-1', freq='W'), \n",
    "    y=[86, 90, 96, 87],\n",
    "    name=\"bar2\"\n",
    ")\n",
    "\n",
    "# 指定 layout 里面的 barmode 为 stack，会将柱状图堆叠在一起\n",
    "# 我们看到又多了一个 barmode，所以我们说可调节的属性非常多，但是不同的属性适用于不同的轨迹，我们需要哪个就设置哪个即可。\n",
    "fig = go.Figure(data=[trace0, trace1], layout={\"barmode\": \"stack\"})\n",
    "fig"
   ]
  },
  {
   "cell_type": "markdown",
   "metadata": {},
   "source": [
    "### 水平柱状图"
   ]
  },
  {
   "cell_type": "code",
   "execution_count": null,
   "metadata": {},
   "outputs": [],
   "source": [
    "trace0 = go.Bar(\n",
    "    y=pd.date_range('2021-5-1', '2021-6-1', freq='W'), \n",
    "    x=[17, 100, 16, 17],\n",
    "    name=\"bar1\",\n",
    "    # 指定为水平方向即可\n",
    "    orientation=\"h\"\n",
    ")\n",
    "\n",
    "trace1 = go.Bar(\n",
    "    y=pd.date_range('2021-5-1', '2021-6-1', freq='W'), \n",
    "    x=[86, 90, 96, 87],\n",
    "    name=\"bar2\",\n",
    "    # 指定为水平方向即可\n",
    "    orientation=\"h\"\n",
    ")\n",
    "fig = go.Figure(data=[trace0, trace1], layout={\"template\": \"plotly_dark\"})\n",
    "fig"
   ]
  },
  {
   "cell_type": "markdown",
   "metadata": {},
   "source": [
    "### 设置样式 marker"
   ]
  },
  {
   "cell_type": "code",
   "execution_count": null,
   "metadata": {},
   "outputs": [],
   "source": [
    "trace0 = go.Bar(\n",
    "    x=pd.date_range('2021-5-1', '2021-6-1', freq='W'), \n",
    "    y=[17, 100, 16, 17],\n",
    "    name=\"bar1\",\n",
    "    marker={\n",
    "        # 除了rgba，还可以通过颜色的名称指定\n",
    "        \"color\": \"pink\",\n",
    "        \"opacity\": 1,  # 指定透明度，当然这里指定透明度的方式，同样适用于Scatter，这里为 1 相当于不指定\n",
    "        \"line\": {\n",
    "            \"width\": 3,  # 轮廓的宽度\n",
    "            \"color\": \"cyan\",  # 轮廓的颜色\n",
    "        },\n",
    "    }\n",
    ")\n",
    "\n",
    "trace1 = go.Bar(\n",
    "    x=pd.date_range('2021-5-1', '2021-6-1', freq='W'), \n",
    "    y=[86, 90, 96, 87],\n",
    "    name=\"bar2\",\n",
    "    marker={\n",
    "        \"color\": \"green\"\n",
    "    }\n",
    ")\n",
    "\n",
    "fig = go.Figure(data=[trace0, trace1], layout={\"template\": \"plotly_dark\"})\n",
    "fig"
   ]
  },
  {
   "cell_type": "markdown",
   "metadata": {},
   "source": [
    "## 情景\n",
    "\n",
    "各种使用场景/遇到的问题"
   ]
  }
 ],
 "metadata": {
  "kernelspec": {
   "display_name": "Python 3",
   "language": "python",
   "name": "python3"
  },
  "language_info": {
   "codemirror_mode": {
    "name": "ipython",
    "version": 3
   },
   "file_extension": ".py",
   "mimetype": "text/x-python",
   "name": "python",
   "nbconvert_exporter": "python",
   "pygments_lexer": "ipython3",
   "version": "3.11.6"
  }
 },
 "nbformat": 4,
 "nbformat_minor": 2
}
