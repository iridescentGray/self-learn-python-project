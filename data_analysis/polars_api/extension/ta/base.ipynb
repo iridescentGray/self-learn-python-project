{
 "cells": [
  {
   "cell_type": "code",
   "execution_count": null,
   "metadata": {},
   "outputs": [],
   "source": [
    "import polars as pl\n",
    "import polars_talib as plta"
   ]
  },
  {
   "cell_type": "markdown",
   "metadata": {},
   "source": [
    "# RSI"
   ]
  },
  {
   "cell_type": "code",
   "execution_count": null,
   "metadata": {},
   "outputs": [],
   "source": [
    "import polars as pl\n",
    "import numpy as np\n",
    "\n",
    "# 生成虚拟数据\n",
    "n_rows = 30\n",
    "dates = np.arange(np.datetime64('2023-01-01'), np.datetime64('2023-01-01') + np.timedelta64(n_rows, 'D')).astype(np.uint64) * 1e9\n",
    "opens = np.random.uniform(100, 200, n_rows)\n",
    "highs = np.maximum(opens, np.random.uniform(opens, opens + 20))\n",
    "lows = np.minimum(opens, np.random.uniform(opens - 20, opens))\n",
    "closes = np.random.uniform(lows, highs)\n",
    "volumes = np.random.uniform(1000, 10000, n_rows)\n",
    "\n",
    "data = {\n",
    "    \"date\": dates.astype(np.uint64),\n",
    "    \"open\": opens.astype(np.float64),\n",
    "    \"high\": highs.astype(np.float64),\n",
    "    \"low\": lows.astype(np.float64),\n",
    "    \"close\": closes.astype(np.float64),\n",
    "    \"volume\": volumes.astype(np.float64)\n",
    "}\n",
    "\n",
    "# 创建 Polars 数据框\n",
    "df = pl.DataFrame(data)\n",
    "\n",
    "df"
   ]
  },
  {
   "cell_type": "code",
   "execution_count": null,
   "metadata": {},
   "outputs": [],
   "source": [
    "df_with_rsi=df.with_columns(\n",
    "    pl.col(\"close\").ta.rsi().alias(\"rsi\"),\n",
    "\n",
    ")\n",
    "df_with_rsi"
   ]
  }
 ],
 "metadata": {
  "kernelspec": {
   "display_name": ".venv",
   "language": "python",
   "name": "python3"
  },
  "language_info": {
   "codemirror_mode": {
    "name": "ipython",
    "version": 3
   },
   "file_extension": ".py",
   "mimetype": "text/x-python",
   "name": "python",
   "nbconvert_exporter": "python",
   "pygments_lexer": "ipython3",
   "version": "3.12.5"
  }
 },
 "nbformat": 4,
 "nbformat_minor": 2
}
