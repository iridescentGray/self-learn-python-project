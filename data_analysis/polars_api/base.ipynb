{
 "cells": [
  {
   "cell_type": "markdown",
   "metadata": {},
   "source": [
    "# 创建 DataFrame\n"
   ]
  },
  {
   "cell_type": "code",
   "execution_count": 3,
   "metadata": {},
   "outputs": [],
   "source": [
    "from datetime import datetime\n",
    "import polars as pl"
   ]
  },
  {
   "cell_type": "markdown",
   "metadata": {},
   "source": [
    "## 类型\n"
   ]
  },
  {
   "cell_type": "markdown",
   "metadata": {},
   "source": [
    "### 自动推断类型\n"
   ]
  },
  {
   "cell_type": "code",
   "execution_count": 3,
   "metadata": {},
   "outputs": [
    {
     "data": {
      "text/html": [
       "<div><style>\n",
       ".dataframe > thead > tr,\n",
       ".dataframe > tbody > tr {\n",
       "  text-align: right;\n",
       "  white-space: pre-wrap;\n",
       "}\n",
       "</style>\n",
       "<small>shape: (3, 4)</small><table border=\"1\" class=\"dataframe\"><thead><tr><th>name</th><th>length</th><th>salary</th><th>join_time</th></tr><tr><td>str</td><td>f64</td><td>i64</td><td>datetime[μs]</td></tr></thead><tbody><tr><td>&quot;satori&quot;</td><td>155.3</td><td>12000</td><td>1998-12-11 12:43:18</td></tr><tr><td>&quot;scarlet&quot;</td><td>145.9</td><td>14000</td><td>1997-08-21 00:00:00</td></tr><tr><td>&quot;marisa&quot;</td><td>152.1</td><td>9000</td><td>2005-06-18 07:22:37</td></tr></tbody></table></div>"
      ],
      "text/plain": [
       "shape: (3, 4)\n",
       "┌─────────┬────────┬────────┬─────────────────────┐\n",
       "│ name    ┆ length ┆ salary ┆ join_time           │\n",
       "│ ---     ┆ ---    ┆ ---    ┆ ---                 │\n",
       "│ str     ┆ f64    ┆ i64    ┆ datetime[μs]        │\n",
       "╞═════════╪════════╪════════╪═════════════════════╡\n",
       "│ satori  ┆ 155.3  ┆ 12000  ┆ 1998-12-11 12:43:18 │\n",
       "│ scarlet ┆ 145.9  ┆ 14000  ┆ 1997-08-21 00:00:00 │\n",
       "│ marisa  ┆ 152.1  ┆ 9000   ┆ 2005-06-18 07:22:37 │\n",
       "└─────────┴────────┴────────┴─────────────────────┘"
      ]
     },
     "execution_count": 3,
     "metadata": {},
     "output_type": "execute_result"
    }
   ],
   "source": [
    "df = pl.DataFrame(\n",
    "    {\n",
    "        \"name\": [\"satori\", \"scarlet\", \"marisa\"],\n",
    "        \"length\": [155.3, 145.9, 152.1],\n",
    "        \"salary\": [12000, 14000, 9000],\n",
    "        \"join_time\": [\n",
    "            datetime(1998, 12, 11, 12, 43, 18),\n",
    "            datetime(1997, 8, 21),\n",
    "            datetime(2005, 6, 18, 7, 22, 37),\n",
    "        ],\n",
    "    }\n",
    ")\n",
    "# 严格类型(没有指定Polars 会自己推断)\n",
    "df"
   ]
  },
  {
   "cell_type": "markdown",
   "metadata": {},
   "source": [
    "### 指定类型\n"
   ]
  },
  {
   "cell_type": "code",
   "execution_count": 5,
   "metadata": {},
   "outputs": [
    {
     "data": {
      "text/html": [
       "<div><style>\n",
       ".dataframe > thead > tr,\n",
       ".dataframe > tbody > tr {\n",
       "  text-align: right;\n",
       "  white-space: pre-wrap;\n",
       "}\n",
       "</style>\n",
       "<small>shape: (2, 2)</small><table border=\"1\" class=\"dataframe\"><thead><tr><th>col1</th><th>col2</th></tr><tr><td>f32</td><td>i64</td></tr></thead><tbody><tr><td>0.0</td><td>3</td></tr><tr><td>2.0</td><td>7</td></tr></tbody></table></div>"
      ],
      "text/plain": [
       "shape: (2, 2)\n",
       "┌──────┬──────┐\n",
       "│ col1 ┆ col2 │\n",
       "│ ---  ┆ ---  │\n",
       "│ f32  ┆ i64  │\n",
       "╞══════╪══════╡\n",
       "│ 0.0  ┆ 3    │\n",
       "│ 2.0  ┆ 7    │\n",
       "└──────┴──────┘"
      ]
     },
     "execution_count": 5,
     "metadata": {},
     "output_type": "execute_result"
    }
   ],
   "source": [
    "df = pl.DataFrame(\n",
    "    {\"col1\": [0, 2], \"col2\": [3, 7]}, schema={\"col1\": pl.Float32, \"col2\": pl.Int64}\n",
    ")\n",
    "df"
   ]
  },
  {
   "cell_type": "code",
   "execution_count": 6,
   "metadata": {},
   "outputs": [
    {
     "data": {
      "text/html": [
       "<div><style>\n",
       ".dataframe > thead > tr,\n",
       ".dataframe > tbody > tr {\n",
       "  text-align: right;\n",
       "  white-space: pre-wrap;\n",
       "}\n",
       "</style>\n",
       "<small>shape: (2, 2)</small><table border=\"1\" class=\"dataframe\"><thead><tr><th>col1</th><th>col2</th></tr><tr><td>f32</td><td>i64</td></tr></thead><tbody><tr><td>0.0</td><td>3</td></tr><tr><td>2.0</td><td>7</td></tr></tbody></table></div>"
      ],
      "text/plain": [
       "shape: (2, 2)\n",
       "┌──────┬──────┐\n",
       "│ col1 ┆ col2 │\n",
       "│ ---  ┆ ---  │\n",
       "│ f32  ┆ i64  │\n",
       "╞══════╪══════╡\n",
       "│ 0.0  ┆ 3    │\n",
       "│ 2.0  ┆ 7    │\n",
       "└──────┴──────┘"
      ]
     },
     "execution_count": 6,
     "metadata": {},
     "output_type": "execute_result"
    }
   ],
   "source": [
    "pl.DataFrame(\n",
    "    {\"col1\": [0, 2], \"col2\": [3, 7]}, schema=[(\"col1\", pl.Float32), (\"col2\", pl.Int64)]\n",
    ")"
   ]
  },
  {
   "cell_type": "markdown",
   "metadata": {},
   "source": [
    "## 创建方式\n"
   ]
  },
  {
   "cell_type": "markdown",
   "metadata": {},
   "source": [
    "### 基于 Series\n"
   ]
  },
  {
   "cell_type": "code",
   "execution_count": 7,
   "metadata": {},
   "outputs": [
    {
     "data": {
      "text/html": [
       "<div><style>\n",
       ".dataframe > thead > tr,\n",
       ".dataframe > tbody > tr {\n",
       "  text-align: right;\n",
       "  white-space: pre-wrap;\n",
       "}\n",
       "</style>\n",
       "<small>shape: (2, 2)</small><table border=\"1\" class=\"dataframe\"><thead><tr><th>col1</th><th>col2</th></tr><tr><td>f32</td><td>i64</td></tr></thead><tbody><tr><td>0.0</td><td>3</td></tr><tr><td>2.0</td><td>7</td></tr></tbody></table></div>"
      ],
      "text/plain": [
       "shape: (2, 2)\n",
       "┌──────┬──────┐\n",
       "│ col1 ┆ col2 │\n",
       "│ ---  ┆ ---  │\n",
       "│ f32  ┆ i64  │\n",
       "╞══════╪══════╡\n",
       "│ 0.0  ┆ 3    │\n",
       "│ 2.0  ┆ 7    │\n",
       "└──────┴──────┘"
      ]
     },
     "execution_count": 7,
     "metadata": {},
     "output_type": "execute_result"
    }
   ],
   "source": [
    "df = pl.DataFrame(\n",
    "    [\n",
    "        pl.Series(\"col1\", [0, 2], dtype=pl.Float32),\n",
    "        pl.Series(\"col2\", [3, 7], dtype=pl.Int64),\n",
    "    ]\n",
    ")\n",
    "df"
   ]
  },
  {
   "cell_type": "markdown",
   "metadata": {},
   "source": [
    "### 基于 list\n"
   ]
  },
  {
   "cell_type": "code",
   "execution_count": 12,
   "metadata": {},
   "outputs": [
    {
     "data": {
      "text/html": [
       "<div><style>\n",
       ".dataframe > thead > tr,\n",
       ".dataframe > tbody > tr {\n",
       "  text-align: right;\n",
       "  white-space: pre-wrap;\n",
       "}\n",
       "</style>\n",
       "<small>shape: (2, 2)</small><table border=\"1\" class=\"dataframe\"><thead><tr><th>col1</th><th>col2</th></tr><tr><td>i64</td><td>i64</td></tr></thead><tbody><tr><td>0</td><td>3</td></tr><tr><td>2</td><td>7</td></tr></tbody></table></div>"
      ],
      "text/plain": [
       "shape: (2, 2)\n",
       "┌──────┬──────┐\n",
       "│ col1 ┆ col2 │\n",
       "│ ---  ┆ ---  │\n",
       "│ i64  ┆ i64  │\n",
       "╞══════╪══════╡\n",
       "│ 0    ┆ 3    │\n",
       "│ 2    ┆ 7    │\n",
       "└──────┴──────┘"
      ]
     },
     "execution_count": 12,
     "metadata": {},
     "output_type": "execute_result"
    }
   ],
   "source": [
    "df2 = pl.DataFrame([[0, 2], [3, 7]], schema=[\"col1\", \"col2\"])\n",
    "df2"
   ]
  },
  {
   "cell_type": "markdown",
   "metadata": {},
   "source": [
    "### 基于 dict\n"
   ]
  },
  {
   "cell_type": "code",
   "execution_count": 15,
   "metadata": {},
   "outputs": [
    {
     "data": {
      "text/html": [
       "<div><style>\n",
       ".dataframe > thead > tr,\n",
       ".dataframe > tbody > tr {\n",
       "  text-align: right;\n",
       "  white-space: pre-wrap;\n",
       "}\n",
       "</style>\n",
       "<small>shape: (5, 3)</small><table border=\"1\" class=\"dataframe\"><thead><tr><th>语文</th><th>数学</th><th>英语</th></tr><tr><td>i64</td><td>i64</td><td>i64</td></tr></thead><tbody><tr><td>62</td><td>95</td><td>66</td></tr><tr><td>72</td><td>65</td><td>75</td></tr><tr><td>93</td><td>86</td><td>82</td></tr><tr><td>88</td><td>66</td><td>69</td></tr><tr><td>93</td><td>87</td><td>82</td></tr></tbody></table></div>"
      ],
      "text/plain": [
       "shape: (5, 3)\n",
       "┌──────┬──────┬──────┐\n",
       "│ 语文 ┆ 数学 ┆ 英语 │\n",
       "│ ---  ┆ ---  ┆ ---  │\n",
       "│ i64  ┆ i64  ┆ i64  │\n",
       "╞══════╪══════╪══════╡\n",
       "│ 62   ┆ 95   ┆ 66   │\n",
       "│ 72   ┆ 65   ┆ 75   │\n",
       "│ 93   ┆ 86   ┆ 82   │\n",
       "│ 88   ┆ 66   ┆ 69   │\n",
       "│ 93   ┆ 87   ┆ 82   │\n",
       "└──────┴──────┴──────┘"
      ]
     },
     "execution_count": 15,
     "metadata": {},
     "output_type": "execute_result"
    }
   ],
   "source": [
    "dict_scores_data = {\n",
    "    \"语文\": [62, 72, 93, 88, 93],\n",
    "    \"数学\": [95, 65, 86, 66, 87],\n",
    "    \"英语\": [66, 75, 82, 69, 82],\n",
    "}\n",
    "df = pl.DataFrame(dict_scores_data)\n",
    "df"
   ]
  },
  {
   "cell_type": "markdown",
   "metadata": {},
   "source": [
    "### 基于 lis[dict]\n",
    "\n",
    "如果某个字段不存在，那么会被设置为空，在 Polars 里面空使用 null\n"
   ]
  },
  {
   "cell_type": "code",
   "execution_count": 22,
   "metadata": {},
   "outputs": [
    {
     "data": {
      "text/html": [
       "<div><style>\n",
       ".dataframe > thead > tr,\n",
       ".dataframe > tbody > tr {\n",
       "  text-align: right;\n",
       "  white-space: pre-wrap;\n",
       "}\n",
       "</style>\n",
       "<small>shape: (3, 3)</small><table border=\"1\" class=\"dataframe\"><thead><tr><th>col1</th><th>col2</th><th>col3</th></tr><tr><td>i64</td><td>i64</td><td>i64</td></tr></thead><tbody><tr><td>0</td><td>3</td><td>null</td></tr><tr><td>2</td><td>7</td><td>null</td></tr><tr><td>4</td><td>5</td><td>3</td></tr></tbody></table></div>"
      ],
      "text/plain": [
       "shape: (3, 3)\n",
       "┌──────┬──────┬──────┐\n",
       "│ col1 ┆ col2 ┆ col3 │\n",
       "│ ---  ┆ ---  ┆ ---  │\n",
       "│ i64  ┆ i64  ┆ i64  │\n",
       "╞══════╪══════╪══════╡\n",
       "│ 0    ┆ 3    ┆ null │\n",
       "│ 2    ┆ 7    ┆ null │\n",
       "│ 4    ┆ 5    ┆ 3    │\n",
       "└──────┴──────┴──────┘"
      ]
     },
     "execution_count": 22,
     "metadata": {},
     "output_type": "execute_result"
    }
   ],
   "source": [
    "df = pl.DataFrame(\n",
    "    [\n",
    "        {\"col1\": 0, \"col2\": 3},\n",
    "        {\"col1\": 2, \"col2\": 7},\n",
    "        {\"col1\": 4, \"col2\": 5, \"col3\": 3},\n",
    "    ]\n",
    ")\n",
    "df"
   ]
  },
  {
   "cell_type": "markdown",
   "metadata": {},
   "source": [
    "## 解释方向 orient\n",
    "\n",
    "--建议手动指定此参数(除了)\n",
    "\n",
    "- \"row\"\n",
    "- \"col\"\n",
    "- None :默认为 None，表示让 Polars 自己推断(如果参数是字典，那么一个键值对就是一列；如果参数是 Series ，那么一个 Series 就是一列)\n"
   ]
  },
  {
   "cell_type": "markdown",
   "metadata": {},
   "source": [
    "### col\n",
    "\n",
    "内部每个列表都是一列\n"
   ]
  },
  {
   "cell_type": "code",
   "execution_count": 13,
   "metadata": {},
   "outputs": [
    {
     "data": {
      "text/html": [
       "<div><style>\n",
       ".dataframe > thead > tr,\n",
       ".dataframe > tbody > tr {\n",
       "  text-align: right;\n",
       "  white-space: pre-wrap;\n",
       "}\n",
       "</style>\n",
       "<small>shape: (2, 2)</small><table border=\"1\" class=\"dataframe\"><thead><tr><th>col1</th><th>col2</th></tr><tr><td>i64</td><td>i64</td></tr></thead><tbody><tr><td>0</td><td>3</td></tr><tr><td>2</td><td>7</td></tr></tbody></table></div>"
      ],
      "text/plain": [
       "shape: (2, 2)\n",
       "┌──────┬──────┐\n",
       "│ col1 ┆ col2 │\n",
       "│ ---  ┆ ---  │\n",
       "│ i64  ┆ i64  │\n",
       "╞══════╪══════╡\n",
       "│ 0    ┆ 3    │\n",
       "│ 2    ┆ 7    │\n",
       "└──────┴──────┘"
      ]
     },
     "execution_count": 13,
     "metadata": {},
     "output_type": "execute_result"
    }
   ],
   "source": [
    "df = pl.DataFrame([[0, 2], [3, 7]], schema=[\"col1\", \"col2\"], orient=\"col\")\n",
    "df"
   ]
  },
  {
   "cell_type": "markdown",
   "metadata": {},
   "source": [
    "### row\n",
    "\n",
    "内部每个列表都是一行\n"
   ]
  },
  {
   "cell_type": "code",
   "execution_count": 14,
   "metadata": {},
   "outputs": [
    {
     "data": {
      "text/html": [
       "<div><style>\n",
       ".dataframe > thead > tr,\n",
       ".dataframe > tbody > tr {\n",
       "  text-align: right;\n",
       "  white-space: pre-wrap;\n",
       "}\n",
       "</style>\n",
       "<small>shape: (2, 2)</small><table border=\"1\" class=\"dataframe\"><thead><tr><th>col1</th><th>col2</th></tr><tr><td>i64</td><td>i64</td></tr></thead><tbody><tr><td>0</td><td>2</td></tr><tr><td>3</td><td>7</td></tr></tbody></table></div>"
      ],
      "text/plain": [
       "shape: (2, 2)\n",
       "┌──────┬──────┐\n",
       "│ col1 ┆ col2 │\n",
       "│ ---  ┆ ---  │\n",
       "│ i64  ┆ i64  │\n",
       "╞══════╪══════╡\n",
       "│ 0    ┆ 2    │\n",
       "│ 3    ┆ 7    │\n",
       "└──────┴──────┘"
      ]
     },
     "execution_count": 14,
     "metadata": {},
     "output_type": "execute_result"
    }
   ],
   "source": [
    "df = pl.DataFrame([[0, 2], [3, 7]], schema=[\"col1\", \"col2\"], orient=\"row\")\n",
    "df"
   ]
  },
  {
   "cell_type": "markdown",
   "metadata": {},
   "source": [
    "### 解释方向对 Series/dict 无效\n",
    "\n",
    "因为这两个固定都是列\n"
   ]
  },
  {
   "cell_type": "code",
   "execution_count": 17,
   "metadata": {},
   "outputs": [],
   "source": [
    "df1 = pl.DataFrame(\n",
    "    [\n",
    "        pl.Series(\"col1\", [0, 2], dtype=pl.Float32),\n",
    "        pl.Series(\"col2\", [3, 7], dtype=pl.Int64),\n",
    "    ],\n",
    "    orient=\"row\",\n",
    ")\n",
    "df2 = pl.DataFrame(\n",
    "    [\n",
    "        pl.Series(\"col1\", [0, 2], dtype=pl.Float32),\n",
    "        pl.Series(\"col2\", [3, 7], dtype=pl.Int64),\n",
    "    ],\n",
    "    orient=\"col\",\n",
    ")"
   ]
  },
  {
   "cell_type": "code",
   "execution_count": 18,
   "metadata": {},
   "outputs": [
    {
     "data": {
      "text/html": [
       "<div><style>\n",
       ".dataframe > thead > tr,\n",
       ".dataframe > tbody > tr {\n",
       "  text-align: right;\n",
       "  white-space: pre-wrap;\n",
       "}\n",
       "</style>\n",
       "<small>shape: (2, 2)</small><table border=\"1\" class=\"dataframe\"><thead><tr><th>col1</th><th>col2</th></tr><tr><td>f32</td><td>i64</td></tr></thead><tbody><tr><td>0.0</td><td>3</td></tr><tr><td>2.0</td><td>7</td></tr></tbody></table></div>"
      ],
      "text/plain": [
       "shape: (2, 2)\n",
       "┌──────┬──────┐\n",
       "│ col1 ┆ col2 │\n",
       "│ ---  ┆ ---  │\n",
       "│ f32  ┆ i64  │\n",
       "╞══════╪══════╡\n",
       "│ 0.0  ┆ 3    │\n",
       "│ 2.0  ┆ 7    │\n",
       "└──────┴──────┘"
      ]
     },
     "execution_count": 18,
     "metadata": {},
     "output_type": "execute_result"
    }
   ],
   "source": [
    "df1"
   ]
  },
  {
   "cell_type": "code",
   "execution_count": 19,
   "metadata": {},
   "outputs": [
    {
     "data": {
      "text/html": [
       "<div><style>\n",
       ".dataframe > thead > tr,\n",
       ".dataframe > tbody > tr {\n",
       "  text-align: right;\n",
       "  white-space: pre-wrap;\n",
       "}\n",
       "</style>\n",
       "<small>shape: (2, 2)</small><table border=\"1\" class=\"dataframe\"><thead><tr><th>col1</th><th>col2</th></tr><tr><td>f32</td><td>i64</td></tr></thead><tbody><tr><td>0.0</td><td>3</td></tr><tr><td>2.0</td><td>7</td></tr></tbody></table></div>"
      ],
      "text/plain": [
       "shape: (2, 2)\n",
       "┌──────┬──────┐\n",
       "│ col1 ┆ col2 │\n",
       "│ ---  ┆ ---  │\n",
       "│ f32  ┆ i64  │\n",
       "╞══════╪══════╡\n",
       "│ 0.0  ┆ 3    │\n",
       "│ 2.0  ┆ 7    │\n",
       "└──────┴──────┘"
      ]
     },
     "execution_count": 19,
     "metadata": {},
     "output_type": "execute_result"
    }
   ],
   "source": [
    "df2"
   ]
  },
  {
   "cell_type": "markdown",
   "metadata": {},
   "source": [
    "## 定义列名\n"
   ]
  },
  {
   "cell_type": "markdown",
   "metadata": {},
   "source": [
    "### 手动指定\n",
    "\n",
    "通过 schema 指定\n"
   ]
  },
  {
   "cell_type": "code",
   "execution_count": 20,
   "metadata": {},
   "outputs": [
    {
     "data": {
      "text/html": [
       "<div><style>\n",
       ".dataframe > thead > tr,\n",
       ".dataframe > tbody > tr {\n",
       "  text-align: right;\n",
       "  white-space: pre-wrap;\n",
       "}\n",
       "</style>\n",
       "<small>shape: (2, 2)</small><table border=\"1\" class=\"dataframe\"><thead><tr><th>col1</th><th>col2</th></tr><tr><td>f32</td><td>i64</td></tr></thead><tbody><tr><td>0.0</td><td>3</td></tr><tr><td>2.0</td><td>7</td></tr></tbody></table></div>"
      ],
      "text/plain": [
       "shape: (2, 2)\n",
       "┌──────┬──────┐\n",
       "│ col1 ┆ col2 │\n",
       "│ ---  ┆ ---  │\n",
       "│ f32  ┆ i64  │\n",
       "╞══════╪══════╡\n",
       "│ 0.0  ┆ 3    │\n",
       "│ 2.0  ┆ 7    │\n",
       "└──────┴──────┘"
      ]
     },
     "execution_count": 20,
     "metadata": {},
     "output_type": "execute_result"
    }
   ],
   "source": [
    "df = pl.DataFrame([[0, 2], [3, 7]], schema={\"col1\": pl.Float32, \"col2\": pl.Int64})\n",
    "df"
   ]
  },
  {
   "cell_type": "markdown",
   "metadata": {},
   "source": [
    "### 自动生成\n",
    "\n",
    "Polars 会自动以 column_0、column_1、··· 的方式赋予列名\n"
   ]
  },
  {
   "cell_type": "code",
   "execution_count": 24,
   "metadata": {},
   "outputs": [],
   "source": [
    "df = pl.DataFrame([[0, 2], [3, 7]])\n",
    "df"
   ]
  },
  {
   "cell_type": "markdown",
   "metadata": {},
   "source": [
    "# 读取\n"
   ]
  },
  {
   "cell_type": "markdown",
   "metadata": {},
   "source": [
    "## select\n",
    "\n",
    "- select() 会返回一个新的 DataFrame，不会影响原有的 df\n"
   ]
  },
  {
   "cell_type": "code",
   "execution_count": 24,
   "metadata": {},
   "outputs": [
    {
     "data": {
      "text/html": [
       "<div><style>\n",
       ".dataframe > thead > tr,\n",
       ".dataframe > tbody > tr {\n",
       "  text-align: right;\n",
       "  white-space: pre-wrap;\n",
       "}\n",
       "</style>\n",
       "<small>shape: (3, 4)</small><table border=\"1\" class=\"dataframe\"><thead><tr><th>name</th><th>age</th><th>length</th><th>salary</th></tr><tr><td>str</td><td>i64</td><td>f64</td><td>i64</td></tr></thead><tbody><tr><td>&quot;satori&quot;</td><td>16</td><td>155.3</td><td>6000</td></tr><tr><td>&quot;scarlet&quot;</td><td>400</td><td>145.9</td><td>7500</td></tr><tr><td>&quot;marisa&quot;</td><td>18</td><td>152.1</td><td>5000</td></tr></tbody></table></div>"
      ],
      "text/plain": [
       "shape: (3, 4)\n",
       "┌─────────┬─────┬────────┬────────┐\n",
       "│ name    ┆ age ┆ length ┆ salary │\n",
       "│ ---     ┆ --- ┆ ---    ┆ ---    │\n",
       "│ str     ┆ i64 ┆ f64    ┆ i64    │\n",
       "╞═════════╪═════╪════════╪════════╡\n",
       "│ satori  ┆ 16  ┆ 155.3  ┆ 6000   │\n",
       "│ scarlet ┆ 400 ┆ 145.9  ┆ 7500   │\n",
       "│ marisa  ┆ 18  ┆ 152.1  ┆ 5000   │\n",
       "└─────────┴─────┴────────┴────────┘"
      ]
     },
     "execution_count": 24,
     "metadata": {},
     "output_type": "execute_result"
    }
   ],
   "source": [
    "df = pl.DataFrame(\n",
    "    {\n",
    "        \"name\": [\"satori\", \"scarlet\", \"marisa\"],\n",
    "        \"age\": [16, 400, 18],\n",
    "        \"length\": [155.3, 145.9, 152.1],\n",
    "        \"salary\": [6000, 7500, 5000],\n",
    "    }\n",
    ")\n",
    "df"
   ]
  },
  {
   "cell_type": "markdown",
   "metadata": {},
   "source": [
    "### 读取列\n"
   ]
  },
  {
   "cell_type": "markdown",
   "metadata": {},
   "source": [
    "#### 普通\n"
   ]
  },
  {
   "cell_type": "code",
   "execution_count": 7,
   "metadata": {},
   "outputs": [
    {
     "data": {
      "text/html": [
       "<div><style>\n",
       ".dataframe > thead > tr,\n",
       ".dataframe > tbody > tr {\n",
       "  text-align: right;\n",
       "  white-space: pre-wrap;\n",
       "}\n",
       "</style>\n",
       "<small>shape: (3, 2)</small><table border=\"1\" class=\"dataframe\"><thead><tr><th>name</th><th>length</th></tr><tr><td>str</td><td>f64</td></tr></thead><tbody><tr><td>&quot;satori&quot;</td><td>155.3</td></tr><tr><td>&quot;scarlet&quot;</td><td>145.9</td></tr><tr><td>&quot;marisa&quot;</td><td>152.1</td></tr></tbody></table></div>"
      ],
      "text/plain": [
       "shape: (3, 2)\n",
       "┌─────────┬────────┐\n",
       "│ name    ┆ length │\n",
       "│ ---     ┆ ---    │\n",
       "│ str     ┆ f64    │\n",
       "╞═════════╪════════╡\n",
       "│ satori  ┆ 155.3  │\n",
       "│ scarlet ┆ 145.9  │\n",
       "│ marisa  ┆ 152.1  │\n",
       "└─────────┴────────┘"
      ]
     },
     "execution_count": 7,
     "metadata": {},
     "output_type": "execute_result"
    }
   ],
   "source": [
    "df.select(\"name\", \"length\")"
   ]
  },
  {
   "cell_type": "code",
   "execution_count": 8,
   "metadata": {},
   "outputs": [
    {
     "data": {
      "text/html": [
       "<div><style>\n",
       ".dataframe > thead > tr,\n",
       ".dataframe > tbody > tr {\n",
       "  text-align: right;\n",
       "  white-space: pre-wrap;\n",
       "}\n",
       "</style>\n",
       "<small>shape: (3, 2)</small><table border=\"1\" class=\"dataframe\"><thead><tr><th>name</th><th>length</th></tr><tr><td>str</td><td>f64</td></tr></thead><tbody><tr><td>&quot;satori&quot;</td><td>155.3</td></tr><tr><td>&quot;scarlet&quot;</td><td>145.9</td></tr><tr><td>&quot;marisa&quot;</td><td>152.1</td></tr></tbody></table></div>"
      ],
      "text/plain": [
       "shape: (3, 2)\n",
       "┌─────────┬────────┐\n",
       "│ name    ┆ length │\n",
       "│ ---     ┆ ---    │\n",
       "│ str     ┆ f64    │\n",
       "╞═════════╪════════╡\n",
       "│ satori  ┆ 155.3  │\n",
       "│ scarlet ┆ 145.9  │\n",
       "│ marisa  ┆ 152.1  │\n",
       "└─────────┴────────┘"
      ]
     },
     "execution_count": 8,
     "metadata": {},
     "output_type": "execute_result"
    }
   ],
   "source": [
    "df.select([\"name\", \"length\"])"
   ]
  },
  {
   "cell_type": "markdown",
   "metadata": {},
   "source": [
    "#### col()函数\n"
   ]
  },
  {
   "cell_type": "code",
   "execution_count": 12,
   "metadata": {},
   "outputs": [
    {
     "data": {
      "text/html": [
       "<div><style>\n",
       ".dataframe > thead > tr,\n",
       ".dataframe > tbody > tr {\n",
       "  text-align: right;\n",
       "  white-space: pre-wrap;\n",
       "}\n",
       "</style>\n",
       "<small>shape: (3, 2)</small><table border=\"1\" class=\"dataframe\"><thead><tr><th>name</th><th>length</th></tr><tr><td>str</td><td>f64</td></tr></thead><tbody><tr><td>&quot;satori&quot;</td><td>155.3</td></tr><tr><td>&quot;scarlet&quot;</td><td>145.9</td></tr><tr><td>&quot;marisa&quot;</td><td>152.1</td></tr></tbody></table></div>"
      ],
      "text/plain": [
       "shape: (3, 2)\n",
       "┌─────────┬────────┐\n",
       "│ name    ┆ length │\n",
       "│ ---     ┆ ---    │\n",
       "│ str     ┆ f64    │\n",
       "╞═════════╪════════╡\n",
       "│ satori  ┆ 155.3  │\n",
       "│ scarlet ┆ 145.9  │\n",
       "│ marisa  ┆ 152.1  │\n",
       "└─────────┴────────┘"
      ]
     },
     "execution_count": 12,
     "metadata": {},
     "output_type": "execute_result"
    }
   ],
   "source": [
    "df.select(pl.col(\"name\"), pl.col(\"length\"))"
   ]
  },
  {
   "cell_type": "code",
   "execution_count": 13,
   "metadata": {},
   "outputs": [
    {
     "data": {
      "text/html": [
       "<div><style>\n",
       ".dataframe > thead > tr,\n",
       ".dataframe > tbody > tr {\n",
       "  text-align: right;\n",
       "  white-space: pre-wrap;\n",
       "}\n",
       "</style>\n",
       "<small>shape: (3, 2)</small><table border=\"1\" class=\"dataframe\"><thead><tr><th>name</th><th>length</th></tr><tr><td>str</td><td>f64</td></tr></thead><tbody><tr><td>&quot;satori&quot;</td><td>155.3</td></tr><tr><td>&quot;scarlet&quot;</td><td>145.9</td></tr><tr><td>&quot;marisa&quot;</td><td>152.1</td></tr></tbody></table></div>"
      ],
      "text/plain": [
       "shape: (3, 2)\n",
       "┌─────────┬────────┐\n",
       "│ name    ┆ length │\n",
       "│ ---     ┆ ---    │\n",
       "│ str     ┆ f64    │\n",
       "╞═════════╪════════╡\n",
       "│ satori  ┆ 155.3  │\n",
       "│ scarlet ┆ 145.9  │\n",
       "│ marisa  ┆ 152.1  │\n",
       "└─────────┴────────┘"
      ]
     },
     "execution_count": 13,
     "metadata": {},
     "output_type": "execute_result"
    }
   ],
   "source": [
    "df.select([pl.col(\"name\"), pl.col(\"length\")])"
   ]
  },
  {
   "cell_type": "code",
   "execution_count": 14,
   "metadata": {},
   "outputs": [
    {
     "data": {
      "text/html": [
       "<div><style>\n",
       ".dataframe > thead > tr,\n",
       ".dataframe > tbody > tr {\n",
       "  text-align: right;\n",
       "  white-space: pre-wrap;\n",
       "}\n",
       "</style>\n",
       "<small>shape: (3, 2)</small><table border=\"1\" class=\"dataframe\"><thead><tr><th>age</th><th>length</th></tr><tr><td>i64</td><td>f64</td></tr></thead><tbody><tr><td>16</td><td>155.3</td></tr><tr><td>400</td><td>145.9</td></tr><tr><td>18</td><td>152.1</td></tr></tbody></table></div>"
      ],
      "text/plain": [
       "shape: (3, 2)\n",
       "┌─────┬────────┐\n",
       "│ age ┆ length │\n",
       "│ --- ┆ ---    │\n",
       "│ i64 ┆ f64    │\n",
       "╞═════╪════════╡\n",
       "│ 16  ┆ 155.3  │\n",
       "│ 400 ┆ 145.9  │\n",
       "│ 18  ┆ 152.1  │\n",
       "└─────┴────────┘"
      ]
     },
     "execution_count": 14,
     "metadata": {},
     "output_type": "execute_result"
    }
   ],
   "source": [
    "df.select(pl.col(\"age\", \"length\"))"
   ]
  },
  {
   "cell_type": "code",
   "execution_count": 15,
   "metadata": {},
   "outputs": [
    {
     "data": {
      "text/html": [
       "<div><style>\n",
       ".dataframe > thead > tr,\n",
       ".dataframe > tbody > tr {\n",
       "  text-align: right;\n",
       "  white-space: pre-wrap;\n",
       "}\n",
       "</style>\n",
       "<small>shape: (3, 4)</small><table border=\"1\" class=\"dataframe\"><thead><tr><th>name</th><th>age</th><th>length</th><th>salary</th></tr><tr><td>str</td><td>i64</td><td>f64</td><td>i64</td></tr></thead><tbody><tr><td>&quot;satori&quot;</td><td>16</td><td>155.3</td><td>6000</td></tr><tr><td>&quot;scarlet&quot;</td><td>400</td><td>145.9</td><td>7500</td></tr><tr><td>&quot;marisa&quot;</td><td>18</td><td>152.1</td><td>5000</td></tr></tbody></table></div>"
      ],
      "text/plain": [
       "shape: (3, 4)\n",
       "┌─────────┬─────┬────────┬────────┐\n",
       "│ name    ┆ age ┆ length ┆ salary │\n",
       "│ ---     ┆ --- ┆ ---    ┆ ---    │\n",
       "│ str     ┆ i64 ┆ f64    ┆ i64    │\n",
       "╞═════════╪═════╪════════╪════════╡\n",
       "│ satori  ┆ 16  ┆ 155.3  ┆ 6000   │\n",
       "│ scarlet ┆ 400 ┆ 145.9  ┆ 7500   │\n",
       "│ marisa  ┆ 18  ┆ 152.1  ┆ 5000   │\n",
       "└─────────┴─────┴────────┴────────┘"
      ]
     },
     "execution_count": 15,
     "metadata": {},
     "output_type": "execute_result"
    }
   ],
   "source": [
    "# 通配符 *，表示筛选所有的列\n",
    "df.select(pl.col(\"*\"))"
   ]
  },
  {
   "cell_type": "markdown",
   "metadata": {},
   "source": [
    "### 读取并修改\n"
   ]
  },
  {
   "cell_type": "code",
   "execution_count": 10,
   "metadata": {},
   "outputs": [
    {
     "data": {
      "text/html": [
       "<div><style>\n",
       ".dataframe > thead > tr,\n",
       ".dataframe > tbody > tr {\n",
       "  text-align: right;\n",
       "  white-space: pre-wrap;\n",
       "}\n",
       "</style>\n",
       "<small>shape: (3, 2)</small><table border=\"1\" class=\"dataframe\"><thead><tr><th>name</th><th>age</th></tr><tr><td>str</td><td>i64</td></tr></thead><tbody><tr><td>&quot;satori&quot;</td><td>116</td></tr><tr><td>&quot;scarlet&quot;</td><td>500</td></tr><tr><td>&quot;marisa&quot;</td><td>118</td></tr></tbody></table></div>"
      ],
      "text/plain": [
       "shape: (3, 2)\n",
       "┌─────────┬─────┐\n",
       "│ name    ┆ age │\n",
       "│ ---     ┆ --- │\n",
       "│ str     ┆ i64 │\n",
       "╞═════════╪═════╡\n",
       "│ satori  ┆ 116 │\n",
       "│ scarlet ┆ 500 │\n",
       "│ marisa  ┆ 118 │\n",
       "└─────────┴─────┘"
      ]
     },
     "execution_count": 10,
     "metadata": {},
     "output_type": "execute_result"
    }
   ],
   "source": [
    "df.select(\"name\", pl.col(\"age\") + 100)"
   ]
  },
  {
   "cell_type": "markdown",
   "metadata": {},
   "source": [
    "# 筛选列 -select\n",
    "\n",
    "找到符合条件的列\n"
   ]
  },
  {
   "cell_type": "code",
   "execution_count": 31,
   "metadata": {},
   "outputs": [],
   "source": [
    "# 用于实现更复杂的筛选的选择器\n",
    "import polars.selectors as cs"
   ]
  },
  {
   "cell_type": "code",
   "execution_count": 4,
   "metadata": {},
   "outputs": [
    {
     "data": {
      "text/html": [
       "<div><style>\n",
       ".dataframe > thead > tr,\n",
       ".dataframe > tbody > tr {\n",
       "  text-align: right;\n",
       "  white-space: pre-wrap;\n",
       "}\n",
       "</style>\n",
       "<small>shape: (3, 4)</small><table border=\"1\" class=\"dataframe\"><thead><tr><th>name</th><th>age</th><th>length</th><th>salary</th></tr><tr><td>str</td><td>i64</td><td>f64</td><td>i64</td></tr></thead><tbody><tr><td>&quot;satori&quot;</td><td>16</td><td>155.3</td><td>6000</td></tr><tr><td>&quot;scarlet&quot;</td><td>400</td><td>145.9</td><td>7500</td></tr><tr><td>&quot;marisa&quot;</td><td>18</td><td>152.1</td><td>5000</td></tr></tbody></table></div>"
      ],
      "text/plain": [
       "shape: (3, 4)\n",
       "┌─────────┬─────┬────────┬────────┐\n",
       "│ name    ┆ age ┆ length ┆ salary │\n",
       "│ ---     ┆ --- ┆ ---    ┆ ---    │\n",
       "│ str     ┆ i64 ┆ f64    ┆ i64    │\n",
       "╞═════════╪═════╪════════╪════════╡\n",
       "│ satori  ┆ 16  ┆ 155.3  ┆ 6000   │\n",
       "│ scarlet ┆ 400 ┆ 145.9  ┆ 7500   │\n",
       "│ marisa  ┆ 18  ┆ 152.1  ┆ 5000   │\n",
       "└─────────┴─────┴────────┴────────┘"
      ]
     },
     "execution_count": 4,
     "metadata": {},
     "output_type": "execute_result"
    }
   ],
   "source": [
    "df = pl.DataFrame(\n",
    "    {\n",
    "        \"name\": [\"satori\", \"scarlet\", \"marisa\"],\n",
    "        \"age\": [16, 400, 18],\n",
    "        \"length\": [155.3, 145.9, 152.1],\n",
    "        \"salary\": [6000, 7500, 5000],\n",
    "    }\n",
    ")\n",
    "df"
   ]
  },
  {
   "cell_type": "markdown",
   "metadata": {},
   "source": [
    "## 全部\n"
   ]
  },
  {
   "cell_type": "code",
   "execution_count": 23,
   "metadata": {},
   "outputs": [
    {
     "data": {
      "text/html": [
       "<div><style>\n",
       ".dataframe > thead > tr,\n",
       ".dataframe > tbody > tr {\n",
       "  text-align: right;\n",
       "  white-space: pre-wrap;\n",
       "}\n",
       "</style>\n",
       "<small>shape: (3, 4)</small><table border=\"1\" class=\"dataframe\"><thead><tr><th>name</th><th>age</th><th>length</th><th>salary</th></tr><tr><td>str</td><td>i64</td><td>f64</td><td>i64</td></tr></thead><tbody><tr><td>&quot;satori&quot;</td><td>16</td><td>155.3</td><td>6000</td></tr><tr><td>&quot;scarlet&quot;</td><td>400</td><td>145.9</td><td>7500</td></tr><tr><td>&quot;marisa&quot;</td><td>18</td><td>152.1</td><td>5000</td></tr></tbody></table></div>"
      ],
      "text/plain": [
       "shape: (3, 4)\n",
       "┌─────────┬─────┬────────┬────────┐\n",
       "│ name    ┆ age ┆ length ┆ salary │\n",
       "│ ---     ┆ --- ┆ ---    ┆ ---    │\n",
       "│ str     ┆ i64 ┆ f64    ┆ i64    │\n",
       "╞═════════╪═════╪════════╪════════╡\n",
       "│ satori  ┆ 16  ┆ 155.3  ┆ 6000   │\n",
       "│ scarlet ┆ 400 ┆ 145.9  ┆ 7500   │\n",
       "│ marisa  ┆ 18  ┆ 152.1  ┆ 5000   │\n",
       "└─────────┴─────┴────────┴────────┘"
      ]
     },
     "execution_count": 23,
     "metadata": {},
     "output_type": "execute_result"
    }
   ],
   "source": [
    "df.select(cs.all())"
   ]
  },
  {
   "cell_type": "markdown",
   "metadata": {},
   "source": [
    "## 按照字段类型\n"
   ]
  },
  {
   "cell_type": "code",
   "execution_count": 18,
   "metadata": {},
   "outputs": [
    {
     "data": {
      "text/html": [
       "<div><style>\n",
       ".dataframe > thead > tr,\n",
       ".dataframe > tbody > tr {\n",
       "  text-align: right;\n",
       "  white-space: pre-wrap;\n",
       "}\n",
       "</style>\n",
       "<small>shape: (3, 2)</small><table border=\"1\" class=\"dataframe\"><thead><tr><th>age</th><th>salary</th></tr><tr><td>i64</td><td>i64</td></tr></thead><tbody><tr><td>16</td><td>6000</td></tr><tr><td>400</td><td>7500</td></tr><tr><td>18</td><td>5000</td></tr></tbody></table></div>"
      ],
      "text/plain": [
       "shape: (3, 2)\n",
       "┌─────┬────────┐\n",
       "│ age ┆ salary │\n",
       "│ --- ┆ ---    │\n",
       "│ i64 ┆ i64    │\n",
       "╞═════╪════════╡\n",
       "│ 16  ┆ 6000   │\n",
       "│ 400 ┆ 7500   │\n",
       "│ 18  ┆ 5000   │\n",
       "└─────┴────────┘"
      ]
     },
     "execution_count": 18,
     "metadata": {},
     "output_type": "execute_result"
    }
   ],
   "source": [
    "df.select(pl.col(pl.Int64))"
   ]
  },
  {
   "cell_type": "markdown",
   "metadata": {},
   "source": [
    "## 首尾列\n"
   ]
  },
  {
   "cell_type": "code",
   "execution_count": 26,
   "metadata": {},
   "outputs": [
    {
     "data": {
      "text/html": [
       "<div><style>\n",
       ".dataframe > thead > tr,\n",
       ".dataframe > tbody > tr {\n",
       "  text-align: right;\n",
       "  white-space: pre-wrap;\n",
       "}\n",
       "</style>\n",
       "<small>shape: (3, 2)</small><table border=\"1\" class=\"dataframe\"><thead><tr><th>name</th><th>salary</th></tr><tr><td>str</td><td>i64</td></tr></thead><tbody><tr><td>&quot;satori&quot;</td><td>6000</td></tr><tr><td>&quot;scarlet&quot;</td><td>7500</td></tr><tr><td>&quot;marisa&quot;</td><td>5000</td></tr></tbody></table></div>"
      ],
      "text/plain": [
       "shape: (3, 2)\n",
       "┌─────────┬────────┐\n",
       "│ name    ┆ salary │\n",
       "│ ---     ┆ ---    │\n",
       "│ str     ┆ i64    │\n",
       "╞═════════╪════════╡\n",
       "│ satori  ┆ 6000   │\n",
       "│ scarlet ┆ 7500   │\n",
       "│ marisa  ┆ 5000   │\n",
       "└─────────┴────────┘"
      ]
     },
     "execution_count": 26,
     "metadata": {},
     "output_type": "execute_result"
    }
   ],
   "source": [
    "df.select(cs.first(), cs.last())"
   ]
  },
  {
   "cell_type": "markdown",
   "metadata": {},
   "source": [
    "## 字符串\n"
   ]
  },
  {
   "cell_type": "code",
   "execution_count": 33,
   "metadata": {},
   "outputs": [
    {
     "data": {
      "text/html": [
       "<div><style>\n",
       ".dataframe > thead > tr,\n",
       ".dataframe > tbody > tr {\n",
       "  text-align: right;\n",
       "  white-space: pre-wrap;\n",
       "}\n",
       "</style>\n",
       "<small>shape: (3, 1)</small><table border=\"1\" class=\"dataframe\"><thead><tr><th>name</th></tr><tr><td>str</td></tr></thead><tbody><tr><td>&quot;satori&quot;</td></tr><tr><td>&quot;scarlet&quot;</td></tr><tr><td>&quot;marisa&quot;</td></tr></tbody></table></div>"
      ],
      "text/plain": [
       "shape: (3, 1)\n",
       "┌─────────┐\n",
       "│ name    │\n",
       "│ ---     │\n",
       "│ str     │\n",
       "╞═════════╡\n",
       "│ satori  │\n",
       "│ scarlet │\n",
       "│ marisa  │\n",
       "└─────────┘"
      ]
     },
     "execution_count": 33,
     "metadata": {},
     "output_type": "execute_result"
    }
   ],
   "source": [
    "# 选择以 \"na\" 开头尾的列\n",
    "df.select(cs.starts_with(\"na\"))"
   ]
  },
  {
   "cell_type": "code",
   "execution_count": 36,
   "metadata": {},
   "outputs": [
    {
     "data": {
      "text/html": [
       "<div><style>\n",
       ".dataframe > thead > tr,\n",
       ".dataframe > tbody > tr {\n",
       "  text-align: right;\n",
       "  white-space: pre-wrap;\n",
       "}\n",
       "</style>\n",
       "<small>shape: (3, 3)</small><table border=\"1\" class=\"dataframe\"><thead><tr><th>age</th><th>length</th><th>salary</th></tr><tr><td>i64</td><td>f64</td><td>i64</td></tr></thead><tbody><tr><td>16</td><td>155.3</td><td>6000</td></tr><tr><td>400</td><td>145.9</td><td>7500</td></tr><tr><td>18</td><td>152.1</td><td>5000</td></tr></tbody></table></div>"
      ],
      "text/plain": [
       "shape: (3, 3)\n",
       "┌─────┬────────┬────────┐\n",
       "│ age ┆ length ┆ salary │\n",
       "│ --- ┆ ---    ┆ ---    │\n",
       "│ i64 ┆ f64    ┆ i64    │\n",
       "╞═════╪════════╪════════╡\n",
       "│ 16  ┆ 155.3  ┆ 6000   │\n",
       "│ 400 ┆ 145.9  ┆ 7500   │\n",
       "│ 18  ┆ 152.1  ┆ 5000   │\n",
       "└─────┴────────┴────────┘"
      ]
     },
     "execution_count": 36,
     "metadata": {},
     "output_type": "execute_result"
    }
   ],
   "source": [
    "# 选择不以 \"na\" 开头的的列\n",
    "df.select(~cs.starts_with(\"na\"))"
   ]
  },
  {
   "cell_type": "code",
   "execution_count": 35,
   "metadata": {},
   "outputs": [
    {
     "data": {
      "text/html": [
       "<div><style>\n",
       ".dataframe > thead > tr,\n",
       ".dataframe > tbody > tr {\n",
       "  text-align: right;\n",
       "  white-space: pre-wrap;\n",
       "}\n",
       "</style>\n",
       "<small>shape: (3, 2)</small><table border=\"1\" class=\"dataframe\"><thead><tr><th>name</th><th>age</th></tr><tr><td>str</td><td>i64</td></tr></thead><tbody><tr><td>&quot;satori&quot;</td><td>16</td></tr><tr><td>&quot;scarlet&quot;</td><td>400</td></tr><tr><td>&quot;marisa&quot;</td><td>18</td></tr></tbody></table></div>"
      ],
      "text/plain": [
       "shape: (3, 2)\n",
       "┌─────────┬─────┐\n",
       "│ name    ┆ age │\n",
       "│ ---     ┆ --- │\n",
       "│ str     ┆ i64 │\n",
       "╞═════════╪═════╡\n",
       "│ satori  ┆ 16  │\n",
       "│ scarlet ┆ 400 │\n",
       "│ marisa  ┆ 18  │\n",
       "└─────────┴─────┘"
      ]
     },
     "execution_count": 35,
     "metadata": {},
     "output_type": "execute_result"
    }
   ],
   "source": [
    "# 选择以 \"e\" 结尾的列\n",
    "df.select(cs.ends_with(\"e\"))"
   ]
  },
  {
   "cell_type": "code",
   "execution_count": 37,
   "metadata": {},
   "outputs": [
    {
     "data": {
      "text/html": [
       "<div><style>\n",
       ".dataframe > thead > tr,\n",
       ".dataframe > tbody > tr {\n",
       "  text-align: right;\n",
       "  white-space: pre-wrap;\n",
       "}\n",
       "</style>\n",
       "<small>shape: (3, 1)</small><table border=\"1\" class=\"dataframe\"><thead><tr><th>name</th></tr><tr><td>str</td></tr></thead><tbody><tr><td>&quot;satori&quot;</td></tr><tr><td>&quot;scarlet&quot;</td></tr><tr><td>&quot;marisa&quot;</td></tr></tbody></table></div>"
      ],
      "text/plain": [
       "shape: (3, 1)\n",
       "┌─────────┐\n",
       "│ name    │\n",
       "│ ---     │\n",
       "│ str     │\n",
       "╞═════════╡\n",
       "│ satori  │\n",
       "│ scarlet │\n",
       "│ marisa  │\n",
       "└─────────┘"
      ]
     },
     "execution_count": 37,
     "metadata": {},
     "output_type": "execute_result"
    }
   ],
   "source": [
    "# 选择包含 \"ame\" 的列\n",
    "df.select(cs.contains(\"ame\"))"
   ]
  },
  {
   "cell_type": "markdown",
   "metadata": {},
   "source": [
    "# 筛选数据 -filter\n",
    "\n",
    "找到符合条件的数据\n"
   ]
  },
  {
   "cell_type": "markdown",
   "metadata": {},
   "source": [
    "## base\n"
   ]
  },
  {
   "cell_type": "code",
   "execution_count": 38,
   "metadata": {},
   "outputs": [
    {
     "data": {
      "text/html": [
       "<div><style>\n",
       ".dataframe > thead > tr,\n",
       ".dataframe > tbody > tr {\n",
       "  text-align: right;\n",
       "  white-space: pre-wrap;\n",
       "}\n",
       "</style>\n",
       "<small>shape: (1, 4)</small><table border=\"1\" class=\"dataframe\"><thead><tr><th>name</th><th>age</th><th>length</th><th>salary</th></tr><tr><td>str</td><td>i64</td><td>f64</td><td>i64</td></tr></thead><tbody><tr><td>&quot;scarlet&quot;</td><td>400</td><td>145.9</td><td>7500</td></tr></tbody></table></div>"
      ],
      "text/plain": [
       "shape: (1, 4)\n",
       "┌─────────┬─────┬────────┬────────┐\n",
       "│ name    ┆ age ┆ length ┆ salary │\n",
       "│ ---     ┆ --- ┆ ---    ┆ ---    │\n",
       "│ str     ┆ i64 ┆ f64    ┆ i64    │\n",
       "╞═════════╪═════╪════════╪════════╡\n",
       "│ scarlet ┆ 400 ┆ 145.9  ┆ 7500   │\n",
       "└─────────┴─────┴────────┴────────┘"
      ]
     },
     "execution_count": 38,
     "metadata": {},
     "output_type": "execute_result"
    }
   ],
   "source": [
    "df.filter(pl.col(\"age\") > 18)"
   ]
  },
  {
   "cell_type": "markdown",
   "metadata": {},
   "source": [
    "## 与 select 联用\n"
   ]
  },
  {
   "cell_type": "code",
   "execution_count": 5,
   "metadata": {},
   "outputs": [
    {
     "data": {
      "text/html": [
       "<div><style>\n",
       ".dataframe > thead > tr,\n",
       ".dataframe > tbody > tr {\n",
       "  text-align: right;\n",
       "  white-space: pre-wrap;\n",
       "}\n",
       "</style>\n",
       "<small>shape: (1, 2)</small><table border=\"1\" class=\"dataframe\"><thead><tr><th>name</th><th>age</th></tr><tr><td>str</td><td>i64</td></tr></thead><tbody><tr><td>&quot;scarlet&quot;</td><td>400</td></tr></tbody></table></div>"
      ],
      "text/plain": [
       "shape: (1, 2)\n",
       "┌─────────┬─────┐\n",
       "│ name    ┆ age │\n",
       "│ ---     ┆ --- │\n",
       "│ str     ┆ i64 │\n",
       "╞═════════╪═════╡\n",
       "│ scarlet ┆ 400 │\n",
       "└─────────┴─────┘"
      ]
     },
     "execution_count": 5,
     "metadata": {},
     "output_type": "execute_result"
    }
   ],
   "source": [
    "df.filter(pl.col(\"age\") > 18).select(pl.col(\"name\", \"age\"))"
   ]
  },
  {
   "cell_type": "markdown",
   "metadata": {},
   "source": [
    "## 过滤字符串\n"
   ]
  },
  {
   "cell_type": "code",
   "execution_count": 8,
   "metadata": {},
   "outputs": [
    {
     "data": {
      "text/html": [
       "<div><style>\n",
       ".dataframe > thead > tr,\n",
       ".dataframe > tbody > tr {\n",
       "  text-align: right;\n",
       "  white-space: pre-wrap;\n",
       "}\n",
       "</style>\n",
       "<small>shape: (1, 4)</small><table border=\"1\" class=\"dataframe\"><thead><tr><th>name</th><th>age</th><th>length</th><th>salary</th></tr><tr><td>str</td><td>i64</td><td>f64</td><td>i64</td></tr></thead><tbody><tr><td>&quot;marisa&quot;</td><td>18</td><td>152.1</td><td>5000</td></tr></tbody></table></div>"
      ],
      "text/plain": [
       "shape: (1, 4)\n",
       "┌────────┬─────┬────────┬────────┐\n",
       "│ name   ┆ age ┆ length ┆ salary │\n",
       "│ ---    ┆ --- ┆ ---    ┆ ---    │\n",
       "│ str    ┆ i64 ┆ f64    ┆ i64    │\n",
       "╞════════╪═════╪════════╪════════╡\n",
       "│ marisa ┆ 18  ┆ 152.1  ┆ 5000   │\n",
       "└────────┴─────┴────────┴────────┘"
      ]
     },
     "execution_count": 8,
     "metadata": {},
     "output_type": "execute_result"
    }
   ],
   "source": [
    "df.filter(pl.col(\"name\").str.contains(\"risa\"))"
   ]
  },
  {
   "cell_type": "markdown",
   "metadata": {},
   "source": [
    "# 聚合\n"
   ]
  },
  {
   "cell_type": "markdown",
   "metadata": {},
   "source": [
    "## base\n"
   ]
  },
  {
   "cell_type": "code",
   "execution_count": 10,
   "metadata": {},
   "outputs": [
    {
     "data": {
      "text/html": [
       "<div><style>\n",
       ".dataframe > thead > tr,\n",
       ".dataframe > tbody > tr {\n",
       "  text-align: right;\n",
       "  white-space: pre-wrap;\n",
       "}\n",
       "</style>\n",
       "<small>shape: (3, 4)</small><table border=\"1\" class=\"dataframe\"><thead><tr><th>language</th><th>count</th><th>first</th><th>last</th></tr><tr><td>str</td><td>u32</td><td>str</td><td>str</td></tr></thead><tbody><tr><td>&quot;Golang&quot;</td><td>3</td><td>&quot;Gin&quot;</td><td>&quot;Iris&quot;</td></tr><tr><td>&quot;Rust&quot;</td><td>2</td><td>&quot;Axum&quot;</td><td>&quot;Tokio&quot;</td></tr><tr><td>&quot;Python&quot;</td><td>4</td><td>&quot;FastAPI&quot;</td><td>&quot;Flask&quot;</td></tr></tbody></table></div>"
      ],
      "text/plain": [
       "shape: (3, 4)\n",
       "┌──────────┬───────┬─────────┬───────┐\n",
       "│ language ┆ count ┆ first   ┆ last  │\n",
       "│ ---      ┆ ---   ┆ ---     ┆ ---   │\n",
       "│ str      ┆ u32   ┆ str     ┆ str   │\n",
       "╞══════════╪═══════╪═════════╪═══════╡\n",
       "│ Golang   ┆ 3     ┆ Gin     ┆ Iris  │\n",
       "│ Rust     ┆ 2     ┆ Axum    ┆ Tokio │\n",
       "│ Python   ┆ 4     ┆ FastAPI ┆ Flask │\n",
       "└──────────┴───────┴─────────┴───────┘"
      ]
     },
     "execution_count": 10,
     "metadata": {},
     "output_type": "execute_result"
    }
   ],
   "source": [
    "df = pl.DataFrame(\n",
    "    [\n",
    "        {\"language\": \"Python\", \"framework\": \"FastAPI\"},\n",
    "        {\"language\": \"Python\", \"framework\": \"Sanic\"},\n",
    "        {\"language\": \"Python\", \"framework\": \"Blacksheep\"},\n",
    "        {\"language\": \"Python\", \"framework\": \"Flask\"},\n",
    "        {\"language\": \"Golang\", \"framework\": \"Gin\"},\n",
    "        {\"language\": \"Golang\", \"framework\": \"Beego\"},\n",
    "        {\"language\": \"Golang\", \"framework\": \"Iris\"},\n",
    "        {\"language\": \"Rust\", \"framework\": \"Axum\"},\n",
    "        {\"language\": \"Rust\", \"framework\": \"Tokio\"},\n",
    "    ]\n",
    ")\n",
    "# 按照 language 进行分组\n",
    "df.group_by(\"language\").agg(\n",
    "    # 获取每组的元素个数\n",
    "    pl.col(\"framework\").count().alias(\"count\"),\n",
    "    # 获取每组的第一个元素\n",
    "    pl.col(\"framework\").first().alias(\"first\"),\n",
    "    # 获取每组的最后一个元素\n",
    "    pl.col(\"framework\").last().alias(\"last\"),\n",
    "    # 获取每组的最大值（字符串会比较字典序），这里求最大值没什么意义\n",
    "    # pl.col(\"framework\").max(),\n",
    "    # 当然还可以求和，基本上你能想到的任何操作都可以实现\n",
    "    # pl.col(\"framework\").sum(),\n",
    ")"
   ]
  },
  {
   "cell_type": "markdown",
   "metadata": {},
   "source": [
    "## 聚合并筛选\n"
   ]
  },
  {
   "cell_type": "code",
   "execution_count": 12,
   "metadata": {},
   "outputs": [
    {
     "data": {
      "text/html": [
       "<div><style>\n",
       ".dataframe > thead > tr,\n",
       ".dataframe > tbody > tr {\n",
       "  text-align: right;\n",
       "  white-space: pre-wrap;\n",
       "}\n",
       "</style>\n",
       "<small>shape: (1, 4)</small><table border=\"1\" class=\"dataframe\"><thead><tr><th>language</th><th>count</th><th>first</th><th>last</th></tr><tr><td>str</td><td>u32</td><td>str</td><td>str</td></tr></thead><tbody><tr><td>&quot;Python&quot;</td><td>4</td><td>&quot;FastAPI&quot;</td><td>&quot;Flask&quot;</td></tr></tbody></table></div>"
      ],
      "text/plain": [
       "shape: (1, 4)\n",
       "┌──────────┬───────┬─────────┬───────┐\n",
       "│ language ┆ count ┆ first   ┆ last  │\n",
       "│ ---      ┆ ---   ┆ ---     ┆ ---   │\n",
       "│ str      ┆ u32   ┆ str     ┆ str   │\n",
       "╞══════════╪═══════╪═════════╪═══════╡\n",
       "│ Python   ┆ 4     ┆ FastAPI ┆ Flask │\n",
       "└──────────┴───────┴─────────┴───────┘"
      ]
     },
     "execution_count": 12,
     "metadata": {},
     "output_type": "execute_result"
    }
   ],
   "source": [
    "df.group_by(\"language\").agg(\n",
    "    pl.col(\"framework\").count().alias(\"count\"),\n",
    "    pl.col(\"framework\").first().alias(\"first\"),\n",
    "    pl.col(\"framework\").last().alias(\"last\"),\n",
    ").filter(pl.col(\"count\") > 3)"
   ]
  },
  {
   "cell_type": "markdown",
   "metadata": {},
   "source": [
    "# 数据类型转换\n"
   ]
  },
  {
   "cell_type": "code",
   "execution_count": 13,
   "metadata": {},
   "outputs": [
    {
     "data": {
      "text/html": [
       "<div><style>\n",
       ".dataframe > thead > tr,\n",
       ".dataframe > tbody > tr {\n",
       "  text-align: right;\n",
       "  white-space: pre-wrap;\n",
       "}\n",
       "</style>\n",
       "<small>shape: (5, 3)</small><table border=\"1\" class=\"dataframe\"><thead><tr><th>integers</th><th>floats</th><th>floats_with_decimal</th></tr><tr><td>i64</td><td>f64</td><td>f64</td></tr></thead><tbody><tr><td>1</td><td>4.0</td><td>4.532</td></tr><tr><td>2</td><td>5.0</td><td>5.5</td></tr><tr><td>3</td><td>6.0</td><td>6.5</td></tr><tr><td>4</td><td>7.0</td><td>7.5</td></tr><tr><td>5</td><td>8.0</td><td>8.5</td></tr></tbody></table></div>"
      ],
      "text/plain": [
       "shape: (5, 3)\n",
       "┌──────────┬────────┬─────────────────────┐\n",
       "│ integers ┆ floats ┆ floats_with_decimal │\n",
       "│ ---      ┆ ---    ┆ ---                 │\n",
       "│ i64      ┆ f64    ┆ f64                 │\n",
       "╞══════════╪════════╪═════════════════════╡\n",
       "│ 1        ┆ 4.0    ┆ 4.532               │\n",
       "│ 2        ┆ 5.0    ┆ 5.5                 │\n",
       "│ 3        ┆ 6.0    ┆ 6.5                 │\n",
       "│ 4        ┆ 7.0    ┆ 7.5                 │\n",
       "│ 5        ┆ 8.0    ┆ 8.5                 │\n",
       "└──────────┴────────┴─────────────────────┘"
      ]
     },
     "execution_count": 13,
     "metadata": {},
     "output_type": "execute_result"
    }
   ],
   "source": [
    "df = pl.DataFrame(\n",
    "    {\n",
    "        \"integers\": [1, 2, 3, 4, 5],\n",
    "        \"floats\": [4.0, 5.0, 6.0, 7.0, 8.0],\n",
    "        \"floats_with_decimal\": [4.532, 5.5, 6.5, 7.5, 8.5],\n",
    "    }\n",
    ")\n",
    "df"
   ]
  },
  {
   "cell_type": "code",
   "execution_count": 14,
   "metadata": {},
   "outputs": [
    {
     "data": {
      "text/html": [
       "<div><style>\n",
       ".dataframe > thead > tr,\n",
       ".dataframe > tbody > tr {\n",
       "  text-align: right;\n",
       "  white-space: pre-wrap;\n",
       "}\n",
       "</style>\n",
       "<small>shape: (5, 3)</small><table border=\"1\" class=\"dataframe\"><thead><tr><th>integers_as_floats</th><th>floats_as_integers</th><th>floats_with_decimal_as_integers</th></tr><tr><td>f32</td><td>i32</td><td>i32</td></tr></thead><tbody><tr><td>1.0</td><td>4</td><td>4</td></tr><tr><td>2.0</td><td>5</td><td>5</td></tr><tr><td>3.0</td><td>6</td><td>6</td></tr><tr><td>4.0</td><td>7</td><td>7</td></tr><tr><td>5.0</td><td>8</td><td>8</td></tr></tbody></table></div>"
      ],
      "text/plain": [
       "shape: (5, 3)\n",
       "┌────────────────────┬────────────────────┬─────────────────────────────────┐\n",
       "│ integers_as_floats ┆ floats_as_integers ┆ floats_with_decimal_as_integers │\n",
       "│ ---                ┆ ---                ┆ ---                             │\n",
       "│ f32                ┆ i32                ┆ i32                             │\n",
       "╞════════════════════╪════════════════════╪═════════════════════════════════╡\n",
       "│ 1.0                ┆ 4                  ┆ 4                               │\n",
       "│ 2.0                ┆ 5                  ┆ 5                               │\n",
       "│ 3.0                ┆ 6                  ┆ 6                               │\n",
       "│ 4.0                ┆ 7                  ┆ 7                               │\n",
       "│ 5.0                ┆ 8                  ┆ 8                               │\n",
       "└────────────────────┴────────────────────┴─────────────────────────────────┘"
      ]
     },
     "execution_count": 14,
     "metadata": {},
     "output_type": "execute_result"
    }
   ],
   "source": [
    "df.select(\n",
    "    pl.col(\"integers\").cast(pl.Float32).alias(\"integers_as_floats\"),\n",
    "    pl.col(\"floats\").cast(pl.Int32).alias(\"floats_as_integers\"),\n",
    "    pl.col(\"floats_with_decimal\")\n",
    "    .cast(pl.Int32)\n",
    "    .alias(\"floats_with_decimal_as_integers\"),\n",
    ")"
   ]
  },
  {
   "cell_type": "code",
   "execution_count": null,
   "metadata": {},
   "outputs": [],
   "source": []
  }
 ],
 "metadata": {
  "kernelspec": {
   "display_name": "Python 3",
   "language": "python",
   "name": "python3"
  },
  "language_info": {
   "codemirror_mode": {
    "name": "ipython",
    "version": 3
   },
   "file_extension": ".py",
   "mimetype": "text/x-python",
   "name": "python",
   "nbconvert_exporter": "python",
   "pygments_lexer": "ipython3",
   "version": "3.10.11"
  }
 },
 "nbformat": 4,
 "nbformat_minor": 2
}
