{
 "cells": [
  {
   "cell_type": "markdown",
   "metadata": {},
   "source": [
    "# 创建 DataFrame\n"
   ]
  },
  {
   "cell_type": "markdown",
   "metadata": {},
   "source": [
    "## 类型\n"
   ]
  },
  {
   "cell_type": "markdown",
   "metadata": {},
   "source": [
    "### 自动推断类型\n"
   ]
  },
  {
   "cell_type": "code",
   "execution_count": 6,
   "metadata": {},
   "outputs": [
    {
     "data": {
      "text/html": [
       "<div><style>\n",
       ".dataframe > thead > tr,\n",
       ".dataframe > tbody > tr {\n",
       "  text-align: right;\n",
       "  white-space: pre-wrap;\n",
       "}\n",
       "</style>\n",
       "<small>shape: (4, 4)</small><table border=\"1\" class=\"dataframe\"><thead><tr><th>name</th><th>birthdate</th><th>weight</th><th>height</th></tr><tr><td>str</td><td>date</td><td>f64</td><td>f64</td></tr></thead><tbody><tr><td>&quot;Alice Archer&quot;</td><td>1997-01-10</td><td>57.9</td><td>1.56</td></tr><tr><td>&quot;Ben Brown&quot;</td><td>1985-02-15</td><td>72.5</td><td>1.77</td></tr><tr><td>&quot;Chloe Cooper&quot;</td><td>1981-04-30</td><td>53.6</td><td>1.65</td></tr><tr><td>&quot;Daniel Donovan&quot;</td><td>1989-04-30</td><td>83.1</td><td>1.75</td></tr></tbody></table></div>"
      ],
      "text/plain": [
       "shape: (4, 4)\n",
       "┌────────────────┬────────────┬────────┬────────┐\n",
       "│ name           ┆ birthdate  ┆ weight ┆ height │\n",
       "│ ---            ┆ ---        ┆ ---    ┆ ---    │\n",
       "│ str            ┆ date       ┆ f64    ┆ f64    │\n",
       "╞════════════════╪════════════╪════════╪════════╡\n",
       "│ Alice Archer   ┆ 1997-01-10 ┆ 57.9   ┆ 1.56   │\n",
       "│ Ben Brown      ┆ 1985-02-15 ┆ 72.5   ┆ 1.77   │\n",
       "│ Chloe Cooper   ┆ 1981-04-30 ┆ 53.6   ┆ 1.65   │\n",
       "│ Daniel Donovan ┆ 1989-04-30 ┆ 83.1   ┆ 1.75   │\n",
       "└────────────────┴────────────┴────────┴────────┘"
      ]
     },
     "execution_count": 6,
     "metadata": {},
     "output_type": "execute_result"
    }
   ],
   "source": [
    "import polars as pl\n",
    "import datetime as dt\n",
    "\n",
    "df = pl.DataFrame(\n",
    "    {\n",
    "        \"name\": [\"Alice Archer\", \"Ben Brown\", \"Chloe Cooper\", \"Daniel Donovan\"],\n",
    "        \"birthdate\": [\n",
    "            dt.date(1997, 1, 10),\n",
    "            dt.date(1985, 2, 15),\n",
    "            dt.date(1981, 4, 30),\n",
    "            dt.date(1989, 4, 30),\n",
    "        ],\n",
    "        \"weight\": [57.9, 72.5, 53.6, 83.1],  # (kg)\n",
    "        \"height\": [1.56, 1.77, 1.65, 1.75],  # (m)\n",
    "    }\n",
    ")\n",
    "# 严格类型(没有指定Polars 会自己推断)\n",
    "df"
   ]
  },
  {
   "cell_type": "markdown",
   "metadata": {},
   "source": [
    "### 指定类型\n"
   ]
  },
  {
   "cell_type": "code",
   "execution_count": 1,
   "metadata": {},
   "outputs": [
    {
     "data": {
      "text/html": [
       "<div><style>\n",
       ".dataframe > thead > tr,\n",
       ".dataframe > tbody > tr {\n",
       "  text-align: right;\n",
       "  white-space: pre-wrap;\n",
       "}\n",
       "</style>\n",
       "<small>shape: (2, 2)</small><table border=\"1\" class=\"dataframe\"><thead><tr><th>col1</th><th>col2</th></tr><tr><td>f32</td><td>i64</td></tr></thead><tbody><tr><td>0.0</td><td>3</td></tr><tr><td>2.0</td><td>7</td></tr></tbody></table></div>"
      ],
      "text/plain": [
       "shape: (2, 2)\n",
       "┌──────┬──────┐\n",
       "│ col1 ┆ col2 │\n",
       "│ ---  ┆ ---  │\n",
       "│ f32  ┆ i64  │\n",
       "╞══════╪══════╡\n",
       "│ 0.0  ┆ 3    │\n",
       "│ 2.0  ┆ 7    │\n",
       "└──────┴──────┘"
      ]
     },
     "execution_count": 1,
     "metadata": {},
     "output_type": "execute_result"
    }
   ],
   "source": [
    "import polars as pl\n",
    "\n",
    "df = pl.DataFrame(\n",
    "    {\"col1\": [0, 2], \"col2\": [3, 7]}, schema={\"col1\": pl.Float32, \"col2\": pl.Int64}\n",
    ")\n",
    "\n",
    "df"
   ]
  },
  {
   "cell_type": "code",
   "execution_count": 6,
   "metadata": {},
   "outputs": [
    {
     "data": {
      "text/html": [
       "<div><style>\n",
       ".dataframe > thead > tr,\n",
       ".dataframe > tbody > tr {\n",
       "  text-align: right;\n",
       "  white-space: pre-wrap;\n",
       "}\n",
       "</style>\n",
       "<small>shape: (2, 2)</small><table border=\"1\" class=\"dataframe\"><thead><tr><th>col1</th><th>col2</th></tr><tr><td>f32</td><td>i64</td></tr></thead><tbody><tr><td>0.0</td><td>3</td></tr><tr><td>2.0</td><td>7</td></tr></tbody></table></div>"
      ],
      "text/plain": [
       "shape: (2, 2)\n",
       "┌──────┬──────┐\n",
       "│ col1 ┆ col2 │\n",
       "│ ---  ┆ ---  │\n",
       "│ f32  ┆ i64  │\n",
       "╞══════╪══════╡\n",
       "│ 0.0  ┆ 3    │\n",
       "│ 2.0  ┆ 7    │\n",
       "└──────┴──────┘"
      ]
     },
     "execution_count": 6,
     "metadata": {},
     "output_type": "execute_result"
    }
   ],
   "source": [
    "pl.DataFrame(\n",
    "    {\"col1\": [0, 2], \"col2\": [3, 7]}, schema=[(\"col1\", pl.Float32), (\"col2\", pl.Int64)]\n",
    ")"
   ]
  },
  {
   "cell_type": "markdown",
   "metadata": {},
   "source": [
    "## 创建方式\n"
   ]
  },
  {
   "cell_type": "markdown",
   "metadata": {},
   "source": [
    "### 基于 Series\n"
   ]
  },
  {
   "cell_type": "code",
   "execution_count": 7,
   "metadata": {},
   "outputs": [
    {
     "data": {
      "text/html": [
       "<div><style>\n",
       ".dataframe > thead > tr,\n",
       ".dataframe > tbody > tr {\n",
       "  text-align: right;\n",
       "  white-space: pre-wrap;\n",
       "}\n",
       "</style>\n",
       "<small>shape: (2, 2)</small><table border=\"1\" class=\"dataframe\"><thead><tr><th>col1</th><th>col2</th></tr><tr><td>f32</td><td>i64</td></tr></thead><tbody><tr><td>0.0</td><td>3</td></tr><tr><td>2.0</td><td>7</td></tr></tbody></table></div>"
      ],
      "text/plain": [
       "shape: (2, 2)\n",
       "┌──────┬──────┐\n",
       "│ col1 ┆ col2 │\n",
       "│ ---  ┆ ---  │\n",
       "│ f32  ┆ i64  │\n",
       "╞══════╪══════╡\n",
       "│ 0.0  ┆ 3    │\n",
       "│ 2.0  ┆ 7    │\n",
       "└──────┴──────┘"
      ]
     },
     "execution_count": 7,
     "metadata": {},
     "output_type": "execute_result"
    }
   ],
   "source": [
    "df = pl.DataFrame(\n",
    "    [\n",
    "        pl.Series(\"col1\", [0, 2], dtype=pl.Float32),\n",
    "        pl.Series(\"col2\", [3, 7], dtype=pl.Int64),\n",
    "    ]\n",
    ")\n",
    "df"
   ]
  },
  {
   "cell_type": "markdown",
   "metadata": {},
   "source": [
    "### 基于 list\n"
   ]
  },
  {
   "cell_type": "code",
   "execution_count": 12,
   "metadata": {},
   "outputs": [
    {
     "data": {
      "text/html": [
       "<div><style>\n",
       ".dataframe > thead > tr,\n",
       ".dataframe > tbody > tr {\n",
       "  text-align: right;\n",
       "  white-space: pre-wrap;\n",
       "}\n",
       "</style>\n",
       "<small>shape: (2, 2)</small><table border=\"1\" class=\"dataframe\"><thead><tr><th>col1</th><th>col2</th></tr><tr><td>i64</td><td>i64</td></tr></thead><tbody><tr><td>0</td><td>3</td></tr><tr><td>2</td><td>7</td></tr></tbody></table></div>"
      ],
      "text/plain": [
       "shape: (2, 2)\n",
       "┌──────┬──────┐\n",
       "│ col1 ┆ col2 │\n",
       "│ ---  ┆ ---  │\n",
       "│ i64  ┆ i64  │\n",
       "╞══════╪══════╡\n",
       "│ 0    ┆ 3    │\n",
       "│ 2    ┆ 7    │\n",
       "└──────┴──────┘"
      ]
     },
     "execution_count": 12,
     "metadata": {},
     "output_type": "execute_result"
    }
   ],
   "source": [
    "df2 = pl.DataFrame([[0, 2], [3, 7]], schema=[\"col1\", \"col2\"])\n",
    "df2"
   ]
  },
  {
   "cell_type": "markdown",
   "metadata": {},
   "source": [
    "### 基于 dict\n"
   ]
  },
  {
   "cell_type": "code",
   "execution_count": 15,
   "metadata": {},
   "outputs": [
    {
     "data": {
      "text/html": [
       "<div><style>\n",
       ".dataframe > thead > tr,\n",
       ".dataframe > tbody > tr {\n",
       "  text-align: right;\n",
       "  white-space: pre-wrap;\n",
       "}\n",
       "</style>\n",
       "<small>shape: (5, 3)</small><table border=\"1\" class=\"dataframe\"><thead><tr><th>语文</th><th>数学</th><th>英语</th></tr><tr><td>i64</td><td>i64</td><td>i64</td></tr></thead><tbody><tr><td>62</td><td>95</td><td>66</td></tr><tr><td>72</td><td>65</td><td>75</td></tr><tr><td>93</td><td>86</td><td>82</td></tr><tr><td>88</td><td>66</td><td>69</td></tr><tr><td>93</td><td>87</td><td>82</td></tr></tbody></table></div>"
      ],
      "text/plain": [
       "shape: (5, 3)\n",
       "┌──────┬──────┬──────┐\n",
       "│ 语文 ┆ 数学 ┆ 英语 │\n",
       "│ ---  ┆ ---  ┆ ---  │\n",
       "│ i64  ┆ i64  ┆ i64  │\n",
       "╞══════╪══════╪══════╡\n",
       "│ 62   ┆ 95   ┆ 66   │\n",
       "│ 72   ┆ 65   ┆ 75   │\n",
       "│ 93   ┆ 86   ┆ 82   │\n",
       "│ 88   ┆ 66   ┆ 69   │\n",
       "│ 93   ┆ 87   ┆ 82   │\n",
       "└──────┴──────┴──────┘"
      ]
     },
     "execution_count": 15,
     "metadata": {},
     "output_type": "execute_result"
    }
   ],
   "source": [
    "dict_scores_data = {\n",
    "    \"语文\": [62, 72, 93, 88, 93],\n",
    "    \"数学\": [95, 65, 86, 66, 87],\n",
    "    \"英语\": [66, 75, 82, 69, 82],\n",
    "}\n",
    "df = pl.DataFrame(dict_scores_data)\n",
    "df"
   ]
  },
  {
   "cell_type": "markdown",
   "metadata": {},
   "source": [
    "### 基于 lis[dict]\n",
    "\n",
    "如果某个字段不存在，那么会被设置为空，在 Polars 里面空使用 null\n"
   ]
  },
  {
   "cell_type": "code",
   "execution_count": 22,
   "metadata": {},
   "outputs": [
    {
     "data": {
      "text/html": [
       "<div><style>\n",
       ".dataframe > thead > tr,\n",
       ".dataframe > tbody > tr {\n",
       "  text-align: right;\n",
       "  white-space: pre-wrap;\n",
       "}\n",
       "</style>\n",
       "<small>shape: (3, 3)</small><table border=\"1\" class=\"dataframe\"><thead><tr><th>col1</th><th>col2</th><th>col3</th></tr><tr><td>i64</td><td>i64</td><td>i64</td></tr></thead><tbody><tr><td>0</td><td>3</td><td>null</td></tr><tr><td>2</td><td>7</td><td>null</td></tr><tr><td>4</td><td>5</td><td>3</td></tr></tbody></table></div>"
      ],
      "text/plain": [
       "shape: (3, 3)\n",
       "┌──────┬──────┬──────┐\n",
       "│ col1 ┆ col2 ┆ col3 │\n",
       "│ ---  ┆ ---  ┆ ---  │\n",
       "│ i64  ┆ i64  ┆ i64  │\n",
       "╞══════╪══════╪══════╡\n",
       "│ 0    ┆ 3    ┆ null │\n",
       "│ 2    ┆ 7    ┆ null │\n",
       "│ 4    ┆ 5    ┆ 3    │\n",
       "└──────┴──────┴──────┘"
      ]
     },
     "execution_count": 22,
     "metadata": {},
     "output_type": "execute_result"
    }
   ],
   "source": [
    "df = pl.DataFrame(\n",
    "    [\n",
    "        {\"col1\": 0, \"col2\": 3},\n",
    "        {\"col1\": 2, \"col2\": 7},\n",
    "        {\"col1\": 4, \"col2\": 5, \"col3\": 3},\n",
    "    ]\n",
    ")\n",
    "df"
   ]
  },
  {
   "cell_type": "markdown",
   "metadata": {},
   "source": [
    "### 基于 list[list] k 线\n"
   ]
  },
  {
   "cell_type": "code",
   "execution_count": null,
   "metadata": {},
   "outputs": [],
   "source": []
  },
  {
   "cell_type": "markdown",
   "metadata": {},
   "source": [
    "## 方向 orient\n",
    "\n",
    "--建议手动指定此参数(除了)\n",
    "\n",
    "- \"row\"\n",
    "- \"col\"\n",
    "- None :默认为 None，表示让 Polars 自己推断(如果参数是字典，那么一个键值对就是一列；如果参数是 Series ，那么一个 Series 就是一列)\n"
   ]
  },
  {
   "cell_type": "markdown",
   "metadata": {},
   "source": [
    "### col\n",
    "\n",
    "内部每个列表都是一列\n"
   ]
  },
  {
   "cell_type": "code",
   "execution_count": 13,
   "metadata": {},
   "outputs": [
    {
     "data": {
      "text/html": [
       "<div><style>\n",
       ".dataframe > thead > tr,\n",
       ".dataframe > tbody > tr {\n",
       "  text-align: right;\n",
       "  white-space: pre-wrap;\n",
       "}\n",
       "</style>\n",
       "<small>shape: (2, 2)</small><table border=\"1\" class=\"dataframe\"><thead><tr><th>col1</th><th>col2</th></tr><tr><td>i64</td><td>i64</td></tr></thead><tbody><tr><td>0</td><td>3</td></tr><tr><td>2</td><td>7</td></tr></tbody></table></div>"
      ],
      "text/plain": [
       "shape: (2, 2)\n",
       "┌──────┬──────┐\n",
       "│ col1 ┆ col2 │\n",
       "│ ---  ┆ ---  │\n",
       "│ i64  ┆ i64  │\n",
       "╞══════╪══════╡\n",
       "│ 0    ┆ 3    │\n",
       "│ 2    ┆ 7    │\n",
       "└──────┴──────┘"
      ]
     },
     "execution_count": 13,
     "metadata": {},
     "output_type": "execute_result"
    }
   ],
   "source": [
    "df = pl.DataFrame([[0, 2], [3, 7]], schema=[\"col1\", \"col2\"], orient=\"col\")\n",
    "df"
   ]
  },
  {
   "cell_type": "markdown",
   "metadata": {},
   "source": [
    "### row\n",
    "\n",
    "内部每个列表都是一行\n"
   ]
  },
  {
   "cell_type": "code",
   "execution_count": 14,
   "metadata": {},
   "outputs": [
    {
     "data": {
      "text/html": [
       "<div><style>\n",
       ".dataframe > thead > tr,\n",
       ".dataframe > tbody > tr {\n",
       "  text-align: right;\n",
       "  white-space: pre-wrap;\n",
       "}\n",
       "</style>\n",
       "<small>shape: (2, 2)</small><table border=\"1\" class=\"dataframe\"><thead><tr><th>col1</th><th>col2</th></tr><tr><td>i64</td><td>i64</td></tr></thead><tbody><tr><td>0</td><td>2</td></tr><tr><td>3</td><td>7</td></tr></tbody></table></div>"
      ],
      "text/plain": [
       "shape: (2, 2)\n",
       "┌──────┬──────┐\n",
       "│ col1 ┆ col2 │\n",
       "│ ---  ┆ ---  │\n",
       "│ i64  ┆ i64  │\n",
       "╞══════╪══════╡\n",
       "│ 0    ┆ 2    │\n",
       "│ 3    ┆ 7    │\n",
       "└──────┴──────┘"
      ]
     },
     "execution_count": 14,
     "metadata": {},
     "output_type": "execute_result"
    }
   ],
   "source": [
    "df = pl.DataFrame([[0, 2], [3, 7]], schema=[\"col1\", \"col2\"], orient=\"row\")\n",
    "df"
   ]
  },
  {
   "cell_type": "markdown",
   "metadata": {},
   "source": [
    "### 解释方向对 Series/dict 无效\n",
    "\n",
    "因为这两个固定都是列\n"
   ]
  },
  {
   "cell_type": "code",
   "execution_count": 17,
   "metadata": {},
   "outputs": [],
   "source": [
    "df1 = pl.DataFrame(\n",
    "    [\n",
    "        pl.Series(\"col1\", [0, 2], dtype=pl.Float32),\n",
    "        pl.Series(\"col2\", [3, 7], dtype=pl.Int64),\n",
    "    ],\n",
    "    orient=\"row\",\n",
    ")\n",
    "df2 = pl.DataFrame(\n",
    "    [\n",
    "        pl.Series(\"col1\", [0, 2], dtype=pl.Float32),\n",
    "        pl.Series(\"col2\", [3, 7], dtype=pl.Int64),\n",
    "    ],\n",
    "    orient=\"col\",\n",
    ")"
   ]
  },
  {
   "cell_type": "code",
   "execution_count": 18,
   "metadata": {},
   "outputs": [
    {
     "data": {
      "text/html": [
       "<div><style>\n",
       ".dataframe > thead > tr,\n",
       ".dataframe > tbody > tr {\n",
       "  text-align: right;\n",
       "  white-space: pre-wrap;\n",
       "}\n",
       "</style>\n",
       "<small>shape: (2, 2)</small><table border=\"1\" class=\"dataframe\"><thead><tr><th>col1</th><th>col2</th></tr><tr><td>f32</td><td>i64</td></tr></thead><tbody><tr><td>0.0</td><td>3</td></tr><tr><td>2.0</td><td>7</td></tr></tbody></table></div>"
      ],
      "text/plain": [
       "shape: (2, 2)\n",
       "┌──────┬──────┐\n",
       "│ col1 ┆ col2 │\n",
       "│ ---  ┆ ---  │\n",
       "│ f32  ┆ i64  │\n",
       "╞══════╪══════╡\n",
       "│ 0.0  ┆ 3    │\n",
       "│ 2.0  ┆ 7    │\n",
       "└──────┴──────┘"
      ]
     },
     "execution_count": 18,
     "metadata": {},
     "output_type": "execute_result"
    }
   ],
   "source": [
    "df1"
   ]
  },
  {
   "cell_type": "code",
   "execution_count": 19,
   "metadata": {},
   "outputs": [
    {
     "data": {
      "text/html": [
       "<div><style>\n",
       ".dataframe > thead > tr,\n",
       ".dataframe > tbody > tr {\n",
       "  text-align: right;\n",
       "  white-space: pre-wrap;\n",
       "}\n",
       "</style>\n",
       "<small>shape: (2, 2)</small><table border=\"1\" class=\"dataframe\"><thead><tr><th>col1</th><th>col2</th></tr><tr><td>f32</td><td>i64</td></tr></thead><tbody><tr><td>0.0</td><td>3</td></tr><tr><td>2.0</td><td>7</td></tr></tbody></table></div>"
      ],
      "text/plain": [
       "shape: (2, 2)\n",
       "┌──────┬──────┐\n",
       "│ col1 ┆ col2 │\n",
       "│ ---  ┆ ---  │\n",
       "│ f32  ┆ i64  │\n",
       "╞══════╪══════╡\n",
       "│ 0.0  ┆ 3    │\n",
       "│ 2.0  ┆ 7    │\n",
       "└──────┴──────┘"
      ]
     },
     "execution_count": 19,
     "metadata": {},
     "output_type": "execute_result"
    }
   ],
   "source": [
    "df2"
   ]
  },
  {
   "cell_type": "markdown",
   "metadata": {},
   "source": [
    "## 定义列名\n"
   ]
  },
  {
   "cell_type": "markdown",
   "metadata": {},
   "source": [
    "### 手动指定\n",
    "\n",
    "通过 schema 指定\n"
   ]
  },
  {
   "cell_type": "code",
   "execution_count": 20,
   "metadata": {},
   "outputs": [
    {
     "data": {
      "text/html": [
       "<div><style>\n",
       ".dataframe > thead > tr,\n",
       ".dataframe > tbody > tr {\n",
       "  text-align: right;\n",
       "  white-space: pre-wrap;\n",
       "}\n",
       "</style>\n",
       "<small>shape: (2, 2)</small><table border=\"1\" class=\"dataframe\"><thead><tr><th>col1</th><th>col2</th></tr><tr><td>f32</td><td>i64</td></tr></thead><tbody><tr><td>0.0</td><td>3</td></tr><tr><td>2.0</td><td>7</td></tr></tbody></table></div>"
      ],
      "text/plain": [
       "shape: (2, 2)\n",
       "┌──────┬──────┐\n",
       "│ col1 ┆ col2 │\n",
       "│ ---  ┆ ---  │\n",
       "│ f32  ┆ i64  │\n",
       "╞══════╪══════╡\n",
       "│ 0.0  ┆ 3    │\n",
       "│ 2.0  ┆ 7    │\n",
       "└──────┴──────┘"
      ]
     },
     "execution_count": 20,
     "metadata": {},
     "output_type": "execute_result"
    }
   ],
   "source": [
    "df = pl.DataFrame([[0, 2], [3, 7]], schema={\"col1\": pl.Float32, \"col2\": pl.Int64})\n",
    "df"
   ]
  },
  {
   "cell_type": "markdown",
   "metadata": {},
   "source": [
    "### 自动生成\n",
    "\n",
    "Polars 会自动以 column_0、column_1、··· 的方式赋予列名\n"
   ]
  },
  {
   "cell_type": "code",
   "execution_count": 24,
   "metadata": {},
   "outputs": [],
   "source": [
    "df = pl.DataFrame([[0, 2], [3, 7]])\n",
    "df"
   ]
  },
  {
   "cell_type": "markdown",
   "metadata": {},
   "source": [
    "# 类型转换\n"
   ]
  },
  {
   "cell_type": "code",
   "execution_count": null,
   "metadata": {},
   "outputs": [
    {
     "data": {
      "text/html": [
       "<div><style>\n",
       ".dataframe > thead > tr,\n",
       ".dataframe > tbody > tr {\n",
       "  text-align: right;\n",
       "  white-space: pre-wrap;\n",
       "}\n",
       "</style>\n",
       "<small>shape: (5, 3)</small><table border=\"1\" class=\"dataframe\"><thead><tr><th>integers</th><th>floats</th><th>floats_with_decimal</th></tr><tr><td>i64</td><td>f64</td><td>f64</td></tr></thead><tbody><tr><td>1</td><td>4.0</td><td>4.532</td></tr><tr><td>2</td><td>5.0</td><td>5.5</td></tr><tr><td>3</td><td>6.0</td><td>6.5</td></tr><tr><td>4</td><td>7.0</td><td>7.5</td></tr><tr><td>5</td><td>8.0</td><td>8.5</td></tr></tbody></table></div>"
      ],
      "text/plain": [
       "shape: (5, 3)\n",
       "┌──────────┬────────┬─────────────────────┐\n",
       "│ integers ┆ floats ┆ floats_with_decimal │\n",
       "│ ---      ┆ ---    ┆ ---                 │\n",
       "│ i64      ┆ f64    ┆ f64                 │\n",
       "╞══════════╪════════╪═════════════════════╡\n",
       "│ 1        ┆ 4.0    ┆ 4.532               │\n",
       "│ 2        ┆ 5.0    ┆ 5.5                 │\n",
       "│ 3        ┆ 6.0    ┆ 6.5                 │\n",
       "│ 4        ┆ 7.0    ┆ 7.5                 │\n",
       "│ 5        ┆ 8.0    ┆ 8.5                 │\n",
       "└──────────┴────────┴─────────────────────┘"
      ]
     },
     "metadata": {},
     "output_type": "display_data"
    }
   ],
   "source": [
    "df = pl.DataFrame(\n",
    "    {\n",
    "        \"integers\": [1, 2, 3, 4, 5],\n",
    "        \"floats\": [4.0, 5.0, 6.0, 7.0, 8.0],\n",
    "        \"floats_with_decimal\": [4.532, 5.5, 6.5, 7.5, 8.5],\n",
    "    }\n",
    ")\n",
    "df"
   ]
  },
  {
   "cell_type": "code",
   "execution_count": null,
   "metadata": {},
   "outputs": [
    {
     "data": {
      "text/html": [
       "<div><style>\n",
       ".dataframe > thead > tr,\n",
       ".dataframe > tbody > tr {\n",
       "  text-align: right;\n",
       "  white-space: pre-wrap;\n",
       "}\n",
       "</style>\n",
       "<small>shape: (5, 3)</small><table border=\"1\" class=\"dataframe\"><thead><tr><th>integers_as_floats</th><th>floats_as_integers</th><th>floats_with_decimal_as_integers</th></tr><tr><td>f32</td><td>i32</td><td>i32</td></tr></thead><tbody><tr><td>1.0</td><td>4</td><td>4</td></tr><tr><td>2.0</td><td>5</td><td>5</td></tr><tr><td>3.0</td><td>6</td><td>6</td></tr><tr><td>4.0</td><td>7</td><td>7</td></tr><tr><td>5.0</td><td>8</td><td>8</td></tr></tbody></table></div>"
      ],
      "text/plain": [
       "shape: (5, 3)\n",
       "┌────────────────────┬────────────────────┬─────────────────────────────────┐\n",
       "│ integers_as_floats ┆ floats_as_integers ┆ floats_with_decimal_as_integers │\n",
       "│ ---                ┆ ---                ┆ ---                             │\n",
       "│ f32                ┆ i32                ┆ i32                             │\n",
       "╞════════════════════╪════════════════════╪═════════════════════════════════╡\n",
       "│ 1.0                ┆ 4                  ┆ 4                               │\n",
       "│ 2.0                ┆ 5                  ┆ 5                               │\n",
       "│ 3.0                ┆ 6                  ┆ 6                               │\n",
       "│ 4.0                ┆ 7                  ┆ 7                               │\n",
       "│ 5.0                ┆ 8                  ┆ 8                               │\n",
       "└────────────────────┴────────────────────┴─────────────────────────────────┘"
      ]
     },
     "metadata": {},
     "output_type": "display_data"
    }
   ],
   "source": [
    "df.select(\n",
    "    pl.col(\"integers\").cast(pl.Float32).alias(\"integers_as_floats\"),\n",
    "    pl.col(\"floats\").cast(pl.Int32).alias(\"floats_as_integers\"),\n",
    "    pl.col(\"floats_with_decimal\")\n",
    "    .cast(pl.Int32)\n",
    "    .alias(\"floats_with_decimal_as_integers\"),\n",
    ")"
   ]
  },
  {
   "cell_type": "markdown",
   "metadata": {},
   "source": [
    "# Contexts(上下文)\n",
    "\n",
    "- 上下文负责执行表达式\n",
    "- select、with_columns、filter、group 都是上下文\n"
   ]
  },
  {
   "cell_type": "markdown",
   "metadata": {},
   "source": [
    "## select\n",
    "\n",
    "- select() 会返回一个新的 DataFrame，不会影响原有的 df\n",
    "- 在基础列上读出更少的列\n",
    "- 越读越少\n",
    "- 更详细的 select 见 Expression->分类->列选择\n"
   ]
  },
  {
   "cell_type": "code",
   "execution_count": 69,
   "metadata": {},
   "outputs": [
    {
     "data": {
      "text/html": [
       "<div><style>\n",
       ".dataframe > thead > tr,\n",
       ".dataframe > tbody > tr {\n",
       "  text-align: right;\n",
       "  white-space: pre-wrap;\n",
       "}\n",
       "</style>\n",
       "<small>shape: (3, 4)</small><table border=\"1\" class=\"dataframe\"><thead><tr><th>name</th><th>age</th><th>length</th><th>salary</th></tr><tr><td>str</td><td>i64</td><td>f64</td><td>i64</td></tr></thead><tbody><tr><td>&quot;satori&quot;</td><td>16</td><td>155.3</td><td>6000</td></tr><tr><td>&quot;scarlet&quot;</td><td>400</td><td>145.9</td><td>7500</td></tr><tr><td>&quot;marisa&quot;</td><td>18</td><td>152.1</td><td>5000</td></tr></tbody></table></div>"
      ],
      "text/plain": [
       "shape: (3, 4)\n",
       "┌─────────┬─────┬────────┬────────┐\n",
       "│ name    ┆ age ┆ length ┆ salary │\n",
       "│ ---     ┆ --- ┆ ---    ┆ ---    │\n",
       "│ str     ┆ i64 ┆ f64    ┆ i64    │\n",
       "╞═════════╪═════╪════════╪════════╡\n",
       "│ satori  ┆ 16  ┆ 155.3  ┆ 6000   │\n",
       "│ scarlet ┆ 400 ┆ 145.9  ┆ 7500   │\n",
       "│ marisa  ┆ 18  ┆ 152.1  ┆ 5000   │\n",
       "└─────────┴─────┴────────┴────────┘"
      ]
     },
     "execution_count": 69,
     "metadata": {},
     "output_type": "execute_result"
    }
   ],
   "source": [
    "df = pl.DataFrame(\n",
    "    {\n",
    "        \"name\": [\"satori\", \"scarlet\", \"marisa\"],\n",
    "        \"age\": [16, 400, 18],\n",
    "        \"length\": [155.3, 145.9, 152.1],\n",
    "        \"salary\": [6000, 7500, 5000],\n",
    "    }\n",
    ")\n",
    "df"
   ]
  },
  {
   "cell_type": "code",
   "execution_count": 70,
   "metadata": {},
   "outputs": [
    {
     "data": {
      "text/html": [
       "<div><style>\n",
       ".dataframe > thead > tr,\n",
       ".dataframe > tbody > tr {\n",
       "  text-align: right;\n",
       "  white-space: pre-wrap;\n",
       "}\n",
       "</style>\n",
       "<small>shape: (3, 2)</small><table border=\"1\" class=\"dataframe\"><thead><tr><th>name</th><th>age</th></tr><tr><td>str</td><td>i64</td></tr></thead><tbody><tr><td>&quot;satori&quot;</td><td>16</td></tr><tr><td>&quot;scarlet&quot;</td><td>400</td></tr><tr><td>&quot;marisa&quot;</td><td>18</td></tr></tbody></table></div>"
      ],
      "text/plain": [
       "shape: (3, 2)\n",
       "┌─────────┬─────┐\n",
       "│ name    ┆ age │\n",
       "│ ---     ┆ --- │\n",
       "│ str     ┆ i64 │\n",
       "╞═════════╪═════╡\n",
       "│ satori  ┆ 16  │\n",
       "│ scarlet ┆ 400 │\n",
       "│ marisa  ┆ 18  │\n",
       "└─────────┴─────┘"
      ]
     },
     "execution_count": 70,
     "metadata": {},
     "output_type": "execute_result"
    }
   ],
   "source": [
    "df.select(pl.col(\"name\", \"age\"))"
   ]
  },
  {
   "cell_type": "markdown",
   "metadata": {},
   "source": [
    "## with_columns\n",
    "\n",
    "- 在基础列上读出更多的列\n",
    "- 阅读越多\n"
   ]
  },
  {
   "cell_type": "code",
   "execution_count": 7,
   "metadata": {},
   "outputs": [
    {
     "data": {
      "text/html": [
       "<div><style>\n",
       ".dataframe > thead > tr,\n",
       ".dataframe > tbody > tr {\n",
       "  text-align: right;\n",
       "  white-space: pre-wrap;\n",
       "}\n",
       "</style>\n",
       "<small>shape: (4, 6)</small><table border=\"1\" class=\"dataframe\"><thead><tr><th>name</th><th>birthdate</th><th>weight</th><th>height</th><th>birth_year</th><th>bmi</th></tr><tr><td>str</td><td>date</td><td>f64</td><td>f64</td><td>i32</td><td>f64</td></tr></thead><tbody><tr><td>&quot;Alice Archer&quot;</td><td>1997-01-10</td><td>57.9</td><td>1.56</td><td>1997</td><td>23.791913</td></tr><tr><td>&quot;Ben Brown&quot;</td><td>1985-02-15</td><td>72.5</td><td>1.77</td><td>1985</td><td>23.141498</td></tr><tr><td>&quot;Chloe Cooper&quot;</td><td>1981-04-30</td><td>53.6</td><td>1.65</td><td>1981</td><td>19.687787</td></tr><tr><td>&quot;Daniel Donovan&quot;</td><td>1989-04-30</td><td>83.1</td><td>1.75</td><td>1989</td><td>27.134694</td></tr></tbody></table></div>"
      ],
      "text/plain": [
       "shape: (4, 6)\n",
       "┌────────────────┬────────────┬────────┬────────┬────────────┬───────────┐\n",
       "│ name           ┆ birthdate  ┆ weight ┆ height ┆ birth_year ┆ bmi       │\n",
       "│ ---            ┆ ---        ┆ ---    ┆ ---    ┆ ---        ┆ ---       │\n",
       "│ str            ┆ date       ┆ f64    ┆ f64    ┆ i32        ┆ f64       │\n",
       "╞════════════════╪════════════╪════════╪════════╪════════════╪═══════════╡\n",
       "│ Alice Archer   ┆ 1997-01-10 ┆ 57.9   ┆ 1.56   ┆ 1997       ┆ 23.791913 │\n",
       "│ Ben Brown      ┆ 1985-02-15 ┆ 72.5   ┆ 1.77   ┆ 1985       ┆ 23.141498 │\n",
       "│ Chloe Cooper   ┆ 1981-04-30 ┆ 53.6   ┆ 1.65   ┆ 1981       ┆ 19.687787 │\n",
       "│ Daniel Donovan ┆ 1989-04-30 ┆ 83.1   ┆ 1.75   ┆ 1989       ┆ 27.134694 │\n",
       "└────────────────┴────────────┴────────┴────────┴────────────┴───────────┘"
      ]
     },
     "execution_count": 7,
     "metadata": {},
     "output_type": "execute_result"
    }
   ],
   "source": [
    "import polars as pl\n",
    "\n",
    "df = pl.DataFrame(\n",
    "    {\n",
    "        \"name\": [\"Alice Archer\", \"Ben Brown\", \"Chloe Cooper\", \"Daniel Donovan\"],\n",
    "        \"birthdate\": [\n",
    "            dt.date(1997, 1, 10),\n",
    "            dt.date(1985, 2, 15),\n",
    "            dt.date(1981, 4, 30),\n",
    "            dt.date(1989, 4, 30),\n",
    "        ],\n",
    "        \"weight\": [57.9, 72.5, 53.6, 83.1],  # (kg)\n",
    "        \"height\": [1.56, 1.77, 1.65, 1.75],  # (m)\n",
    "    }\n",
    ")\n",
    "df.with_columns(\n",
    "    birth_year=pl.col(\"birthdate\").dt.year(),\n",
    "    bmi=pl.col(\"weight\") / (pl.col(\"height\") ** 2),\n",
    ")"
   ]
  },
  {
   "cell_type": "markdown",
   "metadata": {},
   "source": [
    "## filter 筛选\n",
    "\n",
    "找到符合条件的数据\n"
   ]
  },
  {
   "cell_type": "code",
   "execution_count": 8,
   "metadata": {},
   "outputs": [],
   "source": [
    "df = pl.DataFrame(\n",
    "    {\n",
    "        \"name\": [\"satori\", \"scarlet\", \"marisa\"],\n",
    "        \"age\": [16, 400, 18],\n",
    "        \"length\": [155.3, 145.9, 152.1],\n",
    "        \"salary\": [6000, 7500, 5000],\n",
    "    }\n",
    ")"
   ]
  },
  {
   "cell_type": "markdown",
   "metadata": {},
   "source": [
    "### > < =\n"
   ]
  },
  {
   "cell_type": "code",
   "execution_count": 10,
   "metadata": {},
   "outputs": [
    {
     "data": {
      "text/html": [
       "<div><style>\n",
       ".dataframe > thead > tr,\n",
       ".dataframe > tbody > tr {\n",
       "  text-align: right;\n",
       "  white-space: pre-wrap;\n",
       "}\n",
       "</style>\n",
       "<small>shape: (1, 4)</small><table border=\"1\" class=\"dataframe\"><thead><tr><th>name</th><th>age</th><th>length</th><th>salary</th></tr><tr><td>str</td><td>i64</td><td>f64</td><td>i64</td></tr></thead><tbody><tr><td>&quot;scarlet&quot;</td><td>400</td><td>145.9</td><td>7500</td></tr></tbody></table></div>"
      ],
      "text/plain": [
       "shape: (1, 4)\n",
       "┌─────────┬─────┬────────┬────────┐\n",
       "│ name    ┆ age ┆ length ┆ salary │\n",
       "│ ---     ┆ --- ┆ ---    ┆ ---    │\n",
       "│ str     ┆ i64 ┆ f64    ┆ i64    │\n",
       "╞═════════╪═════╪════════╪════════╡\n",
       "│ scarlet ┆ 400 ┆ 145.9  ┆ 7500   │\n",
       "└─────────┴─────┴────────┴────────┘"
      ]
     },
     "execution_count": 10,
     "metadata": {},
     "output_type": "execute_result"
    }
   ],
   "source": [
    "df.filter(pl.col(\"age\") > 18)"
   ]
  },
  {
   "cell_type": "markdown",
   "metadata": {},
   "source": [
    "### 字符串包含 str.contains\n"
   ]
  },
  {
   "cell_type": "code",
   "execution_count": 8,
   "metadata": {},
   "outputs": [
    {
     "data": {
      "text/html": [
       "<div><style>\n",
       ".dataframe > thead > tr,\n",
       ".dataframe > tbody > tr {\n",
       "  text-align: right;\n",
       "  white-space: pre-wrap;\n",
       "}\n",
       "</style>\n",
       "<small>shape: (1, 4)</small><table border=\"1\" class=\"dataframe\"><thead><tr><th>name</th><th>age</th><th>length</th><th>salary</th></tr><tr><td>str</td><td>i64</td><td>f64</td><td>i64</td></tr></thead><tbody><tr><td>&quot;marisa&quot;</td><td>18</td><td>152.1</td><td>5000</td></tr></tbody></table></div>"
      ],
      "text/plain": [
       "shape: (1, 4)\n",
       "┌────────┬─────┬────────┬────────┐\n",
       "│ name   ┆ age ┆ length ┆ salary │\n",
       "│ ---    ┆ --- ┆ ---    ┆ ---    │\n",
       "│ str    ┆ i64 ┆ f64    ┆ i64    │\n",
       "╞════════╪═════╪════════╪════════╡\n",
       "│ marisa ┆ 18  ┆ 152.1  ┆ 5000   │\n",
       "└────────┴─────┴────────┴────────┘"
      ]
     },
     "execution_count": 8,
     "metadata": {},
     "output_type": "execute_result"
    }
   ],
   "source": [
    "df.filter(pl.col(\"name\").str.contains(\"risa\"))"
   ]
  },
  {
   "cell_type": "markdown",
   "metadata": {},
   "source": [
    "### 区间 is_between\n"
   ]
  },
  {
   "cell_type": "code",
   "execution_count": 11,
   "metadata": {},
   "outputs": [
    {
     "data": {
      "text/html": [
       "<div><style>\n",
       ".dataframe > thead > tr,\n",
       ".dataframe > tbody > tr {\n",
       "  text-align: right;\n",
       "  white-space: pre-wrap;\n",
       "}\n",
       "</style>\n",
       "<small>shape: (2, 4)</small><table border=\"1\" class=\"dataframe\"><thead><tr><th>name</th><th>age</th><th>length</th><th>salary</th></tr><tr><td>str</td><td>i64</td><td>f64</td><td>i64</td></tr></thead><tbody><tr><td>&quot;satori&quot;</td><td>16</td><td>155.3</td><td>6000</td></tr><tr><td>&quot;marisa&quot;</td><td>18</td><td>152.1</td><td>5000</td></tr></tbody></table></div>"
      ],
      "text/plain": [
       "shape: (2, 4)\n",
       "┌────────┬─────┬────────┬────────┐\n",
       "│ name   ┆ age ┆ length ┆ salary │\n",
       "│ ---    ┆ --- ┆ ---    ┆ ---    │\n",
       "│ str    ┆ i64 ┆ f64    ┆ i64    │\n",
       "╞════════╪═════╪════════╪════════╡\n",
       "│ satori ┆ 16  ┆ 155.3  ┆ 6000   │\n",
       "│ marisa ┆ 18  ┆ 152.1  ┆ 5000   │\n",
       "└────────┴─────┴────────┴────────┘"
      ]
     },
     "execution_count": 11,
     "metadata": {},
     "output_type": "execute_result"
    }
   ],
   "source": [
    "df.filter(pl.col(\"age\").is_between(10, 30))"
   ]
  },
  {
   "cell_type": "markdown",
   "metadata": {},
   "source": [
    "### 与 select 联用\n"
   ]
  },
  {
   "cell_type": "code",
   "execution_count": 5,
   "metadata": {},
   "outputs": [
    {
     "data": {
      "text/html": [
       "<div><style>\n",
       ".dataframe > thead > tr,\n",
       ".dataframe > tbody > tr {\n",
       "  text-align: right;\n",
       "  white-space: pre-wrap;\n",
       "}\n",
       "</style>\n",
       "<small>shape: (1, 2)</small><table border=\"1\" class=\"dataframe\"><thead><tr><th>name</th><th>age</th></tr><tr><td>str</td><td>i64</td></tr></thead><tbody><tr><td>&quot;scarlet&quot;</td><td>400</td></tr></tbody></table></div>"
      ],
      "text/plain": [
       "shape: (1, 2)\n",
       "┌─────────┬─────┐\n",
       "│ name    ┆ age │\n",
       "│ ---     ┆ --- │\n",
       "│ str     ┆ i64 │\n",
       "╞═════════╪═════╡\n",
       "│ scarlet ┆ 400 │\n",
       "└─────────┴─────┘"
      ]
     },
     "execution_count": 5,
     "metadata": {},
     "output_type": "execute_result"
    }
   ],
   "source": [
    "df.filter(pl.col(\"age\") > 18).select(pl.col(\"name\", \"age\"))"
   ]
  },
  {
   "cell_type": "markdown",
   "metadata": {},
   "source": [
    "## group_by 分组\n"
   ]
  },
  {
   "cell_type": "markdown",
   "metadata": {},
   "source": [
    "### 分组并统计\n"
   ]
  },
  {
   "cell_type": "code",
   "execution_count": 12,
   "metadata": {},
   "outputs": [],
   "source": [
    "df = pl.DataFrame(\n",
    "    {\n",
    "        \"name\": [\"Alice Archer\", \"Ben Brown\", \"Chloe Cooper\", \"Daniel Donovan\"],\n",
    "        \"birthdate\": [\n",
    "            dt.date(1997, 1, 10),\n",
    "            dt.date(1985, 2, 15),\n",
    "            dt.date(1981, 4, 30),\n",
    "            dt.date(1989, 4, 30),\n",
    "        ],\n",
    "        \"weight\": [57.9, 72.5, 53.6, 83.1],  # (kg)\n",
    "        \"height\": [1.56, 1.77, 1.65, 1.75],  # (m)\n",
    "    }\n",
    ")"
   ]
  },
  {
   "cell_type": "code",
   "execution_count": 13,
   "metadata": {},
   "outputs": [
    {
     "data": {
      "text/html": [
       "<div><style>\n",
       ".dataframe > thead > tr,\n",
       ".dataframe > tbody > tr {\n",
       "  text-align: right;\n",
       "  white-space: pre-wrap;\n",
       "}\n",
       "</style>\n",
       "<small>shape: (2, 2)</small><table border=\"1\" class=\"dataframe\"><thead><tr><th>decade</th><th>len</th></tr><tr><td>i32</td><td>u32</td></tr></thead><tbody><tr><td>1990</td><td>1</td></tr><tr><td>1980</td><td>3</td></tr></tbody></table></div>"
      ],
      "text/plain": [
       "shape: (2, 2)\n",
       "┌────────┬─────┐\n",
       "│ decade ┆ len │\n",
       "│ ---    ┆ --- │\n",
       "│ i32    ┆ u32 │\n",
       "╞════════╪═════╡\n",
       "│ 1990   ┆ 1   │\n",
       "│ 1980   ┆ 3   │\n",
       "└────────┴─────┘"
      ]
     },
     "execution_count": 13,
     "metadata": {},
     "output_type": "execute_result"
    }
   ],
   "source": [
    "# 计算了每个十年有多少人出生\n",
    "df.group_by(\n",
    "    (pl.col(\"birthdate\").dt.year() // 10 * 10).alias(\"decade\"),\n",
    "    maintain_order=True,\n",
    ").len()"
   ]
  },
  {
   "cell_type": "markdown",
   "metadata": {},
   "source": [
    "### 分组并求和 agg\n"
   ]
  },
  {
   "cell_type": "code",
   "execution_count": 14,
   "metadata": {},
   "outputs": [
    {
     "data": {
      "text/html": [
       "<div><style>\n",
       ".dataframe > thead > tr,\n",
       ".dataframe > tbody > tr {\n",
       "  text-align: right;\n",
       "  white-space: pre-wrap;\n",
       "}\n",
       "</style>\n",
       "<small>shape: (2, 4)</small><table border=\"1\" class=\"dataframe\"><thead><tr><th>decade</th><th>sample_size</th><th>avg_weight</th><th>tallest</th></tr><tr><td>i32</td><td>u32</td><td>f64</td><td>f64</td></tr></thead><tbody><tr><td>1990</td><td>1</td><td>57.9</td><td>1.56</td></tr><tr><td>1980</td><td>3</td><td>69.73</td><td>1.77</td></tr></tbody></table></div>"
      ],
      "text/plain": [
       "shape: (2, 4)\n",
       "┌────────┬─────────────┬────────────┬─────────┐\n",
       "│ decade ┆ sample_size ┆ avg_weight ┆ tallest │\n",
       "│ ---    ┆ ---         ┆ ---        ┆ ---     │\n",
       "│ i32    ┆ u32         ┆ f64        ┆ f64     │\n",
       "╞════════╪═════════════╪════════════╪═════════╡\n",
       "│ 1990   ┆ 1           ┆ 57.9       ┆ 1.56    │\n",
       "│ 1980   ┆ 3           ┆ 69.73      ┆ 1.77    │\n",
       "└────────┴─────────────┴────────────┴─────────┘"
      ]
     },
     "execution_count": 14,
     "metadata": {},
     "output_type": "execute_result"
    }
   ],
   "source": [
    "# 计算了每个十年有多少人出生,并算出他们的平均身高、体重\n",
    "df.group_by(\n",
    "    (pl.col(\"birthdate\").dt.year() // 10 * 10).alias(\"decade\"),\n",
    "    maintain_order=True,\n",
    ").agg(\n",
    "    pl.len().alias(\"sample_size\"),\n",
    "    pl.col(\"weight\").mean().round(2).alias(\"avg_weight\"),\n",
    "    pl.col(\"height\").max().alias(\"tallest\"),\n",
    ")"
   ]
  },
  {
   "cell_type": "markdown",
   "metadata": {},
   "source": [
    "### 分组，求和并筛选\n"
   ]
  },
  {
   "cell_type": "code",
   "execution_count": 12,
   "metadata": {},
   "outputs": [
    {
     "data": {
      "text/html": [
       "<div><style>\n",
       ".dataframe > thead > tr,\n",
       ".dataframe > tbody > tr {\n",
       "  text-align: right;\n",
       "  white-space: pre-wrap;\n",
       "}\n",
       "</style>\n",
       "<small>shape: (1, 4)</small><table border=\"1\" class=\"dataframe\"><thead><tr><th>language</th><th>count</th><th>first</th><th>last</th></tr><tr><td>str</td><td>u32</td><td>str</td><td>str</td></tr></thead><tbody><tr><td>&quot;Python&quot;</td><td>4</td><td>&quot;FastAPI&quot;</td><td>&quot;Flask&quot;</td></tr></tbody></table></div>"
      ],
      "text/plain": [
       "shape: (1, 4)\n",
       "┌──────────┬───────┬─────────┬───────┐\n",
       "│ language ┆ count ┆ first   ┆ last  │\n",
       "│ ---      ┆ ---   ┆ ---     ┆ ---   │\n",
       "│ str      ┆ u32   ┆ str     ┆ str   │\n",
       "╞══════════╪═══════╪═════════╪═══════╡\n",
       "│ Python   ┆ 4     ┆ FastAPI ┆ Flask │\n",
       "└──────────┴───────┴─────────┴───────┘"
      ]
     },
     "execution_count": 12,
     "metadata": {},
     "output_type": "execute_result"
    }
   ],
   "source": [
    "df.group_by(\"language\").agg(\n",
    "    pl.col(\"framework\").count().alias(\"count\"),\n",
    "    pl.col(\"framework\").first().alias(\"first\"),\n",
    "    pl.col(\"framework\").last().alias(\"last\"),\n",
    ").filter(pl.col(\"count\") > 3)"
   ]
  },
  {
   "cell_type": "markdown",
   "metadata": {},
   "source": [
    "# Expression (表达式)\n",
    "\n",
    "- 表达式是数据转换的惰性表示\n",
    "- 表达式需要一个执行它们以产生结果的上下文(例如 select)\n"
   ]
  },
  {
   "cell_type": "markdown",
   "metadata": {},
   "source": [
    "## 分类\n"
   ]
  },
  {
   "cell_type": "code",
   "execution_count": 71,
   "metadata": {},
   "outputs": [
    {
     "data": {
      "text/html": [
       "<div><style>\n",
       ".dataframe > thead > tr,\n",
       ".dataframe > tbody > tr {\n",
       "  text-align: right;\n",
       "  white-space: pre-wrap;\n",
       "}\n",
       "</style>\n",
       "<small>shape: (5, 4)</small><table border=\"1\" class=\"dataframe\"><thead><tr><th>nrs</th><th>names</th><th>random</th><th>groups</th></tr><tr><td>i64</td><td>str</td><td>f64</td><td>str</td></tr></thead><tbody><tr><td>1</td><td>&quot;foo&quot;</td><td>0.796994</td><td>&quot;A&quot;</td></tr><tr><td>2</td><td>&quot;ham&quot;</td><td>0.095054</td><td>&quot;A&quot;</td></tr><tr><td>3</td><td>&quot;spam&quot;</td><td>0.310776</td><td>&quot;B&quot;</td></tr><tr><td>null</td><td>&quot;egg&quot;</td><td>0.891863</td><td>&quot;C&quot;</td></tr><tr><td>5</td><td>null</td><td>0.167284</td><td>&quot;B&quot;</td></tr></tbody></table></div>"
      ],
      "text/plain": [
       "shape: (5, 4)\n",
       "┌──────┬───────┬──────────┬────────┐\n",
       "│ nrs  ┆ names ┆ random   ┆ groups │\n",
       "│ ---  ┆ ---   ┆ ---      ┆ ---    │\n",
       "│ i64  ┆ str   ┆ f64      ┆ str    │\n",
       "╞══════╪═══════╪══════════╪════════╡\n",
       "│ 1    ┆ foo   ┆ 0.796994 ┆ A      │\n",
       "│ 2    ┆ ham   ┆ 0.095054 ┆ A      │\n",
       "│ 3    ┆ spam  ┆ 0.310776 ┆ B      │\n",
       "│ null ┆ egg   ┆ 0.891863 ┆ C      │\n",
       "│ 5    ┆ null  ┆ 0.167284 ┆ B      │\n",
       "└──────┴───────┴──────────┴────────┘"
      ]
     },
     "execution_count": 71,
     "metadata": {},
     "output_type": "execute_result"
    }
   ],
   "source": [
    "import numpy as np\n",
    "import polars as pl\n",
    "\n",
    "df = pl.DataFrame(\n",
    "    {\n",
    "        \"nrs\": [1, 2, 3, None, 5],\n",
    "        \"names\": [\"foo\", \"ham\", \"spam\", \"egg\", None],\n",
    "        \"random\": np.random.rand(5),\n",
    "        \"groups\": [\"A\", \"A\", \"B\", \"C\", \"B\"],\n",
    "    }\n",
    ")\n",
    "df"
   ]
  },
  {
   "cell_type": "markdown",
   "metadata": {},
   "source": [
    "### 运算\n",
    "\n",
    "- Numerical 数字\n",
    "- Logical 逻辑判断\n"
   ]
  },
  {
   "cell_type": "code",
   "execution_count": 72,
   "metadata": {},
   "outputs": [
    {
     "data": {
      "text/html": [
       "<div><style>\n",
       ".dataframe > thead > tr,\n",
       ".dataframe > tbody > tr {\n",
       "  text-align: right;\n",
       "  white-space: pre-wrap;\n",
       "}\n",
       "</style>\n",
       "<small>shape: (5, 4)</small><table border=\"1\" class=\"dataframe\"><thead><tr><th>nrs + 5</th><th>nrs - 5</th><th>nrs * random</th><th>nrs / random</th></tr><tr><td>i64</td><td>i64</td><td>f64</td><td>f64</td></tr></thead><tbody><tr><td>6</td><td>-4</td><td>0.796994</td><td>1.254714</td></tr><tr><td>7</td><td>-3</td><td>0.190107</td><td>21.04074</td></tr><tr><td>8</td><td>-2</td><td>0.932328</td><td>9.653253</td></tr><tr><td>null</td><td>null</td><td>null</td><td>null</td></tr><tr><td>10</td><td>0</td><td>0.836419</td><td>29.889329</td></tr></tbody></table></div>"
      ],
      "text/plain": [
       "shape: (5, 4)\n",
       "┌─────────┬─────────┬──────────────┬──────────────┐\n",
       "│ nrs + 5 ┆ nrs - 5 ┆ nrs * random ┆ nrs / random │\n",
       "│ ---     ┆ ---     ┆ ---          ┆ ---          │\n",
       "│ i64     ┆ i64     ┆ f64          ┆ f64          │\n",
       "╞═════════╪═════════╪══════════════╪══════════════╡\n",
       "│ 6       ┆ -4      ┆ 0.796994     ┆ 1.254714     │\n",
       "│ 7       ┆ -3      ┆ 0.190107     ┆ 21.04074     │\n",
       "│ 8       ┆ -2      ┆ 0.932328     ┆ 9.653253     │\n",
       "│ null    ┆ null    ┆ null         ┆ null         │\n",
       "│ 10      ┆ 0       ┆ 0.836419     ┆ 29.889329    │\n",
       "└─────────┴─────────┴──────────────┴──────────────┘"
      ]
     },
     "execution_count": 72,
     "metadata": {},
     "output_type": "execute_result"
    }
   ],
   "source": [
    "# 数字运算例子\n",
    "\n",
    "df_numerical = df.select(\n",
    "    (pl.col(\"nrs\") + 5).alias(\"nrs + 5\"),\n",
    "    (pl.col(\"nrs\") - 5).alias(\"nrs - 5\"),\n",
    "    (pl.col(\"nrs\") * pl.col(\"random\")).alias(\"nrs * random\"),\n",
    "    (pl.col(\"nrs\") / pl.col(\"random\")).alias(\"nrs / random\"),\n",
    ")\n",
    "df_numerical"
   ]
  },
  {
   "cell_type": "code",
   "execution_count": 73,
   "metadata": {},
   "outputs": [
    {
     "data": {
      "text/html": [
       "<div><style>\n",
       ".dataframe > thead > tr,\n",
       ".dataframe > tbody > tr {\n",
       "  text-align: right;\n",
       "  white-space: pre-wrap;\n",
       "}\n",
       "</style>\n",
       "<small>shape: (5, 6)</small><table border=\"1\" class=\"dataframe\"><thead><tr><th>nrs &gt; 1</th><th>random &lt;= .5</th><th>nrs != 1</th><th>nrs == 1</th><th>and_expr</th><th>or_expr</th></tr><tr><td>bool</td><td>bool</td><td>bool</td><td>bool</td><td>bool</td><td>bool</td></tr></thead><tbody><tr><td>false</td><td>false</td><td>false</td><td>true</td><td>false</td><td>false</td></tr><tr><td>true</td><td>true</td><td>true</td><td>false</td><td>true</td><td>true</td></tr><tr><td>true</td><td>true</td><td>true</td><td>false</td><td>true</td><td>true</td></tr><tr><td>null</td><td>false</td><td>null</td><td>null</td><td>false</td><td>null</td></tr><tr><td>true</td><td>true</td><td>true</td><td>false</td><td>true</td><td>true</td></tr></tbody></table></div>"
      ],
      "text/plain": [
       "shape: (5, 6)\n",
       "┌─────────┬──────────────┬──────────┬──────────┬──────────┬─────────┐\n",
       "│ nrs > 1 ┆ random <= .5 ┆ nrs != 1 ┆ nrs == 1 ┆ and_expr ┆ or_expr │\n",
       "│ ---     ┆ ---          ┆ ---      ┆ ---      ┆ ---      ┆ ---     │\n",
       "│ bool    ┆ bool         ┆ bool     ┆ bool     ┆ bool     ┆ bool    │\n",
       "╞═════════╪══════════════╪══════════╪══════════╪══════════╪═════════╡\n",
       "│ false   ┆ false        ┆ false    ┆ true     ┆ false    ┆ false   │\n",
       "│ true    ┆ true         ┆ true     ┆ false    ┆ true     ┆ true    │\n",
       "│ true    ┆ true         ┆ true     ┆ false    ┆ true     ┆ true    │\n",
       "│ null    ┆ false        ┆ null     ┆ null     ┆ false    ┆ null    │\n",
       "│ true    ┆ true         ┆ true     ┆ false    ┆ true     ┆ true    │\n",
       "└─────────┴──────────────┴──────────┴──────────┴──────────┴─────────┘"
      ]
     },
     "execution_count": 73,
     "metadata": {},
     "output_type": "execute_result"
    }
   ],
   "source": [
    "# 逻辑判断例子\n",
    "df_logical = df.select(\n",
    "    (pl.col(\"nrs\") > 1).alias(\"nrs > 1\"),\n",
    "    (pl.col(\"random\") <= 0.5).alias(\"random <= .5\"),\n",
    "    (pl.col(\"nrs\") != 1).alias(\"nrs != 1\"),\n",
    "    (pl.col(\"nrs\") == 1).alias(\"nrs == 1\"),\n",
    "    ((pl.col(\"random\") <= 0.5) & (pl.col(\"nrs\") > 1)).alias(\"and_expr\"),  # and\n",
    "    ((pl.col(\"random\") <= 0.5) | (pl.col(\"nrs\") > 1)).alias(\"or_expr\"),  # or\n",
    ")\n",
    "df_logical"
   ]
  },
  {
   "cell_type": "markdown",
   "metadata": {},
   "source": [
    "### 列选择\n",
    "\n",
    "-\n"
   ]
  },
  {
   "cell_type": "code",
   "execution_count": 77,
   "metadata": {},
   "outputs": [
    {
     "data": {
      "text/html": [
       "<div><style>\n",
       ".dataframe > thead > tr,\n",
       ".dataframe > tbody > tr {\n",
       "  text-align: right;\n",
       "  white-space: pre-wrap;\n",
       "}\n",
       "</style>\n",
       "<small>shape: (3, 7)</small><table border=\"1\" class=\"dataframe\"><thead><tr><th>index</th><th>id</th><th>place</th><th>date</th><th>sales</th><th>has_people</th><th>logged_at</th></tr><tr><td>u32</td><td>i64</td><td>str</td><td>date</td><td>f64</td><td>bool</td><td>datetime[μs]</td></tr></thead><tbody><tr><td>0</td><td>9</td><td>&quot;Mars&quot;</td><td>2022-01-01</td><td>33.4</td><td>false</td><td>2022-12-01 00:00:00</td></tr><tr><td>1</td><td>4</td><td>&quot;Earth&quot;</td><td>2022-01-02</td><td>2142134.1</td><td>true</td><td>2022-12-01 00:00:01</td></tr><tr><td>2</td><td>2</td><td>&quot;Saturn&quot;</td><td>2022-01-03</td><td>44.7</td><td>false</td><td>2022-12-01 00:00:02</td></tr></tbody></table></div>"
      ],
      "text/plain": [
       "shape: (3, 7)\n",
       "┌───────┬─────┬────────┬────────────┬───────────┬────────────┬─────────────────────┐\n",
       "│ index ┆ id  ┆ place  ┆ date       ┆ sales     ┆ has_people ┆ logged_at           │\n",
       "│ ---   ┆ --- ┆ ---    ┆ ---        ┆ ---       ┆ ---        ┆ ---                 │\n",
       "│ u32   ┆ i64 ┆ str    ┆ date       ┆ f64       ┆ bool       ┆ datetime[μs]        │\n",
       "╞═══════╪═════╪════════╪════════════╪═══════════╪════════════╪═════════════════════╡\n",
       "│ 0     ┆ 9   ┆ Mars   ┆ 2022-01-01 ┆ 33.4      ┆ false      ┆ 2022-12-01 00:00:00 │\n",
       "│ 1     ┆ 4   ┆ Earth  ┆ 2022-01-02 ┆ 2142134.1 ┆ true       ┆ 2022-12-01 00:00:01 │\n",
       "│ 2     ┆ 2   ┆ Saturn ┆ 2022-01-03 ┆ 44.7      ┆ false      ┆ 2022-12-01 00:00:02 │\n",
       "└───────┴─────┴────────┴────────────┴───────────┴────────────┴─────────────────────┘"
      ]
     },
     "execution_count": 77,
     "metadata": {},
     "output_type": "execute_result"
    }
   ],
   "source": [
    "from datetime import date, datetime\n",
    "\n",
    "import polars as pl\n",
    "\n",
    "df = pl.DataFrame(\n",
    "    {\n",
    "        \"id\": [9, 4, 2],\n",
    "        \"place\": [\"Mars\", \"Earth\", \"Saturn\"],\n",
    "        \"date\": pl.date_range(date(2022, 1, 1), date(2022, 1, 3), \"1d\", eager=True),\n",
    "        \"sales\": [33.4, 2142134.1, 44.7],\n",
    "        \"has_people\": [False, True, False],\n",
    "        \"logged_at\": pl.datetime_range(\n",
    "            datetime(2022, 12, 1), datetime(2022, 12, 1, 0, 0, 2), \"1s\", eager=True\n",
    "        ),\n",
    "    }\n",
    ").with_row_index(\"index\")\n",
    "df"
   ]
  },
  {
   "cell_type": "markdown",
   "metadata": {},
   "source": [
    "### selectors\n",
    "\n",
    "找到符合条件的列\n"
   ]
  },
  {
   "cell_type": "code",
   "execution_count": null,
   "metadata": {},
   "outputs": [],
   "source": [
    "import polars"
   ]
  },
  {
   "cell_type": "code",
   "execution_count": 80,
   "metadata": {},
   "outputs": [],
   "source": [
    "# 用于实现更复杂的筛选的选择器\n",
    "import polars.selectors as cs\n",
    "import polars"
   ]
  },
  {
   "cell_type": "code",
   "execution_count": 78,
   "metadata": {},
   "outputs": [
    {
     "data": {
      "text/html": [
       "<div><style>\n",
       ".dataframe > thead > tr,\n",
       ".dataframe > tbody > tr {\n",
       "  text-align: right;\n",
       "  white-space: pre-wrap;\n",
       "}\n",
       "</style>\n",
       "<small>shape: (3, 4)</small><table border=\"1\" class=\"dataframe\"><thead><tr><th>name</th><th>age</th><th>length</th><th>salary</th></tr><tr><td>str</td><td>i64</td><td>f64</td><td>i64</td></tr></thead><tbody><tr><td>&quot;satori&quot;</td><td>16</td><td>155.3</td><td>6000</td></tr><tr><td>&quot;scarlet&quot;</td><td>400</td><td>145.9</td><td>7500</td></tr><tr><td>&quot;marisa&quot;</td><td>18</td><td>152.1</td><td>5000</td></tr></tbody></table></div>"
      ],
      "text/plain": [
       "shape: (3, 4)\n",
       "┌─────────┬─────┬────────┬────────┐\n",
       "│ name    ┆ age ┆ length ┆ salary │\n",
       "│ ---     ┆ --- ┆ ---    ┆ ---    │\n",
       "│ str     ┆ i64 ┆ f64    ┆ i64    │\n",
       "╞═════════╪═════╪════════╪════════╡\n",
       "│ satori  ┆ 16  ┆ 155.3  ┆ 6000   │\n",
       "│ scarlet ┆ 400 ┆ 145.9  ┆ 7500   │\n",
       "│ marisa  ┆ 18  ┆ 152.1  ┆ 5000   │\n",
       "└─────────┴─────┴────────┴────────┘"
      ]
     },
     "execution_count": 78,
     "metadata": {},
     "output_type": "execute_result"
    }
   ],
   "source": [
    "df = pl.DataFrame(\n",
    "    {\n",
    "        \"name\": [\"satori\", \"scarlet\", \"marisa\"],\n",
    "        \"age\": [16, 400, 18],\n",
    "        \"length\": [155.3, 145.9, 152.1],\n",
    "        \"salary\": [6000, 7500, 5000],\n",
    "    }\n",
    ")\n",
    "df"
   ]
  },
  {
   "cell_type": "markdown",
   "metadata": {},
   "source": [
    "#### 全部\n"
   ]
  },
  {
   "cell_type": "code",
   "execution_count": 84,
   "metadata": {},
   "outputs": [
    {
     "data": {
      "text/html": [
       "<div><style>\n",
       ".dataframe > thead > tr,\n",
       ".dataframe > tbody > tr {\n",
       "  text-align: right;\n",
       "  white-space: pre-wrap;\n",
       "}\n",
       "</style>\n",
       "<small>shape: (3, 1)</small><table border=\"1\" class=\"dataframe\"><thead><tr><th>name</th></tr><tr><td>str</td></tr></thead><tbody><tr><td>&quot;satori&quot;</td></tr><tr><td>&quot;scarlet&quot;</td></tr><tr><td>&quot;marisa&quot;</td></tr></tbody></table></div>"
      ],
      "text/plain": [
       "shape: (3, 1)\n",
       "┌─────────┐\n",
       "│ name    │\n",
       "│ ---     │\n",
       "│ str     │\n",
       "╞═════════╡\n",
       "│ satori  │\n",
       "│ scarlet │\n",
       "│ marisa  │\n",
       "└─────────┘"
      ]
     },
     "execution_count": 84,
     "metadata": {},
     "output_type": "execute_result"
    }
   ],
   "source": [
    "df.select(cs.first())"
   ]
  },
  {
   "cell_type": "code",
   "execution_count": 81,
   "metadata": {},
   "outputs": [
    {
     "data": {
      "text/html": [
       "<div><style>\n",
       ".dataframe > thead > tr,\n",
       ".dataframe > tbody > tr {\n",
       "  text-align: right;\n",
       "  white-space: pre-wrap;\n",
       "}\n",
       "</style>\n",
       "<small>shape: (3, 4)</small><table border=\"1\" class=\"dataframe\"><thead><tr><th>name</th><th>age</th><th>length</th><th>salary</th></tr><tr><td>str</td><td>i64</td><td>f64</td><td>i64</td></tr></thead><tbody><tr><td>&quot;satori&quot;</td><td>16</td><td>155.3</td><td>6000</td></tr><tr><td>&quot;scarlet&quot;</td><td>400</td><td>145.9</td><td>7500</td></tr><tr><td>&quot;marisa&quot;</td><td>18</td><td>152.1</td><td>5000</td></tr></tbody></table></div>"
      ],
      "text/plain": [
       "shape: (3, 4)\n",
       "┌─────────┬─────┬────────┬────────┐\n",
       "│ name    ┆ age ┆ length ┆ salary │\n",
       "│ ---     ┆ --- ┆ ---    ┆ ---    │\n",
       "│ str     ┆ i64 ┆ f64    ┆ i64    │\n",
       "╞═════════╪═════╪════════╪════════╡\n",
       "│ satori  ┆ 16  ┆ 155.3  ┆ 6000   │\n",
       "│ scarlet ┆ 400 ┆ 145.9  ┆ 7500   │\n",
       "│ marisa  ┆ 18  ┆ 152.1  ┆ 5000   │\n",
       "└─────────┴─────┴────────┴────────┘"
      ]
     },
     "execution_count": 81,
     "metadata": {},
     "output_type": "execute_result"
    }
   ],
   "source": [
    "df.select(cs.all())"
   ]
  },
  {
   "cell_type": "markdown",
   "metadata": {},
   "source": [
    "#### 按照字段类型\n"
   ]
  },
  {
   "cell_type": "code",
   "execution_count": null,
   "metadata": {},
   "outputs": [
    {
     "data": {
      "text/html": [
       "<div><style>\n",
       ".dataframe > thead > tr,\n",
       ".dataframe > tbody > tr {\n",
       "  text-align: right;\n",
       "  white-space: pre-wrap;\n",
       "}\n",
       "</style>\n",
       "<small>shape: (3, 2)</small><table border=\"1\" class=\"dataframe\"><thead><tr><th>age</th><th>salary</th></tr><tr><td>i64</td><td>i64</td></tr></thead><tbody><tr><td>16</td><td>6000</td></tr><tr><td>400</td><td>7500</td></tr><tr><td>18</td><td>5000</td></tr></tbody></table></div>"
      ],
      "text/plain": [
       "shape: (3, 2)\n",
       "┌─────┬────────┐\n",
       "│ age ┆ salary │\n",
       "│ --- ┆ ---    │\n",
       "│ i64 ┆ i64    │\n",
       "╞═════╪════════╡\n",
       "│ 16  ┆ 6000   │\n",
       "│ 400 ┆ 7500   │\n",
       "│ 18  ┆ 5000   │\n",
       "└─────┴────────┘"
      ]
     },
     "metadata": {},
     "output_type": "display_data"
    }
   ],
   "source": [
    "df.select(pl.col(pl.Int64))"
   ]
  },
  {
   "cell_type": "markdown",
   "metadata": {},
   "source": [
    "#### 首尾列\n"
   ]
  },
  {
   "cell_type": "code",
   "execution_count": null,
   "metadata": {},
   "outputs": [
    {
     "data": {
      "text/html": [
       "<div><style>\n",
       ".dataframe > thead > tr,\n",
       ".dataframe > tbody > tr {\n",
       "  text-align: right;\n",
       "  white-space: pre-wrap;\n",
       "}\n",
       "</style>\n",
       "<small>shape: (3, 2)</small><table border=\"1\" class=\"dataframe\"><thead><tr><th>name</th><th>salary</th></tr><tr><td>str</td><td>i64</td></tr></thead><tbody><tr><td>&quot;satori&quot;</td><td>6000</td></tr><tr><td>&quot;scarlet&quot;</td><td>7500</td></tr><tr><td>&quot;marisa&quot;</td><td>5000</td></tr></tbody></table></div>"
      ],
      "text/plain": [
       "shape: (3, 2)\n",
       "┌─────────┬────────┐\n",
       "│ name    ┆ salary │\n",
       "│ ---     ┆ ---    │\n",
       "│ str     ┆ i64    │\n",
       "╞═════════╪════════╡\n",
       "│ satori  ┆ 6000   │\n",
       "│ scarlet ┆ 7500   │\n",
       "│ marisa  ┆ 5000   │\n",
       "└─────────┴────────┘"
      ]
     },
     "metadata": {},
     "output_type": "display_data"
    }
   ],
   "source": [
    "df.select(cs.first(), cs.last())"
   ]
  },
  {
   "cell_type": "markdown",
   "metadata": {},
   "source": [
    "#### 字符串\n"
   ]
  },
  {
   "cell_type": "code",
   "execution_count": null,
   "metadata": {},
   "outputs": [
    {
     "data": {
      "text/html": [
       "<div><style>\n",
       ".dataframe > thead > tr,\n",
       ".dataframe > tbody > tr {\n",
       "  text-align: right;\n",
       "  white-space: pre-wrap;\n",
       "}\n",
       "</style>\n",
       "<small>shape: (3, 1)</small><table border=\"1\" class=\"dataframe\"><thead><tr><th>name</th></tr><tr><td>str</td></tr></thead><tbody><tr><td>&quot;satori&quot;</td></tr><tr><td>&quot;scarlet&quot;</td></tr><tr><td>&quot;marisa&quot;</td></tr></tbody></table></div>"
      ],
      "text/plain": [
       "shape: (3, 1)\n",
       "┌─────────┐\n",
       "│ name    │\n",
       "│ ---     │\n",
       "│ str     │\n",
       "╞═════════╡\n",
       "│ satori  │\n",
       "│ scarlet │\n",
       "│ marisa  │\n",
       "└─────────┘"
      ]
     },
     "metadata": {},
     "output_type": "display_data"
    }
   ],
   "source": [
    "# 选择以 \"na\" 开头尾的列\n",
    "df.select(cs.starts_with(\"na\"))"
   ]
  },
  {
   "cell_type": "code",
   "execution_count": null,
   "metadata": {},
   "outputs": [
    {
     "data": {
      "text/html": [
       "<div><style>\n",
       ".dataframe > thead > tr,\n",
       ".dataframe > tbody > tr {\n",
       "  text-align: right;\n",
       "  white-space: pre-wrap;\n",
       "}\n",
       "</style>\n",
       "<small>shape: (3, 3)</small><table border=\"1\" class=\"dataframe\"><thead><tr><th>age</th><th>length</th><th>salary</th></tr><tr><td>i64</td><td>f64</td><td>i64</td></tr></thead><tbody><tr><td>16</td><td>155.3</td><td>6000</td></tr><tr><td>400</td><td>145.9</td><td>7500</td></tr><tr><td>18</td><td>152.1</td><td>5000</td></tr></tbody></table></div>"
      ],
      "text/plain": [
       "shape: (3, 3)\n",
       "┌─────┬────────┬────────┐\n",
       "│ age ┆ length ┆ salary │\n",
       "│ --- ┆ ---    ┆ ---    │\n",
       "│ i64 ┆ f64    ┆ i64    │\n",
       "╞═════╪════════╪════════╡\n",
       "│ 16  ┆ 155.3  ┆ 6000   │\n",
       "│ 400 ┆ 145.9  ┆ 7500   │\n",
       "│ 18  ┆ 152.1  ┆ 5000   │\n",
       "└─────┴────────┴────────┘"
      ]
     },
     "metadata": {},
     "output_type": "display_data"
    }
   ],
   "source": [
    "# 选择不以 \"na\" 开头的的列\n",
    "df.select(~cs.starts_with(\"na\"))"
   ]
  },
  {
   "cell_type": "code",
   "execution_count": null,
   "metadata": {},
   "outputs": [
    {
     "data": {
      "text/html": [
       "<div><style>\n",
       ".dataframe > thead > tr,\n",
       ".dataframe > tbody > tr {\n",
       "  text-align: right;\n",
       "  white-space: pre-wrap;\n",
       "}\n",
       "</style>\n",
       "<small>shape: (3, 2)</small><table border=\"1\" class=\"dataframe\"><thead><tr><th>name</th><th>age</th></tr><tr><td>str</td><td>i64</td></tr></thead><tbody><tr><td>&quot;satori&quot;</td><td>16</td></tr><tr><td>&quot;scarlet&quot;</td><td>400</td></tr><tr><td>&quot;marisa&quot;</td><td>18</td></tr></tbody></table></div>"
      ],
      "text/plain": [
       "shape: (3, 2)\n",
       "┌─────────┬─────┐\n",
       "│ name    ┆ age │\n",
       "│ ---     ┆ --- │\n",
       "│ str     ┆ i64 │\n",
       "╞═════════╪═════╡\n",
       "│ satori  ┆ 16  │\n",
       "│ scarlet ┆ 400 │\n",
       "│ marisa  ┆ 18  │\n",
       "└─────────┴─────┘"
      ]
     },
     "metadata": {},
     "output_type": "display_data"
    }
   ],
   "source": [
    "# 选择以 \"e\" 结尾的列\n",
    "df.select(cs.ends_with(\"e\"))"
   ]
  },
  {
   "cell_type": "code",
   "execution_count": null,
   "metadata": {},
   "outputs": [
    {
     "data": {
      "text/html": [
       "<div><style>\n",
       ".dataframe > thead > tr,\n",
       ".dataframe > tbody > tr {\n",
       "  text-align: right;\n",
       "  white-space: pre-wrap;\n",
       "}\n",
       "</style>\n",
       "<small>shape: (3, 1)</small><table border=\"1\" class=\"dataframe\"><thead><tr><th>name</th></tr><tr><td>str</td></tr></thead><tbody><tr><td>&quot;satori&quot;</td></tr><tr><td>&quot;scarlet&quot;</td></tr><tr><td>&quot;marisa&quot;</td></tr></tbody></table></div>"
      ],
      "text/plain": [
       "shape: (3, 1)\n",
       "┌─────────┐\n",
       "│ name    │\n",
       "│ ---     │\n",
       "│ str     │\n",
       "╞═════════╡\n",
       "│ satori  │\n",
       "│ scarlet │\n",
       "│ marisa  │\n",
       "└─────────┘"
      ]
     },
     "metadata": {},
     "output_type": "display_data"
    }
   ],
   "source": [
    "# 选择包含 \"ame\" 的列\n",
    "df.select(cs.contains(\"ame\"))"
   ]
  },
  {
   "cell_type": "markdown",
   "metadata": {},
   "source": [
    "### Window functions: OVer\n",
    "\n",
    "- over:不会修改 DataFrame 的原始大小而分组内容\n",
    "- group by :修改 DataFrame 为按照 xx 分组后的大小\n",
    "\n",
    "* 和 group by 的区别：将逻辑放在单个表达式中,不影响整个 DataFrame,使 API 更加干净\n"
   ]
  },
  {
   "cell_type": "code",
   "execution_count": 3,
   "metadata": {},
   "outputs": [
    {
     "data": {
      "text/html": [
       "<div><style>\n",
       ".dataframe > thead > tr,\n",
       ".dataframe > tbody > tr {\n",
       "  text-align: right;\n",
       "  white-space: pre-wrap;\n",
       "}\n",
       "</style>\n",
       "<small>shape: (5, 13)</small><table border=\"1\" class=\"dataframe\"><thead><tr><th>#</th><th>Name</th><th>Type 1</th><th>Type 2</th><th>Total</th><th>HP</th><th>Attack</th><th>Defense</th><th>Sp. Atk</th><th>Sp. Def</th><th>Speed</th><th>Generation</th><th>Legendary</th></tr><tr><td>i64</td><td>str</td><td>str</td><td>str</td><td>i64</td><td>i64</td><td>i64</td><td>i64</td><td>i64</td><td>i64</td><td>i64</td><td>i64</td><td>bool</td></tr></thead><tbody><tr><td>1</td><td>&quot;Bulbasaur&quot;</td><td>&quot;Grass&quot;</td><td>&quot;Poison&quot;</td><td>318</td><td>45</td><td>49</td><td>49</td><td>65</td><td>65</td><td>45</td><td>1</td><td>false</td></tr><tr><td>2</td><td>&quot;Ivysaur&quot;</td><td>&quot;Grass&quot;</td><td>&quot;Poison&quot;</td><td>405</td><td>60</td><td>62</td><td>63</td><td>80</td><td>80</td><td>60</td><td>1</td><td>false</td></tr><tr><td>3</td><td>&quot;Venusaur&quot;</td><td>&quot;Grass&quot;</td><td>&quot;Poison&quot;</td><td>525</td><td>80</td><td>82</td><td>83</td><td>100</td><td>100</td><td>80</td><td>1</td><td>false</td></tr><tr><td>3</td><td>&quot;VenusaurMega Venusaur&quot;</td><td>&quot;Grass&quot;</td><td>&quot;Poison&quot;</td><td>625</td><td>80</td><td>100</td><td>123</td><td>122</td><td>120</td><td>80</td><td>1</td><td>false</td></tr><tr><td>4</td><td>&quot;Charmander&quot;</td><td>&quot;Fire&quot;</td><td>null</td><td>309</td><td>39</td><td>52</td><td>43</td><td>60</td><td>50</td><td>65</td><td>1</td><td>false</td></tr></tbody></table></div>"
      ],
      "text/plain": [
       "shape: (5, 13)\n",
       "┌─────┬───────────────────────┬────────┬────────┬───┬─────────┬───────┬────────────┬───────────┐\n",
       "│ #   ┆ Name                  ┆ Type 1 ┆ Type 2 ┆ … ┆ Sp. Def ┆ Speed ┆ Generation ┆ Legendary │\n",
       "│ --- ┆ ---                   ┆ ---    ┆ ---    ┆   ┆ ---     ┆ ---   ┆ ---        ┆ ---       │\n",
       "│ i64 ┆ str                   ┆ str    ┆ str    ┆   ┆ i64     ┆ i64   ┆ i64        ┆ bool      │\n",
       "╞═════╪═══════════════════════╪════════╪════════╪═══╪═════════╪═══════╪════════════╪═══════════╡\n",
       "│ 1   ┆ Bulbasaur             ┆ Grass  ┆ Poison ┆ … ┆ 65      ┆ 45    ┆ 1          ┆ false     │\n",
       "│ 2   ┆ Ivysaur               ┆ Grass  ┆ Poison ┆ … ┆ 80      ┆ 60    ┆ 1          ┆ false     │\n",
       "│ 3   ┆ Venusaur              ┆ Grass  ┆ Poison ┆ … ┆ 100     ┆ 80    ┆ 1          ┆ false     │\n",
       "│ 3   ┆ VenusaurMega Venusaur ┆ Grass  ┆ Poison ┆ … ┆ 120     ┆ 80    ┆ 1          ┆ false     │\n",
       "│ 4   ┆ Charmander            ┆ Fire   ┆ null   ┆ … ┆ 50      ┆ 65    ┆ 1          ┆ false     │\n",
       "└─────┴───────────────────────┴────────┴────────┴───┴─────────┴───────┴────────────┴───────────┘"
      ]
     },
     "execution_count": 3,
     "metadata": {},
     "output_type": "execute_result"
    }
   ],
   "source": [
    "import polars as pl\n",
    "\n",
    "# then let's load some csv data with information about pokemon\n",
    "df = pl.read_csv(\n",
    "    \"https://gist.githubusercontent.com/ritchie46/cac6b337ea52281aa23c049250a4ff03/raw/89a957ff3919d90e6ef2d34235e6bf22304f3366/pokemon.csv\"\n",
    ")\n",
    "df.head()"
   ]
  },
  {
   "cell_type": "code",
   "execution_count": 8,
   "metadata": {},
   "outputs": [
    {
     "data": {
      "text/html": [
       "<div><style>\n",
       ".dataframe > thead > tr,\n",
       ".dataframe > tbody > tr {\n",
       "  text-align: right;\n",
       "  white-space: pre-wrap;\n",
       "}\n",
       "</style>\n",
       "<small>shape: (10, 4)</small><table border=\"1\" class=\"dataframe\"><thead><tr><th>Type 1</th><th>Type 2</th><th>avg_attack_by_type</th><th>avg_attack</th></tr><tr><td>str</td><td>str</td><td>f64</td><td>f64</td></tr></thead><tbody><tr><td>&quot;Grass&quot;</td><td>&quot;Poison&quot;</td><td>72.923077</td><td>75.349693</td></tr><tr><td>&quot;Grass&quot;</td><td>&quot;Poison&quot;</td><td>72.923077</td><td>75.349693</td></tr><tr><td>&quot;Grass&quot;</td><td>&quot;Poison&quot;</td><td>72.923077</td><td>75.349693</td></tr><tr><td>&quot;Grass&quot;</td><td>&quot;Poison&quot;</td><td>72.923077</td><td>75.349693</td></tr><tr><td>&quot;Fire&quot;</td><td>null</td><td>88.642857</td><td>75.349693</td></tr><tr><td>&quot;Fire&quot;</td><td>null</td><td>88.642857</td><td>75.349693</td></tr><tr><td>&quot;Fire&quot;</td><td>&quot;Flying&quot;</td><td>88.642857</td><td>75.349693</td></tr><tr><td>&quot;Fire&quot;</td><td>&quot;Dragon&quot;</td><td>88.642857</td><td>75.349693</td></tr><tr><td>&quot;Fire&quot;</td><td>&quot;Flying&quot;</td><td>88.642857</td><td>75.349693</td></tr><tr><td>&quot;Water&quot;</td><td>null</td><td>74.193548</td><td>75.349693</td></tr></tbody></table></div>"
      ],
      "text/plain": [
       "shape: (10, 4)\n",
       "┌────────┬────────┬────────────────────┬────────────┐\n",
       "│ Type 1 ┆ Type 2 ┆ avg_attack_by_type ┆ avg_attack │\n",
       "│ ---    ┆ ---    ┆ ---                ┆ ---        │\n",
       "│ str    ┆ str    ┆ f64                ┆ f64        │\n",
       "╞════════╪════════╪════════════════════╪════════════╡\n",
       "│ Grass  ┆ Poison ┆ 72.923077          ┆ 75.349693  │\n",
       "│ Grass  ┆ Poison ┆ 72.923077          ┆ 75.349693  │\n",
       "│ Grass  ┆ Poison ┆ 72.923077          ┆ 75.349693  │\n",
       "│ Grass  ┆ Poison ┆ 72.923077          ┆ 75.349693  │\n",
       "│ Fire   ┆ null   ┆ 88.642857          ┆ 75.349693  │\n",
       "│ Fire   ┆ null   ┆ 88.642857          ┆ 75.349693  │\n",
       "│ Fire   ┆ Flying ┆ 88.642857          ┆ 75.349693  │\n",
       "│ Fire   ┆ Dragon ┆ 88.642857          ┆ 75.349693  │\n",
       "│ Fire   ┆ Flying ┆ 88.642857          ┆ 75.349693  │\n",
       "│ Water  ┆ null   ┆ 74.193548          ┆ 75.349693  │\n",
       "└────────┴────────┴────────────────────┴────────────┘"
      ]
     },
     "execution_count": 8,
     "metadata": {},
     "output_type": "execute_result"
    }
   ],
   "source": [
    "out = df.select(\n",
    "    \"Type 1\",\n",
    "    \"Type 2\",\n",
    "    pl.col(\"Attack\").mean().over(\"Type 1\").alias(\"avg_attack_by_type\"),\n",
    "    pl.col(\"Attack\").mean().alias(\"avg_attack\"),\n",
    ")\n",
    "out.head(10)"
   ]
  },
  {
   "cell_type": "markdown",
   "metadata": {},
   "source": [
    "#### 分组并排序\n"
   ]
  },
  {
   "cell_type": "code",
   "execution_count": 10,
   "metadata": {},
   "outputs": [
    {
     "data": {
      "text/html": [
       "<div><style>\n",
       ".dataframe > thead > tr,\n",
       ".dataframe > tbody > tr {\n",
       "  text-align: right;\n",
       "  white-space: pre-wrap;\n",
       "}\n",
       "</style>\n",
       "<small>shape: (7, 3)</small><table border=\"1\" class=\"dataframe\"><thead><tr><th>Name</th><th>Type 1</th><th>Speed</th></tr><tr><td>str</td><td>str</td><td>i64</td></tr></thead><tbody><tr><td>&quot;Slowpoke&quot;</td><td>&quot;Water&quot;</td><td>15</td></tr><tr><td>&quot;Slowbro&quot;</td><td>&quot;Water&quot;</td><td>30</td></tr><tr><td>&quot;SlowbroMega Slowbro&quot;</td><td>&quot;Water&quot;</td><td>30</td></tr><tr><td>&quot;Exeggcute&quot;</td><td>&quot;Grass&quot;</td><td>40</td></tr><tr><td>&quot;Exeggutor&quot;</td><td>&quot;Grass&quot;</td><td>55</td></tr><tr><td>&quot;Starmie&quot;</td><td>&quot;Water&quot;</td><td>115</td></tr><tr><td>&quot;Jynx&quot;</td><td>&quot;Ice&quot;</td><td>95</td></tr></tbody></table></div>"
      ],
      "text/plain": [
       "shape: (7, 3)\n",
       "┌─────────────────────┬────────┬───────┐\n",
       "│ Name                ┆ Type 1 ┆ Speed │\n",
       "│ ---                 ┆ ---    ┆ ---   │\n",
       "│ str                 ┆ str    ┆ i64   │\n",
       "╞═════════════════════╪════════╪═══════╡\n",
       "│ Slowpoke            ┆ Water  ┆ 15    │\n",
       "│ Slowbro             ┆ Water  ┆ 30    │\n",
       "│ SlowbroMega Slowbro ┆ Water  ┆ 30    │\n",
       "│ Exeggcute           ┆ Grass  ┆ 40    │\n",
       "│ Exeggutor           ┆ Grass  ┆ 55    │\n",
       "│ Starmie             ┆ Water  ┆ 115   │\n",
       "│ Jynx                ┆ Ice    ┆ 95    │\n",
       "└─────────────────────┴────────┴───────┘"
      ]
     },
     "execution_count": 10,
     "metadata": {},
     "output_type": "execute_result"
    }
   ],
   "source": [
    "filtered = df.filter(pl.col(\"Type 2\") == \"Psychic\").select(\n",
    "    \"Name\",\n",
    "    \"Type 1\",\n",
    "    \"Speed\",\n",
    ")\n",
    "filtered"
   ]
  },
  {
   "cell_type": "code",
   "execution_count": 11,
   "metadata": {},
   "outputs": [
    {
     "data": {
      "text/html": [
       "<div><style>\n",
       ".dataframe > thead > tr,\n",
       ".dataframe > tbody > tr {\n",
       "  text-align: right;\n",
       "  white-space: pre-wrap;\n",
       "}\n",
       "</style>\n",
       "<small>shape: (7, 3)</small><table border=\"1\" class=\"dataframe\"><thead><tr><th>Name</th><th>Type 1</th><th>Speed</th></tr><tr><td>str</td><td>str</td><td>i64</td></tr></thead><tbody><tr><td>&quot;Starmie&quot;</td><td>&quot;Water&quot;</td><td>115</td></tr><tr><td>&quot;Slowbro&quot;</td><td>&quot;Water&quot;</td><td>30</td></tr><tr><td>&quot;SlowbroMega Slowbro&quot;</td><td>&quot;Water&quot;</td><td>30</td></tr><tr><td>&quot;Exeggutor&quot;</td><td>&quot;Grass&quot;</td><td>55</td></tr><tr><td>&quot;Exeggcute&quot;</td><td>&quot;Grass&quot;</td><td>40</td></tr><tr><td>&quot;Slowpoke&quot;</td><td>&quot;Water&quot;</td><td>15</td></tr><tr><td>&quot;Jynx&quot;</td><td>&quot;Ice&quot;</td><td>95</td></tr></tbody></table></div>"
      ],
      "text/plain": [
       "shape: (7, 3)\n",
       "┌─────────────────────┬────────┬───────┐\n",
       "│ Name                ┆ Type 1 ┆ Speed │\n",
       "│ ---                 ┆ ---    ┆ ---   │\n",
       "│ str                 ┆ str    ┆ i64   │\n",
       "╞═════════════════════╪════════╪═══════╡\n",
       "│ Starmie             ┆ Water  ┆ 115   │\n",
       "│ Slowbro             ┆ Water  ┆ 30    │\n",
       "│ SlowbroMega Slowbro ┆ Water  ┆ 30    │\n",
       "│ Exeggutor           ┆ Grass  ┆ 55    │\n",
       "│ Exeggcute           ┆ Grass  ┆ 40    │\n",
       "│ Slowpoke            ┆ Water  ┆ 15    │\n",
       "│ Jynx                ┆ Ice    ┆ 95    │\n",
       "└─────────────────────┴────────┴───────┘"
      ]
     },
     "execution_count": 11,
     "metadata": {},
     "output_type": "execute_result"
    }
   ],
   "source": [
    "filtered.with_columns(\n",
    "    pl.col(\"Name\", \"Speed\").sort_by(\"Speed\", descending=True).over(\"Type 1\"),\n",
    ")"
   ]
  },
  {
   "cell_type": "markdown",
   "metadata": {},
   "source": [
    "# 组合\n",
    "\n",
    "- join 增加列\n",
    "- concat 增加行\n"
   ]
  },
  {
   "cell_type": "code",
   "execution_count": 15,
   "metadata": {},
   "outputs": [],
   "source": [
    "df1 = pl.DataFrame(\n",
    "    {\n",
    "        \"name\": [\"Alice Archer\", \"Ben Brown\", \"Chloe Cooper\", \"Daniel Donovan\"],\n",
    "        \"birthdate\": [\n",
    "            dt.date(1997, 1, 10),\n",
    "            dt.date(1985, 2, 15),\n",
    "            dt.date(1981, 4, 30),\n",
    "            dt.date(1989, 4, 30),\n",
    "        ],\n",
    "        \"weight\": [57.9, 72.5, 53.6, 83.1],  # (kg)\n",
    "        \"height\": [1.56, 1.77, 1.65, 1.75],  # (m)\n",
    "    }\n",
    ")"
   ]
  },
  {
   "cell_type": "markdown",
   "metadata": {},
   "source": [
    "## join\n"
   ]
  },
  {
   "cell_type": "code",
   "execution_count": 17,
   "metadata": {},
   "outputs": [
    {
     "data": {
      "text/html": [
       "<div><style>\n",
       ".dataframe > thead > tr,\n",
       ".dataframe > tbody > tr {\n",
       "  text-align: right;\n",
       "  white-space: pre-wrap;\n",
       "}\n",
       "</style>\n",
       "<small>shape: (4, 6)</small><table border=\"1\" class=\"dataframe\"><thead><tr><th>name</th><th>birthdate</th><th>weight</th><th>height</th><th>parent</th><th>siblings</th></tr><tr><td>str</td><td>date</td><td>f64</td><td>f64</td><td>bool</td><td>i64</td></tr></thead><tbody><tr><td>&quot;Alice Archer&quot;</td><td>1997-01-10</td><td>57.9</td><td>1.56</td><td>false</td><td>3</td></tr><tr><td>&quot;Ben Brown&quot;</td><td>1985-02-15</td><td>72.5</td><td>1.77</td><td>true</td><td>1</td></tr><tr><td>&quot;Chloe Cooper&quot;</td><td>1981-04-30</td><td>53.6</td><td>1.65</td><td>false</td><td>4</td></tr><tr><td>&quot;Daniel Donovan&quot;</td><td>1989-04-30</td><td>83.1</td><td>1.75</td><td>false</td><td>2</td></tr></tbody></table></div>"
      ],
      "text/plain": [
       "shape: (4, 6)\n",
       "┌────────────────┬────────────┬────────┬────────┬────────┬──────────┐\n",
       "│ name           ┆ birthdate  ┆ weight ┆ height ┆ parent ┆ siblings │\n",
       "│ ---            ┆ ---        ┆ ---    ┆ ---    ┆ ---    ┆ ---      │\n",
       "│ str            ┆ date       ┆ f64    ┆ f64    ┆ bool   ┆ i64      │\n",
       "╞════════════════╪════════════╪════════╪════════╪════════╪══════════╡\n",
       "│ Alice Archer   ┆ 1997-01-10 ┆ 57.9   ┆ 1.56   ┆ false  ┆ 3        │\n",
       "│ Ben Brown      ┆ 1985-02-15 ┆ 72.5   ┆ 1.77   ┆ true   ┆ 1        │\n",
       "│ Chloe Cooper   ┆ 1981-04-30 ┆ 53.6   ┆ 1.65   ┆ false  ┆ 4        │\n",
       "│ Daniel Donovan ┆ 1989-04-30 ┆ 83.1   ┆ 1.75   ┆ false  ┆ 2        │\n",
       "└────────────────┴────────────┴────────┴────────┴────────┴──────────┘"
      ]
     },
     "execution_count": 17,
     "metadata": {},
     "output_type": "execute_result"
    }
   ],
   "source": [
    "df2 = pl.DataFrame(\n",
    "    {\n",
    "        \"name\": [\"Ben Brown\", \"Daniel Donovan\", \"Alice Archer\", \"Chloe Cooper\"],\n",
    "        \"parent\": [True, False, False, False],\n",
    "        \"siblings\": [1, 2, 3, 4],\n",
    "    }\n",
    ")\n",
    "\n",
    "df.join(df2, on=\"name\", how=\"left\")"
   ]
  },
  {
   "cell_type": "markdown",
   "metadata": {},
   "source": [
    "## concat\n"
   ]
  },
  {
   "cell_type": "code",
   "execution_count": 18,
   "metadata": {},
   "outputs": [
    {
     "data": {
      "text/html": [
       "<div><style>\n",
       ".dataframe > thead > tr,\n",
       ".dataframe > tbody > tr {\n",
       "  text-align: right;\n",
       "  white-space: pre-wrap;\n",
       "}\n",
       "</style>\n",
       "<small>shape: (8, 4)</small><table border=\"1\" class=\"dataframe\"><thead><tr><th>name</th><th>birthdate</th><th>weight</th><th>height</th></tr><tr><td>str</td><td>date</td><td>f64</td><td>f64</td></tr></thead><tbody><tr><td>&quot;Alice Archer&quot;</td><td>1997-01-10</td><td>57.9</td><td>1.56</td></tr><tr><td>&quot;Ben Brown&quot;</td><td>1985-02-15</td><td>72.5</td><td>1.77</td></tr><tr><td>&quot;Chloe Cooper&quot;</td><td>1981-04-30</td><td>53.6</td><td>1.65</td></tr><tr><td>&quot;Daniel Donovan&quot;</td><td>1989-04-30</td><td>83.1</td><td>1.75</td></tr><tr><td>&quot;Ethan Edwards&quot;</td><td>1977-05-10</td><td>67.9</td><td>1.76</td></tr><tr><td>&quot;Fiona Foster&quot;</td><td>1975-06-23</td><td>72.5</td><td>1.6</td></tr><tr><td>&quot;Grace Gibson&quot;</td><td>1973-07-22</td><td>57.6</td><td>1.66</td></tr><tr><td>&quot;Henry Harris&quot;</td><td>1971-08-03</td><td>93.1</td><td>1.8</td></tr></tbody></table></div>"
      ],
      "text/plain": [
       "shape: (8, 4)\n",
       "┌────────────────┬────────────┬────────┬────────┐\n",
       "│ name           ┆ birthdate  ┆ weight ┆ height │\n",
       "│ ---            ┆ ---        ┆ ---    ┆ ---    │\n",
       "│ str            ┆ date       ┆ f64    ┆ f64    │\n",
       "╞════════════════╪════════════╪════════╪════════╡\n",
       "│ Alice Archer   ┆ 1997-01-10 ┆ 57.9   ┆ 1.56   │\n",
       "│ Ben Brown      ┆ 1985-02-15 ┆ 72.5   ┆ 1.77   │\n",
       "│ Chloe Cooper   ┆ 1981-04-30 ┆ 53.6   ┆ 1.65   │\n",
       "│ Daniel Donovan ┆ 1989-04-30 ┆ 83.1   ┆ 1.75   │\n",
       "│ Ethan Edwards  ┆ 1977-05-10 ┆ 67.9   ┆ 1.76   │\n",
       "│ Fiona Foster   ┆ 1975-06-23 ┆ 72.5   ┆ 1.6    │\n",
       "│ Grace Gibson   ┆ 1973-07-22 ┆ 57.6   ┆ 1.66   │\n",
       "│ Henry Harris   ┆ 1971-08-03 ┆ 93.1   ┆ 1.8    │\n",
       "└────────────────┴────────────┴────────┴────────┘"
      ]
     },
     "execution_count": 18,
     "metadata": {},
     "output_type": "execute_result"
    }
   ],
   "source": [
    "df3 = pl.DataFrame(\n",
    "    {\n",
    "        \"name\": [\"Ethan Edwards\", \"Fiona Foster\", \"Grace Gibson\", \"Henry Harris\"],\n",
    "        \"birthdate\": [\n",
    "            dt.date(1977, 5, 10),\n",
    "            dt.date(1975, 6, 23),\n",
    "            dt.date(1973, 7, 22),\n",
    "            dt.date(1971, 8, 3),\n",
    "        ],\n",
    "        \"weight\": [67.9, 72.5, 57.6, 93.1],  # (kg)\n",
    "        \"height\": [1.76, 1.6, 1.66, 1.8],  # (m)\n",
    "    }\n",
    ")\n",
    "\n",
    "pl.concat([df, df3], how=\"vertical\")"
   ]
  },
  {
   "cell_type": "markdown",
   "metadata": {},
   "source": [
    "# 分析\n"
   ]
  },
  {
   "cell_type": "code",
   "execution_count": 44,
   "metadata": {},
   "outputs": [],
   "source": [
    "# 极值\n",
    "df = pl.DataFrame(\n",
    "    {\n",
    "        \"name\": [\"Alice Archer\", \"Ben Brown\", \"Chloe Cooper\", \"Daniel Donovan\"],\n",
    "        \"birthdate\": [\n",
    "            dt.date(1997, 1, 10),\n",
    "            dt.date(1985, 2, 15),\n",
    "            dt.date(1981, 4, 30),\n",
    "            dt.date(1989, 4, 30),\n",
    "        ],\n",
    "        \"weight\": [57.9, 72.5, 53.6, 83.1],  # (kg)\n",
    "        \"height\": [1.56, 1.77, 1.65, 1.75],  # (m)\n",
    "    }\n",
    ")"
   ]
  },
  {
   "cell_type": "markdown",
   "metadata": {},
   "source": [
    "## describe\n"
   ]
  },
  {
   "cell_type": "code",
   "execution_count": 45,
   "metadata": {},
   "outputs": [
    {
     "data": {
      "text/html": [
       "<div><style>\n",
       ".dataframe > thead > tr,\n",
       ".dataframe > tbody > tr {\n",
       "  text-align: right;\n",
       "  white-space: pre-wrap;\n",
       "}\n",
       "</style>\n",
       "<small>shape: (9, 5)</small><table border=\"1\" class=\"dataframe\"><thead><tr><th>statistic</th><th>name</th><th>birthdate</th><th>weight</th><th>height</th></tr><tr><td>str</td><td>str</td><td>str</td><td>f64</td><td>f64</td></tr></thead><tbody><tr><td>&quot;count&quot;</td><td>&quot;4&quot;</td><td>&quot;4&quot;</td><td>4.0</td><td>4.0</td></tr><tr><td>&quot;null_count&quot;</td><td>&quot;0&quot;</td><td>&quot;0&quot;</td><td>0.0</td><td>0.0</td></tr><tr><td>&quot;mean&quot;</td><td>null</td><td>&quot;1988-03-14 18:00:00&quot;</td><td>66.775</td><td>1.6825</td></tr><tr><td>&quot;std&quot;</td><td>null</td><td>null</td><td>13.560082</td><td>0.097082</td></tr><tr><td>&quot;min&quot;</td><td>&quot;Alice Archer&quot;</td><td>&quot;1981-04-30&quot;</td><td>53.6</td><td>1.56</td></tr><tr><td>&quot;25%&quot;</td><td>null</td><td>&quot;1985-02-15&quot;</td><td>57.9</td><td>1.65</td></tr><tr><td>&quot;50%&quot;</td><td>null</td><td>&quot;1989-04-30&quot;</td><td>72.5</td><td>1.75</td></tr><tr><td>&quot;75%&quot;</td><td>null</td><td>&quot;1989-04-30&quot;</td><td>72.5</td><td>1.75</td></tr><tr><td>&quot;max&quot;</td><td>&quot;Daniel Donovan&quot;</td><td>&quot;1997-01-10&quot;</td><td>83.1</td><td>1.77</td></tr></tbody></table></div>"
      ],
      "text/plain": [
       "shape: (9, 5)\n",
       "┌────────────┬────────────────┬─────────────────────┬───────────┬──────────┐\n",
       "│ statistic  ┆ name           ┆ birthdate           ┆ weight    ┆ height   │\n",
       "│ ---        ┆ ---            ┆ ---                 ┆ ---       ┆ ---      │\n",
       "│ str        ┆ str            ┆ str                 ┆ f64       ┆ f64      │\n",
       "╞════════════╪════════════════╪═════════════════════╪═══════════╪══════════╡\n",
       "│ count      ┆ 4              ┆ 4                   ┆ 4.0       ┆ 4.0      │\n",
       "│ null_count ┆ 0              ┆ 0                   ┆ 0.0       ┆ 0.0      │\n",
       "│ mean       ┆ null           ┆ 1988-03-14 18:00:00 ┆ 66.775    ┆ 1.6825   │\n",
       "│ std        ┆ null           ┆ null                ┆ 13.560082 ┆ 0.097082 │\n",
       "│ min        ┆ Alice Archer   ┆ 1981-04-30          ┆ 53.6      ┆ 1.56     │\n",
       "│ 25%        ┆ null           ┆ 1985-02-15          ┆ 57.9      ┆ 1.65     │\n",
       "│ 50%        ┆ null           ┆ 1989-04-30          ┆ 72.5      ┆ 1.75     │\n",
       "│ 75%        ┆ null           ┆ 1989-04-30          ┆ 72.5      ┆ 1.75     │\n",
       "│ max        ┆ Daniel Donovan ┆ 1997-01-10          ┆ 83.1      ┆ 1.77     │\n",
       "└────────────┴────────────────┴─────────────────────┴───────────┴──────────┘"
      ]
     },
     "execution_count": 45,
     "metadata": {},
     "output_type": "execute_result"
    }
   ],
   "source": [
    "df.describe()"
   ]
  },
  {
   "cell_type": "markdown",
   "metadata": {},
   "source": [
    "# Window Functions\n"
   ]
  },
  {
   "cell_type": "markdown",
   "metadata": {},
   "source": [
    "## over\n",
    "\n",
    "用来标识或操作分组的数据范围,over一般跟在操作后面\n"
   ]
  },
  {
   "cell_type": "code",
   "execution_count": 9,
   "metadata": {},
   "outputs": [
    {
     "data": {
      "text/html": [
       "<div><style>\n",
       ".dataframe > thead > tr,\n",
       ".dataframe > tbody > tr {\n",
       "  text-align: right;\n",
       "  white-space: pre-wrap;\n",
       "}\n",
       "</style>\n",
       "<small>shape: (7, 2)</small><table border=\"1\" class=\"dataframe\"><thead><tr><th>group</th><th>value</th></tr><tr><td>str</td><td>i64</td></tr></thead><tbody><tr><td>&quot;A&quot;</td><td>10</td></tr><tr><td>&quot;A&quot;</td><td>20</td></tr><tr><td>&quot;B&quot;</td><td>30</td></tr><tr><td>&quot;B&quot;</td><td>40</td></tr><tr><td>&quot;C&quot;</td><td>50</td></tr><tr><td>&quot;C&quot;</td><td>60</td></tr><tr><td>&quot;C&quot;</td><td>70</td></tr></tbody></table></div>"
      ],
      "text/plain": [
       "shape: (7, 2)\n",
       "┌───────┬───────┐\n",
       "│ group ┆ value │\n",
       "│ ---   ┆ ---   │\n",
       "│ str   ┆ i64   │\n",
       "╞═══════╪═══════╡\n",
       "│ A     ┆ 10    │\n",
       "│ A     ┆ 20    │\n",
       "│ B     ┆ 30    │\n",
       "│ B     ┆ 40    │\n",
       "│ C     ┆ 50    │\n",
       "│ C     ┆ 60    │\n",
       "│ C     ┆ 70    │\n",
       "└───────┴───────┘"
      ]
     },
     "execution_count": 9,
     "metadata": {},
     "output_type": "execute_result"
    }
   ],
   "source": [
    "import polars as pl\n",
    "\n",
    "df = pl.DataFrame(\n",
    "    {\n",
    "        \"group\": [\"A\", \"A\", \"B\", \"B\", \"C\", \"C\", \"C\"],\n",
    "        \"value\": [10, 20, 30, 40, 50, 60, 70],\n",
    "    }\n",
    ")\n",
    "\n",
    "df"
   ]
  },
  {
   "cell_type": "markdown",
   "metadata": {},
   "source": [
    "### 分组极值"
   ]
  },
  {
   "cell_type": "code",
   "execution_count": 10,
   "metadata": {},
   "outputs": [
    {
     "data": {
      "text/html": [
       "<div><style>\n",
       ".dataframe > thead > tr,\n",
       ".dataframe > tbody > tr {\n",
       "  text-align: right;\n",
       "  white-space: pre-wrap;\n",
       "}\n",
       "</style>\n",
       "<small>shape: (7, 3)</small><table border=\"1\" class=\"dataframe\"><thead><tr><th>group</th><th>value</th><th>max_in_group</th></tr><tr><td>str</td><td>i64</td><td>i64</td></tr></thead><tbody><tr><td>&quot;A&quot;</td><td>10</td><td>20</td></tr><tr><td>&quot;A&quot;</td><td>20</td><td>20</td></tr><tr><td>&quot;B&quot;</td><td>30</td><td>40</td></tr><tr><td>&quot;B&quot;</td><td>40</td><td>40</td></tr><tr><td>&quot;C&quot;</td><td>50</td><td>70</td></tr><tr><td>&quot;C&quot;</td><td>60</td><td>70</td></tr><tr><td>&quot;C&quot;</td><td>70</td><td>70</td></tr></tbody></table></div>"
      ],
      "text/plain": [
       "shape: (7, 3)\n",
       "┌───────┬───────┬──────────────┐\n",
       "│ group ┆ value ┆ max_in_group │\n",
       "│ ---   ┆ ---   ┆ ---          │\n",
       "│ str   ┆ i64   ┆ i64          │\n",
       "╞═══════╪═══════╪══════════════╡\n",
       "│ A     ┆ 10    ┆ 20           │\n",
       "│ A     ┆ 20    ┆ 20           │\n",
       "│ B     ┆ 30    ┆ 40           │\n",
       "│ B     ┆ 40    ┆ 40           │\n",
       "│ C     ┆ 50    ┆ 70           │\n",
       "│ C     ┆ 60    ┆ 70           │\n",
       "│ C     ┆ 70    ┆ 70           │\n",
       "└───────┴───────┴──────────────┘"
      ]
     },
     "execution_count": 10,
     "metadata": {},
     "output_type": "execute_result"
    }
   ],
   "source": [
    "# 分组求最大\n",
    "df_result = df.with_columns(pl.col(\"value\").max().over(\"group\").alias(\"max_in_group\"))\n",
    "df_result"
   ]
  },
  {
   "cell_type": "markdown",
   "metadata": {},
   "source": [
    "### 分组count"
   ]
  },
  {
   "cell_type": "code",
   "execution_count": 18,
   "metadata": {},
   "outputs": [
    {
     "data": {
      "text/html": [
       "<div><style>\n",
       ".dataframe > thead > tr,\n",
       ".dataframe > tbody > tr {\n",
       "  text-align: right;\n",
       "  white-space: pre-wrap;\n",
       "}\n",
       "</style>\n",
       "<small>shape: (7, 3)</small><table border=\"1\" class=\"dataframe\"><thead><tr><th>group</th><th>value</th><th>row_number_in_group</th></tr><tr><td>str</td><td>i64</td><td>u32</td></tr></thead><tbody><tr><td>&quot;A&quot;</td><td>10</td><td>1</td></tr><tr><td>&quot;A&quot;</td><td>20</td><td>2</td></tr><tr><td>&quot;B&quot;</td><td>30</td><td>3</td></tr><tr><td>&quot;B&quot;</td><td>40</td><td>4</td></tr><tr><td>&quot;C&quot;</td><td>50</td><td>5</td></tr><tr><td>&quot;C&quot;</td><td>60</td><td>6</td></tr><tr><td>&quot;C&quot;</td><td>70</td><td>7</td></tr></tbody></table></div>"
      ],
      "text/plain": [
       "shape: (7, 3)\n",
       "┌───────┬───────┬─────────────────────┐\n",
       "│ group ┆ value ┆ row_number_in_group │\n",
       "│ ---   ┆ ---   ┆ ---                 │\n",
       "│ str   ┆ i64   ┆ u32                 │\n",
       "╞═══════╪═══════╪═════════════════════╡\n",
       "│ A     ┆ 10    ┆ 1                   │\n",
       "│ A     ┆ 20    ┆ 2                   │\n",
       "│ B     ┆ 30    ┆ 3                   │\n",
       "│ B     ┆ 40    ┆ 4                   │\n",
       "│ C     ┆ 50    ┆ 5                   │\n",
       "│ C     ┆ 60    ┆ 6                   │\n",
       "│ C     ┆ 70    ┆ 7                   │\n",
       "└───────┴───────┴─────────────────────┘"
      ]
     },
     "execution_count": 18,
     "metadata": {},
     "output_type": "execute_result"
    }
   ],
   "source": [
    "df_result = df.with_columns(\n",
    "    pl.col(\"value\").cum_count().alias(\"row_number_in_group\")\n",
    ")\n",
    "df_result"
   ]
  },
  {
   "cell_type": "code",
   "execution_count": 17,
   "metadata": {},
   "outputs": [
    {
     "data": {
      "text/html": [
       "<div><style>\n",
       ".dataframe > thead > tr,\n",
       ".dataframe > tbody > tr {\n",
       "  text-align: right;\n",
       "  white-space: pre-wrap;\n",
       "}\n",
       "</style>\n",
       "<small>shape: (7, 3)</small><table border=\"1\" class=\"dataframe\"><thead><tr><th>group</th><th>value</th><th>row_number_in_group</th></tr><tr><td>str</td><td>i64</td><td>u32</td></tr></thead><tbody><tr><td>&quot;A&quot;</td><td>10</td><td>1</td></tr><tr><td>&quot;A&quot;</td><td>20</td><td>2</td></tr><tr><td>&quot;B&quot;</td><td>30</td><td>1</td></tr><tr><td>&quot;B&quot;</td><td>40</td><td>2</td></tr><tr><td>&quot;C&quot;</td><td>50</td><td>1</td></tr><tr><td>&quot;C&quot;</td><td>60</td><td>2</td></tr><tr><td>&quot;C&quot;</td><td>70</td><td>3</td></tr></tbody></table></div>"
      ],
      "text/plain": [
       "shape: (7, 3)\n",
       "┌───────┬───────┬─────────────────────┐\n",
       "│ group ┆ value ┆ row_number_in_group │\n",
       "│ ---   ┆ ---   ┆ ---                 │\n",
       "│ str   ┆ i64   ┆ u32                 │\n",
       "╞═══════╪═══════╪═════════════════════╡\n",
       "│ A     ┆ 10    ┆ 1                   │\n",
       "│ A     ┆ 20    ┆ 2                   │\n",
       "│ B     ┆ 30    ┆ 1                   │\n",
       "│ B     ┆ 40    ┆ 2                   │\n",
       "│ C     ┆ 50    ┆ 1                   │\n",
       "│ C     ┆ 60    ┆ 2                   │\n",
       "│ C     ┆ 70    ┆ 3                   │\n",
       "└───────┴───────┴─────────────────────┘"
      ]
     },
     "execution_count": 17,
     "metadata": {},
     "output_type": "execute_result"
    }
   ],
   "source": [
    "df_result = df.with_columns(\n",
    "    pl.col(\"value\").cum_count().over(\"group\").alias(\"row_number_in_group\")\n",
    ")\n",
    "df_result"
   ]
  },
  {
   "cell_type": "code",
   "execution_count": null,
   "metadata": {},
   "outputs": [],
   "source": [
    "### 高级"
   ]
  },
  {
   "cell_type": "code",
   "execution_count": 24,
   "metadata": {},
   "outputs": [
    {
     "data": {
      "text/html": [
       "<div><style>\n",
       ".dataframe > thead > tr,\n",
       ".dataframe > tbody > tr {\n",
       "  text-align: right;\n",
       "  white-space: pre-wrap;\n",
       "}\n",
       "</style>\n",
       "<small>shape: (7, 3)</small><table border=\"1\" class=\"dataframe\"><thead><tr><th>group</th><th>value</th><th>row_number_in_group</th></tr><tr><td>str</td><td>i64</td><td>u32</td></tr></thead><tbody><tr><td>&quot;A&quot;</td><td>10</td><td>1</td></tr><tr><td>&quot;A&quot;</td><td>20</td><td>1</td></tr><tr><td>&quot;B&quot;</td><td>30</td><td>1</td></tr><tr><td>&quot;B&quot;</td><td>40</td><td>1</td></tr><tr><td>&quot;C&quot;</td><td>50</td><td>1</td></tr><tr><td>&quot;C&quot;</td><td>60</td><td>1</td></tr><tr><td>&quot;C&quot;</td><td>70</td><td>1</td></tr></tbody></table></div>"
      ],
      "text/plain": [
       "shape: (7, 3)\n",
       "┌───────┬───────┬─────────────────────┐\n",
       "│ group ┆ value ┆ row_number_in_group │\n",
       "│ ---   ┆ ---   ┆ ---                 │\n",
       "│ str   ┆ i64   ┆ u32                 │\n",
       "╞═══════╪═══════╪═════════════════════╡\n",
       "│ A     ┆ 10    ┆ 1                   │\n",
       "│ A     ┆ 20    ┆ 1                   │\n",
       "│ B     ┆ 30    ┆ 1                   │\n",
       "│ B     ┆ 40    ┆ 1                   │\n",
       "│ C     ┆ 50    ┆ 1                   │\n",
       "│ C     ┆ 60    ┆ 1                   │\n",
       "│ C     ┆ 70    ┆ 1                   │\n",
       "└───────┴───────┴─────────────────────┘"
      ]
     },
     "execution_count": 24,
     "metadata": {},
     "output_type": "execute_result"
    }
   ],
   "source": [
    "df_result = df.with_columns(\n",
    "    pl.col(\"value\")\n",
    "    .cum_count()\n",
    "    .over(\n",
    "        pl.when(pl.col(\"value\") >= pl.col(\"value\").shift(1))\n",
    "        .then(1)\n",
    "        .otherwise(0)\n",
    "        .cum_count()\n",
    "    )\n",
    "    .alias(\"row_number_in_group\")\n",
    ")\n",
    "df_result"
   ]
  },
  {
   "cell_type": "markdown",
   "metadata": {},
   "source": [
    "## rank\n"
   ]
  },
  {
   "cell_type": "markdown",
   "metadata": {},
   "source": [
    "# 特殊函数\n"
   ]
  },
  {
   "cell_type": "markdown",
   "metadata": {},
   "source": [
    "## 头尾 head/tail\n"
   ]
  },
  {
   "cell_type": "code",
   "execution_count": null,
   "metadata": {},
   "outputs": [],
   "source": [
    "df = pl.DataFrame(\n",
    "    {\n",
    "        \"name\": [\"satori\", \"scarlet\", \"marisa\"],\n",
    "        \"age\": [16, 400, 18],\n",
    "        \"length\": [155.3, 145.9, 152.1],\n",
    "        \"salary\": [6000, 7500, 5000],\n",
    "    }\n",
    ")"
   ]
  },
  {
   "cell_type": "code",
   "execution_count": null,
   "metadata": {},
   "outputs": [
    {
     "data": {
      "text/html": [
       "<div><style>\n",
       ".dataframe > thead > tr,\n",
       ".dataframe > tbody > tr {\n",
       "  text-align: right;\n",
       "  white-space: pre-wrap;\n",
       "}\n",
       "</style>\n",
       "<small>shape: (2, 4)</small><table border=\"1\" class=\"dataframe\"><thead><tr><th>name</th><th>age</th><th>length</th><th>salary</th></tr><tr><td>str</td><td>i64</td><td>f64</td><td>i64</td></tr></thead><tbody><tr><td>&quot;satori&quot;</td><td>16</td><td>155.3</td><td>6000</td></tr><tr><td>&quot;scarlet&quot;</td><td>400</td><td>145.9</td><td>7500</td></tr></tbody></table></div>"
      ],
      "text/plain": [
       "shape: (2, 4)\n",
       "┌─────────┬─────┬────────┬────────┐\n",
       "│ name    ┆ age ┆ length ┆ salary │\n",
       "│ ---     ┆ --- ┆ ---    ┆ ---    │\n",
       "│ str     ┆ i64 ┆ f64    ┆ i64    │\n",
       "╞═════════╪═════╪════════╪════════╡\n",
       "│ satori  ┆ 16  ┆ 155.3  ┆ 6000   │\n",
       "│ scarlet ┆ 400 ┆ 145.9  ┆ 7500   │\n",
       "└─────────┴─────┴────────┴────────┘"
      ]
     },
     "metadata": {},
     "output_type": "display_data"
    }
   ],
   "source": [
    "df.head(2)"
   ]
  },
  {
   "cell_type": "code",
   "execution_count": null,
   "metadata": {},
   "outputs": [
    {
     "data": {
      "text/html": [
       "<div><style>\n",
       ".dataframe > thead > tr,\n",
       ".dataframe > tbody > tr {\n",
       "  text-align: right;\n",
       "  white-space: pre-wrap;\n",
       "}\n",
       "</style>\n",
       "<small>shape: (2, 4)</small><table border=\"1\" class=\"dataframe\"><thead><tr><th>name</th><th>age</th><th>length</th><th>salary</th></tr><tr><td>str</td><td>i64</td><td>f64</td><td>i64</td></tr></thead><tbody><tr><td>&quot;scarlet&quot;</td><td>400</td><td>145.9</td><td>7500</td></tr><tr><td>&quot;marisa&quot;</td><td>18</td><td>152.1</td><td>5000</td></tr></tbody></table></div>"
      ],
      "text/plain": [
       "shape: (2, 4)\n",
       "┌─────────┬─────┬────────┬────────┐\n",
       "│ name    ┆ age ┆ length ┆ salary │\n",
       "│ ---     ┆ --- ┆ ---    ┆ ---    │\n",
       "│ str     ┆ i64 ┆ f64    ┆ i64    │\n",
       "╞═════════╪═════╪════════╪════════╡\n",
       "│ scarlet ┆ 400 ┆ 145.9  ┆ 7500   │\n",
       "│ marisa  ┆ 18  ┆ 152.1  ┆ 5000   │\n",
       "└─────────┴─────┴────────┴────────┘"
      ]
     },
     "metadata": {},
     "output_type": "display_data"
    }
   ],
   "source": [
    "df.tail(2)"
   ]
  },
  {
   "cell_type": "markdown",
   "metadata": {},
   "source": [
    "## 随机读 sample\n"
   ]
  },
  {
   "cell_type": "code",
   "execution_count": null,
   "metadata": {},
   "outputs": [
    {
     "data": {
      "text/html": [
       "<div><style>\n",
       ".dataframe > thead > tr,\n",
       ".dataframe > tbody > tr {\n",
       "  text-align: right;\n",
       "  white-space: pre-wrap;\n",
       "}\n",
       "</style>\n",
       "<small>shape: (2, 4)</small><table border=\"1\" class=\"dataframe\"><thead><tr><th>name</th><th>age</th><th>length</th><th>salary</th></tr><tr><td>str</td><td>i64</td><td>f64</td><td>i64</td></tr></thead><tbody><tr><td>&quot;satori&quot;</td><td>16</td><td>155.3</td><td>6000</td></tr><tr><td>&quot;marisa&quot;</td><td>18</td><td>152.1</td><td>5000</td></tr></tbody></table></div>"
      ],
      "text/plain": [
       "shape: (2, 4)\n",
       "┌────────┬─────┬────────┬────────┐\n",
       "│ name   ┆ age ┆ length ┆ salary │\n",
       "│ ---    ┆ --- ┆ ---    ┆ ---    │\n",
       "│ str    ┆ i64 ┆ f64    ┆ i64    │\n",
       "╞════════╪═════╪════════╪════════╡\n",
       "│ satori ┆ 16  ┆ 155.3  ┆ 6000   │\n",
       "│ marisa ┆ 18  ┆ 152.1  ┆ 5000   │\n",
       "└────────┴─────┴────────┴────────┘"
      ]
     },
     "metadata": {},
     "output_type": "display_data"
    }
   ],
   "source": [
    "df.sample(2)"
   ]
  },
  {
   "cell_type": "code",
   "execution_count": null,
   "metadata": {},
   "outputs": [],
   "source": []
  }
 ],
 "metadata": {
  "kernelspec": {
   "display_name": ".venv",
   "language": "python",
   "name": "python3"
  },
  "language_info": {
   "codemirror_mode": {
    "name": "ipython",
    "version": 3
   },
   "file_extension": ".py",
   "mimetype": "text/x-python",
   "name": "python",
   "nbconvert_exporter": "python",
   "pygments_lexer": "ipython3",
   "version": "3.12.5"
  }
 },
 "nbformat": 4,
 "nbformat_minor": 2
}
