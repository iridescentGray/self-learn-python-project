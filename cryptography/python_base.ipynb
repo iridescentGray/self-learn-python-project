{
 "cells": [
  {
   "cell_type": "markdown",
   "metadata": {},
   "source": [
    "# hashlib"
   ]
  },
  {
   "cell_type": "code",
   "execution_count": 2,
   "metadata": {},
   "outputs": [
    {
     "name": "stdout",
     "output_type": "stream",
     "text": [
      "b'\\x13\\xd54\\x0f:\\xdf\\x8e[\\xe0\\x83\\xdd\\xc6\\xca\\xd2G\\xb8'\n",
      "13d5340f3adf8e5be083ddc6cad247b8\n"
     ]
    }
   ],
   "source": [
    "import hashlib\n"
   ]
  },
  {
   "cell_type": "code",
   "execution_count": 4,
   "metadata": {},
   "outputs": [
    {
     "name": "stdout",
     "output_type": "stream",
     "text": [
      "b'\\x13\\xd54\\x0f:\\xdf\\x8e[\\xe0\\x83\\xdd\\xc6\\xca\\xd2G\\xb8'\n",
      "13d5340f3adf8e5be083ddc6cad247b8\n"
     ]
    }
   ],
   "source": [
    "h = hashlib.md5()\n",
    "h.update(b\"satori\")\n",
    "# 二进制形式\n",
    "print(h.digest())\n",
    "# 十六进制形式\n",
    "print(h.hexdigest())"
   ]
  },
  {
   "cell_type": "code",
   "execution_count": 5,
   "metadata": {},
   "outputs": [
    {
     "name": "stdout",
     "output_type": "stream",
     "text": [
      "13d5340f3adf8e5be083ddc6cad247b8\n"
     ]
    }
   ],
   "source": [
    "# 简写\n",
    "h1 = hashlib.md5(b\"satori\")\n",
    "print(h1.hexdigest())"
   ]
  },
  {
   "cell_type": "markdown",
   "metadata": {},
   "source": [
    "# hmac"
   ]
  },
  {
   "cell_type": "code",
   "execution_count": 6,
   "metadata": {},
   "outputs": [],
   "source": [
    "import hmac\n",
    "import hashlib"
   ]
  },
  {
   "cell_type": "code",
   "execution_count": 7,
   "metadata": {},
   "outputs": [
    {
     "name": "stdout",
     "output_type": "stream",
     "text": [
      "3cba321fbb4e02c5b7e9fb7ef82bb47b\n"
     ]
    }
   ],
   "source": [
    "h1 = hmac.new(key=b\"satori\", msg=b\"satori\", digestmod=hashlib.md5)\n",
    "print(h1.hexdigest())"
   ]
  },
  {
   "cell_type": "markdown",
   "metadata": {},
   "source": [
    "# secrets\n",
    "\n",
    "* secrets.choice(iterable),从可迭代对象里随机选择一个元素并返回\n",
    "* secrets.randbelow(n),从[0,n)中随机选择一个数并返回\n",
    "* secrets.randbits(k),返回带有k个随机位的整数\n",
    "* secrets.token_bytes(nbytes=None),返回一个包含n个bytes的随机字符串\n",
    "* secrets.token_hex(nbytes=None),返回一个包含n个bytes的16进制随机文本字符串，每个字节转换成两个16进制数字，来生成随即密码\n",
    "* secrets.token_urlsafe(nbytes=None),返回一个包含n个bytes的随即url字符串，可以用来生成一个临时的随机令牌\n",
    "* secrets.compare_digest(a, b),比较两个字符串是否相等"
   ]
  },
  {
   "cell_type": "code",
   "execution_count": 8,
   "metadata": {},
   "outputs": [],
   "source": [
    "import secrets"
   ]
  },
  {
   "cell_type": "code",
   "execution_count": 9,
   "metadata": {},
   "outputs": [
    {
     "data": {
      "text/plain": [
       "b'\\x12B\\xf1\"3\\x10qv\\xe3lA\\xaf\\x99\\xae\\xa8k\\xda1\\xb7\\x9f@\\xcbbl\\x07a\\xd0\\x1c\\xa2rR\\xbc'"
      ]
     },
     "execution_count": 9,
     "metadata": {},
     "output_type": "execute_result"
    }
   ],
   "source": [
    "secrets.token_bytes()"
   ]
  },
  {
   "cell_type": "code",
   "execution_count": 10,
   "metadata": {},
   "outputs": [
    {
     "data": {
      "text/plain": [
       "b'\\xb7.\\xb1-\\rZ\\x8c\\xa3Oa'"
      ]
     },
     "execution_count": 10,
     "metadata": {},
     "output_type": "execute_result"
    }
   ],
   "source": [
    "secrets.token_bytes(nbytes=10)"
   ]
  },
  {
   "cell_type": "code",
   "execution_count": 11,
   "metadata": {},
   "outputs": [
    {
     "data": {
      "text/plain": [
       "'611c3b1556c2a8a5609c82ff5925765d11d9f3d5e69ab10af500b274aea723bf'"
      ]
     },
     "execution_count": 11,
     "metadata": {},
     "output_type": "execute_result"
    }
   ],
   "source": [
    "secrets.token_hex()"
   ]
  },
  {
   "cell_type": "code",
   "execution_count": 12,
   "metadata": {},
   "outputs": [
    {
     "data": {
      "text/plain": [
       "'a8e076254176f6041e0f'"
      ]
     },
     "execution_count": 12,
     "metadata": {},
     "output_type": "execute_result"
    }
   ],
   "source": [
    "secrets.token_hex(10)"
   ]
  },
  {
   "cell_type": "code",
   "execution_count": 13,
   "metadata": {},
   "outputs": [
    {
     "data": {
      "text/plain": [
       "'_WBEeCpIWXm2-qF1Wrnj_6-rPHiJvdurnb8YNpKiIA8'"
      ]
     },
     "execution_count": 13,
     "metadata": {},
     "output_type": "execute_result"
    }
   ],
   "source": [
    "secrets.token_urlsafe()"
   ]
  },
  {
   "cell_type": "code",
   "execution_count": 14,
   "metadata": {},
   "outputs": [
    {
     "data": {
      "text/plain": [
       "'JIW1ieM'"
      ]
     },
     "execution_count": 14,
     "metadata": {},
     "output_type": "execute_result"
    }
   ],
   "source": [
    "secrets.token_urlsafe(nbytes=5)"
   ]
  },
  {
   "cell_type": "markdown",
   "metadata": {},
   "source": [
    "# base64"
   ]
  },
  {
   "cell_type": "code",
   "execution_count": 15,
   "metadata": {},
   "outputs": [],
   "source": [
    "import base64"
   ]
  },
  {
   "cell_type": "markdown",
   "metadata": {},
   "source": [
    "## encode/decode"
   ]
  },
  {
   "cell_type": "code",
   "execution_count": 17,
   "metadata": {},
   "outputs": [
    {
     "data": {
      "text/plain": [
       "b'5rWL6K+V5pWw5o2u'"
      ]
     },
     "execution_count": 17,
     "metadata": {},
     "output_type": "execute_result"
    }
   ],
   "source": [
    "s = bytes(\"测试数据\", encoding=\"utf-8\")\n",
    "\n",
    "b_encode = base64.b64encode(s)\n",
    "b_encode"
   ]
  },
  {
   "cell_type": "code",
   "execution_count": 20,
   "metadata": {},
   "outputs": [
    {
     "data": {
      "text/plain": [
       "b'\\xe6\\xb5\\x8b\\xe8\\xaf\\x95\\xe6\\x95\\xb0\\xe6\\x8d\\xae'"
      ]
     },
     "execution_count": 20,
     "metadata": {},
     "output_type": "execute_result"
    }
   ],
   "source": [
    "b_decode = base64.b64decode(b_encode)\n",
    "b_decode"
   ]
  },
  {
   "cell_type": "code",
   "execution_count": 21,
   "metadata": {},
   "outputs": [
    {
     "data": {
      "text/plain": [
       "'测试数据'"
      ]
     },
     "execution_count": 21,
     "metadata": {},
     "output_type": "execute_result"
    }
   ],
   "source": [
    "str(b_decode, encoding=\"utf-8\")"
   ]
  },
  {
   "cell_type": "markdown",
   "metadata": {},
   "source": [
    "## urlsafe"
   ]
  },
  {
   "cell_type": "code",
   "execution_count": 24,
   "metadata": {},
   "outputs": [
    {
     "data": {
      "text/plain": [
       "b'5rWL6K-V5pWw5o2u'"
      ]
     },
     "execution_count": 24,
     "metadata": {},
     "output_type": "execute_result"
    }
   ],
   "source": [
    "en_data2 = base64.urlsafe_b64encode(s)\n",
    "en_data2"
   ]
  },
  {
   "cell_type": "code",
   "execution_count": 25,
   "metadata": {},
   "outputs": [
    {
     "data": {
      "text/plain": [
       "b'\\xe6\\xb5\\x8b\\xe8\\xaf\\x95\\xe6\\x95\\xb0\\xe6\\x8d\\xae'"
      ]
     },
     "execution_count": 25,
     "metadata": {},
     "output_type": "execute_result"
    }
   ],
   "source": [
    "de_data2 = base64.urlsafe_b64decode(en_data2)\n",
    "de_data2"
   ]
  },
  {
   "cell_type": "code",
   "execution_count": 26,
   "metadata": {},
   "outputs": [
    {
     "data": {
      "text/plain": [
       "'测试数据'"
      ]
     },
     "execution_count": 26,
     "metadata": {},
     "output_type": "execute_result"
    }
   ],
   "source": [
    "str(de_data2, encoding=\"utf-8\")"
   ]
  }
 ],
 "metadata": {
  "kernelspec": {
   "display_name": ".venv",
   "language": "python",
   "name": "python3"
  },
  "language_info": {
   "codemirror_mode": {
    "name": "ipython",
    "version": 3
   },
   "file_extension": ".py",
   "mimetype": "text/x-python",
   "name": "python",
   "nbconvert_exporter": "python",
   "pygments_lexer": "ipython3",
   "version": "3.11.8"
  }
 },
 "nbformat": 4,
 "nbformat_minor": 2
}
