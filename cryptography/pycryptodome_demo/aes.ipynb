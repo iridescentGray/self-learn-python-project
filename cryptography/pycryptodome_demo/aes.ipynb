{
 "cells": [
  {
   "cell_type": "markdown",
   "metadata": {},
   "source": [
    "# 加密"
   ]
  },
  {
   "cell_type": "code",
   "execution_count": 1,
   "metadata": {},
   "outputs": [],
   "source": [
    "from Crypto.Cipher import AES"
   ]
  },
  {
   "cell_type": "code",
   "execution_count": 2,
   "metadata": {},
   "outputs": [],
   "source": [
    "SECRET_KEY = \"xob7JCGlzcKjrquW\"\n",
    "iv = '0102030405060708'\n",
    "cipher = AES.new(SECRET_KEY.encode(\"utf8\"), AES.MODE_CBC, iv.encode(\"utf8\"))\n",
    "pad = lambda s: s + ((16 - len(s) % 16) * chr(16 - len(s) % 16))"
   ]
  },
  {
   "cell_type": "code",
   "execution_count": 4,
   "metadata": {},
   "outputs": [
    {
     "data": {
      "text/plain": [
       "'PrnHeNTBRTxQrOsDWRlo2xFjUaDkFbgUwcUwg9tiy6U='"
      ]
     },
     "execution_count": 4,
     "metadata": {},
     "output_type": "execute_result"
    }
   ],
   "source": [
    "import base64\n",
    "\n",
    "\n",
    "s = \"The secret I want to send.\"\n",
    "s = pad(s)\n",
    "\n",
    "encrypt_res=base64.b64encode(cipher.encrypt(s.encode(\"utf8\"))).decode(\"utf8\")\n",
    "encrypt_res"
   ]
  },
  {
   "cell_type": "markdown",
   "metadata": {},
   "source": [
    "# 解密"
   ]
  },
  {
   "cell_type": "code",
   "execution_count": 6,
   "metadata": {},
   "outputs": [
    {
     "data": {
      "text/plain": [
       "'The secret I want to send.'"
      ]
     },
     "execution_count": 6,
     "metadata": {},
     "output_type": "execute_result"
    }
   ],
   "source": [
    "unpad = lambda s: s[: -ord(s[len(s) - 1 :])]\n",
    "cipher = AES.new(SECRET_KEY.encode(\"utf8\"), AES.MODE_CBC, iv.encode(\"utf8\"))\n",
    "s=cipher.decrypt(base64.decodebytes(encrypt_res.encode(\"utf8\")))\n",
    "unpad(s).decode(\"utf8\")"
   ]
  }
 ],
 "metadata": {
  "kernelspec": {
   "display_name": ".venv",
   "language": "python",
   "name": "python3"
  },
  "language_info": {
   "codemirror_mode": {
    "name": "ipython",
    "version": 3
   },
   "file_extension": ".py",
   "mimetype": "text/x-python",
   "name": "python",
   "nbconvert_exporter": "python",
   "pygments_lexer": "ipython3",
   "version": "3.11.8"
  }
 },
 "nbformat": 4,
 "nbformat_minor": 2
}
