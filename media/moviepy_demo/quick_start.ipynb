{
 "cells": [
  {
   "cell_type": "markdown",
   "metadata": {},
   "source": [
    "# quick start\n",
    "修改一个视频00:00:50 - 00:00:60片段的播放速度未0.8倍"
   ]
  },
  {
   "cell_type": "code",
   "execution_count": 1,
   "metadata": {},
   "outputs": [],
   "source": [
    "from moviepy.editor import *"
   ]
  },
  {
   "cell_type": "code",
   "execution_count": null,
   "metadata": {},
   "outputs": [],
   "source": [
    "# Load myHolidays.mp4 and select the subclip 00:00:50 - 00:00:60\n",
    "clip = VideoFileClip(\"input.mp4\").subclip(50, 60)\n",
    "\n",
    "# Reduce the audio volume (volume x 0.8)\n",
    "clip = clip.volumex(0.8)\n",
    "\n",
    "\n",
    "# Overlay the text clip on the first video clip\n",
    "video = CompositeVideoClip([clip])\n",
    "\n",
    "# Write the result to a file (many options available !)\n",
    "video.write_videofile(\"output.webm\")"
   ]
  },
  {
   "cell_type": "markdown",
   "metadata": {},
   "source": [
    "    MoviePy 使用ffmpeg 来读取和导出视频和音频文件\n",
    "![title](./resource/explanations.jpeg)"
   ]
  },
  {
   "cell_type": "markdown",
   "metadata": {},
   "source": [
    "# 核心对象"
   ]
  },
  {
   "cell_type": "markdown",
   "metadata": {},
   "source": [
    "* clips:  The core objects of MoviePy.\n",
    "  * Clips Classification: AudioClips or VideoClips\n",
    "    * can be previewed  using either PyGame or the IPython Notebook) and \n",
    "    * can be rendered to a file (as a MP4, a GIF, a MP3, etc.)"
   ]
  }
 ],
 "metadata": {
  "kernelspec": {
   "display_name": ".venv",
   "language": "python",
   "name": "python3"
  },
  "language_info": {
   "codemirror_mode": {
    "name": "ipython",
    "version": 3
   },
   "file_extension": ".py",
   "mimetype": "text/x-python",
   "name": "python",
   "nbconvert_exporter": "python",
   "pygments_lexer": "ipython3",
   "version": "3.11.8"
  }
 },
 "nbformat": 4,
 "nbformat_minor": 2
}
